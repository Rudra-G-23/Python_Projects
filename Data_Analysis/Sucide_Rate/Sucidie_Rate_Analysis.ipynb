{
 "cells": [
  {
   "cell_type": "markdown",
   "metadata": {},
   "source": [
    "<div style=\"font-family: 'Arial', sans-serif; font-size: 72px; background-color: #5a189a; color: #ffffff; padding: 20px; border-radius: 20px; text-align: center; box-shadow: 0 4px 10px rgba(0, 0, 0, 0.2);\">\n",
    "    About the Author\n",
    "</div>\n",
    "\n",
    "<div style=\"padding: 40px; max-width: 1000px; margin: 40px auto; background-color: #f9f9f9; border-radius: 15px; box-shadow: 0 4px 20px rgba(0, 0, 0, 0.1);\">\n",
    "    <p style=\"font-size: 130%; line-height: 1.8; color: #444;\">\n",
    "        Hello, Data Enthusiasts! 👋<br>\n",
    "        I'm <b style=\"color: #4682B4;\">Rudra Prasad Bhuyan</b>, a passionate Data Analyst on a mission to master the art of transforming raw data into valuable insights that drive decision-making and foster business growth.\n",
    "    </p>\n",
    "</div>\n",
    "\n",
    "<div style=\"text-align: center; padding: 20px; margin-top: 30px;\">\n",
    "    <p style=\"font-size: 120%; color: #444; line-height: 1.6;\">\n",
    "        Let’s connect and create amazing things together! <br>\n",
    "        Reach out to me on \n",
    "        <a href=\"https://www.linkedin.com/in/rudra-prasad-bhuyan-44a388235/\" target=\"_blank\" style=\"color: #0073b1; font-weight: bold; text-decoration: none;\">LinkedIn</a>, \n",
    "        check out my projects on \n",
    "        <a href=\"https://github.com/Rudra-G-23\" target=\"_blank\" style=\"color: #000; font-weight: bold; text-decoration: none;\">GitHub</a>, \n",
    "        or email me at \n",
    "        <a href=\"mailto:rudraprasadbhuyan999@gmail.com\" style=\"color: #D44638; font-weight: bold; text-decoration: none;\">rudraprasadbhuyan999@gmail.com</a>. <br>\n",
    "        I'm always excited to explore new opportunities, collaborate, or discuss all things data! 🧑‍💻😄\n",
    "    </p>\n",
    "</div>\n"
   ]
  },
  {
   "cell_type": "markdown",
   "metadata": {},
   "source": [
    "<div style=\"font-family: Arial, sans-serif; font-size: 69px; background-color: #5a189a; color: #ffffff; padding: 7px 15px; text-decoration: none; border-radius: 15px; text-align: center;\">Table of Content </div>"
   ]
  },
  {
   "cell_type": "markdown",
   "metadata": {},
   "source": [
    "# Table of Contents\n",
    "1. [📊 Understand the Data](#understand-the-data)\n",
    "2. [🧹 Data Cleaning](#data-cleaning)\n",
    "   1. [Best practice](#best-practice)\n",
    "   2. [D-Table](#best-practice)\n",
    "   3. [Auto-viz](#best-practice)\n",
    "3. [🔍 Analysis](#analysis)\n",
    "   1. [Correlation  Matrix ](#31)\n",
    "   2. [Each Year Suicide Rate of Both Gender](#32)\n",
    "   3. [Melt the DataFrame to a long format for easier plotting](#33)\n",
    "   4. [Suicide Rates for Males, and Females (2019-2021)](#34)\n",
    "4. [📈 Conclusion](#conclusion)\n"
   ]
  },
  {
   "cell_type": "markdown",
   "metadata": {},
   "source": [
    "<a id=\"understand-the-data\"></a>\n",
    "<div style=\"background-color: #48cae4; border-radius: 15px; padding: 20px; text-align: left;\">\n",
    "    <h1 style=\"margin: 0;\">\n",
    "        <b>\n",
    "            <span style=\"color: Black;\">Chapter One</span>\n",
    "            <span style=\"color: #ffffff;\">|</span>\n",
    "            <span style=\"color: #FEEC37;\"> Understand the Data 📊\n",
    "            </span>\n",
    "        </b>\n",
    "    </h1>\n",
    "    <br>\n",
    "    <a href=\"#table-of-contents\" style=\"font-family: Arial, sans-serif; font-size: 20px; background-color: #7b2cbf; color: #ffffff; padding: 7px 15px; text-decoration: none; border-radius: 15px;\">\n",
    "        [Table of Content 📜⬆️]\n",
    "    </a>\n",
    "</div>\n"
   ]
  },
  {
   "cell_type": "markdown",
   "metadata": {},
   "source": [
    "<a  style=\"font-family: Arial, sans-serif; font-size: 20px; background-color: #7b2cbf; color: #ffffff; padding: 7px 15px; text-decoration: none; border-radius: 15px;\">\n",
    "⭐ install all libraries \n",
    "<a>"
   ]
  },
  {
   "cell_type": "code",
   "execution_count": 1,
   "metadata": {},
   "outputs": [
    {
     "data": {
      "text/plain": [
       "'\\n!pip install numpy pandas matplotlib seaborn plotly missingno dtable autoviz\\n'"
      ]
     },
     "execution_count": 1,
     "metadata": {},
     "output_type": "execute_result"
    }
   ],
   "source": [
    "'''\n",
    "!pip install numpy pandas matplotlib seaborn plotly missingno dtable autoviz skimpy\n",
    "'''"
   ]
  },
  {
   "cell_type": "code",
   "execution_count": 9,
   "metadata": {},
   "outputs": [],
   "source": [
    "# import  Basic libraries \n",
    "import os\n",
    "import datetime as dt\n",
    "\n",
    "# import necessary data wrangling libraries \n",
    "import numpy as np  \n",
    "import pandas as pd\n",
    "\n",
    "# import fundamental libraries of viz\n",
    "import matplotlib.pyplot as plt\n",
    "import seaborn as sns\n",
    "\n",
    "# import advance libraries for dynamic graphs\n",
    "import plotly.express as px  \n",
    "import plotly.graph_objects as go  \n",
    "import plotly.figure_factory as ff\n",
    "from plotly.subplots import make_subplots\n",
    "\n",
    "# import some extra libraries for fast and advance analysis \n",
    "import missingno as msno\n",
    "from skimpy import skim\n",
    "\n",
    "# Remove warnings \n",
    "import warnings\n",
    "warnings.filterwarnings('ignore')"
   ]
  },
  {
   "cell_type": "code",
   "execution_count": 2,
   "metadata": {},
   "outputs": [
    {
     "data": {
      "text/html": [
       "<div>\n",
       "<style scoped>\n",
       "    .dataframe tbody tr th:only-of-type {\n",
       "        vertical-align: middle;\n",
       "    }\n",
       "\n",
       "    .dataframe tbody tr th {\n",
       "        vertical-align: top;\n",
       "    }\n",
       "\n",
       "    .dataframe thead th {\n",
       "        text-align: right;\n",
       "    }\n",
       "</style>\n",
       "<table border=\"1\" class=\"dataframe\">\n",
       "  <thead>\n",
       "    <tr style=\"text-align: right;\">\n",
       "      <th></th>\n",
       "      <th>country</th>\n",
       "      <th>SuicideRate_BothSexes_RatePer100k_2021</th>\n",
       "      <th>SuicideRate_Male_RatePer100k_2021</th>\n",
       "      <th>SuicideRate_Female_RatePer100k_2021</th>\n",
       "      <th>SuicideRate_BothSexes_RatePer100k_2020</th>\n",
       "      <th>SuicideRate_Male_RatePer100k_2020</th>\n",
       "      <th>SuicideRate_Female_RatePer100k_2020</th>\n",
       "      <th>SuicideRate_BothSexes_RatePer100k_2019</th>\n",
       "      <th>SuicideRate_Male_RatePer100k_2019</th>\n",
       "      <th>SuicideRate_Female_RatePer100k_2019</th>\n",
       "    </tr>\n",
       "  </thead>\n",
       "  <tbody>\n",
       "    <tr>\n",
       "      <th>26</th>\n",
       "      <td>Myanmar</td>\n",
       "      <td>3.57</td>\n",
       "      <td>6.06</td>\n",
       "      <td>1.26</td>\n",
       "      <td>3.56</td>\n",
       "      <td>6.02</td>\n",
       "      <td>1.27</td>\n",
       "      <td>2.9</td>\n",
       "      <td>4.9</td>\n",
       "      <td>1.1</td>\n",
       "    </tr>\n",
       "    <tr>\n",
       "      <th>124</th>\n",
       "      <td>Mauritania</td>\n",
       "      <td>3.55</td>\n",
       "      <td>4.98</td>\n",
       "      <td>2.16</td>\n",
       "      <td>3.46</td>\n",
       "      <td>4.85</td>\n",
       "      <td>2.12</td>\n",
       "      <td>3.1</td>\n",
       "      <td>4.0</td>\n",
       "      <td>2.2</td>\n",
       "    </tr>\n",
       "    <tr>\n",
       "      <th>51</th>\n",
       "      <td>Cameroon</td>\n",
       "      <td>7.16</td>\n",
       "      <td>11.35</td>\n",
       "      <td>2.97</td>\n",
       "      <td>7.20</td>\n",
       "      <td>11.43</td>\n",
       "      <td>2.99</td>\n",
       "      <td>9.0</td>\n",
       "      <td>13.6</td>\n",
       "      <td>4.4</td>\n",
       "    </tr>\n",
       "    <tr>\n",
       "      <th>63</th>\n",
       "      <td>Kazakhstan</td>\n",
       "      <td>18.20</td>\n",
       "      <td>30.96</td>\n",
       "      <td>6.19</td>\n",
       "      <td>18.03</td>\n",
       "      <td>30.58</td>\n",
       "      <td>6.22</td>\n",
       "      <td>17.6</td>\n",
       "      <td>29.0</td>\n",
       "      <td>6.8</td>\n",
       "    </tr>\n",
       "    <tr>\n",
       "      <th>34</th>\n",
       "      <td>Argentina</td>\n",
       "      <td>10.47</td>\n",
       "      <td>17.29</td>\n",
       "      <td>3.99</td>\n",
       "      <td>11.01</td>\n",
       "      <td>18.19</td>\n",
       "      <td>4.17</td>\n",
       "      <td>8.4</td>\n",
       "      <td>13.7</td>\n",
       "      <td>3.3</td>\n",
       "    </tr>\n",
       "    <tr>\n",
       "      <th>31</th>\n",
       "      <td>Spain</td>\n",
       "      <td>7.73</td>\n",
       "      <td>11.86</td>\n",
       "      <td>3.78</td>\n",
       "      <td>7.55</td>\n",
       "      <td>11.58</td>\n",
       "      <td>3.69</td>\n",
       "      <td>7.7</td>\n",
       "      <td>11.4</td>\n",
       "      <td>4.2</td>\n",
       "    </tr>\n",
       "    <tr>\n",
       "      <th>67</th>\n",
       "      <td>Somalia</td>\n",
       "      <td>5.78</td>\n",
       "      <td>7.11</td>\n",
       "      <td>4.39</td>\n",
       "      <td>5.85</td>\n",
       "      <td>7.20</td>\n",
       "      <td>4.45</td>\n",
       "      <td>7.9</td>\n",
       "      <td>12.0</td>\n",
       "      <td>3.8</td>\n",
       "    </tr>\n",
       "  </tbody>\n",
       "</table>\n",
       "</div>"
      ],
      "text/plain": [
       "        country  SuicideRate_BothSexes_RatePer100k_2021  \\\n",
       "26      Myanmar                                    3.57   \n",
       "124  Mauritania                                    3.55   \n",
       "51     Cameroon                                    7.16   \n",
       "63   Kazakhstan                                   18.20   \n",
       "34    Argentina                                   10.47   \n",
       "31        Spain                                    7.73   \n",
       "67      Somalia                                    5.78   \n",
       "\n",
       "     SuicideRate_Male_RatePer100k_2021  SuicideRate_Female_RatePer100k_2021  \\\n",
       "26                                6.06                                 1.26   \n",
       "124                               4.98                                 2.16   \n",
       "51                               11.35                                 2.97   \n",
       "63                               30.96                                 6.19   \n",
       "34                               17.29                                 3.99   \n",
       "31                               11.86                                 3.78   \n",
       "67                                7.11                                 4.39   \n",
       "\n",
       "     SuicideRate_BothSexes_RatePer100k_2020  \\\n",
       "26                                     3.56   \n",
       "124                                    3.46   \n",
       "51                                     7.20   \n",
       "63                                    18.03   \n",
       "34                                    11.01   \n",
       "31                                     7.55   \n",
       "67                                     5.85   \n",
       "\n",
       "     SuicideRate_Male_RatePer100k_2020  SuicideRate_Female_RatePer100k_2020  \\\n",
       "26                                6.02                                 1.27   \n",
       "124                               4.85                                 2.12   \n",
       "51                               11.43                                 2.99   \n",
       "63                               30.58                                 6.22   \n",
       "34                               18.19                                 4.17   \n",
       "31                               11.58                                 3.69   \n",
       "67                                7.20                                 4.45   \n",
       "\n",
       "     SuicideRate_BothSexes_RatePer100k_2019  \\\n",
       "26                                      2.9   \n",
       "124                                     3.1   \n",
       "51                                      9.0   \n",
       "63                                     17.6   \n",
       "34                                      8.4   \n",
       "31                                      7.7   \n",
       "67                                      7.9   \n",
       "\n",
       "     SuicideRate_Male_RatePer100k_2019  SuicideRate_Female_RatePer100k_2019  \n",
       "26                                 4.9                                  1.1  \n",
       "124                                4.0                                  2.2  \n",
       "51                                13.6                                  4.4  \n",
       "63                                29.0                                  6.8  \n",
       "34                                13.7                                  3.3  \n",
       "31                                11.4                                  4.2  \n",
       "67                                12.0                                  3.8  "
      ]
     },
     "execution_count": 2,
     "metadata": {},
     "output_type": "execute_result"
    }
   ],
   "source": [
    "source = r'C:\\Users\\Rudra\\Downloads\\Python_Pandas_profiling\\Sucide_Rate\\suicide-rate-by-country-2024.csv'\n",
    "df = pd.read_csv(source, encoding= 'unicode_escape')\n",
    "df.sample(7)"
   ]
  },
  {
   "cell_type": "code",
   "execution_count": 4,
   "metadata": {},
   "outputs": [
    {
     "name": "stdout",
     "output_type": "stream",
     "text": [
      "The size of the DataFrame: 2040 \n",
      "\n",
      "The Shape of the DataFrame (204, 10) \n",
      "\n",
      "Available columns in the DataFrame: Index(['country', 'SuicideRate_BothSexes_RatePer100k_2021',\n",
      "       'SuicideRate_Male_RatePer100k_2021',\n",
      "       'SuicideRate_Female_RatePer100k_2021',\n",
      "       'SuicideRate_BothSexes_RatePer100k_2020',\n",
      "       'SuicideRate_Male_RatePer100k_2020',\n",
      "       'SuicideRate_Female_RatePer100k_2020',\n",
      "       'SuicideRate_BothSexes_RatePer100k_2019',\n",
      "       'SuicideRate_Male_RatePer100k_2019',\n",
      "       'SuicideRate_Female_RatePer100k_2019'],\n",
      "      dtype='object')\n",
      "\n",
      "Estimated memory size: 0.03 MB\n"
     ]
    }
   ],
   "source": [
    "print(\"The size of the DataFrame:\",df.size, '\\n')\n",
    "print('The Shape of the DataFrame', df.shape, '\\n')\n",
    "print(\"Available columns in the DataFrame:\", df.columns)\n",
    "\n",
    "# Calculate memory usage of the DataFrame\n",
    "memory_size = df.memory_usage(deep=True).sum()\n",
    "memory_size_mb = memory_size / (1024 ** 2)\n",
    "print(f\"\\nEstimated memory size: {memory_size_mb:.2f} MB\")\n"
   ]
  },
  {
   "cell_type": "code",
   "execution_count": 5,
   "metadata": {},
   "outputs": [
    {
     "name": "stdout",
     "output_type": "stream",
     "text": [
      "<class 'pandas.core.frame.DataFrame'>\n",
      "RangeIndex: 204 entries, 0 to 203\n",
      "Data columns (total 10 columns):\n",
      " #   Column                                  Non-Null Count  Dtype  \n",
      "---  ------                                  --------------  -----  \n",
      " 0   country                                 204 non-null    object \n",
      " 1   SuicideRate_BothSexes_RatePer100k_2021  204 non-null    float64\n",
      " 2   SuicideRate_Male_RatePer100k_2021       204 non-null    float64\n",
      " 3   SuicideRate_Female_RatePer100k_2021     204 non-null    float64\n",
      " 4   SuicideRate_BothSexes_RatePer100k_2020  204 non-null    float64\n",
      " 5   SuicideRate_Male_RatePer100k_2020       204 non-null    float64\n",
      " 6   SuicideRate_Female_RatePer100k_2020     204 non-null    float64\n",
      " 7   SuicideRate_BothSexes_RatePer100k_2019  183 non-null    float64\n",
      " 8   SuicideRate_Male_RatePer100k_2019       182 non-null    float64\n",
      " 9   SuicideRate_Female_RatePer100k_2019     183 non-null    float64\n",
      "dtypes: float64(9), object(1)\n",
      "memory usage: 16.1+ KB\n"
     ]
    }
   ],
   "source": [
    "df.info(verbose=True)"
   ]
  },
  {
   "cell_type": "code",
   "execution_count": 6,
   "metadata": {},
   "outputs": [
    {
     "data": {
      "text/html": [
       "<div>\n",
       "<style scoped>\n",
       "    .dataframe tbody tr th:only-of-type {\n",
       "        vertical-align: middle;\n",
       "    }\n",
       "\n",
       "    .dataframe tbody tr th {\n",
       "        vertical-align: top;\n",
       "    }\n",
       "\n",
       "    .dataframe thead th {\n",
       "        text-align: right;\n",
       "    }\n",
       "</style>\n",
       "<table border=\"1\" class=\"dataframe\">\n",
       "  <thead>\n",
       "    <tr style=\"text-align: right;\">\n",
       "      <th></th>\n",
       "      <th>count</th>\n",
       "      <th>unique</th>\n",
       "      <th>top</th>\n",
       "      <th>freq</th>\n",
       "      <th>mean</th>\n",
       "      <th>std</th>\n",
       "      <th>min</th>\n",
       "      <th>25%</th>\n",
       "      <th>50%</th>\n",
       "      <th>75%</th>\n",
       "      <th>max</th>\n",
       "    </tr>\n",
       "  </thead>\n",
       "  <tbody>\n",
       "    <tr>\n",
       "      <th>country</th>\n",
       "      <td>204</td>\n",
       "      <td>204</td>\n",
       "      <td>India</td>\n",
       "      <td>1</td>\n",
       "      <td>NaN</td>\n",
       "      <td>NaN</td>\n",
       "      <td>NaN</td>\n",
       "      <td>NaN</td>\n",
       "      <td>NaN</td>\n",
       "      <td>NaN</td>\n",
       "      <td>NaN</td>\n",
       "    </tr>\n",
       "    <tr>\n",
       "      <th>SuicideRate_BothSexes_RatePer100k_2021</th>\n",
       "      <td>204.0</td>\n",
       "      <td>NaN</td>\n",
       "      <td>NaN</td>\n",
       "      <td>NaN</td>\n",
       "      <td>9.525931</td>\n",
       "      <td>6.802563</td>\n",
       "      <td>0.78</td>\n",
       "      <td>5.09</td>\n",
       "      <td>7.885</td>\n",
       "      <td>12.9125</td>\n",
       "      <td>59.62</td>\n",
       "    </tr>\n",
       "    <tr>\n",
       "      <th>SuicideRate_Male_RatePer100k_2021</th>\n",
       "      <td>204.0</td>\n",
       "      <td>NaN</td>\n",
       "      <td>NaN</td>\n",
       "      <td>NaN</td>\n",
       "      <td>14.802304</td>\n",
       "      <td>10.840661</td>\n",
       "      <td>1.18</td>\n",
       "      <td>7.5775</td>\n",
       "      <td>12.205</td>\n",
       "      <td>19.8575</td>\n",
       "      <td>86.96</td>\n",
       "    </tr>\n",
       "    <tr>\n",
       "      <th>SuicideRate_Female_RatePer100k_2021</th>\n",
       "      <td>204.0</td>\n",
       "      <td>NaN</td>\n",
       "      <td>NaN</td>\n",
       "      <td>NaN</td>\n",
       "      <td>4.358284</td>\n",
       "      <td>3.311081</td>\n",
       "      <td>0.3</td>\n",
       "      <td>2.2625</td>\n",
       "      <td>3.54</td>\n",
       "      <td>5.785</td>\n",
       "      <td>29.4</td>\n",
       "    </tr>\n",
       "    <tr>\n",
       "      <th>SuicideRate_BothSexes_RatePer100k_2020</th>\n",
       "      <td>204.0</td>\n",
       "      <td>NaN</td>\n",
       "      <td>NaN</td>\n",
       "      <td>NaN</td>\n",
       "      <td>13.669951</td>\n",
       "      <td>58.351062</td>\n",
       "      <td>0.77</td>\n",
       "      <td>5.075</td>\n",
       "      <td>8.015</td>\n",
       "      <td>13.0375</td>\n",
       "      <td>837.0</td>\n",
       "    </tr>\n",
       "    <tr>\n",
       "      <th>SuicideRate_Male_RatePer100k_2020</th>\n",
       "      <td>204.0</td>\n",
       "      <td>NaN</td>\n",
       "      <td>NaN</td>\n",
       "      <td>NaN</td>\n",
       "      <td>14.922108</td>\n",
       "      <td>11.127588</td>\n",
       "      <td>1.18</td>\n",
       "      <td>7.5</td>\n",
       "      <td>12.41</td>\n",
       "      <td>19.8975</td>\n",
       "      <td>94.39</td>\n",
       "    </tr>\n",
       "    <tr>\n",
       "      <th>SuicideRate_Female_RatePer100k_2020</th>\n",
       "      <td>204.0</td>\n",
       "      <td>NaN</td>\n",
       "      <td>NaN</td>\n",
       "      <td>NaN</td>\n",
       "      <td>4.400539</td>\n",
       "      <td>3.402186</td>\n",
       "      <td>0.29</td>\n",
       "      <td>2.2825</td>\n",
       "      <td>3.52</td>\n",
       "      <td>5.9</td>\n",
       "      <td>31.59</td>\n",
       "    </tr>\n",
       "    <tr>\n",
       "      <th>SuicideRate_BothSexes_RatePer100k_2019</th>\n",
       "      <td>183.0</td>\n",
       "      <td>NaN</td>\n",
       "      <td>NaN</td>\n",
       "      <td>NaN</td>\n",
       "      <td>9.455191</td>\n",
       "      <td>7.98962</td>\n",
       "      <td>0.4</td>\n",
       "      <td>4.6</td>\n",
       "      <td>7.5</td>\n",
       "      <td>11.85</td>\n",
       "      <td>72.4</td>\n",
       "    </tr>\n",
       "    <tr>\n",
       "      <th>SuicideRate_Male_RatePer100k_2019</th>\n",
       "      <td>182.0</td>\n",
       "      <td>NaN</td>\n",
       "      <td>NaN</td>\n",
       "      <td>NaN</td>\n",
       "      <td>14.732418</td>\n",
       "      <td>13.108952</td>\n",
       "      <td>0.6</td>\n",
       "      <td>6.825</td>\n",
       "      <td>11.35</td>\n",
       "      <td>17.975</td>\n",
       "      <td>116.0</td>\n",
       "    </tr>\n",
       "    <tr>\n",
       "      <th>SuicideRate_Female_RatePer100k_2019</th>\n",
       "      <td>183.0</td>\n",
       "      <td>NaN</td>\n",
       "      <td>NaN</td>\n",
       "      <td>NaN</td>\n",
       "      <td>4.35082</td>\n",
       "      <td>3.531769</td>\n",
       "      <td>0.3</td>\n",
       "      <td>2.0</td>\n",
       "      <td>3.3</td>\n",
       "      <td>6.05</td>\n",
       "      <td>30.1</td>\n",
       "    </tr>\n",
       "  </tbody>\n",
       "</table>\n",
       "</div>"
      ],
      "text/plain": [
       "                                        count unique    top freq       mean  \\\n",
       "country                                   204    204  India    1        NaN   \n",
       "SuicideRate_BothSexes_RatePer100k_2021  204.0    NaN    NaN  NaN   9.525931   \n",
       "SuicideRate_Male_RatePer100k_2021       204.0    NaN    NaN  NaN  14.802304   \n",
       "SuicideRate_Female_RatePer100k_2021     204.0    NaN    NaN  NaN   4.358284   \n",
       "SuicideRate_BothSexes_RatePer100k_2020  204.0    NaN    NaN  NaN  13.669951   \n",
       "SuicideRate_Male_RatePer100k_2020       204.0    NaN    NaN  NaN  14.922108   \n",
       "SuicideRate_Female_RatePer100k_2020     204.0    NaN    NaN  NaN   4.400539   \n",
       "SuicideRate_BothSexes_RatePer100k_2019  183.0    NaN    NaN  NaN   9.455191   \n",
       "SuicideRate_Male_RatePer100k_2019       182.0    NaN    NaN  NaN  14.732418   \n",
       "SuicideRate_Female_RatePer100k_2019     183.0    NaN    NaN  NaN    4.35082   \n",
       "\n",
       "                                              std   min     25%     50%  \\\n",
       "country                                       NaN   NaN     NaN     NaN   \n",
       "SuicideRate_BothSexes_RatePer100k_2021   6.802563  0.78    5.09   7.885   \n",
       "SuicideRate_Male_RatePer100k_2021       10.840661  1.18  7.5775  12.205   \n",
       "SuicideRate_Female_RatePer100k_2021      3.311081   0.3  2.2625    3.54   \n",
       "SuicideRate_BothSexes_RatePer100k_2020  58.351062  0.77   5.075   8.015   \n",
       "SuicideRate_Male_RatePer100k_2020       11.127588  1.18     7.5   12.41   \n",
       "SuicideRate_Female_RatePer100k_2020      3.402186  0.29  2.2825    3.52   \n",
       "SuicideRate_BothSexes_RatePer100k_2019    7.98962   0.4     4.6     7.5   \n",
       "SuicideRate_Male_RatePer100k_2019       13.108952   0.6   6.825   11.35   \n",
       "SuicideRate_Female_RatePer100k_2019      3.531769   0.3     2.0     3.3   \n",
       "\n",
       "                                            75%    max  \n",
       "country                                     NaN    NaN  \n",
       "SuicideRate_BothSexes_RatePer100k_2021  12.9125  59.62  \n",
       "SuicideRate_Male_RatePer100k_2021       19.8575  86.96  \n",
       "SuicideRate_Female_RatePer100k_2021       5.785   29.4  \n",
       "SuicideRate_BothSexes_RatePer100k_2020  13.0375  837.0  \n",
       "SuicideRate_Male_RatePer100k_2020       19.8975  94.39  \n",
       "SuicideRate_Female_RatePer100k_2020         5.9  31.59  \n",
       "SuicideRate_BothSexes_RatePer100k_2019    11.85   72.4  \n",
       "SuicideRate_Male_RatePer100k_2019        17.975  116.0  \n",
       "SuicideRate_Female_RatePer100k_2019        6.05   30.1  "
      ]
     },
     "execution_count": 6,
     "metadata": {},
     "output_type": "execute_result"
    }
   ],
   "source": [
    "df.describe(include='all').T"
   ]
  },
  {
   "cell_type": "markdown",
   "metadata": {},
   "source": [
    "\n",
    "<a id=\"data-cleaning\"></a>\n",
    "<div style=\"background-color: #48cae4; border-radius: 15px; padding: 20px; text-align: left;\">\n",
    "    <h1 style=\"margin: 0;\">\n",
    "        <b>\n",
    "            <span style=\"color: Black;\">Chapter Two</span>\n",
    "            <span style=\"color: #ffffff;\">|</span>\n",
    "            <span style=\"color: #FEEC37;\"> Data Cleaning 🧹\n",
    "            </span>\n",
    "        </b>\n",
    "    </h1>\n",
    "    <br>\n",
    "    <a href=\"#table-of-contents\" style=\"font-family: Arial, sans-serif; font-size: 20px; background-color: #7b2cbf; color: #ffffff; padding: 7px 15px; text-decoration: none; border-radius: 15px;\">\n",
    "        [Table of Content 📜⬆️]\n",
    "    </a>\n",
    "</div>\n"
   ]
  },
  {
   "cell_type": "code",
   "execution_count": 7,
   "metadata": {},
   "outputs": [
    {
     "data": {
      "text/plain": [
       "0"
      ]
     },
     "execution_count": 7,
     "metadata": {},
     "output_type": "execute_result"
    }
   ],
   "source": [
    "df.duplicated().sum()"
   ]
  },
  {
   "cell_type": "code",
   "execution_count": 8,
   "metadata": {},
   "outputs": [
    {
     "data": {
      "text/plain": [
       "country                                    0\n",
       "SuicideRate_BothSexes_RatePer100k_2021     0\n",
       "SuicideRate_Male_RatePer100k_2021          0\n",
       "SuicideRate_Female_RatePer100k_2021        0\n",
       "SuicideRate_BothSexes_RatePer100k_2020     0\n",
       "SuicideRate_Male_RatePer100k_2020          0\n",
       "SuicideRate_Female_RatePer100k_2020        0\n",
       "SuicideRate_BothSexes_RatePer100k_2019    21\n",
       "SuicideRate_Male_RatePer100k_2019         22\n",
       "SuicideRate_Female_RatePer100k_2019       21\n",
       "dtype: int64"
      ]
     },
     "execution_count": 8,
     "metadata": {},
     "output_type": "execute_result"
    }
   ],
   "source": [
    "df.isnull().sum()"
   ]
  },
  {
   "cell_type": "code",
   "execution_count": 9,
   "metadata": {},
   "outputs": [
    {
     "data": {
      "text/plain": [
       "<Axes: >"
      ]
     },
     "execution_count": 9,
     "metadata": {},
     "output_type": "execute_result"
    },
    {
     "data": {
      "image/png": "[encoded data removed]",
      "text/plain": [
       "<Figure size 2500x1000 with 2 Axes>"
      ]
     },
     "metadata": {},
     "output_type": "display_data"
    }
   ],
   "source": [
    "msno.matrix(df)"
   ]
  },
  {
   "cell_type": "markdown",
   "metadata": {},
   "source": [
    "<a id=\"best-practice\"></a>\n",
    "<div style=\"background-color: #48cae4; border-radius: 15px; padding: 20px; text-align: left;\">\n",
    "<p style=\"color: Black;\">\n",
    "   ⭐ <b>Best Practices <b>\n",
    "   <pre  style=\"color: Black; font-size: 20px;\">\n",
    "   1.Before clean the data have a copy of Original Data.\n",
    "\n",
    "   </pre>\n",
    "</p>\n",
    "    <a href=\"#table-of-contents\" style=\"font-family: Arial, sans-serif; font-size: 20px; background-color: #7b2cbf; color: #ffffff; padding: 7px 15px; text-decoration: none; border-radius: 15px;\">\n",
    "        [Table of Content 📜⬆️]\n",
    "    </a>\n",
    "</div>"
   ]
  },
  {
   "cell_type": "code",
   "execution_count": 10,
   "metadata": {},
   "outputs": [],
   "source": [
    "dfc = df.copy()"
   ]
  },
  {
   "cell_type": "code",
   "execution_count": 11,
   "metadata": {},
   "outputs": [],
   "source": [
    "dfc.dropna(inplace=True)"
   ]
  },
  {
   "cell_type": "markdown",
   "metadata": {},
   "source": [
    "<div  style=\"font-family: Arial, sans-serif; font-size: 20px; background-color: #7b2cbf; color: #ffffff; padding: 7px 15px; text-decoration: none; border-radius: 15px;\">⭐ More details and fast Analysis use dtable libraries </div>\n"
   ]
  },
  {
   "cell_type": "code",
   "execution_count": null,
   "metadata": {},
   "outputs": [],
   "source": [
    "# Launch D-Tale\n",
    "'''\n",
    "import dtable \n",
    "d = dtale.show(df)\n",
    "d.open_browser()  # Open the visualization in your default browser\n",
    "'''"
   ]
  },
  {
   "cell_type": "markdown",
   "metadata": {},
   "source": [
    "<div  style=\"font-family: Arial, sans-serif; font-size: 20px; background-color: #7b2cbf; color: #ffffff; padding: 7px 15px; text-decoration: none; border-radius: 15px;\">⭐Ato generate the graph for more fast & speed up Analysis </div>"
   ]
  },
  {
   "cell_type": "code",
   "execution_count": null,
   "metadata": {},
   "outputs": [],
   "source": [
    "'''\n",
    "from autoviz.AutoViz_Class import AutoViz_ClassAV = AutoViz_Class()\n",
    "df_auto = AV.AutoViz(\n",
    "    filename='', \n",
    "    dfte=df, \n",
    "    depVar='', \n",
    "    chart_format='png', \n",
    "    verbose=2\n",
    ")\n",
    "'''"
   ]
  },
  {
   "cell_type": "markdown",
   "metadata": {},
   "source": [
    "<a id=\"analysis\"></a>\n",
    "<div style=\"background-color: #48cae4; border-radius: 15px; padding: 20px; text-align: left;\">\n",
    "    <h1 style=\"margin: 0;\">\n",
    "        <b>\n",
    "            <span style=\"color: Black;\">Chapter Three</span>\n",
    "            <span style=\"color: #ffffff;\">|</span>\n",
    "            <span style=\"color: #FEEC37;\"> Analysis 🔍\n",
    "            </span>\n",
    "        </b>\n",
    "    </h1>\n",
    "    <br>\n",
    "    <a href=\"#table-of-contents\" style=\"font-family: Arial, sans-serif; font-size: 20px; background-color: #7b2cbf; color: #ffffff; padding: 7px 15px; text-decoration: none; border-radius: 15px;\">\n",
    "        [Table of Content 📜⬆️]\n",
    "    </a>\n",
    "</div>\n"
   ]
  },
  {
   "cell_type": "markdown",
   "metadata": {},
   "source": [
    "<a id=\"31\"></a>\n",
    "### <div style=\"text-align:left; border-radius:15px; padding:20px; color:Black; margin:0; font-size:100%; font-family:Arial; background-color:#48cae4; overflow:hidden\"><b>⚡ 1. Correlation  Matrix </b>\n",
    "<a href=\"#table-of-contents\" style=\"font-family: Arial, sans-serif; font-size: 15px; background-color: #7b2cbf; color: #ffffff; padding: 7px 15px; text-decoration: none; border-radius: 15px;\">\n",
    "        [Table of Content 📜⬆️]\n",
    "</a>\n",
    "</div>"
   ]
  },
  {
   "cell_type": "code",
   "execution_count": 14,
   "metadata": {},
   "outputs": [
    {
     "data": {
      "application/vnd.plotly.v1+json": {
       "config": {
        "plotlyServerURL": "https://plot.ly"
       },
       "data": [
        {
         "coloraxis": "coloraxis",
         "hovertemplate": "x: %{x}<br>y: %{y}<br>color: %{z}<extra></extra>",
         "name": "0",
         "texttemplate": "%{z}",
         "type": "heatmap",
         "x": [
          "SuicideRate_BothSexes_RatePer100k_2021",
          "SuicideRate_Male_RatePer100k_2021",
          "SuicideRate_Female_RatePer100k_2021",
          "SuicideRate_BothSexes_RatePer100k_2020",
          "SuicideRate_Male_RatePer100k_2020",
          "SuicideRate_Female_RatePer100k_2020",
          "SuicideRate_BothSexes_RatePer100k_2019",
          "SuicideRate_Male_RatePer100k_2019",
          "SuicideRate_Female_RatePer100k_2019"
         ],
         "xaxis": "x",
         "y": [
          "SuicideRate_BothSexes_RatePer100k_2021",
          "SuicideRate_Male_RatePer100k_2021",
          "SuicideRate_Female_RatePer100k_2021",
          "SuicideRate_BothSexes_RatePer100k_2020",
          "SuicideRate_Male_RatePer100k_2020",
          "SuicideRate_Female_RatePer100k_2020",
          "SuicideRate_BothSexes_RatePer100k_2019",
          "SuicideRate_Male_RatePer100k_2019",
          "SuicideRate_Female_RatePer100k_2019"
         ],
         "yaxis": "y",
         "z": [
          [
           1,
           0.9876597030674246,
           0.9048732185140792,
           0.10730099244113676,
           0.9872081917304089,
           0.9056290742305574,
           0.8249751792637603,
           0.8259415563670486,
           0.750801063187608
          ],
          [
           0.9876597030674246,
           1,
           0.8299873888423128,
           0.1118549343981926,
           0.9969451283315334,
           0.8301849602455423,
           0.8130195336559782,
           0.8282832239321424,
           0.6962671551767287
          ],
          [
           0.9048732185140792,
           0.8299873888423128,
           1,
           0.08108060339730475,
           0.8336096111458504,
           0.9983465713796573,
           0.7254369707860318,
           0.6810562338390005,
           0.8096273922914005
          ],
          [
           0.10730099244113676,
           0.1118549343981926,
           0.08108060339730475,
           1,
           0.11264130914651002,
           0.08165379441186153,
           0.04013496422854552,
           0.04609145093947991,
           0.015021869026709595
          ],
          [
           0.9872081917304089,
           0.9969451283315334,
           0.8336096111458504,
           0.11264130914651002,
           1,
           0.8370959810807862,
           0.8157313930263643,
           0.830898449298792,
           0.6974503232928688
          ],
          [
           0.9056290742305574,
           0.8301849602455423,
           0.9983465713796573,
           0.08165379441186153,
           0.8370959810807862,
           1,
           0.7291164119799189,
           0.684419817483101,
           0.8121938839970639
          ],
          [
           0.8249751792637603,
           0.8130195336559782,
           0.7254369707860318,
           0.04013496422854552,
           0.8157313930263643,
           0.7291164119799189,
           1,
           0.9920991225976845,
           0.9102289457703098
          ],
          [
           0.8259415563670486,
           0.8282832239321424,
           0.6810562338390005,
           0.04609145093947991,
           0.830898449298792,
           0.684419817483101,
           0.9920991225976845,
           1,
           0.8535159459548725
          ],
          [
           0.750801063187608,
           0.6962671551767287,
           0.8096273922914005,
           0.015021869026709595,
           0.6974503232928688,
           0.8121938839970639,
           0.9102289457703098,
           0.8535159459548725,
           1
          ]
         ]
        }
       ],
       "layout": {
        "coloraxis": {
         "colorscale": [
          [
           0,
           "#440154"
          ],
          [
           0.1111111111111111,
           "#482878"
          ],
          [
           0.2222222222222222,
           "#3e4989"
          ],
          [
           0.3333333333333333,
           "#31688e"
          ],
          [
           0.4444444444444444,
           "#26828e"
          ],
          [
           0.5555555555555556,
           "#1f9e89"
          ],
          [
           0.6666666666666666,
           "#35b779"
          ],
          [
           0.7777777777777778,
           "#6ece58"
          ],
          [
           0.8888888888888888,
           "#b5de2b"
          ],
          [
           1,
           "#fde725"
          ]
         ]
        },
        "template": {
         "data": {
          "bar": [
           {
            "error_x": {
             "color": "#2a3f5f"
            },
            "error_y": {
             "color": "#2a3f5f"
            },
            "marker": {
             "line": {
              "color": "#E5ECF6",
              "width": 0.5
             },
             "pattern": {
              "fillmode": "overlay",
              "size": 10,
              "solidity": 0.2
             }
            },
            "type": "bar"
           }
          ],
          "barpolar": [
           {
            "marker": {
             "line": {
              "color": "#E5ECF6",
              "width": 0.5
             },
             "pattern": {
              "fillmode": "overlay",
              "size": 10,
              "solidity": 0.2
             }
            },
            "type": "barpolar"
           }
          ],
          "carpet": [
           {
            "aaxis": {
             "endlinecolor": "#2a3f5f",
             "gridcolor": "white",
             "linecolor": "white",
             "minorgridcolor": "white",
             "startlinecolor": "#2a3f5f"
            },
            "baxis": {
             "endlinecolor": "#2a3f5f",
             "gridcolor": "white",
             "linecolor": "white",
             "minorgridcolor": "white",
             "startlinecolor": "#2a3f5f"
            },
            "type": "carpet"
           }
          ],
          "choropleth": [
           {
            "colorbar": {
             "outlinewidth": 0,
             "ticks": ""
            },
            "type": "choropleth"
           }
          ],
          "contour": [
           {
            "colorbar": {
             "outlinewidth": 0,
             "ticks": ""
            },
            "colorscale": [
             [
              0,
              "#0d0887"
             ],
             [
              0.1111111111111111,
              "#46039f"
             ],
             [
              0.2222222222222222,
              "#7201a8"
             ],
             [
              0.3333333333333333,
              "#9c179e"
             ],
             [
              0.4444444444444444,
              "#bd3786"
             ],
             [
              0.5555555555555556,
              "#d8576b"
             ],
             [
              0.6666666666666666,
              "#ed7953"
             ],
             [
              0.7777777777777778,
              "#fb9f3a"
             ],
             [
              0.8888888888888888,
              "#fdca26"
             ],
             [
              1,
              "#f0f921"
             ]
            ],
            "type": "contour"
           }
          ],
          "contourcarpet": [
           {
            "colorbar": {
             "outlinewidth": 0,
             "ticks": ""
            },
            "type": "contourcarpet"
           }
          ],
          "heatmap": [
           {
            "colorbar": {
             "outlinewidth": 0,
             "ticks": ""
            },
            "colorscale": [
             [
              0,
              "#0d0887"
             ],
             [
              0.1111111111111111,
              "#46039f"
             ],
             [
              0.2222222222222222,
              "#7201a8"
             ],
             [
              0.3333333333333333,
              "#9c179e"
             ],
             [
              0.4444444444444444,
              "#bd3786"
             ],
             [
              0.5555555555555556,
              "#d8576b"
             ],
             [
              0.6666666666666666,
              "#ed7953"
             ],
             [
              0.7777777777777778,
              "#fb9f3a"
             ],
             [
              0.8888888888888888,
              "#fdca26"
             ],
             [
              1,
              "#f0f921"
             ]
            ],
            "type": "heatmap"
           }
          ],
          "heatmapgl": [
           {
            "colorbar": {
             "outlinewidth": 0,
             "ticks": ""
            },
            "colorscale": [
             [
              0,
              "#0d0887"
             ],
             [
              0.1111111111111111,
              "#46039f"
             ],
             [
              0.2222222222222222,
              "#7201a8"
             ],
             [
              0.3333333333333333,
              "#9c179e"
             ],
             [
              0.4444444444444444,
              "#bd3786"
             ],
             [
              0.5555555555555556,
              "#d8576b"
             ],
             [
              0.6666666666666666,
              "#ed7953"
             ],
             [
              0.7777777777777778,
              "#fb9f3a"
             ],
             [
              0.8888888888888888,
              "#fdca26"
             ],
             [
              1,
              "#f0f921"
             ]
            ],
            "type": "heatmapgl"
           }
          ],
          "histogram": [
           {
            "marker": {
             "pattern": {
              "fillmode": "overlay",
              "size": 10,
              "solidity": 0.2
             }
            },
            "type": "histogram"
           }
          ],
          "histogram2d": [
           {
            "colorbar": {
             "outlinewidth": 0,
             "ticks": ""
            },
            "colorscale": [
             [
              0,
              "#0d0887"
             ],
             [
              0.1111111111111111,
              "#46039f"
             ],
             [
              0.2222222222222222,
              "#7201a8"
             ],
             [
              0.3333333333333333,
              "#9c179e"
             ],
             [
              0.4444444444444444,
              "#bd3786"
             ],
             [
              0.5555555555555556,
              "#d8576b"
             ],
             [
              0.6666666666666666,
              "#ed7953"
             ],
             [
              0.7777777777777778,
              "#fb9f3a"
             ],
             [
              0.8888888888888888,
              "#fdca26"
             ],
             [
              1,
              "#f0f921"
             ]
            ],
            "type": "histogram2d"
           }
          ],
          "histogram2dcontour": [
           {
            "colorbar": {
             "outlinewidth": 0,
             "ticks": ""
            },
            "colorscale": [
             [
              0,
              "#0d0887"
             ],
             [
              0.1111111111111111,
              "#46039f"
             ],
             [
              0.2222222222222222,
              "#7201a8"
             ],
             [
              0.3333333333333333,
              "#9c179e"
             ],
             [
              0.4444444444444444,
              "#bd3786"
             ],
             [
              0.5555555555555556,
              "#d8576b"
             ],
             [
              0.6666666666666666,
              "#ed7953"
             ],
             [
              0.7777777777777778,
              "#fb9f3a"
             ],
             [
              0.8888888888888888,
              "#fdca26"
             ],
             [
              1,
              "#f0f921"
             ]
            ],
            "type": "histogram2dcontour"
           }
          ],
          "mesh3d": [
           {
            "colorbar": {
             "outlinewidth": 0,
             "ticks": ""
            },
            "type": "mesh3d"
           }
          ],
          "parcoords": [
           {
            "line": {
             "colorbar": {
              "outlinewidth": 0,
              "ticks": ""
             }
            },
            "type": "parcoords"
           }
          ],
          "pie": [
           {
            "automargin": true,
            "type": "pie"
           }
          ],
          "scatter": [
           {
            "fillpattern": {
             "fillmode": "overlay",
             "size": 10,
             "solidity": 0.2
            },
            "type": "scatter"
           }
          ],
          "scatter3d": [
           {
            "line": {
             "colorbar": {
              "outlinewidth": 0,
              "ticks": ""
             }
            },
            "marker": {
             "colorbar": {
              "outlinewidth": 0,
              "ticks": ""
             }
            },
            "type": "scatter3d"
           }
          ],
          "scattercarpet": [
           {
            "marker": {
             "colorbar": {
              "outlinewidth": 0,
              "ticks": ""
             }
            },
            "type": "scattercarpet"
           }
          ],
          "scattergeo": [
           {
            "marker": {
             "colorbar": {
              "outlinewidth": 0,
              "ticks": ""
             }
            },
            "type": "scattergeo"
           }
          ],
          "scattergl": [
           {
            "marker": {
             "colorbar": {
              "outlinewidth": 0,
              "ticks": ""
             }
            },
            "type": "scattergl"
           }
          ],
          "scattermapbox": [
           {
            "marker": {
             "colorbar": {
              "outlinewidth": 0,
              "ticks": ""
             }
            },
            "type": "scattermapbox"
           }
          ],
          "scatterpolar": [
           {
            "marker": {
             "colorbar": {
              "outlinewidth": 0,
              "ticks": ""
             }
            },
            "type": "scatterpolar"
           }
          ],
          "scatterpolargl": [
           {
            "marker": {
             "colorbar": {
              "outlinewidth": 0,
              "ticks": ""
             }
            },
            "type": "scatterpolargl"
           }
          ],
          "scatterternary": [
           {
            "marker": {
             "colorbar": {
              "outlinewidth": 0,
              "ticks": ""
             }
            },
            "type": "scatterternary"
           }
          ],
          "surface": [
           {
            "colorbar": {
             "outlinewidth": 0,
             "ticks": ""
            },
            "colorscale": [
             [
              0,
              "#0d0887"
             ],
             [
              0.1111111111111111,
              "#46039f"
             ],
             [
              0.2222222222222222,
              "#7201a8"
             ],
             [
              0.3333333333333333,
              "#9c179e"
             ],
             [
              0.4444444444444444,
              "#bd3786"
             ],
             [
              0.5555555555555556,
              "#d8576b"
             ],
             [
              0.6666666666666666,
              "#ed7953"
             ],
             [
              0.7777777777777778,
              "#fb9f3a"
             ],
             [
              0.8888888888888888,
              "#fdca26"
             ],
             [
              1,
              "#f0f921"
             ]
            ],
            "type": "surface"
           }
          ],
          "table": [
           {
            "cells": {
             "fill": {
              "color": "#EBF0F8"
             },
             "line": {
              "color": "white"
             }
            },
            "header": {
             "fill": {
              "color": "#C8D4E3"
             },
             "line": {
              "color": "white"
             }
            },
            "type": "table"
           }
          ]
         },
         "layout": {
          "annotationdefaults": {
           "arrowcolor": "#2a3f5f",
           "arrowhead": 0,
           "arrowwidth": 1
          },
          "autotypenumbers": "strict",
          "coloraxis": {
           "colorbar": {
            "outlinewidth": 0,
            "ticks": ""
           }
          },
          "colorscale": {
           "diverging": [
            [
             0,
             "#8e0152"
            ],
            [
             0.1,
             "#c51b7d"
            ],
            [
             0.2,
             "#de77ae"
            ],
            [
             0.3,
             "#f1b6da"
            ],
            [
             0.4,
             "#fde0ef"
            ],
            [
             0.5,
             "#f7f7f7"
            ],
            [
             0.6,
             "#e6f5d0"
            ],
            [
             0.7,
             "#b8e186"
            ],
            [
             0.8,
             "#7fbc41"
            ],
            [
             0.9,
             "#4d9221"
            ],
            [
             1,
             "#276419"
            ]
           ],
           "sequential": [
            [
             0,
             "#0d0887"
            ],
            [
             0.1111111111111111,
             "#46039f"
            ],
            [
             0.2222222222222222,
             "#7201a8"
            ],
            [
             0.3333333333333333,
             "#9c179e"
            ],
            [
             0.4444444444444444,
             "#bd3786"
            ],
            [
             0.5555555555555556,
             "#d8576b"
            ],
            [
             0.6666666666666666,
             "#ed7953"
            ],
            [
             0.7777777777777778,
             "#fb9f3a"
            ],
            [
             0.8888888888888888,
             "#fdca26"
            ],
            [
             1,
             "#f0f921"
            ]
           ],
           "sequentialminus": [
            [
             0,
             "#0d0887"
            ],
            [
             0.1111111111111111,
             "#46039f"
            ],
            [
             0.2222222222222222,
             "#7201a8"
            ],
            [
             0.3333333333333333,
             "#9c179e"
            ],
            [
             0.4444444444444444,
             "#bd3786"
            ],
            [
             0.5555555555555556,
             "#d8576b"
            ],
            [
             0.6666666666666666,
             "#ed7953"
            ],
            [
             0.7777777777777778,
             "#fb9f3a"
            ],
            [
             0.8888888888888888,
             "#fdca26"
            ],
            [
             1,
             "#f0f921"
            ]
           ]
          },
          "colorway": [
           "#636efa",
           "#EF553B",
           "#00cc96",
           "#ab63fa",
           "#FFA15A",
           "#19d3f3",
           "#FF6692",
           "#B6E880",
           "#FF97FF",
           "#FECB52"
          ],
          "font": {
           "color": "#2a3f5f"
          },
          "geo": {
           "bgcolor": "white",
           "lakecolor": "white",
           "landcolor": "#E5ECF6",
           "showlakes": true,
           "showland": true,
           "subunitcolor": "white"
          },
          "hoverlabel": {
           "align": "left"
          },
          "hovermode": "closest",
          "mapbox": {
           "style": "light"
          },
          "paper_bgcolor": "white",
          "plot_bgcolor": "#E5ECF6",
          "polar": {
           "angularaxis": {
            "gridcolor": "white",
            "linecolor": "white",
            "ticks": ""
           },
           "bgcolor": "#E5ECF6",
           "radialaxis": {
            "gridcolor": "white",
            "linecolor": "white",
            "ticks": ""
           }
          },
          "scene": {
           "xaxis": {
            "backgroundcolor": "#E5ECF6",
            "gridcolor": "white",
            "gridwidth": 2,
            "linecolor": "white",
            "showbackground": true,
            "ticks": "",
            "zerolinecolor": "white"
           },
           "yaxis": {
            "backgroundcolor": "#E5ECF6",
            "gridcolor": "white",
            "gridwidth": 2,
            "linecolor": "white",
            "showbackground": true,
            "ticks": "",
            "zerolinecolor": "white"
           },
           "zaxis": {
            "backgroundcolor": "#E5ECF6",
            "gridcolor": "white",
            "gridwidth": 2,
            "linecolor": "white",
            "showbackground": true,
            "ticks": "",
            "zerolinecolor": "white"
           }
          },
          "shapedefaults": {
           "line": {
            "color": "#2a3f5f"
           }
          },
          "ternary": {
           "aaxis": {
            "gridcolor": "white",
            "linecolor": "white",
            "ticks": ""
           },
           "baxis": {
            "gridcolor": "white",
            "linecolor": "white",
            "ticks": ""
           },
           "bgcolor": "#E5ECF6",
           "caxis": {
            "gridcolor": "white",
            "linecolor": "white",
            "ticks": ""
           }
          },
          "title": {
           "x": 0.05
          },
          "xaxis": {
           "automargin": true,
           "gridcolor": "white",
           "linecolor": "white",
           "ticks": "",
           "title": {
            "standoff": 15
           },
           "zerolinecolor": "white",
           "zerolinewidth": 2
          },
          "yaxis": {
           "automargin": true,
           "gridcolor": "white",
           "linecolor": "white",
           "ticks": "",
           "title": {
            "standoff": 15
           },
           "zerolinecolor": "white",
           "zerolinewidth": 2
          }
         }
        },
        "title": {
         "text": "Correlation Matrix"
        },
        "xaxis": {
         "anchor": "y",
         "domain": [
          0,
          1
         ]
        },
        "yaxis": {
         "anchor": "x",
         "autorange": "reversed",
         "domain": [
          0,
          1
         ]
        }
       }
      }
     },
     "metadata": {},
     "output_type": "display_data"
    }
   ],
   "source": [
    "numeric_df = df.select_dtypes(include=[float, int])\n",
    "correlation_matrix = numeric_df.corr().T\n",
    "\n",
    "fig = px.imshow(correlation_matrix, text_auto=True, aspect=\"auto\",\n",
    "                title='Correlation Matrix',\n",
    "                color_continuous_scale='viridis')\n",
    "fig.show()"
   ]
  },
  {
   "cell_type": "code",
   "execution_count": 10,
   "metadata": {},
   "outputs": [
    {
     "data": {
      "text/html": [
       "<pre style=\"white-space:pre;overflow-x:auto;line-height:normal;font-family:Menlo,'DejaVu Sans Mono',consolas,'Courier New',monospace\">╭──────────────────────────────────────────────── skimpy summary ─────────────────────────────────────────────────╮\n",
       "│ <span style=\"font-style: italic\">         Data Summary         </span> <span style=\"font-style: italic\">      Data Types       </span>                                                          │\n",
       "│ ┏━━━━━━━━━━━━━━━━━━━┳━━━━━━━━┓ ┏━━━━━━━━━━━━━┳━━━━━━━┓                                                          │\n",
       "│ ┃<span style=\"color: #008080; text-decoration-color: #008080; font-weight: bold\"> dataframe         </span>┃<span style=\"color: #008080; text-decoration-color: #008080; font-weight: bold\"> Values </span>┃ ┃<span style=\"color: #008080; text-decoration-color: #008080; font-weight: bold\"> Column Type </span>┃<span style=\"color: #008080; text-decoration-color: #008080; font-weight: bold\"> Count </span>┃                                                          │\n",
       "│ ┡━━━━━━━━━━━━━━━━━━━╇━━━━━━━━┩ ┡━━━━━━━━━━━━━╇━━━━━━━┩                                                          │\n",
       "│ │ Number of rows    │ 204    │ │ float64     │ 9     │                                                          │\n",
       "│ │ Number of columns │ 10     │ │ string      │ 1     │                                                          │\n",
       "│ └───────────────────┴────────┘ └─────────────┴───────┘                                                          │\n",
       "│ <span style=\"font-style: italic\">                                                    number                                                    </span>  │\n",
       "│ ┏━━━━━━━━━━━━━━━━━━━━━━━━━┳━━━━━┳━━━━━━━━┳━━━━━━━━┳━━━━━━━━┳━━━━━━━┳━━━━━━━━┳━━━━━━━┳━━━━━━━┳━━━━━━━┳━━━━━━━━┓  │\n",
       "│ ┃<span style=\"font-weight: bold\"> column_name             </span>┃<span style=\"font-weight: bold\"> NA  </span>┃<span style=\"font-weight: bold\"> NA %   </span>┃<span style=\"font-weight: bold\"> mean   </span>┃<span style=\"font-weight: bold\"> sd     </span>┃<span style=\"font-weight: bold\"> p0    </span>┃<span style=\"font-weight: bold\"> p25    </span>┃<span style=\"font-weight: bold\"> p50   </span>┃<span style=\"font-weight: bold\"> p75   </span>┃<span style=\"font-weight: bold\"> p100  </span>┃<span style=\"font-weight: bold\"> hist   </span>┃  │\n",
       "│ ┡━━━━━━━━━━━━━━━━━━━━━━━━━╇━━━━━╇━━━━━━━━╇━━━━━━━━╇━━━━━━━━╇━━━━━━━╇━━━━━━━━╇━━━━━━━╇━━━━━━━╇━━━━━━━╇━━━━━━━━┩  │\n",
       "│ │ <span style=\"color: #af87ff; text-decoration-color: #af87ff\">SuicideRate_BothSexes_R</span> │ <span style=\"color: #008080; text-decoration-color: #008080\">  0</span> │ <span style=\"color: #008080; text-decoration-color: #008080\">     0</span> │ <span style=\"color: #008080; text-decoration-color: #008080\"> 9.526</span> │ <span style=\"color: #008080; text-decoration-color: #008080\"> 6.803</span> │ <span style=\"color: #008080; text-decoration-color: #008080\"> 0.78</span> │ <span style=\"color: #008080; text-decoration-color: #008080\">  5.09</span> │ <span style=\"color: #008080; text-decoration-color: #008080\">7.885</span> │ <span style=\"color: #008080; text-decoration-color: #008080\">12.91</span> │ <span style=\"color: #008080; text-decoration-color: #008080\">59.62</span> │ <span style=\"color: #008000; text-decoration-color: #008000\"> ▇▃▁  </span> │  │\n",
       "│ │ <span style=\"color: #af87ff; text-decoration-color: #af87ff\">atePer100k_2021        </span> │     │        │        │        │       │        │       │       │       │        │  │\n",
       "│ │ <span style=\"color: #af87ff; text-decoration-color: #af87ff\">SuicideRate_Male_RatePe</span> │ <span style=\"color: #008080; text-decoration-color: #008080\">  0</span> │ <span style=\"color: #008080; text-decoration-color: #008080\">     0</span> │ <span style=\"color: #008080; text-decoration-color: #008080\">  14.8</span> │ <span style=\"color: #008080; text-decoration-color: #008080\"> 10.84</span> │ <span style=\"color: #008080; text-decoration-color: #008080\"> 1.18</span> │ <span style=\"color: #008080; text-decoration-color: #008080\"> 7.578</span> │ <span style=\"color: #008080; text-decoration-color: #008080\">12.21</span> │ <span style=\"color: #008080; text-decoration-color: #008080\">19.86</span> │ <span style=\"color: #008080; text-decoration-color: #008080\">86.96</span> │ <span style=\"color: #008000; text-decoration-color: #008000\"> ▇▃▁  </span> │  │\n",
       "│ │ <span style=\"color: #af87ff; text-decoration-color: #af87ff\">r100k_2021             </span> │     │        │        │        │       │        │       │       │       │        │  │\n",
       "│ │ <span style=\"color: #af87ff; text-decoration-color: #af87ff\">SuicideRate_Female_Rate</span> │ <span style=\"color: #008080; text-decoration-color: #008080\">  0</span> │ <span style=\"color: #008080; text-decoration-color: #008080\">     0</span> │ <span style=\"color: #008080; text-decoration-color: #008080\"> 4.358</span> │ <span style=\"color: #008080; text-decoration-color: #008080\"> 3.311</span> │ <span style=\"color: #008080; text-decoration-color: #008080\">  0.3</span> │ <span style=\"color: #008080; text-decoration-color: #008080\"> 2.262</span> │ <span style=\"color: #008080; text-decoration-color: #008080\"> 3.54</span> │ <span style=\"color: #008080; text-decoration-color: #008080\">5.785</span> │ <span style=\"color: #008080; text-decoration-color: #008080\"> 29.4</span> │ <span style=\"color: #008000; text-decoration-color: #008000\"> ▇▃▁  </span> │  │\n",
       "│ │ <span style=\"color: #af87ff; text-decoration-color: #af87ff\">Per100k_2021           </span> │     │        │        │        │       │        │       │       │       │        │  │\n",
       "│ │ <span style=\"color: #af87ff; text-decoration-color: #af87ff\">SuicideRate_BothSexes_R</span> │ <span style=\"color: #008080; text-decoration-color: #008080\">  0</span> │ <span style=\"color: #008080; text-decoration-color: #008080\">     0</span> │ <span style=\"color: #008080; text-decoration-color: #008080\"> 13.67</span> │ <span style=\"color: #008080; text-decoration-color: #008080\"> 58.35</span> │ <span style=\"color: #008080; text-decoration-color: #008080\"> 0.77</span> │ <span style=\"color: #008080; text-decoration-color: #008080\"> 5.075</span> │ <span style=\"color: #008080; text-decoration-color: #008080\">8.015</span> │ <span style=\"color: #008080; text-decoration-color: #008080\">13.04</span> │ <span style=\"color: #008080; text-decoration-color: #008080\">  837</span> │ <span style=\"color: #008000; text-decoration-color: #008000\">  ▇   </span> │  │\n",
       "│ │ <span style=\"color: #af87ff; text-decoration-color: #af87ff\">atePer100k_2020        </span> │     │        │        │        │       │        │       │       │       │        │  │\n",
       "│ │ <span style=\"color: #af87ff; text-decoration-color: #af87ff\">SuicideRate_Male_RatePe</span> │ <span style=\"color: #008080; text-decoration-color: #008080\">  0</span> │ <span style=\"color: #008080; text-decoration-color: #008080\">     0</span> │ <span style=\"color: #008080; text-decoration-color: #008080\"> 14.92</span> │ <span style=\"color: #008080; text-decoration-color: #008080\"> 11.13</span> │ <span style=\"color: #008080; text-decoration-color: #008080\"> 1.18</span> │ <span style=\"color: #008080; text-decoration-color: #008080\">   7.5</span> │ <span style=\"color: #008080; text-decoration-color: #008080\">12.41</span> │ <span style=\"color: #008080; text-decoration-color: #008080\"> 19.9</span> │ <span style=\"color: #008080; text-decoration-color: #008080\">94.39</span> │ <span style=\"color: #008000; text-decoration-color: #008000\"> ▇▃▁  </span> │  │\n",
       "│ │ <span style=\"color: #af87ff; text-decoration-color: #af87ff\">r100k_2020             </span> │     │        │        │        │       │        │       │       │       │        │  │\n",
       "│ │ <span style=\"color: #af87ff; text-decoration-color: #af87ff\">SuicideRate_Female_Rate</span> │ <span style=\"color: #008080; text-decoration-color: #008080\">  0</span> │ <span style=\"color: #008080; text-decoration-color: #008080\">     0</span> │ <span style=\"color: #008080; text-decoration-color: #008080\"> 4.401</span> │ <span style=\"color: #008080; text-decoration-color: #008080\"> 3.402</span> │ <span style=\"color: #008080; text-decoration-color: #008080\"> 0.29</span> │ <span style=\"color: #008080; text-decoration-color: #008080\"> 2.282</span> │ <span style=\"color: #008080; text-decoration-color: #008080\"> 3.52</span> │ <span style=\"color: #008080; text-decoration-color: #008080\">  5.9</span> │ <span style=\"color: #008080; text-decoration-color: #008080\">31.59</span> │ <span style=\"color: #008000; text-decoration-color: #008000\">  ▇▃  </span> │  │\n",
       "│ │ <span style=\"color: #af87ff; text-decoration-color: #af87ff\">Per100k_2020           </span> │     │        │        │        │       │        │       │       │       │        │  │\n",
       "│ │ <span style=\"color: #af87ff; text-decoration-color: #af87ff\">SuicideRate_BothSexes_R</span> │ <span style=\"color: #008080; text-decoration-color: #008080\"> 21</span> │ <span style=\"color: #008080; text-decoration-color: #008080\"> 10.29</span> │ <span style=\"color: #008080; text-decoration-color: #008080\"> 9.455</span> │ <span style=\"color: #008080; text-decoration-color: #008080\">  7.99</span> │ <span style=\"color: #008080; text-decoration-color: #008080\">  0.4</span> │ <span style=\"color: #008080; text-decoration-color: #008080\">   4.6</span> │ <span style=\"color: #008080; text-decoration-color: #008080\">  7.5</span> │ <span style=\"color: #008080; text-decoration-color: #008080\">11.85</span> │ <span style=\"color: #008080; text-decoration-color: #008080\"> 72.4</span> │ <span style=\"color: #008000; text-decoration-color: #008000\">  ▇▂  </span> │  │\n",
       "│ │ <span style=\"color: #af87ff; text-decoration-color: #af87ff\">atePer100k_2019        </span> │     │        │        │        │       │        │       │       │       │        │  │\n",
       "│ │ <span style=\"color: #af87ff; text-decoration-color: #af87ff\">SuicideRate_Male_RatePe</span> │ <span style=\"color: #008080; text-decoration-color: #008080\"> 22</span> │ <span style=\"color: #008080; text-decoration-color: #008080\"> 10.78</span> │ <span style=\"color: #008080; text-decoration-color: #008080\"> 14.73</span> │ <span style=\"color: #008080; text-decoration-color: #008080\"> 13.11</span> │ <span style=\"color: #008080; text-decoration-color: #008080\">  0.6</span> │ <span style=\"color: #008080; text-decoration-color: #008080\"> 6.825</span> │ <span style=\"color: #008080; text-decoration-color: #008080\">11.35</span> │ <span style=\"color: #008080; text-decoration-color: #008080\">17.98</span> │ <span style=\"color: #008080; text-decoration-color: #008080\">  116</span> │ <span style=\"color: #008000; text-decoration-color: #008000\">  ▇▂  </span> │  │\n",
       "│ │ <span style=\"color: #af87ff; text-decoration-color: #af87ff\">r100k_2019             </span> │     │        │        │        │       │        │       │       │       │        │  │\n",
       "│ │ <span style=\"color: #af87ff; text-decoration-color: #af87ff\">SuicideRate_Female_Rate</span> │ <span style=\"color: #008080; text-decoration-color: #008080\"> 21</span> │ <span style=\"color: #008080; text-decoration-color: #008080\"> 10.29</span> │ <span style=\"color: #008080; text-decoration-color: #008080\"> 4.351</span> │ <span style=\"color: #008080; text-decoration-color: #008080\"> 3.532</span> │ <span style=\"color: #008080; text-decoration-color: #008080\">  0.3</span> │ <span style=\"color: #008080; text-decoration-color: #008080\">     2</span> │ <span style=\"color: #008080; text-decoration-color: #008080\">  3.3</span> │ <span style=\"color: #008080; text-decoration-color: #008080\"> 6.05</span> │ <span style=\"color: #008080; text-decoration-color: #008080\"> 30.1</span> │ <span style=\"color: #008000; text-decoration-color: #008000\">  ▇▃  </span> │  │\n",
       "│ │ <span style=\"color: #af87ff; text-decoration-color: #af87ff\">Per100k_2019           </span> │     │        │        │        │       │        │       │       │       │        │  │\n",
       "│ └─────────────────────────┴─────┴────────┴────────┴────────┴───────┴────────┴───────┴───────┴───────┴────────┘  │\n",
       "│ <span style=\"font-style: italic\">                                                    string                                                    </span>  │\n",
       "│ ┏━━━━━━━━━━━━━━━━━━━━━━━━━━━┳━━━━━━━━━┳━━━━━━━━━━━━┳━━━━━━━━━━━━━━━━━━━━━━━━━━━━━━┳━━━━━━━━━━━━━━━━━━━━━━━━━━┓  │\n",
       "│ ┃<span style=\"font-weight: bold\"> column_name               </span>┃<span style=\"font-weight: bold\"> NA      </span>┃<span style=\"font-weight: bold\"> NA %       </span>┃<span style=\"font-weight: bold\"> words per row                </span>┃<span style=\"font-weight: bold\"> total words              </span>┃  │\n",
       "│ ┡━━━━━━━━━━━━━━━━━━━━━━━━━━━╇━━━━━━━━━╇━━━━━━━━━━━━╇━━━━━━━━━━━━━━━━━━━━━━━━━━━━━━╇━━━━━━━━━━━━━━━━━━━━━━━━━━┩  │\n",
       "│ │ <span style=\"color: #af87ff; text-decoration-color: #af87ff\">country                  </span> │ <span style=\"color: #008080; text-decoration-color: #008080\">      0</span> │ <span style=\"color: #008080; text-decoration-color: #008080\">         0</span> │ <span style=\"color: #008080; text-decoration-color: #008080\">                         1.3</span> │ <span style=\"color: #008080; text-decoration-color: #008080\">                     261</span> │  │\n",
       "│ └───────────────────────────┴─────────┴────────────┴──────────────────────────────┴──────────────────────────┘  │\n",
       "╰────────────────────────────────────────────────────── End ──────────────────────────────────────────────────────╯\n",
       "</pre>\n"
      ],
      "text/plain": [
       "╭──────────────────────────────────────────────── skimpy summary ─────────────────────────────────────────────────╮\n",
       "│ \u001b[3m         Data Summary         \u001b[0m \u001b[3m      Data Types       \u001b[0m                                                          │\n",
       "│ ┏━━━━━━━━━━━━━━━━━━━┳━━━━━━━━┓ ┏━━━━━━━━━━━━━┳━━━━━━━┓                                                          │\n",
       "│ ┃\u001b[1;36m \u001b[0m\u001b[1;36mdataframe        \u001b[0m\u001b[1;36m \u001b[0m┃\u001b[1;36m \u001b[0m\u001b[1;36mValues\u001b[0m\u001b[1;36m \u001b[0m┃ ┃\u001b[1;36m \u001b[0m\u001b[1;36mColumn Type\u001b[0m\u001b[1;36m \u001b[0m┃\u001b[1;36m \u001b[0m\u001b[1;36mCount\u001b[0m\u001b[1;36m \u001b[0m┃                                                          │\n",
       "│ ┡━━━━━━━━━━━━━━━━━━━╇━━━━━━━━┩ ┡━━━━━━━━━━━━━╇━━━━━━━┩                                                          │\n",
       "│ │ Number of rows    │ 204    │ │ float64     │ 9     │                                                          │\n",
       "│ │ Number of columns │ 10     │ │ string      │ 1     │                                                          │\n",
       "│ └───────────────────┴────────┘ └─────────────┴───────┘                                                          │\n",
       "│ \u001b[3m                                                    number                                                    \u001b[0m  │\n",
       "│ ┏━━━━━━━━━━━━━━━━━━━━━━━━━┳━━━━━┳━━━━━━━━┳━━━━━━━━┳━━━━━━━━┳━━━━━━━┳━━━━━━━━┳━━━━━━━┳━━━━━━━┳━━━━━━━┳━━━━━━━━┓  │\n",
       "│ ┃\u001b[1m \u001b[0m\u001b[1mcolumn_name            \u001b[0m\u001b[1m \u001b[0m┃\u001b[1m \u001b[0m\u001b[1mNA \u001b[0m\u001b[1m \u001b[0m┃\u001b[1m \u001b[0m\u001b[1mNA %  \u001b[0m\u001b[1m \u001b[0m┃\u001b[1m \u001b[0m\u001b[1mmean  \u001b[0m\u001b[1m \u001b[0m┃\u001b[1m \u001b[0m\u001b[1msd    \u001b[0m\u001b[1m \u001b[0m┃\u001b[1m \u001b[0m\u001b[1mp0   \u001b[0m\u001b[1m \u001b[0m┃\u001b[1m \u001b[0m\u001b[1mp25   \u001b[0m\u001b[1m \u001b[0m┃\u001b[1m \u001b[0m\u001b[1mp50  \u001b[0m\u001b[1m \u001b[0m┃\u001b[1m \u001b[0m\u001b[1mp75  \u001b[0m\u001b[1m \u001b[0m┃\u001b[1m \u001b[0m\u001b[1mp100 \u001b[0m\u001b[1m \u001b[0m┃\u001b[1m \u001b[0m\u001b[1mhist  \u001b[0m\u001b[1m \u001b[0m┃  │\n",
       "│ ┡━━━━━━━━━━━━━━━━━━━━━━━━━╇━━━━━╇━━━━━━━━╇━━━━━━━━╇━━━━━━━━╇━━━━━━━╇━━━━━━━━╇━━━━━━━╇━━━━━━━╇━━━━━━━╇━━━━━━━━┩  │\n",
       "│ │ \u001b[38;5;141mSuicideRate_BothSexes_R\u001b[0m │ \u001b[36m  0\u001b[0m │ \u001b[36m     0\u001b[0m │ \u001b[36m 9.526\u001b[0m │ \u001b[36m 6.803\u001b[0m │ \u001b[36m 0.78\u001b[0m │ \u001b[36m  5.09\u001b[0m │ \u001b[36m7.885\u001b[0m │ \u001b[36m12.91\u001b[0m │ \u001b[36m59.62\u001b[0m │ \u001b[32m ▇▃▁  \u001b[0m │  │\n",
       "│ │ \u001b[38;5;141matePer100k_2021        \u001b[0m │     │        │        │        │       │        │       │       │       │        │  │\n",
       "│ │ \u001b[38;5;141mSuicideRate_Male_RatePe\u001b[0m │ \u001b[36m  0\u001b[0m │ \u001b[36m     0\u001b[0m │ \u001b[36m  14.8\u001b[0m │ \u001b[36m 10.84\u001b[0m │ \u001b[36m 1.18\u001b[0m │ \u001b[36m 7.578\u001b[0m │ \u001b[36m12.21\u001b[0m │ \u001b[36m19.86\u001b[0m │ \u001b[36m86.96\u001b[0m │ \u001b[32m ▇▃▁  \u001b[0m │  │\n",
       "│ │ \u001b[38;5;141mr100k_2021             \u001b[0m │     │        │        │        │       │        │       │       │       │        │  │\n",
       "│ │ \u001b[38;5;141mSuicideRate_Female_Rate\u001b[0m │ \u001b[36m  0\u001b[0m │ \u001b[36m     0\u001b[0m │ \u001b[36m 4.358\u001b[0m │ \u001b[36m 3.311\u001b[0m │ \u001b[36m  0.3\u001b[0m │ \u001b[36m 2.262\u001b[0m │ \u001b[36m 3.54\u001b[0m │ \u001b[36m5.785\u001b[0m │ \u001b[36m 29.4\u001b[0m │ \u001b[32m ▇▃▁  \u001b[0m │  │\n",
       "│ │ \u001b[38;5;141mPer100k_2021           \u001b[0m │     │        │        │        │       │        │       │       │       │        │  │\n",
       "│ │ \u001b[38;5;141mSuicideRate_BothSexes_R\u001b[0m │ \u001b[36m  0\u001b[0m │ \u001b[36m     0\u001b[0m │ \u001b[36m 13.67\u001b[0m │ \u001b[36m 58.35\u001b[0m │ \u001b[36m 0.77\u001b[0m │ \u001b[36m 5.075\u001b[0m │ \u001b[36m8.015\u001b[0m │ \u001b[36m13.04\u001b[0m │ \u001b[36m  837\u001b[0m │ \u001b[32m  ▇   \u001b[0m │  │\n",
       "│ │ \u001b[38;5;141matePer100k_2020        \u001b[0m │     │        │        │        │       │        │       │       │       │        │  │\n",
       "│ │ \u001b[38;5;141mSuicideRate_Male_RatePe\u001b[0m │ \u001b[36m  0\u001b[0m │ \u001b[36m     0\u001b[0m │ \u001b[36m 14.92\u001b[0m │ \u001b[36m 11.13\u001b[0m │ \u001b[36m 1.18\u001b[0m │ \u001b[36m   7.5\u001b[0m │ \u001b[36m12.41\u001b[0m │ \u001b[36m 19.9\u001b[0m │ \u001b[36m94.39\u001b[0m │ \u001b[32m ▇▃▁  \u001b[0m │  │\n",
       "│ │ \u001b[38;5;141mr100k_2020             \u001b[0m │     │        │        │        │       │        │       │       │       │        │  │\n",
       "│ │ \u001b[38;5;141mSuicideRate_Female_Rate\u001b[0m │ \u001b[36m  0\u001b[0m │ \u001b[36m     0\u001b[0m │ \u001b[36m 4.401\u001b[0m │ \u001b[36m 3.402\u001b[0m │ \u001b[36m 0.29\u001b[0m │ \u001b[36m 2.282\u001b[0m │ \u001b[36m 3.52\u001b[0m │ \u001b[36m  5.9\u001b[0m │ \u001b[36m31.59\u001b[0m │ \u001b[32m  ▇▃  \u001b[0m │  │\n",
       "│ │ \u001b[38;5;141mPer100k_2020           \u001b[0m │     │        │        │        │       │        │       │       │       │        │  │\n",
       "│ │ \u001b[38;5;141mSuicideRate_BothSexes_R\u001b[0m │ \u001b[36m 21\u001b[0m │ \u001b[36m 10.29\u001b[0m │ \u001b[36m 9.455\u001b[0m │ \u001b[36m  7.99\u001b[0m │ \u001b[36m  0.4\u001b[0m │ \u001b[36m   4.6\u001b[0m │ \u001b[36m  7.5\u001b[0m │ \u001b[36m11.85\u001b[0m │ \u001b[36m 72.4\u001b[0m │ \u001b[32m  ▇▂  \u001b[0m │  │\n",
       "│ │ \u001b[38;5;141matePer100k_2019        \u001b[0m │     │        │        │        │       │        │       │       │       │        │  │\n",
       "│ │ \u001b[38;5;141mSuicideRate_Male_RatePe\u001b[0m │ \u001b[36m 22\u001b[0m │ \u001b[36m 10.78\u001b[0m │ \u001b[36m 14.73\u001b[0m │ \u001b[36m 13.11\u001b[0m │ \u001b[36m  0.6\u001b[0m │ \u001b[36m 6.825\u001b[0m │ \u001b[36m11.35\u001b[0m │ \u001b[36m17.98\u001b[0m │ \u001b[36m  116\u001b[0m │ \u001b[32m  ▇▂  \u001b[0m │  │\n",
       "│ │ \u001b[38;5;141mr100k_2019             \u001b[0m │     │        │        │        │       │        │       │       │       │        │  │\n",
       "│ │ \u001b[38;5;141mSuicideRate_Female_Rate\u001b[0m │ \u001b[36m 21\u001b[0m │ \u001b[36m 10.29\u001b[0m │ \u001b[36m 4.351\u001b[0m │ \u001b[36m 3.532\u001b[0m │ \u001b[36m  0.3\u001b[0m │ \u001b[36m     2\u001b[0m │ \u001b[36m  3.3\u001b[0m │ \u001b[36m 6.05\u001b[0m │ \u001b[36m 30.1\u001b[0m │ \u001b[32m  ▇▃  \u001b[0m │  │\n",
       "│ │ \u001b[38;5;141mPer100k_2019           \u001b[0m │     │        │        │        │       │        │       │       │       │        │  │\n",
       "│ └─────────────────────────┴─────┴────────┴────────┴────────┴───────┴────────┴───────┴───────┴───────┴────────┘  │\n",
       "│ \u001b[3m                                                    string                                                    \u001b[0m  │\n",
       "│ ┏━━━━━━━━━━━━━━━━━━━━━━━━━━━┳━━━━━━━━━┳━━━━━━━━━━━━┳━━━━━━━━━━━━━━━━━━━━━━━━━━━━━━┳━━━━━━━━━━━━━━━━━━━━━━━━━━┓  │\n",
       "│ ┃\u001b[1m \u001b[0m\u001b[1mcolumn_name              \u001b[0m\u001b[1m \u001b[0m┃\u001b[1m \u001b[0m\u001b[1mNA     \u001b[0m\u001b[1m \u001b[0m┃\u001b[1m \u001b[0m\u001b[1mNA %      \u001b[0m\u001b[1m \u001b[0m┃\u001b[1m \u001b[0m\u001b[1mwords per row               \u001b[0m\u001b[1m \u001b[0m┃\u001b[1m \u001b[0m\u001b[1mtotal words             \u001b[0m\u001b[1m \u001b[0m┃  │\n",
       "│ ┡━━━━━━━━━━━━━━━━━━━━━━━━━━━╇━━━━━━━━━╇━━━━━━━━━━━━╇━━━━━━━━━━━━━━━━━━━━━━━━━━━━━━╇━━━━━━━━━━━━━━━━━━━━━━━━━━┩  │\n",
       "│ │ \u001b[38;5;141mcountry                  \u001b[0m │ \u001b[36m      0\u001b[0m │ \u001b[36m         0\u001b[0m │ \u001b[36m                         1.3\u001b[0m │ \u001b[36m                     261\u001b[0m │  │\n",
       "│ └───────────────────────────┴─────────┴────────────┴──────────────────────────────┴──────────────────────────┘  │\n",
       "╰────────────────────────────────────────────────────── End ──────────────────────────────────────────────────────╯\n"
      ]
     },
     "metadata": {},
     "output_type": "display_data"
    }
   ],
   "source": [
    "# Get a skim summary of the dataset\n",
    "skim(df)"
   ]
  },
  {
   "cell_type": "markdown",
   "metadata": {},
   "source": [
    "<div  style=\"font-family: Arial, sans-serif; font-size: 20px; background-color: #7b2cbf; color: #ffffff; padding: 7px 15px; text-decoration: none; border-radius: 15px;\">\n",
    "⭐\n",
    " \n",
    "</div>"
   ]
  },
  {
   "cell_type": "markdown",
   "metadata": {},
   "source": [
    "<a id=\"32\"></a>\n",
    "### <div style=\"text-align:left; border-radius:15px; padding:20px; color:Black; margin:0; font-size:100%; font-family:Arial; background-color:#48cae4; overflow:hidden\"><b>⚡ 2. Each Year Suicide Rate of Both Gender</b>\n",
    "<a href=\"#table-of-contents\" style=\"font-family: Arial, sans-serif; font-size: 15px; background-color: #7b2cbf; color: #ffffff; padding: 7px 15px; text-decoration: none; border-radius: 15px;\">\n",
    "        [Table of Content 📜⬆️]\n",
    "</a>\n",
    "</div>"
   ]
  },
  {
   "cell_type": "code",
   "execution_count": 16,
   "metadata": {},
   "outputs": [
    {
     "data": {
      "text/plain": [
       "Index(['country', 'SuicideRate_BothSexes_RatePer100k_2021',\n",
       "       'SuicideRate_Male_RatePer100k_2021',\n",
       "       'SuicideRate_Female_RatePer100k_2021',\n",
       "       'SuicideRate_BothSexes_RatePer100k_2020',\n",
       "       'SuicideRate_Male_RatePer100k_2020',\n",
       "       'SuicideRate_Female_RatePer100k_2020',\n",
       "       'SuicideRate_BothSexes_RatePer100k_2019',\n",
       "       'SuicideRate_Male_RatePer100k_2019',\n",
       "       'SuicideRate_Female_RatePer100k_2019'],\n",
       "      dtype='object')"
      ]
     },
     "execution_count": 16,
     "metadata": {},
     "output_type": "execute_result"
    }
   ],
   "source": [
    "dfc.columns"
   ]
  },
  {
   "cell_type": "code",
   "execution_count": 7,
   "metadata": {},
   "outputs": [
    {
     "data": {
      "application/vnd.plotly.v1+json": {
       "config": {
        "plotlyServerURL": "https://plot.ly"
       },
       "data": [
        {
         "alignmentgroup": "True",
         "hovertemplate": "country=%{x}<br>SuicideRate_BothSexes_RatePer100k_2021=%{y}<extra></extra>",
         "legendgroup": "",
         "marker": {
          "color": "#636efa",
          "pattern": {
           "shape": ""
          }
         },
         "name": "",
         "offsetgroup": "",
         "orientation": "v",
         "showlegend": false,
         "textposition": "auto",
         "type": "bar",
         "x": [
          "India",
          "China",
          "United States",
          "Indonesia",
          "Pakistan",
          "Nigeria",
          "Brazil",
          "Bangladesh",
          "Russia",
          "Ethiopia",
          "Mexico",
          "Japan",
          "Egypt",
          "Philippines",
          "DR Congo",
          "Vietnam",
          "Iran",
          "Turkey",
          "Germany",
          "Thailand",
          "United Kingdom",
          "Tanzania",
          "France",
          "South Africa",
          "Italy",
          "Kenya",
          "Myanmar",
          "Colombia",
          "South Korea",
          "Sudan",
          "Uganda",
          "Spain",
          "Algeria",
          "Iraq",
          "Argentina",
          "Afghanistan",
          "Yemen",
          "Canada",
          "Poland",
          "Morocco",
          "Angola",
          "Ukraine",
          "Uzbekistan",
          "Malaysia",
          "Mozambique",
          "Ghana",
          "Peru",
          "Saudi Arabia",
          "Madagascar",
          "Ivory Coast",
          "Nepal",
          "Cameroon",
          "Venezuela",
          "Niger",
          "Australia",
          "North Korea",
          "Syria",
          "Mali",
          "Burkina Faso",
          "Taiwan",
          "Sri Lanka",
          "Malawi",
          "Zambia",
          "Kazakhstan",
          "Chad",
          "Chile",
          "Romania",
          "Somalia",
          "Senegal",
          "Guatemala",
          "Netherlands",
          "Ecuador",
          "Cambodia",
          "Zimbabwe",
          "Guinea",
          "Benin",
          "Rwanda",
          "Burundi",
          "Bolivia",
          "Tunisia",
          "South Sudan",
          "Haiti",
          "Belgium",
          "Jordan",
          "Dominican Republic",
          "United Arab Emirates",
          "Cuba",
          "Honduras",
          "Czech Republic",
          "Sweden",
          "Tajikistan",
          "Papua New Guinea",
          "Portugal",
          "Azerbaijan",
          "Greece",
          "Hungary",
          "Togo",
          "Israel",
          "Austria",
          "Belarus",
          "Switzerland",
          "Sierra Leone",
          "Laos",
          "Turkmenistan",
          "Libya",
          "Kyrgyzstan",
          "Paraguay",
          "Nicaragua",
          "Bulgaria",
          "Serbia",
          "El Salvador",
          "Republic of the Congo",
          "Denmark",
          "Singapore",
          "Lebanon",
          "Finland",
          "Liberia",
          "Norway",
          "Slovakia",
          "Palestine",
          "Central African Republic",
          "Oman",
          "Ireland",
          "New Zealand",
          "Mauritania",
          "Costa Rica",
          "Kuwait",
          "Panama",
          "Croatia",
          "Georgia",
          "Eritrea",
          "Mongolia",
          "Uruguay",
          "Puerto Rico",
          "Bosnia and Herzegovina",
          "Qatar",
          "Moldova",
          "Namibia",
          "Armenia",
          "Lithuania",
          "Jamaica",
          "Albania",
          "Gambia",
          "Gabon",
          "Botswana",
          "Lesotho",
          "Guinea-Bissau",
          "Slovenia",
          "Equatorial Guinea",
          "Latvia",
          "North Macedonia",
          "Bahrain",
          "Trinidad and Tobago",
          "Timor-Leste",
          "Estonia",
          "Cyprus",
          "Mauritius",
          "Eswatini",
          "Djibouti",
          "Fiji",
          "Comoros",
          "Guyana",
          "Solomon Islands",
          "Bhutan",
          "Luxembourg",
          "Montenegro",
          "Suriname",
          "Malta",
          "Maldives",
          "Cape Verde",
          "Brunei",
          "Belize",
          "Bahamas",
          "Iceland",
          "Vanuatu",
          "Barbados",
          "Sao Tome and Principe",
          "Samoa",
          "Saint Lucia",
          "Guam",
          "Kiribati",
          "Seychelles",
          "Grenada",
          "Micronesia",
          "Tonga",
          "Saint Vincent and the Grenadines",
          "Antigua and Barbuda",
          "United States Virgin Islands",
          "Andorra",
          "Dominica",
          "Bermuda",
          "Greenland",
          "Saint Kitts and Nevis",
          "American Samoa",
          "Northern Mariana Islands",
          "Monaco",
          "Marshall Islands",
          "San Marino",
          "Palau",
          "Cook Islands",
          "Nauru",
          "Tuvalu",
          "Tokelau",
          "Niue"
         ],
         "xaxis": "x",
         "y": [
          13.33,
          9.17,
          15.25,
          1.64,
          5.82,
          4.27,
          7.78,
          3.67,
          24.1,
          6.17,
          6.84,
          17.47,
          1.01,
          3.77,
          8.12,
          8.01,
          4.34,
          3.84,
          12.31,
          12,
          8.47,
          5.66,
          13.72,
          15.3,
          6.44,
          6.82,
          3.57,
          6.74,
          25.81,
          4.28,
          5.84,
          7.73,
          2.76,
          4.41,
          10.47,
          3.6,
          3.56,
          12.51,
          15.15,
          3.68,
          6.95,
          23.17,
          8.96,
          5.17,
          9.28,
          5.68,
          2.9,
          7.87,
          6.31,
          7.05,
          13.07,
          7.16,
          8.11,
          3.55,
          12.86,
          10.88,
          0.89,
          4.09,
          6.56,
          16.04,
          16.27,
          8.31,
          8.16,
          18.2,
          5.43,
          10.61,
          10.76,
          5.78,
          7.58,
          5.43,
          11.23,
          8.51,
          4.54,
          17.61,
          5.02,
          5.32,
          7.36,
          7.13,
          5.53,
          3.06,
          8.03,
          7.18,
          17.3,
          1.07,
          5.39,
          2.37,
          15.83,
          3.9,
          12.56,
          12.32,
          3.37,
          2.28,
          11.62,
          2.5,
          5.22,
          16.91,
          7.88,
          5.15,
          14.34,
          20.44,
          11.72,
          5.09,
          5.23,
          9.72,
          5.52,
          9.25,
          5.8,
          5.72,
          13.3,
          15.91,
          8.32,
          9.57,
          11.27,
          7.75,
          0.94,
          15.67,
          6.66,
          11.68,
          12.34,
          0.78,
          11.64,
          1.04,
          8.41,
          11.31,
          3.55,
          9.85,
          1.97,
          5.28,
          14.31,
          8.64,
          9.66,
          14.59,
          21.31,
          7.1,
          10.7,
          3.81,
          14.92,
          11.57,
          5.53,
          27.91,
          1.43,
          4.1,
          5.58,
          9.67,
          9.72,
          20.57,
          8.49,
          17.12,
          6.89,
          19.42,
          7.91,
          4.28,
          13.82,
          4.08,
          15.19,
          4.04,
          10.96,
          18.42,
          5.63,
          8.89,
          6.3,
          31.26,
          18.27,
          5.75,
          9.02,
          15.45,
          23.6,
          4.96,
          2.22,
          15.06,
          4.05,
          5.09,
          2.61,
          12.49,
          16.31,
          4.67,
          1.15,
          12.18,
          6.77,
          17.08,
          17.29,
          5.77,
          4.63,
          20.17,
          4.64,
          6.19,
          1.38,
          7.02,
          7.89,
          4.23,
          3.99,
          59.62,
          2.85,
          8.04,
          15.59,
          15.42,
          20.04,
          7.59,
          14.99,
          9.17,
          23.55,
          16.49,
          15.83,
          15.59
         ],
         "yaxis": "y"
        }
       ],
       "layout": {
        "barmode": "relative",
        "legend": {
         "tracegroupgap": 0
        },
        "template": {
         "data": {
          "bar": [
           {
            "error_x": {
             "color": "#2a3f5f"
            },
            "error_y": {
             "color": "#2a3f5f"
            },
            "marker": {
             "line": {
              "color": "#E5ECF6",
              "width": 0.5
             },
             "pattern": {
              "fillmode": "overlay",
              "size": 10,
              "solidity": 0.2
             }
            },
            "type": "bar"
           }
          ],
          "barpolar": [
           {
            "marker": {
             "line": {
              "color": "#E5ECF6",
              "width": 0.5
             },
             "pattern": {
              "fillmode": "overlay",
              "size": 10,
              "solidity": 0.2
             }
            },
            "type": "barpolar"
           }
          ],
          "carpet": [
           {
            "aaxis": {
             "endlinecolor": "#2a3f5f",
             "gridcolor": "white",
             "linecolor": "white",
             "minorgridcolor": "white",
             "startlinecolor": "#2a3f5f"
            },
            "baxis": {
             "endlinecolor": "#2a3f5f",
             "gridcolor": "white",
             "linecolor": "white",
             "minorgridcolor": "white",
             "startlinecolor": "#2a3f5f"
            },
            "type": "carpet"
           }
          ],
          "choropleth": [
           {
            "colorbar": {
             "outlinewidth": 0,
             "ticks": ""
            },
            "type": "choropleth"
           }
          ],
          "contour": [
           {
            "colorbar": {
             "outlinewidth": 0,
             "ticks": ""
            },
            "colorscale": [
             [
              0,
              "#0d0887"
             ],
             [
              0.1111111111111111,
              "#46039f"
             ],
             [
              0.2222222222222222,
              "#7201a8"
             ],
             [
              0.3333333333333333,
              "#9c179e"
             ],
             [
              0.4444444444444444,
              "#bd3786"
             ],
             [
              0.5555555555555556,
              "#d8576b"
             ],
             [
              0.6666666666666666,
              "#ed7953"
             ],
             [
              0.7777777777777778,
              "#fb9f3a"
             ],
             [
              0.8888888888888888,
              "#fdca26"
             ],
             [
              1,
              "#f0f921"
             ]
            ],
            "type": "contour"
           }
          ],
          "contourcarpet": [
           {
            "colorbar": {
             "outlinewidth": 0,
             "ticks": ""
            },
            "type": "contourcarpet"
           }
          ],
          "heatmap": [
           {
            "colorbar": {
             "outlinewidth": 0,
             "ticks": ""
            },
            "colorscale": [
             [
              0,
              "#0d0887"
             ],
             [
              0.1111111111111111,
              "#46039f"
             ],
             [
              0.2222222222222222,
              "#7201a8"
             ],
             [
              0.3333333333333333,
              "#9c179e"
             ],
             [
              0.4444444444444444,
              "#bd3786"
             ],
             [
              0.5555555555555556,
              "#d8576b"
             ],
             [
              0.6666666666666666,
              "#ed7953"
             ],
             [
              0.7777777777777778,
              "#fb9f3a"
             ],
             [
              0.8888888888888888,
              "#fdca26"
             ],
             [
              1,
              "#f0f921"
             ]
            ],
            "type": "heatmap"
           }
          ],
          "heatmapgl": [
           {
            "colorbar": {
             "outlinewidth": 0,
             "ticks": ""
            },
            "colorscale": [
             [
              0,
              "#0d0887"
             ],
             [
              0.1111111111111111,
              "#46039f"
             ],
             [
              0.2222222222222222,
              "#7201a8"
             ],
             [
              0.3333333333333333,
              "#9c179e"
             ],
             [
              0.4444444444444444,
              "#bd3786"
             ],
             [
              0.5555555555555556,
              "#d8576b"
             ],
             [
              0.6666666666666666,
              "#ed7953"
             ],
             [
              0.7777777777777778,
              "#fb9f3a"
             ],
             [
              0.8888888888888888,
              "#fdca26"
             ],
             [
              1,
              "#f0f921"
             ]
            ],
            "type": "heatmapgl"
           }
          ],
          "histogram": [
           {
            "marker": {
             "pattern": {
              "fillmode": "overlay",
              "size": 10,
              "solidity": 0.2
             }
            },
            "type": "histogram"
           }
          ],
          "histogram2d": [
           {
            "colorbar": {
             "outlinewidth": 0,
             "ticks": ""
            },
            "colorscale": [
             [
              0,
              "#0d0887"
             ],
             [
              0.1111111111111111,
              "#46039f"
             ],
             [
              0.2222222222222222,
              "#7201a8"
             ],
             [
              0.3333333333333333,
              "#9c179e"
             ],
             [
              0.4444444444444444,
              "#bd3786"
             ],
             [
              0.5555555555555556,
              "#d8576b"
             ],
             [
              0.6666666666666666,
              "#ed7953"
             ],
             [
              0.7777777777777778,
              "#fb9f3a"
             ],
             [
              0.8888888888888888,
              "#fdca26"
             ],
             [
              1,
              "#f0f921"
             ]
            ],
            "type": "histogram2d"
           }
          ],
          "histogram2dcontour": [
           {
            "colorbar": {
             "outlinewidth": 0,
             "ticks": ""
            },
            "colorscale": [
             [
              0,
              "#0d0887"
             ],
             [
              0.1111111111111111,
              "#46039f"
             ],
             [
              0.2222222222222222,
              "#7201a8"
             ],
             [
              0.3333333333333333,
              "#9c179e"
             ],
             [
              0.4444444444444444,
              "#bd3786"
             ],
             [
              0.5555555555555556,
              "#d8576b"
             ],
             [
              0.6666666666666666,
              "#ed7953"
             ],
             [
              0.7777777777777778,
              "#fb9f3a"
             ],
             [
              0.8888888888888888,
              "#fdca26"
             ],
             [
              1,
              "#f0f921"
             ]
            ],
            "type": "histogram2dcontour"
           }
          ],
          "mesh3d": [
           {
            "colorbar": {
             "outlinewidth": 0,
             "ticks": ""
            },
            "type": "mesh3d"
           }
          ],
          "parcoords": [
           {
            "line": {
             "colorbar": {
              "outlinewidth": 0,
              "ticks": ""
             }
            },
            "type": "parcoords"
           }
          ],
          "pie": [
           {
            "automargin": true,
            "type": "pie"
           }
          ],
          "scatter": [
           {
            "fillpattern": {
             "fillmode": "overlay",
             "size": 10,
             "solidity": 0.2
            },
            "type": "scatter"
           }
          ],
          "scatter3d": [
           {
            "line": {
             "colorbar": {
              "outlinewidth": 0,
              "ticks": ""
             }
            },
            "marker": {
             "colorbar": {
              "outlinewidth": 0,
              "ticks": ""
             }
            },
            "type": "scatter3d"
           }
          ],
          "scattercarpet": [
           {
            "marker": {
             "colorbar": {
              "outlinewidth": 0,
              "ticks": ""
             }
            },
            "type": "scattercarpet"
           }
          ],
          "scattergeo": [
           {
            "marker": {
             "colorbar": {
              "outlinewidth": 0,
              "ticks": ""
             }
            },
            "type": "scattergeo"
           }
          ],
          "scattergl": [
           {
            "marker": {
             "colorbar": {
              "outlinewidth": 0,
              "ticks": ""
             }
            },
            "type": "scattergl"
           }
          ],
          "scattermapbox": [
           {
            "marker": {
             "colorbar": {
              "outlinewidth": 0,
              "ticks": ""
             }
            },
            "type": "scattermapbox"
           }
          ],
          "scatterpolar": [
           {
            "marker": {
             "colorbar": {
              "outlinewidth": 0,
              "ticks": ""
             }
            },
            "type": "scatterpolar"
           }
          ],
          "scatterpolargl": [
           {
            "marker": {
             "colorbar": {
              "outlinewidth": 0,
              "ticks": ""
             }
            },
            "type": "scatterpolargl"
           }
          ],
          "scatterternary": [
           {
            "marker": {
             "colorbar": {
              "outlinewidth": 0,
              "ticks": ""
             }
            },
            "type": "scatterternary"
           }
          ],
          "surface": [
           {
            "colorbar": {
             "outlinewidth": 0,
             "ticks": ""
            },
            "colorscale": [
             [
              0,
              "#0d0887"
             ],
             [
              0.1111111111111111,
              "#46039f"
             ],
             [
              0.2222222222222222,
              "#7201a8"
             ],
             [
              0.3333333333333333,
              "#9c179e"
             ],
             [
              0.4444444444444444,
              "#bd3786"
             ],
             [
              0.5555555555555556,
              "#d8576b"
             ],
             [
              0.6666666666666666,
              "#ed7953"
             ],
             [
              0.7777777777777778,
              "#fb9f3a"
             ],
             [
              0.8888888888888888,
              "#fdca26"
             ],
             [
              1,
              "#f0f921"
             ]
            ],
            "type": "surface"
           }
          ],
          "table": [
           {
            "cells": {
             "fill": {
              "color": "#EBF0F8"
             },
             "line": {
              "color": "white"
             }
            },
            "header": {
             "fill": {
              "color": "#C8D4E3"
             },
             "line": {
              "color": "white"
             }
            },
            "type": "table"
           }
          ]
         },
         "layout": {
          "annotationdefaults": {
           "arrowcolor": "#2a3f5f",
           "arrowhead": 0,
           "arrowwidth": 1
          },
          "autotypenumbers": "strict",
          "coloraxis": {
           "colorbar": {
            "outlinewidth": 0,
            "ticks": ""
           }
          },
          "colorscale": {
           "diverging": [
            [
             0,
             "#8e0152"
            ],
            [
             0.1,
             "#c51b7d"
            ],
            [
             0.2,
             "#de77ae"
            ],
            [
             0.3,
             "#f1b6da"
            ],
            [
             0.4,
             "#fde0ef"
            ],
            [
             0.5,
             "#f7f7f7"
            ],
            [
             0.6,
             "#e6f5d0"
            ],
            [
             0.7,
             "#b8e186"
            ],
            [
             0.8,
             "#7fbc41"
            ],
            [
             0.9,
             "#4d9221"
            ],
            [
             1,
             "#276419"
            ]
           ],
           "sequential": [
            [
             0,
             "#0d0887"
            ],
            [
             0.1111111111111111,
             "#46039f"
            ],
            [
             0.2222222222222222,
             "#7201a8"
            ],
            [
             0.3333333333333333,
             "#9c179e"
            ],
            [
             0.4444444444444444,
             "#bd3786"
            ],
            [
             0.5555555555555556,
             "#d8576b"
            ],
            [
             0.6666666666666666,
             "#ed7953"
            ],
            [
             0.7777777777777778,
             "#fb9f3a"
            ],
            [
             0.8888888888888888,
             "#fdca26"
            ],
            [
             1,
             "#f0f921"
            ]
           ],
           "sequentialminus": [
            [
             0,
             "#0d0887"
            ],
            [
             0.1111111111111111,
             "#46039f"
            ],
            [
             0.2222222222222222,
             "#7201a8"
            ],
            [
             0.3333333333333333,
             "#9c179e"
            ],
            [
             0.4444444444444444,
             "#bd3786"
            ],
            [
             0.5555555555555556,
             "#d8576b"
            ],
            [
             0.6666666666666666,
             "#ed7953"
            ],
            [
             0.7777777777777778,
             "#fb9f3a"
            ],
            [
             0.8888888888888888,
             "#fdca26"
            ],
            [
             1,
             "#f0f921"
            ]
           ]
          },
          "colorway": [
           "#636efa",
           "#EF553B",
           "#00cc96",
           "#ab63fa",
           "#FFA15A",
           "#19d3f3",
           "#FF6692",
           "#B6E880",
           "#FF97FF",
           "#FECB52"
          ],
          "font": {
           "color": "#2a3f5f"
          },
          "geo": {
           "bgcolor": "white",
           "lakecolor": "white",
           "landcolor": "#E5ECF6",
           "showlakes": true,
           "showland": true,
           "subunitcolor": "white"
          },
          "hoverlabel": {
           "align": "left"
          },
          "hovermode": "closest",
          "mapbox": {
           "style": "light"
          },
          "paper_bgcolor": "white",
          "plot_bgcolor": "#E5ECF6",
          "polar": {
           "angularaxis": {
            "gridcolor": "white",
            "linecolor": "white",
            "ticks": ""
           },
           "bgcolor": "#E5ECF6",
           "radialaxis": {
            "gridcolor": "white",
            "linecolor": "white",
            "ticks": ""
           }
          },
          "scene": {
           "xaxis": {
            "backgroundcolor": "#E5ECF6",
            "gridcolor": "white",
            "gridwidth": 2,
            "linecolor": "white",
            "showbackground": true,
            "ticks": "",
            "zerolinecolor": "white"
           },
           "yaxis": {
            "backgroundcolor": "#E5ECF6",
            "gridcolor": "white",
            "gridwidth": 2,
            "linecolor": "white",
            "showbackground": true,
            "ticks": "",
            "zerolinecolor": "white"
           },
           "zaxis": {
            "backgroundcolor": "#E5ECF6",
            "gridcolor": "white",
            "gridwidth": 2,
            "linecolor": "white",
            "showbackground": true,
            "ticks": "",
            "zerolinecolor": "white"
           }
          },
          "shapedefaults": {
           "line": {
            "color": "#2a3f5f"
           }
          },
          "ternary": {
           "aaxis": {
            "gridcolor": "white",
            "linecolor": "white",
            "ticks": ""
           },
           "baxis": {
            "gridcolor": "white",
            "linecolor": "white",
            "ticks": ""
           },
           "bgcolor": "#E5ECF6",
           "caxis": {
            "gridcolor": "white",
            "linecolor": "white",
            "ticks": ""
           }
          },
          "title": {
           "x": 0.05
          },
          "xaxis": {
           "automargin": true,
           "gridcolor": "white",
           "linecolor": "white",
           "ticks": "",
           "title": {
            "standoff": 15
           },
           "zerolinecolor": "white",
           "zerolinewidth": 2
          },
          "yaxis": {
           "automargin": true,
           "gridcolor": "white",
           "linecolor": "white",
           "ticks": "",
           "title": {
            "standoff": 15
           },
           "zerolinecolor": "white",
           "zerolinewidth": 2
          }
         }
        },
        "title": {
         "text": "Suicide Rate of 2021"
        },
        "xaxis": {
         "anchor": "y",
         "domain": [
          0,
          1
         ],
         "title": {
          "text": "country"
         }
        },
        "yaxis": {
         "anchor": "x",
         "domain": [
          0,
          1
         ],
         "title": {
          "text": "SuicideRate_BothSexes_RatePer100k_2021"
         }
        }
       }
      }
     },
     "metadata": {},
     "output_type": "display_data"
    },
    {
     "data": {
      "application/vnd.plotly.v1+json": {
       "config": {
        "plotlyServerURL": "https://plot.ly"
       },
       "data": [
        {
         "alignmentgroup": "True",
         "hovertemplate": "country=%{x}<br>SuicideRate_BothSexes_RatePer100k_2020=%{y}<extra></extra>",
         "legendgroup": "",
         "marker": {
          "color": "#636efa",
          "pattern": {
           "shape": ""
          }
         },
         "name": "",
         "offsetgroup": "",
         "orientation": "v",
         "showlegend": false,
         "textposition": "auto",
         "type": "bar",
         "x": [
          "India",
          "China",
          "United States",
          "Indonesia",
          "Pakistan",
          "Nigeria",
          "Brazil",
          "Bangladesh",
          "Russia",
          "Ethiopia",
          "Mexico",
          "Japan",
          "Egypt",
          "Philippines",
          "DR Congo",
          "Vietnam",
          "Iran",
          "Turkey",
          "Germany",
          "Thailand",
          "United Kingdom",
          "Tanzania",
          "France",
          "South Africa",
          "Italy",
          "Kenya",
          "Myanmar",
          "Colombia",
          "South Korea",
          "Sudan",
          "Uganda",
          "Spain",
          "Algeria",
          "Iraq",
          "Argentina",
          "Afghanistan",
          "Yemen",
          "Canada",
          "Poland",
          "Morocco",
          "Angola",
          "Ukraine",
          "Uzbekistan",
          "Malaysia",
          "Mozambique",
          "Ghana",
          "Peru",
          "Saudi Arabia",
          "Madagascar",
          "Ivory Coast",
          "Nepal",
          "Cameroon",
          "Venezuela",
          "Niger",
          "Australia",
          "North Korea",
          "Syria",
          "Mali",
          "Burkina Faso",
          "Taiwan",
          "Sri Lanka",
          "Malawi",
          "Zambia",
          "Kazakhstan",
          "Chad",
          "Chile",
          "Romania",
          "Somalia",
          "Senegal",
          "Guatemala",
          "Netherlands",
          "Ecuador",
          "Cambodia",
          "Zimbabwe",
          "Guinea",
          "Benin",
          "Rwanda",
          "Burundi",
          "Bolivia",
          "Tunisia",
          "South Sudan",
          "Haiti",
          "Belgium",
          "Jordan",
          "Dominican Republic",
          "United Arab Emirates",
          "Cuba",
          "Honduras",
          "Czech Republic",
          "Sweden",
          "Tajikistan",
          "Papua New Guinea",
          "Portugal",
          "Azerbaijan",
          "Greece",
          "Hungary",
          "Togo",
          "Israel",
          "Austria",
          "Belarus",
          "Switzerland",
          "Sierra Leone",
          "Laos",
          "Turkmenistan",
          "Libya",
          "Kyrgyzstan",
          "Paraguay",
          "Nicaragua",
          "Bulgaria",
          "Serbia",
          "El Salvador",
          "Republic of the Congo",
          "Denmark",
          "Singapore",
          "Lebanon",
          "Finland",
          "Liberia",
          "Norway",
          "Slovakia",
          "Palestine",
          "Central African Republic",
          "Oman",
          "Ireland",
          "New Zealand",
          "Mauritania",
          "Costa Rica",
          "Kuwait",
          "Panama",
          "Croatia",
          "Georgia",
          "Eritrea",
          "Mongolia",
          "Uruguay",
          "Puerto Rico",
          "Bosnia and Herzegovina",
          "Qatar",
          "Moldova",
          "Namibia",
          "Armenia",
          "Lithuania",
          "Jamaica",
          "Albania",
          "Gambia",
          "Gabon",
          "Botswana",
          "Lesotho",
          "Guinea-Bissau",
          "Slovenia",
          "Equatorial Guinea",
          "Latvia",
          "North Macedonia",
          "Bahrain",
          "Trinidad and Tobago",
          "Timor-Leste",
          "Estonia",
          "Cyprus",
          "Mauritius",
          "Eswatini",
          "Djibouti",
          "Fiji",
          "Comoros",
          "Guyana",
          "Solomon Islands",
          "Bhutan",
          "Luxembourg",
          "Montenegro",
          "Suriname",
          "Malta",
          "Maldives",
          "Cape Verde",
          "Brunei",
          "Belize",
          "Bahamas",
          "Iceland",
          "Vanuatu",
          "Barbados",
          "Sao Tome and Principe",
          "Samoa",
          "Saint Lucia",
          "Guam",
          "Kiribati",
          "Seychelles",
          "Grenada",
          "Micronesia",
          "Tonga",
          "Saint Vincent and the Grenadines",
          "Antigua and Barbuda",
          "United States Virgin Islands",
          "Andorra",
          "Dominica",
          "Bermuda",
          "Greenland",
          "Saint Kitts and Nevis",
          "American Samoa",
          "Northern Mariana Islands",
          "Monaco",
          "Marshall Islands",
          "San Marino",
          "Palau",
          "Cook Islands",
          "Nauru",
          "Tuvalu",
          "Tokelau",
          "Niue"
         ],
         "xaxis": "x",
         "y": [
          13.28,
          9.04,
          15.38,
          1.66,
          5.89,
          4.3,
          7.75,
          3.7,
          24.25,
          6.12,
          6.73,
          17.53,
          1.02,
          3.59,
          8.08,
          8.02,
          4.38,
          3.82,
          12.58,
          11.95,
          8.29,
          5.65,
          14.27,
          15.1,
          6.22,
          6.84,
          3.56,
          6.77,
          25.63,
          4.34,
          5.88,
          7.55,
          2.76,
          4.44,
          11.01,
          3.63,
          3.56,
          12.84,
          15.21,
          3.67,
          6.9,
          22.9,
          9.12,
          4.55,
          9.44,
          5.78,
          2.97,
          7.86,
          6.25,
          7.13,
          12.97,
          7.2,
          8.06,
          3.59,
          12.87,
          10.87,
          0.89,
          4.14,
          6.6,
          15.87,
          14.86,
          837,
          8.28,
          18.03,
          5.44,
          10.41,
          10.6,
          5.85,
          7.68,
          5.42,
          11.27,
          8.4,
          4.53,
          17.56,
          5.09,
          5.38,
          7.35,
          7.14,
          5.55,
          3.06,
          8.14,
          7.16,
          15.93,
          1.06,
          5.41,
          2.69,
          15.86,
          3.9,
          12.56,
          12.98,
          3.41,
          2.32,
          11.66,
          2.48,
          5.23,
          17.01,
          7.89,
          5.36,
          14.92,
          20.14,
          11.48,
          5.08,
          5.28,
          9.73,
          5.57,
          9.17,
          5.91,
          5.75,
          13.45,
          16.46,
          8.11,
          9.56,
          11.71,
          8.15,
          0.93,
          16.38,
          6.54,
          12.22,
          12.43,
          0.77,
          11.74,
          1.05,
          8.75,
          11.27,
          3.46,
          8.98,
          2.1,
          5.35,
          14.24,
          8.8,
          9.58,
          15.94,
          20.05,
          7.15,
          11.52,
          3.88,
          14.79,
          11.66,
          5.6,
          28.07,
          1.37,
          4.02,
          5.58,
          9.82,
          9.76,
          20.77,
          8.58,
          17.07,
          6.86,
          18.74,
          7.96,
          4.31,
          13.93,
          4.04,
          15.08,
          4.01,
          11.22,
          18.87,
          5.62,
          9.01,
          6.28,
          31.71,
          18.55,
          5.74,
          8.93,
          16.87,
          25.17,
          5.06,
          2.12,
          15.02,
          4.33,
          5.03,
          2.61,
          12.12,
          16.37,
          4.79,
          1.13,
          12.27,
          6.79,
          18.33,
          17.4,
          7.3,
          4.65,
          20.16,
          4.62,
          6.12,
          1.49,
          8.14,
          7.92,
          4.18,
          3.72,
          64.6,
          2.8,
          8.46,
          13.21,
          15.5,
          20.11,
          8.01,
          15.04,
          11.63,
          23.66,
          16.61,
          15.95,
          15.63
         ],
         "yaxis": "y"
        }
       ],
       "layout": {
        "barmode": "relative",
        "legend": {
         "tracegroupgap": 0
        },
        "template": {
         "data": {
          "bar": [
           {
            "error_x": {
             "color": "#2a3f5f"
            },
            "error_y": {
             "color": "#2a3f5f"
            },
            "marker": {
             "line": {
              "color": "#E5ECF6",
              "width": 0.5
             },
             "pattern": {
              "fillmode": "overlay",
              "size": 10,
              "solidity": 0.2
             }
            },
            "type": "bar"
           }
          ],
          "barpolar": [
           {
            "marker": {
             "line": {
              "color": "#E5ECF6",
              "width": 0.5
             },
             "pattern": {
              "fillmode": "overlay",
              "size": 10,
              "solidity": 0.2
             }
            },
            "type": "barpolar"
           }
          ],
          "carpet": [
           {
            "aaxis": {
             "endlinecolor": "#2a3f5f",
             "gridcolor": "white",
             "linecolor": "white",
             "minorgridcolor": "white",
             "startlinecolor": "#2a3f5f"
            },
            "baxis": {
             "endlinecolor": "#2a3f5f",
             "gridcolor": "white",
             "linecolor": "white",
             "minorgridcolor": "white",
             "startlinecolor": "#2a3f5f"
            },
            "type": "carpet"
           }
          ],
          "choropleth": [
           {
            "colorbar": {
             "outlinewidth": 0,
             "ticks": ""
            },
            "type": "choropleth"
           }
          ],
          "contour": [
           {
            "colorbar": {
             "outlinewidth": 0,
             "ticks": ""
            },
            "colorscale": [
             [
              0,
              "#0d0887"
             ],
             [
              0.1111111111111111,
              "#46039f"
             ],
             [
              0.2222222222222222,
              "#7201a8"
             ],
             [
              0.3333333333333333,
              "#9c179e"
             ],
             [
              0.4444444444444444,
              "#bd3786"
             ],
             [
              0.5555555555555556,
              "#d8576b"
             ],
             [
              0.6666666666666666,
              "#ed7953"
             ],
             [
              0.7777777777777778,
              "#fb9f3a"
             ],
             [
              0.8888888888888888,
              "#fdca26"
             ],
             [
              1,
              "#f0f921"
             ]
            ],
            "type": "contour"
           }
          ],
          "contourcarpet": [
           {
            "colorbar": {
             "outlinewidth": 0,
             "ticks": ""
            },
            "type": "contourcarpet"
           }
          ],
          "heatmap": [
           {
            "colorbar": {
             "outlinewidth": 0,
             "ticks": ""
            },
            "colorscale": [
             [
              0,
              "#0d0887"
             ],
             [
              0.1111111111111111,
              "#46039f"
             ],
             [
              0.2222222222222222,
              "#7201a8"
             ],
             [
              0.3333333333333333,
              "#9c179e"
             ],
             [
              0.4444444444444444,
              "#bd3786"
             ],
             [
              0.5555555555555556,
              "#d8576b"
             ],
             [
              0.6666666666666666,
              "#ed7953"
             ],
             [
              0.7777777777777778,
              "#fb9f3a"
             ],
             [
              0.8888888888888888,
              "#fdca26"
             ],
             [
              1,
              "#f0f921"
             ]
            ],
            "type": "heatmap"
           }
          ],
          "heatmapgl": [
           {
            "colorbar": {
             "outlinewidth": 0,
             "ticks": ""
            },
            "colorscale": [
             [
              0,
              "#0d0887"
             ],
             [
              0.1111111111111111,
              "#46039f"
             ],
             [
              0.2222222222222222,
              "#7201a8"
             ],
             [
              0.3333333333333333,
              "#9c179e"
             ],
             [
              0.4444444444444444,
              "#bd3786"
             ],
             [
              0.5555555555555556,
              "#d8576b"
             ],
             [
              0.6666666666666666,
              "#ed7953"
             ],
             [
              0.7777777777777778,
              "#fb9f3a"
             ],
             [
              0.8888888888888888,
              "#fdca26"
             ],
             [
              1,
              "#f0f921"
             ]
            ],
            "type": "heatmapgl"
           }
          ],
          "histogram": [
           {
            "marker": {
             "pattern": {
              "fillmode": "overlay",
              "size": 10,
              "solidity": 0.2
             }
            },
            "type": "histogram"
           }
          ],
          "histogram2d": [
           {
            "colorbar": {
             "outlinewidth": 0,
             "ticks": ""
            },
            "colorscale": [
             [
              0,
              "#0d0887"
             ],
             [
              0.1111111111111111,
              "#46039f"
             ],
             [
              0.2222222222222222,
              "#7201a8"
             ],
             [
              0.3333333333333333,
              "#9c179e"
             ],
             [
              0.4444444444444444,
              "#bd3786"
             ],
             [
              0.5555555555555556,
              "#d8576b"
             ],
             [
              0.6666666666666666,
              "#ed7953"
             ],
             [
              0.7777777777777778,
              "#fb9f3a"
             ],
             [
              0.8888888888888888,
              "#fdca26"
             ],
             [
              1,
              "#f0f921"
             ]
            ],
            "type": "histogram2d"
           }
          ],
          "histogram2dcontour": [
           {
            "colorbar": {
             "outlinewidth": 0,
             "ticks": ""
            },
            "colorscale": [
             [
              0,
              "#0d0887"
             ],
             [
              0.1111111111111111,
              "#46039f"
             ],
             [
              0.2222222222222222,
              "#7201a8"
             ],
             [
              0.3333333333333333,
              "#9c179e"
             ],
             [
              0.4444444444444444,
              "#bd3786"
             ],
             [
              0.5555555555555556,
              "#d8576b"
             ],
             [
              0.6666666666666666,
              "#ed7953"
             ],
             [
              0.7777777777777778,
              "#fb9f3a"
             ],
             [
              0.8888888888888888,
              "#fdca26"
             ],
             [
              1,
              "#f0f921"
             ]
            ],
            "type": "histogram2dcontour"
           }
          ],
          "mesh3d": [
           {
            "colorbar": {
             "outlinewidth": 0,
             "ticks": ""
            },
            "type": "mesh3d"
           }
          ],
          "parcoords": [
           {
            "line": {
             "colorbar": {
              "outlinewidth": 0,
              "ticks": ""
             }
            },
            "type": "parcoords"
           }
          ],
          "pie": [
           {
            "automargin": true,
            "type": "pie"
           }
          ],
          "scatter": [
           {
            "fillpattern": {
             "fillmode": "overlay",
             "size": 10,
             "solidity": 0.2
            },
            "type": "scatter"
           }
          ],
          "scatter3d": [
           {
            "line": {
             "colorbar": {
              "outlinewidth": 0,
              "ticks": ""
             }
            },
            "marker": {
             "colorbar": {
              "outlinewidth": 0,
              "ticks": ""
             }
            },
            "type": "scatter3d"
           }
          ],
          "scattercarpet": [
           {
            "marker": {
             "colorbar": {
              "outlinewidth": 0,
              "ticks": ""
             }
            },
            "type": "scattercarpet"
           }
          ],
          "scattergeo": [
           {
            "marker": {
             "colorbar": {
              "outlinewidth": 0,
              "ticks": ""
             }
            },
            "type": "scattergeo"
           }
          ],
          "scattergl": [
           {
            "marker": {
             "colorbar": {
              "outlinewidth": 0,
              "ticks": ""
             }
            },
            "type": "scattergl"
           }
          ],
          "scattermapbox": [
           {
            "marker": {
             "colorbar": {
              "outlinewidth": 0,
              "ticks": ""
             }
            },
            "type": "scattermapbox"
           }
          ],
          "scatterpolar": [
           {
            "marker": {
             "colorbar": {
              "outlinewidth": 0,
              "ticks": ""
             }
            },
            "type": "scatterpolar"
           }
          ],
          "scatterpolargl": [
           {
            "marker": {
             "colorbar": {
              "outlinewidth": 0,
              "ticks": ""
             }
            },
            "type": "scatterpolargl"
           }
          ],
          "scatterternary": [
           {
            "marker": {
             "colorbar": {
              "outlinewidth": 0,
              "ticks": ""
             }
            },
            "type": "scatterternary"
           }
          ],
          "surface": [
           {
            "colorbar": {
             "outlinewidth": 0,
             "ticks": ""
            },
            "colorscale": [
             [
              0,
              "#0d0887"
             ],
             [
              0.1111111111111111,
              "#46039f"
             ],
             [
              0.2222222222222222,
              "#7201a8"
             ],
             [
              0.3333333333333333,
              "#9c179e"
             ],
             [
              0.4444444444444444,
              "#bd3786"
             ],
             [
              0.5555555555555556,
              "#d8576b"
             ],
             [
              0.6666666666666666,
              "#ed7953"
             ],
             [
              0.7777777777777778,
              "#fb9f3a"
             ],
             [
              0.8888888888888888,
              "#fdca26"
             ],
             [
              1,
              "#f0f921"
             ]
            ],
            "type": "surface"
           }
          ],
          "table": [
           {
            "cells": {
             "fill": {
              "color": "#EBF0F8"
             },
             "line": {
              "color": "white"
             }
            },
            "header": {
             "fill": {
              "color": "#C8D4E3"
             },
             "line": {
              "color": "white"
             }
            },
            "type": "table"
           }
          ]
         },
         "layout": {
          "annotationdefaults": {
           "arrowcolor": "#2a3f5f",
           "arrowhead": 0,
           "arrowwidth": 1
          },
          "autotypenumbers": "strict",
          "coloraxis": {
           "colorbar": {
            "outlinewidth": 0,
            "ticks": ""
           }
          },
          "colorscale": {
           "diverging": [
            [
             0,
             "#8e0152"
            ],
            [
             0.1,
             "#c51b7d"
            ],
            [
             0.2,
             "#de77ae"
            ],
            [
             0.3,
             "#f1b6da"
            ],
            [
             0.4,
             "#fde0ef"
            ],
            [
             0.5,
             "#f7f7f7"
            ],
            [
             0.6,
             "#e6f5d0"
            ],
            [
             0.7,
             "#b8e186"
            ],
            [
             0.8,
             "#7fbc41"
            ],
            [
             0.9,
             "#4d9221"
            ],
            [
             1,
             "#276419"
            ]
           ],
           "sequential": [
            [
             0,
             "#0d0887"
            ],
            [
             0.1111111111111111,
             "#46039f"
            ],
            [
             0.2222222222222222,
             "#7201a8"
            ],
            [
             0.3333333333333333,
             "#9c179e"
            ],
            [
             0.4444444444444444,
             "#bd3786"
            ],
            [
             0.5555555555555556,
             "#d8576b"
            ],
            [
             0.6666666666666666,
             "#ed7953"
            ],
            [
             0.7777777777777778,
             "#fb9f3a"
            ],
            [
             0.8888888888888888,
             "#fdca26"
            ],
            [
             1,
             "#f0f921"
            ]
           ],
           "sequentialminus": [
            [
             0,
             "#0d0887"
            ],
            [
             0.1111111111111111,
             "#46039f"
            ],
            [
             0.2222222222222222,
             "#7201a8"
            ],
            [
             0.3333333333333333,
             "#9c179e"
            ],
            [
             0.4444444444444444,
             "#bd3786"
            ],
            [
             0.5555555555555556,
             "#d8576b"
            ],
            [
             0.6666666666666666,
             "#ed7953"
            ],
            [
             0.7777777777777778,
             "#fb9f3a"
            ],
            [
             0.8888888888888888,
             "#fdca26"
            ],
            [
             1,
             "#f0f921"
            ]
           ]
          },
          "colorway": [
           "#636efa",
           "#EF553B",
           "#00cc96",
           "#ab63fa",
           "#FFA15A",
           "#19d3f3",
           "#FF6692",
           "#B6E880",
           "#FF97FF",
           "#FECB52"
          ],
          "font": {
           "color": "#2a3f5f"
          },
          "geo": {
           "bgcolor": "white",
           "lakecolor": "white",
           "landcolor": "#E5ECF6",
           "showlakes": true,
           "showland": true,
           "subunitcolor": "white"
          },
          "hoverlabel": {
           "align": "left"
          },
          "hovermode": "closest",
          "mapbox": {
           "style": "light"
          },
          "paper_bgcolor": "white",
          "plot_bgcolor": "#E5ECF6",
          "polar": {
           "angularaxis": {
            "gridcolor": "white",
            "linecolor": "white",
            "ticks": ""
           },
           "bgcolor": "#E5ECF6",
           "radialaxis": {
            "gridcolor": "white",
            "linecolor": "white",
            "ticks": ""
           }
          },
          "scene": {
           "xaxis": {
            "backgroundcolor": "#E5ECF6",
            "gridcolor": "white",
            "gridwidth": 2,
            "linecolor": "white",
            "showbackground": true,
            "ticks": "",
            "zerolinecolor": "white"
           },
           "yaxis": {
            "backgroundcolor": "#E5ECF6",
            "gridcolor": "white",
            "gridwidth": 2,
            "linecolor": "white",
            "showbackground": true,
            "ticks": "",
            "zerolinecolor": "white"
           },
           "zaxis": {
            "backgroundcolor": "#E5ECF6",
            "gridcolor": "white",
            "gridwidth": 2,
            "linecolor": "white",
            "showbackground": true,
            "ticks": "",
            "zerolinecolor": "white"
           }
          },
          "shapedefaults": {
           "line": {
            "color": "#2a3f5f"
           }
          },
          "ternary": {
           "aaxis": {
            "gridcolor": "white",
            "linecolor": "white",
            "ticks": ""
           },
           "baxis": {
            "gridcolor": "white",
            "linecolor": "white",
            "ticks": ""
           },
           "bgcolor": "#E5ECF6",
           "caxis": {
            "gridcolor": "white",
            "linecolor": "white",
            "ticks": ""
           }
          },
          "title": {
           "x": 0.05
          },
          "xaxis": {
           "automargin": true,
           "gridcolor": "white",
           "linecolor": "white",
           "ticks": "",
           "title": {
            "standoff": 15
           },
           "zerolinecolor": "white",
           "zerolinewidth": 2
          },
          "yaxis": {
           "automargin": true,
           "gridcolor": "white",
           "linecolor": "white",
           "ticks": "",
           "title": {
            "standoff": 15
           },
           "zerolinecolor": "white",
           "zerolinewidth": 2
          }
         }
        },
        "title": {
         "text": "Suicide Rate of 2020"
        },
        "xaxis": {
         "anchor": "y",
         "domain": [
          0,
          1
         ],
         "title": {
          "text": "country"
         }
        },
        "yaxis": {
         "anchor": "x",
         "domain": [
          0,
          1
         ],
         "range": [
          0,
          60
         ],
         "title": {
          "text": "SuicideRate_BothSexes_RatePer100k_2020"
         }
        }
       }
      }
     },
     "metadata": {},
     "output_type": "display_data"
    },
    {
     "data": {
      "application/vnd.plotly.v1+json": {
       "config": {
        "plotlyServerURL": "https://plot.ly"
       },
       "data": [
        {
         "alignmentgroup": "True",
         "hovertemplate": "country=%{x}<br>SuicideRate_BothSexes_RatePer100k_2019=%{y}<extra></extra>",
         "legendgroup": "",
         "marker": {
          "color": "#636efa",
          "pattern": {
           "shape": ""
          }
         },
         "name": "",
         "offsetgroup": "",
         "orientation": "v",
         "showlegend": false,
         "textposition": "auto",
         "type": "bar",
         "x": [
          "India",
          "China",
          "United States",
          "Indonesia",
          "Pakistan",
          "Nigeria",
          "Brazil",
          "Bangladesh",
          "Russia",
          "Ethiopia",
          "Mexico",
          "Japan",
          "Egypt",
          "Philippines",
          "DR Congo",
          "Vietnam",
          "Iran",
          "Turkey",
          "Germany",
          "Thailand",
          "United Kingdom",
          "Tanzania",
          "France",
          "South Africa",
          "Italy",
          "Kenya",
          "Myanmar",
          "Colombia",
          "South Korea",
          "Sudan",
          "Uganda",
          "Spain",
          "Algeria",
          "Iraq",
          "Argentina",
          "Afghanistan",
          "Yemen",
          "Canada",
          "Poland",
          "Morocco",
          "Angola",
          "Ukraine",
          "Uzbekistan",
          "Malaysia",
          "Mozambique",
          "Ghana",
          "Peru",
          "Saudi Arabia",
          "Madagascar",
          "Ivory Coast",
          "Nepal",
          "Cameroon",
          "Venezuela",
          "Niger",
          "Australia",
          "North Korea",
          "Syria",
          "Mali",
          "Burkina Faso",
          "Taiwan",
          "Sri Lanka",
          "Malawi",
          "Zambia",
          "Kazakhstan",
          "Chad",
          "Chile",
          "Romania",
          "Somalia",
          "Senegal",
          "Guatemala",
          "Netherlands",
          "Ecuador",
          "Cambodia",
          "Zimbabwe",
          "Guinea",
          "Benin",
          "Rwanda",
          "Burundi",
          "Bolivia",
          "Tunisia",
          "South Sudan",
          "Haiti",
          "Belgium",
          "Jordan",
          "Dominican Republic",
          "United Arab Emirates",
          "Cuba",
          "Honduras",
          "Czech Republic",
          "Sweden",
          "Tajikistan",
          "Papua New Guinea",
          "Portugal",
          "Azerbaijan",
          "Greece",
          "Hungary",
          "Togo",
          "Israel",
          "Austria",
          "Belarus",
          "Switzerland",
          "Sierra Leone",
          "Laos",
          "Turkmenistan",
          "Libya",
          "Kyrgyzstan",
          "Paraguay",
          "Nicaragua",
          "Bulgaria",
          "Serbia",
          "El Salvador",
          "Republic of the Congo",
          "Denmark",
          "Singapore",
          "Lebanon",
          "Finland",
          "Liberia",
          "Norway",
          "Slovakia",
          "Palestine",
          "Central African Republic",
          "Oman",
          "Ireland",
          "New Zealand",
          "Mauritania",
          "Costa Rica",
          "Kuwait",
          "Panama",
          "Croatia",
          "Georgia",
          "Eritrea",
          "Mongolia",
          "Uruguay",
          "Puerto Rico",
          "Bosnia and Herzegovina",
          "Qatar",
          "Moldova",
          "Namibia",
          "Armenia",
          "Lithuania",
          "Jamaica",
          "Albania",
          "Gambia",
          "Gabon",
          "Botswana",
          "Lesotho",
          "Guinea-Bissau",
          "Slovenia",
          "Equatorial Guinea",
          "Latvia",
          "North Macedonia",
          "Bahrain",
          "Trinidad and Tobago",
          "Timor-Leste",
          "Estonia",
          "Cyprus",
          "Mauritius",
          "Eswatini",
          "Djibouti",
          "Fiji",
          "Comoros",
          "Guyana",
          "Solomon Islands",
          "Bhutan",
          "Luxembourg",
          "Montenegro",
          "Suriname",
          "Malta",
          "Maldives",
          "Cape Verde",
          "Brunei",
          "Belize",
          "Bahamas",
          "Iceland",
          "Vanuatu",
          "Barbados",
          "Sao Tome and Principe",
          "Samoa",
          "Saint Lucia",
          "Guam",
          "Kiribati",
          "Seychelles",
          "Grenada",
          "Micronesia",
          "Tonga",
          "Saint Vincent and the Grenadines",
          "Antigua and Barbuda",
          "United States Virgin Islands",
          "Andorra",
          "Dominica",
          "Bermuda",
          "Greenland",
          "Saint Kitts and Nevis",
          "American Samoa",
          "Northern Mariana Islands",
          "Monaco",
          "Marshall Islands",
          "San Marino",
          "Palau",
          "Cook Islands",
          "Nauru",
          "Tuvalu",
          "Tokelau",
          "Niue"
         ],
         "xaxis": "x",
         "y": [
          12.7,
          8.1,
          16.1,
          2.4,
          8.9,
          3.5,
          6.9,
          3.7,
          25.1,
          5.4,
          5.3,
          15.3,
          3,
          2.2,
          6.7,
          7.5,
          5.2,
          2.4,
          12.3,
          8.8,
          7.9,
          4.3,
          13.8,
          23.5,
          6.7,
          6.1,
          2.9,
          3.9,
          28.6,
          3.8,
          4.6,
          7.7,
          2.5,
          3.6,
          8.4,
          4.1,
          5.8,
          11.8,
          11.3,
          7.2,
          6.1,
          21.6,
          8,
          5.7,
          13.6,
          6.6,
          2.8,
          6,
          5.5,
          8.9,
          9,
          9,
          2.1,
          5.3,
          12.5,
          9.4,
          2,
          4.1,
          7.5,
          null,
          14,
          5.4,
          7.3,
          17.6,
          6.4,
          9,
          9.7,
          7.9,
          6,
          5.9,
          11.8,
          7.6,
          4.9,
          14.1,
          7,
          7.8,
          5.6,
          6.2,
          6.2,
          3.3,
          3.9,
          9.6,
          18.3,
          1.6,
          4.9,
          6.4,
          14.5,
          2.1,
          12.2,
          14.7,
          4.3,
          3,
          11.5,
          4.1,
          5.1,
          16.6,
          8.8,
          5.3,
          14.6,
          21.2,
          14.5,
          6.7,
          5.4,
          5.7,
          4.5,
          7.4,
          6,
          4.4,
          9.7,
          11.4,
          6.1,
          6.5,
          10.7,
          11.2,
          2.8,
          15.3,
          4.5,
          11.8,
          12.1,
          null,
          12.3,
          4.9,
          9.6,
          11,
          3.1,
          8.1,
          2.9,
          2.9,
          16.4,
          9.2,
          10.9,
          17.9,
          21.2,
          null,
          10.9,
          5.8,
          14.7,
          9.7,
          3.3,
          26.1,
          2.4,
          4.3,
          4.8,
          8.4,
          16.1,
          72.4,
          7,
          19.8,
          7.9,
          20.1,
          9.4,
          8.9,
          8.7,
          3.7,
          14.9,
          3.6,
          9.5,
          29.4,
          9.6,
          9,
          5.4,
          40.3,
          14.7,
          4.6,
          11.3,
          21,
          25.4,
          6.1,
          2.7,
          12.9,
          2.7,
          7.1,
          3.5,
          11.9,
          18,
          0.6,
          1.5,
          12.6,
          7.9,
          null,
          28.3,
          8.1,
          0.7,
          28.2,
          3.8,
          1,
          0.4,
          null,
          null,
          null,
          null,
          null,
          null,
          null,
          null,
          null,
          null,
          null,
          null,
          null,
          null,
          null,
          null,
          null
         ],
         "yaxis": "y"
        }
       ],
       "layout": {
        "barmode": "relative",
        "legend": {
         "tracegroupgap": 0
        },
        "template": {
         "data": {
          "bar": [
           {
            "error_x": {
             "color": "#2a3f5f"
            },
            "error_y": {
             "color": "#2a3f5f"
            },
            "marker": {
             "line": {
              "color": "#E5ECF6",
              "width": 0.5
             },
             "pattern": {
              "fillmode": "overlay",
              "size": 10,
              "solidity": 0.2
             }
            },
            "type": "bar"
           }
          ],
          "barpolar": [
           {
            "marker": {
             "line": {
              "color": "#E5ECF6",
              "width": 0.5
             },
             "pattern": {
              "fillmode": "overlay",
              "size": 10,
              "solidity": 0.2
             }
            },
            "type": "barpolar"
           }
          ],
          "carpet": [
           {
            "aaxis": {
             "endlinecolor": "#2a3f5f",
             "gridcolor": "white",
             "linecolor": "white",
             "minorgridcolor": "white",
             "startlinecolor": "#2a3f5f"
            },
            "baxis": {
             "endlinecolor": "#2a3f5f",
             "gridcolor": "white",
             "linecolor": "white",
             "minorgridcolor": "white",
             "startlinecolor": "#2a3f5f"
            },
            "type": "carpet"
           }
          ],
          "choropleth": [
           {
            "colorbar": {
             "outlinewidth": 0,
             "ticks": ""
            },
            "type": "choropleth"
           }
          ],
          "contour": [
           {
            "colorbar": {
             "outlinewidth": 0,
             "ticks": ""
            },
            "colorscale": [
             [
              0,
              "#0d0887"
             ],
             [
              0.1111111111111111,
              "#46039f"
             ],
             [
              0.2222222222222222,
              "#7201a8"
             ],
             [
              0.3333333333333333,
              "#9c179e"
             ],
             [
              0.4444444444444444,
              "#bd3786"
             ],
             [
              0.5555555555555556,
              "#d8576b"
             ],
             [
              0.6666666666666666,
              "#ed7953"
             ],
             [
              0.7777777777777778,
              "#fb9f3a"
             ],
             [
              0.8888888888888888,
              "#fdca26"
             ],
             [
              1,
              "#f0f921"
             ]
            ],
            "type": "contour"
           }
          ],
          "contourcarpet": [
           {
            "colorbar": {
             "outlinewidth": 0,
             "ticks": ""
            },
            "type": "contourcarpet"
           }
          ],
          "heatmap": [
           {
            "colorbar": {
             "outlinewidth": 0,
             "ticks": ""
            },
            "colorscale": [
             [
              0,
              "#0d0887"
             ],
             [
              0.1111111111111111,
              "#46039f"
             ],
             [
              0.2222222222222222,
              "#7201a8"
             ],
             [
              0.3333333333333333,
              "#9c179e"
             ],
             [
              0.4444444444444444,
              "#bd3786"
             ],
             [
              0.5555555555555556,
              "#d8576b"
             ],
             [
              0.6666666666666666,
              "#ed7953"
             ],
             [
              0.7777777777777778,
              "#fb9f3a"
             ],
             [
              0.8888888888888888,
              "#fdca26"
             ],
             [
              1,
              "#f0f921"
             ]
            ],
            "type": "heatmap"
           }
          ],
          "heatmapgl": [
           {
            "colorbar": {
             "outlinewidth": 0,
             "ticks": ""
            },
            "colorscale": [
             [
              0,
              "#0d0887"
             ],
             [
              0.1111111111111111,
              "#46039f"
             ],
             [
              0.2222222222222222,
              "#7201a8"
             ],
             [
              0.3333333333333333,
              "#9c179e"
             ],
             [
              0.4444444444444444,
              "#bd3786"
             ],
             [
              0.5555555555555556,
              "#d8576b"
             ],
             [
              0.6666666666666666,
              "#ed7953"
             ],
             [
              0.7777777777777778,
              "#fb9f3a"
             ],
             [
              0.8888888888888888,
              "#fdca26"
             ],
             [
              1,
              "#f0f921"
             ]
            ],
            "type": "heatmapgl"
           }
          ],
          "histogram": [
           {
            "marker": {
             "pattern": {
              "fillmode": "overlay",
              "size": 10,
              "solidity": 0.2
             }
            },
            "type": "histogram"
           }
          ],
          "histogram2d": [
           {
            "colorbar": {
             "outlinewidth": 0,
             "ticks": ""
            },
            "colorscale": [
             [
              0,
              "#0d0887"
             ],
             [
              0.1111111111111111,
              "#46039f"
             ],
             [
              0.2222222222222222,
              "#7201a8"
             ],
             [
              0.3333333333333333,
              "#9c179e"
             ],
             [
              0.4444444444444444,
              "#bd3786"
             ],
             [
              0.5555555555555556,
              "#d8576b"
             ],
             [
              0.6666666666666666,
              "#ed7953"
             ],
             [
              0.7777777777777778,
              "#fb9f3a"
             ],
             [
              0.8888888888888888,
              "#fdca26"
             ],
             [
              1,
              "#f0f921"
             ]
            ],
            "type": "histogram2d"
           }
          ],
          "histogram2dcontour": [
           {
            "colorbar": {
             "outlinewidth": 0,
             "ticks": ""
            },
            "colorscale": [
             [
              0,
              "#0d0887"
             ],
             [
              0.1111111111111111,
              "#46039f"
             ],
             [
              0.2222222222222222,
              "#7201a8"
             ],
             [
              0.3333333333333333,
              "#9c179e"
             ],
             [
              0.4444444444444444,
              "#bd3786"
             ],
             [
              0.5555555555555556,
              "#d8576b"
             ],
             [
              0.6666666666666666,
              "#ed7953"
             ],
             [
              0.7777777777777778,
              "#fb9f3a"
             ],
             [
              0.8888888888888888,
              "#fdca26"
             ],
             [
              1,
              "#f0f921"
             ]
            ],
            "type": "histogram2dcontour"
           }
          ],
          "mesh3d": [
           {
            "colorbar": {
             "outlinewidth": 0,
             "ticks": ""
            },
            "type": "mesh3d"
           }
          ],
          "parcoords": [
           {
            "line": {
             "colorbar": {
              "outlinewidth": 0,
              "ticks": ""
             }
            },
            "type": "parcoords"
           }
          ],
          "pie": [
           {
            "automargin": true,
            "type": "pie"
           }
          ],
          "scatter": [
           {
            "fillpattern": {
             "fillmode": "overlay",
             "size": 10,
             "solidity": 0.2
            },
            "type": "scatter"
           }
          ],
          "scatter3d": [
           {
            "line": {
             "colorbar": {
              "outlinewidth": 0,
              "ticks": ""
             }
            },
            "marker": {
             "colorbar": {
              "outlinewidth": 0,
              "ticks": ""
             }
            },
            "type": "scatter3d"
           }
          ],
          "scattercarpet": [
           {
            "marker": {
             "colorbar": {
              "outlinewidth": 0,
              "ticks": ""
             }
            },
            "type": "scattercarpet"
           }
          ],
          "scattergeo": [
           {
            "marker": {
             "colorbar": {
              "outlinewidth": 0,
              "ticks": ""
             }
            },
            "type": "scattergeo"
           }
          ],
          "scattergl": [
           {
            "marker": {
             "colorbar": {
              "outlinewidth": 0,
              "ticks": ""
             }
            },
            "type": "scattergl"
           }
          ],
          "scattermapbox": [
           {
            "marker": {
             "colorbar": {
              "outlinewidth": 0,
              "ticks": ""
             }
            },
            "type": "scattermapbox"
           }
          ],
          "scatterpolar": [
           {
            "marker": {
             "colorbar": {
              "outlinewidth": 0,
              "ticks": ""
             }
            },
            "type": "scatterpolar"
           }
          ],
          "scatterpolargl": [
           {
            "marker": {
             "colorbar": {
              "outlinewidth": 0,
              "ticks": ""
             }
            },
            "type": "scatterpolargl"
           }
          ],
          "scatterternary": [
           {
            "marker": {
             "colorbar": {
              "outlinewidth": 0,
              "ticks": ""
             }
            },
            "type": "scatterternary"
           }
          ],
          "surface": [
           {
            "colorbar": {
             "outlinewidth": 0,
             "ticks": ""
            },
            "colorscale": [
             [
              0,
              "#0d0887"
             ],
             [
              0.1111111111111111,
              "#46039f"
             ],
             [
              0.2222222222222222,
              "#7201a8"
             ],
             [
              0.3333333333333333,
              "#9c179e"
             ],
             [
              0.4444444444444444,
              "#bd3786"
             ],
             [
              0.5555555555555556,
              "#d8576b"
             ],
             [
              0.6666666666666666,
              "#ed7953"
             ],
             [
              0.7777777777777778,
              "#fb9f3a"
             ],
             [
              0.8888888888888888,
              "#fdca26"
             ],
             [
              1,
              "#f0f921"
             ]
            ],
            "type": "surface"
           }
          ],
          "table": [
           {
            "cells": {
             "fill": {
              "color": "#EBF0F8"
             },
             "line": {
              "color": "white"
             }
            },
            "header": {
             "fill": {
              "color": "#C8D4E3"
             },
             "line": {
              "color": "white"
             }
            },
            "type": "table"
           }
          ]
         },
         "layout": {
          "annotationdefaults": {
           "arrowcolor": "#2a3f5f",
           "arrowhead": 0,
           "arrowwidth": 1
          },
          "autotypenumbers": "strict",
          "coloraxis": {
           "colorbar": {
            "outlinewidth": 0,
            "ticks": ""
           }
          },
          "colorscale": {
           "diverging": [
            [
             0,
             "#8e0152"
            ],
            [
             0.1,
             "#c51b7d"
            ],
            [
             0.2,
             "#de77ae"
            ],
            [
             0.3,
             "#f1b6da"
            ],
            [
             0.4,
             "#fde0ef"
            ],
            [
             0.5,
             "#f7f7f7"
            ],
            [
             0.6,
             "#e6f5d0"
            ],
            [
             0.7,
             "#b8e186"
            ],
            [
             0.8,
             "#7fbc41"
            ],
            [
             0.9,
             "#4d9221"
            ],
            [
             1,
             "#276419"
            ]
           ],
           "sequential": [
            [
             0,
             "#0d0887"
            ],
            [
             0.1111111111111111,
             "#46039f"
            ],
            [
             0.2222222222222222,
             "#7201a8"
            ],
            [
             0.3333333333333333,
             "#9c179e"
            ],
            [
             0.4444444444444444,
             "#bd3786"
            ],
            [
             0.5555555555555556,
             "#d8576b"
            ],
            [
             0.6666666666666666,
             "#ed7953"
            ],
            [
             0.7777777777777778,
             "#fb9f3a"
            ],
            [
             0.8888888888888888,
             "#fdca26"
            ],
            [
             1,
             "#f0f921"
            ]
           ],
           "sequentialminus": [
            [
             0,
             "#0d0887"
            ],
            [
             0.1111111111111111,
             "#46039f"
            ],
            [
             0.2222222222222222,
             "#7201a8"
            ],
            [
             0.3333333333333333,
             "#9c179e"
            ],
            [
             0.4444444444444444,
             "#bd3786"
            ],
            [
             0.5555555555555556,
             "#d8576b"
            ],
            [
             0.6666666666666666,
             "#ed7953"
            ],
            [
             0.7777777777777778,
             "#fb9f3a"
            ],
            [
             0.8888888888888888,
             "#fdca26"
            ],
            [
             1,
             "#f0f921"
            ]
           ]
          },
          "colorway": [
           "#636efa",
           "#EF553B",
           "#00cc96",
           "#ab63fa",
           "#FFA15A",
           "#19d3f3",
           "#FF6692",
           "#B6E880",
           "#FF97FF",
           "#FECB52"
          ],
          "font": {
           "color": "#2a3f5f"
          },
          "geo": {
           "bgcolor": "white",
           "lakecolor": "white",
           "landcolor": "#E5ECF6",
           "showlakes": true,
           "showland": true,
           "subunitcolor": "white"
          },
          "hoverlabel": {
           "align": "left"
          },
          "hovermode": "closest",
          "mapbox": {
           "style": "light"
          },
          "paper_bgcolor": "white",
          "plot_bgcolor": "#E5ECF6",
          "polar": {
           "angularaxis": {
            "gridcolor": "white",
            "linecolor": "white",
            "ticks": ""
           },
           "bgcolor": "#E5ECF6",
           "radialaxis": {
            "gridcolor": "white",
            "linecolor": "white",
            "ticks": ""
           }
          },
          "scene": {
           "xaxis": {
            "backgroundcolor": "#E5ECF6",
            "gridcolor": "white",
            "gridwidth": 2,
            "linecolor": "white",
            "showbackground": true,
            "ticks": "",
            "zerolinecolor": "white"
           },
           "yaxis": {
            "backgroundcolor": "#E5ECF6",
            "gridcolor": "white",
            "gridwidth": 2,
            "linecolor": "white",
            "showbackground": true,
            "ticks": "",
            "zerolinecolor": "white"
           },
           "zaxis": {
            "backgroundcolor": "#E5ECF6",
            "gridcolor": "white",
            "gridwidth": 2,
            "linecolor": "white",
            "showbackground": true,
            "ticks": "",
            "zerolinecolor": "white"
           }
          },
          "shapedefaults": {
           "line": {
            "color": "#2a3f5f"
           }
          },
          "ternary": {
           "aaxis": {
            "gridcolor": "white",
            "linecolor": "white",
            "ticks": ""
           },
           "baxis": {
            "gridcolor": "white",
            "linecolor": "white",
            "ticks": ""
           },
           "bgcolor": "#E5ECF6",
           "caxis": {
            "gridcolor": "white",
            "linecolor": "white",
            "ticks": ""
           }
          },
          "title": {
           "x": 0.05
          },
          "xaxis": {
           "automargin": true,
           "gridcolor": "white",
           "linecolor": "white",
           "ticks": "",
           "title": {
            "standoff": 15
           },
           "zerolinecolor": "white",
           "zerolinewidth": 2
          },
          "yaxis": {
           "automargin": true,
           "gridcolor": "white",
           "linecolor": "white",
           "ticks": "",
           "title": {
            "standoff": 15
           },
           "zerolinecolor": "white",
           "zerolinewidth": 2
          }
         }
        },
        "title": {
         "text": "Suicide Rate of 2019"
        },
        "xaxis": {
         "anchor": "y",
         "domain": [
          0,
          1
         ],
         "title": {
          "text": "country"
         }
        },
        "yaxis": {
         "anchor": "x",
         "domain": [
          0,
          1
         ],
         "title": {
          "text": "SuicideRate_BothSexes_RatePer100k_2019"
         }
        }
       }
      }
     },
     "metadata": {},
     "output_type": "display_data"
    }
   ],
   "source": [
    "both_df = df[['SuicideRate_BothSexes_RatePer100k_2021', \n",
    "               'SuicideRate_BothSexes_RatePer100k_2020', \n",
    "               'SuicideRate_BothSexes_RatePer100k_2019']]\n",
    "\n",
    "for columns in both_df.columns:\n",
    "    year = columns.split('_')[-1]\n",
    "    fig = px.bar(\n",
    "        df,\n",
    "        x=df['country'],\n",
    "        y=columns,\n",
    "        title=f'Suicide Rate of {year}',\n",
    "    )\n",
    "    \n",
    "    # Increase y-axis scale for 2020\n",
    "    if year == '2020':\n",
    "        fig.update_yaxes(range=[0, 60])  # Adjust the range as needed\n",
    "\n",
    "    fig.show()\n"
   ]
  },
  {
   "cell_type": "markdown",
   "metadata": {},
   "source": [
    "<div  style=\"font-family: Arial, sans-serif; font-size: 20px; background-color: #7b2cbf; color: #ffffff; padding: 7px 15px; text-decoration: none; border-radius: 15px;\">\n",
    "⭐\n",
    " \n",
    "</div>"
   ]
  },
  {
   "cell_type": "markdown",
   "metadata": {},
   "source": [
    "<a id=\"33\"></a>\n",
    "### <div style=\"text-align:left; border-radius:15px; padding:20px; color:Black; margin:0; font-size:100%; font-family:Arial; background-color:#48cae4; overflow:hidden\"><b>⚡ 3. Melt the DataFrame to a long format for easier plotting</b>\n",
    "<a href=\"#table-of-contents\" style=\"font-family: Arial, sans-serif; font-size: 15px; background-color: #7b2cbf; color: #ffffff; padding: 7px 15px; text-decoration: none; border-radius: 15px;\">\n",
    "        [Table of Content 📜⬆️]\n",
    "</a>\n",
    "</div>"
   ]
  },
  {
   "cell_type": "code",
   "execution_count": 12,
   "metadata": {},
   "outputs": [],
   "source": [
    "# Melt the DataFrame to a long format for easier plotting\n",
    "df_melted = df.melt(id_vars=['country'], \n",
    "                    value_vars=['SuicideRate_BothSexes_RatePer100k_2021', \n",
    "                                'SuicideRate_Male_RatePer100k_2021',\n",
    "                                'SuicideRate_Female_RatePer100k_2021',\n",
    "                                'SuicideRate_BothSexes_RatePer100k_2020',\n",
    "                                'SuicideRate_Male_RatePer100k_2020',\n",
    "                                'SuicideRate_Female_RatePer100k_2020',\n",
    "                                'SuicideRate_BothSexes_RatePer100k_2019',\n",
    "                                'SuicideRate_Male_RatePer100k_2019',\n",
    "                                'SuicideRate_Female_RatePer100k_2019'],\n",
    "                    var_name='Year_Gender', \n",
    "                    value_name='SuicideRate')\n",
    "\n",
    "# Split 'Year_Gender' into separate 'Year' and 'Gender' columns\n",
    "df_melted['Year'] = df_melted['Year_Gender'].str.extract(r'(\\d{4})')\n",
    "df_melted['Gender'] = df_melted['Year_Gender'].str.extract(r'(BothSexes|Male|Female)')\n"
   ]
  },
  {
   "cell_type": "code",
   "execution_count": 19,
   "metadata": {},
   "outputs": [
    {
     "data": {
      "text/html": [
       "<div>\n",
       "<style scoped>\n",
       "    .dataframe tbody tr th:only-of-type {\n",
       "        vertical-align: middle;\n",
       "    }\n",
       "\n",
       "    .dataframe tbody tr th {\n",
       "        vertical-align: top;\n",
       "    }\n",
       "\n",
       "    .dataframe thead th {\n",
       "        text-align: right;\n",
       "    }\n",
       "</style>\n",
       "<table border=\"1\" class=\"dataframe\">\n",
       "  <thead>\n",
       "    <tr style=\"text-align: right;\">\n",
       "      <th></th>\n",
       "      <th>country</th>\n",
       "      <th>Year_Gender</th>\n",
       "      <th>SuicideRate</th>\n",
       "      <th>Year</th>\n",
       "      <th>Gender</th>\n",
       "    </tr>\n",
       "  </thead>\n",
       "  <tbody>\n",
       "    <tr>\n",
       "      <th>0</th>\n",
       "      <td>India</td>\n",
       "      <td>SuicideRate_BothSexes_RatePer100k_2021</td>\n",
       "      <td>13.33</td>\n",
       "      <td>2021</td>\n",
       "      <td>BothSexes</td>\n",
       "    </tr>\n",
       "    <tr>\n",
       "      <th>1</th>\n",
       "      <td>China</td>\n",
       "      <td>SuicideRate_BothSexes_RatePer100k_2021</td>\n",
       "      <td>9.17</td>\n",
       "      <td>2021</td>\n",
       "      <td>BothSexes</td>\n",
       "    </tr>\n",
       "    <tr>\n",
       "      <th>2</th>\n",
       "      <td>United States</td>\n",
       "      <td>SuicideRate_BothSexes_RatePer100k_2021</td>\n",
       "      <td>15.25</td>\n",
       "      <td>2021</td>\n",
       "      <td>BothSexes</td>\n",
       "    </tr>\n",
       "    <tr>\n",
       "      <th>3</th>\n",
       "      <td>Indonesia</td>\n",
       "      <td>SuicideRate_BothSexes_RatePer100k_2021</td>\n",
       "      <td>1.64</td>\n",
       "      <td>2021</td>\n",
       "      <td>BothSexes</td>\n",
       "    </tr>\n",
       "    <tr>\n",
       "      <th>4</th>\n",
       "      <td>Pakistan</td>\n",
       "      <td>SuicideRate_BothSexes_RatePer100k_2021</td>\n",
       "      <td>5.82</td>\n",
       "      <td>2021</td>\n",
       "      <td>BothSexes</td>\n",
       "    </tr>\n",
       "    <tr>\n",
       "      <th>...</th>\n",
       "      <td>...</td>\n",
       "      <td>...</td>\n",
       "      <td>...</td>\n",
       "      <td>...</td>\n",
       "      <td>...</td>\n",
       "    </tr>\n",
       "    <tr>\n",
       "      <th>1831</th>\n",
       "      <td>Cook Islands</td>\n",
       "      <td>SuicideRate_Female_RatePer100k_2019</td>\n",
       "      <td>NaN</td>\n",
       "      <td>2019</td>\n",
       "      <td>Female</td>\n",
       "    </tr>\n",
       "    <tr>\n",
       "      <th>1832</th>\n",
       "      <td>Nauru</td>\n",
       "      <td>SuicideRate_Female_RatePer100k_2019</td>\n",
       "      <td>NaN</td>\n",
       "      <td>2019</td>\n",
       "      <td>Female</td>\n",
       "    </tr>\n",
       "    <tr>\n",
       "      <th>1833</th>\n",
       "      <td>Tuvalu</td>\n",
       "      <td>SuicideRate_Female_RatePer100k_2019</td>\n",
       "      <td>NaN</td>\n",
       "      <td>2019</td>\n",
       "      <td>Female</td>\n",
       "    </tr>\n",
       "    <tr>\n",
       "      <th>1834</th>\n",
       "      <td>Tokelau</td>\n",
       "      <td>SuicideRate_Female_RatePer100k_2019</td>\n",
       "      <td>NaN</td>\n",
       "      <td>2019</td>\n",
       "      <td>Female</td>\n",
       "    </tr>\n",
       "    <tr>\n",
       "      <th>1835</th>\n",
       "      <td>Niue</td>\n",
       "      <td>SuicideRate_Female_RatePer100k_2019</td>\n",
       "      <td>NaN</td>\n",
       "      <td>2019</td>\n",
       "      <td>Female</td>\n",
       "    </tr>\n",
       "  </tbody>\n",
       "</table>\n",
       "<p>1836 rows × 5 columns</p>\n",
       "</div>"
      ],
      "text/plain": [
       "            country                             Year_Gender  SuicideRate  \\\n",
       "0             India  SuicideRate_BothSexes_RatePer100k_2021        13.33   \n",
       "1             China  SuicideRate_BothSexes_RatePer100k_2021         9.17   \n",
       "2     United States  SuicideRate_BothSexes_RatePer100k_2021        15.25   \n",
       "3         Indonesia  SuicideRate_BothSexes_RatePer100k_2021         1.64   \n",
       "4          Pakistan  SuicideRate_BothSexes_RatePer100k_2021         5.82   \n",
       "...             ...                                     ...          ...   \n",
       "1831   Cook Islands     SuicideRate_Female_RatePer100k_2019          NaN   \n",
       "1832          Nauru     SuicideRate_Female_RatePer100k_2019          NaN   \n",
       "1833         Tuvalu     SuicideRate_Female_RatePer100k_2019          NaN   \n",
       "1834        Tokelau     SuicideRate_Female_RatePer100k_2019          NaN   \n",
       "1835           Niue     SuicideRate_Female_RatePer100k_2019          NaN   \n",
       "\n",
       "      Year     Gender  \n",
       "0     2021  BothSexes  \n",
       "1     2021  BothSexes  \n",
       "2     2021  BothSexes  \n",
       "3     2021  BothSexes  \n",
       "4     2021  BothSexes  \n",
       "...    ...        ...  \n",
       "1831  2019     Female  \n",
       "1832  2019     Female  \n",
       "1833  2019     Female  \n",
       "1834  2019     Female  \n",
       "1835  2019     Female  \n",
       "\n",
       "[1836 rows x 5 columns]"
      ]
     },
     "execution_count": 19,
     "metadata": {},
     "output_type": "execute_result"
    }
   ],
   "source": [
    "df_melted"
   ]
  },
  {
   "cell_type": "markdown",
   "metadata": {},
   "source": [
    "<div  style=\"font-family: Arial, sans-serif; font-size: 20px; background-color: #7b2cbf; color: #ffffff; padding: 7px 15px; text-decoration: none; border-radius: 15px;\">\n",
    "⭐\n",
    " \n",
    "</div>"
   ]
  },
  {
   "cell_type": "markdown",
   "metadata": {},
   "source": [
    "<a id=\"34\"></a>\n",
    "### <div style=\"text-align:left; border-radius:15px; padding:20px; color:Black; margin:0; font-size:100%; font-family:Arial; background-color:#48cae4; overflow:hidden\"><b>⚡4. Suicide Rates for Males, and Females (2019-2021) </b>\n",
    "<a href=\"#table-of-contents\" style=\"font-family: Arial, sans-serif; font-size: 15px; background-color: #7b2cbf; color: #ffffff; padding: 7px 15px; text-decoration: none; border-radius: 15px;\">\n",
    "        [Table of Content 📜⬆️]\n",
    "</a>\n",
    "</div>\n"
   ]
  },
  {
   "cell_type": "code",
   "execution_count": 13,
   "metadata": {},
   "outputs": [
    {
     "data": {
      "application/vnd.plotly.v1+json": {
       "config": {
        "plotlyServerURL": "https://plot.ly"
       },
       "data": [
        {
         "alignmentgroup": "True",
         "hovertemplate": "Gender=Male<br>Year=2021<br>country=%{x}<br>Rate per 100k=%{y}<extra></extra>",
         "legendgroup": "Male",
         "marker": {
          "color": "#636efa",
          "pattern": {
           "shape": ""
          }
         },
         "name": "Male",
         "offsetgroup": "Male",
         "orientation": "v",
         "showlegend": true,
         "textposition": "auto",
         "type": "bar",
         "x": [
          "India",
          "China",
          "United States",
          "Indonesia",
          "Pakistan",
          "Nigeria",
          "Brazil",
          "Bangladesh",
          "Russia",
          "Ethiopia",
          "Mexico",
          "Japan",
          "Egypt",
          "Philippines",
          "DR Congo",
          "Vietnam",
          "Iran",
          "Turkey",
          "Germany",
          "Thailand",
          "United Kingdom",
          "Tanzania",
          "France",
          "South Africa",
          "Italy",
          "Kenya",
          "Myanmar",
          "Colombia",
          "South Korea",
          "Sudan",
          "Uganda",
          "Spain",
          "Algeria",
          "Iraq",
          "Argentina",
          "Afghanistan",
          "Yemen",
          "Canada",
          "Poland",
          "Morocco",
          "Angola",
          "Ukraine",
          "Uzbekistan",
          "Malaysia",
          "Mozambique",
          "Ghana",
          "Peru",
          "Saudi Arabia",
          "Madagascar",
          "Ivory Coast",
          "Nepal",
          "Cameroon",
          "Venezuela",
          "Niger",
          "Australia",
          "North Korea",
          "Syria",
          "Mali",
          "Burkina Faso",
          "Taiwan",
          "Sri Lanka",
          "Malawi",
          "Zambia",
          "Kazakhstan",
          "Chad",
          "Chile",
          "Romania",
          "Somalia",
          "Senegal",
          "Guatemala",
          "Netherlands",
          "Ecuador",
          "Cambodia",
          "Zimbabwe",
          "Guinea",
          "Benin",
          "Rwanda",
          "Burundi",
          "Bolivia",
          "Tunisia",
          "South Sudan",
          "Haiti",
          "Belgium",
          "Jordan",
          "Dominican Republic",
          "United Arab Emirates",
          "Cuba",
          "Honduras",
          "Czech Republic",
          "Sweden",
          "Tajikistan",
          "Papua New Guinea",
          "Portugal",
          "Azerbaijan",
          "Greece",
          "Hungary",
          "Togo",
          "Israel",
          "Austria",
          "Belarus",
          "Switzerland",
          "Sierra Leone",
          "Laos",
          "Turkmenistan",
          "Libya",
          "Kyrgyzstan",
          "Paraguay",
          "Nicaragua",
          "Bulgaria",
          "Serbia",
          "El Salvador",
          "Republic of the Congo",
          "Denmark",
          "Singapore",
          "Lebanon",
          "Finland",
          "Liberia",
          "Norway",
          "Slovakia",
          "Palestine",
          "Central African Republic",
          "Oman",
          "Ireland",
          "New Zealand",
          "Mauritania",
          "Costa Rica",
          "Kuwait",
          "Panama",
          "Croatia",
          "Georgia",
          "Eritrea",
          "Mongolia",
          "Uruguay",
          "Puerto Rico",
          "Bosnia and Herzegovina",
          "Qatar",
          "Moldova",
          "Namibia",
          "Armenia",
          "Lithuania",
          "Jamaica",
          "Albania",
          "Gambia",
          "Gabon",
          "Botswana",
          "Lesotho",
          "Guinea-Bissau",
          "Slovenia",
          "Equatorial Guinea",
          "Latvia",
          "North Macedonia",
          "Bahrain",
          "Trinidad and Tobago",
          "Timor-Leste",
          "Estonia",
          "Cyprus",
          "Mauritius",
          "Eswatini",
          "Djibouti",
          "Fiji",
          "Comoros",
          "Guyana",
          "Solomon Islands",
          "Bhutan",
          "Luxembourg",
          "Montenegro",
          "Suriname",
          "Malta",
          "Maldives",
          "Cape Verde",
          "Brunei",
          "Belize",
          "Bahamas",
          "Iceland",
          "Vanuatu",
          "Barbados",
          "Sao Tome and Principe",
          "Samoa",
          "Saint Lucia",
          "Guam",
          "Kiribati",
          "Seychelles",
          "Grenada",
          "Micronesia",
          "Tonga",
          "Saint Vincent and the Grenadines",
          "Antigua and Barbuda",
          "United States Virgin Islands",
          "Andorra",
          "Dominica",
          "Bermuda",
          "Greenland",
          "Saint Kitts and Nevis",
          "American Samoa",
          "Northern Mariana Islands",
          "Monaco",
          "Marshall Islands",
          "San Marino",
          "Palau",
          "Cook Islands",
          "Nauru",
          "Tuvalu",
          "Tokelau",
          "Niue"
         ],
         "xaxis": "x3",
         "y": [
          15.7,
          10.64,
          24.13,
          2.21,
          8.46,
          7.22,
          12.47,
          5.18,
          41.82,
          9.4,
          11.51,
          25.2,
          1.48,
          6.04,
          12.39,
          10.97,
          6.46,
          6.02,
          18.9,
          20.1,
          13.18,
          8.9,
          22.01,
          25.55,
          10.37,
          10.53,
          6.06,
          11.09,
          36.96,
          5.41,
          9.79,
          11.86,
          3.6,
          6.55,
          17.29,
          4.16,
          4.63,
          19.43,
          27.27,
          4.28,
          11.28,
          41.4,
          12.29,
          8,
          15.86,
          9.21,
          4.35,
          10.95,
          9.05,
          11.52,
          18.26,
          11.35,
          14.2,
          4.6,
          19.8,
          12.25,
          1.44,
          5.24,
          10.43,
          21.9,
          26.45,
          13.84,
          13.42,
          30.96,
          7.88,
          17.78,
          18.54,
          7.11,
          11.87,
          8.45,
          15.24,
          13.53,
          6.46,
          26.57,
          6.89,
          8.32,
          11.13,
          10.94,
          7.61,
          4.41,
          12.19,
          10.28,
          25.49,
          1.6,
          8.73,
          2.79,
          25.07,
          6.47,
          20.54,
          16.76,
          4.91,
          2.84,
          18.25,
          3.91,
          8.65,
          26.39,
          12.41,
          8.36,
          22.34,
          35.68,
          17.43,
          6.91,
          7.58,
          14.57,
          7.62,
          14.71,
          8.63,
          8.91,
          20.72,
          23.78,
          13.31,
          14.47,
          16.26,
          10.19,
          1.18,
          23.96,
          9.37,
          16.4,
          21.31,
          1.24,
          18.72,
          1.49,
          13.7,
          16.97,
          4.98,
          17.37,
          3.05,
          8.82,
          22.31,
          14.57,
          14.19,
          25.68,
          36.61,
          12.68,
          17.41,
          5.08,
          26.48,
          20.03,
          8.86,
          49.96,
          2.44,
          5.28,
          8.11,
          16.72,
          15.73,
          32.55,
          12.74,
          28.01,
          10.29,
          34.67,
          11.08,
          6.02,
          23.21,
          5.62,
          25.66,
          6.48,
          18.01,
          31.17,
          7.67,
          12.25,
          7.82,
          52.79,
          27.24,
          7.57,
          13.24,
          23.77,
          37.42,
          8.06,
          3.33,
          25.66,
          6.17,
          8.88,
          4.75,
          19.64,
          25.01,
          8.22,
          1.77,
          17.11,
          12.36,
          29.13,
          30.08,
          9.92,
          7.32,
          30.72,
          5.97,
          11.19,
          2.5,
          12.76,
          12.22,
          7.46,
          7.06,
          86.96,
          4.96,
          11.97,
          24.66,
          21.33,
          29.01,
          12.19,
          17.12,
          14.39,
          35.11,
          23.79,
          19.54,
          20.62
         ],
         "yaxis": "y3"
        },
        {
         "alignmentgroup": "True",
         "hovertemplate": "Gender=Male<br>Year=2020<br>country=%{x}<br>Rate per 100k=%{y}<extra></extra>",
         "legendgroup": "Male",
         "marker": {
          "color": "#636efa",
          "pattern": {
           "shape": ""
          }
         },
         "name": "Male",
         "offsetgroup": "Male",
         "orientation": "v",
         "showlegend": false,
         "textposition": "auto",
         "type": "bar",
         "x": [
          "India",
          "China",
          "United States",
          "Indonesia",
          "Pakistan",
          "Nigeria",
          "Brazil",
          "Bangladesh",
          "Russia",
          "Ethiopia",
          "Mexico",
          "Japan",
          "Egypt",
          "Philippines",
          "DR Congo",
          "Vietnam",
          "Iran",
          "Turkey",
          "Germany",
          "Thailand",
          "United Kingdom",
          "Tanzania",
          "France",
          "South Africa",
          "Italy",
          "Kenya",
          "Myanmar",
          "Colombia",
          "South Korea",
          "Sudan",
          "Uganda",
          "Spain",
          "Algeria",
          "Iraq",
          "Argentina",
          "Afghanistan",
          "Yemen",
          "Canada",
          "Poland",
          "Morocco",
          "Angola",
          "Ukraine",
          "Uzbekistan",
          "Malaysia",
          "Mozambique",
          "Ghana",
          "Peru",
          "Saudi Arabia",
          "Madagascar",
          "Ivory Coast",
          "Nepal",
          "Cameroon",
          "Venezuela",
          "Niger",
          "Australia",
          "North Korea",
          "Syria",
          "Mali",
          "Burkina Faso",
          "Taiwan",
          "Sri Lanka",
          "Malawi",
          "Zambia",
          "Kazakhstan",
          "Chad",
          "Chile",
          "Romania",
          "Somalia",
          "Senegal",
          "Guatemala",
          "Netherlands",
          "Ecuador",
          "Cambodia",
          "Zimbabwe",
          "Guinea",
          "Benin",
          "Rwanda",
          "Burundi",
          "Bolivia",
          "Tunisia",
          "South Sudan",
          "Haiti",
          "Belgium",
          "Jordan",
          "Dominican Republic",
          "United Arab Emirates",
          "Cuba",
          "Honduras",
          "Czech Republic",
          "Sweden",
          "Tajikistan",
          "Papua New Guinea",
          "Portugal",
          "Azerbaijan",
          "Greece",
          "Hungary",
          "Togo",
          "Israel",
          "Austria",
          "Belarus",
          "Switzerland",
          "Sierra Leone",
          "Laos",
          "Turkmenistan",
          "Libya",
          "Kyrgyzstan",
          "Paraguay",
          "Nicaragua",
          "Bulgaria",
          "Serbia",
          "El Salvador",
          "Republic of the Congo",
          "Denmark",
          "Singapore",
          "Lebanon",
          "Finland",
          "Liberia",
          "Norway",
          "Slovakia",
          "Palestine",
          "Central African Republic",
          "Oman",
          "Ireland",
          "New Zealand",
          "Mauritania",
          "Costa Rica",
          "Kuwait",
          "Panama",
          "Croatia",
          "Georgia",
          "Eritrea",
          "Mongolia",
          "Uruguay",
          "Puerto Rico",
          "Bosnia and Herzegovina",
          "Qatar",
          "Moldova",
          "Namibia",
          "Armenia",
          "Lithuania",
          "Jamaica",
          "Albania",
          "Gambia",
          "Gabon",
          "Botswana",
          "Lesotho",
          "Guinea-Bissau",
          "Slovenia",
          "Equatorial Guinea",
          "Latvia",
          "North Macedonia",
          "Bahrain",
          "Trinidad and Tobago",
          "Timor-Leste",
          "Estonia",
          "Cyprus",
          "Mauritius",
          "Eswatini",
          "Djibouti",
          "Fiji",
          "Comoros",
          "Guyana",
          "Solomon Islands",
          "Bhutan",
          "Luxembourg",
          "Montenegro",
          "Suriname",
          "Malta",
          "Maldives",
          "Cape Verde",
          "Brunei",
          "Belize",
          "Bahamas",
          "Iceland",
          "Vanuatu",
          "Barbados",
          "Sao Tome and Principe",
          "Samoa",
          "Saint Lucia",
          "Guam",
          "Kiribati",
          "Seychelles",
          "Grenada",
          "Micronesia",
          "Tonga",
          "Saint Vincent and the Grenadines",
          "Antigua and Barbuda",
          "United States Virgin Islands",
          "Andorra",
          "Dominica",
          "Bermuda",
          "Greenland",
          "Saint Kitts and Nevis",
          "American Samoa",
          "Northern Mariana Islands",
          "Monaco",
          "Marshall Islands",
          "San Marino",
          "Palau",
          "Cook Islands",
          "Nauru",
          "Tuvalu",
          "Tokelau",
          "Niue"
         ],
         "xaxis": "x2",
         "y": [
          15.7,
          10.52,
          24.33,
          2.23,
          8.54,
          7.28,
          12.46,
          5.18,
          42.42,
          9.34,
          11.3,
          25.4,
          1.5,
          5.69,
          12.32,
          10.98,
          6.52,
          5.95,
          19.33,
          19.98,
          12.89,
          8.86,
          22.87,
          25.24,
          10.01,
          10.54,
          6.02,
          11.07,
          36.61,
          5.44,
          9.86,
          11.58,
          3.59,
          6.56,
          18.19,
          4.18,
          4.61,
          19.98,
          27.44,
          4.23,
          11.2,
          40.96,
          12.4,
          6.98,
          16.17,
          9.33,
          4.44,
          10.92,
          8.97,
          11.65,
          17.99,
          11.43,
          14.08,
          4.66,
          19.73,
          12.2,
          1.43,
          5.3,
          10.5,
          21.56,
          23.88,
          13.96,
          13.63,
          30.58,
          7.91,
          17.43,
          18.3,
          7.2,
          12.03,
          8.41,
          15.25,
          13.34,
          6.42,
          26.5,
          6.99,
          8.43,
          11.11,
          10.96,
          7.61,
          4.39,
          12.45,
          10.22,
          23.33,
          1.59,
          8.69,
          3.16,
          25.06,
          6.45,
          20.59,
          17.83,
          4.95,
          2.89,
          18.35,
          3.87,
          8.69,
          26.57,
          12.42,
          8.7,
          23.15,
          35.07,
          17.03,
          6.88,
          7.64,
          14.58,
          7.66,
          14.53,
          8.79,
          8.81,
          21.13,
          24.93,
          12.95,
          14.42,
          16.88,
          10.89,
          1.18,
          25.02,
          9.2,
          17.36,
          21.49,
          1.2,
          18.88,
          1.49,
          14.24,
          16.98,
          4.85,
          15.7,
          3.32,
          8.91,
          22.28,
          14.83,
          14.09,
          28.08,
          34.15,
          12.78,
          18.77,
          5.12,
          26.25,
          20.2,
          8.92,
          50.46,
          2.32,
          5.16,
          8.1,
          16.96,
          15.77,
          32.8,
          12.87,
          27.78,
          10.26,
          33.36,
          11.18,
          6.05,
          23.4,
          5.55,
          25.62,
          6.33,
          18.63,
          32.09,
          7.68,
          12.42,
          7.79,
          53.32,
          27.58,
          7.54,
          13.19,
          26.07,
          40.11,
          8.37,
          3.2,
          25.58,
          6.63,
          8.78,
          4.74,
          19.06,
          25.05,
          8.43,
          1.73,
          17.21,
          12.44,
          31.29,
          30.26,
          12.64,
          7.35,
          30.65,
          5.93,
          11.06,
          2.74,
          14.81,
          12.26,
          7.38,
          6.58,
          94.39,
          4.87,
          12.59,
          19.87,
          21.42,
          29.07,
          12.87,
          17.22,
          18.3,
          35.25,
          23.92,
          19.71,
          20.66
         ],
         "yaxis": "y2"
        },
        {
         "alignmentgroup": "True",
         "hovertemplate": "Gender=Male<br>Year=2019<br>country=%{x}<br>Rate per 100k=%{y}<extra></extra>",
         "legendgroup": "Male",
         "marker": {
          "color": "#636efa",
          "pattern": {
           "shape": ""
          }
         },
         "name": "Male",
         "offsetgroup": "Male",
         "orientation": "v",
         "showlegend": false,
         "textposition": "auto",
         "type": "bar",
         "x": [
          "India",
          "China",
          "United States",
          "Indonesia",
          "Pakistan",
          "Nigeria",
          "Brazil",
          "Bangladesh",
          "Russia",
          "Ethiopia",
          "Mexico",
          "Japan",
          "Egypt",
          "Philippines",
          "DR Congo",
          "Vietnam",
          "Iran",
          "Turkey",
          "Germany",
          "Thailand",
          "United Kingdom",
          "Tanzania",
          "France",
          "South Africa",
          "Italy",
          "Kenya",
          "Myanmar",
          "Colombia",
          "South Korea",
          "Sudan",
          "Uganda",
          "Spain",
          "Algeria",
          "Iraq",
          "Argentina",
          "Afghanistan",
          "Yemen",
          "Canada",
          "Poland",
          "Morocco",
          "Angola",
          "Ukraine",
          "Uzbekistan",
          "Malaysia",
          "Mozambique",
          "Ghana",
          "Peru",
          "Saudi Arabia",
          "Madagascar",
          "Ivory Coast",
          "Nepal",
          "Cameroon",
          "Venezuela",
          "Niger",
          "Australia",
          "North Korea",
          "Syria",
          "Mali",
          "Burkina Faso",
          "Taiwan",
          "Sri Lanka",
          "Malawi",
          "Zambia",
          "Kazakhstan",
          "Chad",
          "Chile",
          "Romania",
          "Somalia",
          "Senegal",
          "Guatemala",
          "Netherlands",
          "Ecuador",
          "Cambodia",
          "Zimbabwe",
          "Guinea",
          "Benin",
          "Rwanda",
          "Burundi",
          "Bolivia",
          "Tunisia",
          "South Sudan",
          "Haiti",
          "Belgium",
          "Jordan",
          "Dominican Republic",
          "United Arab Emirates",
          "Cuba",
          "Honduras",
          "Czech Republic",
          "Sweden",
          "Tajikistan",
          "Papua New Guinea",
          "Portugal",
          "Azerbaijan",
          "Greece",
          "Hungary",
          "Togo",
          "Israel",
          "Austria",
          "Belarus",
          "Switzerland",
          "Sierra Leone",
          "Laos",
          "Turkmenistan",
          "Libya",
          "Kyrgyzstan",
          "Paraguay",
          "Nicaragua",
          "Bulgaria",
          "Serbia",
          "El Salvador",
          "Republic of the Congo",
          "Denmark",
          "Singapore",
          "Lebanon",
          "Finland",
          "Liberia",
          "Norway",
          "Slovakia",
          "Palestine",
          "Central African Republic",
          "Oman",
          "Ireland",
          "New Zealand",
          "Mauritania",
          "Costa Rica",
          "Kuwait",
          "Panama",
          "Croatia",
          "Georgia",
          "Eritrea",
          "Mongolia",
          "Uruguay",
          "Puerto Rico",
          "Bosnia and Herzegovina",
          "Qatar",
          "Moldova",
          "Namibia",
          "Armenia",
          "Lithuania",
          "Jamaica",
          "Albania",
          "Gambia",
          "Gabon",
          "Botswana",
          "Lesotho",
          "Guinea-Bissau",
          "Slovenia",
          "Equatorial Guinea",
          "Latvia",
          "North Macedonia",
          "Bahrain",
          "Trinidad and Tobago",
          "Timor-Leste",
          "Estonia",
          "Cyprus",
          "Mauritius",
          "Eswatini",
          "Djibouti",
          "Fiji",
          "Comoros",
          "Guyana",
          "Solomon Islands",
          "Bhutan",
          "Luxembourg",
          "Montenegro",
          "Suriname",
          "Malta",
          "Maldives",
          "Cape Verde",
          "Brunei",
          "Belize",
          "Bahamas",
          "Iceland",
          "Vanuatu",
          "Barbados",
          "Sao Tome and Principe",
          "Samoa",
          "Saint Lucia",
          "Guam",
          "Kiribati",
          "Seychelles",
          "Grenada",
          "Micronesia",
          "Tonga",
          "Saint Vincent and the Grenadines",
          "Antigua and Barbuda",
          "United States Virgin Islands",
          "Andorra",
          "Dominica",
          "Bermuda",
          "Greenland",
          "Saint Kitts and Nevis",
          "American Samoa",
          "Northern Mariana Islands",
          "Monaco",
          "Marshall Islands",
          "San Marino",
          "Palau",
          "Cook Islands",
          "Nauru",
          "Tuvalu",
          "Tokelau",
          "Niue"
         ],
         "xaxis": "x",
         "y": [
          14.1,
          9.8,
          25,
          3.7,
          13.3,
          5,
          10.9,
          5.7,
          43.6,
          7.7,
          8.5,
          21.8,
          4,
          3.1,
          10.6,
          10.4,
          7.7,
          3.6,
          18.6,
          15,
          11.8,
          6.6,
          20.4,
          37.6,
          10.1,
          9.1,
          4.9,
          6.1,
          40.2,
          4.9,
          7.6,
          11.4,
          3.1,
          5.2,
          13.7,
          4.6,
          7,
          17.6,
          20.1,
          9.7,
          10,
          39.2,
          11.3,
          8.9,
          22,
          11.8,
          4.2,
          8.9,
          7.6,
          14.9,
          16.4,
          13.6,
          3.5,
          7.2,
          18.6,
          11.2,
          3.2,
          5.3,
          11.3,
          null,
          22.3,
          9.2,
          12,
          29,
          9.6,
          14.9,
          16.5,
          12,
          9.2,
          9.4,
          15.5,
          11.6,
          7,
          20,
          9.2,
          11.8,
          8.2,
          9.2,
          8.4,
          4.7,
          5.7,
          11.8,
          24.9,
          2.5,
          8,
          8,
          23,
          3.3,
          19.8,
          19.9,
          5.7,
          4.3,
          17.9,
          6.6,
          8.4,
          25.9,
          13.8,
          8.4,
          22.8,
          36.7,
          20.2,
          8.3,
          7.6,
          8.8,
          6,
          11.7,
          8.7,
          6.9,
          15.3,
          16.6,
          10.5,
          9.5,
          14.9,
          15,
          3.8,
          23.2,
          5.6,
          15.8,
          21.2,
          null,
          19.6,
          6.8,
          15.4,
          16.5,
          4,
          14.1,
          4.3,
          4.7,
          25.3,
          16,
          16.6,
          30.7,
          34.5,
          null,
          17.6,
          7.2,
          26.1,
          16.7,
          5.6,
          45.4,
          3.7,
          5.9,
          6.6,
          14.2,
          26.3,
          116,
          10.2,
          31.4,
          9.4,
          35.5,
          13.9,
          12.5,
          13.9,
          5.3,
          24.3,
          6,
          16.3,
          55.1,
          12.6,
          12.2,
          7,
          63,
          27,
          6.3,
          15.3,
          31.7,
          38.8,
          9.8,
          3.9,
          21.3,
          4.4,
          12.5,
          5.9,
          19.8,
          28.1,
          0.9,
          2.2,
          18,
          14.3,
          null,
          48.6,
          14.4,
          0.6,
          43.2,
          5,
          1.3,
          null,
          null,
          null,
          null,
          null,
          null,
          null,
          null,
          null,
          null,
          null,
          null,
          null,
          null,
          null,
          null,
          null,
          null
         ],
         "yaxis": "y"
        },
        {
         "alignmentgroup": "True",
         "hovertemplate": "Gender=Female<br>Year=2021<br>country=%{x}<br>Rate per 100k=%{y}<extra></extra>",
         "legendgroup": "Female",
         "marker": {
          "color": "#EF553B",
          "pattern": {
           "shape": ""
          }
         },
         "name": "Female",
         "offsetgroup": "Female",
         "orientation": "v",
         "showlegend": true,
         "textposition": "auto",
         "type": "bar",
         "x": [
          "India",
          "China",
          "United States",
          "Indonesia",
          "Pakistan",
          "Nigeria",
          "Brazil",
          "Bangladesh",
          "Russia",
          "Ethiopia",
          "Mexico",
          "Japan",
          "Egypt",
          "Philippines",
          "DR Congo",
          "Vietnam",
          "Iran",
          "Turkey",
          "Germany",
          "Thailand",
          "United Kingdom",
          "Tanzania",
          "France",
          "South Africa",
          "Italy",
          "Kenya",
          "Myanmar",
          "Colombia",
          "South Korea",
          "Sudan",
          "Uganda",
          "Spain",
          "Algeria",
          "Iraq",
          "Argentina",
          "Afghanistan",
          "Yemen",
          "Canada",
          "Poland",
          "Morocco",
          "Angola",
          "Ukraine",
          "Uzbekistan",
          "Malaysia",
          "Mozambique",
          "Ghana",
          "Peru",
          "Saudi Arabia",
          "Madagascar",
          "Ivory Coast",
          "Nepal",
          "Cameroon",
          "Venezuela",
          "Niger",
          "Australia",
          "North Korea",
          "Syria",
          "Mali",
          "Burkina Faso",
          "Taiwan",
          "Sri Lanka",
          "Malawi",
          "Zambia",
          "Kazakhstan",
          "Chad",
          "Chile",
          "Romania",
          "Somalia",
          "Senegal",
          "Guatemala",
          "Netherlands",
          "Ecuador",
          "Cambodia",
          "Zimbabwe",
          "Guinea",
          "Benin",
          "Rwanda",
          "Burundi",
          "Bolivia",
          "Tunisia",
          "South Sudan",
          "Haiti",
          "Belgium",
          "Jordan",
          "Dominican Republic",
          "United Arab Emirates",
          "Cuba",
          "Honduras",
          "Czech Republic",
          "Sweden",
          "Tajikistan",
          "Papua New Guinea",
          "Portugal",
          "Azerbaijan",
          "Greece",
          "Hungary",
          "Togo",
          "Israel",
          "Austria",
          "Belarus",
          "Switzerland",
          "Sierra Leone",
          "Laos",
          "Turkmenistan",
          "Libya",
          "Kyrgyzstan",
          "Paraguay",
          "Nicaragua",
          "Bulgaria",
          "Serbia",
          "El Salvador",
          "Republic of the Congo",
          "Denmark",
          "Singapore",
          "Lebanon",
          "Finland",
          "Liberia",
          "Norway",
          "Slovakia",
          "Palestine",
          "Central African Republic",
          "Oman",
          "Ireland",
          "New Zealand",
          "Mauritania",
          "Costa Rica",
          "Kuwait",
          "Panama",
          "Croatia",
          "Georgia",
          "Eritrea",
          "Mongolia",
          "Uruguay",
          "Puerto Rico",
          "Bosnia and Herzegovina",
          "Qatar",
          "Moldova",
          "Namibia",
          "Armenia",
          "Lithuania",
          "Jamaica",
          "Albania",
          "Gambia",
          "Gabon",
          "Botswana",
          "Lesotho",
          "Guinea-Bissau",
          "Slovenia",
          "Equatorial Guinea",
          "Latvia",
          "North Macedonia",
          "Bahrain",
          "Trinidad and Tobago",
          "Timor-Leste",
          "Estonia",
          "Cyprus",
          "Mauritius",
          "Eswatini",
          "Djibouti",
          "Fiji",
          "Comoros",
          "Guyana",
          "Solomon Islands",
          "Bhutan",
          "Luxembourg",
          "Montenegro",
          "Suriname",
          "Malta",
          "Maldives",
          "Cape Verde",
          "Brunei",
          "Belize",
          "Bahamas",
          "Iceland",
          "Vanuatu",
          "Barbados",
          "Sao Tome and Principe",
          "Samoa",
          "Saint Lucia",
          "Guam",
          "Kiribati",
          "Seychelles",
          "Grenada",
          "Micronesia",
          "Tonga",
          "Saint Vincent and the Grenadines",
          "Antigua and Barbuda",
          "United States Virgin Islands",
          "Andorra",
          "Dominica",
          "Bermuda",
          "Greenland",
          "Saint Kitts and Nevis",
          "American Samoa",
          "Northern Mariana Islands",
          "Monaco",
          "Marshall Islands",
          "San Marino",
          "Palau",
          "Cook Islands",
          "Nauru",
          "Tuvalu",
          "Tokelau",
          "Niue"
         ],
         "xaxis": "x3",
         "y": [
          10.85,
          7.63,
          6.66,
          1.05,
          3.05,
          1.56,
          3.3,
          2.21,
          8.66,
          2.88,
          2.38,
          10.12,
          0.5,
          1.44,
          3.77,
          5.07,
          2.16,
          1.65,
          5.77,
          4.44,
          3.93,
          2.59,
          5.92,
          5.46,
          2.72,
          3.16,
          1.26,
          2.57,
          14.58,
          3.11,
          2.01,
          3.78,
          1.9,
          2.12,
          3.99,
          3.01,
          2.46,
          5.77,
          3.79,
          3.07,
          2.87,
          7.43,
          5.65,
          2.13,
          3.17,
          2.34,
          1.43,
          3.55,
          3.64,
          2.28,
          8.37,
          2.97,
          2.41,
          2.52,
          6.08,
          9.52,
          0.39,
          2.96,
          2.93,
          10.29,
          6.78,
          3.05,
          2.99,
          6.19,
          3,
          3.66,
          3.4,
          4.39,
          3.25,
          2.59,
          7.28,
          3.54,
          2.7,
          9.32,
          3.26,
          2.41,
          3.79,
          3.3,
          3.44,
          1.73,
          3.84,
          4.2,
          9.36,
          0.46,
          2.02,
          1.3,
          6.71,
          1.48,
          4.82,
          7.82,
          1.79,
          1.67,
          5.63,
          1.08,
          1.98,
          8.27,
          3.54,
          1.97,
          6.55,
          7.16,
          6.03,
          3.29,
          2.85,
          4.65,
          3.29,
          3.92,
          2.91,
          2.6,
          6.34,
          8.07,
          3.92,
          4.72,
          6.33,
          5.21,
          0.69,
          7.58,
          3.86,
          6.86,
          3.79,
          0.31,
          4.83,
          0.33,
          3.24,
          5.67,
          2.16,
          2.83,
          0.75,
          1.7,
          6.76,
          3.18,
          4.99,
          3.77,
          7.23,
          2.05,
          4.29,
          0.77,
          4.41,
          3.61,
          2.44,
          9.07,
          0.44,
          2.91,
          3.12,
          3.12,
          3.84,
          9.27,
          4.44,
          6.37,
          2.85,
          6.39,
          4.64,
          1.33,
          4.4,
          2.49,
          5.83,
          1.67,
          4.09,
          6.16,
          3.25,
          5.45,
          4.79,
          10.31,
          8.94,
          3.79,
          4.74,
          7.33,
          10.13,
          1.85,
          0.44,
          4.28,
          1.68,
          1.34,
          0.62,
          5.13,
          7.45,
          1.36,
          0.52,
          6.95,
          1.17,
          4.71,
          5.02,
          1.13,
          1.8,
          9.2,
          3.31,
          0.97,
          0.3,
          1.6,
          3.31,
          0.89,
          1.11,
          29.4,
          0.74,
          3.93,
          5.55,
          9.84,
          10.65,
          3.28,
          12.39,
          3.95,
          11.79,
          8.56,
          11.97,
          10.51
         ],
         "yaxis": "y3"
        },
        {
         "alignmentgroup": "True",
         "hovertemplate": "Gender=Female<br>Year=2020<br>country=%{x}<br>Rate per 100k=%{y}<extra></extra>",
         "legendgroup": "Female",
         "marker": {
          "color": "#EF553B",
          "pattern": {
           "shape": ""
          }
         },
         "name": "Female",
         "offsetgroup": "Female",
         "orientation": "v",
         "showlegend": false,
         "textposition": "auto",
         "type": "bar",
         "x": [
          "India",
          "China",
          "United States",
          "Indonesia",
          "Pakistan",
          "Nigeria",
          "Brazil",
          "Bangladesh",
          "Russia",
          "Ethiopia",
          "Mexico",
          "Japan",
          "Egypt",
          "Philippines",
          "DR Congo",
          "Vietnam",
          "Iran",
          "Turkey",
          "Germany",
          "Thailand",
          "United Kingdom",
          "Tanzania",
          "France",
          "South Africa",
          "Italy",
          "Kenya",
          "Myanmar",
          "Colombia",
          "South Korea",
          "Sudan",
          "Uganda",
          "Spain",
          "Algeria",
          "Iraq",
          "Argentina",
          "Afghanistan",
          "Yemen",
          "Canada",
          "Poland",
          "Morocco",
          "Angola",
          "Ukraine",
          "Uzbekistan",
          "Malaysia",
          "Mozambique",
          "Ghana",
          "Peru",
          "Saudi Arabia",
          "Madagascar",
          "Ivory Coast",
          "Nepal",
          "Cameroon",
          "Venezuela",
          "Niger",
          "Australia",
          "North Korea",
          "Syria",
          "Mali",
          "Burkina Faso",
          "Taiwan",
          "Sri Lanka",
          "Malawi",
          "Zambia",
          "Kazakhstan",
          "Chad",
          "Chile",
          "Romania",
          "Somalia",
          "Senegal",
          "Guatemala",
          "Netherlands",
          "Ecuador",
          "Cambodia",
          "Zimbabwe",
          "Guinea",
          "Benin",
          "Rwanda",
          "Burundi",
          "Bolivia",
          "Tunisia",
          "South Sudan",
          "Haiti",
          "Belgium",
          "Jordan",
          "Dominican Republic",
          "United Arab Emirates",
          "Cuba",
          "Honduras",
          "Czech Republic",
          "Sweden",
          "Tajikistan",
          "Papua New Guinea",
          "Portugal",
          "Azerbaijan",
          "Greece",
          "Hungary",
          "Togo",
          "Israel",
          "Austria",
          "Belarus",
          "Switzerland",
          "Sierra Leone",
          "Laos",
          "Turkmenistan",
          "Libya",
          "Kyrgyzstan",
          "Paraguay",
          "Nicaragua",
          "Bulgaria",
          "Serbia",
          "El Salvador",
          "Republic of the Congo",
          "Denmark",
          "Singapore",
          "Lebanon",
          "Finland",
          "Liberia",
          "Norway",
          "Slovakia",
          "Palestine",
          "Central African Republic",
          "Oman",
          "Ireland",
          "New Zealand",
          "Mauritania",
          "Costa Rica",
          "Kuwait",
          "Panama",
          "Croatia",
          "Georgia",
          "Eritrea",
          "Mongolia",
          "Uruguay",
          "Puerto Rico",
          "Bosnia and Herzegovina",
          "Qatar",
          "Moldova",
          "Namibia",
          "Armenia",
          "Lithuania",
          "Jamaica",
          "Albania",
          "Gambia",
          "Gabon",
          "Botswana",
          "Lesotho",
          "Guinea-Bissau",
          "Slovenia",
          "Equatorial Guinea",
          "Latvia",
          "North Macedonia",
          "Bahrain",
          "Trinidad and Tobago",
          "Timor-Leste",
          "Estonia",
          "Cyprus",
          "Mauritius",
          "Eswatini",
          "Djibouti",
          "Fiji",
          "Comoros",
          "Guyana",
          "Solomon Islands",
          "Bhutan",
          "Luxembourg",
          "Montenegro",
          "Suriname",
          "Malta",
          "Maldives",
          "Cape Verde",
          "Brunei",
          "Belize",
          "Bahamas",
          "Iceland",
          "Vanuatu",
          "Barbados",
          "Sao Tome and Principe",
          "Samoa",
          "Saint Lucia",
          "Guam",
          "Kiribati",
          "Seychelles",
          "Grenada",
          "Micronesia",
          "Tonga",
          "Saint Vincent and the Grenadines",
          "Antigua and Barbuda",
          "United States Virgin Islands",
          "Andorra",
          "Dominica",
          "Bermuda",
          "Greenland",
          "Saint Kitts and Nevis",
          "American Samoa",
          "Northern Mariana Islands",
          "Monaco",
          "Marshall Islands",
          "San Marino",
          "Palau",
          "Cook Islands",
          "Nauru",
          "Tuvalu",
          "Tokelau",
          "Niue"
         ],
         "xaxis": "x2",
         "y": [
          10.73,
          7.5,
          6.73,
          1.07,
          3.1,
          1.55,
          3.25,
          2.26,
          8.44,
          2.84,
          2.36,
          10.05,
          0.51,
          1.43,
          3.76,
          5.07,
          2.17,
          1.68,
          5.9,
          4.44,
          3.85,
          2.6,
          6.17,
          5.35,
          2.63,
          3.18,
          1.27,
          2.63,
          14.56,
          3.2,
          2.01,
          3.69,
          1.91,
          2.16,
          4.17,
          3.04,
          2.48,
          5.9,
          3.74,
          3.09,
          2.85,
          7.32,
          5.85,
          1.95,
          3.19,
          2.41,
          1.48,
          3.56,
          3.6,
          2.29,
          8.41,
          2.99,
          2.39,
          2.53,
          6.17,
          9.55,
          0.39,
          2.99,
          2.95,
          10.28,
          6.43,
          3.06,
          3.02,
          6.22,
          3,
          3.6,
          3.32,
          4.45,
          3.3,
          2.6,
          7.34,
          3.51,
          2.7,
          9.25,
          3.3,
          2.43,
          3.79,
          3.31,
          3.48,
          1.74,
          3.8,
          4.23,
          8.75,
          0.46,
          2.09,
          1.48,
          6.75,
          1.48,
          4.78,
          8.06,
          1.83,
          1.71,
          5.61,
          1.09,
          1.97,
          8.31,
          3.53,
          2.04,
          6.91,
          7.13,
          5.97,
          3.3,
          2.9,
          4.67,
          3.35,
          3.95,
          2.97,
          2.75,
          6.23,
          8.04,
          3.84,
          4.76,
          6.59,
          5.3,
          0.69,
          7.96,
          3.81,
          6.98,
          3.78,
          0.32,
          4.85,
          0.34,
          3.38,
          5.59,
          2.12,
          2.7,
          0.72,
          1.73,
          6.66,
          3.26,
          4.93,
          4.1,
          7.06,
          2.06,
          4.57,
          0.8,
          4.37,
          3.61,
          2.5,
          8.93,
          0.43,
          2.87,
          3.13,
          3.17,
          3.9,
          9.44,
          4.49,
          6.51,
          2.85,
          6.28,
          4.65,
          1.34,
          4.42,
          2.49,
          5.69,
          1.75,
          3.99,
          6.19,
          3.22,
          5.51,
          4.78,
          10.59,
          9.14,
          3.79,
          4.61,
          7.87,
          10.58,
          1.76,
          0.43,
          4.29,
          1.77,
          1.33,
          0.61,
          5,
          7.5,
          1.41,
          0.52,
          7.04,
          1.13,
          4.97,
          5.05,
          1.35,
          1.83,
          9.26,
          3.31,
          0.96,
          0.29,
          1.86,
          3.33,
          0.88,
          1.04,
          31.59,
          0.73,
          4.14,
          5.84,
          9.9,
          10.71,
          3.45,
          12.38,
          5.32,
          11.86,
          8.68,
          12.05,
          10.54
         ],
         "yaxis": "y2"
        },
        {
         "alignmentgroup": "True",
         "hovertemplate": "Gender=Female<br>Year=2019<br>country=%{x}<br>Rate per 100k=%{y}<extra></extra>",
         "legendgroup": "Female",
         "marker": {
          "color": "#EF553B",
          "pattern": {
           "shape": ""
          }
         },
         "name": "Female",
         "offsetgroup": "Female",
         "orientation": "v",
         "showlegend": false,
         "textposition": "auto",
         "type": "bar",
         "x": [
          "India",
          "China",
          "United States",
          "Indonesia",
          "Pakistan",
          "Nigeria",
          "Brazil",
          "Bangladesh",
          "Russia",
          "Ethiopia",
          "Mexico",
          "Japan",
          "Egypt",
          "Philippines",
          "DR Congo",
          "Vietnam",
          "Iran",
          "Turkey",
          "Germany",
          "Thailand",
          "United Kingdom",
          "Tanzania",
          "France",
          "South Africa",
          "Italy",
          "Kenya",
          "Myanmar",
          "Colombia",
          "South Korea",
          "Sudan",
          "Uganda",
          "Spain",
          "Algeria",
          "Iraq",
          "Argentina",
          "Afghanistan",
          "Yemen",
          "Canada",
          "Poland",
          "Morocco",
          "Angola",
          "Ukraine",
          "Uzbekistan",
          "Malaysia",
          "Mozambique",
          "Ghana",
          "Peru",
          "Saudi Arabia",
          "Madagascar",
          "Ivory Coast",
          "Nepal",
          "Cameroon",
          "Venezuela",
          "Niger",
          "Australia",
          "North Korea",
          "Syria",
          "Mali",
          "Burkina Faso",
          "Taiwan",
          "Sri Lanka",
          "Malawi",
          "Zambia",
          "Kazakhstan",
          "Chad",
          "Chile",
          "Romania",
          "Somalia",
          "Senegal",
          "Guatemala",
          "Netherlands",
          "Ecuador",
          "Cambodia",
          "Zimbabwe",
          "Guinea",
          "Benin",
          "Rwanda",
          "Burundi",
          "Bolivia",
          "Tunisia",
          "South Sudan",
          "Haiti",
          "Belgium",
          "Jordan",
          "Dominican Republic",
          "United Arab Emirates",
          "Cuba",
          "Honduras",
          "Czech Republic",
          "Sweden",
          "Tajikistan",
          "Papua New Guinea",
          "Portugal",
          "Azerbaijan",
          "Greece",
          "Hungary",
          "Togo",
          "Israel",
          "Austria",
          "Belarus",
          "Switzerland",
          "Sierra Leone",
          "Laos",
          "Turkmenistan",
          "Libya",
          "Kyrgyzstan",
          "Paraguay",
          "Nicaragua",
          "Bulgaria",
          "Serbia",
          "El Salvador",
          "Republic of the Congo",
          "Denmark",
          "Singapore",
          "Lebanon",
          "Finland",
          "Liberia",
          "Norway",
          "Slovakia",
          "Palestine",
          "Central African Republic",
          "Oman",
          "Ireland",
          "New Zealand",
          "Mauritania",
          "Costa Rica",
          "Kuwait",
          "Panama",
          "Croatia",
          "Georgia",
          "Eritrea",
          "Mongolia",
          "Uruguay",
          "Puerto Rico",
          "Bosnia and Herzegovina",
          "Qatar",
          "Moldova",
          "Namibia",
          "Armenia",
          "Lithuania",
          "Jamaica",
          "Albania",
          "Gambia",
          "Gabon",
          "Botswana",
          "Lesotho",
          "Guinea-Bissau",
          "Slovenia",
          "Equatorial Guinea",
          "Latvia",
          "North Macedonia",
          "Bahrain",
          "Trinidad and Tobago",
          "Timor-Leste",
          "Estonia",
          "Cyprus",
          "Mauritius",
          "Eswatini",
          "Djibouti",
          "Fiji",
          "Comoros",
          "Guyana",
          "Solomon Islands",
          "Bhutan",
          "Luxembourg",
          "Montenegro",
          "Suriname",
          "Malta",
          "Maldives",
          "Cape Verde",
          "Brunei",
          "Belize",
          "Bahamas",
          "Iceland",
          "Vanuatu",
          "Barbados",
          "Sao Tome and Principe",
          "Samoa",
          "Saint Lucia",
          "Guam",
          "Kiribati",
          "Seychelles",
          "Grenada",
          "Micronesia",
          "Tonga",
          "Saint Vincent and the Grenadines",
          "Antigua and Barbuda",
          "United States Virgin Islands",
          "Andorra",
          "Dominica",
          "Bermuda",
          "Greenland",
          "Saint Kitts and Nevis",
          "American Samoa",
          "Northern Mariana Islands",
          "Monaco",
          "Marshall Islands",
          "San Marino",
          "Palau",
          "Cook Islands",
          "Nauru",
          "Tuvalu",
          "Tokelau",
          "Niue"
         ],
         "xaxis": "x",
         "y": [
          11.1,
          6.2,
          7.5,
          1.1,
          4.3,
          1.9,
          3,
          1.7,
          9.1,
          3.1,
          2.2,
          9.2,
          2,
          1.2,
          2.8,
          4.7,
          2.8,
          1.2,
          6.2,
          2.9,
          4,
          2,
          7.6,
          9.8,
          3.5,
          3.2,
          1.1,
          1.8,
          16.9,
          2.8,
          1.7,
          4.2,
          1.8,
          2,
          3.3,
          3.6,
          4.6,
          6.1,
          3.1,
          4.7,
          2.3,
          6.5,
          4.8,
          2.3,
          5.7,
          1.2,
          1.4,
          2,
          3.4,
          2.8,
          2.7,
          4.4,
          0.7,
          3.3,
          6.4,
          7.6,
          0.7,
          2.9,
          3.7,
          null,
          6.2,
          1.7,
          2.7,
          6.8,
          3.3,
          3.2,
          3.3,
          3.8,
          3,
          2.6,
          8.3,
          3.6,
          2.8,
          8.8,
          4.9,
          3.8,
          3,
          3.4,
          4.1,
          1.9,
          2,
          7.6,
          11.8,
          0.7,
          1.8,
          3,
          6,
          0.8,
          4.8,
          9.5,
          2.8,
          1.6,
          5.7,
          1.6,
          1.9,
          8.3,
          3.9,
          2.3,
          6.7,
          7.7,
          9,
          5.1,
          3.2,
          2.7,
          2.9,
          3.2,
          3.2,
          1.9,
          4.4,
          6.3,
          2.1,
          3.5,
          6.5,
          7.1,
          1.7,
          7.6,
          3.3,
          7.7,
          3.4,
          null,
          5.2,
          1,
          3.9,
          5.8,
          2.2,
          2,
          0.7,
          1,
          8.1,
          3,
          5.2,
          5.4,
          8.9,
          null,
          4.5,
          1.7,
          4.1,
          3.2,
          1.3,
          9.6,
          1.1,
          2.7,
          3,
          2.4,
          6.4,
          30.1,
          3.9,
          8.3,
          6,
          7,
          4.8,
          2.4,
          3.6,
          2,
          6.5,
          1.3,
          2.8,
          4.7,
          6.4,
          5.7,
          3.8,
          17.4,
          1.9,
          2.7,
          7.1,
          10.4,
          11.8,
          2.3,
          0.8,
          4.5,
          0.8,
          1.7,
          1.3,
          3.9,
          7.6,
          0.3,
          0.8,
          6.7,
          1.7,
          null,
          8.7,
          1.4,
          0.7,
          12.7,
          2.6,
          0.6,
          0.8,
          null,
          null,
          null,
          null,
          null,
          null,
          null,
          null,
          null,
          null,
          null,
          null,
          null,
          null,
          null,
          null,
          null
         ],
         "yaxis": "y"
        }
       ],
       "layout": {
        "annotations": [
         {
          "font": {},
          "showarrow": false,
          "text": "Year=2019",
          "textangle": 90,
          "x": 0.98,
          "xanchor": "left",
          "xref": "paper",
          "y": 0.15666666666666665,
          "yanchor": "middle",
          "yref": "paper"
         },
         {
          "font": {},
          "showarrow": false,
          "text": "Year=2020",
          "textangle": 90,
          "x": 0.98,
          "xanchor": "left",
          "xref": "paper",
          "y": 0.4999999999999999,
          "yanchor": "middle",
          "yref": "paper"
         },
         {
          "font": {},
          "showarrow": false,
          "text": "Year=2021",
          "textangle": 90,
          "x": 0.98,
          "xanchor": "left",
          "xref": "paper",
          "y": 0.8433333333333332,
          "yanchor": "middle",
          "yref": "paper"
         }
        ],
        "barmode": "group",
        "height": 1000,
        "legend": {
         "title": {
          "text": "Gender"
         },
         "tracegroupgap": 0
        },
        "template": {
         "data": {
          "bar": [
           {
            "error_x": {
             "color": "#2a3f5f"
            },
            "error_y": {
             "color": "#2a3f5f"
            },
            "marker": {
             "line": {
              "color": "#E5ECF6",
              "width": 0.5
             },
             "pattern": {
              "fillmode": "overlay",
              "size": 10,
              "solidity": 0.2
             }
            },
            "type": "bar"
           }
          ],
          "barpolar": [
           {
            "marker": {
             "line": {
              "color": "#E5ECF6",
              "width": 0.5
             },
             "pattern": {
              "fillmode": "overlay",
              "size": 10,
              "solidity": 0.2
             }
            },
            "type": "barpolar"
           }
          ],
          "carpet": [
           {
            "aaxis": {
             "endlinecolor": "#2a3f5f",
             "gridcolor": "white",
             "linecolor": "white",
             "minorgridcolor": "white",
             "startlinecolor": "#2a3f5f"
            },
            "baxis": {
             "endlinecolor": "#2a3f5f",
             "gridcolor": "white",
             "linecolor": "white",
             "minorgridcolor": "white",
             "startlinecolor": "#2a3f5f"
            },
            "type": "carpet"
           }
          ],
          "choropleth": [
           {
            "colorbar": {
             "outlinewidth": 0,
             "ticks": ""
            },
            "type": "choropleth"
           }
          ],
          "contour": [
           {
            "colorbar": {
             "outlinewidth": 0,
             "ticks": ""
            },
            "colorscale": [
             [
              0,
              "#0d0887"
             ],
             [
              0.1111111111111111,
              "#46039f"
             ],
             [
              0.2222222222222222,
              "#7201a8"
             ],
             [
              0.3333333333333333,
              "#9c179e"
             ],
             [
              0.4444444444444444,
              "#bd3786"
             ],
             [
              0.5555555555555556,
              "#d8576b"
             ],
             [
              0.6666666666666666,
              "#ed7953"
             ],
             [
              0.7777777777777778,
              "#fb9f3a"
             ],
             [
              0.8888888888888888,
              "#fdca26"
             ],
             [
              1,
              "#f0f921"
             ]
            ],
            "type": "contour"
           }
          ],
          "contourcarpet": [
           {
            "colorbar": {
             "outlinewidth": 0,
             "ticks": ""
            },
            "type": "contourcarpet"
           }
          ],
          "heatmap": [
           {
            "colorbar": {
             "outlinewidth": 0,
             "ticks": ""
            },
            "colorscale": [
             [
              0,
              "#0d0887"
             ],
             [
              0.1111111111111111,
              "#46039f"
             ],
             [
              0.2222222222222222,
              "#7201a8"
             ],
             [
              0.3333333333333333,
              "#9c179e"
             ],
             [
              0.4444444444444444,
              "#bd3786"
             ],
             [
              0.5555555555555556,
              "#d8576b"
             ],
             [
              0.6666666666666666,
              "#ed7953"
             ],
             [
              0.7777777777777778,
              "#fb9f3a"
             ],
             [
              0.8888888888888888,
              "#fdca26"
             ],
             [
              1,
              "#f0f921"
             ]
            ],
            "type": "heatmap"
           }
          ],
          "heatmapgl": [
           {
            "colorbar": {
             "outlinewidth": 0,
             "ticks": ""
            },
            "colorscale": [
             [
              0,
              "#0d0887"
             ],
             [
              0.1111111111111111,
              "#46039f"
             ],
             [
              0.2222222222222222,
              "#7201a8"
             ],
             [
              0.3333333333333333,
              "#9c179e"
             ],
             [
              0.4444444444444444,
              "#bd3786"
             ],
             [
              0.5555555555555556,
              "#d8576b"
             ],
             [
              0.6666666666666666,
              "#ed7953"
             ],
             [
              0.7777777777777778,
              "#fb9f3a"
             ],
             [
              0.8888888888888888,
              "#fdca26"
             ],
             [
              1,
              "#f0f921"
             ]
            ],
            "type": "heatmapgl"
           }
          ],
          "histogram": [
           {
            "marker": {
             "pattern": {
              "fillmode": "overlay",
              "size": 10,
              "solidity": 0.2
             }
            },
            "type": "histogram"
           }
          ],
          "histogram2d": [
           {
            "colorbar": {
             "outlinewidth": 0,
             "ticks": ""
            },
            "colorscale": [
             [
              0,
              "#0d0887"
             ],
             [
              0.1111111111111111,
              "#46039f"
             ],
             [
              0.2222222222222222,
              "#7201a8"
             ],
             [
              0.3333333333333333,
              "#9c179e"
             ],
             [
              0.4444444444444444,
              "#bd3786"
             ],
             [
              0.5555555555555556,
              "#d8576b"
             ],
             [
              0.6666666666666666,
              "#ed7953"
             ],
             [
              0.7777777777777778,
              "#fb9f3a"
             ],
             [
              0.8888888888888888,
              "#fdca26"
             ],
             [
              1,
              "#f0f921"
             ]
            ],
            "type": "histogram2d"
           }
          ],
          "histogram2dcontour": [
           {
            "colorbar": {
             "outlinewidth": 0,
             "ticks": ""
            },
            "colorscale": [
             [
              0,
              "#0d0887"
             ],
             [
              0.1111111111111111,
              "#46039f"
             ],
             [
              0.2222222222222222,
              "#7201a8"
             ],
             [
              0.3333333333333333,
              "#9c179e"
             ],
             [
              0.4444444444444444,
              "#bd3786"
             ],
             [
              0.5555555555555556,
              "#d8576b"
             ],
             [
              0.6666666666666666,
              "#ed7953"
             ],
             [
              0.7777777777777778,
              "#fb9f3a"
             ],
             [
              0.8888888888888888,
              "#fdca26"
             ],
             [
              1,
              "#f0f921"
             ]
            ],
            "type": "histogram2dcontour"
           }
          ],
          "mesh3d": [
           {
            "colorbar": {
             "outlinewidth": 0,
             "ticks": ""
            },
            "type": "mesh3d"
           }
          ],
          "parcoords": [
           {
            "line": {
             "colorbar": {
              "outlinewidth": 0,
              "ticks": ""
             }
            },
            "type": "parcoords"
           }
          ],
          "pie": [
           {
            "automargin": true,
            "type": "pie"
           }
          ],
          "scatter": [
           {
            "fillpattern": {
             "fillmode": "overlay",
             "size": 10,
             "solidity": 0.2
            },
            "type": "scatter"
           }
          ],
          "scatter3d": [
           {
            "line": {
             "colorbar": {
              "outlinewidth": 0,
              "ticks": ""
             }
            },
            "marker": {
             "colorbar": {
              "outlinewidth": 0,
              "ticks": ""
             }
            },
            "type": "scatter3d"
           }
          ],
          "scattercarpet": [
           {
            "marker": {
             "colorbar": {
              "outlinewidth": 0,
              "ticks": ""
             }
            },
            "type": "scattercarpet"
           }
          ],
          "scattergeo": [
           {
            "marker": {
             "colorbar": {
              "outlinewidth": 0,
              "ticks": ""
             }
            },
            "type": "scattergeo"
           }
          ],
          "scattergl": [
           {
            "marker": {
             "colorbar": {
              "outlinewidth": 0,
              "ticks": ""
             }
            },
            "type": "scattergl"
           }
          ],
          "scattermapbox": [
           {
            "marker": {
             "colorbar": {
              "outlinewidth": 0,
              "ticks": ""
             }
            },
            "type": "scattermapbox"
           }
          ],
          "scatterpolar": [
           {
            "marker": {
             "colorbar": {
              "outlinewidth": 0,
              "ticks": ""
             }
            },
            "type": "scatterpolar"
           }
          ],
          "scatterpolargl": [
           {
            "marker": {
             "colorbar": {
              "outlinewidth": 0,
              "ticks": ""
             }
            },
            "type": "scatterpolargl"
           }
          ],
          "scatterternary": [
           {
            "marker": {
             "colorbar": {
              "outlinewidth": 0,
              "ticks": ""
             }
            },
            "type": "scatterternary"
           }
          ],
          "surface": [
           {
            "colorbar": {
             "outlinewidth": 0,
             "ticks": ""
            },
            "colorscale": [
             [
              0,
              "#0d0887"
             ],
             [
              0.1111111111111111,
              "#46039f"
             ],
             [
              0.2222222222222222,
              "#7201a8"
             ],
             [
              0.3333333333333333,
              "#9c179e"
             ],
             [
              0.4444444444444444,
              "#bd3786"
             ],
             [
              0.5555555555555556,
              "#d8576b"
             ],
             [
              0.6666666666666666,
              "#ed7953"
             ],
             [
              0.7777777777777778,
              "#fb9f3a"
             ],
             [
              0.8888888888888888,
              "#fdca26"
             ],
             [
              1,
              "#f0f921"
             ]
            ],
            "type": "surface"
           }
          ],
          "table": [
           {
            "cells": {
             "fill": {
              "color": "#EBF0F8"
             },
             "line": {
              "color": "white"
             }
            },
            "header": {
             "fill": {
              "color": "#C8D4E3"
             },
             "line": {
              "color": "white"
             }
            },
            "type": "table"
           }
          ]
         },
         "layout": {
          "annotationdefaults": {
           "arrowcolor": "#2a3f5f",
           "arrowhead": 0,
           "arrowwidth": 1
          },
          "autotypenumbers": "strict",
          "coloraxis": {
           "colorbar": {
            "outlinewidth": 0,
            "ticks": ""
           }
          },
          "colorscale": {
           "diverging": [
            [
             0,
             "#8e0152"
            ],
            [
             0.1,
             "#c51b7d"
            ],
            [
             0.2,
             "#de77ae"
            ],
            [
             0.3,
             "#f1b6da"
            ],
            [
             0.4,
             "#fde0ef"
            ],
            [
             0.5,
             "#f7f7f7"
            ],
            [
             0.6,
             "#e6f5d0"
            ],
            [
             0.7,
             "#b8e186"
            ],
            [
             0.8,
             "#7fbc41"
            ],
            [
             0.9,
             "#4d9221"
            ],
            [
             1,
             "#276419"
            ]
           ],
           "sequential": [
            [
             0,
             "#0d0887"
            ],
            [
             0.1111111111111111,
             "#46039f"
            ],
            [
             0.2222222222222222,
             "#7201a8"
            ],
            [
             0.3333333333333333,
             "#9c179e"
            ],
            [
             0.4444444444444444,
             "#bd3786"
            ],
            [
             0.5555555555555556,
             "#d8576b"
            ],
            [
             0.6666666666666666,
             "#ed7953"
            ],
            [
             0.7777777777777778,
             "#fb9f3a"
            ],
            [
             0.8888888888888888,
             "#fdca26"
            ],
            [
             1,
             "#f0f921"
            ]
           ],
           "sequentialminus": [
            [
             0,
             "#0d0887"
            ],
            [
             0.1111111111111111,
             "#46039f"
            ],
            [
             0.2222222222222222,
             "#7201a8"
            ],
            [
             0.3333333333333333,
             "#9c179e"
            ],
            [
             0.4444444444444444,
             "#bd3786"
            ],
            [
             0.5555555555555556,
             "#d8576b"
            ],
            [
             0.6666666666666666,
             "#ed7953"
            ],
            [
             0.7777777777777778,
             "#fb9f3a"
            ],
            [
             0.8888888888888888,
             "#fdca26"
            ],
            [
             1,
             "#f0f921"
            ]
           ]
          },
          "colorway": [
           "#636efa",
           "#EF553B",
           "#00cc96",
           "#ab63fa",
           "#FFA15A",
           "#19d3f3",
           "#FF6692",
           "#B6E880",
           "#FF97FF",
           "#FECB52"
          ],
          "font": {
           "color": "#2a3f5f"
          },
          "geo": {
           "bgcolor": "white",
           "lakecolor": "white",
           "landcolor": "#E5ECF6",
           "showlakes": true,
           "showland": true,
           "subunitcolor": "white"
          },
          "hoverlabel": {
           "align": "left"
          },
          "hovermode": "closest",
          "mapbox": {
           "style": "light"
          },
          "paper_bgcolor": "white",
          "plot_bgcolor": "#E5ECF6",
          "polar": {
           "angularaxis": {
            "gridcolor": "white",
            "linecolor": "white",
            "ticks": ""
           },
           "bgcolor": "#E5ECF6",
           "radialaxis": {
            "gridcolor": "white",
            "linecolor": "white",
            "ticks": ""
           }
          },
          "scene": {
           "xaxis": {
            "backgroundcolor": "#E5ECF6",
            "gridcolor": "white",
            "gridwidth": 2,
            "linecolor": "white",
            "showbackground": true,
            "ticks": "",
            "zerolinecolor": "white"
           },
           "yaxis": {
            "backgroundcolor": "#E5ECF6",
            "gridcolor": "white",
            "gridwidth": 2,
            "linecolor": "white",
            "showbackground": true,
            "ticks": "",
            "zerolinecolor": "white"
           },
           "zaxis": {
            "backgroundcolor": "#E5ECF6",
            "gridcolor": "white",
            "gridwidth": 2,
            "linecolor": "white",
            "showbackground": true,
            "ticks": "",
            "zerolinecolor": "white"
           }
          },
          "shapedefaults": {
           "line": {
            "color": "#2a3f5f"
           }
          },
          "ternary": {
           "aaxis": {
            "gridcolor": "white",
            "linecolor": "white",
            "ticks": ""
           },
           "baxis": {
            "gridcolor": "white",
            "linecolor": "white",
            "ticks": ""
           },
           "bgcolor": "#E5ECF6",
           "caxis": {
            "gridcolor": "white",
            "linecolor": "white",
            "ticks": ""
           }
          },
          "title": {
           "x": 0.05
          },
          "xaxis": {
           "automargin": true,
           "gridcolor": "white",
           "linecolor": "white",
           "ticks": "",
           "title": {
            "standoff": 15
           },
           "zerolinecolor": "white",
           "zerolinewidth": 2
          },
          "yaxis": {
           "automargin": true,
           "gridcolor": "white",
           "linecolor": "white",
           "ticks": "",
           "title": {
            "standoff": 15
           },
           "zerolinecolor": "white",
           "zerolinewidth": 2
          }
         }
        },
        "title": {
         "text": "Suicide Rates for Males, and Females (2019-2021)"
        },
        "width": 1800,
        "xaxis": {
         "anchor": "y",
         "domain": [
          0,
          0.98
         ],
         "title": {
          "text": "Country"
         }
        },
        "xaxis2": {
         "anchor": "y2",
         "domain": [
          0,
          0.98
         ],
         "matches": "x",
         "showticklabels": false
        },
        "xaxis3": {
         "anchor": "y3",
         "domain": [
          0,
          0.98
         ],
         "matches": "x",
         "showticklabels": false
        },
        "yaxis": {
         "anchor": "x",
         "domain": [
          0,
          0.3133333333333333
         ],
         "range": [
          0,
          60
         ],
         "title": {
          "text": "Suicide Rate per 100k"
         }
        },
        "yaxis2": {
         "anchor": "x2",
         "domain": [
          0.34333333333333327,
          0.6566666666666665
         ],
         "matches": "y",
         "range": [
          0,
          60
         ],
         "title": {
          "text": "Rate per 100k"
         }
        },
        "yaxis3": {
         "anchor": "x3",
         "domain": [
          0.6866666666666665,
          0.9999999999999998
         ],
         "matches": "y",
         "range": [
          0,
          60
         ],
         "title": {
          "text": "Rate per 100k"
         }
        }
       }
      }
     },
     "metadata": {},
     "output_type": "display_data"
    }
   ],
   "source": [
    "df_filtered = df_melted[df_melted['Gender'] != 'BothSexes']\n",
    "\n",
    "# Plot grouped bar chart\n",
    "fig = px.bar(\n",
    "    df_filtered,\n",
    "    x='country',\n",
    "    y='SuicideRate',\n",
    "    color='Gender',\n",
    "    barmode='group',\n",
    "    title='Suicide Rates for Males, and Females (2019-2021)',\n",
    "    labels={'SuicideRate': 'Rate per 100k'},\n",
    "    height=1000,\n",
    "    width=1800,\n",
    "    facet_row='Year',\n",
    ")\n",
    "\n",
    "fig.update_layout(\n",
    "    xaxis_title='Country',\n",
    "    yaxis_title='Suicide Rate per 100k'\n",
    ")\n",
    "\n",
    "fig.update_yaxes(range=[0, 60])\n",
    "\n",
    "fig.show()\n"
   ]
  },
  {
   "cell_type": "markdown",
   "metadata": {},
   "source": [
    "<div  style=\"font-family: Arial, sans-serif; font-size: 20px; background-color: #7b2cbf; color: #ffffff; padding: 7px 15px; text-decoration: none; border-radius: 15px;\">\n",
    "⭐\n",
    " \n",
    "</div>"
   ]
  },
  {
   "cell_type": "markdown",
   "metadata": {},
   "source": [
    "<a id=\"conclusion\"></a>\n",
    "<div style=\"background-color: #48cae4; border-radius: 15px; padding: 20px; text-align: left;\">\n",
    "    <h1 style=\"margin: 0;\">\n",
    "        <b>\n",
    "            <span style=\"color: Black;\">Last but not least, the final chapter</span>\n",
    "            <br><span style=\"color: #ffffff;\">|</span>\n",
    "            <span style=\"color: #FEEC37;\"> Draw an Conclusion 📝\n",
    "            </span>\n",
    "        </b>\n",
    "    </h1>\n",
    "<br>\n",
    "    <a href=\"#table-of-contents\" style=\"font-family: Arial, sans-serif; font-size: 20px; background-color: #7b2cbf; color: #ffffff; padding: 7px 15px; text-decoration: none; border-radius: 15px;\">\n",
    "        [Table of Content 📜⬆️]\n",
    "    </a>\n",
    "</div>\n"
   ]
  },
  {
   "cell_type": "markdown",
   "metadata": {},
   "source": [
    "<div  style=\"font-family: Arial, sans-serif; font-size: 20px; background-color: #7b2cbf; color: #ffffff; padding: 7px 15px; text-decoration: none; border-radius: 15px;\">   <h4>⭐Conclusion</h4>\n",
    "    1. Male suicide rate is usually higher than male.</br>\n",
    "    2. Greenland, Lesotho is very high.</br>\n",
    "</div>"
   ]
  },
  {
   "cell_type": "markdown",
   "metadata": {},
   "source": [
    "<div style=\"font-family: 'Arial', sans-serif; font-size: 72px; background-color: #5a189a; color: #ffffff; padding: 20px; border-radius: 20px; text-align: center; box-shadow: 0 4px 10px rgba(0, 0, 0, 0.2);\">Thank you</div>"
   ]
  },
  {
   "cell_type": "markdown",
   "metadata": {},
   "source": []
  }
 ],
 "metadata": {
  "kernelspec": {
   "display_name": "Python 3",
   "language": "python",
   "name": "python3"
  },
  "language_info": {
   "codemirror_mode": {
    "name": "ipython",
    "version": 3
   },
   "file_extension": ".py",
   "mimetype": "text/x-python",
   "name": "python",
   "nbconvert_exporter": "python",
   "pygments_lexer": "ipython3",
   "version": "3.12.3"
  }
 },
 "nbformat": 4,
 "nbformat_minor": 2
}
