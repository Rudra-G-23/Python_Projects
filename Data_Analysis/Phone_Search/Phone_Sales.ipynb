{
 "cells": [
  {
   "cell_type": "markdown",
   "metadata": {},
   "source": [
    "# Table of Contents\n",
    "1. [📊 Understand the Data](#understand-the-data)\n",
    "2. [🧹 Data Cleaning](#data-cleaning)\n",
    "   1. [Best Practice](#best-practice)\n",
    "3. [🔍 Analysis](#analysis)\n",
    "   1. [Correlation Matrix](#31)\n",
    "   2. [Rating w/ price Comparisons](#32)\n",
    "   3. [Rating and Price Relationship](#33)\n",
    "   4. [Offers & Price Relationship](#34)\n",
    "   5. [Different Field Analysis](#35)\n",
    "   6. [Word Cloud of Delivery](#36)\n",
    "   7. [Word Cloud of Sales volume](#37)\n",
    "4. [📈 Conclusion](#conclusion)\n"
   ]
  },
  {
   "cell_type": "markdown",
   "metadata": {},
   "source": [
    "<a id=\"understand-the-data\"></a>\n",
    "<div style=\"background-color: #48cae4; border-radius: 15px; padding: 20px; text-align: left;\">\n",
    "    <h1 style=\"margin: 0;\">\n",
    "        <b>\n",
    "            <span style=\"color: Black;\">Chapter One</span>\n",
    "            <span style=\"color: #ffffff;\">|</span>\n",
    "            <span style=\"color: #FEEC37;\"> Understand the Data 📊\n",
    "            </span>\n",
    "        </b>\n",
    "    </h1>\n",
    "    <br>\n",
    "    <a href=\"#table-of-contents\" style=\"font-family: Arial, sans-serif; font-size: 20px; background-color: #7b2cbf; color: #ffffff; padding: 7px 15px; text-decoration: none; border-radius: 15px;\">\n",
    "        [Table of Content 📜⬆️]\n",
    "    </a>\n",
    "</div>\n"
   ]
  },
  {
   "cell_type": "code",
   "execution_count": 1,
   "metadata": {},
   "outputs": [],
   "source": [
    "import numpy as np  \n",
    "import pandas as pd\n",
    "\n",
    "import matplotlib.pyplot as plt\n",
    "import seaborn as sns\n",
    "\n",
    "import missingno as msno\n",
    "from tabulate import tabulate\n",
    "from wordcloud import WordCloud\n",
    "\n",
    "import plotly.express as px  \n",
    "import plotly.graph_objects as go  \n",
    "import plotly.figure_factory as ff\n",
    "from plotly.subplots import make_subplots\n",
    "\n",
    "import warnings\n",
    "warnings.filterwarnings('ignore')\n"
   ]
  },
  {
   "cell_type": "code",
   "execution_count": 2,
   "metadata": {},
   "outputs": [
    {
     "data": {
      "text/html": [
       "<div>\n",
       "<style scoped>\n",
       "    .dataframe tbody tr th:only-of-type {\n",
       "        vertical-align: middle;\n",
       "    }\n",
       "\n",
       "    .dataframe tbody tr th {\n",
       "        vertical-align: top;\n",
       "    }\n",
       "\n",
       "    .dataframe thead th {\n",
       "        text-align: right;\n",
       "    }\n",
       "</style>\n",
       "<table border=\"1\" class=\"dataframe\">\n",
       "  <thead>\n",
       "    <tr style=\"text-align: right;\">\n",
       "      <th></th>\n",
       "      <th>asin</th>\n",
       "      <th>product_title</th>\n",
       "      <th>product_price</th>\n",
       "      <th>product_original_price</th>\n",
       "      <th>currency</th>\n",
       "      <th>product_star_rating</th>\n",
       "      <th>product_num_ratings</th>\n",
       "      <th>product_url</th>\n",
       "      <th>product_photo</th>\n",
       "      <th>product_num_offers</th>\n",
       "      <th>...</th>\n",
       "      <th>is_amazon_choice</th>\n",
       "      <th>is_prime</th>\n",
       "      <th>product_availability</th>\n",
       "      <th>climate_pledge_friendly</th>\n",
       "      <th>sales_volume</th>\n",
       "      <th>delivery</th>\n",
       "      <th>has_variations</th>\n",
       "      <th>unit_price</th>\n",
       "      <th>unit_count</th>\n",
       "      <th>coupon_text</th>\n",
       "    </tr>\n",
       "  </thead>\n",
       "  <tbody>\n",
       "    <tr>\n",
       "      <th>196</th>\n",
       "      <td>B0CKXNCDXY</td>\n",
       "      <td>CAT S62 Rugged Cell Phone Unlocked (128GB, 4GB...</td>\n",
       "      <td>$169.00</td>\n",
       "      <td>NaN</td>\n",
       "      <td>USD</td>\n",
       "      <td>3.5</td>\n",
       "      <td>124</td>\n",
       "      <td>https://www.amazon.com/dp/B0CKXNCDXY</td>\n",
       "      <td>https://m.media-amazon.com/images/I/71XwZjeGwP...</td>\n",
       "      <td>4</td>\n",
       "      <td>...</td>\n",
       "      <td>False</td>\n",
       "      <td>True</td>\n",
       "      <td>Only 14 left in stock - order soon.</td>\n",
       "      <td>False</td>\n",
       "      <td>100+ bought in past month</td>\n",
       "      <td>FREE delivery Tue, Sep 24 Only 14 left in stoc...</td>\n",
       "      <td>False</td>\n",
       "      <td>NaN</td>\n",
       "      <td>NaN</td>\n",
       "      <td>NaN</td>\n",
       "    </tr>\n",
       "    <tr>\n",
       "      <th>2</th>\n",
       "      <td>B09SM24S8C</td>\n",
       "      <td>Samsung Galaxy A03s Cell Phone, AT&amp;amp;T GSM U...</td>\n",
       "      <td>$69.00</td>\n",
       "      <td>$99.99</td>\n",
       "      <td>USD</td>\n",
       "      <td>3.8</td>\n",
       "      <td>597</td>\n",
       "      <td>https://www.amazon.com/dp/B09SM24S8C</td>\n",
       "      <td>https://m.media-amazon.com/images/I/51m45B3Yy+...</td>\n",
       "      <td>35</td>\n",
       "      <td>...</td>\n",
       "      <td>False</td>\n",
       "      <td>True</td>\n",
       "      <td>NaN</td>\n",
       "      <td>False</td>\n",
       "      <td>2K+ bought in past month</td>\n",
       "      <td>FREE delivery Tue, Sep 24</td>\n",
       "      <td>True</td>\n",
       "      <td>NaN</td>\n",
       "      <td>NaN</td>\n",
       "      <td>NaN</td>\n",
       "    </tr>\n",
       "    <tr>\n",
       "      <th>206</th>\n",
       "      <td>B0D7SBL8PJ</td>\n",
       "      <td>X40 Unlocked 5G Cell Phones 2024 Android 13 Mo...</td>\n",
       "      <td>$99.99</td>\n",
       "      <td>NaN</td>\n",
       "      <td>USD</td>\n",
       "      <td>5.0</td>\n",
       "      <td>4</td>\n",
       "      <td>https://www.amazon.com/dp/B0D7SBL8PJ</td>\n",
       "      <td>https://m.media-amazon.com/images/I/61q3aJhItC...</td>\n",
       "      <td>1</td>\n",
       "      <td>...</td>\n",
       "      <td>False</td>\n",
       "      <td>False</td>\n",
       "      <td>NaN</td>\n",
       "      <td>False</td>\n",
       "      <td>50+ bought in past month</td>\n",
       "      <td>FREE delivery</td>\n",
       "      <td>True</td>\n",
       "      <td>NaN</td>\n",
       "      <td>NaN</td>\n",
       "      <td>NaN</td>\n",
       "    </tr>\n",
       "  </tbody>\n",
       "</table>\n",
       "<p>3 rows × 22 columns</p>\n",
       "</div>"
      ],
      "text/plain": [
       "           asin                                      product_title  \\\n",
       "196  B0CKXNCDXY  CAT S62 Rugged Cell Phone Unlocked (128GB, 4GB...   \n",
       "2    B09SM24S8C  Samsung Galaxy A03s Cell Phone, AT&amp;T GSM U...   \n",
       "206  B0D7SBL8PJ  X40 Unlocked 5G Cell Phones 2024 Android 13 Mo...   \n",
       "\n",
       "    product_price product_original_price currency  product_star_rating  \\\n",
       "196       $169.00                    NaN      USD                  3.5   \n",
       "2          $69.00                 $99.99      USD                  3.8   \n",
       "206        $99.99                    NaN      USD                  5.0   \n",
       "\n",
       "     product_num_ratings                           product_url  \\\n",
       "196                  124  https://www.amazon.com/dp/B0CKXNCDXY   \n",
       "2                    597  https://www.amazon.com/dp/B09SM24S8C   \n",
       "206                    4  https://www.amazon.com/dp/B0D7SBL8PJ   \n",
       "\n",
       "                                         product_photo  product_num_offers  \\\n",
       "196  https://m.media-amazon.com/images/I/71XwZjeGwP...                   4   \n",
       "2    https://m.media-amazon.com/images/I/51m45B3Yy+...                  35   \n",
       "206  https://m.media-amazon.com/images/I/61q3aJhItC...                   1   \n",
       "\n",
       "     ... is_amazon_choice  is_prime                 product_availability  \\\n",
       "196  ...            False      True  Only 14 left in stock - order soon.   \n",
       "2    ...            False      True                                  NaN   \n",
       "206  ...            False     False                                  NaN   \n",
       "\n",
       "     climate_pledge_friendly               sales_volume  \\\n",
       "196                    False  100+ bought in past month   \n",
       "2                      False   2K+ bought in past month   \n",
       "206                    False   50+ bought in past month   \n",
       "\n",
       "                                              delivery has_variations  \\\n",
       "196  FREE delivery Tue, Sep 24 Only 14 left in stoc...          False   \n",
       "2                            FREE delivery Tue, Sep 24           True   \n",
       "206                                      FREE delivery           True   \n",
       "\n",
       "    unit_price  unit_count coupon_text  \n",
       "196        NaN         NaN         NaN  \n",
       "2          NaN         NaN         NaN  \n",
       "206        NaN         NaN         NaN  \n",
       "\n",
       "[3 rows x 22 columns]"
      ]
     },
     "execution_count": 2,
     "metadata": {},
     "output_type": "execute_result"
    }
   ],
   "source": [
    "source = r'C:\\Users\\Rudra\\Downloads\\Python_Pandas_profiling\\Phone_Search\\phone search.csv'\n",
    "df = pd.read_csv(source, encoding= 'unicode_escape')\n",
    "df.sample(3)"
   ]
  },
  {
   "cell_type": "code",
   "execution_count": 3,
   "metadata": {},
   "outputs": [
    {
     "name": "stdout",
     "output_type": "stream",
     "text": [
      "The size of the DataFrame: 7480 \n",
      "\n",
      "The Shape of the DataFrame (340, 22) \n",
      "\n",
      "Available columns in the DataFrame: Index(['asin', 'product_title', 'product_price', 'product_original_price',\n",
      "       'currency', 'product_star_rating', 'product_num_ratings', 'product_url',\n",
      "       'product_photo', 'product_num_offers', 'product_minimum_offer_price',\n",
      "       'is_best_seller', 'is_amazon_choice', 'is_prime',\n",
      "       'product_availability', 'climate_pledge_friendly', 'sales_volume',\n",
      "       'delivery', 'has_variations', 'unit_price', 'unit_count',\n",
      "       'coupon_text'],\n",
      "      dtype='object')\n"
     ]
    }
   ],
   "source": [
    "print(\"The size of the DataFrame:\",df.size, '\\n')\n",
    "print('The Shape of the DataFrame', df.shape, '\\n')\n",
    "print(\"Available columns in the DataFrame:\", df.columns)"
   ]
  },
  {
   "cell_type": "code",
   "execution_count": 4,
   "metadata": {},
   "outputs": [
    {
     "name": "stdout",
     "output_type": "stream",
     "text": [
      "╭─────────────────────────────┬──────────────────┬─────────╮\n",
      "│ Column                      │   Non-Null Count │ Dtype   │\n",
      "├─────────────────────────────┼──────────────────┼─────────┤\n",
      "│ asin                        │              340 │ object  │\n",
      "├─────────────────────────────┼──────────────────┼─────────┤\n",
      "│ product_title               │              340 │ object  │\n",
      "├─────────────────────────────┼──────────────────┼─────────┤\n",
      "│ product_price               │              336 │ object  │\n",
      "├─────────────────────────────┼──────────────────┼─────────┤\n",
      "│ product_original_price      │              148 │ object  │\n",
      "├─────────────────────────────┼──────────────────┼─────────┤\n",
      "│ currency                    │              336 │ object  │\n",
      "├─────────────────────────────┼──────────────────┼─────────┤\n",
      "│ product_star_rating         │              337 │ float64 │\n",
      "├─────────────────────────────┼──────────────────┼─────────┤\n",
      "│ product_num_ratings         │              340 │ int64   │\n",
      "├─────────────────────────────┼──────────────────┼─────────┤\n",
      "│ product_url                 │              340 │ object  │\n",
      "├─────────────────────────────┼──────────────────┼─────────┤\n",
      "│ product_photo               │              340 │ object  │\n",
      "├─────────────────────────────┼──────────────────┼─────────┤\n",
      "│ product_num_offers          │              340 │ int64   │\n",
      "├─────────────────────────────┼──────────────────┼─────────┤\n",
      "│ product_minimum_offer_price │              336 │ object  │\n",
      "├─────────────────────────────┼──────────────────┼─────────┤\n",
      "│ is_best_seller              │              340 │ bool    │\n",
      "├─────────────────────────────┼──────────────────┼─────────┤\n",
      "│ is_amazon_choice            │              340 │ bool    │\n",
      "├─────────────────────────────┼──────────────────┼─────────┤\n",
      "│ is_prime                    │              340 │ bool    │\n",
      "├─────────────────────────────┼──────────────────┼─────────┤\n",
      "│ product_availability        │               75 │ object  │\n",
      "├─────────────────────────────┼──────────────────┼─────────┤\n",
      "│ climate_pledge_friendly     │              340 │ bool    │\n",
      "├─────────────────────────────┼──────────────────┼─────────┤\n",
      "│ sales_volume                │              320 │ object  │\n",
      "├─────────────────────────────┼──────────────────┼─────────┤\n",
      "│ delivery                    │              337 │ object  │\n",
      "├─────────────────────────────┼──────────────────┼─────────┤\n",
      "│ has_variations              │              340 │ bool    │\n",
      "├─────────────────────────────┼──────────────────┼─────────┤\n",
      "│ unit_price                  │                4 │ object  │\n",
      "├─────────────────────────────┼──────────────────┼─────────┤\n",
      "│ unit_count                  │                4 │ float64 │\n",
      "├─────────────────────────────┼──────────────────┼─────────┤\n",
      "│ coupon_text                 │               22 │ object  │\n",
      "╰─────────────────────────────┴──────────────────┴─────────╯\n"
     ]
    }
   ],
   "source": [
    "# info summary\n",
    "info = {\n",
    "    \"Index\": df.index,\n",
    "    \"Columns\": df.columns.tolist(),\n",
    "    \"Non-Null Count\": df.notnull().sum().tolist(),\n",
    "    \"Dtype\": df.dtypes.tolist()\n",
    "}\n",
    "\n",
    "# Convert to a format suitable for tabulation\n",
    "info_table = zip(info[\"Columns\"], info[\"Non-Null Count\"], info[\"Dtype\"])\n",
    "\n",
    "# Print the summary information in a table format\n",
    "print(tabulate(info_table, headers=[\"Column\", \"Non-Null Count\", \"Dtype\"], tablefmt=\"rounded_grid\"))"
   ]
  },
  {
   "cell_type": "code",
   "execution_count": 5,
   "metadata": {},
   "outputs": [
    {
     "data": {
      "text/html": [
       "<div>\n",
       "<style scoped>\n",
       "    .dataframe tbody tr th:only-of-type {\n",
       "        vertical-align: middle;\n",
       "    }\n",
       "\n",
       "    .dataframe tbody tr th {\n",
       "        vertical-align: top;\n",
       "    }\n",
       "\n",
       "    .dataframe thead th {\n",
       "        text-align: right;\n",
       "    }\n",
       "</style>\n",
       "<table border=\"1\" class=\"dataframe\">\n",
       "  <thead>\n",
       "    <tr style=\"text-align: right;\">\n",
       "      <th></th>\n",
       "      <th>count</th>\n",
       "      <th>unique</th>\n",
       "      <th>top</th>\n",
       "      <th>freq</th>\n",
       "      <th>mean</th>\n",
       "      <th>std</th>\n",
       "      <th>min</th>\n",
       "      <th>25%</th>\n",
       "      <th>50%</th>\n",
       "      <th>75%</th>\n",
       "      <th>max</th>\n",
       "    </tr>\n",
       "  </thead>\n",
       "  <tbody>\n",
       "    <tr>\n",
       "      <th>asin</th>\n",
       "      <td>340</td>\n",
       "      <td>315</td>\n",
       "      <td>B0BQ118F2T</td>\n",
       "      <td>2</td>\n",
       "      <td>NaN</td>\n",
       "      <td>NaN</td>\n",
       "      <td>NaN</td>\n",
       "      <td>NaN</td>\n",
       "      <td>NaN</td>\n",
       "      <td>NaN</td>\n",
       "      <td>NaN</td>\n",
       "    </tr>\n",
       "    <tr>\n",
       "      <th>product_title</th>\n",
       "      <td>340</td>\n",
       "      <td>315</td>\n",
       "      <td>Moto G Play 2023 3-Day Battery Unlocked Made f...</td>\n",
       "      <td>2</td>\n",
       "      <td>NaN</td>\n",
       "      <td>NaN</td>\n",
       "      <td>NaN</td>\n",
       "      <td>NaN</td>\n",
       "      <td>NaN</td>\n",
       "      <td>NaN</td>\n",
       "      <td>NaN</td>\n",
       "    </tr>\n",
       "    <tr>\n",
       "      <th>product_price</th>\n",
       "      <td>336</td>\n",
       "      <td>241</td>\n",
       "      <td>$99.99</td>\n",
       "      <td>12</td>\n",
       "      <td>NaN</td>\n",
       "      <td>NaN</td>\n",
       "      <td>NaN</td>\n",
       "      <td>NaN</td>\n",
       "      <td>NaN</td>\n",
       "      <td>NaN</td>\n",
       "      <td>NaN</td>\n",
       "    </tr>\n",
       "    <tr>\n",
       "      <th>product_original_price</th>\n",
       "      <td>148</td>\n",
       "      <td>108</td>\n",
       "      <td>$119.99</td>\n",
       "      <td>8</td>\n",
       "      <td>NaN</td>\n",
       "      <td>NaN</td>\n",
       "      <td>NaN</td>\n",
       "      <td>NaN</td>\n",
       "      <td>NaN</td>\n",
       "      <td>NaN</td>\n",
       "      <td>NaN</td>\n",
       "    </tr>\n",
       "    <tr>\n",
       "      <th>currency</th>\n",
       "      <td>336</td>\n",
       "      <td>1</td>\n",
       "      <td>USD</td>\n",
       "      <td>336</td>\n",
       "      <td>NaN</td>\n",
       "      <td>NaN</td>\n",
       "      <td>NaN</td>\n",
       "      <td>NaN</td>\n",
       "      <td>NaN</td>\n",
       "      <td>NaN</td>\n",
       "      <td>NaN</td>\n",
       "    </tr>\n",
       "    <tr>\n",
       "      <th>product_star_rating</th>\n",
       "      <td>337.0</td>\n",
       "      <td>NaN</td>\n",
       "      <td>NaN</td>\n",
       "      <td>NaN</td>\n",
       "      <td>4.087537</td>\n",
       "      <td>0.383544</td>\n",
       "      <td>1.6</td>\n",
       "      <td>3.9</td>\n",
       "      <td>4.1</td>\n",
       "      <td>4.3</td>\n",
       "      <td>5.0</td>\n",
       "    </tr>\n",
       "    <tr>\n",
       "      <th>product_num_ratings</th>\n",
       "      <td>340.0</td>\n",
       "      <td>NaN</td>\n",
       "      <td>NaN</td>\n",
       "      <td>NaN</td>\n",
       "      <td>2744.05</td>\n",
       "      <td>7331.816833</td>\n",
       "      <td>0.0</td>\n",
       "      <td>135.25</td>\n",
       "      <td>503.5</td>\n",
       "      <td>1874.25</td>\n",
       "      <td>64977.0</td>\n",
       "    </tr>\n",
       "    <tr>\n",
       "      <th>product_url</th>\n",
       "      <td>340</td>\n",
       "      <td>315</td>\n",
       "      <td>https://www.amazon.com/dp/B0BQ118F2T</td>\n",
       "      <td>2</td>\n",
       "      <td>NaN</td>\n",
       "      <td>NaN</td>\n",
       "      <td>NaN</td>\n",
       "      <td>NaN</td>\n",
       "      <td>NaN</td>\n",
       "      <td>NaN</td>\n",
       "      <td>NaN</td>\n",
       "    </tr>\n",
       "    <tr>\n",
       "      <th>product_photo</th>\n",
       "      <td>340</td>\n",
       "      <td>304</td>\n",
       "      <td>https://m.media-amazon.com/images/I/71zGrrAe5N...</td>\n",
       "      <td>5</td>\n",
       "      <td>NaN</td>\n",
       "      <td>NaN</td>\n",
       "      <td>NaN</td>\n",
       "      <td>NaN</td>\n",
       "      <td>NaN</td>\n",
       "      <td>NaN</td>\n",
       "      <td>NaN</td>\n",
       "    </tr>\n",
       "    <tr>\n",
       "      <th>product_num_offers</th>\n",
       "      <td>340.0</td>\n",
       "      <td>NaN</td>\n",
       "      <td>NaN</td>\n",
       "      <td>NaN</td>\n",
       "      <td>8.426471</td>\n",
       "      <td>10.798389</td>\n",
       "      <td>1.0</td>\n",
       "      <td>1.75</td>\n",
       "      <td>4.0</td>\n",
       "      <td>11.0</td>\n",
       "      <td>83.0</td>\n",
       "    </tr>\n",
       "    <tr>\n",
       "      <th>product_minimum_offer_price</th>\n",
       "      <td>336</td>\n",
       "      <td>273</td>\n",
       "      <td>$99.99</td>\n",
       "      <td>7</td>\n",
       "      <td>NaN</td>\n",
       "      <td>NaN</td>\n",
       "      <td>NaN</td>\n",
       "      <td>NaN</td>\n",
       "      <td>NaN</td>\n",
       "      <td>NaN</td>\n",
       "      <td>NaN</td>\n",
       "    </tr>\n",
       "    <tr>\n",
       "      <th>is_best_seller</th>\n",
       "      <td>340</td>\n",
       "      <td>2</td>\n",
       "      <td>False</td>\n",
       "      <td>338</td>\n",
       "      <td>NaN</td>\n",
       "      <td>NaN</td>\n",
       "      <td>NaN</td>\n",
       "      <td>NaN</td>\n",
       "      <td>NaN</td>\n",
       "      <td>NaN</td>\n",
       "      <td>NaN</td>\n",
       "    </tr>\n",
       "    <tr>\n",
       "      <th>is_amazon_choice</th>\n",
       "      <td>340</td>\n",
       "      <td>2</td>\n",
       "      <td>False</td>\n",
       "      <td>338</td>\n",
       "      <td>NaN</td>\n",
       "      <td>NaN</td>\n",
       "      <td>NaN</td>\n",
       "      <td>NaN</td>\n",
       "      <td>NaN</td>\n",
       "      <td>NaN</td>\n",
       "      <td>NaN</td>\n",
       "    </tr>\n",
       "    <tr>\n",
       "      <th>is_prime</th>\n",
       "      <td>340</td>\n",
       "      <td>2</td>\n",
       "      <td>True</td>\n",
       "      <td>248</td>\n",
       "      <td>NaN</td>\n",
       "      <td>NaN</td>\n",
       "      <td>NaN</td>\n",
       "      <td>NaN</td>\n",
       "      <td>NaN</td>\n",
       "      <td>NaN</td>\n",
       "      <td>NaN</td>\n",
       "    </tr>\n",
       "    <tr>\n",
       "      <th>product_availability</th>\n",
       "      <td>75</td>\n",
       "      <td>21</td>\n",
       "      <td>Only 1 left in stock - order soon.</td>\n",
       "      <td>13</td>\n",
       "      <td>NaN</td>\n",
       "      <td>NaN</td>\n",
       "      <td>NaN</td>\n",
       "      <td>NaN</td>\n",
       "      <td>NaN</td>\n",
       "      <td>NaN</td>\n",
       "      <td>NaN</td>\n",
       "    </tr>\n",
       "    <tr>\n",
       "      <th>climate_pledge_friendly</th>\n",
       "      <td>340</td>\n",
       "      <td>2</td>\n",
       "      <td>False</td>\n",
       "      <td>262</td>\n",
       "      <td>NaN</td>\n",
       "      <td>NaN</td>\n",
       "      <td>NaN</td>\n",
       "      <td>NaN</td>\n",
       "      <td>NaN</td>\n",
       "      <td>NaN</td>\n",
       "      <td>NaN</td>\n",
       "    </tr>\n",
       "    <tr>\n",
       "      <th>sales_volume</th>\n",
       "      <td>320</td>\n",
       "      <td>18</td>\n",
       "      <td>100+ bought in past month</td>\n",
       "      <td>49</td>\n",
       "      <td>NaN</td>\n",
       "      <td>NaN</td>\n",
       "      <td>NaN</td>\n",
       "      <td>NaN</td>\n",
       "      <td>NaN</td>\n",
       "      <td>NaN</td>\n",
       "      <td>NaN</td>\n",
       "    </tr>\n",
       "    <tr>\n",
       "      <th>delivery</th>\n",
       "      <td>337</td>\n",
       "      <td>92</td>\n",
       "      <td>FREE delivery Tue, Sep 24</td>\n",
       "      <td>142</td>\n",
       "      <td>NaN</td>\n",
       "      <td>NaN</td>\n",
       "      <td>NaN</td>\n",
       "      <td>NaN</td>\n",
       "      <td>NaN</td>\n",
       "      <td>NaN</td>\n",
       "      <td>NaN</td>\n",
       "    </tr>\n",
       "    <tr>\n",
       "      <th>has_variations</th>\n",
       "      <td>340</td>\n",
       "      <td>2</td>\n",
       "      <td>False</td>\n",
       "      <td>240</td>\n",
       "      <td>NaN</td>\n",
       "      <td>NaN</td>\n",
       "      <td>NaN</td>\n",
       "      <td>NaN</td>\n",
       "      <td>NaN</td>\n",
       "      <td>NaN</td>\n",
       "      <td>NaN</td>\n",
       "    </tr>\n",
       "    <tr>\n",
       "      <th>unit_price</th>\n",
       "      <td>4</td>\n",
       "      <td>2</td>\n",
       "      <td>$25.00</td>\n",
       "      <td>2</td>\n",
       "      <td>NaN</td>\n",
       "      <td>NaN</td>\n",
       "      <td>NaN</td>\n",
       "      <td>NaN</td>\n",
       "      <td>NaN</td>\n",
       "      <td>NaN</td>\n",
       "      <td>NaN</td>\n",
       "    </tr>\n",
       "    <tr>\n",
       "      <th>unit_count</th>\n",
       "      <td>4.0</td>\n",
       "      <td>NaN</td>\n",
       "      <td>NaN</td>\n",
       "      <td>NaN</td>\n",
       "      <td>3.5</td>\n",
       "      <td>1.732051</td>\n",
       "      <td>2.0</td>\n",
       "      <td>2.0</td>\n",
       "      <td>3.5</td>\n",
       "      <td>5.0</td>\n",
       "      <td>5.0</td>\n",
       "    </tr>\n",
       "    <tr>\n",
       "      <th>coupon_text</th>\n",
       "      <td>22</td>\n",
       "      <td>13</td>\n",
       "      <td>Save 10% with coupon</td>\n",
       "      <td>4</td>\n",
       "      <td>NaN</td>\n",
       "      <td>NaN</td>\n",
       "      <td>NaN</td>\n",
       "      <td>NaN</td>\n",
       "      <td>NaN</td>\n",
       "      <td>NaN</td>\n",
       "      <td>NaN</td>\n",
       "    </tr>\n",
       "  </tbody>\n",
       "</table>\n",
       "</div>"
      ],
      "text/plain": [
       "                             count unique  \\\n",
       "asin                           340    315   \n",
       "product_title                  340    315   \n",
       "product_price                  336    241   \n",
       "product_original_price         148    108   \n",
       "currency                       336      1   \n",
       "product_star_rating          337.0    NaN   \n",
       "product_num_ratings          340.0    NaN   \n",
       "product_url                    340    315   \n",
       "product_photo                  340    304   \n",
       "product_num_offers           340.0    NaN   \n",
       "product_minimum_offer_price    336    273   \n",
       "is_best_seller                 340      2   \n",
       "is_amazon_choice               340      2   \n",
       "is_prime                       340      2   \n",
       "product_availability            75     21   \n",
       "climate_pledge_friendly        340      2   \n",
       "sales_volume                   320     18   \n",
       "delivery                       337     92   \n",
       "has_variations                 340      2   \n",
       "unit_price                       4      2   \n",
       "unit_count                     4.0    NaN   \n",
       "coupon_text                     22     13   \n",
       "\n",
       "                                                                           top  \\\n",
       "asin                                                                B0BQ118F2T   \n",
       "product_title                Moto G Play 2023 3-Day Battery Unlocked Made f...   \n",
       "product_price                                                           $99.99   \n",
       "product_original_price                                                 $119.99   \n",
       "currency                                                                   USD   \n",
       "product_star_rating                                                        NaN   \n",
       "product_num_ratings                                                        NaN   \n",
       "product_url                               https://www.amazon.com/dp/B0BQ118F2T   \n",
       "product_photo                https://m.media-amazon.com/images/I/71zGrrAe5N...   \n",
       "product_num_offers                                                         NaN   \n",
       "product_minimum_offer_price                                             $99.99   \n",
       "is_best_seller                                                           False   \n",
       "is_amazon_choice                                                         False   \n",
       "is_prime                                                                  True   \n",
       "product_availability                        Only 1 left in stock - order soon.   \n",
       "climate_pledge_friendly                                                  False   \n",
       "sales_volume                                         100+ bought in past month   \n",
       "delivery                                             FREE delivery Tue, Sep 24   \n",
       "has_variations                                                           False   \n",
       "unit_price                                                              $25.00   \n",
       "unit_count                                                                 NaN   \n",
       "coupon_text                                               Save 10% with coupon   \n",
       "\n",
       "                            freq      mean          std  min     25%    50%  \\\n",
       "asin                           2       NaN          NaN  NaN     NaN    NaN   \n",
       "product_title                  2       NaN          NaN  NaN     NaN    NaN   \n",
       "product_price                 12       NaN          NaN  NaN     NaN    NaN   \n",
       "product_original_price         8       NaN          NaN  NaN     NaN    NaN   \n",
       "currency                     336       NaN          NaN  NaN     NaN    NaN   \n",
       "product_star_rating          NaN  4.087537     0.383544  1.6     3.9    4.1   \n",
       "product_num_ratings          NaN   2744.05  7331.816833  0.0  135.25  503.5   \n",
       "product_url                    2       NaN          NaN  NaN     NaN    NaN   \n",
       "product_photo                  5       NaN          NaN  NaN     NaN    NaN   \n",
       "product_num_offers           NaN  8.426471    10.798389  1.0    1.75    4.0   \n",
       "product_minimum_offer_price    7       NaN          NaN  NaN     NaN    NaN   \n",
       "is_best_seller               338       NaN          NaN  NaN     NaN    NaN   \n",
       "is_amazon_choice             338       NaN          NaN  NaN     NaN    NaN   \n",
       "is_prime                     248       NaN          NaN  NaN     NaN    NaN   \n",
       "product_availability          13       NaN          NaN  NaN     NaN    NaN   \n",
       "climate_pledge_friendly      262       NaN          NaN  NaN     NaN    NaN   \n",
       "sales_volume                  49       NaN          NaN  NaN     NaN    NaN   \n",
       "delivery                     142       NaN          NaN  NaN     NaN    NaN   \n",
       "has_variations               240       NaN          NaN  NaN     NaN    NaN   \n",
       "unit_price                     2       NaN          NaN  NaN     NaN    NaN   \n",
       "unit_count                   NaN       3.5     1.732051  2.0     2.0    3.5   \n",
       "coupon_text                    4       NaN          NaN  NaN     NaN    NaN   \n",
       "\n",
       "                                 75%      max  \n",
       "asin                             NaN      NaN  \n",
       "product_title                    NaN      NaN  \n",
       "product_price                    NaN      NaN  \n",
       "product_original_price           NaN      NaN  \n",
       "currency                         NaN      NaN  \n",
       "product_star_rating              4.3      5.0  \n",
       "product_num_ratings          1874.25  64977.0  \n",
       "product_url                      NaN      NaN  \n",
       "product_photo                    NaN      NaN  \n",
       "product_num_offers              11.0     83.0  \n",
       "product_minimum_offer_price      NaN      NaN  \n",
       "is_best_seller                   NaN      NaN  \n",
       "is_amazon_choice                 NaN      NaN  \n",
       "is_prime                         NaN      NaN  \n",
       "product_availability             NaN      NaN  \n",
       "climate_pledge_friendly          NaN      NaN  \n",
       "sales_volume                     NaN      NaN  \n",
       "delivery                         NaN      NaN  \n",
       "has_variations                   NaN      NaN  \n",
       "unit_price                       NaN      NaN  \n",
       "unit_count                       5.0      5.0  \n",
       "coupon_text                      NaN      NaN  "
      ]
     },
     "execution_count": 5,
     "metadata": {},
     "output_type": "execute_result"
    }
   ],
   "source": [
    "df.describe(include='all').T"
   ]
  },
  {
   "cell_type": "code",
   "execution_count": 6,
   "metadata": {},
   "outputs": [
    {
     "data": {
      "text/plain": [
       "<Axes: >"
      ]
     },
     "execution_count": 6,
     "metadata": {},
     "output_type": "execute_result"
    },
    {
     "data": {
      "image/png": "[encoded data removed]",
      "text/plain": [
       "<Figure size 640x480 with 1 Axes>"
      ]
     },
     "metadata": {},
     "output_type": "display_data"
    }
   ],
   "source": [
    "df.describe().T.plot(kind='bar')"
   ]
  },
  {
   "cell_type": "markdown",
   "metadata": {},
   "source": [
    "\n",
    "<a id=\"data-cleaning\"></a>\n",
    "<div style=\"background-color: #48cae4; border-radius: 15px; padding: 20px; text-align: left;\">\n",
    "    <h1 style=\"margin: 0;\">\n",
    "        <b>\n",
    "            <span style=\"color: Black;\">Chapter Two</span>\n",
    "            <span style=\"color: #ffffff;\">|</span>\n",
    "            <span style=\"color: #FEEC37;\"> Data Cleaning 🧹\n",
    "            </span>\n",
    "        </b>\n",
    "    </h1>\n",
    "    <br>\n",
    "    <a href=\"#table-of-contents\" style=\"font-family: Arial, sans-serif; font-size: 20px; background-color: #7b2cbf; color: #ffffff; padding: 7px 15px; text-decoration: none; border-radius: 15px;\">\n",
    "        [Table of Content 📜⬆️]\n",
    "    </a>\n",
    "</div>\n"
   ]
  },
  {
   "cell_type": "code",
   "execution_count": 7,
   "metadata": {},
   "outputs": [
    {
     "data": {
      "text/plain": [
       "21"
      ]
     },
     "execution_count": 7,
     "metadata": {},
     "output_type": "execute_result"
    }
   ],
   "source": [
    "df.duplicated().sum()"
   ]
  },
  {
   "cell_type": "code",
   "execution_count": 8,
   "metadata": {},
   "outputs": [
    {
     "data": {
      "text/plain": [
       "asin                             0\n",
       "product_title                    0\n",
       "product_price                    4\n",
       "product_original_price         192\n",
       "currency                         4\n",
       "product_star_rating              3\n",
       "product_num_ratings              0\n",
       "product_url                      0\n",
       "product_photo                    0\n",
       "product_num_offers               0\n",
       "product_minimum_offer_price      4\n",
       "is_best_seller                   0\n",
       "is_amazon_choice                 0\n",
       "is_prime                         0\n",
       "product_availability           265\n",
       "climate_pledge_friendly          0\n",
       "sales_volume                    20\n",
       "delivery                         3\n",
       "has_variations                   0\n",
       "unit_price                     336\n",
       "unit_count                     336\n",
       "coupon_text                    318\n",
       "dtype: int64"
      ]
     },
     "execution_count": 8,
     "metadata": {},
     "output_type": "execute_result"
    }
   ],
   "source": [
    "df.isnull().sum()"
   ]
  },
  {
   "cell_type": "code",
   "execution_count": 9,
   "metadata": {},
   "outputs": [
    {
     "data": {
      "text/plain": [
       "<Axes: >"
      ]
     },
     "execution_count": 9,
     "metadata": {},
     "output_type": "execute_result"
    },
    {
     "data": {
      "image/png": "[encoded data removed]",
      "text/plain": [
       "<Figure size 2500x1000 with 2 Axes>"
      ]
     },
     "metadata": {},
     "output_type": "display_data"
    }
   ],
   "source": [
    "msno.matrix(df)"
   ]
  },
  {
   "cell_type": "markdown",
   "metadata": {},
   "source": [
    "<a id=\"best-practice\"></a>\n",
    "<div style=\"background-color: #48cae4; border-radius: 15px; padding: 20px; text-align: left;\">\n",
    "<p style=\"color: Black;\">\n",
    "   ⭐ <b>Best Practice before clean the data have a copy of Original Data<b>\n",
    "   <pre  style=\"color: Black; font-size: 20px;\">\n",
    "   1. Remove the duplicated data\n",
    "   2. Delete these columns (unit_price, unit_count, coupon_text,product_original_price,product_availability )\n",
    "   3. currency, product_url, product_photo, Deleted no sense for analysis \n",
    "   4. Change the Price & product_minimum_offer_price into int\n",
    "   </pre>\n",
    "</p>\n",
    "    <a href=\"#table-of-contents\" style=\"font-family: Arial, sans-serif; font-size: 20px; background-color: #7b2cbf; color: #ffffff; padding: 7px 15px; text-decoration: none; border-radius: 15px;\">\n",
    "        [Table of Content 📜⬆️]\n",
    "    </a>\n",
    "</div>"
   ]
  },
  {
   "cell_type": "code",
   "execution_count": 11,
   "metadata": {},
   "outputs": [],
   "source": [
    "dfc = df.copy()"
   ]
  },
  {
   "cell_type": "code",
   "execution_count": 12,
   "metadata": {},
   "outputs": [
    {
     "data": {
      "text/html": [
       "<div>\n",
       "<style scoped>\n",
       "    .dataframe tbody tr th:only-of-type {\n",
       "        vertical-align: middle;\n",
       "    }\n",
       "\n",
       "    .dataframe tbody tr th {\n",
       "        vertical-align: top;\n",
       "    }\n",
       "\n",
       "    .dataframe thead th {\n",
       "        text-align: right;\n",
       "    }\n",
       "</style>\n",
       "<table border=\"1\" class=\"dataframe\">\n",
       "  <thead>\n",
       "    <tr style=\"text-align: right;\">\n",
       "      <th></th>\n",
       "      <th>asin</th>\n",
       "      <th>product_title</th>\n",
       "      <th>product_price</th>\n",
       "      <th>product_original_price</th>\n",
       "      <th>currency</th>\n",
       "      <th>product_star_rating</th>\n",
       "      <th>product_num_ratings</th>\n",
       "      <th>product_url</th>\n",
       "      <th>product_photo</th>\n",
       "      <th>product_num_offers</th>\n",
       "      <th>...</th>\n",
       "      <th>is_amazon_choice</th>\n",
       "      <th>is_prime</th>\n",
       "      <th>product_availability</th>\n",
       "      <th>climate_pledge_friendly</th>\n",
       "      <th>sales_volume</th>\n",
       "      <th>delivery</th>\n",
       "      <th>has_variations</th>\n",
       "      <th>unit_price</th>\n",
       "      <th>unit_count</th>\n",
       "      <th>coupon_text</th>\n",
       "    </tr>\n",
       "  </thead>\n",
       "  <tbody>\n",
       "    <tr>\n",
       "      <th>295</th>\n",
       "      <td>B00ZYHA1KI</td>\n",
       "      <td>Hamilton CapTel 2400i Captioned Telephone Larg...</td>\n",
       "      <td>$75.00</td>\n",
       "      <td>NaN</td>\n",
       "      <td>USD</td>\n",
       "      <td>4.3</td>\n",
       "      <td>1603</td>\n",
       "      <td>https://www.amazon.com/dp/B00ZYHA1KI</td>\n",
       "      <td>https://m.media-amazon.com/images/I/71+l3QY48E...</td>\n",
       "      <td>4</td>\n",
       "      <td>...</td>\n",
       "      <td>False</td>\n",
       "      <td>True</td>\n",
       "      <td>NaN</td>\n",
       "      <td>False</td>\n",
       "      <td>300+ bought in past month</td>\n",
       "      <td>FREE delivery Tue, Sep 24</td>\n",
       "      <td>False</td>\n",
       "      <td>NaN</td>\n",
       "      <td>NaN</td>\n",
       "      <td>NaN</td>\n",
       "    </tr>\n",
       "  </tbody>\n",
       "</table>\n",
       "<p>1 rows × 22 columns</p>\n",
       "</div>"
      ],
      "text/plain": [
       "           asin                                      product_title  \\\n",
       "295  B00ZYHA1KI  Hamilton CapTel 2400i Captioned Telephone Larg...   \n",
       "\n",
       "    product_price product_original_price currency  product_star_rating  \\\n",
       "295        $75.00                    NaN      USD                  4.3   \n",
       "\n",
       "     product_num_ratings                           product_url  \\\n",
       "295                 1603  https://www.amazon.com/dp/B00ZYHA1KI   \n",
       "\n",
       "                                         product_photo  product_num_offers  \\\n",
       "295  https://m.media-amazon.com/images/I/71+l3QY48E...                   4   \n",
       "\n",
       "     ... is_amazon_choice  is_prime  product_availability  \\\n",
       "295  ...            False      True                   NaN   \n",
       "\n",
       "     climate_pledge_friendly               sales_volume  \\\n",
       "295                    False  300+ bought in past month   \n",
       "\n",
       "                      delivery has_variations unit_price  unit_count  \\\n",
       "295  FREE delivery Tue, Sep 24          False        NaN         NaN   \n",
       "\n",
       "    coupon_text  \n",
       "295         NaN  \n",
       "\n",
       "[1 rows x 22 columns]"
      ]
     },
     "execution_count": 12,
     "metadata": {},
     "output_type": "execute_result"
    }
   ],
   "source": [
    "dfc.sample()"
   ]
  },
  {
   "cell_type": "code",
   "execution_count": 13,
   "metadata": {},
   "outputs": [
    {
     "data": {
      "text/plain": [
       "array(['USD', nan], dtype=object)"
      ]
     },
     "execution_count": 13,
     "metadata": {},
     "output_type": "execute_result"
    }
   ],
   "source": [
    "dfc['currency'].unique() #All values are USD or nan so remove it."
   ]
  },
  {
   "cell_type": "code",
   "execution_count": 14,
   "metadata": {},
   "outputs": [
    {
     "data": {
      "text/plain": [
       "Index(['asin', 'product_title', 'product_price', 'product_original_price',\n",
       "       'currency', 'product_star_rating', 'product_num_ratings', 'product_url',\n",
       "       'product_photo', 'product_num_offers', 'product_minimum_offer_price',\n",
       "       'is_best_seller', 'is_amazon_choice', 'is_prime',\n",
       "       'product_availability', 'climate_pledge_friendly', 'sales_volume',\n",
       "       'delivery', 'has_variations', 'unit_price', 'unit_count',\n",
       "       'coupon_text'],\n",
       "      dtype='object')"
      ]
     },
     "execution_count": 14,
     "metadata": {},
     "output_type": "execute_result"
    }
   ],
   "source": [
    "dfc.columns"
   ]
  },
  {
   "cell_type": "code",
   "execution_count": 15,
   "metadata": {},
   "outputs": [],
   "source": [
    "# drop the columns \n",
    "dfc.drop(columns=['currency', 'product_original_price','unit_price', 'unit_count','coupon_text','product_url','product_photo','product_availability',], inplace=True)"
   ]
  },
  {
   "cell_type": "code",
   "execution_count": 16,
   "metadata": {},
   "outputs": [],
   "source": [
    "# Change the Datatypes\n",
    "dfc['product_minimum_offer_price'] = dfc['product_minimum_offer_price'].str.replace('$', '').str.replace(',', '').str.strip().astype('float')\n",
    "dfc['product_price'] = dfc['product_price'].str.replace('$', '').str.replace(',', '').str.strip().astype('float')"
   ]
  },
  {
   "cell_type": "code",
   "execution_count": 17,
   "metadata": {},
   "outputs": [
    {
     "data": {
      "text/html": [
       "<div>\n",
       "<style scoped>\n",
       "    .dataframe tbody tr th:only-of-type {\n",
       "        vertical-align: middle;\n",
       "    }\n",
       "\n",
       "    .dataframe tbody tr th {\n",
       "        vertical-align: top;\n",
       "    }\n",
       "\n",
       "    .dataframe thead th {\n",
       "        text-align: right;\n",
       "    }\n",
       "</style>\n",
       "<table border=\"1\" class=\"dataframe\">\n",
       "  <thead>\n",
       "    <tr style=\"text-align: right;\">\n",
       "      <th></th>\n",
       "      <th>sales_volume</th>\n",
       "      <th>delivery</th>\n",
       "    </tr>\n",
       "  </thead>\n",
       "  <tbody>\n",
       "    <tr>\n",
       "      <th>292</th>\n",
       "      <td>50+ bought in past month</td>\n",
       "      <td>FREE delivery Tue, Sep 24</td>\n",
       "    </tr>\n",
       "    <tr>\n",
       "      <th>161</th>\n",
       "      <td>100+ bought in past month</td>\n",
       "      <td>FREE delivery Tue, Sep 24</td>\n",
       "    </tr>\n",
       "    <tr>\n",
       "      <th>105</th>\n",
       "      <td>1K+ bought in past month</td>\n",
       "      <td>FREE delivery Tue, Sep 24 on $35 of items ship...</td>\n",
       "    </tr>\n",
       "  </tbody>\n",
       "</table>\n",
       "</div>"
      ],
      "text/plain": [
       "                  sales_volume  \\\n",
       "292   50+ bought in past month   \n",
       "161  100+ bought in past month   \n",
       "105   1K+ bought in past month   \n",
       "\n",
       "                                              delivery  \n",
       "292                          FREE delivery Tue, Sep 24  \n",
       "161                          FREE delivery Tue, Sep 24  \n",
       "105  FREE delivery Tue, Sep 24 on $35 of items ship...  "
      ]
     },
     "execution_count": 17,
     "metadata": {},
     "output_type": "execute_result"
    }
   ],
   "source": [
    "dfc[['sales_volume',\t'delivery']].sample(3)"
   ]
  },
  {
   "cell_type": "markdown",
   "metadata": {},
   "source": [
    "<a id=\"analysis\"></a>\n",
    "<div style=\"background-color: #48cae4; border-radius: 15px; padding: 20px; text-align: left;\">\n",
    "    <h1 style=\"margin: 0;\">\n",
    "        <b>\n",
    "            <span style=\"color: Black;\">Chapter Three</span>\n",
    "            <span style=\"color: #ffffff;\">|</span>\n",
    "            <span style=\"color: #FEEC37;\"> Analysis 🔍\n",
    "            </span>\n",
    "        </b>\n",
    "    </h1>\n",
    "    <br>\n",
    "    <a href=\"#table-of-contents\" style=\"font-family: Arial, sans-serif; font-size: 20px; background-color: #7b2cbf; color: #ffffff; padding: 7px 15px; text-decoration: none; border-radius: 15px;\">\n",
    "        [Table of Content 📜⬆️]\n",
    "    </a>\n",
    "</div>\n"
   ]
  },
  {
   "cell_type": "markdown",
   "metadata": {},
   "source": [
    "<a id=\"31\"></a>\n",
    "### <div style=\"text-align:left; border-radius:15px; padding:20px; color:Black; margin:0; font-size:100%; font-family:Arial; background-color:#48cae4; overflow:hidden\"><b>⚡ 1. Correlation Matrix</b>\n",
    "</div>\n",
    "    <a href=\"#table-of-contents\" style=\"font-family: Arial, sans-serif; font-size: 15px; background-color: #7b2cbf; color: #ffffff; padding: 7px 15px; text-decoration: none; border-radius: 15px;\">\n",
    "        [Table of Content 📜⬆️]\n",
    "    </a>"
   ]
  },
  {
   "cell_type": "code",
   "execution_count": 18,
   "metadata": {},
   "outputs": [
    {
     "data": {
      "application/vnd.plotly.v1+json": {
       "config": {
        "plotlyServerURL": "https://plot.ly"
       },
       "data": [
        {
         "coloraxis": "coloraxis",
         "hovertemplate": "x: %{x}<br>y: %{y}<br>color: %{z}<extra></extra>",
         "name": "0",
         "texttemplate": "%{z}",
         "type": "heatmap",
         "x": [
          "product_price",
          "product_star_rating",
          "product_num_ratings",
          "product_num_offers",
          "product_minimum_offer_price"
         ],
         "xaxis": "x",
         "y": [
          "product_price",
          "product_star_rating",
          "product_num_ratings",
          "product_num_offers",
          "product_minimum_offer_price"
         ],
         "yaxis": "y",
         "z": [
          [
           1,
           0.18233176003101279,
           -0.07050709598440605,
           0.00002853010964312428,
           0.9858134869633851
          ],
          [
           0.18233176003101279,
           1,
           0.158313408773387,
           -0.03393590851864641,
           0.17938017624617217
          ],
          [
           -0.07050709598440605,
           0.158313408773387,
           1,
           0.06793581202941316,
           -0.07717928554159385
          ],
          [
           0.00002853010964312428,
           -0.03393590851864641,
           0.06793581202941316,
           1,
           -0.015283948395777746
          ],
          [
           0.9858134869633851,
           0.17938017624617217,
           -0.07717928554159385,
           -0.015283948395777746,
           1
          ]
         ]
        }
       ],
       "layout": {
        "coloraxis": {
         "colorscale": [
          [
           0,
           "#440154"
          ],
          [
           0.1111111111111111,
           "#482878"
          ],
          [
           0.2222222222222222,
           "#3e4989"
          ],
          [
           0.3333333333333333,
           "#31688e"
          ],
          [
           0.4444444444444444,
           "#26828e"
          ],
          [
           0.5555555555555556,
           "#1f9e89"
          ],
          [
           0.6666666666666666,
           "#35b779"
          ],
          [
           0.7777777777777778,
           "#6ece58"
          ],
          [
           0.8888888888888888,
           "#b5de2b"
          ],
          [
           1,
           "#fde725"
          ]
         ]
        },
        "template": {
         "data": {
          "bar": [
           {
            "error_x": {
             "color": "#2a3f5f"
            },
            "error_y": {
             "color": "#2a3f5f"
            },
            "marker": {
             "line": {
              "color": "#E5ECF6",
              "width": 0.5
             },
             "pattern": {
              "fillmode": "overlay",
              "size": 10,
              "solidity": 0.2
             }
            },
            "type": "bar"
           }
          ],
          "barpolar": [
           {
            "marker": {
             "line": {
              "color": "#E5ECF6",
              "width": 0.5
             },
             "pattern": {
              "fillmode": "overlay",
              "size": 10,
              "solidity": 0.2
             }
            },
            "type": "barpolar"
           }
          ],
          "carpet": [
           {
            "aaxis": {
             "endlinecolor": "#2a3f5f",
             "gridcolor": "white",
             "linecolor": "white",
             "minorgridcolor": "white",
             "startlinecolor": "#2a3f5f"
            },
            "baxis": {
             "endlinecolor": "#2a3f5f",
             "gridcolor": "white",
             "linecolor": "white",
             "minorgridcolor": "white",
             "startlinecolor": "#2a3f5f"
            },
            "type": "carpet"
           }
          ],
          "choropleth": [
           {
            "colorbar": {
             "outlinewidth": 0,
             "ticks": ""
            },
            "type": "choropleth"
           }
          ],
          "contour": [
           {
            "colorbar": {
             "outlinewidth": 0,
             "ticks": ""
            },
            "colorscale": [
             [
              0,
              "#0d0887"
             ],
             [
              0.1111111111111111,
              "#46039f"
             ],
             [
              0.2222222222222222,
              "#7201a8"
             ],
             [
              0.3333333333333333,
              "#9c179e"
             ],
             [
              0.4444444444444444,
              "#bd3786"
             ],
             [
              0.5555555555555556,
              "#d8576b"
             ],
             [
              0.6666666666666666,
              "#ed7953"
             ],
             [
              0.7777777777777778,
              "#fb9f3a"
             ],
             [
              0.8888888888888888,
              "#fdca26"
             ],
             [
              1,
              "#f0f921"
             ]
            ],
            "type": "contour"
           }
          ],
          "contourcarpet": [
           {
            "colorbar": {
             "outlinewidth": 0,
             "ticks": ""
            },
            "type": "contourcarpet"
           }
          ],
          "heatmap": [
           {
            "colorbar": {
             "outlinewidth": 0,
             "ticks": ""
            },
            "colorscale": [
             [
              0,
              "#0d0887"
             ],
             [
              0.1111111111111111,
              "#46039f"
             ],
             [
              0.2222222222222222,
              "#7201a8"
             ],
             [
              0.3333333333333333,
              "#9c179e"
             ],
             [
              0.4444444444444444,
              "#bd3786"
             ],
             [
              0.5555555555555556,
              "#d8576b"
             ],
             [
              0.6666666666666666,
              "#ed7953"
             ],
             [
              0.7777777777777778,
              "#fb9f3a"
             ],
             [
              0.8888888888888888,
              "#fdca26"
             ],
             [
              1,
              "#f0f921"
             ]
            ],
            "type": "heatmap"
           }
          ],
          "heatmapgl": [
           {
            "colorbar": {
             "outlinewidth": 0,
             "ticks": ""
            },
            "colorscale": [
             [
              0,
              "#0d0887"
             ],
             [
              0.1111111111111111,
              "#46039f"
             ],
             [
              0.2222222222222222,
              "#7201a8"
             ],
             [
              0.3333333333333333,
              "#9c179e"
             ],
             [
              0.4444444444444444,
              "#bd3786"
             ],
             [
              0.5555555555555556,
              "#d8576b"
             ],
             [
              0.6666666666666666,
              "#ed7953"
             ],
             [
              0.7777777777777778,
              "#fb9f3a"
             ],
             [
              0.8888888888888888,
              "#fdca26"
             ],
             [
              1,
              "#f0f921"
             ]
            ],
            "type": "heatmapgl"
           }
          ],
          "histogram": [
           {
            "marker": {
             "pattern": {
              "fillmode": "overlay",
              "size": 10,
              "solidity": 0.2
             }
            },
            "type": "histogram"
           }
          ],
          "histogram2d": [
           {
            "colorbar": {
             "outlinewidth": 0,
             "ticks": ""
            },
            "colorscale": [
             [
              0,
              "#0d0887"
             ],
             [
              0.1111111111111111,
              "#46039f"
             ],
             [
              0.2222222222222222,
              "#7201a8"
             ],
             [
              0.3333333333333333,
              "#9c179e"
             ],
             [
              0.4444444444444444,
              "#bd3786"
             ],
             [
              0.5555555555555556,
              "#d8576b"
             ],
             [
              0.6666666666666666,
              "#ed7953"
             ],
             [
              0.7777777777777778,
              "#fb9f3a"
             ],
             [
              0.8888888888888888,
              "#fdca26"
             ],
             [
              1,
              "#f0f921"
             ]
            ],
            "type": "histogram2d"
           }
          ],
          "histogram2dcontour": [
           {
            "colorbar": {
             "outlinewidth": 0,
             "ticks": ""
            },
            "colorscale": [
             [
              0,
              "#0d0887"
             ],
             [
              0.1111111111111111,
              "#46039f"
             ],
             [
              0.2222222222222222,
              "#7201a8"
             ],
             [
              0.3333333333333333,
              "#9c179e"
             ],
             [
              0.4444444444444444,
              "#bd3786"
             ],
             [
              0.5555555555555556,
              "#d8576b"
             ],
             [
              0.6666666666666666,
              "#ed7953"
             ],
             [
              0.7777777777777778,
              "#fb9f3a"
             ],
             [
              0.8888888888888888,
              "#fdca26"
             ],
             [
              1,
              "#f0f921"
             ]
            ],
            "type": "histogram2dcontour"
           }
          ],
          "mesh3d": [
           {
            "colorbar": {
             "outlinewidth": 0,
             "ticks": ""
            },
            "type": "mesh3d"
           }
          ],
          "parcoords": [
           {
            "line": {
             "colorbar": {
              "outlinewidth": 0,
              "ticks": ""
             }
            },
            "type": "parcoords"
           }
          ],
          "pie": [
           {
            "automargin": true,
            "type": "pie"
           }
          ],
          "scatter": [
           {
            "fillpattern": {
             "fillmode": "overlay",
             "size": 10,
             "solidity": 0.2
            },
            "type": "scatter"
           }
          ],
          "scatter3d": [
           {
            "line": {
             "colorbar": {
              "outlinewidth": 0,
              "ticks": ""
             }
            },
            "marker": {
             "colorbar": {
              "outlinewidth": 0,
              "ticks": ""
             }
            },
            "type": "scatter3d"
           }
          ],
          "scattercarpet": [
           {
            "marker": {
             "colorbar": {
              "outlinewidth": 0,
              "ticks": ""
             }
            },
            "type": "scattercarpet"
           }
          ],
          "scattergeo": [
           {
            "marker": {
             "colorbar": {
              "outlinewidth": 0,
              "ticks": ""
             }
            },
            "type": "scattergeo"
           }
          ],
          "scattergl": [
           {
            "marker": {
             "colorbar": {
              "outlinewidth": 0,
              "ticks": ""
             }
            },
            "type": "scattergl"
           }
          ],
          "scattermapbox": [
           {
            "marker": {
             "colorbar": {
              "outlinewidth": 0,
              "ticks": ""
             }
            },
            "type": "scattermapbox"
           }
          ],
          "scatterpolar": [
           {
            "marker": {
             "colorbar": {
              "outlinewidth": 0,
              "ticks": ""
             }
            },
            "type": "scatterpolar"
           }
          ],
          "scatterpolargl": [
           {
            "marker": {
             "colorbar": {
              "outlinewidth": 0,
              "ticks": ""
             }
            },
            "type": "scatterpolargl"
           }
          ],
          "scatterternary": [
           {
            "marker": {
             "colorbar": {
              "outlinewidth": 0,
              "ticks": ""
             }
            },
            "type": "scatterternary"
           }
          ],
          "surface": [
           {
            "colorbar": {
             "outlinewidth": 0,
             "ticks": ""
            },
            "colorscale": [
             [
              0,
              "#0d0887"
             ],
             [
              0.1111111111111111,
              "#46039f"
             ],
             [
              0.2222222222222222,
              "#7201a8"
             ],
             [
              0.3333333333333333,
              "#9c179e"
             ],
             [
              0.4444444444444444,
              "#bd3786"
             ],
             [
              0.5555555555555556,
              "#d8576b"
             ],
             [
              0.6666666666666666,
              "#ed7953"
             ],
             [
              0.7777777777777778,
              "#fb9f3a"
             ],
             [
              0.8888888888888888,
              "#fdca26"
             ],
             [
              1,
              "#f0f921"
             ]
            ],
            "type": "surface"
           }
          ],
          "table": [
           {
            "cells": {
             "fill": {
              "color": "#EBF0F8"
             },
             "line": {
              "color": "white"
             }
            },
            "header": {
             "fill": {
              "color": "#C8D4E3"
             },
             "line": {
              "color": "white"
             }
            },
            "type": "table"
           }
          ]
         },
         "layout": {
          "annotationdefaults": {
           "arrowcolor": "#2a3f5f",
           "arrowhead": 0,
           "arrowwidth": 1
          },
          "autotypenumbers": "strict",
          "coloraxis": {
           "colorbar": {
            "outlinewidth": 0,
            "ticks": ""
           }
          },
          "colorscale": {
           "diverging": [
            [
             0,
             "#8e0152"
            ],
            [
             0.1,
             "#c51b7d"
            ],
            [
             0.2,
             "#de77ae"
            ],
            [
             0.3,
             "#f1b6da"
            ],
            [
             0.4,
             "#fde0ef"
            ],
            [
             0.5,
             "#f7f7f7"
            ],
            [
             0.6,
             "#e6f5d0"
            ],
            [
             0.7,
             "#b8e186"
            ],
            [
             0.8,
             "#7fbc41"
            ],
            [
             0.9,
             "#4d9221"
            ],
            [
             1,
             "#276419"
            ]
           ],
           "sequential": [
            [
             0,
             "#0d0887"
            ],
            [
             0.1111111111111111,
             "#46039f"
            ],
            [
             0.2222222222222222,
             "#7201a8"
            ],
            [
             0.3333333333333333,
             "#9c179e"
            ],
            [
             0.4444444444444444,
             "#bd3786"
            ],
            [
             0.5555555555555556,
             "#d8576b"
            ],
            [
             0.6666666666666666,
             "#ed7953"
            ],
            [
             0.7777777777777778,
             "#fb9f3a"
            ],
            [
             0.8888888888888888,
             "#fdca26"
            ],
            [
             1,
             "#f0f921"
            ]
           ],
           "sequentialminus": [
            [
             0,
             "#0d0887"
            ],
            [
             0.1111111111111111,
             "#46039f"
            ],
            [
             0.2222222222222222,
             "#7201a8"
            ],
            [
             0.3333333333333333,
             "#9c179e"
            ],
            [
             0.4444444444444444,
             "#bd3786"
            ],
            [
             0.5555555555555556,
             "#d8576b"
            ],
            [
             0.6666666666666666,
             "#ed7953"
            ],
            [
             0.7777777777777778,
             "#fb9f3a"
            ],
            [
             0.8888888888888888,
             "#fdca26"
            ],
            [
             1,
             "#f0f921"
            ]
           ]
          },
          "colorway": [
           "#636efa",
           "#EF553B",
           "#00cc96",
           "#ab63fa",
           "#FFA15A",
           "#19d3f3",
           "#FF6692",
           "#B6E880",
           "#FF97FF",
           "#FECB52"
          ],
          "font": {
           "color": "#2a3f5f"
          },
          "geo": {
           "bgcolor": "white",
           "lakecolor": "white",
           "landcolor": "#E5ECF6",
           "showlakes": true,
           "showland": true,
           "subunitcolor": "white"
          },
          "hoverlabel": {
           "align": "left"
          },
          "hovermode": "closest",
          "mapbox": {
           "style": "light"
          },
          "paper_bgcolor": "white",
          "plot_bgcolor": "#E5ECF6",
          "polar": {
           "angularaxis": {
            "gridcolor": "white",
            "linecolor": "white",
            "ticks": ""
           },
           "bgcolor": "#E5ECF6",
           "radialaxis": {
            "gridcolor": "white",
            "linecolor": "white",
            "ticks": ""
           }
          },
          "scene": {
           "xaxis": {
            "backgroundcolor": "#E5ECF6",
            "gridcolor": "white",
            "gridwidth": 2,
            "linecolor": "white",
            "showbackground": true,
            "ticks": "",
            "zerolinecolor": "white"
           },
           "yaxis": {
            "backgroundcolor": "#E5ECF6",
            "gridcolor": "white",
            "gridwidth": 2,
            "linecolor": "white",
            "showbackground": true,
            "ticks": "",
            "zerolinecolor": "white"
           },
           "zaxis": {
            "backgroundcolor": "#E5ECF6",
            "gridcolor": "white",
            "gridwidth": 2,
            "linecolor": "white",
            "showbackground": true,
            "ticks": "",
            "zerolinecolor": "white"
           }
          },
          "shapedefaults": {
           "line": {
            "color": "#2a3f5f"
           }
          },
          "ternary": {
           "aaxis": {
            "gridcolor": "white",
            "linecolor": "white",
            "ticks": ""
           },
           "baxis": {
            "gridcolor": "white",
            "linecolor": "white",
            "ticks": ""
           },
           "bgcolor": "#E5ECF6",
           "caxis": {
            "gridcolor": "white",
            "linecolor": "white",
            "ticks": ""
           }
          },
          "title": {
           "x": 0.05
          },
          "xaxis": {
           "automargin": true,
           "gridcolor": "white",
           "linecolor": "white",
           "ticks": "",
           "title": {
            "standoff": 15
           },
           "zerolinecolor": "white",
           "zerolinewidth": 2
          },
          "yaxis": {
           "automargin": true,
           "gridcolor": "white",
           "linecolor": "white",
           "ticks": "",
           "title": {
            "standoff": 15
           },
           "zerolinecolor": "white",
           "zerolinewidth": 2
          }
         }
        },
        "title": {
         "text": "Correlation Matrix"
        },
        "xaxis": {
         "anchor": "y",
         "domain": [
          0,
          1
         ]
        },
        "yaxis": {
         "anchor": "x",
         "autorange": "reversed",
         "domain": [
          0,
          1
         ]
        }
       }
      }
     },
     "metadata": {},
     "output_type": "display_data"
    }
   ],
   "source": [
    "numeric_df = dfc.select_dtypes(include=[float, int])\n",
    "correlation_matrix = numeric_df.corr().T\n",
    "\n",
    "fig = px.imshow(correlation_matrix, text_auto=True, aspect=\"auto\",\n",
    "                title='Correlation Matrix',\n",
    "                color_continuous_scale='viridis')\n",
    "fig.show()"
   ]
  },
  {
   "cell_type": "markdown",
   "metadata": {},
   "source": [
    "<a id=\"32\"></a>\n",
    "### <div style=\"text-align:left; border-radius:15px; padding:20px; color:Black; margin:0; font-size:100%; font-family:Arial; background-color:#48cae4; overflow:hidden\"><b>⚡ 2. Star Rating with Price Comparisons </b>\n",
    "</div>\n",
    "    <a href=\"#table-of-contents\" style=\"font-family: Arial, sans-serif; font-size: 15px; background-color: #7b2cbf; color: #ffffff; padding: 7px 15px; text-decoration: none; border-radius: 15px;\">\n",
    "        [Table of Content 📜⬆️]\n",
    "    </a>"
   ]
  },
  {
   "cell_type": "code",
   "execution_count": 19,
   "metadata": {},
   "outputs": [
    {
     "data": {
      "application/vnd.plotly.v1+json": {
       "config": {
        "plotlyServerURL": "https://plot.ly"
       },
       "data": [
        {
         "alignmentgroup": "True",
         "bingroup": "x",
         "histfunc": "sum",
         "hovertemplate": "product_star_rating=%{x}<br>sum of product_price=%{y}<extra></extra>",
         "legendgroup": "",
         "marker": {
          "color": "#636efa",
          "pattern": {
           "shape": ""
          }
         },
         "name": "",
         "offsetgroup": "",
         "orientation": "v",
         "showlegend": false,
         "type": "histogram",
         "x": [
          4,
          4.2,
          3.8,
          4.2,
          3.8,
          4.4,
          4.2,
          4.2,
          4.3,
          4,
          4,
          4,
          4,
          4.3,
          4.3,
          4.1,
          4.2,
          4,
          3.8,
          4.2,
          4.4,
          4.2,
          4.2,
          4.3,
          4,
          4,
          4,
          4,
          4.3,
          4.3,
          3.6,
          3.9,
          4.5,
          4.1,
          3.6,
          4.3,
          4.5,
          3.9,
          3.3,
          4.3,
          4.4,
          3.9,
          3.8,
          4.3,
          4.3,
          4.3,
          null,
          4.7,
          4,
          4.1,
          4.3,
          4.4,
          3.7,
          4.2,
          3.9,
          4,
          3.8,
          4.3,
          4.3,
          3.9,
          4.2,
          4.1,
          4.1,
          4.1,
          4.4,
          4.3,
          4.3,
          4.1,
          4.1,
          3.9,
          4.4,
          4.1,
          4.4,
          4.1,
          4.2,
          4.4,
          4,
          4.4,
          4.2,
          4.1,
          4.2,
          3.8,
          4.2,
          4,
          3.9,
          3.8,
          4,
          4.3,
          4.1,
          4.4,
          4,
          4,
          4.2,
          4,
          4,
          4.4,
          4.4,
          4.4,
          4.3,
          4,
          4.3,
          3.8,
          4.5,
          4.2,
          4.2,
          4.3,
          4.4,
          3.3,
          3.8,
          4.1,
          3.4,
          4,
          3.8,
          3.5,
          3.9,
          4.1,
          3.8,
          4.3,
          null,
          4.4,
          4.3,
          4.4,
          3.9,
          4.3,
          4.5,
          4.3,
          4,
          3.9,
          4.3,
          2.8,
          3.8,
          4.3,
          4.1,
          4,
          2.8,
          3.6,
          4.3,
          3.9,
          3.7,
          4.3,
          4.5,
          4.2,
          3.9,
          4.2,
          4.1,
          3,
          4.3,
          3.9,
          4.1,
          3.3,
          4.1,
          4.2,
          4,
          4.2,
          3.8,
          4.1,
          3.7,
          4.3,
          3.9,
          4,
          4.2,
          4.2,
          4,
          4.3,
          4.1,
          4.2,
          4.4,
          4.2,
          4.3,
          4.4,
          4,
          4.3,
          4.5,
          4.1,
          4.1,
          4.3,
          4.4,
          3.7,
          4.5,
          4.3,
          4.5,
          4.2,
          3,
          3.3,
          3.5,
          4,
          4.3,
          4.4,
          4.4,
          3.9,
          4.3,
          4.3,
          4.3,
          4.1,
          4.4,
          5,
          3.5,
          4.1,
          4,
          4.2,
          4.1,
          null,
          3.2,
          3.8,
          4.1,
          3.6,
          5,
          4,
          4.2,
          4.1,
          4.3,
          4.2,
          4.4,
          4.8,
          4.1,
          3.8,
          4.3,
          5,
          4,
          3.7,
          4.3,
          3.4,
          4.3,
          4,
          3.9,
          4.3,
          4.1,
          4.2,
          4,
          4.3,
          5,
          3.7,
          4.2,
          4.2,
          4.1,
          4.2,
          3.8,
          3.6,
          4.3,
          4.3,
          4.5,
          4.4,
          4,
          4.1,
          4.4,
          4.4,
          3.9,
          3.6,
          3,
          3.8,
          3.4,
          4.4,
          1.6,
          4.1,
          4.1,
          3.9,
          4.2,
          3.8,
          4.5,
          4,
          3.2,
          4.2,
          4.2,
          4.6,
          3.9,
          3.9,
          4.1,
          3.9,
          4.3,
          3.4,
          4.3,
          4.4,
          4.2,
          3,
          3.9,
          4.1,
          4.2,
          4.3,
          4.5,
          3.7,
          4.2,
          4.2,
          3.5,
          4,
          2.7,
          5,
          3.9,
          4,
          3.8,
          3.7,
          3.8,
          4.1,
          3.8,
          4.2,
          3.8,
          4.3,
          4.3,
          3.2,
          4.6,
          4.2,
          3.9,
          4,
          3.9,
          3.8,
          4.3,
          4.4,
          4,
          4.2,
          5,
          4.5,
          4.2,
          5,
          4.5,
          4.2,
          4.2,
          4.3,
          4.3,
          4.3,
          3.5,
          3.9,
          4,
          4,
          4.1,
          3.4,
          3.8,
          3.5,
          4.2,
          3.9,
          4.6,
          4.7,
          4.6,
          4.7,
          4.4,
          3.6,
          4.6,
          4.7,
          4.4,
          4.1,
          4.6,
          4.4
         ],
         "xaxis": "x",
         "y": [
          99,
          153.99,
          69,
          49.99,
          88.09,
          49.99,
          149.99,
          149.5,
          139.99,
          59.99,
          89,
          195,
          199.99,
          249.99,
          18.45,
          355.81,
          153.99,
          99,
          69,
          49.99,
          49.99,
          149.99,
          149.5,
          139.99,
          59.99,
          89,
          194.99,
          199.99,
          249.99,
          18.45,
          41.99,
          269.99,
          798,
          149.94,
          99.99,
          78.95,
          499.99,
          89.99,
          59.99,
          159,
          17.56,
          166.99,
          49.99,
          24.99,
          344.95,
          183.69,
          39,
          158.99,
          19.99,
          232,
          479.72,
          284.99,
          98.52,
          99.88,
          209.99,
          699.99,
          88.82,
          99.99,
          128,
          41.9,
          387,
          96.26,
          358.99,
          287.3,
          null,
          9.99,
          159.99,
          422,
          229.95,
          249.95,
          349.99,
          98.93,
          799.99,
          355.81,
          19.89,
          187,
          225.62,
          549.99,
          179.99,
          152.93,
          133,
          88.99,
          69.72,
          238.99,
          169.99,
          85.99,
          169.99,
          187,
          142.49,
          99.99,
          63.98,
          89.55,
          399,
          129.95,
          111.07,
          89.97,
          99.99,
          859.99,
          49.99,
          49.99,
          54.95,
          103.12,
          799.99,
          117.9,
          15.95,
          16.14,
          24.95,
          99.99,
          299.99,
          159.99,
          249.99,
          98,
          null,
          72.25,
          69.07,
          120,
          68,
          46.49,
          174.99,
          154.98,
          499,
          139.99,
          389,
          51.6,
          559.99,
          162.5,
          246,
          64.94,
          117.77,
          99.99,
          204.95,
          51.6,
          399.99,
          246,
          99.99,
          62.99,
          117.77,
          64.94,
          88,
          106.08,
          199.99,
          148.87,
          172.49,
          469.99,
          199.99,
          51.99,
          143.99,
          124.99,
          379.55,
          null,
          1614.99,
          499.95,
          94,
          30.52,
          159.99,
          250,
          39.99,
          35.97,
          273.99,
          75.05,
          76.95,
          270.74,
          145,
          65.95,
          74,
          209,
          49.85,
          149.85,
          225,
          20.23,
          89.98,
          55.04,
          402,
          199.99,
          96.87,
          79.99,
          620.05,
          14.99,
          159.99,
          69.99,
          319.95,
          188.89,
          39.99,
          54.99,
          144.99,
          379.5,
          103.76,
          139.95,
          76.95,
          91.75,
          169.99,
          183,
          349.99,
          344,
          859.99,
          21.99,
          169,
          1299.99,
          119.99,
          473.5,
          229,
          69.99,
          59.99,
          83,
          69.99,
          99.99,
          99.99,
          235.9,
          49.99,
          98.25,
          31.49,
          76.56,
          859.99,
          7.99,
          169.99,
          69,
          149.95,
          279.99,
          119.95,
          64.89,
          70.32,
          39.99,
          34.49,
          130,
          114.99,
          null,
          95.53,
          80.29,
          47.99,
          159.99,
          125,
          249.7,
          289,
          264.95,
          124,
          944.96,
          135,
          113.87,
          139.99,
          197,
          29.99,
          107.99,
          29.99,
          22.4,
          149.99,
          38.58,
          55,
          13.98,
          41,
          146.29,
          9.99,
          159.69,
          59.99,
          64.99,
          23.04,
          27.99,
          89.95,
          18.98,
          199.99,
          184.95,
          68.99,
          179.99,
          19.99,
          199.99,
          39.99,
          120,
          40.93,
          199,
          82.85,
          17.99,
          12.98,
          11.99,
          161.23,
          65.99,
          326,
          144,
          199.95,
          195.24,
          65.95,
          79.99,
          31.99,
          541.06,
          70,
          66.89,
          39.99,
          99.99,
          72.99,
          83,
          49.99,
          202,
          13.89,
          125,
          49.88,
          117.99,
          89,
          75,
          131.88,
          22.99,
          283.69,
          169,
          154.31,
          209.95,
          49.65,
          27.98,
          399.99,
          39.99,
          71.99,
          114.28,
          119.99,
          689.99,
          114.28,
          119.99,
          689.99,
          255,
          34.67,
          1199,
          993.9,
          199.99,
          99.99,
          57,
          128,
          34.98,
          249.99,
          229.72,
          59.99,
          69.99,
          199.99,
          29.99,
          14.99,
          34.99,
          39,
          139,
          15.99,
          135.99,
          27.49,
          99.99,
          39.99,
          273,
          29.99,
          45.95
         ],
         "yaxis": "y"
        },
        {
         "alignmentgroup": "True",
         "bingroup": "x",
         "histfunc": "sum",
         "hovertemplate": "product_star_rating=%{x}<br>sum of product_minimum_offer_price=%{y}<extra></extra>",
         "legendgroup": "",
         "marker": {
          "color": "#636efa",
          "pattern": {
           "shape": ""
          }
         },
         "name": "",
         "offsetgroup": "",
         "orientation": "v",
         "showlegend": false,
         "type": "histogram",
         "x": [
          4,
          4.2,
          3.8,
          4.2,
          3.8,
          4.4,
          4.2,
          4.2,
          4.3,
          4,
          4,
          4,
          4,
          4.3,
          4.3,
          4.1,
          4.2,
          4,
          3.8,
          4.2,
          4.4,
          4.2,
          4.2,
          4.3,
          4,
          4,
          4,
          4,
          4.3,
          4.3,
          3.6,
          3.9,
          4.5,
          4.1,
          3.6,
          4.3,
          4.5,
          3.9,
          3.3,
          4.3,
          4.4,
          3.9,
          3.8,
          4.3,
          4.3,
          4.3,
          null,
          4.7,
          4,
          4.1,
          4.3,
          4.4,
          3.7,
          4.2,
          3.9,
          4,
          3.8,
          4.3,
          4.3,
          3.9,
          4.2,
          4.1,
          4.1,
          4.1,
          4.4,
          4.3,
          4.3,
          4.1,
          4.1,
          3.9,
          4.4,
          4.1,
          4.4,
          4.1,
          4.2,
          4.4,
          4,
          4.4,
          4.2,
          4.1,
          4.2,
          3.8,
          4.2,
          4,
          3.9,
          3.8,
          4,
          4.3,
          4.1,
          4.4,
          4,
          4,
          4.2,
          4,
          4,
          4.4,
          4.4,
          4.4,
          4.3,
          4,
          4.3,
          3.8,
          4.5,
          4.2,
          4.2,
          4.3,
          4.4,
          3.3,
          3.8,
          4.1,
          3.4,
          4,
          3.8,
          3.5,
          3.9,
          4.1,
          3.8,
          4.3,
          null,
          4.4,
          4.3,
          4.4,
          3.9,
          4.3,
          4.5,
          4.3,
          4,
          3.9,
          4.3,
          2.8,
          3.8,
          4.3,
          4.1,
          4,
          2.8,
          3.6,
          4.3,
          3.9,
          3.7,
          4.3,
          4.5,
          4.2,
          3.9,
          4.2,
          4.1,
          3,
          4.3,
          3.9,
          4.1,
          3.3,
          4.1,
          4.2,
          4,
          4.2,
          3.8,
          4.1,
          3.7,
          4.3,
          3.9,
          4,
          4.2,
          4.2,
          4,
          4.3,
          4.1,
          4.2,
          4.4,
          4.2,
          4.3,
          4.4,
          4,
          4.3,
          4.5,
          4.1,
          4.1,
          4.3,
          4.4,
          3.7,
          4.5,
          4.3,
          4.5,
          4.2,
          3,
          3.3,
          3.5,
          4,
          4.3,
          4.4,
          4.4,
          3.9,
          4.3,
          4.3,
          4.3,
          4.1,
          4.4,
          5,
          3.5,
          4.1,
          4,
          4.2,
          4.1,
          null,
          3.2,
          3.8,
          4.1,
          3.6,
          5,
          4,
          4.2,
          4.1,
          4.3,
          4.2,
          4.4,
          4.8,
          4.1,
          3.8,
          4.3,
          5,
          4,
          3.7,
          4.3,
          3.4,
          4.3,
          4,
          3.9,
          4.3,
          4.1,
          4.2,
          4,
          4.3,
          5,
          3.7,
          4.2,
          4.2,
          4.1,
          4.2,
          3.8,
          3.6,
          4.3,
          4.3,
          4.5,
          4.4,
          4,
          4.1,
          4.4,
          4.4,
          3.9,
          3.6,
          3,
          3.8,
          3.4,
          4.4,
          1.6,
          4.1,
          4.1,
          3.9,
          4.2,
          3.8,
          4.5,
          4,
          3.2,
          4.2,
          4.2,
          4.6,
          3.9,
          3.9,
          4.1,
          3.9,
          4.3,
          3.4,
          4.3,
          4.4,
          4.2,
          3,
          3.9,
          4.1,
          4.2,
          4.3,
          4.5,
          3.7,
          4.2,
          4.2,
          3.5,
          4,
          2.7,
          5,
          3.9,
          4,
          3.8,
          3.7,
          3.8,
          4.1,
          3.8,
          4.2,
          3.8,
          4.3,
          4.3,
          3.2,
          4.6,
          4.2,
          3.9,
          4,
          3.9,
          3.8,
          4.3,
          4.4,
          4,
          4.2,
          5,
          4.5,
          4.2,
          5,
          4.5,
          4.2,
          4.2,
          4.3,
          4.3,
          4.3,
          3.5,
          3.9,
          4,
          4,
          4.1,
          3.4,
          3.8,
          3.5,
          4.2,
          3.9,
          4.6,
          4.7,
          4.6,
          4.7,
          4.4,
          3.6,
          4.6,
          4.7,
          4.4,
          4.1,
          4.6,
          4.4
         ],
         "xaxis": "x2",
         "y": [
          69.88,
          147.5,
          64.99,
          43.99,
          70.4,
          25.19,
          100.72,
          146.5,
          136.62,
          50.48,
          85.44,
          164.5,
          154,
          209.28,
          13.84,
          303.99,
          147.5,
          69.88,
          64.99,
          43.99,
          25.19,
          100.72,
          146.5,
          136.62,
          50.48,
          85.44,
          164.5,
          154,
          209.28,
          13.84,
          29.7,
          244.99,
          741.99,
          123.7,
          98.97,
          38.25,
          451.19,
          79.99,
          57.44,
          153.28,
          13.28,
          134.85,
          49.21,
          24.99,
          318,
          176.35,
          39,
          158.99,
          19.99,
          203.31,
          429.5,
          149.95,
          88.98,
          64.99,
          164.99,
          331.64,
          70.4,
          49.52,
          96.69,
          22.95,
          353.72,
          89.22,
          283.95,
          284.92,
          null,
          9.99,
          98.03,
          305.96,
          179,
          224.93,
          313.91,
          80.04,
          759.5,
          303.99,
          12.14,
          155.99,
          204,
          493.11,
          79.79,
          133.99,
          119.5,
          70,
          59.95,
          164.99,
          127.16,
          74.74,
          162.82,
          169.99,
          99.5,
          74.99,
          29.95,
          81.4,
          383.04,
          129.95,
          94.76,
          79,
          46.2,
          724.02,
          49.99,
          49.99,
          36.84,
          102.96,
          715.67,
          117.9,
          8.61,
          9.65,
          14.85,
          56.08,
          299.99,
          127.7,
          164.31,
          95.97,
          null,
          64.3,
          68.95,
          89.99,
          67.89,
          32.72,
          174.99,
          139.5,
          475,
          139.99,
          339,
          27.67,
          451.85,
          127.7,
          187,
          49.9,
          57.19,
          99.99,
          204.95,
          27.67,
          399.99,
          187,
          99.99,
          62.99,
          57.19,
          49.9,
          41.21,
          62.42,
          199.99,
          51.94,
          139.85,
          449.99,
          199.99,
          51.99,
          143.99,
          98.99,
          325.05,
          null,
          1583.65,
          485,
          77.67,
          19.99,
          125.98,
          223.95,
          31.59,
          33.27,
          204.99,
          50,
          34.68,
          192.55,
          111.1,
          35.25,
          70,
          209,
          17.57,
          139.99,
          190.95,
          10.99,
          67.7,
          29.65,
          359.5,
          169,
          36.35,
          37.25,
          615.99,
          14.99,
          149.99,
          48.03,
          319.95,
          188.89,
          39.99,
          44.99,
          143.54,
          319.99,
          49.99,
          92.89,
          32.95,
          56.1,
          74.63,
          156,
          335.72,
          294,
          859.99,
          21.99,
          119.99,
          1138.07,
          119.99,
          473.5,
          135.62,
          68.49,
          59.39,
          82.17,
          69.99,
          99.99,
          99.99,
          199.5,
          49.99,
          34.63,
          14.19,
          48.26,
          859.99,
          7.99,
          169.99,
          67.69,
          55.94,
          279.99,
          75.26,
          64.89,
          40.32,
          28.73,
          17.24,
          109.85,
          40,
          null,
          38.11,
          64.57,
          44.34,
          72.76,
          125,
          213.91,
          289,
          217.95,
          80,
          899.99,
          128.95,
          95.09,
          109.9,
          177.95,
          29.99,
          61.03,
          28.95,
          14.8,
          89.95,
          17.63,
          16.41,
          13.98,
          34.48,
          61.19,
          9.99,
          159.69,
          59.99,
          64.99,
          13.73,
          25.93,
          56.58,
          18.98,
          199.99,
          184.95,
          68.99,
          79.99,
          17.2,
          199.99,
          34.74,
          109.95,
          36.71,
          150,
          73.99,
          17.99,
          12,
          8.89,
          95,
          65.99,
          214.99,
          134,
          84.55,
          195.24,
          45.77,
          79.99,
          26.93,
          511.67,
          14.97,
          62.22,
          39.99,
          99.99,
          69.94,
          69.99,
          49.99,
          164.35,
          13.89,
          103.9,
          43.89,
          117.7,
          67.17,
          59.99,
          62.01,
          22.99,
          283.69,
          109.99,
          134.99,
          164.95,
          49.27,
          27.98,
          335.99,
          39.99,
          65.35,
          41.84,
          119.99,
          640.28,
          41.84,
          119.99,
          640.28,
          244.97,
          13.98,
          1151.04,
          993.9,
          69.94,
          99.99,
          49,
          119.9,
          34.98,
          219,
          125.99,
          39,
          49.99,
          101.15,
          21.99,
          14.99,
          34.99,
          39,
          139,
          15.99,
          135.99,
          27.49,
          99.99,
          39.99,
          273,
          29.99,
          45.95
         ],
         "yaxis": "y2"
        }
       ],
       "layout": {
        "annotations": [
         {
          "font": {
           "size": 16
          },
          "showarrow": false,
          "text": "Star Rating vs. Product Price",
          "x": 0.5,
          "xanchor": "center",
          "xref": "paper",
          "y": 1,
          "yanchor": "bottom",
          "yref": "paper"
         },
         {
          "font": {
           "size": 16
          },
          "showarrow": false,
          "text": "Star Rating vs. Minimum Offer Price",
          "x": 0.5,
          "xanchor": "center",
          "xref": "paper",
          "y": 0.375,
          "yanchor": "bottom",
          "yref": "paper"
         }
        ],
        "height": 800,
        "template": {
         "data": {
          "bar": [
           {
            "error_x": {
             "color": "#2a3f5f"
            },
            "error_y": {
             "color": "#2a3f5f"
            },
            "marker": {
             "line": {
              "color": "#E5ECF6",
              "width": 0.5
             },
             "pattern": {
              "fillmode": "overlay",
              "size": 10,
              "solidity": 0.2
             }
            },
            "type": "bar"
           }
          ],
          "barpolar": [
           {
            "marker": {
             "line": {
              "color": "#E5ECF6",
              "width": 0.5
             },
             "pattern": {
              "fillmode": "overlay",
              "size": 10,
              "solidity": 0.2
             }
            },
            "type": "barpolar"
           }
          ],
          "carpet": [
           {
            "aaxis": {
             "endlinecolor": "#2a3f5f",
             "gridcolor": "white",
             "linecolor": "white",
             "minorgridcolor": "white",
             "startlinecolor": "#2a3f5f"
            },
            "baxis": {
             "endlinecolor": "#2a3f5f",
             "gridcolor": "white",
             "linecolor": "white",
             "minorgridcolor": "white",
             "startlinecolor": "#2a3f5f"
            },
            "type": "carpet"
           }
          ],
          "choropleth": [
           {
            "colorbar": {
             "outlinewidth": 0,
             "ticks": ""
            },
            "type": "choropleth"
           }
          ],
          "contour": [
           {
            "colorbar": {
             "outlinewidth": 0,
             "ticks": ""
            },
            "colorscale": [
             [
              0,
              "#0d0887"
             ],
             [
              0.1111111111111111,
              "#46039f"
             ],
             [
              0.2222222222222222,
              "#7201a8"
             ],
             [
              0.3333333333333333,
              "#9c179e"
             ],
             [
              0.4444444444444444,
              "#bd3786"
             ],
             [
              0.5555555555555556,
              "#d8576b"
             ],
             [
              0.6666666666666666,
              "#ed7953"
             ],
             [
              0.7777777777777778,
              "#fb9f3a"
             ],
             [
              0.8888888888888888,
              "#fdca26"
             ],
             [
              1,
              "#f0f921"
             ]
            ],
            "type": "contour"
           }
          ],
          "contourcarpet": [
           {
            "colorbar": {
             "outlinewidth": 0,
             "ticks": ""
            },
            "type": "contourcarpet"
           }
          ],
          "heatmap": [
           {
            "colorbar": {
             "outlinewidth": 0,
             "ticks": ""
            },
            "colorscale": [
             [
              0,
              "#0d0887"
             ],
             [
              0.1111111111111111,
              "#46039f"
             ],
             [
              0.2222222222222222,
              "#7201a8"
             ],
             [
              0.3333333333333333,
              "#9c179e"
             ],
             [
              0.4444444444444444,
              "#bd3786"
             ],
             [
              0.5555555555555556,
              "#d8576b"
             ],
             [
              0.6666666666666666,
              "#ed7953"
             ],
             [
              0.7777777777777778,
              "#fb9f3a"
             ],
             [
              0.8888888888888888,
              "#fdca26"
             ],
             [
              1,
              "#f0f921"
             ]
            ],
            "type": "heatmap"
           }
          ],
          "heatmapgl": [
           {
            "colorbar": {
             "outlinewidth": 0,
             "ticks": ""
            },
            "colorscale": [
             [
              0,
              "#0d0887"
             ],
             [
              0.1111111111111111,
              "#46039f"
             ],
             [
              0.2222222222222222,
              "#7201a8"
             ],
             [
              0.3333333333333333,
              "#9c179e"
             ],
             [
              0.4444444444444444,
              "#bd3786"
             ],
             [
              0.5555555555555556,
              "#d8576b"
             ],
             [
              0.6666666666666666,
              "#ed7953"
             ],
             [
              0.7777777777777778,
              "#fb9f3a"
             ],
             [
              0.8888888888888888,
              "#fdca26"
             ],
             [
              1,
              "#f0f921"
             ]
            ],
            "type": "heatmapgl"
           }
          ],
          "histogram": [
           {
            "marker": {
             "pattern": {
              "fillmode": "overlay",
              "size": 10,
              "solidity": 0.2
             }
            },
            "type": "histogram"
           }
          ],
          "histogram2d": [
           {
            "colorbar": {
             "outlinewidth": 0,
             "ticks": ""
            },
            "colorscale": [
             [
              0,
              "#0d0887"
             ],
             [
              0.1111111111111111,
              "#46039f"
             ],
             [
              0.2222222222222222,
              "#7201a8"
             ],
             [
              0.3333333333333333,
              "#9c179e"
             ],
             [
              0.4444444444444444,
              "#bd3786"
             ],
             [
              0.5555555555555556,
              "#d8576b"
             ],
             [
              0.6666666666666666,
              "#ed7953"
             ],
             [
              0.7777777777777778,
              "#fb9f3a"
             ],
             [
              0.8888888888888888,
              "#fdca26"
             ],
             [
              1,
              "#f0f921"
             ]
            ],
            "type": "histogram2d"
           }
          ],
          "histogram2dcontour": [
           {
            "colorbar": {
             "outlinewidth": 0,
             "ticks": ""
            },
            "colorscale": [
             [
              0,
              "#0d0887"
             ],
             [
              0.1111111111111111,
              "#46039f"
             ],
             [
              0.2222222222222222,
              "#7201a8"
             ],
             [
              0.3333333333333333,
              "#9c179e"
             ],
             [
              0.4444444444444444,
              "#bd3786"
             ],
             [
              0.5555555555555556,
              "#d8576b"
             ],
             [
              0.6666666666666666,
              "#ed7953"
             ],
             [
              0.7777777777777778,
              "#fb9f3a"
             ],
             [
              0.8888888888888888,
              "#fdca26"
             ],
             [
              1,
              "#f0f921"
             ]
            ],
            "type": "histogram2dcontour"
           }
          ],
          "mesh3d": [
           {
            "colorbar": {
             "outlinewidth": 0,
             "ticks": ""
            },
            "type": "mesh3d"
           }
          ],
          "parcoords": [
           {
            "line": {
             "colorbar": {
              "outlinewidth": 0,
              "ticks": ""
             }
            },
            "type": "parcoords"
           }
          ],
          "pie": [
           {
            "automargin": true,
            "type": "pie"
           }
          ],
          "scatter": [
           {
            "fillpattern": {
             "fillmode": "overlay",
             "size": 10,
             "solidity": 0.2
            },
            "type": "scatter"
           }
          ],
          "scatter3d": [
           {
            "line": {
             "colorbar": {
              "outlinewidth": 0,
              "ticks": ""
             }
            },
            "marker": {
             "colorbar": {
              "outlinewidth": 0,
              "ticks": ""
             }
            },
            "type": "scatter3d"
           }
          ],
          "scattercarpet": [
           {
            "marker": {
             "colorbar": {
              "outlinewidth": 0,
              "ticks": ""
             }
            },
            "type": "scattercarpet"
           }
          ],
          "scattergeo": [
           {
            "marker": {
             "colorbar": {
              "outlinewidth": 0,
              "ticks": ""
             }
            },
            "type": "scattergeo"
           }
          ],
          "scattergl": [
           {
            "marker": {
             "colorbar": {
              "outlinewidth": 0,
              "ticks": ""
             }
            },
            "type": "scattergl"
           }
          ],
          "scattermapbox": [
           {
            "marker": {
             "colorbar": {
              "outlinewidth": 0,
              "ticks": ""
             }
            },
            "type": "scattermapbox"
           }
          ],
          "scatterpolar": [
           {
            "marker": {
             "colorbar": {
              "outlinewidth": 0,
              "ticks": ""
             }
            },
            "type": "scatterpolar"
           }
          ],
          "scatterpolargl": [
           {
            "marker": {
             "colorbar": {
              "outlinewidth": 0,
              "ticks": ""
             }
            },
            "type": "scatterpolargl"
           }
          ],
          "scatterternary": [
           {
            "marker": {
             "colorbar": {
              "outlinewidth": 0,
              "ticks": ""
             }
            },
            "type": "scatterternary"
           }
          ],
          "surface": [
           {
            "colorbar": {
             "outlinewidth": 0,
             "ticks": ""
            },
            "colorscale": [
             [
              0,
              "#0d0887"
             ],
             [
              0.1111111111111111,
              "#46039f"
             ],
             [
              0.2222222222222222,
              "#7201a8"
             ],
             [
              0.3333333333333333,
              "#9c179e"
             ],
             [
              0.4444444444444444,
              "#bd3786"
             ],
             [
              0.5555555555555556,
              "#d8576b"
             ],
             [
              0.6666666666666666,
              "#ed7953"
             ],
             [
              0.7777777777777778,
              "#fb9f3a"
             ],
             [
              0.8888888888888888,
              "#fdca26"
             ],
             [
              1,
              "#f0f921"
             ]
            ],
            "type": "surface"
           }
          ],
          "table": [
           {
            "cells": {
             "fill": {
              "color": "#EBF0F8"
             },
             "line": {
              "color": "white"
             }
            },
            "header": {
             "fill": {
              "color": "#C8D4E3"
             },
             "line": {
              "color": "white"
             }
            },
            "type": "table"
           }
          ]
         },
         "layout": {
          "annotationdefaults": {
           "arrowcolor": "#2a3f5f",
           "arrowhead": 0,
           "arrowwidth": 1
          },
          "autotypenumbers": "strict",
          "coloraxis": {
           "colorbar": {
            "outlinewidth": 0,
            "ticks": ""
           }
          },
          "colorscale": {
           "diverging": [
            [
             0,
             "#8e0152"
            ],
            [
             0.1,
             "#c51b7d"
            ],
            [
             0.2,
             "#de77ae"
            ],
            [
             0.3,
             "#f1b6da"
            ],
            [
             0.4,
             "#fde0ef"
            ],
            [
             0.5,
             "#f7f7f7"
            ],
            [
             0.6,
             "#e6f5d0"
            ],
            [
             0.7,
             "#b8e186"
            ],
            [
             0.8,
             "#7fbc41"
            ],
            [
             0.9,
             "#4d9221"
            ],
            [
             1,
             "#276419"
            ]
           ],
           "sequential": [
            [
             0,
             "#0d0887"
            ],
            [
             0.1111111111111111,
             "#46039f"
            ],
            [
             0.2222222222222222,
             "#7201a8"
            ],
            [
             0.3333333333333333,
             "#9c179e"
            ],
            [
             0.4444444444444444,
             "#bd3786"
            ],
            [
             0.5555555555555556,
             "#d8576b"
            ],
            [
             0.6666666666666666,
             "#ed7953"
            ],
            [
             0.7777777777777778,
             "#fb9f3a"
            ],
            [
             0.8888888888888888,
             "#fdca26"
            ],
            [
             1,
             "#f0f921"
            ]
           ],
           "sequentialminus": [
            [
             0,
             "#0d0887"
            ],
            [
             0.1111111111111111,
             "#46039f"
            ],
            [
             0.2222222222222222,
             "#7201a8"
            ],
            [
             0.3333333333333333,
             "#9c179e"
            ],
            [
             0.4444444444444444,
             "#bd3786"
            ],
            [
             0.5555555555555556,
             "#d8576b"
            ],
            [
             0.6666666666666666,
             "#ed7953"
            ],
            [
             0.7777777777777778,
             "#fb9f3a"
            ],
            [
             0.8888888888888888,
             "#fdca26"
            ],
            [
             1,
             "#f0f921"
            ]
           ]
          },
          "colorway": [
           "#636efa",
           "#EF553B",
           "#00cc96",
           "#ab63fa",
           "#FFA15A",
           "#19d3f3",
           "#FF6692",
           "#B6E880",
           "#FF97FF",
           "#FECB52"
          ],
          "font": {
           "color": "#2a3f5f"
          },
          "geo": {
           "bgcolor": "white",
           "lakecolor": "white",
           "landcolor": "#E5ECF6",
           "showlakes": true,
           "showland": true,
           "subunitcolor": "white"
          },
          "hoverlabel": {
           "align": "left"
          },
          "hovermode": "closest",
          "mapbox": {
           "style": "light"
          },
          "paper_bgcolor": "white",
          "plot_bgcolor": "#E5ECF6",
          "polar": {
           "angularaxis": {
            "gridcolor": "white",
            "linecolor": "white",
            "ticks": ""
           },
           "bgcolor": "#E5ECF6",
           "radialaxis": {
            "gridcolor": "white",
            "linecolor": "white",
            "ticks": ""
           }
          },
          "scene": {
           "xaxis": {
            "backgroundcolor": "#E5ECF6",
            "gridcolor": "white",
            "gridwidth": 2,
            "linecolor": "white",
            "showbackground": true,
            "ticks": "",
            "zerolinecolor": "white"
           },
           "yaxis": {
            "backgroundcolor": "#E5ECF6",
            "gridcolor": "white",
            "gridwidth": 2,
            "linecolor": "white",
            "showbackground": true,
            "ticks": "",
            "zerolinecolor": "white"
           },
           "zaxis": {
            "backgroundcolor": "#E5ECF6",
            "gridcolor": "white",
            "gridwidth": 2,
            "linecolor": "white",
            "showbackground": true,
            "ticks": "",
            "zerolinecolor": "white"
           }
          },
          "shapedefaults": {
           "line": {
            "color": "#2a3f5f"
           }
          },
          "ternary": {
           "aaxis": {
            "gridcolor": "white",
            "linecolor": "white",
            "ticks": ""
           },
           "baxis": {
            "gridcolor": "white",
            "linecolor": "white",
            "ticks": ""
           },
           "bgcolor": "#E5ECF6",
           "caxis": {
            "gridcolor": "white",
            "linecolor": "white",
            "ticks": ""
           }
          },
          "title": {
           "x": 0.05
          },
          "xaxis": {
           "automargin": true,
           "gridcolor": "white",
           "linecolor": "white",
           "ticks": "",
           "title": {
            "standoff": 15
           },
           "zerolinecolor": "white",
           "zerolinewidth": 2
          },
          "yaxis": {
           "automargin": true,
           "gridcolor": "white",
           "linecolor": "white",
           "ticks": "",
           "title": {
            "standoff": 15
           },
           "zerolinecolor": "white",
           "zerolinewidth": 2
          }
         }
        },
        "title": {
         "text": "Star Rating with Price Comparisons"
        },
        "width": 1200,
        "xaxis": {
         "anchor": "y",
         "domain": [
          0,
          1
         ]
        },
        "xaxis2": {
         "anchor": "y2",
         "domain": [
          0,
          1
         ]
        },
        "yaxis": {
         "anchor": "x",
         "domain": [
          0.625,
          1
         ]
        },
        "yaxis2": {
         "anchor": "x2",
         "domain": [
          0,
          0.375
         ]
        }
       }
      }
     },
     "metadata": {},
     "output_type": "display_data"
    }
   ],
   "source": [
    "# Create subplots with 2 rows and 1 column\n",
    "fig = make_subplots(rows=2, cols=1, subplot_titles=['Star Rating vs. Product Price', 'Star Rating vs. Minimum Offer Price'])\n",
    "\n",
    "# First histogram for 'product_star_rating' vs. 'product_price'\n",
    "hist1 = px.histogram(dfc, x='product_star_rating', y='product_price')\n",
    "fig.add_trace(hist1.data[0], row=1, col=1)\n",
    "\n",
    "# Second histogram for 'product_star_rating' vs. 'product_minimum_offer_price'\n",
    "hist2 = px.histogram(dfc, x='product_star_rating', y='product_minimum_offer_price')\n",
    "fig.add_trace(hist2.data[0], row=2, col=1)\n",
    "\n",
    "# Update the layout and show the figure\n",
    "fig.update_layout(title_text='Star Rating with Price Comparisons', height=800, width=1200)\n",
    "fig.show()"
   ]
  },
  {
   "cell_type": "markdown",
   "metadata": {},
   "source": [
    "<a id=\"33\"></a>\n",
    "### <div style=\"text-align:left; border-radius:15px; padding:20px; color:Black; margin:0; font-size:100%; font-family:Arial; background-color:#48cae4; overflow:hidden\"><b>⚡ 3.Rating and Price Relationship </b>\n",
    "</div>\n",
    "    <a href=\"#table-of-contents\" style=\"font-family: Arial, sans-serif; font-size: 15px; background-color: #7b2cbf; color: #ffffff; padding: 7px 15px; text-decoration: none; border-radius: 15px;\">\n",
    "        [Table of Content 📜⬆️]\n",
    "    </a>"
   ]
  },
  {
   "cell_type": "code",
   "execution_count": 20,
   "metadata": {},
   "outputs": [
    {
     "data": {
      "application/vnd.plotly.v1+json": {
       "config": {
        "plotlyServerURL": "https://plot.ly"
       },
       "data": [
        {
         "a": [
          99,
          153.99,
          49.99,
          88.09,
          49.99,
          149.5,
          139.99,
          59.99,
          89,
          249.99,
          18.45,
          153.99,
          99,
          49.99,
          49.99,
          149.5,
          139.99,
          59.99,
          89,
          249.99,
          18.45,
          41.99,
          149.94,
          99.99,
          78.95,
          89.99,
          59.99,
          17.56,
          49.99,
          24.99,
          183.69,
          39,
          158.99,
          19.99,
          479.72,
          98.52,
          99.88,
          209.99,
          88.82,
          99.99,
          41.9,
          96.26,
          358.99,
          null,
          9.99,
          159.99,
          229.95,
          249.95,
          799.99,
          19.89,
          133,
          169.99,
          187,
          142.49,
          99.99,
          63.98,
          89.55,
          129.95,
          89.97,
          99.99,
          49.99,
          49.99,
          54.95,
          799.99,
          117.9,
          15.95,
          16.14,
          24.95,
          99.99,
          159.99,
          249.99,
          98,
          null,
          72.25,
          69.07,
          120,
          68,
          46.49,
          174.99,
          154.98,
          139.99,
          51.6,
          64.94,
          117.77,
          204.95,
          51.6,
          399.99,
          62.99,
          117.77,
          64.94,
          106.08,
          199.99,
          148.87,
          199.99,
          124.99,
          null,
          94,
          30.52,
          159.99,
          250,
          39.99,
          35.97,
          273.99,
          75.05,
          76.95,
          145,
          65.95,
          74,
          49.85,
          149.85,
          20.23,
          89.98,
          55.04,
          96.87,
          79.99,
          14.99,
          69.99,
          39.99,
          144.99,
          379.5,
          103.76,
          139.95,
          76.95,
          91.75,
          169.99,
          183,
          349.99,
          859.99,
          21.99,
          169,
          229,
          69.99,
          59.99,
          83,
          69.99,
          99.99,
          49.99,
          98.25,
          31.49,
          76.56,
          859.99,
          7.99,
          169.99,
          149.95,
          279.99,
          119.95,
          64.89,
          70.32,
          39.99,
          34.49,
          130,
          null,
          95.53,
          80.29,
          159.99,
          264.95,
          124,
          135,
          113.87,
          29.99,
          29.99,
          22.4,
          38.58,
          55,
          13.98,
          41,
          146.29,
          9.99,
          59.99,
          64.99,
          23.04,
          27.99,
          89.95,
          18.98,
          199.99,
          68.99,
          19.99,
          199.99,
          39.99,
          120,
          40.93,
          82.85,
          12.98,
          11.99,
          161.23,
          326,
          144,
          199.95,
          195.24,
          65.95,
          79.99,
          31.99,
          70,
          66.89,
          39.99,
          99.99,
          72.99,
          83,
          49.99,
          202,
          13.89,
          125,
          49.88,
          117.99,
          89,
          75,
          131.88,
          49.65,
          27.98,
          399.99,
          39.99,
          71.99,
          114.28,
          114.28,
          255,
          34.67,
          1199,
          993.9,
          199.99,
          99.99,
          57,
          34.98,
          249.99,
          229.72,
          59.99,
          69.99,
          199.99,
          29.99,
          14.99,
          34.99,
          39,
          139,
          15.99,
          135.99,
          27.49,
          99.99,
          39.99,
          273,
          29.99,
          45.95
         ],
         "b": [
          1319,
          186,
          2814,
          1338,
          3843,
          253,
          573,
          258,
          204,
          963,
          9096,
          186,
          1319,
          2814,
          3843,
          253,
          573,
          258,
          204,
          963,
          9096,
          2048,
          874,
          17,
          27240,
          92,
          70,
          315,
          276,
          160,
          146,
          0,
          7,
          823,
          39,
          762,
          308,
          6272,
          1338,
          2151,
          541,
          313,
          855,
          424,
          158,
          1325,
          2069,
          2074,
          380,
          5617,
          269,
          411,
          383,
          1686,
          131,
          6350,
          557,
          501,
          382,
          1332,
          49,
          265,
          7887,
          506,
          62,
          19530,
          2962,
          1293,
          172,
          89,
          262,
          115,
          20,
          381,
          3440,
          269,
          310,
          7573,
          0,
          1073,
          48,
          574,
          1492,
          20608,
          73,
          574,
          56,
          15,
          20608,
          1492,
          18566,
          11,
          8627,
          21,
          98,
          3035,
          171,
          40734,
          275,
          1968,
          31,
          192,
          1574,
          84,
          6801,
          1769,
          26175,
          385,
          13525,
          187,
          37768,
          575,
          17629,
          1173,
          833,
          60,
          434,
          58,
          11,
          380,
          1452,
          2038,
          5154,
          641,
          1240,
          3281,
          55,
          424,
          2,
          124,
          1018,
          0,
          18,
          67,
          161,
          232,
          248,
          2542,
          2060,
          4051,
          424,
          20,
          214,
          1161,
          14,
          1910,
          402,
          1082,
          362,
          5343,
          1204,
          4495,
          836,
          795,
          860,
          2949,
          341,
          866,
          21,
          25,
          148,
          1742,
          2145,
          862,
          314,
          105,
          136,
          349,
          4,
          1952,
          2406,
          178,
          918,
          1235,
          29,
          36,
          211,
          39,
          300,
          285,
          1899,
          162,
          1079,
          53768,
          155,
          313,
          103,
          23,
          951,
          19,
          400,
          1373,
          294,
          119,
          26,
          3,
          291,
          1194,
          299,
          93,
          144,
          309,
          99,
          133,
          1819,
          1603,
          3777,
          292,
          1414,
          48,
          31,
          1857,
          539,
          539,
          51,
          290,
          41,
          43,
          115,
          7,
          359,
          1645,
          142,
          186,
          161,
          77,
          15,
          284,
          4022,
          123,
          47,
          4,
          82,
          104,
          38,
          8,
          2589,
          45,
          29066,
          672
         ],
         "c": [
          4,
          4.2,
          4.2,
          3.8,
          4.4,
          4.2,
          4.3,
          4,
          4,
          4.3,
          4.3,
          4.2,
          4,
          4.2,
          4.4,
          4.2,
          4.3,
          4,
          4,
          4.3,
          4.3,
          3.6,
          4.1,
          3.6,
          4.3,
          3.9,
          3.3,
          4.4,
          3.8,
          4.3,
          4.3,
          null,
          4.7,
          4,
          4.3,
          3.7,
          4.2,
          3.9,
          3.8,
          4.3,
          3.9,
          4.1,
          4.1,
          4.4,
          4.3,
          4.3,
          4.1,
          3.9,
          4.4,
          4.2,
          4.2,
          3.9,
          4.3,
          4.1,
          4.4,
          4,
          4,
          4,
          4.4,
          4.4,
          4.3,
          4,
          4.3,
          4.5,
          4.2,
          4.2,
          4.3,
          4.4,
          3.3,
          4.1,
          3.4,
          4,
          3.8,
          3.5,
          3.9,
          4.1,
          3.8,
          4.3,
          null,
          4.4,
          4.4,
          4.3,
          3.9,
          4.3,
          3.8,
          4.3,
          4.1,
          3.6,
          4.3,
          3.9,
          4.3,
          4.5,
          4.2,
          4.1,
          3.9,
          3.3,
          4,
          4.2,
          3.8,
          4.1,
          3.7,
          4.3,
          3.9,
          4,
          4.2,
          4,
          4.3,
          4.1,
          4.4,
          4.2,
          4.4,
          4,
          4.3,
          4.1,
          4.3,
          3.7,
          4.3,
          3,
          3.5,
          4,
          4.3,
          4.4,
          4.4,
          3.9,
          4.3,
          4.3,
          4.3,
          4.4,
          5,
          3.5,
          4.1,
          null,
          3.2,
          3.8,
          4.1,
          3.6,
          4.2,
          4.1,
          4.3,
          4.2,
          4.4,
          4.8,
          4.1,
          4.3,
          5,
          4,
          3.7,
          4.3,
          3.4,
          4.3,
          4,
          4.3,
          4.1,
          4.2,
          4.3,
          4.2,
          4.1,
          3.8,
          3.6,
          4.5,
          4,
          4.1,
          4.4,
          3.9,
          3.6,
          3,
          3.8,
          3.4,
          1.6,
          4.1,
          4.1,
          3.9,
          4.2,
          3.8,
          4.5,
          3.2,
          4.2,
          4.6,
          3.9,
          3.9,
          4.1,
          4.3,
          4.3,
          4.4,
          4.2,
          3.9,
          4.1,
          4.2,
          4.3,
          4.5,
          3.7,
          4.2,
          3.5,
          4,
          2.7,
          5,
          3.9,
          4,
          3.8,
          3.7,
          3.8,
          4.1,
          3.8,
          4.2,
          3.8,
          4.3,
          4.3,
          3.9,
          3.8,
          4.3,
          4.4,
          4,
          4.2,
          4.2,
          4.2,
          4.2,
          4.3,
          4.3,
          4.3,
          3.5,
          3.9,
          4,
          4.1,
          3.4,
          3.8,
          3.5,
          4.2,
          3.9,
          4.6,
          4.7,
          4.6,
          4.7,
          4.4,
          3.6,
          4.6,
          4.7,
          4.4,
          4.1,
          4.6,
          4.4
         ],
         "hovertemplate": "has_variations=False<br>product_price=%{a}<br>product_num_ratings=%{b}<br>product_star_rating=%{c}<extra></extra>",
         "legendgroup": "False",
         "marker": {
          "color": "#636efa",
          "symbol": "circle"
         },
         "mode": "markers",
         "name": "False",
         "showlegend": true,
         "subplot": "ternary",
         "type": "scatterternary"
        },
        {
         "a": [
          69,
          149.99,
          195,
          199.99,
          355.81,
          69,
          149.99,
          194.99,
          199.99,
          269.99,
          798,
          499.99,
          159,
          166.99,
          344.95,
          232,
          284.99,
          699.99,
          128,
          387,
          287.3,
          422,
          349.99,
          98.93,
          355.81,
          187,
          225.62,
          549.99,
          179.99,
          152.93,
          88.99,
          69.72,
          238.99,
          85.99,
          169.99,
          399,
          111.07,
          859.99,
          103.12,
          299.99,
          499,
          389,
          559.99,
          162.5,
          246,
          99.99,
          246,
          99.99,
          88,
          172.49,
          469.99,
          51.99,
          143.99,
          379.55,
          1614.99,
          499.95,
          270.74,
          209,
          225,
          402,
          199.99,
          620.05,
          159.99,
          319.95,
          188.89,
          54.99,
          344,
          1299.99,
          119.99,
          473.5,
          99.99,
          235.9,
          69,
          114.99,
          47.99,
          125,
          249.7,
          289,
          944.96,
          139.99,
          197,
          107.99,
          149.99,
          159.69,
          184.95,
          179.99,
          199,
          17.99,
          65.99,
          541.06,
          22.99,
          283.69,
          169,
          154.31,
          209.95,
          119.99,
          689.99,
          119.99,
          689.99,
          128
         ],
         "b": [
          597,
          2637,
          259,
          610,
          4265,
          597,
          2637,
          259,
          610,
          2362,
          615,
          1159,
          2927,
          7272,
          2482,
          13191,
          3432,
          440,
          18826,
          10317,
          25638,
          12051,
          266,
          2079,
          4265,
          64977,
          1980,
          397,
          10670,
          1184,
          700,
          2049,
          1038,
          1684,
          131,
          400,
          101,
          424,
          37,
          31,
          2391,
          3876,
          1159,
          42,
          1340,
          6,
          1340,
          6,
          809,
          982,
          9355,
          83,
          90,
          361,
          83,
          2755,
          1804,
          52783,
          940,
          752,
          3066,
          566,
          10417,
          14909,
          1039,
          679,
          1866,
          218,
          210,
          99,
          4,
          807,
          1199,
          165,
          3219,
          1,
          305,
          9,
          93,
          4559,
          1827,
          16748,
          6645,
          155,
          69,
          2671,
          1604,
          6,
          165,
          776,
          3283,
          934,
          2396,
          2306,
          1729,
          1,
          224,
          1,
          224,
          320
         ],
         "c": [
          3.8,
          4.2,
          4,
          4,
          4.1,
          3.8,
          4.2,
          4,
          4,
          3.9,
          4.5,
          4.5,
          4.3,
          3.9,
          4.3,
          4.1,
          4.4,
          4,
          4.3,
          4.2,
          4.1,
          4.1,
          4.4,
          4.1,
          4.1,
          4.4,
          4,
          4.4,
          4.2,
          4.1,
          3.8,
          4.2,
          4,
          3.8,
          4,
          4.2,
          4,
          4.4,
          3.8,
          3.8,
          4.3,
          3.9,
          4.5,
          4.3,
          4,
          2.8,
          4,
          2.8,
          3.7,
          3.9,
          4.2,
          3,
          4.3,
          4.1,
          4.1,
          4.2,
          4.2,
          4.2,
          4.3,
          4.5,
          4.1,
          4.4,
          4.5,
          4.5,
          4.2,
          3.3,
          4.1,
          4.1,
          4,
          4.2,
          5,
          4,
          3.8,
          3.9,
          4,
          5,
          3.7,
          4.2,
          4.2,
          4.3,
          4.3,
          4.4,
          4.4,
          4.4,
          4,
          4.2,
          3.9,
          3.4,
          3,
          4.2,
          3.2,
          4.6,
          4.2,
          3.9,
          4,
          5,
          4.5,
          5,
          4.5,
          4
         ],
         "hovertemplate": "has_variations=True<br>product_price=%{a}<br>product_num_ratings=%{b}<br>product_star_rating=%{c}<extra></extra>",
         "legendgroup": "True",
         "marker": {
          "color": "#EF553B",
          "symbol": "circle"
         },
         "mode": "markers",
         "name": "True",
         "showlegend": true,
         "subplot": "ternary",
         "type": "scatterternary"
        }
       ],
       "layout": {
        "legend": {
         "title": {
          "text": "has_variations"
         },
         "tracegroupgap": 0
        },
        "template": {
         "data": {
          "bar": [
           {
            "error_x": {
             "color": "#2a3f5f"
            },
            "error_y": {
             "color": "#2a3f5f"
            },
            "marker": {
             "line": {
              "color": "#E5ECF6",
              "width": 0.5
             },
             "pattern": {
              "fillmode": "overlay",
              "size": 10,
              "solidity": 0.2
             }
            },
            "type": "bar"
           }
          ],
          "barpolar": [
           {
            "marker": {
             "line": {
              "color": "#E5ECF6",
              "width": 0.5
             },
             "pattern": {
              "fillmode": "overlay",
              "size": 10,
              "solidity": 0.2
             }
            },
            "type": "barpolar"
           }
          ],
          "carpet": [
           {
            "aaxis": {
             "endlinecolor": "#2a3f5f",
             "gridcolor": "white",
             "linecolor": "white",
             "minorgridcolor": "white",
             "startlinecolor": "#2a3f5f"
            },
            "baxis": {
             "endlinecolor": "#2a3f5f",
             "gridcolor": "white",
             "linecolor": "white",
             "minorgridcolor": "white",
             "startlinecolor": "#2a3f5f"
            },
            "type": "carpet"
           }
          ],
          "choropleth": [
           {
            "colorbar": {
             "outlinewidth": 0,
             "ticks": ""
            },
            "type": "choropleth"
           }
          ],
          "contour": [
           {
            "colorbar": {
             "outlinewidth": 0,
             "ticks": ""
            },
            "colorscale": [
             [
              0,
              "#0d0887"
             ],
             [
              0.1111111111111111,
              "#46039f"
             ],
             [
              0.2222222222222222,
              "#7201a8"
             ],
             [
              0.3333333333333333,
              "#9c179e"
             ],
             [
              0.4444444444444444,
              "#bd3786"
             ],
             [
              0.5555555555555556,
              "#d8576b"
             ],
             [
              0.6666666666666666,
              "#ed7953"
             ],
             [
              0.7777777777777778,
              "#fb9f3a"
             ],
             [
              0.8888888888888888,
              "#fdca26"
             ],
             [
              1,
              "#f0f921"
             ]
            ],
            "type": "contour"
           }
          ],
          "contourcarpet": [
           {
            "colorbar": {
             "outlinewidth": 0,
             "ticks": ""
            },
            "type": "contourcarpet"
           }
          ],
          "heatmap": [
           {
            "colorbar": {
             "outlinewidth": 0,
             "ticks": ""
            },
            "colorscale": [
             [
              0,
              "#0d0887"
             ],
             [
              0.1111111111111111,
              "#46039f"
             ],
             [
              0.2222222222222222,
              "#7201a8"
             ],
             [
              0.3333333333333333,
              "#9c179e"
             ],
             [
              0.4444444444444444,
              "#bd3786"
             ],
             [
              0.5555555555555556,
              "#d8576b"
             ],
             [
              0.6666666666666666,
              "#ed7953"
             ],
             [
              0.7777777777777778,
              "#fb9f3a"
             ],
             [
              0.8888888888888888,
              "#fdca26"
             ],
             [
              1,
              "#f0f921"
             ]
            ],
            "type": "heatmap"
           }
          ],
          "heatmapgl": [
           {
            "colorbar": {
             "outlinewidth": 0,
             "ticks": ""
            },
            "colorscale": [
             [
              0,
              "#0d0887"
             ],
             [
              0.1111111111111111,
              "#46039f"
             ],
             [
              0.2222222222222222,
              "#7201a8"
             ],
             [
              0.3333333333333333,
              "#9c179e"
             ],
             [
              0.4444444444444444,
              "#bd3786"
             ],
             [
              0.5555555555555556,
              "#d8576b"
             ],
             [
              0.6666666666666666,
              "#ed7953"
             ],
             [
              0.7777777777777778,
              "#fb9f3a"
             ],
             [
              0.8888888888888888,
              "#fdca26"
             ],
             [
              1,
              "#f0f921"
             ]
            ],
            "type": "heatmapgl"
           }
          ],
          "histogram": [
           {
            "marker": {
             "pattern": {
              "fillmode": "overlay",
              "size": 10,
              "solidity": 0.2
             }
            },
            "type": "histogram"
           }
          ],
          "histogram2d": [
           {
            "colorbar": {
             "outlinewidth": 0,
             "ticks": ""
            },
            "colorscale": [
             [
              0,
              "#0d0887"
             ],
             [
              0.1111111111111111,
              "#46039f"
             ],
             [
              0.2222222222222222,
              "#7201a8"
             ],
             [
              0.3333333333333333,
              "#9c179e"
             ],
             [
              0.4444444444444444,
              "#bd3786"
             ],
             [
              0.5555555555555556,
              "#d8576b"
             ],
             [
              0.6666666666666666,
              "#ed7953"
             ],
             [
              0.7777777777777778,
              "#fb9f3a"
             ],
             [
              0.8888888888888888,
              "#fdca26"
             ],
             [
              1,
              "#f0f921"
             ]
            ],
            "type": "histogram2d"
           }
          ],
          "histogram2dcontour": [
           {
            "colorbar": {
             "outlinewidth": 0,
             "ticks": ""
            },
            "colorscale": [
             [
              0,
              "#0d0887"
             ],
             [
              0.1111111111111111,
              "#46039f"
             ],
             [
              0.2222222222222222,
              "#7201a8"
             ],
             [
              0.3333333333333333,
              "#9c179e"
             ],
             [
              0.4444444444444444,
              "#bd3786"
             ],
             [
              0.5555555555555556,
              "#d8576b"
             ],
             [
              0.6666666666666666,
              "#ed7953"
             ],
             [
              0.7777777777777778,
              "#fb9f3a"
             ],
             [
              0.8888888888888888,
              "#fdca26"
             ],
             [
              1,
              "#f0f921"
             ]
            ],
            "type": "histogram2dcontour"
           }
          ],
          "mesh3d": [
           {
            "colorbar": {
             "outlinewidth": 0,
             "ticks": ""
            },
            "type": "mesh3d"
           }
          ],
          "parcoords": [
           {
            "line": {
             "colorbar": {
              "outlinewidth": 0,
              "ticks": ""
             }
            },
            "type": "parcoords"
           }
          ],
          "pie": [
           {
            "automargin": true,
            "type": "pie"
           }
          ],
          "scatter": [
           {
            "fillpattern": {
             "fillmode": "overlay",
             "size": 10,
             "solidity": 0.2
            },
            "type": "scatter"
           }
          ],
          "scatter3d": [
           {
            "line": {
             "colorbar": {
              "outlinewidth": 0,
              "ticks": ""
             }
            },
            "marker": {
             "colorbar": {
              "outlinewidth": 0,
              "ticks": ""
             }
            },
            "type": "scatter3d"
           }
          ],
          "scattercarpet": [
           {
            "marker": {
             "colorbar": {
              "outlinewidth": 0,
              "ticks": ""
             }
            },
            "type": "scattercarpet"
           }
          ],
          "scattergeo": [
           {
            "marker": {
             "colorbar": {
              "outlinewidth": 0,
              "ticks": ""
             }
            },
            "type": "scattergeo"
           }
          ],
          "scattergl": [
           {
            "marker": {
             "colorbar": {
              "outlinewidth": 0,
              "ticks": ""
             }
            },
            "type": "scattergl"
           }
          ],
          "scattermapbox": [
           {
            "marker": {
             "colorbar": {
              "outlinewidth": 0,
              "ticks": ""
             }
            },
            "type": "scattermapbox"
           }
          ],
          "scatterpolar": [
           {
            "marker": {
             "colorbar": {
              "outlinewidth": 0,
              "ticks": ""
             }
            },
            "type": "scatterpolar"
           }
          ],
          "scatterpolargl": [
           {
            "marker": {
             "colorbar": {
              "outlinewidth": 0,
              "ticks": ""
             }
            },
            "type": "scatterpolargl"
           }
          ],
          "scatterternary": [
           {
            "marker": {
             "colorbar": {
              "outlinewidth": 0,
              "ticks": ""
             }
            },
            "type": "scatterternary"
           }
          ],
          "surface": [
           {
            "colorbar": {
             "outlinewidth": 0,
             "ticks": ""
            },
            "colorscale": [
             [
              0,
              "#0d0887"
             ],
             [
              0.1111111111111111,
              "#46039f"
             ],
             [
              0.2222222222222222,
              "#7201a8"
             ],
             [
              0.3333333333333333,
              "#9c179e"
             ],
             [
              0.4444444444444444,
              "#bd3786"
             ],
             [
              0.5555555555555556,
              "#d8576b"
             ],
             [
              0.6666666666666666,
              "#ed7953"
             ],
             [
              0.7777777777777778,
              "#fb9f3a"
             ],
             [
              0.8888888888888888,
              "#fdca26"
             ],
             [
              1,
              "#f0f921"
             ]
            ],
            "type": "surface"
           }
          ],
          "table": [
           {
            "cells": {
             "fill": {
              "color": "#EBF0F8"
             },
             "line": {
              "color": "white"
             }
            },
            "header": {
             "fill": {
              "color": "#C8D4E3"
             },
             "line": {
              "color": "white"
             }
            },
            "type": "table"
           }
          ]
         },
         "layout": {
          "annotationdefaults": {
           "arrowcolor": "#2a3f5f",
           "arrowhead": 0,
           "arrowwidth": 1
          },
          "autotypenumbers": "strict",
          "coloraxis": {
           "colorbar": {
            "outlinewidth": 0,
            "ticks": ""
           }
          },
          "colorscale": {
           "diverging": [
            [
             0,
             "#8e0152"
            ],
            [
             0.1,
             "#c51b7d"
            ],
            [
             0.2,
             "#de77ae"
            ],
            [
             0.3,
             "#f1b6da"
            ],
            [
             0.4,
             "#fde0ef"
            ],
            [
             0.5,
             "#f7f7f7"
            ],
            [
             0.6,
             "#e6f5d0"
            ],
            [
             0.7,
             "#b8e186"
            ],
            [
             0.8,
             "#7fbc41"
            ],
            [
             0.9,
             "#4d9221"
            ],
            [
             1,
             "#276419"
            ]
           ],
           "sequential": [
            [
             0,
             "#0d0887"
            ],
            [
             0.1111111111111111,
             "#46039f"
            ],
            [
             0.2222222222222222,
             "#7201a8"
            ],
            [
             0.3333333333333333,
             "#9c179e"
            ],
            [
             0.4444444444444444,
             "#bd3786"
            ],
            [
             0.5555555555555556,
             "#d8576b"
            ],
            [
             0.6666666666666666,
             "#ed7953"
            ],
            [
             0.7777777777777778,
             "#fb9f3a"
            ],
            [
             0.8888888888888888,
             "#fdca26"
            ],
            [
             1,
             "#f0f921"
            ]
           ],
           "sequentialminus": [
            [
             0,
             "#0d0887"
            ],
            [
             0.1111111111111111,
             "#46039f"
            ],
            [
             0.2222222222222222,
             "#7201a8"
            ],
            [
             0.3333333333333333,
             "#9c179e"
            ],
            [
             0.4444444444444444,
             "#bd3786"
            ],
            [
             0.5555555555555556,
             "#d8576b"
            ],
            [
             0.6666666666666666,
             "#ed7953"
            ],
            [
             0.7777777777777778,
             "#fb9f3a"
            ],
            [
             0.8888888888888888,
             "#fdca26"
            ],
            [
             1,
             "#f0f921"
            ]
           ]
          },
          "colorway": [
           "#636efa",
           "#EF553B",
           "#00cc96",
           "#ab63fa",
           "#FFA15A",
           "#19d3f3",
           "#FF6692",
           "#B6E880",
           "#FF97FF",
           "#FECB52"
          ],
          "font": {
           "color": "#2a3f5f"
          },
          "geo": {
           "bgcolor": "white",
           "lakecolor": "white",
           "landcolor": "#E5ECF6",
           "showlakes": true,
           "showland": true,
           "subunitcolor": "white"
          },
          "hoverlabel": {
           "align": "left"
          },
          "hovermode": "closest",
          "mapbox": {
           "style": "light"
          },
          "paper_bgcolor": "white",
          "plot_bgcolor": "#E5ECF6",
          "polar": {
           "angularaxis": {
            "gridcolor": "white",
            "linecolor": "white",
            "ticks": ""
           },
           "bgcolor": "#E5ECF6",
           "radialaxis": {
            "gridcolor": "white",
            "linecolor": "white",
            "ticks": ""
           }
          },
          "scene": {
           "xaxis": {
            "backgroundcolor": "#E5ECF6",
            "gridcolor": "white",
            "gridwidth": 2,
            "linecolor": "white",
            "showbackground": true,
            "ticks": "",
            "zerolinecolor": "white"
           },
           "yaxis": {
            "backgroundcolor": "#E5ECF6",
            "gridcolor": "white",
            "gridwidth": 2,
            "linecolor": "white",
            "showbackground": true,
            "ticks": "",
            "zerolinecolor": "white"
           },
           "zaxis": {
            "backgroundcolor": "#E5ECF6",
            "gridcolor": "white",
            "gridwidth": 2,
            "linecolor": "white",
            "showbackground": true,
            "ticks": "",
            "zerolinecolor": "white"
           }
          },
          "shapedefaults": {
           "line": {
            "color": "#2a3f5f"
           }
          },
          "ternary": {
           "aaxis": {
            "gridcolor": "white",
            "linecolor": "white",
            "ticks": ""
           },
           "baxis": {
            "gridcolor": "white",
            "linecolor": "white",
            "ticks": ""
           },
           "bgcolor": "#E5ECF6",
           "caxis": {
            "gridcolor": "white",
            "linecolor": "white",
            "ticks": ""
           }
          },
          "title": {
           "x": 0.05
          },
          "xaxis": {
           "automargin": true,
           "gridcolor": "white",
           "linecolor": "white",
           "ticks": "",
           "title": {
            "standoff": 15
           },
           "zerolinecolor": "white",
           "zerolinewidth": 2
          },
          "yaxis": {
           "automargin": true,
           "gridcolor": "white",
           "linecolor": "white",
           "ticks": "",
           "title": {
            "standoff": 15
           },
           "zerolinecolor": "white",
           "zerolinewidth": 2
          }
         }
        },
        "ternary": {
         "aaxis": {
          "title": {
           "text": "product_price"
          }
         },
         "baxis": {
          "title": {
           "text": "product_num_ratings"
          }
         },
         "caxis": {
          "title": {
           "text": "product_star_rating"
          }
         },
         "domain": {
          "x": [
           0,
           1
          ],
          "y": [
           0,
           1
          ]
         }
        },
        "title": {
         "text": "Rating and Price Relationship"
        }
       }
      }
     },
     "metadata": {},
     "output_type": "display_data"
    }
   ],
   "source": [
    "fig = px.scatter_ternary(\n",
    "    dfc,\n",
    "    a=dfc['product_price'],\n",
    "    b=dfc['product_num_ratings'],\n",
    "    c=dfc['product_star_rating'],\n",
    "    color=dfc['has_variations'],\n",
    "    title='Rating and Price Relationship',\n",
    "    \n",
    ")\n",
    "\n",
    "fig.show()"
   ]
  },
  {
   "cell_type": "markdown",
   "metadata": {},
   "source": [
    "<a id=\"34\"></a>\n",
    "### <div style=\"text-align:left; border-radius:15px; padding:20px; color:Black; margin:0; font-size:100%; font-family:Arial; background-color:#48cae4; overflow:hidden\"><b>⚡4. Offers and Price Relationship </b>\n",
    "</div>\n",
    "    <a href=\"#table-of-contents\" style=\"font-family: Arial, sans-serif; font-size: 15px; background-color: #7b2cbf; color: #ffffff; padding: 7px 15px; text-decoration: none; border-radius: 15px;\">\n",
    "        [Table of Content 📜⬆️]\n",
    "    </a>"
   ]
  },
  {
   "cell_type": "code",
   "execution_count": 21,
   "metadata": {},
   "outputs": [
    {
     "data": {
      "application/vnd.plotly.v1+json": {
       "config": {
        "plotlyServerURL": "https://plot.ly"
       },
       "data": [
        {
         "a": [
          99,
          153.99,
          49.99,
          88.09,
          49.99,
          149.5,
          139.99,
          59.99,
          89,
          249.99,
          18.45,
          153.99,
          99,
          49.99,
          49.99,
          149.5,
          139.99,
          59.99,
          89,
          249.99,
          18.45,
          41.99,
          149.94,
          99.99,
          78.95,
          89.99,
          59.99,
          17.56,
          49.99,
          24.99,
          183.69,
          39,
          158.99,
          19.99,
          479.72,
          98.52,
          99.88,
          209.99,
          88.82,
          99.99,
          41.9,
          96.26,
          358.99,
          null,
          9.99,
          159.99,
          229.95,
          249.95,
          799.99,
          19.89,
          133,
          169.99,
          187,
          142.49,
          99.99,
          63.98,
          89.55,
          129.95,
          89.97,
          99.99,
          49.99,
          49.99,
          54.95,
          799.99,
          117.9,
          15.95,
          16.14,
          24.95,
          99.99,
          159.99,
          249.99,
          98,
          null,
          72.25,
          69.07,
          120,
          68,
          46.49,
          174.99,
          154.98,
          139.99,
          51.6,
          64.94,
          117.77,
          204.95,
          51.6,
          399.99,
          62.99,
          117.77,
          64.94,
          106.08,
          199.99,
          148.87,
          199.99,
          124.99,
          null,
          94,
          30.52,
          159.99,
          250,
          39.99,
          35.97,
          273.99,
          75.05,
          76.95,
          145,
          65.95,
          74,
          49.85,
          149.85,
          20.23,
          89.98,
          55.04,
          96.87,
          79.99,
          14.99,
          69.99,
          39.99,
          144.99,
          379.5,
          103.76,
          139.95,
          76.95,
          91.75,
          169.99,
          183,
          349.99,
          859.99,
          21.99,
          169,
          229,
          69.99,
          59.99,
          83,
          69.99,
          99.99,
          49.99,
          98.25,
          31.49,
          76.56,
          859.99,
          7.99,
          169.99,
          149.95,
          279.99,
          119.95,
          64.89,
          70.32,
          39.99,
          34.49,
          130,
          null,
          95.53,
          80.29,
          159.99,
          264.95,
          124,
          135,
          113.87,
          29.99,
          29.99,
          22.4,
          38.58,
          55,
          13.98,
          41,
          146.29,
          9.99,
          59.99,
          64.99,
          23.04,
          27.99,
          89.95,
          18.98,
          199.99,
          68.99,
          19.99,
          199.99,
          39.99,
          120,
          40.93,
          82.85,
          12.98,
          11.99,
          161.23,
          326,
          144,
          199.95,
          195.24,
          65.95,
          79.99,
          31.99,
          70,
          66.89,
          39.99,
          99.99,
          72.99,
          83,
          49.99,
          202,
          13.89,
          125,
          49.88,
          117.99,
          89,
          75,
          131.88,
          49.65,
          27.98,
          399.99,
          39.99,
          71.99,
          114.28,
          114.28,
          255,
          34.67,
          1199,
          993.9,
          199.99,
          99.99,
          57,
          34.98,
          249.99,
          229.72,
          59.99,
          69.99,
          199.99,
          29.99,
          14.99,
          34.99,
          39,
          139,
          15.99,
          135.99,
          27.49,
          99.99,
          39.99,
          273,
          29.99,
          45.95
         ],
         "b": [
          16,
          4,
          3,
          31,
          3,
          9,
          15,
          4,
          10,
          5,
          2,
          4,
          16,
          3,
          3,
          9,
          15,
          4,
          10,
          5,
          2,
          7,
          14,
          6,
          3,
          5,
          2,
          2,
          3,
          1,
          7,
          1,
          1,
          1,
          3,
          23,
          2,
          5,
          31,
          3,
          10,
          10,
          14,
          1,
          1,
          3,
          39,
          25,
          11,
          3,
          16,
          14,
          8,
          6,
          4,
          23,
          26,
          1,
          14,
          7,
          1,
          1,
          2,
          2,
          1,
          49,
          3,
          3,
          2,
          6,
          2,
          14,
          1,
          7,
          26,
          10,
          2,
          2,
          1,
          6,
          1,
          6,
          9,
          4,
          1,
          6,
          1,
          1,
          4,
          9,
          3,
          1,
          5,
          1,
          7,
          1,
          21,
          2,
          7,
          27,
          3,
          2,
          11,
          3,
          3,
          16,
          3,
          16,
          3,
          14,
          6,
          3,
          3,
          21,
          3,
          1,
          4,
          1,
          6,
          3,
          25,
          4,
          5,
          17,
          7,
          6,
          3,
          1,
          1,
          4,
          8,
          2,
          2,
          4,
          1,
          1,
          1,
          25,
          21,
          3,
          1,
          1,
          1,
          6,
          1,
          2,
          1,
          83,
          9,
          12,
          11,
          1,
          49,
          8,
          2,
          14,
          6,
          10,
          11,
          1,
          2,
          15,
          24,
          3,
          1,
          6,
          23,
          1,
          1,
          1,
          45,
          3,
          2,
          1,
          1,
          1,
          3,
          1,
          3,
          5,
          17,
          8,
          8,
          4,
          31,
          4,
          9,
          2,
          1,
          3,
          1,
          3,
          5,
          10,
          1,
          1,
          17,
          16,
          1,
          25,
          1,
          19,
          10,
          4,
          2,
          4,
          3,
          4,
          1,
          2,
          1,
          3,
          2,
          2,
          11,
          22,
          3,
          1,
          2,
          1,
          25,
          1,
          11,
          6,
          4,
          3,
          2,
          2,
          1,
          1,
          1,
          1,
          1,
          1,
          1,
          1,
          1,
          1,
          1,
          1
         ],
         "c": [
          69.88,
          147.5,
          43.99,
          70.4,
          25.19,
          146.5,
          136.62,
          50.48,
          85.44,
          209.28,
          13.84,
          147.5,
          69.88,
          43.99,
          25.19,
          146.5,
          136.62,
          50.48,
          85.44,
          209.28,
          13.84,
          29.7,
          123.7,
          98.97,
          38.25,
          79.99,
          57.44,
          13.28,
          49.21,
          24.99,
          176.35,
          39,
          158.99,
          19.99,
          429.5,
          88.98,
          64.99,
          164.99,
          70.4,
          49.52,
          22.95,
          89.22,
          283.95,
          null,
          9.99,
          98.03,
          179,
          224.93,
          759.5,
          12.14,
          119.5,
          127.16,
          169.99,
          99.5,
          74.99,
          29.95,
          81.4,
          129.95,
          79,
          46.2,
          49.99,
          49.99,
          36.84,
          715.67,
          117.9,
          8.61,
          9.65,
          14.85,
          56.08,
          127.7,
          164.31,
          95.97,
          null,
          64.3,
          68.95,
          89.99,
          67.89,
          32.72,
          174.99,
          139.5,
          139.99,
          27.67,
          49.9,
          57.19,
          204.95,
          27.67,
          399.99,
          62.99,
          57.19,
          49.9,
          62.42,
          199.99,
          51.94,
          199.99,
          98.99,
          null,
          77.67,
          19.99,
          125.98,
          223.95,
          31.59,
          33.27,
          204.99,
          50,
          34.68,
          111.1,
          35.25,
          70,
          17.57,
          139.99,
          10.99,
          67.7,
          29.65,
          36.35,
          37.25,
          14.99,
          48.03,
          39.99,
          143.54,
          319.99,
          49.99,
          92.89,
          32.95,
          56.1,
          74.63,
          156,
          335.72,
          859.99,
          21.99,
          119.99,
          135.62,
          68.49,
          59.39,
          82.17,
          69.99,
          99.99,
          49.99,
          34.63,
          14.19,
          48.26,
          859.99,
          7.99,
          169.99,
          55.94,
          279.99,
          75.26,
          64.89,
          40.32,
          28.73,
          17.24,
          109.85,
          null,
          38.11,
          64.57,
          72.76,
          217.95,
          80,
          128.95,
          95.09,
          29.99,
          28.95,
          14.8,
          17.63,
          16.41,
          13.98,
          34.48,
          61.19,
          9.99,
          59.99,
          64.99,
          13.73,
          25.93,
          56.58,
          18.98,
          199.99,
          68.99,
          17.2,
          199.99,
          34.74,
          109.95,
          36.71,
          73.99,
          12,
          8.89,
          95,
          214.99,
          134,
          84.55,
          195.24,
          45.77,
          79.99,
          26.93,
          14.97,
          62.22,
          39.99,
          99.99,
          69.94,
          69.99,
          49.99,
          164.35,
          13.89,
          103.9,
          43.89,
          117.7,
          67.17,
          59.99,
          62.01,
          49.27,
          27.98,
          335.99,
          39.99,
          65.35,
          41.84,
          41.84,
          244.97,
          13.98,
          1151.04,
          993.9,
          69.94,
          99.99,
          49,
          34.98,
          219,
          125.99,
          39,
          49.99,
          101.15,
          21.99,
          14.99,
          34.99,
          39,
          139,
          15.99,
          135.99,
          27.49,
          99.99,
          39.99,
          273,
          29.99,
          45.95
         ],
         "hovertemplate": "has_variations=False<br>product_price=%{a}<br>product_num_offers=%{b}<br>product_minimum_offer_price=%{c}<br>product_num_ratings=%{marker.size}<extra></extra>",
         "legendgroup": "False",
         "marker": {
          "color": "#636efa",
          "size": [
           1319,
           186,
           2814,
           1338,
           3843,
           253,
           573,
           258,
           204,
           963,
           9096,
           186,
           1319,
           2814,
           3843,
           253,
           573,
           258,
           204,
           963,
           9096,
           2048,
           874,
           17,
           27240,
           92,
           70,
           315,
           276,
           160,
           146,
           0,
           7,
           823,
           39,
           762,
           308,
           6272,
           1338,
           2151,
           541,
           313,
           855,
           424,
           158,
           1325,
           2069,
           2074,
           380,
           5617,
           269,
           411,
           383,
           1686,
           131,
           6350,
           557,
           501,
           382,
           1332,
           49,
           265,
           7887,
           506,
           62,
           19530,
           2962,
           1293,
           172,
           89,
           262,
           115,
           20,
           381,
           3440,
           269,
           310,
           7573,
           0,
           1073,
           48,
           574,
           1492,
           20608,
           73,
           574,
           56,
           15,
           20608,
           1492,
           18566,
           11,
           8627,
           21,
           98,
           3035,
           171,
           40734,
           275,
           1968,
           31,
           192,
           1574,
           84,
           6801,
           1769,
           26175,
           385,
           13525,
           187,
           37768,
           575,
           17629,
           1173,
           833,
           60,
           434,
           58,
           11,
           380,
           1452,
           2038,
           5154,
           641,
           1240,
           3281,
           55,
           424,
           2,
           124,
           1018,
           0,
           18,
           67,
           161,
           232,
           248,
           2542,
           2060,
           4051,
           424,
           20,
           214,
           1161,
           14,
           1910,
           402,
           1082,
           362,
           5343,
           1204,
           4495,
           836,
           795,
           860,
           2949,
           341,
           866,
           21,
           25,
           148,
           1742,
           2145,
           862,
           314,
           105,
           136,
           349,
           4,
           1952,
           2406,
           178,
           918,
           1235,
           29,
           36,
           211,
           39,
           300,
           285,
           1899,
           162,
           1079,
           53768,
           155,
           313,
           103,
           23,
           951,
           19,
           400,
           1373,
           294,
           119,
           26,
           3,
           291,
           1194,
           299,
           93,
           144,
           309,
           99,
           133,
           1819,
           1603,
           3777,
           292,
           1414,
           48,
           31,
           1857,
           539,
           539,
           51,
           290,
           41,
           43,
           115,
           7,
           359,
           1645,
           142,
           186,
           161,
           77,
           15,
           284,
           4022,
           123,
           47,
           4,
           82,
           104,
           38,
           8,
           2589,
           45,
           29066,
           672
          ],
          "sizemode": "area",
          "sizeref": 18.049166666666668,
          "symbol": "circle"
         },
         "mode": "markers",
         "name": "False",
         "showlegend": true,
         "subplot": "ternary",
         "type": "scatterternary"
        },
        {
         "a": [
          69,
          149.99,
          195,
          199.99,
          355.81,
          69,
          149.99,
          194.99,
          199.99,
          269.99,
          798,
          499.99,
          159,
          166.99,
          344.95,
          232,
          284.99,
          699.99,
          128,
          387,
          287.3,
          422,
          349.99,
          98.93,
          355.81,
          187,
          225.62,
          549.99,
          179.99,
          152.93,
          88.99,
          69.72,
          238.99,
          85.99,
          169.99,
          399,
          111.07,
          859.99,
          103.12,
          299.99,
          499,
          389,
          559.99,
          162.5,
          246,
          99.99,
          246,
          99.99,
          88,
          172.49,
          469.99,
          51.99,
          143.99,
          379.55,
          1614.99,
          499.95,
          270.74,
          209,
          225,
          402,
          199.99,
          620.05,
          159.99,
          319.95,
          188.89,
          54.99,
          344,
          1299.99,
          119.99,
          473.5,
          99.99,
          235.9,
          69,
          114.99,
          47.99,
          125,
          249.7,
          289,
          944.96,
          139.99,
          197,
          107.99,
          149.99,
          159.69,
          184.95,
          179.99,
          199,
          17.99,
          65.99,
          541.06,
          22.99,
          283.69,
          169,
          154.31,
          209.95,
          119.99,
          689.99,
          119.99,
          689.99,
          128
         ],
         "b": [
          35,
          8,
          15,
          2,
          20,
          35,
          8,
          15,
          2,
          69,
          2,
          2,
          18,
          53,
          21,
          16,
          6,
          2,
          40,
          17,
          20,
          29,
          3,
          7,
          20,
          22,
          38,
          2,
          6,
          31,
          10,
          3,
          15,
          29,
          19,
          2,
          10,
          2,
          7,
          1,
          5,
          34,
          2,
          5,
          21,
          1,
          21,
          1,
          3,
          7,
          8,
          1,
          1,
          16,
          10,
          4,
          3,
          1,
          19,
          11,
          23,
          21,
          15,
          1,
          1,
          2,
          22,
          4,
          1,
          1,
          1,
          27,
          16,
          4,
          11,
          1,
          8,
          1,
          8,
          20,
          15,
          4,
          5,
          1,
          1,
          9,
          5,
          1,
          1,
          6,
          1,
          1,
          5,
          7,
          5,
          1,
          6,
          1,
          6,
          4
         ],
         "c": [
          64.99,
          100.72,
          164.5,
          154,
          303.99,
          64.99,
          100.72,
          164.5,
          154,
          244.99,
          741.99,
          451.19,
          153.28,
          134.85,
          318,
          203.31,
          149.95,
          331.64,
          96.69,
          353.72,
          284.92,
          305.96,
          313.91,
          80.04,
          303.99,
          155.99,
          204,
          493.11,
          79.79,
          133.99,
          70,
          59.95,
          164.99,
          74.74,
          162.82,
          383.04,
          94.76,
          724.02,
          102.96,
          299.99,
          475,
          339,
          451.85,
          127.7,
          187,
          99.99,
          187,
          99.99,
          41.21,
          139.85,
          449.99,
          51.99,
          143.99,
          325.05,
          1583.65,
          485,
          192.55,
          209,
          190.95,
          359.5,
          169,
          615.99,
          149.99,
          319.95,
          188.89,
          44.99,
          294,
          1138.07,
          119.99,
          473.5,
          99.99,
          199.5,
          67.69,
          40,
          44.34,
          125,
          213.91,
          289,
          899.99,
          109.9,
          177.95,
          61.03,
          89.95,
          159.69,
          184.95,
          79.99,
          150,
          17.99,
          65.99,
          511.67,
          22.99,
          283.69,
          109.99,
          134.99,
          164.95,
          119.99,
          640.28,
          119.99,
          640.28,
          119.9
         ],
         "hovertemplate": "has_variations=True<br>product_price=%{a}<br>product_num_offers=%{b}<br>product_minimum_offer_price=%{c}<br>product_num_ratings=%{marker.size}<extra></extra>",
         "legendgroup": "True",
         "marker": {
          "color": "#EF553B",
          "size": [
           597,
           2637,
           259,
           610,
           4265,
           597,
           2637,
           259,
           610,
           2362,
           615,
           1159,
           2927,
           7272,
           2482,
           13191,
           3432,
           440,
           18826,
           10317,
           25638,
           12051,
           266,
           2079,
           4265,
           64977,
           1980,
           397,
           10670,
           1184,
           700,
           2049,
           1038,
           1684,
           131,
           400,
           101,
           424,
           37,
           31,
           2391,
           3876,
           1159,
           42,
           1340,
           6,
           1340,
           6,
           809,
           982,
           9355,
           83,
           90,
           361,
           83,
           2755,
           1804,
           52783,
           940,
           752,
           3066,
           566,
           10417,
           14909,
           1039,
           679,
           1866,
           218,
           210,
           99,
           4,
           807,
           1199,
           165,
           3219,
           1,
           305,
           9,
           93,
           4559,
           1827,
           16748,
           6645,
           155,
           69,
           2671,
           1604,
           6,
           165,
           776,
           3283,
           934,
           2396,
           2306,
           1729,
           1,
           224,
           1,
           224,
           320
          ],
          "sizemode": "area",
          "sizeref": 18.049166666666668,
          "symbol": "circle"
         },
         "mode": "markers",
         "name": "True",
         "showlegend": true,
         "subplot": "ternary",
         "type": "scatterternary"
        }
       ],
       "layout": {
        "legend": {
         "itemsizing": "constant",
         "title": {
          "text": "has_variations"
         },
         "tracegroupgap": 0
        },
        "template": {
         "data": {
          "bar": [
           {
            "error_x": {
             "color": "#2a3f5f"
            },
            "error_y": {
             "color": "#2a3f5f"
            },
            "marker": {
             "line": {
              "color": "#E5ECF6",
              "width": 0.5
             },
             "pattern": {
              "fillmode": "overlay",
              "size": 10,
              "solidity": 0.2
             }
            },
            "type": "bar"
           }
          ],
          "barpolar": [
           {
            "marker": {
             "line": {
              "color": "#E5ECF6",
              "width": 0.5
             },
             "pattern": {
              "fillmode": "overlay",
              "size": 10,
              "solidity": 0.2
             }
            },
            "type": "barpolar"
           }
          ],
          "carpet": [
           {
            "aaxis": {
             "endlinecolor": "#2a3f5f",
             "gridcolor": "white",
             "linecolor": "white",
             "minorgridcolor": "white",
             "startlinecolor": "#2a3f5f"
            },
            "baxis": {
             "endlinecolor": "#2a3f5f",
             "gridcolor": "white",
             "linecolor": "white",
             "minorgridcolor": "white",
             "startlinecolor": "#2a3f5f"
            },
            "type": "carpet"
           }
          ],
          "choropleth": [
           {
            "colorbar": {
             "outlinewidth": 0,
             "ticks": ""
            },
            "type": "choropleth"
           }
          ],
          "contour": [
           {
            "colorbar": {
             "outlinewidth": 0,
             "ticks": ""
            },
            "colorscale": [
             [
              0,
              "#0d0887"
             ],
             [
              0.1111111111111111,
              "#46039f"
             ],
             [
              0.2222222222222222,
              "#7201a8"
             ],
             [
              0.3333333333333333,
              "#9c179e"
             ],
             [
              0.4444444444444444,
              "#bd3786"
             ],
             [
              0.5555555555555556,
              "#d8576b"
             ],
             [
              0.6666666666666666,
              "#ed7953"
             ],
             [
              0.7777777777777778,
              "#fb9f3a"
             ],
             [
              0.8888888888888888,
              "#fdca26"
             ],
             [
              1,
              "#f0f921"
             ]
            ],
            "type": "contour"
           }
          ],
          "contourcarpet": [
           {
            "colorbar": {
             "outlinewidth": 0,
             "ticks": ""
            },
            "type": "contourcarpet"
           }
          ],
          "heatmap": [
           {
            "colorbar": {
             "outlinewidth": 0,
             "ticks": ""
            },
            "colorscale": [
             [
              0,
              "#0d0887"
             ],
             [
              0.1111111111111111,
              "#46039f"
             ],
             [
              0.2222222222222222,
              "#7201a8"
             ],
             [
              0.3333333333333333,
              "#9c179e"
             ],
             [
              0.4444444444444444,
              "#bd3786"
             ],
             [
              0.5555555555555556,
              "#d8576b"
             ],
             [
              0.6666666666666666,
              "#ed7953"
             ],
             [
              0.7777777777777778,
              "#fb9f3a"
             ],
             [
              0.8888888888888888,
              "#fdca26"
             ],
             [
              1,
              "#f0f921"
             ]
            ],
            "type": "heatmap"
           }
          ],
          "heatmapgl": [
           {
            "colorbar": {
             "outlinewidth": 0,
             "ticks": ""
            },
            "colorscale": [
             [
              0,
              "#0d0887"
             ],
             [
              0.1111111111111111,
              "#46039f"
             ],
             [
              0.2222222222222222,
              "#7201a8"
             ],
             [
              0.3333333333333333,
              "#9c179e"
             ],
             [
              0.4444444444444444,
              "#bd3786"
             ],
             [
              0.5555555555555556,
              "#d8576b"
             ],
             [
              0.6666666666666666,
              "#ed7953"
             ],
             [
              0.7777777777777778,
              "#fb9f3a"
             ],
             [
              0.8888888888888888,
              "#fdca26"
             ],
             [
              1,
              "#f0f921"
             ]
            ],
            "type": "heatmapgl"
           }
          ],
          "histogram": [
           {
            "marker": {
             "pattern": {
              "fillmode": "overlay",
              "size": 10,
              "solidity": 0.2
             }
            },
            "type": "histogram"
           }
          ],
          "histogram2d": [
           {
            "colorbar": {
             "outlinewidth": 0,
             "ticks": ""
            },
            "colorscale": [
             [
              0,
              "#0d0887"
             ],
             [
              0.1111111111111111,
              "#46039f"
             ],
             [
              0.2222222222222222,
              "#7201a8"
             ],
             [
              0.3333333333333333,
              "#9c179e"
             ],
             [
              0.4444444444444444,
              "#bd3786"
             ],
             [
              0.5555555555555556,
              "#d8576b"
             ],
             [
              0.6666666666666666,
              "#ed7953"
             ],
             [
              0.7777777777777778,
              "#fb9f3a"
             ],
             [
              0.8888888888888888,
              "#fdca26"
             ],
             [
              1,
              "#f0f921"
             ]
            ],
            "type": "histogram2d"
           }
          ],
          "histogram2dcontour": [
           {
            "colorbar": {
             "outlinewidth": 0,
             "ticks": ""
            },
            "colorscale": [
             [
              0,
              "#0d0887"
             ],
             [
              0.1111111111111111,
              "#46039f"
             ],
             [
              0.2222222222222222,
              "#7201a8"
             ],
             [
              0.3333333333333333,
              "#9c179e"
             ],
             [
              0.4444444444444444,
              "#bd3786"
             ],
             [
              0.5555555555555556,
              "#d8576b"
             ],
             [
              0.6666666666666666,
              "#ed7953"
             ],
             [
              0.7777777777777778,
              "#fb9f3a"
             ],
             [
              0.8888888888888888,
              "#fdca26"
             ],
             [
              1,
              "#f0f921"
             ]
            ],
            "type": "histogram2dcontour"
           }
          ],
          "mesh3d": [
           {
            "colorbar": {
             "outlinewidth": 0,
             "ticks": ""
            },
            "type": "mesh3d"
           }
          ],
          "parcoords": [
           {
            "line": {
             "colorbar": {
              "outlinewidth": 0,
              "ticks": ""
             }
            },
            "type": "parcoords"
           }
          ],
          "pie": [
           {
            "automargin": true,
            "type": "pie"
           }
          ],
          "scatter": [
           {
            "fillpattern": {
             "fillmode": "overlay",
             "size": 10,
             "solidity": 0.2
            },
            "type": "scatter"
           }
          ],
          "scatter3d": [
           {
            "line": {
             "colorbar": {
              "outlinewidth": 0,
              "ticks": ""
             }
            },
            "marker": {
             "colorbar": {
              "outlinewidth": 0,
              "ticks": ""
             }
            },
            "type": "scatter3d"
           }
          ],
          "scattercarpet": [
           {
            "marker": {
             "colorbar": {
              "outlinewidth": 0,
              "ticks": ""
             }
            },
            "type": "scattercarpet"
           }
          ],
          "scattergeo": [
           {
            "marker": {
             "colorbar": {
              "outlinewidth": 0,
              "ticks": ""
             }
            },
            "type": "scattergeo"
           }
          ],
          "scattergl": [
           {
            "marker": {
             "colorbar": {
              "outlinewidth": 0,
              "ticks": ""
             }
            },
            "type": "scattergl"
           }
          ],
          "scattermapbox": [
           {
            "marker": {
             "colorbar": {
              "outlinewidth": 0,
              "ticks": ""
             }
            },
            "type": "scattermapbox"
           }
          ],
          "scatterpolar": [
           {
            "marker": {
             "colorbar": {
              "outlinewidth": 0,
              "ticks": ""
             }
            },
            "type": "scatterpolar"
           }
          ],
          "scatterpolargl": [
           {
            "marker": {
             "colorbar": {
              "outlinewidth": 0,
              "ticks": ""
             }
            },
            "type": "scatterpolargl"
           }
          ],
          "scatterternary": [
           {
            "marker": {
             "colorbar": {
              "outlinewidth": 0,
              "ticks": ""
             }
            },
            "type": "scatterternary"
           }
          ],
          "surface": [
           {
            "colorbar": {
             "outlinewidth": 0,
             "ticks": ""
            },
            "colorscale": [
             [
              0,
              "#0d0887"
             ],
             [
              0.1111111111111111,
              "#46039f"
             ],
             [
              0.2222222222222222,
              "#7201a8"
             ],
             [
              0.3333333333333333,
              "#9c179e"
             ],
             [
              0.4444444444444444,
              "#bd3786"
             ],
             [
              0.5555555555555556,
              "#d8576b"
             ],
             [
              0.6666666666666666,
              "#ed7953"
             ],
             [
              0.7777777777777778,
              "#fb9f3a"
             ],
             [
              0.8888888888888888,
              "#fdca26"
             ],
             [
              1,
              "#f0f921"
             ]
            ],
            "type": "surface"
           }
          ],
          "table": [
           {
            "cells": {
             "fill": {
              "color": "#EBF0F8"
             },
             "line": {
              "color": "white"
             }
            },
            "header": {
             "fill": {
              "color": "#C8D4E3"
             },
             "line": {
              "color": "white"
             }
            },
            "type": "table"
           }
          ]
         },
         "layout": {
          "annotationdefaults": {
           "arrowcolor": "#2a3f5f",
           "arrowhead": 0,
           "arrowwidth": 1
          },
          "autotypenumbers": "strict",
          "coloraxis": {
           "colorbar": {
            "outlinewidth": 0,
            "ticks": ""
           }
          },
          "colorscale": {
           "diverging": [
            [
             0,
             "#8e0152"
            ],
            [
             0.1,
             "#c51b7d"
            ],
            [
             0.2,
             "#de77ae"
            ],
            [
             0.3,
             "#f1b6da"
            ],
            [
             0.4,
             "#fde0ef"
            ],
            [
             0.5,
             "#f7f7f7"
            ],
            [
             0.6,
             "#e6f5d0"
            ],
            [
             0.7,
             "#b8e186"
            ],
            [
             0.8,
             "#7fbc41"
            ],
            [
             0.9,
             "#4d9221"
            ],
            [
             1,
             "#276419"
            ]
           ],
           "sequential": [
            [
             0,
             "#0d0887"
            ],
            [
             0.1111111111111111,
             "#46039f"
            ],
            [
             0.2222222222222222,
             "#7201a8"
            ],
            [
             0.3333333333333333,
             "#9c179e"
            ],
            [
             0.4444444444444444,
             "#bd3786"
            ],
            [
             0.5555555555555556,
             "#d8576b"
            ],
            [
             0.6666666666666666,
             "#ed7953"
            ],
            [
             0.7777777777777778,
             "#fb9f3a"
            ],
            [
             0.8888888888888888,
             "#fdca26"
            ],
            [
             1,
             "#f0f921"
            ]
           ],
           "sequentialminus": [
            [
             0,
             "#0d0887"
            ],
            [
             0.1111111111111111,
             "#46039f"
            ],
            [
             0.2222222222222222,
             "#7201a8"
            ],
            [
             0.3333333333333333,
             "#9c179e"
            ],
            [
             0.4444444444444444,
             "#bd3786"
            ],
            [
             0.5555555555555556,
             "#d8576b"
            ],
            [
             0.6666666666666666,
             "#ed7953"
            ],
            [
             0.7777777777777778,
             "#fb9f3a"
            ],
            [
             0.8888888888888888,
             "#fdca26"
            ],
            [
             1,
             "#f0f921"
            ]
           ]
          },
          "colorway": [
           "#636efa",
           "#EF553B",
           "#00cc96",
           "#ab63fa",
           "#FFA15A",
           "#19d3f3",
           "#FF6692",
           "#B6E880",
           "#FF97FF",
           "#FECB52"
          ],
          "font": {
           "color": "#2a3f5f"
          },
          "geo": {
           "bgcolor": "white",
           "lakecolor": "white",
           "landcolor": "#E5ECF6",
           "showlakes": true,
           "showland": true,
           "subunitcolor": "white"
          },
          "hoverlabel": {
           "align": "left"
          },
          "hovermode": "closest",
          "mapbox": {
           "style": "light"
          },
          "paper_bgcolor": "white",
          "plot_bgcolor": "#E5ECF6",
          "polar": {
           "angularaxis": {
            "gridcolor": "white",
            "linecolor": "white",
            "ticks": ""
           },
           "bgcolor": "#E5ECF6",
           "radialaxis": {
            "gridcolor": "white",
            "linecolor": "white",
            "ticks": ""
           }
          },
          "scene": {
           "xaxis": {
            "backgroundcolor": "#E5ECF6",
            "gridcolor": "white",
            "gridwidth": 2,
            "linecolor": "white",
            "showbackground": true,
            "ticks": "",
            "zerolinecolor": "white"
           },
           "yaxis": {
            "backgroundcolor": "#E5ECF6",
            "gridcolor": "white",
            "gridwidth": 2,
            "linecolor": "white",
            "showbackground": true,
            "ticks": "",
            "zerolinecolor": "white"
           },
           "zaxis": {
            "backgroundcolor": "#E5ECF6",
            "gridcolor": "white",
            "gridwidth": 2,
            "linecolor": "white",
            "showbackground": true,
            "ticks": "",
            "zerolinecolor": "white"
           }
          },
          "shapedefaults": {
           "line": {
            "color": "#2a3f5f"
           }
          },
          "ternary": {
           "aaxis": {
            "gridcolor": "white",
            "linecolor": "white",
            "ticks": ""
           },
           "baxis": {
            "gridcolor": "white",
            "linecolor": "white",
            "ticks": ""
           },
           "bgcolor": "#E5ECF6",
           "caxis": {
            "gridcolor": "white",
            "linecolor": "white",
            "ticks": ""
           }
          },
          "title": {
           "x": 0.05
          },
          "xaxis": {
           "automargin": true,
           "gridcolor": "white",
           "linecolor": "white",
           "ticks": "",
           "title": {
            "standoff": 15
           },
           "zerolinecolor": "white",
           "zerolinewidth": 2
          },
          "yaxis": {
           "automargin": true,
           "gridcolor": "white",
           "linecolor": "white",
           "ticks": "",
           "title": {
            "standoff": 15
           },
           "zerolinecolor": "white",
           "zerolinewidth": 2
          }
         }
        },
        "ternary": {
         "aaxis": {
          "title": {
           "text": "product_price"
          }
         },
         "baxis": {
          "title": {
           "text": "product_num_offers"
          }
         },
         "caxis": {
          "title": {
           "text": "product_minimum_offer_price"
          }
         },
         "domain": {
          "x": [
           0,
           1
          ],
          "y": [
           0,
           1
          ]
         }
        },
        "title": {
         "text": "Offers and Price Relationship"
        }
       }
      }
     },
     "metadata": {},
     "output_type": "display_data"
    }
   ],
   "source": [
    "import plotly.express as px\n",
    "\n",
    "# Create a ternary scatter plot\n",
    "fig = px.scatter_ternary(\n",
    "    dfc,\n",
    "    a='product_price',\n",
    "    b=dfc['product_num_offers'],\n",
    "    c=dfc['product_minimum_offer_price'],\n",
    "    size='product_num_ratings',\n",
    "    size_max=60,\n",
    "    color='has_variations',\n",
    "    title='Offers and Price Relationship'\n",
    ")\n",
    "\n",
    "# Display the figure\n",
    "fig.show()\n"
   ]
  },
  {
   "cell_type": "markdown",
   "metadata": {},
   "source": [
    "<a id=\"35\"></a>\n",
    "### <div style=\"text-align:left; border-radius:15px; padding:20px; color:Black; margin:0; font-size:100%; font-family:Arial; background-color:#48cae4; overflow:hidden\"><b>⚡ 5. Different Field Analysis</b>\n",
    "</div>\n",
    "    <a href=\"#table-of-contents\" style=\"font-family: Arial, sans-serif; font-size: 15px; background-color: #7b2cbf; color: #ffffff; padding: 7px 15px; text-decoration: none; border-radius: 15px;\">\n",
    "        [Table of Content 📜⬆️]\n",
    "    </a>"
   ]
  },
  {
   "cell_type": "code",
   "execution_count": 22,
   "metadata": {},
   "outputs": [
    {
     "data": {
      "application/vnd.plotly.v1+json": {
       "config": {
        "plotlyServerURL": "https://plot.ly"
       },
       "data": [
        {
         "domain": {
          "x": [
           0,
           0.45
          ],
          "y": [
           0.7777777777777778,
           1
          ]
         },
         "labels": [
          false,
          true
         ],
         "name": "Amazon Choice",
         "rotation": 50,
         "type": "pie",
         "values": [
          338,
          2
         ]
        },
        {
         "domain": {
          "x": [
           0.55,
           1
          ],
          "y": [
           0.7777777777777778,
           1
          ]
         },
         "labels": [
          false,
          true
         ],
         "name": "Best Seller",
         "rotation": 50,
         "type": "pie",
         "values": [
          338,
          2
         ]
        },
        {
         "domain": {
          "x": [
           0,
           0.45
          ],
          "y": [
           0.3888888888888889,
           0.6111111111111112
          ]
         },
         "labels": [
          true,
          false
         ],
         "name": "Prime Member",
         "type": "pie",
         "values": [
          248,
          92
         ]
        },
        {
         "domain": {
          "x": [
           0.55,
           1
          ],
          "y": [
           0.3888888888888889,
           0.6111111111111112
          ]
         },
         "labels": [
          false,
          true
         ],
         "name": "Climate Friendly",
         "type": "pie",
         "values": [
          262,
          78
         ]
        },
        {
         "domain": {
          "x": [
           0,
           0.45
          ],
          "y": [
           0,
           0.22222222222222224
          ]
         },
         "labels": [
          false,
          true
         ],
         "name": "Has Variations",
         "type": "pie",
         "values": [
          240,
          100
         ]
        }
       ],
       "layout": {
        "annotations": [
         {
          "font": {
           "size": 16
          },
          "showarrow": false,
          "text": "Amazon Choice",
          "x": 0.225,
          "xanchor": "center",
          "xref": "paper",
          "y": 1,
          "yanchor": "bottom",
          "yref": "paper"
         },
         {
          "font": {
           "size": 16
          },
          "showarrow": false,
          "text": "Best Seller",
          "x": 0.775,
          "xanchor": "center",
          "xref": "paper",
          "y": 1,
          "yanchor": "bottom",
          "yref": "paper"
         },
         {
          "font": {
           "size": 16
          },
          "showarrow": false,
          "text": "Prime Member",
          "x": 0.225,
          "xanchor": "center",
          "xref": "paper",
          "y": 0.6111111111111112,
          "yanchor": "bottom",
          "yref": "paper"
         },
         {
          "font": {
           "size": 16
          },
          "showarrow": false,
          "text": "Climate Friendly",
          "x": 0.775,
          "xanchor": "center",
          "xref": "paper",
          "y": 0.6111111111111112,
          "yanchor": "bottom",
          "yref": "paper"
         },
         {
          "font": {
           "size": 16
          },
          "showarrow": false,
          "text": "Has Variations",
          "x": 0.225,
          "xanchor": "center",
          "xref": "paper",
          "y": 0.22222222222222224,
          "yanchor": "bottom",
          "yref": "paper"
         }
        ],
        "height": 1000,
        "template": {
         "data": {
          "bar": [
           {
            "error_x": {
             "color": "#2a3f5f"
            },
            "error_y": {
             "color": "#2a3f5f"
            },
            "marker": {
             "line": {
              "color": "#E5ECF6",
              "width": 0.5
             },
             "pattern": {
              "fillmode": "overlay",
              "size": 10,
              "solidity": 0.2
             }
            },
            "type": "bar"
           }
          ],
          "barpolar": [
           {
            "marker": {
             "line": {
              "color": "#E5ECF6",
              "width": 0.5
             },
             "pattern": {
              "fillmode": "overlay",
              "size": 10,
              "solidity": 0.2
             }
            },
            "type": "barpolar"
           }
          ],
          "carpet": [
           {
            "aaxis": {
             "endlinecolor": "#2a3f5f",
             "gridcolor": "white",
             "linecolor": "white",
             "minorgridcolor": "white",
             "startlinecolor": "#2a3f5f"
            },
            "baxis": {
             "endlinecolor": "#2a3f5f",
             "gridcolor": "white",
             "linecolor": "white",
             "minorgridcolor": "white",
             "startlinecolor": "#2a3f5f"
            },
            "type": "carpet"
           }
          ],
          "choropleth": [
           {
            "colorbar": {
             "outlinewidth": 0,
             "ticks": ""
            },
            "type": "choropleth"
           }
          ],
          "contour": [
           {
            "colorbar": {
             "outlinewidth": 0,
             "ticks": ""
            },
            "colorscale": [
             [
              0,
              "#0d0887"
             ],
             [
              0.1111111111111111,
              "#46039f"
             ],
             [
              0.2222222222222222,
              "#7201a8"
             ],
             [
              0.3333333333333333,
              "#9c179e"
             ],
             [
              0.4444444444444444,
              "#bd3786"
             ],
             [
              0.5555555555555556,
              "#d8576b"
             ],
             [
              0.6666666666666666,
              "#ed7953"
             ],
             [
              0.7777777777777778,
              "#fb9f3a"
             ],
             [
              0.8888888888888888,
              "#fdca26"
             ],
             [
              1,
              "#f0f921"
             ]
            ],
            "type": "contour"
           }
          ],
          "contourcarpet": [
           {
            "colorbar": {
             "outlinewidth": 0,
             "ticks": ""
            },
            "type": "contourcarpet"
           }
          ],
          "heatmap": [
           {
            "colorbar": {
             "outlinewidth": 0,
             "ticks": ""
            },
            "colorscale": [
             [
              0,
              "#0d0887"
             ],
             [
              0.1111111111111111,
              "#46039f"
             ],
             [
              0.2222222222222222,
              "#7201a8"
             ],
             [
              0.3333333333333333,
              "#9c179e"
             ],
             [
              0.4444444444444444,
              "#bd3786"
             ],
             [
              0.5555555555555556,
              "#d8576b"
             ],
             [
              0.6666666666666666,
              "#ed7953"
             ],
             [
              0.7777777777777778,
              "#fb9f3a"
             ],
             [
              0.8888888888888888,
              "#fdca26"
             ],
             [
              1,
              "#f0f921"
             ]
            ],
            "type": "heatmap"
           }
          ],
          "heatmapgl": [
           {
            "colorbar": {
             "outlinewidth": 0,
             "ticks": ""
            },
            "colorscale": [
             [
              0,
              "#0d0887"
             ],
             [
              0.1111111111111111,
              "#46039f"
             ],
             [
              0.2222222222222222,
              "#7201a8"
             ],
             [
              0.3333333333333333,
              "#9c179e"
             ],
             [
              0.4444444444444444,
              "#bd3786"
             ],
             [
              0.5555555555555556,
              "#d8576b"
             ],
             [
              0.6666666666666666,
              "#ed7953"
             ],
             [
              0.7777777777777778,
              "#fb9f3a"
             ],
             [
              0.8888888888888888,
              "#fdca26"
             ],
             [
              1,
              "#f0f921"
             ]
            ],
            "type": "heatmapgl"
           }
          ],
          "histogram": [
           {
            "marker": {
             "pattern": {
              "fillmode": "overlay",
              "size": 10,
              "solidity": 0.2
             }
            },
            "type": "histogram"
           }
          ],
          "histogram2d": [
           {
            "colorbar": {
             "outlinewidth": 0,
             "ticks": ""
            },
            "colorscale": [
             [
              0,
              "#0d0887"
             ],
             [
              0.1111111111111111,
              "#46039f"
             ],
             [
              0.2222222222222222,
              "#7201a8"
             ],
             [
              0.3333333333333333,
              "#9c179e"
             ],
             [
              0.4444444444444444,
              "#bd3786"
             ],
             [
              0.5555555555555556,
              "#d8576b"
             ],
             [
              0.6666666666666666,
              "#ed7953"
             ],
             [
              0.7777777777777778,
              "#fb9f3a"
             ],
             [
              0.8888888888888888,
              "#fdca26"
             ],
             [
              1,
              "#f0f921"
             ]
            ],
            "type": "histogram2d"
           }
          ],
          "histogram2dcontour": [
           {
            "colorbar": {
             "outlinewidth": 0,
             "ticks": ""
            },
            "colorscale": [
             [
              0,
              "#0d0887"
             ],
             [
              0.1111111111111111,
              "#46039f"
             ],
             [
              0.2222222222222222,
              "#7201a8"
             ],
             [
              0.3333333333333333,
              "#9c179e"
             ],
             [
              0.4444444444444444,
              "#bd3786"
             ],
             [
              0.5555555555555556,
              "#d8576b"
             ],
             [
              0.6666666666666666,
              "#ed7953"
             ],
             [
              0.7777777777777778,
              "#fb9f3a"
             ],
             [
              0.8888888888888888,
              "#fdca26"
             ],
             [
              1,
              "#f0f921"
             ]
            ],
            "type": "histogram2dcontour"
           }
          ],
          "mesh3d": [
           {
            "colorbar": {
             "outlinewidth": 0,
             "ticks": ""
            },
            "type": "mesh3d"
           }
          ],
          "parcoords": [
           {
            "line": {
             "colorbar": {
              "outlinewidth": 0,
              "ticks": ""
             }
            },
            "type": "parcoords"
           }
          ],
          "pie": [
           {
            "automargin": true,
            "type": "pie"
           }
          ],
          "scatter": [
           {
            "fillpattern": {
             "fillmode": "overlay",
             "size": 10,
             "solidity": 0.2
            },
            "type": "scatter"
           }
          ],
          "scatter3d": [
           {
            "line": {
             "colorbar": {
              "outlinewidth": 0,
              "ticks": ""
             }
            },
            "marker": {
             "colorbar": {
              "outlinewidth": 0,
              "ticks": ""
             }
            },
            "type": "scatter3d"
           }
          ],
          "scattercarpet": [
           {
            "marker": {
             "colorbar": {
              "outlinewidth": 0,
              "ticks": ""
             }
            },
            "type": "scattercarpet"
           }
          ],
          "scattergeo": [
           {
            "marker": {
             "colorbar": {
              "outlinewidth": 0,
              "ticks": ""
             }
            },
            "type": "scattergeo"
           }
          ],
          "scattergl": [
           {
            "marker": {
             "colorbar": {
              "outlinewidth": 0,
              "ticks": ""
             }
            },
            "type": "scattergl"
           }
          ],
          "scattermapbox": [
           {
            "marker": {
             "colorbar": {
              "outlinewidth": 0,
              "ticks": ""
             }
            },
            "type": "scattermapbox"
           }
          ],
          "scatterpolar": [
           {
            "marker": {
             "colorbar": {
              "outlinewidth": 0,
              "ticks": ""
             }
            },
            "type": "scatterpolar"
           }
          ],
          "scatterpolargl": [
           {
            "marker": {
             "colorbar": {
              "outlinewidth": 0,
              "ticks": ""
             }
            },
            "type": "scatterpolargl"
           }
          ],
          "scatterternary": [
           {
            "marker": {
             "colorbar": {
              "outlinewidth": 0,
              "ticks": ""
             }
            },
            "type": "scatterternary"
           }
          ],
          "surface": [
           {
            "colorbar": {
             "outlinewidth": 0,
             "ticks": ""
            },
            "colorscale": [
             [
              0,
              "#0d0887"
             ],
             [
              0.1111111111111111,
              "#46039f"
             ],
             [
              0.2222222222222222,
              "#7201a8"
             ],
             [
              0.3333333333333333,
              "#9c179e"
             ],
             [
              0.4444444444444444,
              "#bd3786"
             ],
             [
              0.5555555555555556,
              "#d8576b"
             ],
             [
              0.6666666666666666,
              "#ed7953"
             ],
             [
              0.7777777777777778,
              "#fb9f3a"
             ],
             [
              0.8888888888888888,
              "#fdca26"
             ],
             [
              1,
              "#f0f921"
             ]
            ],
            "type": "surface"
           }
          ],
          "table": [
           {
            "cells": {
             "fill": {
              "color": "#EBF0F8"
             },
             "line": {
              "color": "white"
             }
            },
            "header": {
             "fill": {
              "color": "#C8D4E3"
             },
             "line": {
              "color": "white"
             }
            },
            "type": "table"
           }
          ]
         },
         "layout": {
          "annotationdefaults": {
           "arrowcolor": "#2a3f5f",
           "arrowhead": 0,
           "arrowwidth": 1
          },
          "autotypenumbers": "strict",
          "coloraxis": {
           "colorbar": {
            "outlinewidth": 0,
            "ticks": ""
           }
          },
          "colorscale": {
           "diverging": [
            [
             0,
             "#8e0152"
            ],
            [
             0.1,
             "#c51b7d"
            ],
            [
             0.2,
             "#de77ae"
            ],
            [
             0.3,
             "#f1b6da"
            ],
            [
             0.4,
             "#fde0ef"
            ],
            [
             0.5,
             "#f7f7f7"
            ],
            [
             0.6,
             "#e6f5d0"
            ],
            [
             0.7,
             "#b8e186"
            ],
            [
             0.8,
             "#7fbc41"
            ],
            [
             0.9,
             "#4d9221"
            ],
            [
             1,
             "#276419"
            ]
           ],
           "sequential": [
            [
             0,
             "#0d0887"
            ],
            [
             0.1111111111111111,
             "#46039f"
            ],
            [
             0.2222222222222222,
             "#7201a8"
            ],
            [
             0.3333333333333333,
             "#9c179e"
            ],
            [
             0.4444444444444444,
             "#bd3786"
            ],
            [
             0.5555555555555556,
             "#d8576b"
            ],
            [
             0.6666666666666666,
             "#ed7953"
            ],
            [
             0.7777777777777778,
             "#fb9f3a"
            ],
            [
             0.8888888888888888,
             "#fdca26"
            ],
            [
             1,
             "#f0f921"
            ]
           ],
           "sequentialminus": [
            [
             0,
             "#0d0887"
            ],
            [
             0.1111111111111111,
             "#46039f"
            ],
            [
             0.2222222222222222,
             "#7201a8"
            ],
            [
             0.3333333333333333,
             "#9c179e"
            ],
            [
             0.4444444444444444,
             "#bd3786"
            ],
            [
             0.5555555555555556,
             "#d8576b"
            ],
            [
             0.6666666666666666,
             "#ed7953"
            ],
            [
             0.7777777777777778,
             "#fb9f3a"
            ],
            [
             0.8888888888888888,
             "#fdca26"
            ],
            [
             1,
             "#f0f921"
            ]
           ]
          },
          "colorway": [
           "#636efa",
           "#EF553B",
           "#00cc96",
           "#ab63fa",
           "#FFA15A",
           "#19d3f3",
           "#FF6692",
           "#B6E880",
           "#FF97FF",
           "#FECB52"
          ],
          "font": {
           "color": "#2a3f5f"
          },
          "geo": {
           "bgcolor": "white",
           "lakecolor": "white",
           "landcolor": "#E5ECF6",
           "showlakes": true,
           "showland": true,
           "subunitcolor": "white"
          },
          "hoverlabel": {
           "align": "left"
          },
          "hovermode": "closest",
          "mapbox": {
           "style": "light"
          },
          "paper_bgcolor": "white",
          "plot_bgcolor": "#E5ECF6",
          "polar": {
           "angularaxis": {
            "gridcolor": "white",
            "linecolor": "white",
            "ticks": ""
           },
           "bgcolor": "#E5ECF6",
           "radialaxis": {
            "gridcolor": "white",
            "linecolor": "white",
            "ticks": ""
           }
          },
          "scene": {
           "xaxis": {
            "backgroundcolor": "#E5ECF6",
            "gridcolor": "white",
            "gridwidth": 2,
            "linecolor": "white",
            "showbackground": true,
            "ticks": "",
            "zerolinecolor": "white"
           },
           "yaxis": {
            "backgroundcolor": "#E5ECF6",
            "gridcolor": "white",
            "gridwidth": 2,
            "linecolor": "white",
            "showbackground": true,
            "ticks": "",
            "zerolinecolor": "white"
           },
           "zaxis": {
            "backgroundcolor": "#E5ECF6",
            "gridcolor": "white",
            "gridwidth": 2,
            "linecolor": "white",
            "showbackground": true,
            "ticks": "",
            "zerolinecolor": "white"
           }
          },
          "shapedefaults": {
           "line": {
            "color": "#2a3f5f"
           }
          },
          "ternary": {
           "aaxis": {
            "gridcolor": "white",
            "linecolor": "white",
            "ticks": ""
           },
           "baxis": {
            "gridcolor": "white",
            "linecolor": "white",
            "ticks": ""
           },
           "bgcolor": "#E5ECF6",
           "caxis": {
            "gridcolor": "white",
            "linecolor": "white",
            "ticks": ""
           }
          },
          "title": {
           "x": 0.05
          },
          "xaxis": {
           "automargin": true,
           "gridcolor": "white",
           "linecolor": "white",
           "ticks": "",
           "title": {
            "standoff": 15
           },
           "zerolinecolor": "white",
           "zerolinewidth": 2
          },
          "yaxis": {
           "automargin": true,
           "gridcolor": "white",
           "linecolor": "white",
           "ticks": "",
           "title": {
            "standoff": 15
           },
           "zerolinecolor": "white",
           "zerolinewidth": 2
          }
         }
        },
        "title": {
         "text": "Different Field Analysis"
        },
        "width": 1200
       }
      }
     },
     "metadata": {},
     "output_type": "display_data"
    }
   ],
   "source": [
    "# Create subplots with 3 rows and 2 columns\n",
    "fig = make_subplots(\n",
    "    rows=3,\n",
    "    cols=2,\n",
    "    subplot_titles=('Amazon Choice', 'Best Seller', 'Prime Member', 'Climate Friendly', 'Has Variations'),\n",
    "    specs=[[{'type': 'pie'}, {'type': 'pie'}], \n",
    "           [{'type': 'pie'}, {'type': 'pie'}], \n",
    "           [{'type': 'pie'}, None]]\n",
    ")\n",
    "\n",
    "# Add a pie chart for 'is_amazon_choice' in the first subplot\n",
    "fig.add_trace(\n",
    "    go.Pie(labels=dfc['is_amazon_choice'].value_counts().index, \n",
    "           values=dfc['is_amazon_choice'].value_counts().values, \n",
    "           name='Amazon Choice', rotation=50), \n",
    "    row=1, \n",
    "    col=1\n",
    ")\n",
    "\n",
    "# Add a pie chart for 'is_best_seller' in the second subplot\n",
    "fig.add_trace(\n",
    "    go.Pie(labels=dfc['is_best_seller'].value_counts().index, \n",
    "           values=dfc['is_best_seller'].value_counts().values, \n",
    "           name='Best Seller', rotation=50), \n",
    "    row=1, \n",
    "    col=2\n",
    ")\n",
    "\n",
    "# Add a pie chart for 'is_prime' in the third subplot\n",
    "fig.add_trace(\n",
    "    go.Pie(labels=dfc['is_prime'].value_counts().index,\n",
    "           values=dfc['is_prime'].value_counts().values,\n",
    "           name='Prime Member'),\n",
    "    row=2,\n",
    "    col=1\n",
    ")\n",
    "\n",
    "# Add a pie chart for 'climate_pledge_friendly' in the fourth subplot\n",
    "fig.add_trace(\n",
    "    go.Pie(labels=dfc['climate_pledge_friendly'].value_counts().index,\n",
    "           values=dfc['climate_pledge_friendly'].value_counts().values,\n",
    "           name='Climate Friendly'),\n",
    "    row=2,\n",
    "    col=2\n",
    ")\n",
    "\n",
    "# Add a pie chart for 'has_variations' in the fifth subplot\n",
    "fig.add_trace(\n",
    "    go.Pie(labels=dfc['has_variations'].value_counts().index,\n",
    "           values=dfc['has_variations'].value_counts().values,\n",
    "           name='Has Variations'),\n",
    "    row=3,\n",
    "    col=1\n",
    ")\n",
    "\n",
    "# Update layout for better visualization\n",
    "fig.update_layout(\n",
    "    title_text='Different Field Analysis', \n",
    "    height=1000, \n",
    "    width=1200\n",
    ")\n",
    "\n",
    "# Display the figure\n",
    "fig.show()\n"
   ]
  },
  {
   "cell_type": "markdown",
   "metadata": {},
   "source": [
    "<a id=\"36\"></a>\n",
    "### <div style=\"text-align:left; border-radius:15px; padding:20px; color:Black; margin:0; font-size:100%; font-family:Arial; background-color:#48cae4; overflow:hidden\"><b>⚡ 6.Word Cloud of Delivery </b>\n",
    "</div>\n",
    "    <a href=\"#table-of-contents\" style=\"font-family: Arial, sans-serif; font-size: 15px; background-color: #7b2cbf; color: #ffffff; padding: 7px 15px; text-decoration: none; border-radius: 15px;\">\n",
    "        [Table of Content 📜⬆️]\n",
    "    </a>"
   ]
  },
  {
   "cell_type": "code",
   "execution_count": 23,
   "metadata": {},
   "outputs": [
    {
     "data": {
      "image/png": "[encoded data removed]",
      "text/plain": [
       "<Figure size 1000x700 with 1 Axes>"
      ]
     },
     "metadata": {},
     "output_type": "display_data"
    }
   ],
   "source": [
    "# Create a string of text\n",
    "text = ' '.join(dfc['delivery'].astype(str) )\n",
    "\n",
    "# Generate the word cloud\n",
    "wordcloud = WordCloud(width=1000, height=1000, background_color='white').generate(text)\n",
    "\n",
    "# Display the word cloud\n",
    "plt.figure(figsize=(10, 7))\n",
    "plt.imshow(wordcloud, interpolation='bilinear')\n",
    "plt.axis('off')  # Turn off axis\n",
    "plt.title(\"Word Cloud of Delivary\")\n",
    "plt.show()"
   ]
  },
  {
   "cell_type": "markdown",
   "metadata": {},
   "source": [
    "<a id=\"37\"></a>\n",
    "### <div style=\"text-align:left; border-radius:15px; padding:20px; color:Black; margin:0; font-size:100%; font-family:Arial; background-color:#48cae4; overflow:hidden\"><b>⚡ 7.Word Cloud of Sales volume </b>\n",
    "<a href=\"#table-of-contents\" style=\"font-family: Arial, sans-serif; font-size: 15px; background-color: #7b2cbf; color: #ffffff; padding: 7px 15px; text-decoration: none; border-radius: 15px;\">\n",
    "        [Table of Content 📜⬆️]\n",
    "</a>\n",
    "</div>"
   ]
  },
  {
   "cell_type": "code",
   "execution_count": 24,
   "metadata": {},
   "outputs": [
    {
     "data": {
      "image/png": "[encoded data removed]",
      "text/plain": [
       "<Figure size 1000x700 with 1 Axes>"
      ]
     },
     "metadata": {},
     "output_type": "display_data"
    }
   ],
   "source": [
    "# Create a string of text \n",
    "text = ' '.join(dfc['sales_volume'].astype(str) )\n",
    "\n",
    "# Generate the word cloud\n",
    "wordcloud = WordCloud(width=1000, height=1000, background_color='white').generate(text)\n",
    "\n",
    "# Display the word cloud\n",
    "plt.figure(figsize=(10, 7))\n",
    "plt.imshow(wordcloud, interpolation='bilinear')\n",
    "plt.axis('off')  # Turn off axis\n",
    "plt.title(\"Word Cloud of Sales Volume\")\n",
    "plt.show()"
   ]
  },
  {
   "cell_type": "markdown",
   "metadata": {},
   "source": [
    "<a id=\"conclusion\"></a>\n",
    "<div style=\"background-color: #48cae4; border-radius: 15px; padding: 20px; text-align: left;\">\n",
    "    <h1 style=\"margin: 0;\">\n",
    "        <b>\n",
    "            <span style=\"color: Black;\">Last but not least, the final chapter</span>\n",
    "            <br><span style=\"color: #ffffff;\">|</span>\n",
    "            <span style=\"color: #FEEC37;\"> Draw an Conclusion 📝\n",
    "            </span>\n",
    "        </b>\n",
    "    </h1>\n",
    "<br>\n",
    "    <a href=\"#table-of-contents\" style=\"font-family: Arial, sans-serif; font-size: 20px; background-color: #7b2cbf; color: #ffffff; padding: 7px 15px; text-decoration: none; border-radius: 15px;\">\n",
    "        [Table of Content 📜⬆️]\n",
    "    </a>\n",
    "</div>\n"
   ]
  },
  {
   "cell_type": "markdown",
   "metadata": {},
   "source": [
    "<div style=\"background-color: #48cae4; border-radius: 15px; padding: 20px; text-align: left;\">\n",
    "<div class=\"alert alert-block alert-info\">\n",
    "<h2><B>Conclusion </B></h2>\n",
    "\n",
    "1. **Product Rating:** The majority of products on the platform have higher ratings, indicating a generally positive customer experience.\n",
    "\n",
    "2. **Price Trends:** During offer periods, there is a noticeable drop in product prices, making it an ideal time for customers to make purchases.\n",
    "\n",
    "3. **Amazon Choice and Best Seller Products:** Both Amazon Choice and Best Seller products represent a small portion of the total, indicating limited availability or selection under these categories.\n",
    "\n",
    "4. **Prime Membership:** Approximately **27%** of the customers are Prime members, suggesting a moderate uptake of the membership benefits.\n",
    "\n",
    "5. **Best Sellers:** Less than **1%** of the products are marked as Best Sellers on Amazon, showing the exclusivity of this label.\n",
    "\n",
    "6. **Product Variations:** A significant **70.6%** of products come with variations, such as different sizes, colors, or models, offering customers more options.\n",
    "\n",
    "7. **Climate Consciousness:** Around **77%** of customers prefer climate-friendly products, highlighting a growing awareness and preference for sustainable options.\n",
    "\n",
    "8. **Customer Attraction:** The term \"FREE DELIVERY\" appears frequently, indicating that customers are highly attracted to products that offer free shipping.\n",
    "\n",
    "These conclusions provide insights into customer preferences, product trends, and market dynamics on the platform.\n",
    "\n",
    "</div>\n"
   ]
  },
  {
   "cell_type": "markdown",
   "metadata": {},
   "source": []
  }
 ],
 "metadata": {
  "kernelspec": {
   "display_name": "Python 3",
   "language": "python",
   "name": "python3"
  },
  "language_info": {
   "codemirror_mode": {
    "name": "ipython",
    "version": 3
   },
   "file_extension": ".py",
   "mimetype": "text/x-python",
   "name": "python",
   "nbconvert_exporter": "python",
   "pygments_lexer": "ipython3",
   "version": "3.12.3"
  }
 },
 "nbformat": 4,
 "nbformat_minor": 2
}
