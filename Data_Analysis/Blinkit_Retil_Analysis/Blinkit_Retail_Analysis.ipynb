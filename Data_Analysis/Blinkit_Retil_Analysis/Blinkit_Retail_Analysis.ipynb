{
 "cells": [
  {
   "cell_type": "markdown",
   "metadata": {},
   "source": [
    "# Understand the Data\n",
    "\n",
    "[Dataset](https://www.kaggle.com/datasets/rishabhbhartiya/taarak-mehta-ka-ooltah-chashmah-episode-dateset)"
   ]
  },
  {
   "cell_type": "code",
   "execution_count": 35,
   "metadata": {},
   "outputs": [],
   "source": [
    "# type: ignore\n",
    "import numpy as np  \n",
    "import pandas as pd\n",
    "import matplotlib.pyplot as plt\n",
    "import seaborn as sns\n",
    "import missingno as msno\n",
    "import squarify\n",
    "\n",
    "import warnings\n",
    "warnings.filterwarnings('ignore')"
   ]
  },
  {
   "cell_type": "code",
   "execution_count": 36,
   "metadata": {},
   "outputs": [
    {
     "data": {
      "text/html": [
       "<div>\n",
       "<style scoped>\n",
       "    .dataframe tbody tr th:only-of-type {\n",
       "        vertical-align: middle;\n",
       "    }\n",
       "\n",
       "    .dataframe tbody tr th {\n",
       "        vertical-align: top;\n",
       "    }\n",
       "\n",
       "    .dataframe thead th {\n",
       "        text-align: right;\n",
       "    }\n",
       "</style>\n",
       "<table border=\"1\" class=\"dataframe\">\n",
       "  <thead>\n",
       "    <tr style=\"text-align: right;\">\n",
       "      <th></th>\n",
       "      <th>Title</th>\n",
       "      <th>Price_discount</th>\n",
       "      <th>Price_original</th>\n",
       "      <th>Details</th>\n",
       "      <th>Tag</th>\n",
       "      <th>Date</th>\n",
       "      <th>Place</th>\n",
       "    </tr>\n",
       "  </thead>\n",
       "  <tbody>\n",
       "    <tr>\n",
       "      <th>30178</th>\n",
       "      <td>Diary Of A Wimpy Kid - Box Of Books (Books 1 -...</td>\n",
       "      <td>â¹ 2,399</td>\n",
       "      <td>â¹ 3,999</td>\n",
       "      <td>Jeff Kinney</td>\n",
       "      <td>NaN</td>\n",
       "      <td>20240119</td>\n",
       "      <td>Mumbai</td>\n",
       "    </tr>\n",
       "    <tr>\n",
       "      <th>33554</th>\n",
       "      <td>Moi Soi Soi Udon Flat Noodles + Soi Veg Long H...</td>\n",
       "      <td>â¹ 164</td>\n",
       "      <td>â¹ 198</td>\n",
       "      <td>150 g + 150 g</td>\n",
       "      <td>Out of Stock</td>\n",
       "      <td>20240121</td>\n",
       "      <td>Chennai</td>\n",
       "    </tr>\n",
       "    <tr>\n",
       "      <th>43356</th>\n",
       "      <td>Kimirica Madagascar Vanilla Winter Hand Cream ...</td>\n",
       "      <td>â¹399</td>\n",
       "      <td>NaN</td>\n",
       "      <td>30 ml</td>\n",
       "      <td>NaN</td>\n",
       "      <td>20240122</td>\n",
       "      <td>Bengaluru</td>\n",
       "    </tr>\n",
       "    <tr>\n",
       "      <th>85415</th>\n",
       "      <td>Lay's Spanish Tomato Tango Potato Chips</td>\n",
       "      <td>â¹20</td>\n",
       "      <td>NaN</td>\n",
       "      <td>40 g</td>\n",
       "      <td>NaN</td>\n",
       "      <td>20240128</td>\n",
       "      <td>Bengaluru</td>\n",
       "    </tr>\n",
       "    <tr>\n",
       "      <th>25303</th>\n",
       "      <td>Jivo Pomace Olive Oil</td>\n",
       "      <td>â¹ 450</td>\n",
       "      <td>â¹ 1,049</td>\n",
       "      <td>1 l</td>\n",
       "      <td>NaN</td>\n",
       "      <td>20240119</td>\n",
       "      <td>Delhi</td>\n",
       "    </tr>\n",
       "    <tr>\n",
       "      <th>23395</th>\n",
       "      <td>Borges Extra Virgin Olive Oil</td>\n",
       "      <td>â¹ 1,166</td>\n",
       "      <td>â¹ 2,000</td>\n",
       "      <td>1 l</td>\n",
       "      <td>NaN</td>\n",
       "      <td>20240119</td>\n",
       "      <td>Chennai</td>\n",
       "    </tr>\n",
       "    <tr>\n",
       "      <th>54748</th>\n",
       "      <td>Sponge Gourd (Tori)</td>\n",
       "      <td>â¹58</td>\n",
       "      <td>â¹79</td>\n",
       "      <td>400 g - 500 g</td>\n",
       "      <td>NaN</td>\n",
       "      <td>20240123</td>\n",
       "      <td>Chennai</td>\n",
       "    </tr>\n",
       "  </tbody>\n",
       "</table>\n",
       "</div>"
      ],
      "text/plain": [
       "                                                   Title Price_discount  \\\n",
       "30178  Diary Of A Wimpy Kid - Box Of Books (Books 1 -...      â¹ 2,399   \n",
       "33554  Moi Soi Soi Udon Flat Noodles + Soi Veg Long H...        â¹ 164   \n",
       "43356  Kimirica Madagascar Vanilla Winter Hand Cream ...         â¹399   \n",
       "85415            Lay's Spanish Tomato Tango Potato Chips          â¹20   \n",
       "25303                              Jivo Pomace Olive Oil        â¹ 450   \n",
       "23395                      Borges Extra Virgin Olive Oil      â¹ 1,166   \n",
       "54748                                Sponge Gourd (Tori)          â¹58   \n",
       "\n",
       "      Price_original        Details           Tag      Date      Place  \n",
       "30178      â¹ 3,999    Jeff Kinney           NaN  20240119     Mumbai  \n",
       "33554        â¹ 198  150 g + 150 g  Out of Stock  20240121    Chennai  \n",
       "43356            NaN          30 ml           NaN  20240122  Bengaluru  \n",
       "85415            NaN           40 g           NaN  20240128  Bengaluru  \n",
       "25303      â¹ 1,049            1 l           NaN  20240119      Delhi  \n",
       "23395      â¹ 2,000            1 l           NaN  20240119    Chennai  \n",
       "54748          â¹79  400 g - 500 g           NaN  20240123    Chennai  "
      ]
     },
     "execution_count": 36,
     "metadata": {},
     "output_type": "execute_result"
    }
   ],
   "source": [
    "source = r'C:\\Users\\Rudra\\Downloads\\Python_Pandas_profiling\\Blinkit_Retil_Analysis\\blinkit_retail.csv'\n",
    "df = pd.read_csv(source, encoding= 'unicode_escape')\n",
    "df.sample(7)"
   ]
  },
  {
   "cell_type": "code",
   "execution_count": 37,
   "metadata": {},
   "outputs": [
    {
     "data": {
      "text/plain": [
       "(116554, 7)"
      ]
     },
     "execution_count": 37,
     "metadata": {},
     "output_type": "execute_result"
    }
   ],
   "source": [
    "df.shape"
   ]
  },
  {
   "cell_type": "code",
   "execution_count": 38,
   "metadata": {},
   "outputs": [
    {
     "data": {
      "text/plain": [
       "815878"
      ]
     },
     "execution_count": 38,
     "metadata": {},
     "output_type": "execute_result"
    }
   ],
   "source": [
    "df.size"
   ]
  },
  {
   "cell_type": "code",
   "execution_count": 39,
   "metadata": {},
   "outputs": [
    {
     "name": "stdout",
     "output_type": "stream",
     "text": [
      "<class 'pandas.core.frame.DataFrame'>\n",
      "RangeIndex: 116554 entries, 0 to 116553\n",
      "Data columns (total 7 columns):\n",
      " #   Column          Non-Null Count   Dtype \n",
      "---  ------          --------------   ----- \n",
      " 0   Title           116554 non-null  object\n",
      " 1   Price_discount  116553 non-null  object\n",
      " 2   Price_original  99047 non-null   object\n",
      " 3   Details         88227 non-null   object\n",
      " 4   Tag             10521 non-null   object\n",
      " 5   Date            116554 non-null  int64 \n",
      " 6   Place           116554 non-null  object\n",
      "dtypes: int64(1), object(6)\n",
      "memory usage: 6.2+ MB\n"
     ]
    }
   ],
   "source": [
    "df.info()"
   ]
  },
  {
   "cell_type": "code",
   "execution_count": 40,
   "metadata": {},
   "outputs": [
    {
     "data": {
      "text/html": [
       "<div>\n",
       "<style scoped>\n",
       "    .dataframe tbody tr th:only-of-type {\n",
       "        vertical-align: middle;\n",
       "    }\n",
       "\n",
       "    .dataframe tbody tr th {\n",
       "        vertical-align: top;\n",
       "    }\n",
       "\n",
       "    .dataframe thead th {\n",
       "        text-align: right;\n",
       "    }\n",
       "</style>\n",
       "<table border=\"1\" class=\"dataframe\">\n",
       "  <thead>\n",
       "    <tr style=\"text-align: right;\">\n",
       "      <th></th>\n",
       "      <th>Title</th>\n",
       "      <th>Price_discount</th>\n",
       "      <th>Price_original</th>\n",
       "      <th>Details</th>\n",
       "      <th>Tag</th>\n",
       "      <th>Date</th>\n",
       "      <th>Place</th>\n",
       "    </tr>\n",
       "  </thead>\n",
       "  <tbody>\n",
       "    <tr>\n",
       "      <th>count</th>\n",
       "      <td>116554</td>\n",
       "      <td>116553</td>\n",
       "      <td>99047</td>\n",
       "      <td>88227</td>\n",
       "      <td>10521</td>\n",
       "      <td>1.165540e+05</td>\n",
       "      <td>116554</td>\n",
       "    </tr>\n",
       "    <tr>\n",
       "      <th>unique</th>\n",
       "      <td>2467</td>\n",
       "      <td>1691</td>\n",
       "      <td>1151</td>\n",
       "      <td>486</td>\n",
       "      <td>1</td>\n",
       "      <td>NaN</td>\n",
       "      <td>5</td>\n",
       "    </tr>\n",
       "    <tr>\n",
       "      <th>top</th>\n",
       "      <td>Kissan Fresh Tomato Ketchup</td>\n",
       "      <td>â¹99</td>\n",
       "      <td>â¹399</td>\n",
       "      <td>Wonder House Books Editorial Team</td>\n",
       "      <td>Out of Stock</td>\n",
       "      <td>NaN</td>\n",
       "      <td>Mumbai</td>\n",
       "    </tr>\n",
       "    <tr>\n",
       "      <th>freq</th>\n",
       "      <td>165</td>\n",
       "      <td>1364</td>\n",
       "      <td>1405</td>\n",
       "      <td>4674</td>\n",
       "      <td>10521</td>\n",
       "      <td>NaN</td>\n",
       "      <td>23623</td>\n",
       "    </tr>\n",
       "    <tr>\n",
       "      <th>mean</th>\n",
       "      <td>NaN</td>\n",
       "      <td>NaN</td>\n",
       "      <td>NaN</td>\n",
       "      <td>NaN</td>\n",
       "      <td>NaN</td>\n",
       "      <td>2.024013e+07</td>\n",
       "      <td>NaN</td>\n",
       "    </tr>\n",
       "    <tr>\n",
       "      <th>std</th>\n",
       "      <td>NaN</td>\n",
       "      <td>NaN</td>\n",
       "      <td>NaN</td>\n",
       "      <td>NaN</td>\n",
       "      <td>NaN</td>\n",
       "      <td>2.256254e+01</td>\n",
       "      <td>NaN</td>\n",
       "    </tr>\n",
       "    <tr>\n",
       "      <th>min</th>\n",
       "      <td>NaN</td>\n",
       "      <td>NaN</td>\n",
       "      <td>NaN</td>\n",
       "      <td>NaN</td>\n",
       "      <td>NaN</td>\n",
       "      <td>2.024012e+07</td>\n",
       "      <td>NaN</td>\n",
       "    </tr>\n",
       "    <tr>\n",
       "      <th>25%</th>\n",
       "      <td>NaN</td>\n",
       "      <td>NaN</td>\n",
       "      <td>NaN</td>\n",
       "      <td>NaN</td>\n",
       "      <td>NaN</td>\n",
       "      <td>2.024012e+07</td>\n",
       "      <td>NaN</td>\n",
       "    </tr>\n",
       "    <tr>\n",
       "      <th>50%</th>\n",
       "      <td>NaN</td>\n",
       "      <td>NaN</td>\n",
       "      <td>NaN</td>\n",
       "      <td>NaN</td>\n",
       "      <td>NaN</td>\n",
       "      <td>2.024012e+07</td>\n",
       "      <td>NaN</td>\n",
       "    </tr>\n",
       "    <tr>\n",
       "      <th>75%</th>\n",
       "      <td>NaN</td>\n",
       "      <td>NaN</td>\n",
       "      <td>NaN</td>\n",
       "      <td>NaN</td>\n",
       "      <td>NaN</td>\n",
       "      <td>2.024013e+07</td>\n",
       "      <td>NaN</td>\n",
       "    </tr>\n",
       "    <tr>\n",
       "      <th>max</th>\n",
       "      <td>NaN</td>\n",
       "      <td>NaN</td>\n",
       "      <td>NaN</td>\n",
       "      <td>NaN</td>\n",
       "      <td>NaN</td>\n",
       "      <td>2.024020e+07</td>\n",
       "      <td>NaN</td>\n",
       "    </tr>\n",
       "  </tbody>\n",
       "</table>\n",
       "</div>"
      ],
      "text/plain": [
       "                              Title Price_discount Price_original  \\\n",
       "count                        116554         116553          99047   \n",
       "unique                         2467           1691           1151   \n",
       "top     Kissan Fresh Tomato Ketchup          â¹99         â¹399   \n",
       "freq                            165           1364           1405   \n",
       "mean                            NaN            NaN            NaN   \n",
       "std                             NaN            NaN            NaN   \n",
       "min                             NaN            NaN            NaN   \n",
       "25%                             NaN            NaN            NaN   \n",
       "50%                             NaN            NaN            NaN   \n",
       "75%                             NaN            NaN            NaN   \n",
       "max                             NaN            NaN            NaN   \n",
       "\n",
       "                                  Details           Tag          Date   Place  \n",
       "count                               88227         10521  1.165540e+05  116554  \n",
       "unique                                486             1           NaN       5  \n",
       "top     Wonder House Books Editorial Team  Out of Stock           NaN  Mumbai  \n",
       "freq                                 4674         10521           NaN   23623  \n",
       "mean                                  NaN           NaN  2.024013e+07     NaN  \n",
       "std                                   NaN           NaN  2.256254e+01     NaN  \n",
       "min                                   NaN           NaN  2.024012e+07     NaN  \n",
       "25%                                   NaN           NaN  2.024012e+07     NaN  \n",
       "50%                                   NaN           NaN  2.024012e+07     NaN  \n",
       "75%                                   NaN           NaN  2.024013e+07     NaN  \n",
       "max                                   NaN           NaN  2.024020e+07     NaN  "
      ]
     },
     "execution_count": 40,
     "metadata": {},
     "output_type": "execute_result"
    }
   ],
   "source": [
    "df.describe(include='all')"
   ]
  },
  {
   "cell_type": "markdown",
   "metadata": {},
   "source": [
    "# Clean the Data\n",
    "\n",
    "Dirty Data (Quality issues) \n",
    "All are Accuracy issues \n",
    "1. Make Price_discount and Price_original into proper format \n",
    "2. Price_discount and Price_original change the datatype into int64 ()\n",
    "3. change the Date Colum into daytime datatype"
   ]
  },
  {
   "cell_type": "code",
   "execution_count": 41,
   "metadata": {},
   "outputs": [
    {
     "data": {
      "text/plain": [
       "<Axes: >"
      ]
     },
     "execution_count": 41,
     "metadata": {},
     "output_type": "execute_result"
    },
    {
     "data": {
      "image/png": "[encoded data removed]",
      "text/plain": [
       "<Figure size 1200x800 with 3 Axes>"
      ]
     },
     "metadata": {},
     "output_type": "display_data"
    }
   ],
   "source": [
    "msno.bar(df, figsize=(12, 8))\n"
   ]
  },
  {
   "cell_type": "code",
   "execution_count": 42,
   "metadata": {},
   "outputs": [
    {
     "data": {
      "text/plain": [
       "Title                  0\n",
       "Price_discount         1\n",
       "Price_original     17507\n",
       "Details            28327\n",
       "Tag               106033\n",
       "Date                   0\n",
       "Place                  0\n",
       "dtype: int64"
      ]
     },
     "execution_count": 42,
     "metadata": {},
     "output_type": "execute_result"
    }
   ],
   "source": [
    "df.isnull().sum()"
   ]
  },
  {
   "cell_type": "code",
   "execution_count": 43,
   "metadata": {},
   "outputs": [
    {
     "data": {
      "text/html": [
       "<div>\n",
       "<style scoped>\n",
       "    .dataframe tbody tr th:only-of-type {\n",
       "        vertical-align: middle;\n",
       "    }\n",
       "\n",
       "    .dataframe tbody tr th {\n",
       "        vertical-align: top;\n",
       "    }\n",
       "\n",
       "    .dataframe thead th {\n",
       "        text-align: right;\n",
       "    }\n",
       "</style>\n",
       "<table border=\"1\" class=\"dataframe\">\n",
       "  <thead>\n",
       "    <tr style=\"text-align: right;\">\n",
       "      <th></th>\n",
       "      <th>Title</th>\n",
       "      <th>Price_discount</th>\n",
       "      <th>Price_original</th>\n",
       "      <th>Details</th>\n",
       "      <th>Tag</th>\n",
       "      <th>Date</th>\n",
       "      <th>Place</th>\n",
       "    </tr>\n",
       "  </thead>\n",
       "  <tbody>\n",
       "    <tr>\n",
       "      <th>0</th>\n",
       "      <td>Onion 1 kg (Pyaz)</td>\n",
       "      <td>â¹ 40</td>\n",
       "      <td>â¹ 50</td>\n",
       "      <td>NaN</td>\n",
       "      <td>NaN</td>\n",
       "      <td>20240117</td>\n",
       "      <td>Bengaluru</td>\n",
       "    </tr>\n",
       "    <tr>\n",
       "      <th>1</th>\n",
       "      <td>Desi Tomato (Tamatar)</td>\n",
       "      <td>â¹ 19</td>\n",
       "      <td>â¹ 25</td>\n",
       "      <td>NaN</td>\n",
       "      <td>NaN</td>\n",
       "      <td>20240117</td>\n",
       "      <td>Bengaluru</td>\n",
       "    </tr>\n",
       "    <tr>\n",
       "      <th>2</th>\n",
       "      <td>Red Carrot (Gajar)</td>\n",
       "      <td>â¹ 15</td>\n",
       "      <td>â¹ 20</td>\n",
       "      <td>500 g</td>\n",
       "      <td>NaN</td>\n",
       "      <td>20240117</td>\n",
       "      <td>Bengaluru</td>\n",
       "    </tr>\n",
       "    <tr>\n",
       "      <th>3</th>\n",
       "      <td>Ginger (Adrak)</td>\n",
       "      <td>â¹ 37</td>\n",
       "      <td>â¹ 49</td>\n",
       "      <td>200 g</td>\n",
       "      <td>NaN</td>\n",
       "      <td>20240117</td>\n",
       "      <td>Bengaluru</td>\n",
       "    </tr>\n",
       "    <tr>\n",
       "      <th>4</th>\n",
       "      <td>Green Chilli (Hari Mirch)</td>\n",
       "      <td>â¹ 11</td>\n",
       "      <td>â¹ 14</td>\n",
       "      <td>100 g</td>\n",
       "      <td>NaN</td>\n",
       "      <td>20240117</td>\n",
       "      <td>Bengaluru</td>\n",
       "    </tr>\n",
       "    <tr>\n",
       "      <th>...</th>\n",
       "      <td>...</td>\n",
       "      <td>...</td>\n",
       "      <td>...</td>\n",
       "      <td>...</td>\n",
       "      <td>...</td>\n",
       "      <td>...</td>\n",
       "      <td>...</td>\n",
       "    </tr>\n",
       "    <tr>\n",
       "      <th>116549</th>\n",
       "      <td>151 Interior Dehumidifier (Rose)</td>\n",
       "      <td>â¹299</td>\n",
       "      <td>NaN</td>\n",
       "      <td>225 g</td>\n",
       "      <td>NaN</td>\n",
       "      <td>20240201</td>\n",
       "      <td>Mumbai</td>\n",
       "    </tr>\n",
       "    <tr>\n",
       "      <th>116550</th>\n",
       "      <td>151 Interior Dehumidifier with Air Freshener</td>\n",
       "      <td>â¹299</td>\n",
       "      <td>NaN</td>\n",
       "      <td>225 g</td>\n",
       "      <td>NaN</td>\n",
       "      <td>20240201</td>\n",
       "      <td>Mumbai</td>\n",
       "    </tr>\n",
       "    <tr>\n",
       "      <th>116551</th>\n",
       "      <td>151 Interior Dehumidifier (Lemon)</td>\n",
       "      <td>â¹299</td>\n",
       "      <td>NaN</td>\n",
       "      <td>225 g</td>\n",
       "      <td>NaN</td>\n",
       "      <td>20240201</td>\n",
       "      <td>Mumbai</td>\n",
       "    </tr>\n",
       "    <tr>\n",
       "      <th>116552</th>\n",
       "      <td>151 Interior Dehumidifier (Vanilla)</td>\n",
       "      <td>â¹299</td>\n",
       "      <td>NaN</td>\n",
       "      <td>225 g</td>\n",
       "      <td>NaN</td>\n",
       "      <td>20240201</td>\n",
       "      <td>Mumbai</td>\n",
       "    </tr>\n",
       "    <tr>\n",
       "      <th>116553</th>\n",
       "      <td>151 Hanging Wardrobe Dehumidifier (Fresh Linen)</td>\n",
       "      <td>â¹299</td>\n",
       "      <td>NaN</td>\n",
       "      <td>180 g</td>\n",
       "      <td>NaN</td>\n",
       "      <td>20240201</td>\n",
       "      <td>Mumbai</td>\n",
       "    </tr>\n",
       "  </tbody>\n",
       "</table>\n",
       "<p>116554 rows × 7 columns</p>\n",
       "</div>"
      ],
      "text/plain": [
       "                                                  Title Price_discount  \\\n",
       "0                                     Onion 1 kg (Pyaz)         â¹ 40   \n",
       "1                                 Desi Tomato (Tamatar)         â¹ 19   \n",
       "2                                    Red Carrot (Gajar)         â¹ 15   \n",
       "3                                        Ginger (Adrak)         â¹ 37   \n",
       "4                             Green Chilli (Hari Mirch)         â¹ 11   \n",
       "...                                                 ...            ...   \n",
       "116549                 151 Interior Dehumidifier (Rose)         â¹299   \n",
       "116550     151 Interior Dehumidifier with Air Freshener         â¹299   \n",
       "116551                151 Interior Dehumidifier (Lemon)         â¹299   \n",
       "116552              151 Interior Dehumidifier (Vanilla)         â¹299   \n",
       "116553  151 Hanging Wardrobe Dehumidifier (Fresh Linen)         â¹299   \n",
       "\n",
       "       Price_original Details  Tag      Date      Place  \n",
       "0              â¹ 50     NaN  NaN  20240117  Bengaluru  \n",
       "1              â¹ 25     NaN  NaN  20240117  Bengaluru  \n",
       "2              â¹ 20   500 g  NaN  20240117  Bengaluru  \n",
       "3              â¹ 49   200 g  NaN  20240117  Bengaluru  \n",
       "4              â¹ 14   100 g  NaN  20240117  Bengaluru  \n",
       "...               ...     ...  ...       ...        ...  \n",
       "116549            NaN   225 g  NaN  20240201     Mumbai  \n",
       "116550            NaN   225 g  NaN  20240201     Mumbai  \n",
       "116551            NaN   225 g  NaN  20240201     Mumbai  \n",
       "116552            NaN   225 g  NaN  20240201     Mumbai  \n",
       "116553            NaN   180 g  NaN  20240201     Mumbai  \n",
       "\n",
       "[116554 rows x 7 columns]"
      ]
     },
     "execution_count": 43,
     "metadata": {},
     "output_type": "execute_result"
    }
   ],
   "source": [
    "df"
   ]
  },
  {
   "cell_type": "code",
   "execution_count": 44,
   "metadata": {},
   "outputs": [
    {
     "data": {
      "text/plain": [
       "<Axes: >"
      ]
     },
     "execution_count": 44,
     "metadata": {},
     "output_type": "execute_result"
    },
    {
     "data": {
      "image/png": "[encoded data removed]",
      "text/plain": [
       "<Figure size 2500x1000 with 2 Axes>"
      ]
     },
     "metadata": {},
     "output_type": "display_data"
    }
   ],
   "source": [
    "msno.matrix(df)"
   ]
  },
  {
   "cell_type": "markdown",
   "metadata": {},
   "source": [
    "# Dirty Data (Quality issues) "
   ]
  },
  {
   "cell_type": "markdown",
   "metadata": {},
   "source": [
    "## 1. Make Price_discount and Price_original into proper format \n"
   ]
  },
  {
   "cell_type": "code",
   "execution_count": 45,
   "metadata": {},
   "outputs": [
    {
     "data": {
      "text/html": [
       "<div>\n",
       "<style scoped>\n",
       "    .dataframe tbody tr th:only-of-type {\n",
       "        vertical-align: middle;\n",
       "    }\n",
       "\n",
       "    .dataframe tbody tr th {\n",
       "        vertical-align: top;\n",
       "    }\n",
       "\n",
       "    .dataframe thead th {\n",
       "        text-align: right;\n",
       "    }\n",
       "</style>\n",
       "<table border=\"1\" class=\"dataframe\">\n",
       "  <thead>\n",
       "    <tr style=\"text-align: right;\">\n",
       "      <th></th>\n",
       "      <th>Price_discount</th>\n",
       "      <th>Price_original</th>\n",
       "    </tr>\n",
       "  </thead>\n",
       "  <tbody>\n",
       "    <tr>\n",
       "      <th>25098</th>\n",
       "      <td>â¹ 216</td>\n",
       "      <td>â¹ 240</td>\n",
       "    </tr>\n",
       "    <tr>\n",
       "      <th>47381</th>\n",
       "      <td>â¹1199</td>\n",
       "      <td>â¹1999</td>\n",
       "    </tr>\n",
       "    <tr>\n",
       "      <th>77755</th>\n",
       "      <td>â¹ 129</td>\n",
       "      <td>â¹ 199</td>\n",
       "    </tr>\n",
       "    <tr>\n",
       "      <th>82727</th>\n",
       "      <td>â¹818</td>\n",
       "      <td>â¹1100</td>\n",
       "    </tr>\n",
       "    <tr>\n",
       "      <th>70348</th>\n",
       "      <td>â¹ 245</td>\n",
       "      <td>â¹ 258</td>\n",
       "    </tr>\n",
       "    <tr>\n",
       "      <th>62503</th>\n",
       "      <td>â¹140</td>\n",
       "      <td>â¹150</td>\n",
       "    </tr>\n",
       "    <tr>\n",
       "      <th>41235</th>\n",
       "      <td>â¹623</td>\n",
       "      <td>â¹635</td>\n",
       "    </tr>\n",
       "  </tbody>\n",
       "</table>\n",
       "</div>"
      ],
      "text/plain": [
       "      Price_discount Price_original\n",
       "25098        â¹ 216        â¹ 240\n",
       "47381        â¹1199        â¹1999\n",
       "77755        â¹ 129        â¹ 199\n",
       "82727         â¹818        â¹1100\n",
       "70348        â¹ 245        â¹ 258\n",
       "62503         â¹140         â¹150\n",
       "41235         â¹623         â¹635"
      ]
     },
     "execution_count": 45,
     "metadata": {},
     "output_type": "execute_result"
    }
   ],
   "source": [
    "df[['Price_discount', 'Price_original']].sample(7)"
   ]
  },
  {
   "cell_type": "code",
   "execution_count": 46,
   "metadata": {},
   "outputs": [],
   "source": [
    "import numpy as np\n",
    "\n",
    "def clean_currency(x):\n",
    "    if isinstance(x, str): \n",
    "        x = x.replace('â¹', '') \n",
    "        x = x.replace(',', '').strip()  \n",
    "        if x.lower() == 'nan' or x == '':  \n",
    "            return np.nan\n",
    "        try:\n",
    "            return float(x) \n",
    "        except ValueError:\n",
    "            return np.nan  \n",
    "    return x \n"
   ]
  },
  {
   "cell_type": "code",
   "execution_count": 47,
   "metadata": {},
   "outputs": [],
   "source": [
    "df['Price_discount'] = df['Price_discount'].apply(clean_currency)\n",
    "df['Price_original'] = df['Price_original'].apply(clean_currency)\n"
   ]
  },
  {
   "cell_type": "markdown",
   "metadata": {},
   "source": [
    "## 2. Price_discount and Price_original change the datatype into int64 ()\n"
   ]
  },
  {
   "cell_type": "code",
   "execution_count": 48,
   "metadata": {},
   "outputs": [
    {
     "name": "stdout",
     "output_type": "stream",
     "text": [
      "<class 'pandas.core.frame.DataFrame'>\n",
      "RangeIndex: 116554 entries, 0 to 116553\n",
      "Data columns (total 7 columns):\n",
      " #   Column          Non-Null Count   Dtype  \n",
      "---  ------          --------------   -----  \n",
      " 0   Title           116554 non-null  object \n",
      " 1   Price_discount  116553 non-null  float64\n",
      " 2   Price_original  99047 non-null   float64\n",
      " 3   Details         88227 non-null   object \n",
      " 4   Tag             10521 non-null   object \n",
      " 5   Date            116554 non-null  int64  \n",
      " 6   Place           116554 non-null  object \n",
      "dtypes: float64(2), int64(1), object(4)\n",
      "memory usage: 6.2+ MB\n"
     ]
    }
   ],
   "source": [
    "df.info()"
   ]
  },
  {
   "cell_type": "code",
   "execution_count": 49,
   "metadata": {},
   "outputs": [
    {
     "data": {
      "text/html": [
       "<div>\n",
       "<style scoped>\n",
       "    .dataframe tbody tr th:only-of-type {\n",
       "        vertical-align: middle;\n",
       "    }\n",
       "\n",
       "    .dataframe tbody tr th {\n",
       "        vertical-align: top;\n",
       "    }\n",
       "\n",
       "    .dataframe thead th {\n",
       "        text-align: right;\n",
       "    }\n",
       "</style>\n",
       "<table border=\"1\" class=\"dataframe\">\n",
       "  <thead>\n",
       "    <tr style=\"text-align: right;\">\n",
       "      <th></th>\n",
       "      <th>Title</th>\n",
       "      <th>Price_discount</th>\n",
       "      <th>Price_original</th>\n",
       "      <th>Details</th>\n",
       "      <th>Tag</th>\n",
       "      <th>Date</th>\n",
       "      <th>Place</th>\n",
       "    </tr>\n",
       "  </thead>\n",
       "  <tbody>\n",
       "    <tr>\n",
       "      <th>6625</th>\n",
       "      <td>Praakritik Cold Pressed Organic Sesame Oil</td>\n",
       "      <td>381.0</td>\n",
       "      <td>495.0</td>\n",
       "      <td>500 ml</td>\n",
       "      <td>NaN</td>\n",
       "      <td>20240117</td>\n",
       "      <td>Kolkata</td>\n",
       "    </tr>\n",
       "    <tr>\n",
       "      <th>75779</th>\n",
       "      <td>My First 5 Minutes Fairy Tales Jack And The Be...</td>\n",
       "      <td>69.0</td>\n",
       "      <td>79.0</td>\n",
       "      <td>Wonder House Books</td>\n",
       "      <td>Out of Stock</td>\n",
       "      <td>20240125</td>\n",
       "      <td>Bengaluru</td>\n",
       "    </tr>\n",
       "    <tr>\n",
       "      <th>4250</th>\n",
       "      <td>Saffron Chin Chin Hakka Noodles</td>\n",
       "      <td>120.0</td>\n",
       "      <td>NaN</td>\n",
       "      <td>600 g</td>\n",
       "      <td>NaN</td>\n",
       "      <td>20240117</td>\n",
       "      <td>Delhi</td>\n",
       "    </tr>\n",
       "  </tbody>\n",
       "</table>\n",
       "</div>"
      ],
      "text/plain": [
       "                                                   Title  Price_discount  \\\n",
       "6625          Praakritik Cold Pressed Organic Sesame Oil           381.0   \n",
       "75779  My First 5 Minutes Fairy Tales Jack And The Be...            69.0   \n",
       "4250                     Saffron Chin Chin Hakka Noodles           120.0   \n",
       "\n",
       "       Price_original             Details           Tag      Date      Place  \n",
       "6625            495.0              500 ml           NaN  20240117    Kolkata  \n",
       "75779            79.0  Wonder House Books  Out of Stock  20240125  Bengaluru  \n",
       "4250              NaN               600 g           NaN  20240117      Delhi  "
      ]
     },
     "execution_count": 49,
     "metadata": {},
     "output_type": "execute_result"
    }
   ],
   "source": [
    "df.sample(3)"
   ]
  },
  {
   "cell_type": "markdown",
   "metadata": {},
   "source": [
    "## 3. change the Date Colum into daytime datatype"
   ]
  },
  {
   "cell_type": "code",
   "execution_count": 50,
   "metadata": {},
   "outputs": [],
   "source": [
    "df['Date'] = pd.to_datetime(df['Date'], format='%Y%m%d')"
   ]
  },
  {
   "cell_type": "code",
   "execution_count": 51,
   "metadata": {},
   "outputs": [
    {
     "name": "stdout",
     "output_type": "stream",
     "text": [
      "<class 'pandas.core.frame.DataFrame'>\n",
      "RangeIndex: 116554 entries, 0 to 116553\n",
      "Data columns (total 7 columns):\n",
      " #   Column          Non-Null Count   Dtype         \n",
      "---  ------          --------------   -----         \n",
      " 0   Title           116554 non-null  object        \n",
      " 1   Price_discount  116553 non-null  float64       \n",
      " 2   Price_original  99047 non-null   float64       \n",
      " 3   Details         88227 non-null   object        \n",
      " 4   Tag             10521 non-null   object        \n",
      " 5   Date            116554 non-null  datetime64[ns]\n",
      " 6   Place           116554 non-null  object        \n",
      "dtypes: datetime64[ns](1), float64(2), object(4)\n",
      "memory usage: 6.2+ MB\n"
     ]
    }
   ],
   "source": [
    "df.info()"
   ]
  },
  {
   "cell_type": "code",
   "execution_count": 52,
   "metadata": {},
   "outputs": [
    {
     "data": {
      "text/html": [
       "<div>\n",
       "<style scoped>\n",
       "    .dataframe tbody tr th:only-of-type {\n",
       "        vertical-align: middle;\n",
       "    }\n",
       "\n",
       "    .dataframe tbody tr th {\n",
       "        vertical-align: top;\n",
       "    }\n",
       "\n",
       "    .dataframe thead th {\n",
       "        text-align: right;\n",
       "    }\n",
       "</style>\n",
       "<table border=\"1\" class=\"dataframe\">\n",
       "  <thead>\n",
       "    <tr style=\"text-align: right;\">\n",
       "      <th></th>\n",
       "      <th>Title</th>\n",
       "      <th>Price_discount</th>\n",
       "      <th>Price_original</th>\n",
       "      <th>Details</th>\n",
       "      <th>Tag</th>\n",
       "      <th>Date</th>\n",
       "      <th>Place</th>\n",
       "    </tr>\n",
       "  </thead>\n",
       "  <tbody>\n",
       "    <tr>\n",
       "      <th>5419</th>\n",
       "      <td>Vega Blooming Air Hair Dryer (Pink &amp; White, 10...</td>\n",
       "      <td>699.0</td>\n",
       "      <td>999.0</td>\n",
       "      <td>NaN</td>\n",
       "      <td>NaN</td>\n",
       "      <td>2024-01-17</td>\n",
       "      <td>Delhi</td>\n",
       "    </tr>\n",
       "    <tr>\n",
       "      <th>13292</th>\n",
       "      <td>Animal Fun Reusable Sticker Book For Children</td>\n",
       "      <td>197.0</td>\n",
       "      <td>299.0</td>\n",
       "      <td>Wonder House Books</td>\n",
       "      <td>NaN</td>\n",
       "      <td>2024-01-18</td>\n",
       "      <td>Chennai</td>\n",
       "    </tr>\n",
       "    <tr>\n",
       "      <th>28916</th>\n",
       "      <td>Pringles Sour Cream &amp; Onion Potato Chips (134 g)</td>\n",
       "      <td>112.0</td>\n",
       "      <td>170.0</td>\n",
       "      <td>134 g</td>\n",
       "      <td>NaN</td>\n",
       "      <td>2024-01-19</td>\n",
       "      <td>Mumbai</td>\n",
       "    </tr>\n",
       "    <tr>\n",
       "      <th>113373</th>\n",
       "      <td>Fortune Xpert Pro Immunity Edible Oil</td>\n",
       "      <td>123.0</td>\n",
       "      <td>150.0</td>\n",
       "      <td>1 l</td>\n",
       "      <td>NaN</td>\n",
       "      <td>2024-02-01</td>\n",
       "      <td>Kolkata</td>\n",
       "    </tr>\n",
       "    <tr>\n",
       "      <th>47098</th>\n",
       "      <td>Figaro Extra Virgin Olive Oil</td>\n",
       "      <td>1372.0</td>\n",
       "      <td>1999.0</td>\n",
       "      <td>1 l</td>\n",
       "      <td>NaN</td>\n",
       "      <td>2024-01-22</td>\n",
       "      <td>Delhi</td>\n",
       "    </tr>\n",
       "    <tr>\n",
       "      <th>9687</th>\n",
       "      <td>Godrej Aer Power Pocket - Sea Breeze Room Fres...</td>\n",
       "      <td>60.0</td>\n",
       "      <td>NaN</td>\n",
       "      <td>10 g</td>\n",
       "      <td>NaN</td>\n",
       "      <td>2024-01-17</td>\n",
       "      <td>Mumbai</td>\n",
       "    </tr>\n",
       "    <tr>\n",
       "      <th>53690</th>\n",
       "      <td>Organic Tattva Organic Mustard Oil</td>\n",
       "      <td>242.0</td>\n",
       "      <td>285.0</td>\n",
       "      <td>1 l</td>\n",
       "      <td>NaN</td>\n",
       "      <td>2024-01-23</td>\n",
       "      <td>Bengaluru</td>\n",
       "    </tr>\n",
       "    <tr>\n",
       "      <th>7081</th>\n",
       "      <td>My First 1000 Words</td>\n",
       "      <td>179.0</td>\n",
       "      <td>299.0</td>\n",
       "      <td>Wonder House Books Editorial Team</td>\n",
       "      <td>NaN</td>\n",
       "      <td>2024-01-17</td>\n",
       "      <td>Kolkata</td>\n",
       "    </tr>\n",
       "  </tbody>\n",
       "</table>\n",
       "</div>"
      ],
      "text/plain": [
       "                                                    Title  Price_discount  \\\n",
       "5419    Vega Blooming Air Hair Dryer (Pink & White, 10...           699.0   \n",
       "13292       Animal Fun Reusable Sticker Book For Children           197.0   \n",
       "28916    Pringles Sour Cream & Onion Potato Chips (134 g)           112.0   \n",
       "113373              Fortune Xpert Pro Immunity Edible Oil           123.0   \n",
       "47098                       Figaro Extra Virgin Olive Oil          1372.0   \n",
       "9687    Godrej Aer Power Pocket - Sea Breeze Room Fres...            60.0   \n",
       "53690                  Organic Tattva Organic Mustard Oil           242.0   \n",
       "7081                                  My First 1000 Words           179.0   \n",
       "\n",
       "        Price_original                            Details  Tag       Date  \\\n",
       "5419             999.0                                NaN  NaN 2024-01-17   \n",
       "13292            299.0                 Wonder House Books  NaN 2024-01-18   \n",
       "28916            170.0                              134 g  NaN 2024-01-19   \n",
       "113373           150.0                                1 l  NaN 2024-02-01   \n",
       "47098           1999.0                                1 l  NaN 2024-01-22   \n",
       "9687               NaN                               10 g  NaN 2024-01-17   \n",
       "53690            285.0                                1 l  NaN 2024-01-23   \n",
       "7081             299.0  Wonder House Books Editorial Team  NaN 2024-01-17   \n",
       "\n",
       "            Place  \n",
       "5419        Delhi  \n",
       "13292     Chennai  \n",
       "28916      Mumbai  \n",
       "113373    Kolkata  \n",
       "47098       Delhi  \n",
       "9687       Mumbai  \n",
       "53690   Bengaluru  \n",
       "7081      Kolkata  "
      ]
     },
     "execution_count": 52,
     "metadata": {},
     "output_type": "execute_result"
    }
   ],
   "source": [
    "df.sample(8)"
   ]
  },
  {
   "cell_type": "markdown",
   "metadata": {},
   "source": [
    "# Questions"
   ]
  },
  {
   "cell_type": "markdown",
   "metadata": {},
   "source": [
    "## Title (Product Name):\n"
   ]
  },
  {
   "cell_type": "markdown",
   "metadata": {},
   "source": [
    "\n",
    "### What are the top-selling products based on the frequency of listings?\n"
   ]
  },
  {
   "cell_type": "code",
   "execution_count": 53,
   "metadata": {},
   "outputs": [
    {
     "data": {
      "text/html": [
       "<div>\n",
       "<style scoped>\n",
       "    .dataframe tbody tr th:only-of-type {\n",
       "        vertical-align: middle;\n",
       "    }\n",
       "\n",
       "    .dataframe tbody tr th {\n",
       "        vertical-align: top;\n",
       "    }\n",
       "\n",
       "    .dataframe thead th {\n",
       "        text-align: right;\n",
       "    }\n",
       "</style>\n",
       "<table border=\"1\" class=\"dataframe\">\n",
       "  <thead>\n",
       "    <tr style=\"text-align: right;\">\n",
       "      <th></th>\n",
       "      <th>Title</th>\n",
       "      <th>Price_original</th>\n",
       "    </tr>\n",
       "  </thead>\n",
       "  <tbody>\n",
       "    <tr>\n",
       "      <th>639</th>\n",
       "      <td>Dyson Cool Gen1 Air Purifier (50 W)</td>\n",
       "      <td>1875300.0</td>\n",
       "    </tr>\n",
       "    <tr>\n",
       "      <th>2384</th>\n",
       "      <td>Xiaomi 4 lite Air Purifier (â33 W, AC-M17-SC)</td>\n",
       "      <td>674955.0</td>\n",
       "    </tr>\n",
       "    <tr>\n",
       "      <th>1335</th>\n",
       "      <td>Morphy Richards 9 Fin Oil Filled Room Heater (...</td>\n",
       "      <td>657953.0</td>\n",
       "    </tr>\n",
       "    <tr>\n",
       "      <th>207</th>\n",
       "      <td>Bajaj New Shakti Neo 15L Storage Water Heater ...</td>\n",
       "      <td>618050.0</td>\n",
       "    </tr>\n",
       "    <tr>\n",
       "      <th>1941</th>\n",
       "      <td>Satisfyer Love Triangle Personal Massager By B...</td>\n",
       "      <td>569950.0</td>\n",
       "    </tr>\n",
       "    <tr>\n",
       "      <th>545</th>\n",
       "      <td>Del Monte Extra Light Olive Oil</td>\n",
       "      <td>512615.0</td>\n",
       "    </tr>\n",
       "    <tr>\n",
       "      <th>326</th>\n",
       "      <td>Borges Olive Oil</td>\n",
       "      <td>510800.0</td>\n",
       "    </tr>\n",
       "    <tr>\n",
       "      <th>164</th>\n",
       "      <td>B Swish Bgood Personal Massager By Besharam</td>\n",
       "      <td>499950.0</td>\n",
       "    </tr>\n",
       "    <tr>\n",
       "      <th>68</th>\n",
       "      <td>Agaro Ace Wet and Dry Vacuum Cleaner (Black, 1...</td>\n",
       "      <td>469953.0</td>\n",
       "    </tr>\n",
       "    <tr>\n",
       "      <th>898</th>\n",
       "      <td>Hot Octopuss Amo Classic Bullet Vibe Personal ...</td>\n",
       "      <td>439950.0</td>\n",
       "    </tr>\n",
       "  </tbody>\n",
       "</table>\n",
       "</div>"
      ],
      "text/plain": [
       "                                                  Title  Price_original\n",
       "639                 Dyson Cool Gen1 Air Purifier (50 W)       1875300.0\n",
       "2384    Xiaomi 4 lite Air Purifier (â33 W, AC-M17-SC)        674955.0\n",
       "1335  Morphy Richards 9 Fin Oil Filled Room Heater (...        657953.0\n",
       "207   Bajaj New Shakti Neo 15L Storage Water Heater ...        618050.0\n",
       "1941  Satisfyer Love Triangle Personal Massager By B...        569950.0\n",
       "545                     Del Monte Extra Light Olive Oil        512615.0\n",
       "326                                    Borges Olive Oil        510800.0\n",
       "164         B Swish Bgood Personal Massager By Besharam        499950.0\n",
       "68    Agaro Ace Wet and Dry Vacuum Cleaner (Black, 1...        469953.0\n",
       "898   Hot Octopuss Amo Classic Bullet Vibe Personal ...        439950.0"
      ]
     },
     "execution_count": 53,
     "metadata": {},
     "output_type": "execute_result"
    }
   ],
   "source": [
    "df.groupby(['Title'], as_index=False)['Price_original'].sum().sort_values(by='Price_original', ascending=False).head(10)"
   ]
  },
  {
   "cell_type": "markdown",
   "metadata": {},
   "source": [
    "### Which product titles are most associated with high or low discounts?\n"
   ]
  },
  {
   "cell_type": "code",
   "execution_count": 54,
   "metadata": {},
   "outputs": [
    {
     "data": {
      "text/html": [
       "<div>\n",
       "<style scoped>\n",
       "    .dataframe tbody tr th:only-of-type {\n",
       "        vertical-align: middle;\n",
       "    }\n",
       "\n",
       "    .dataframe tbody tr th {\n",
       "        vertical-align: top;\n",
       "    }\n",
       "\n",
       "    .dataframe thead th {\n",
       "        text-align: right;\n",
       "    }\n",
       "</style>\n",
       "<table border=\"1\" class=\"dataframe\">\n",
       "  <thead>\n",
       "    <tr style=\"text-align: right;\">\n",
       "      <th></th>\n",
       "      <th>Title</th>\n",
       "      <th>Price_discount</th>\n",
       "    </tr>\n",
       "  </thead>\n",
       "  <tbody>\n",
       "    <tr>\n",
       "      <th>639</th>\n",
       "      <td>Dyson Cool Gen1 Air Purifier (50 W)</td>\n",
       "      <td>1546253.0</td>\n",
       "    </tr>\n",
       "    <tr>\n",
       "      <th>2384</th>\n",
       "      <td>Xiaomi 4 lite Air Purifier (â33 W, AC-M17-SC)</td>\n",
       "      <td>494955.0</td>\n",
       "    </tr>\n",
       "    <tr>\n",
       "      <th>1941</th>\n",
       "      <td>Satisfyer Love Triangle Personal Massager By B...</td>\n",
       "      <td>451945.0</td>\n",
       "    </tr>\n",
       "    <tr>\n",
       "      <th>326</th>\n",
       "      <td>Borges Olive Oil</td>\n",
       "      <td>379503.0</td>\n",
       "    </tr>\n",
       "    <tr>\n",
       "      <th>545</th>\n",
       "      <td>Del Monte Extra Light Olive Oil</td>\n",
       "      <td>370110.0</td>\n",
       "    </tr>\n",
       "  </tbody>\n",
       "</table>\n",
       "</div>"
      ],
      "text/plain": [
       "                                                  Title  Price_discount\n",
       "639                 Dyson Cool Gen1 Air Purifier (50 W)       1546253.0\n",
       "2384    Xiaomi 4 lite Air Purifier (â33 W, AC-M17-SC)        494955.0\n",
       "1941  Satisfyer Love Triangle Personal Massager By B...        451945.0\n",
       "326                                    Borges Olive Oil        379503.0\n",
       "545                     Del Monte Extra Light Olive Oil        370110.0"
      ]
     },
     "execution_count": 54,
     "metadata": {},
     "output_type": "execute_result"
    }
   ],
   "source": [
    "df.groupby(['Title'], as_index=False)['Price_discount'].sum().sort_values(by='Price_discount', ascending=False).head(5)"
   ]
  },
  {
   "cell_type": "code",
   "execution_count": 55,
   "metadata": {},
   "outputs": [
    {
     "data": {
      "text/html": [
       "<div>\n",
       "<style scoped>\n",
       "    .dataframe tbody tr th:only-of-type {\n",
       "        vertical-align: middle;\n",
       "    }\n",
       "\n",
       "    .dataframe tbody tr th {\n",
       "        vertical-align: top;\n",
       "    }\n",
       "\n",
       "    .dataframe thead th {\n",
       "        text-align: right;\n",
       "    }\n",
       "</style>\n",
       "<table border=\"1\" class=\"dataframe\">\n",
       "  <thead>\n",
       "    <tr style=\"text-align: right;\">\n",
       "      <th></th>\n",
       "      <th>Title</th>\n",
       "      <th>Price_discount</th>\n",
       "    </tr>\n",
       "  </thead>\n",
       "  <tbody>\n",
       "    <tr>\n",
       "      <th>500</th>\n",
       "      <td>Cowpea Beans (Lobia Phali)</td>\n",
       "      <td>75.0</td>\n",
       "    </tr>\n",
       "    <tr>\n",
       "      <th>167</th>\n",
       "      <td>BRB Classic Salted Rice Popped Chips - Pack of 2</td>\n",
       "      <td>72.0</td>\n",
       "    </tr>\n",
       "    <tr>\n",
       "      <th>2453</th>\n",
       "      <td>ï»¿MasterChow Instant Cup Noodles (Chowmein Fl...</td>\n",
       "      <td>62.0</td>\n",
       "    </tr>\n",
       "    <tr>\n",
       "      <th>2466</th>\n",
       "      <td>ï»¿Yu Zingy Cheese Instant Cup Noodles (80 g)</td>\n",
       "      <td>49.0</td>\n",
       "    </tr>\n",
       "    <tr>\n",
       "      <th>2441</th>\n",
       "      <td>ï»¿\"Philips 50 Watts Hair Straightener (With K...</td>\n",
       "      <td>0.0</td>\n",
       "    </tr>\n",
       "  </tbody>\n",
       "</table>\n",
       "</div>"
      ],
      "text/plain": [
       "                                                  Title  Price_discount\n",
       "500                          Cowpea Beans (Lobia Phali)            75.0\n",
       "167    BRB Classic Salted Rice Popped Chips - Pack of 2            72.0\n",
       "2453  ï»¿MasterChow Instant Cup Noodles (Chowmein Fl...            62.0\n",
       "2466      ï»¿Yu Zingy Cheese Instant Cup Noodles (80 g)            49.0\n",
       "2441  ï»¿\"Philips 50 Watts Hair Straightener (With K...             0.0"
      ]
     },
     "execution_count": 55,
     "metadata": {},
     "output_type": "execute_result"
    }
   ],
   "source": [
    "df.groupby(['Title'], as_index=False)['Price_discount'].sum().sort_values(by='Price_discount', ascending=False).tail(5)"
   ]
  },
  {
   "cell_type": "markdown",
   "metadata": {},
   "source": [
    "## Price_discount:\n"
   ]
  },
  {
   "cell_type": "markdown",
   "metadata": {},
   "source": [
    "### What is the average discount offered across different products?\n"
   ]
  },
  {
   "cell_type": "code",
   "execution_count": 56,
   "metadata": {},
   "outputs": [
    {
     "data": {
      "text/html": [
       "<div>\n",
       "<style scoped>\n",
       "    .dataframe tbody tr th:only-of-type {\n",
       "        vertical-align: middle;\n",
       "    }\n",
       "\n",
       "    .dataframe tbody tr th {\n",
       "        vertical-align: top;\n",
       "    }\n",
       "\n",
       "    .dataframe thead th {\n",
       "        text-align: right;\n",
       "    }\n",
       "</style>\n",
       "<table border=\"1\" class=\"dataframe\">\n",
       "  <thead>\n",
       "    <tr style=\"text-align: right;\">\n",
       "      <th></th>\n",
       "      <th>Title</th>\n",
       "      <th>Price_discount</th>\n",
       "    </tr>\n",
       "  </thead>\n",
       "  <tbody>\n",
       "    <tr>\n",
       "      <th>639</th>\n",
       "      <td>Dyson Cool Gen1 Air Purifier (50 W)</td>\n",
       "      <td>32899.000000</td>\n",
       "    </tr>\n",
       "    <tr>\n",
       "      <th>87</th>\n",
       "      <td>Airveda Air Quality Monitor (10 W)</td>\n",
       "      <td>11999.500000</td>\n",
       "    </tr>\n",
       "    <tr>\n",
       "      <th>88</th>\n",
       "      <td>Airveda Airveda Sky - PM2.5 PM10 App-Enabled A...</td>\n",
       "      <td>10999.000000</td>\n",
       "    </tr>\n",
       "    <tr>\n",
       "      <th>2384</th>\n",
       "      <td>Xiaomi 4 lite Air Purifier (â33 W, AC-M17-SC)</td>\n",
       "      <td>10999.000000</td>\n",
       "    </tr>\n",
       "    <tr>\n",
       "      <th>1941</th>\n",
       "      <td>Satisfyer Love Triangle Personal Massager By B...</td>\n",
       "      <td>8217.181818</td>\n",
       "    </tr>\n",
       "    <tr>\n",
       "      <th>1696</th>\n",
       "      <td>Philips Rapid Air Fryer (Black)</td>\n",
       "      <td>7299.000000</td>\n",
       "    </tr>\n",
       "    <tr>\n",
       "      <th>1335</th>\n",
       "      <td>Morphy Richards 9 Fin Oil Filled Room Heater (...</td>\n",
       "      <td>6999.000000</td>\n",
       "    </tr>\n",
       "    <tr>\n",
       "      <th>164</th>\n",
       "      <td>B Swish Bgood Personal Massager By Besharam</td>\n",
       "      <td>6635.363636</td>\n",
       "    </tr>\n",
       "    <tr>\n",
       "      <th>68</th>\n",
       "      <td>Agaro Ace Wet and Dry Vacuum Cleaner (Black, 1...</td>\n",
       "      <td>5999.000000</td>\n",
       "    </tr>\n",
       "    <tr>\n",
       "      <th>207</th>\n",
       "      <td>Bajaj New Shakti Neo 15L Storage Water Heater ...</td>\n",
       "      <td>5999.000000</td>\n",
       "    </tr>\n",
       "  </tbody>\n",
       "</table>\n",
       "</div>"
      ],
      "text/plain": [
       "                                                  Title  Price_discount\n",
       "639                 Dyson Cool Gen1 Air Purifier (50 W)    32899.000000\n",
       "87                   Airveda Air Quality Monitor (10 W)    11999.500000\n",
       "88    Airveda Airveda Sky - PM2.5 PM10 App-Enabled A...    10999.000000\n",
       "2384    Xiaomi 4 lite Air Purifier (â33 W, AC-M17-SC)    10999.000000\n",
       "1941  Satisfyer Love Triangle Personal Massager By B...     8217.181818\n",
       "1696                    Philips Rapid Air Fryer (Black)     7299.000000\n",
       "1335  Morphy Richards 9 Fin Oil Filled Room Heater (...     6999.000000\n",
       "164         B Swish Bgood Personal Massager By Besharam     6635.363636\n",
       "68    Agaro Ace Wet and Dry Vacuum Cleaner (Black, 1...     5999.000000\n",
       "207   Bajaj New Shakti Neo 15L Storage Water Heater ...     5999.000000"
      ]
     },
     "execution_count": 56,
     "metadata": {},
     "output_type": "execute_result"
    }
   ],
   "source": [
    "df.groupby(['Title'], as_index=False)['Price_discount'].apply(np.mean).sort_values(by='Price_discount', ascending=False).head(10)"
   ]
  },
  {
   "cell_type": "markdown",
   "metadata": {},
   "source": [
    "### Are there any seasonal trends in discount percentages over time?"
   ]
  },
  {
   "cell_type": "code",
   "execution_count": 57,
   "metadata": {},
   "outputs": [],
   "source": [
    "df['Month'] = df['Date'].dt.month"
   ]
  },
  {
   "cell_type": "code",
   "execution_count": 58,
   "metadata": {},
   "outputs": [],
   "source": [
    "# Create a 'Season' column based on the month\n",
    "def get_season(month):\n",
    "    if month in [3, 4, 5]:\n",
    "        return 'Spring'\n",
    "    elif month in [6, 7, 8]:\n",
    "        return 'Summer'\n",
    "    elif month in [9, 10, 11]:\n",
    "        return 'Fall'\n",
    "    else:\n",
    "        return 'Winter'\n",
    "\n",
    "df['Season'] = df['Month'].apply(get_season)"
   ]
  },
  {
   "cell_type": "code",
   "execution_count": 59,
   "metadata": {},
   "outputs": [
    {
     "data": {
      "text/plain": [
       "Season\n",
       "Winter    423.234374\n",
       "Name: Price_discount, dtype: float64"
      ]
     },
     "execution_count": 59,
     "metadata": {},
     "output_type": "execute_result"
    }
   ],
   "source": [
    "df.groupby(['Season'])['Price_discount'].mean()"
   ]
  },
  {
   "cell_type": "code",
   "execution_count": 60,
   "metadata": {},
   "outputs": [],
   "source": [
    "df.drop(columns={'Month', 'Season'}, inplace=True)"
   ]
  },
  {
   "cell_type": "markdown",
   "metadata": {},
   "source": [
    "### Which products have the highest or lowest average discount?\n"
   ]
  },
  {
   "cell_type": "code",
   "execution_count": 61,
   "metadata": {},
   "outputs": [
    {
     "name": "stdout",
     "output_type": "stream",
     "text": [
      "Title with the Highest Total Discount:\n",
      "                                   Title  Price_discount\n",
      "639  Dyson Cool Gen1 Air Purifier (50 W)       1546253.0\n",
      "\n",
      "Title with the Lowest Total Discount:\n",
      "                                                  Title  Price_discount\n",
      "2441  ï»¿\"Philips 50 Watts Hair Straightener (With K...             0.0\n"
     ]
    }
   ],
   "source": [
    "highest = df.groupby(['Title'], as_index=False)['Price_discount'].sum().sort_values(by='Price_discount', ascending=False).head(1)\n",
    "lowest = df.groupby(['Title'], as_index=False)['Price_discount'].sum().sort_values(by='Price_discount', ascending=False).tail(1)\n",
    "\n",
    "print(\"Title with the Highest Total Discount:\")\n",
    "print(highest)\n",
    "\n",
    "print(\"\\nTitle with the Lowest Total Discount:\")\n",
    "print(lowest)"
   ]
  },
  {
   "cell_type": "markdown",
   "metadata": {},
   "source": [
    "## Price_original:"
   ]
  },
  {
   "cell_type": "markdown",
   "metadata": {},
   "source": [
    "\n",
    "### How does the original price distribution look across all products?\n"
   ]
  },
  {
   "cell_type": "code",
   "execution_count": 62,
   "metadata": {},
   "outputs": [
    {
     "data": {
      "text/html": [
       "<div>\n",
       "<style scoped>\n",
       "    .dataframe tbody tr th:only-of-type {\n",
       "        vertical-align: middle;\n",
       "    }\n",
       "\n",
       "    .dataframe tbody tr th {\n",
       "        vertical-align: top;\n",
       "    }\n",
       "\n",
       "    .dataframe thead th {\n",
       "        text-align: right;\n",
       "    }\n",
       "</style>\n",
       "<table border=\"1\" class=\"dataframe\">\n",
       "  <thead>\n",
       "    <tr style=\"text-align: right;\">\n",
       "      <th></th>\n",
       "      <th>Title</th>\n",
       "      <th>Price_original</th>\n",
       "    </tr>\n",
       "  </thead>\n",
       "  <tbody>\n",
       "    <tr>\n",
       "      <th>639</th>\n",
       "      <td>Dyson Cool Gen1 Air Purifier (50 W)</td>\n",
       "      <td>1875300.0</td>\n",
       "    </tr>\n",
       "    <tr>\n",
       "      <th>2384</th>\n",
       "      <td>Xiaomi 4 lite Air Purifier (â33 W, AC-M17-SC)</td>\n",
       "      <td>674955.0</td>\n",
       "    </tr>\n",
       "    <tr>\n",
       "      <th>1335</th>\n",
       "      <td>Morphy Richards 9 Fin Oil Filled Room Heater (...</td>\n",
       "      <td>657953.0</td>\n",
       "    </tr>\n",
       "    <tr>\n",
       "      <th>207</th>\n",
       "      <td>Bajaj New Shakti Neo 15L Storage Water Heater ...</td>\n",
       "      <td>618050.0</td>\n",
       "    </tr>\n",
       "    <tr>\n",
       "      <th>1941</th>\n",
       "      <td>Satisfyer Love Triangle Personal Massager By B...</td>\n",
       "      <td>569950.0</td>\n",
       "    </tr>\n",
       "    <tr>\n",
       "      <th>...</th>\n",
       "      <td>...</td>\n",
       "      <td>...</td>\n",
       "    </tr>\n",
       "    <tr>\n",
       "      <th>1348</th>\n",
       "      <td>Mother Dairy Full Cream Fresh Milk</td>\n",
       "      <td>0.0</td>\n",
       "    </tr>\n",
       "    <tr>\n",
       "      <th>1347</th>\n",
       "      <td>Mother Dairy FIT Life Homogenized Double Toned...</td>\n",
       "      <td>0.0</td>\n",
       "    </tr>\n",
       "    <tr>\n",
       "      <th>1346</th>\n",
       "      <td>Mother Dairy Double Trouble Ice Cream Stick</td>\n",
       "      <td>0.0</td>\n",
       "    </tr>\n",
       "    <tr>\n",
       "      <th>1343</th>\n",
       "      <td>Mother Dairy Cow Fresh Milk</td>\n",
       "      <td>0.0</td>\n",
       "    </tr>\n",
       "    <tr>\n",
       "      <th>1233</th>\n",
       "      <td>Malai Peda by Amul</td>\n",
       "      <td>0.0</td>\n",
       "    </tr>\n",
       "  </tbody>\n",
       "</table>\n",
       "<p>2467 rows × 2 columns</p>\n",
       "</div>"
      ],
      "text/plain": [
       "                                                  Title  Price_original\n",
       "639                 Dyson Cool Gen1 Air Purifier (50 W)       1875300.0\n",
       "2384    Xiaomi 4 lite Air Purifier (â33 W, AC-M17-SC)        674955.0\n",
       "1335  Morphy Richards 9 Fin Oil Filled Room Heater (...        657953.0\n",
       "207   Bajaj New Shakti Neo 15L Storage Water Heater ...        618050.0\n",
       "1941  Satisfyer Love Triangle Personal Massager By B...        569950.0\n",
       "...                                                 ...             ...\n",
       "1348                 Mother Dairy Full Cream Fresh Milk             0.0\n",
       "1347  Mother Dairy FIT Life Homogenized Double Toned...             0.0\n",
       "1346        Mother Dairy Double Trouble Ice Cream Stick             0.0\n",
       "1343                        Mother Dairy Cow Fresh Milk             0.0\n",
       "1233                                 Malai Peda by Amul             0.0\n",
       "\n",
       "[2467 rows x 2 columns]"
      ]
     },
     "execution_count": 62,
     "metadata": {},
     "output_type": "execute_result"
    }
   ],
   "source": [
    "d1 = df.groupby(['Title'], as_index=False)['Price_original'].sum().sort_values(by='Price_original', ascending=False)\n",
    "d1"
   ]
  },
  {
   "cell_type": "code",
   "execution_count": 63,
   "metadata": {},
   "outputs": [
    {
     "data": {
      "text/html": [
       "<div>\n",
       "<style scoped>\n",
       "    .dataframe tbody tr th:only-of-type {\n",
       "        vertical-align: middle;\n",
       "    }\n",
       "\n",
       "    .dataframe tbody tr th {\n",
       "        vertical-align: top;\n",
       "    }\n",
       "\n",
       "    .dataframe thead th {\n",
       "        text-align: right;\n",
       "    }\n",
       "</style>\n",
       "<table border=\"1\" class=\"dataframe\">\n",
       "  <thead>\n",
       "    <tr style=\"text-align: right;\">\n",
       "      <th></th>\n",
       "      <th>Title</th>\n",
       "      <th>Price_original</th>\n",
       "    </tr>\n",
       "  </thead>\n",
       "  <tbody>\n",
       "    <tr>\n",
       "      <th>2347</th>\n",
       "      <td>WickedGud Masala Instant Noodles</td>\n",
       "      <td>0.0</td>\n",
       "    </tr>\n",
       "    <tr>\n",
       "      <th>2463</th>\n",
       "      <td>ï»¿Samyang Ramen Instant Noodles - Kimchi</td>\n",
       "      <td>0.0</td>\n",
       "    </tr>\n",
       "    <tr>\n",
       "      <th>2390</th>\n",
       "      <td>Yakult Probiotic Health Drink</td>\n",
       "      <td>0.0</td>\n",
       "    </tr>\n",
       "    <tr>\n",
       "      <th>2253</th>\n",
       "      <td>Twinings Earl Grey Green Tea Bags</td>\n",
       "      <td>0.0</td>\n",
       "    </tr>\n",
       "    <tr>\n",
       "      <th>2254</th>\n",
       "      <td>Twinings Mint Green Tea Bags</td>\n",
       "      <td>0.0</td>\n",
       "    </tr>\n",
       "    <tr>\n",
       "      <th>...</th>\n",
       "      <td>...</td>\n",
       "      <td>...</td>\n",
       "    </tr>\n",
       "    <tr>\n",
       "      <th>1348</th>\n",
       "      <td>Mother Dairy Full Cream Fresh Milk</td>\n",
       "      <td>0.0</td>\n",
       "    </tr>\n",
       "    <tr>\n",
       "      <th>1347</th>\n",
       "      <td>Mother Dairy FIT Life Homogenized Double Toned...</td>\n",
       "      <td>0.0</td>\n",
       "    </tr>\n",
       "    <tr>\n",
       "      <th>1346</th>\n",
       "      <td>Mother Dairy Double Trouble Ice Cream Stick</td>\n",
       "      <td>0.0</td>\n",
       "    </tr>\n",
       "    <tr>\n",
       "      <th>1343</th>\n",
       "      <td>Mother Dairy Cow Fresh Milk</td>\n",
       "      <td>0.0</td>\n",
       "    </tr>\n",
       "    <tr>\n",
       "      <th>1233</th>\n",
       "      <td>Malai Peda by Amul</td>\n",
       "      <td>0.0</td>\n",
       "    </tr>\n",
       "  </tbody>\n",
       "</table>\n",
       "<p>309 rows × 2 columns</p>\n",
       "</div>"
      ],
      "text/plain": [
       "                                                  Title  Price_original\n",
       "2347                   WickedGud Masala Instant Noodles             0.0\n",
       "2463          ï»¿Samyang Ramen Instant Noodles - Kimchi             0.0\n",
       "2390                      Yakult Probiotic Health Drink             0.0\n",
       "2253                  Twinings Earl Grey Green Tea Bags             0.0\n",
       "2254                       Twinings Mint Green Tea Bags             0.0\n",
       "...                                                 ...             ...\n",
       "1348                 Mother Dairy Full Cream Fresh Milk             0.0\n",
       "1347  Mother Dairy FIT Life Homogenized Double Toned...             0.0\n",
       "1346        Mother Dairy Double Trouble Ice Cream Stick             0.0\n",
       "1343                        Mother Dairy Cow Fresh Milk             0.0\n",
       "1233                                 Malai Peda by Amul             0.0\n",
       "\n",
       "[309 rows x 2 columns]"
      ]
     },
     "execution_count": 63,
     "metadata": {},
     "output_type": "execute_result"
    }
   ],
   "source": [
    "# Filter rows where 'Price_original' is equal to 0.0\n",
    "d1[d1['Price_original'] == 0.0]"
   ]
  },
  {
   "cell_type": "markdown",
   "metadata": {},
   "source": [
    "### Is there a significant difference in sales for high-priced vs. low-priced products?"
   ]
  },
  {
   "cell_type": "code",
   "execution_count": 64,
   "metadata": {},
   "outputs": [
    {
     "data": {
      "text/html": [
       "<style type=\"text/css\">\n",
       "#T_ba6a2_row0_col1 {\n",
       "  background-color: #fff7f3;\n",
       "  color: #000000;\n",
       "}\n",
       "#T_ba6a2_row1_col1 {\n",
       "  background-color: #49006a;\n",
       "  color: #f1f1f1;\n",
       "}\n",
       "</style>\n",
       "<table id=\"T_ba6a2\">\n",
       "  <thead>\n",
       "    <tr>\n",
       "      <th class=\"blank level0\" >&nbsp;</th>\n",
       "      <th id=\"T_ba6a2_level0_col0\" class=\"col_heading level0 col0\" >Price_Category</th>\n",
       "      <th id=\"T_ba6a2_level0_col1\" class=\"col_heading level0 col1\" >Count</th>\n",
       "    </tr>\n",
       "  </thead>\n",
       "  <tbody>\n",
       "    <tr>\n",
       "      <th id=\"T_ba6a2_level0_row0\" class=\"row_heading level0 row0\" >0</th>\n",
       "      <td id=\"T_ba6a2_row0_col0\" class=\"data row0 col0\" >High-Priced</td>\n",
       "      <td id=\"T_ba6a2_row0_col1\" class=\"data row0 col1\" >47554</td>\n",
       "    </tr>\n",
       "    <tr>\n",
       "      <th id=\"T_ba6a2_level0_row1\" class=\"row_heading level0 row1\" >1</th>\n",
       "      <td id=\"T_ba6a2_row1_col0\" class=\"data row1 col0\" >Low-Priced</td>\n",
       "      <td id=\"T_ba6a2_row1_col1\" class=\"data row1 col1\" >51493</td>\n",
       "    </tr>\n",
       "  </tbody>\n",
       "</table>\n"
      ],
      "text/plain": [
       "<pandas.io.formats.style.Styler at 0x22d644787a0>"
      ]
     },
     "execution_count": 64,
     "metadata": {},
     "output_type": "execute_result"
    }
   ],
   "source": [
    "df_clean = df.dropna(subset=['Price_original'])\n",
    "median_price = df_clean['Price_original'].median()\n",
    "df_clean['Price_Category'] = np.where(df_clean['Price_original'] > median_price, \\\n",
    "                                                'High-Priced', 'Low-Priced')\n",
    "\n",
    "sales_proxy = df_clean.groupby('Price_Category').size().reset_index(name='Count')\n",
    "sales_proxy.style.background_gradient(cmap='RdPu')"
   ]
  },
  {
   "cell_type": "markdown",
   "metadata": {},
   "source": [
    "### What is the price range for different categories of products ?\n"
   ]
  },
  {
   "cell_type": "markdown",
   "metadata": {},
   "source": [
    "#### Based on Price Original"
   ]
  },
  {
   "cell_type": "code",
   "execution_count": 65,
   "metadata": {},
   "outputs": [
    {
     "data": {
      "text/html": [
       "<div>\n",
       "<style scoped>\n",
       "    .dataframe tbody tr th:only-of-type {\n",
       "        vertical-align: middle;\n",
       "    }\n",
       "\n",
       "    .dataframe tbody tr th {\n",
       "        vertical-align: top;\n",
       "    }\n",
       "\n",
       "    .dataframe thead th {\n",
       "        text-align: right;\n",
       "    }\n",
       "</style>\n",
       "<table border=\"1\" class=\"dataframe\">\n",
       "  <thead>\n",
       "    <tr style=\"text-align: right;\">\n",
       "      <th></th>\n",
       "      <th>Tag</th>\n",
       "      <th>min_price</th>\n",
       "      <th>max_price</th>\n",
       "      <th>price_range</th>\n",
       "    </tr>\n",
       "  </thead>\n",
       "  <tbody>\n",
       "    <tr>\n",
       "      <th>0</th>\n",
       "      <td>Out of Stock</td>\n",
       "      <td>15.0</td>\n",
       "      <td>14999.0</td>\n",
       "      <td>14984.0</td>\n",
       "    </tr>\n",
       "  </tbody>\n",
       "</table>\n",
       "</div>"
      ],
      "text/plain": [
       "            Tag  min_price  max_price  price_range\n",
       "0  Out of Stock       15.0    14999.0      14984.0"
      ]
     },
     "execution_count": 65,
     "metadata": {},
     "output_type": "execute_result"
    }
   ],
   "source": [
    "df_clean = df.dropna(subset=['Price_original', 'Tag'])\n",
    "\n",
    "price_ranges = df_clean.groupby('Tag').agg(\n",
    "    min_price=('Price_original', 'min'),\n",
    "    max_price=('Price_original', 'max')\n",
    ").reset_index()\n",
    "\n",
    "price_ranges['price_range'] = price_ranges['max_price'] - price_ranges['min_price']\n",
    "\n",
    "\n",
    "price_ranges\n"
   ]
  },
  {
   "cell_type": "markdown",
   "metadata": {},
   "source": [
    "#### Based on Price discount"
   ]
  },
  {
   "cell_type": "code",
   "execution_count": 66,
   "metadata": {},
   "outputs": [
    {
     "data": {
      "text/html": [
       "<div>\n",
       "<style scoped>\n",
       "    .dataframe tbody tr th:only-of-type {\n",
       "        vertical-align: middle;\n",
       "    }\n",
       "\n",
       "    .dataframe tbody tr th {\n",
       "        vertical-align: top;\n",
       "    }\n",
       "\n",
       "    .dataframe thead th {\n",
       "        text-align: right;\n",
       "    }\n",
       "</style>\n",
       "<table border=\"1\" class=\"dataframe\">\n",
       "  <thead>\n",
       "    <tr style=\"text-align: right;\">\n",
       "      <th></th>\n",
       "      <th>Tag</th>\n",
       "      <th>min_price</th>\n",
       "      <th>max_price</th>\n",
       "      <th>price_range</th>\n",
       "    </tr>\n",
       "  </thead>\n",
       "  <tbody>\n",
       "    <tr>\n",
       "      <th>0</th>\n",
       "      <td>Out of Stock</td>\n",
       "      <td>12.0</td>\n",
       "      <td>11399.0</td>\n",
       "      <td>11387.0</td>\n",
       "    </tr>\n",
       "  </tbody>\n",
       "</table>\n",
       "</div>"
      ],
      "text/plain": [
       "            Tag  min_price  max_price  price_range\n",
       "0  Out of Stock       12.0    11399.0      11387.0"
      ]
     },
     "execution_count": 66,
     "metadata": {},
     "output_type": "execute_result"
    }
   ],
   "source": [
    "df_clean = df.dropna(subset=['Price_discount', 'Tag'])\n",
    "\n",
    "price_ranges = df_clean.groupby('Tag').agg(\n",
    "    min_price=('Price_discount', 'min'),\n",
    "    max_price=('Price_discount', 'max')\n",
    ").reset_index()\n",
    "\n",
    "price_ranges['price_range'] = price_ranges['max_price'] - price_ranges['min_price']\n",
    "\n",
    "\n",
    "price_ranges\n"
   ]
  },
  {
   "cell_type": "markdown",
   "metadata": {},
   "source": [
    "## Details:"
   ]
  },
  {
   "cell_type": "markdown",
   "metadata": {},
   "source": [
    "### What are the most common product features mentioned in the details column?"
   ]
  },
  {
   "cell_type": "code",
   "execution_count": 67,
   "metadata": {},
   "outputs": [
    {
     "data": {
      "text/plain": [
       "Title                                                   Details                              \n",
       "Pansari Kacchi Ghani Mustard Oil                        1 l                                      110\n",
       "Fortune Premium Kachi Ghani Pure Mustard Oil            1 l                                      110\n",
       "Emami Healthy & Tasty Kachi Ghani Mustard Oil           1 l                                      109\n",
       "Organic India Organic Mustard Oil, (Kachi Ghani)        1 l                                      102\n",
       "Anveshan Wood Cold Pressed Groundnut Oil                1 l                                      101\n",
       "Natureland Organic Mustard Oil, Cold Pressed            1 l                                      101\n",
       "Chemist At Play Aqua Unisex Under Arm Roll-On           40 ml                                    100\n",
       "Anveshan Wood Cold Pressed Mustard Oil                  1 l                                       96\n",
       "Salad Box - Hydroponically Grown                        1 box                                     95\n",
       "Cherry Tomatoes - Hydroponically Grown                  1 unit (150 g - 200 g)                    95\n",
       "Cetaphil Moisturizing Lotion (100 ml)                   100 ml                                    91\n",
       "Organic Tattva Organic Mustard Oil                      1 l                                       91\n",
       "Detox Juice Combo                                       500 g + 200 g + 250 g - 300 g + 100 g     90\n",
       "The Body Shop British Rose Body Butter                  200 ml                                    79\n",
       "Organic India Organic Sunflower Oil                     1 l                                       79\n",
       "Minimalist Niacinamide 5% Body Lotion                   180 g                                     79\n",
       "Organic India Virgin Organic Coconut Oil                500 ml                                    78\n",
       "Anveshan Wood Cold Pressed Coconut Oil                  500 ml                                    78\n",
       "Chemist At Play Odour Control Unisex Under Arm Roll-On  40 ml                                     78\n",
       "Conscious Food Organic Sesame Oil                       500 ml                                    77\n",
       "Anveshan Wood Pressed Sunflower Oil                     1 l                                       73\n",
       "Two Brothers Organic Farms Black Mustard Oil            1 l                                       72\n",
       "Anveshan Wood Pressed Yellow Mustard Oil                1 l                                       72\n",
       "The Body Shop British Rose Body Yogurt                  200 ml                                    70\n",
       "Organic Tattva Organic Groundnut Oil                    1 l                                       69\n",
       "Name: Details, dtype: int64"
      ]
     },
     "execution_count": 67,
     "metadata": {},
     "output_type": "execute_result"
    }
   ],
   "source": [
    "df.groupby(['Title', 'Details'])['Details'].count().sort_values( ascending=False).head(25)"
   ]
  },
  {
   "cell_type": "markdown",
   "metadata": {},
   "source": [
    "## Place:"
   ]
  },
  {
   "cell_type": "markdown",
   "metadata": {},
   "source": [
    "### Which regions or places have the highest sales volume?"
   ]
  },
  {
   "cell_type": "code",
   "execution_count": 68,
   "metadata": {},
   "outputs": [
    {
     "data": {
      "text/plain": [
       "Place\n",
       "Kolkata      10080683.0\n",
       "Mumbai       10001990.0\n",
       "Delhi         9805474.0\n",
       "Bengaluru     9797389.0\n",
       "Chennai       9643700.0\n",
       "Name: Price_discount, dtype: float64"
      ]
     },
     "execution_count": 68,
     "metadata": {},
     "output_type": "execute_result"
    }
   ],
   "source": [
    "df.groupby(['Place'])['Price_discount'].sum().sort_values( ascending=False).head(25)"
   ]
  },
  {
   "cell_type": "markdown",
   "metadata": {},
   "source": [
    "### How do discount trends vary by region?"
   ]
  },
  {
   "cell_type": "code",
   "execution_count": 69,
   "metadata": {},
   "outputs": [
    {
     "data": {
      "text/plain": [
       "Place\n",
       "Kolkata      13143718.0\n",
       "Mumbai       12947676.0\n",
       "Bengaluru    12709538.0\n",
       "Delhi        12702377.0\n",
       "Chennai      12541789.0\n",
       "Name: Price_original, dtype: float64"
      ]
     },
     "execution_count": 69,
     "metadata": {},
     "output_type": "execute_result"
    }
   ],
   "source": [
    "df.groupby(['Place'])['Price_original'].sum().sort_values( ascending=False).head(25)"
   ]
  },
  {
   "cell_type": "markdown",
   "metadata": {},
   "source": [
    "### Is there a correlation between place and product pricing?"
   ]
  },
  {
   "cell_type": "code",
   "execution_count": 70,
   "metadata": {},
   "outputs": [],
   "source": [
    "# No such big difference "
   ]
  }
 ],
 "metadata": {
  "kernelspec": {
   "display_name": "Python 3",
   "language": "python",
   "name": "python3"
  },
  "language_info": {
   "codemirror_mode": {
    "name": "ipython",
    "version": 3
   },
   "file_extension": ".py",
   "mimetype": "text/x-python",
   "name": "python",
   "nbconvert_exporter": "python",
   "pygments_lexer": "ipython3",
   "version": "3.12.3"
  }
 },
 "nbformat": 4,
 "nbformat_minor": 2
}
