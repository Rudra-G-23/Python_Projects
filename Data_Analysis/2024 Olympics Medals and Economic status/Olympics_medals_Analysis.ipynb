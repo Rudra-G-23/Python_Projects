{
 "cells": [
  {
   "cell_type": "markdown",
   "metadata": {},
   "source": [
    "# Understand the Data\n",
    "\n"
   ]
  },
  {
   "cell_type": "code",
   "execution_count": 1,
   "metadata": {},
   "outputs": [],
   "source": [
    "import numpy as np  \n",
    "import pandas as pd\n",
    "\n",
    "import matplotlib.pyplot as plt\n",
    "import seaborn as sns\n",
    "\n",
    "import missingno as msno\n",
    "\n",
    "import plotly.express as px  \n",
    "import plotly.graph_objects as go  \n",
    "import plotly.figure_factory as ff\n",
    "from plotly.subplots import make_subplots\n",
    "\n",
    "import warnings\n",
    "warnings.filterwarnings('ignore')\n"
   ]
  },
  {
   "cell_type": "code",
   "execution_count": 2,
   "metadata": {},
   "outputs": [
    {
     "data": {
      "text/html": [
       "<div>\n",
       "<style scoped>\n",
       "    .dataframe tbody tr th:only-of-type {\n",
       "        vertical-align: middle;\n",
       "    }\n",
       "\n",
       "    .dataframe tbody tr th {\n",
       "        vertical-align: top;\n",
       "    }\n",
       "\n",
       "    .dataframe thead th {\n",
       "        text-align: right;\n",
       "    }\n",
       "</style>\n",
       "<table border=\"1\" class=\"dataframe\">\n",
       "  <thead>\n",
       "    <tr style=\"text-align: right;\">\n",
       "      <th></th>\n",
       "      <th>country</th>\n",
       "      <th>country_code</th>\n",
       "      <th>gold</th>\n",
       "      <th>silver</th>\n",
       "      <th>bronze</th>\n",
       "      <th>total</th>\n",
       "      <th>gdp</th>\n",
       "      <th>gdp_year</th>\n",
       "      <th>population</th>\n",
       "    </tr>\n",
       "  </thead>\n",
       "  <tbody>\n",
       "    <tr>\n",
       "      <th>32</th>\n",
       "      <td>Bahrain</td>\n",
       "      <td>BHR</td>\n",
       "      <td>2</td>\n",
       "      <td>1</td>\n",
       "      <td>1</td>\n",
       "      <td>4</td>\n",
       "      <td>29084.31</td>\n",
       "      <td>2023</td>\n",
       "      <td>1.5</td>\n",
       "    </tr>\n",
       "    <tr>\n",
       "      <th>27</th>\n",
       "      <td>Czech Republic</td>\n",
       "      <td>CZE</td>\n",
       "      <td>3</td>\n",
       "      <td>0</td>\n",
       "      <td>2</td>\n",
       "      <td>5</td>\n",
       "      <td>30427.42</td>\n",
       "      <td>2023</td>\n",
       "      <td>10.9</td>\n",
       "    </tr>\n",
       "    <tr>\n",
       "      <th>53</th>\n",
       "      <td>Tunisia</td>\n",
       "      <td>TUN</td>\n",
       "      <td>1</td>\n",
       "      <td>1</td>\n",
       "      <td>1</td>\n",
       "      <td>3</td>\n",
       "      <td>3895.39</td>\n",
       "      <td>2023</td>\n",
       "      <td>12.5</td>\n",
       "    </tr>\n",
       "    <tr>\n",
       "      <th>54</th>\n",
       "      <td>Botswana</td>\n",
       "      <td>BWA</td>\n",
       "      <td>1</td>\n",
       "      <td>1</td>\n",
       "      <td>0</td>\n",
       "      <td>2</td>\n",
       "      <td>7249.80</td>\n",
       "      <td>2023</td>\n",
       "      <td>2.7</td>\n",
       "    </tr>\n",
       "    <tr>\n",
       "      <th>22</th>\n",
       "      <td>Romania</td>\n",
       "      <td>ROU</td>\n",
       "      <td>3</td>\n",
       "      <td>4</td>\n",
       "      <td>2</td>\n",
       "      <td>9</td>\n",
       "      <td>18419.42</td>\n",
       "      <td>2023</td>\n",
       "      <td>19.1</td>\n",
       "    </tr>\n",
       "    <tr>\n",
       "      <th>28</th>\n",
       "      <td>Denmark</td>\n",
       "      <td>DNK</td>\n",
       "      <td>2</td>\n",
       "      <td>2</td>\n",
       "      <td>5</td>\n",
       "      <td>9</td>\n",
       "      <td>67967.38</td>\n",
       "      <td>2023</td>\n",
       "      <td>5.9</td>\n",
       "    </tr>\n",
       "    <tr>\n",
       "      <th>50</th>\n",
       "      <td>Greece</td>\n",
       "      <td>GRC</td>\n",
       "      <td>1</td>\n",
       "      <td>1</td>\n",
       "      <td>6</td>\n",
       "      <td>8</td>\n",
       "      <td>22990.01</td>\n",
       "      <td>2023</td>\n",
       "      <td>10.4</td>\n",
       "    </tr>\n",
       "  </tbody>\n",
       "</table>\n",
       "</div>"
      ],
      "text/plain": [
       "           country country_code  gold  silver  bronze  total       gdp  \\\n",
       "32         Bahrain          BHR     2       1       1      4  29084.31   \n",
       "27  Czech Republic          CZE     3       0       2      5  30427.42   \n",
       "53         Tunisia          TUN     1       1       1      3   3895.39   \n",
       "54        Botswana          BWA     1       1       0      2   7249.80   \n",
       "22         Romania          ROU     3       4       2      9  18419.42   \n",
       "28         Denmark          DNK     2       2       5      9  67967.38   \n",
       "50          Greece          GRC     1       1       6      8  22990.01   \n",
       "\n",
       "    gdp_year  population  \n",
       "32      2023         1.5  \n",
       "27      2023        10.9  \n",
       "53      2023        12.5  \n",
       "54      2023         2.7  \n",
       "22      2023        19.1  \n",
       "28      2023         5.9  \n",
       "50      2023        10.4  "
      ]
     },
     "execution_count": 2,
     "metadata": {},
     "output_type": "execute_result"
    }
   ],
   "source": [
    "source = r'C:\\Users\\Rudra\\Downloads\\Python_Pandas_profiling\\2024 Olympics Medals and Economic status\\olympics-economics.csv '\n",
    "df = pd.read_csv(source, encoding= 'unicode_escape')\n",
    "df.sample(7)"
   ]
  },
  {
   "cell_type": "code",
   "execution_count": 3,
   "metadata": {},
   "outputs": [
    {
     "data": {
      "text/plain": [
       "810"
      ]
     },
     "execution_count": 3,
     "metadata": {},
     "output_type": "execute_result"
    }
   ],
   "source": [
    "df.size"
   ]
  },
  {
   "cell_type": "code",
   "execution_count": 4,
   "metadata": {},
   "outputs": [
    {
     "data": {
      "text/plain": [
       "(90, 9)"
      ]
     },
     "execution_count": 4,
     "metadata": {},
     "output_type": "execute_result"
    }
   ],
   "source": [
    "df.shape"
   ]
  },
  {
   "cell_type": "code",
   "execution_count": 5,
   "metadata": {},
   "outputs": [
    {
     "name": "stdout",
     "output_type": "stream",
     "text": [
      "<class 'pandas.core.frame.DataFrame'>\n",
      "RangeIndex: 90 entries, 0 to 89\n",
      "Data columns (total 9 columns):\n",
      " #   Column        Non-Null Count  Dtype  \n",
      "---  ------        --------------  -----  \n",
      " 0   country       90 non-null     object \n",
      " 1   country_code  90 non-null     object \n",
      " 2   gold          90 non-null     int64  \n",
      " 3   silver        90 non-null     int64  \n",
      " 4   bronze        90 non-null     int64  \n",
      " 5   total         90 non-null     int64  \n",
      " 6   gdp           90 non-null     float64\n",
      " 7   gdp_year      90 non-null     int64  \n",
      " 8   population    90 non-null     float64\n",
      "dtypes: float64(2), int64(5), object(2)\n",
      "memory usage: 6.5+ KB\n"
     ]
    }
   ],
   "source": [
    "df.info()"
   ]
  },
  {
   "cell_type": "code",
   "execution_count": 6,
   "metadata": {},
   "outputs": [
    {
     "data": {
      "text/html": [
       "<div>\n",
       "<style scoped>\n",
       "    .dataframe tbody tr th:only-of-type {\n",
       "        vertical-align: middle;\n",
       "    }\n",
       "\n",
       "    .dataframe tbody tr th {\n",
       "        vertical-align: top;\n",
       "    }\n",
       "\n",
       "    .dataframe thead th {\n",
       "        text-align: right;\n",
       "    }\n",
       "</style>\n",
       "<table border=\"1\" class=\"dataframe\">\n",
       "  <thead>\n",
       "    <tr style=\"text-align: right;\">\n",
       "      <th></th>\n",
       "      <th>count</th>\n",
       "      <th>unique</th>\n",
       "      <th>top</th>\n",
       "      <th>freq</th>\n",
       "      <th>mean</th>\n",
       "      <th>std</th>\n",
       "      <th>min</th>\n",
       "      <th>25%</th>\n",
       "      <th>50%</th>\n",
       "      <th>75%</th>\n",
       "      <th>max</th>\n",
       "    </tr>\n",
       "  </thead>\n",
       "  <tbody>\n",
       "    <tr>\n",
       "      <th>country</th>\n",
       "      <td>90</td>\n",
       "      <td>90</td>\n",
       "      <td>United States</td>\n",
       "      <td>1</td>\n",
       "      <td>NaN</td>\n",
       "      <td>NaN</td>\n",
       "      <td>NaN</td>\n",
       "      <td>NaN</td>\n",
       "      <td>NaN</td>\n",
       "      <td>NaN</td>\n",
       "      <td>NaN</td>\n",
       "    </tr>\n",
       "    <tr>\n",
       "      <th>country_code</th>\n",
       "      <td>90</td>\n",
       "      <td>90</td>\n",
       "      <td>USA</td>\n",
       "      <td>1</td>\n",
       "      <td>NaN</td>\n",
       "      <td>NaN</td>\n",
       "      <td>NaN</td>\n",
       "      <td>NaN</td>\n",
       "      <td>NaN</td>\n",
       "      <td>NaN</td>\n",
       "      <td>NaN</td>\n",
       "    </tr>\n",
       "    <tr>\n",
       "      <th>gold</th>\n",
       "      <td>90.0</td>\n",
       "      <td>NaN</td>\n",
       "      <td>NaN</td>\n",
       "      <td>NaN</td>\n",
       "      <td>3.644444</td>\n",
       "      <td>7.018933</td>\n",
       "      <td>0.0</td>\n",
       "      <td>0.0</td>\n",
       "      <td>1.0</td>\n",
       "      <td>3.0</td>\n",
       "      <td>40.0</td>\n",
       "    </tr>\n",
       "    <tr>\n",
       "      <th>silver</th>\n",
       "      <td>90.0</td>\n",
       "      <td>NaN</td>\n",
       "      <td>NaN</td>\n",
       "      <td>NaN</td>\n",
       "      <td>3.633333</td>\n",
       "      <td>6.797967</td>\n",
       "      <td>0.0</td>\n",
       "      <td>0.0</td>\n",
       "      <td>1.0</td>\n",
       "      <td>3.0</td>\n",
       "      <td>44.0</td>\n",
       "    </tr>\n",
       "    <tr>\n",
       "      <th>bronze</th>\n",
       "      <td>90.0</td>\n",
       "      <td>NaN</td>\n",
       "      <td>NaN</td>\n",
       "      <td>NaN</td>\n",
       "      <td>4.255556</td>\n",
       "      <td>6.586607</td>\n",
       "      <td>0.0</td>\n",
       "      <td>1.0</td>\n",
       "      <td>2.0</td>\n",
       "      <td>5.0</td>\n",
       "      <td>42.0</td>\n",
       "    </tr>\n",
       "    <tr>\n",
       "      <th>total</th>\n",
       "      <td>90.0</td>\n",
       "      <td>NaN</td>\n",
       "      <td>NaN</td>\n",
       "      <td>NaN</td>\n",
       "      <td>11.533333</td>\n",
       "      <td>19.782071</td>\n",
       "      <td>1.0</td>\n",
       "      <td>2.0</td>\n",
       "      <td>5.0</td>\n",
       "      <td>9.0</td>\n",
       "      <td>126.0</td>\n",
       "    </tr>\n",
       "    <tr>\n",
       "      <th>gdp</th>\n",
       "      <td>90.0</td>\n",
       "      <td>NaN</td>\n",
       "      <td>NaN</td>\n",
       "      <td>NaN</td>\n",
       "      <td>24478.053556</td>\n",
       "      <td>25547.857382</td>\n",
       "      <td>1014.21</td>\n",
       "      <td>5815.18</td>\n",
       "      <td>13061.185</td>\n",
       "      <td>34484.6775</td>\n",
       "      <td>103684.88</td>\n",
       "    </tr>\n",
       "    <tr>\n",
       "      <th>gdp_year</th>\n",
       "      <td>90.0</td>\n",
       "      <td>NaN</td>\n",
       "      <td>NaN</td>\n",
       "      <td>NaN</td>\n",
       "      <td>2022.977778</td>\n",
       "      <td>0.148231</td>\n",
       "      <td>2022.0</td>\n",
       "      <td>2023.0</td>\n",
       "      <td>2023.0</td>\n",
       "      <td>2023.0</td>\n",
       "      <td>2023.0</td>\n",
       "    </tr>\n",
       "    <tr>\n",
       "      <th>population</th>\n",
       "      <td>90.0</td>\n",
       "      <td>NaN</td>\n",
       "      <td>NaN</td>\n",
       "      <td>NaN</td>\n",
       "      <td>69.027778</td>\n",
       "      <td>213.286437</td>\n",
       "      <td>0.1</td>\n",
       "      <td>5.325</td>\n",
       "      <td>12.15</td>\n",
       "      <td>48.55</td>\n",
       "      <td>1428.6</td>\n",
       "    </tr>\n",
       "  </tbody>\n",
       "</table>\n",
       "</div>"
      ],
      "text/plain": [
       "             count unique            top freq          mean           std  \\\n",
       "country         90     90  United States    1           NaN           NaN   \n",
       "country_code    90     90            USA    1           NaN           NaN   \n",
       "gold          90.0    NaN            NaN  NaN      3.644444      7.018933   \n",
       "silver        90.0    NaN            NaN  NaN      3.633333      6.797967   \n",
       "bronze        90.0    NaN            NaN  NaN      4.255556      6.586607   \n",
       "total         90.0    NaN            NaN  NaN     11.533333     19.782071   \n",
       "gdp           90.0    NaN            NaN  NaN  24478.053556  25547.857382   \n",
       "gdp_year      90.0    NaN            NaN  NaN   2022.977778      0.148231   \n",
       "population    90.0    NaN            NaN  NaN     69.027778    213.286437   \n",
       "\n",
       "                  min      25%        50%         75%        max  \n",
       "country           NaN      NaN        NaN         NaN        NaN  \n",
       "country_code      NaN      NaN        NaN         NaN        NaN  \n",
       "gold              0.0      0.0        1.0         3.0       40.0  \n",
       "silver            0.0      0.0        1.0         3.0       44.0  \n",
       "bronze            0.0      1.0        2.0         5.0       42.0  \n",
       "total             1.0      2.0        5.0         9.0      126.0  \n",
       "gdp           1014.21  5815.18  13061.185  34484.6775  103684.88  \n",
       "gdp_year       2022.0   2023.0     2023.0      2023.0     2023.0  \n",
       "population        0.1    5.325      12.15       48.55     1428.6  "
      ]
     },
     "execution_count": 6,
     "metadata": {},
     "output_type": "execute_result"
    }
   ],
   "source": [
    "df.describe(include='all').T"
   ]
  },
  {
   "cell_type": "code",
   "execution_count": 7,
   "metadata": {},
   "outputs": [
    {
     "data": {
      "text/plain": [
       "Index(['country', 'country_code', 'gold', 'silver', 'bronze', 'total', 'gdp',\n",
       "       'gdp_year', 'population'],\n",
       "      dtype='object')"
      ]
     },
     "execution_count": 7,
     "metadata": {},
     "output_type": "execute_result"
    }
   ],
   "source": [
    "df.columns"
   ]
  },
  {
   "cell_type": "markdown",
   "metadata": {},
   "source": [
    "# Data Cleaning "
   ]
  },
  {
   "cell_type": "code",
   "execution_count": 8,
   "metadata": {},
   "outputs": [
    {
     "data": {
      "text/plain": [
       "0"
      ]
     },
     "execution_count": 8,
     "metadata": {},
     "output_type": "execute_result"
    }
   ],
   "source": [
    "df.duplicated().sum()"
   ]
  },
  {
   "cell_type": "code",
   "execution_count": 9,
   "metadata": {},
   "outputs": [
    {
     "data": {
      "text/plain": [
       "country         0\n",
       "country_code    0\n",
       "gold            0\n",
       "silver          0\n",
       "bronze          0\n",
       "total           0\n",
       "gdp             0\n",
       "gdp_year        0\n",
       "population      0\n",
       "dtype: int64"
      ]
     },
     "execution_count": 9,
     "metadata": {},
     "output_type": "execute_result"
    }
   ],
   "source": [
    "df.isnull().sum()"
   ]
  },
  {
   "cell_type": "code",
   "execution_count": 10,
   "metadata": {},
   "outputs": [
    {
     "data": {
      "text/plain": [
       "<Axes: >"
      ]
     },
     "execution_count": 10,
     "metadata": {},
     "output_type": "execute_result"
    },
    {
     "data": {
      "image/png": "[encoded data removed]",
      "text/plain": [
       "<Figure size 2500x1000 with 2 Axes>"
      ]
     },
     "metadata": {},
     "output_type": "display_data"
    }
   ],
   "source": [
    "msno.matrix(df)"
   ]
  },
  {
   "cell_type": "markdown",
   "metadata": {},
   "source": [
    "# Analysis"
   ]
  },
  {
   "cell_type": "markdown",
   "metadata": {},
   "source": [
    "## Create New Columns"
   ]
  },
  {
   "cell_type": "code",
   "execution_count": 11,
   "metadata": {},
   "outputs": [
    {
     "data": {
      "text/plain": [
       "71    Bronze\n",
       "39      Gold\n",
       "42    Silver\n",
       "80    Bronze\n",
       "1       Gold\n",
       "Name: highest_medal, dtype: object"
      ]
     },
     "execution_count": 11,
     "metadata": {},
     "output_type": "execute_result"
    }
   ],
   "source": [
    "def highest_medal_category(g, s, b):\n",
    "    medal_counts = {'Gold': g, 'Silver': s, 'Bronze': b}\n",
    "    highest_category = max(medal_counts, key=medal_counts.get)\n",
    "    return highest_category\n",
    "\n",
    "\n",
    "df['highest_medal'] = df.apply(lambda row: highest_medal_category(row['gold'], row['silver'], row['bronze']), axis=1)\n",
    "df['highest_medal'].sample(5)"
   ]
  },
  {
   "cell_type": "code",
   "execution_count": 12,
   "metadata": {},
   "outputs": [],
   "source": [
    "import plotly.express as px  \n",
    "import plotly.graph_objects as go  \n",
    "import plotly.figure_factory as ff\n",
    "from plotly.subplots import make_subplots"
   ]
  },
  {
   "cell_type": "markdown",
   "metadata": {},
   "source": [
    "## Country and Total Medals"
   ]
  },
  {
   "cell_type": "code",
   "execution_count": 13,
   "metadata": {},
   "outputs": [
    {
     "data": {
      "application/vnd.plotly.v1+json": {
       "config": {
        "plotlyServerURL": "https://plot.ly"
       },
       "data": [
        {
         "alignmentgroup": "True",
         "hovertemplate": "x=%{x}<br>y=%{y}<extra></extra>",
         "legendgroup": "",
         "marker": {
          "color": "#636efa",
          "pattern": {
           "shape": ""
          }
         },
         "name": "",
         "offsetgroup": "",
         "orientation": "v",
         "showlegend": false,
         "textposition": "auto",
         "type": "bar",
         "x": [
          "United States",
          "China",
          "Japan",
          "Australia",
          "France",
          "Netherlands",
          "Great Britain",
          "South Korea",
          "Italy",
          "Germany",
          "New Zealand",
          "Canada",
          "Uzbekistan",
          "Hungary",
          "Spain",
          "Sweden",
          "Kenya",
          "Norway",
          "Ireland",
          "Brazil",
          "Iran",
          "Ukraine",
          "Romania",
          "Georgia",
          "Belgium",
          "Bulgaria",
          "Serbia",
          "Czech Republic",
          "Denmark",
          "Azerbaijan",
          "Croatia",
          "Cuba",
          "Bahrain",
          "Slovenia",
          "Taiwan",
          "Austria",
          "Hong Kong",
          "Philippines",
          "Algeria",
          "Indonesia",
          "Israel",
          "Poland",
          "Kazakhstan",
          "Jamaica",
          "South Africa",
          "Thailand",
          "Ethiopia",
          "Switzerland",
          "Ecuador",
          "Portugal",
          "Greece",
          "Argentina",
          "Egypt",
          "Tunisia",
          "Botswana",
          "Chile",
          "St Lucia",
          "Uganda",
          "Dominican Republic",
          "Guatemala",
          "Morocco",
          "Dominica",
          "Pakistan",
          "Turkey",
          "Mexico",
          "Armenia",
          "Colombia",
          "North Korea",
          "Kyrgyzstan",
          "Lithuania",
          "India",
          "Moldova",
          "Kosovo",
          "Cyprus",
          "Fiji",
          "Jordan",
          "Mongolia",
          "Panama",
          "Tajikistan",
          "Albania",
          "Grenada",
          "Malaysia",
          "Puerto Rico",
          "Cape Verde",
          "Ivory Coast",
          "Peru",
          "Qatar",
          "Singapore",
          "Slovakia",
          "Zambia"
         ],
         "xaxis": "x",
         "y": [
          126,
          91,
          45,
          53,
          64,
          34,
          65,
          32,
          40,
          33,
          20,
          27,
          13,
          19,
          18,
          11,
          11,
          8,
          7,
          20,
          12,
          12,
          9,
          7,
          10,
          7,
          5,
          5,
          9,
          7,
          7,
          9,
          4,
          3,
          7,
          5,
          4,
          4,
          3,
          3,
          7,
          10,
          7,
          6,
          6,
          6,
          4,
          8,
          5,
          4,
          8,
          3,
          3,
          3,
          2,
          2,
          2,
          2,
          3,
          2,
          2,
          1,
          1,
          8,
          5,
          4,
          4,
          6,
          6,
          4,
          6,
          4,
          2,
          1,
          1,
          1,
          1,
          1,
          3,
          2,
          2,
          2,
          2,
          1,
          1,
          1,
          1,
          1,
          1,
          1
         ],
         "yaxis": "y"
        }
       ],
       "layout": {
        "barmode": "relative",
        "height": 500,
        "legend": {
         "tracegroupgap": 0
        },
        "margin": {
         "t": 60
        },
        "template": {
         "data": {
          "bar": [
           {
            "error_x": {
             "color": "#2a3f5f"
            },
            "error_y": {
             "color": "#2a3f5f"
            },
            "marker": {
             "line": {
              "color": "#E5ECF6",
              "width": 0.5
             },
             "pattern": {
              "fillmode": "overlay",
              "size": 10,
              "solidity": 0.2
             }
            },
            "type": "bar"
           }
          ],
          "barpolar": [
           {
            "marker": {
             "line": {
              "color": "#E5ECF6",
              "width": 0.5
             },
             "pattern": {
              "fillmode": "overlay",
              "size": 10,
              "solidity": 0.2
             }
            },
            "type": "barpolar"
           }
          ],
          "carpet": [
           {
            "aaxis": {
             "endlinecolor": "#2a3f5f",
             "gridcolor": "white",
             "linecolor": "white",
             "minorgridcolor": "white",
             "startlinecolor": "#2a3f5f"
            },
            "baxis": {
             "endlinecolor": "#2a3f5f",
             "gridcolor": "white",
             "linecolor": "white",
             "minorgridcolor": "white",
             "startlinecolor": "#2a3f5f"
            },
            "type": "carpet"
           }
          ],
          "choropleth": [
           {
            "colorbar": {
             "outlinewidth": 0,
             "ticks": ""
            },
            "type": "choropleth"
           }
          ],
          "contour": [
           {
            "colorbar": {
             "outlinewidth": 0,
             "ticks": ""
            },
            "colorscale": [
             [
              0,
              "#0d0887"
             ],
             [
              0.1111111111111111,
              "#46039f"
             ],
             [
              0.2222222222222222,
              "#7201a8"
             ],
             [
              0.3333333333333333,
              "#9c179e"
             ],
             [
              0.4444444444444444,
              "#bd3786"
             ],
             [
              0.5555555555555556,
              "#d8576b"
             ],
             [
              0.6666666666666666,
              "#ed7953"
             ],
             [
              0.7777777777777778,
              "#fb9f3a"
             ],
             [
              0.8888888888888888,
              "#fdca26"
             ],
             [
              1,
              "#f0f921"
             ]
            ],
            "type": "contour"
           }
          ],
          "contourcarpet": [
           {
            "colorbar": {
             "outlinewidth": 0,
             "ticks": ""
            },
            "type": "contourcarpet"
           }
          ],
          "heatmap": [
           {
            "colorbar": {
             "outlinewidth": 0,
             "ticks": ""
            },
            "colorscale": [
             [
              0,
              "#0d0887"
             ],
             [
              0.1111111111111111,
              "#46039f"
             ],
             [
              0.2222222222222222,
              "#7201a8"
             ],
             [
              0.3333333333333333,
              "#9c179e"
             ],
             [
              0.4444444444444444,
              "#bd3786"
             ],
             [
              0.5555555555555556,
              "#d8576b"
             ],
             [
              0.6666666666666666,
              "#ed7953"
             ],
             [
              0.7777777777777778,
              "#fb9f3a"
             ],
             [
              0.8888888888888888,
              "#fdca26"
             ],
             [
              1,
              "#f0f921"
             ]
            ],
            "type": "heatmap"
           }
          ],
          "heatmapgl": [
           {
            "colorbar": {
             "outlinewidth": 0,
             "ticks": ""
            },
            "colorscale": [
             [
              0,
              "#0d0887"
             ],
             [
              0.1111111111111111,
              "#46039f"
             ],
             [
              0.2222222222222222,
              "#7201a8"
             ],
             [
              0.3333333333333333,
              "#9c179e"
             ],
             [
              0.4444444444444444,
              "#bd3786"
             ],
             [
              0.5555555555555556,
              "#d8576b"
             ],
             [
              0.6666666666666666,
              "#ed7953"
             ],
             [
              0.7777777777777778,
              "#fb9f3a"
             ],
             [
              0.8888888888888888,
              "#fdca26"
             ],
             [
              1,
              "#f0f921"
             ]
            ],
            "type": "heatmapgl"
           }
          ],
          "histogram": [
           {
            "marker": {
             "pattern": {
              "fillmode": "overlay",
              "size": 10,
              "solidity": 0.2
             }
            },
            "type": "histogram"
           }
          ],
          "histogram2d": [
           {
            "colorbar": {
             "outlinewidth": 0,
             "ticks": ""
            },
            "colorscale": [
             [
              0,
              "#0d0887"
             ],
             [
              0.1111111111111111,
              "#46039f"
             ],
             [
              0.2222222222222222,
              "#7201a8"
             ],
             [
              0.3333333333333333,
              "#9c179e"
             ],
             [
              0.4444444444444444,
              "#bd3786"
             ],
             [
              0.5555555555555556,
              "#d8576b"
             ],
             [
              0.6666666666666666,
              "#ed7953"
             ],
             [
              0.7777777777777778,
              "#fb9f3a"
             ],
             [
              0.8888888888888888,
              "#fdca26"
             ],
             [
              1,
              "#f0f921"
             ]
            ],
            "type": "histogram2d"
           }
          ],
          "histogram2dcontour": [
           {
            "colorbar": {
             "outlinewidth": 0,
             "ticks": ""
            },
            "colorscale": [
             [
              0,
              "#0d0887"
             ],
             [
              0.1111111111111111,
              "#46039f"
             ],
             [
              0.2222222222222222,
              "#7201a8"
             ],
             [
              0.3333333333333333,
              "#9c179e"
             ],
             [
              0.4444444444444444,
              "#bd3786"
             ],
             [
              0.5555555555555556,
              "#d8576b"
             ],
             [
              0.6666666666666666,
              "#ed7953"
             ],
             [
              0.7777777777777778,
              "#fb9f3a"
             ],
             [
              0.8888888888888888,
              "#fdca26"
             ],
             [
              1,
              "#f0f921"
             ]
            ],
            "type": "histogram2dcontour"
           }
          ],
          "mesh3d": [
           {
            "colorbar": {
             "outlinewidth": 0,
             "ticks": ""
            },
            "type": "mesh3d"
           }
          ],
          "parcoords": [
           {
            "line": {
             "colorbar": {
              "outlinewidth": 0,
              "ticks": ""
             }
            },
            "type": "parcoords"
           }
          ],
          "pie": [
           {
            "automargin": true,
            "type": "pie"
           }
          ],
          "scatter": [
           {
            "fillpattern": {
             "fillmode": "overlay",
             "size": 10,
             "solidity": 0.2
            },
            "type": "scatter"
           }
          ],
          "scatter3d": [
           {
            "line": {
             "colorbar": {
              "outlinewidth": 0,
              "ticks": ""
             }
            },
            "marker": {
             "colorbar": {
              "outlinewidth": 0,
              "ticks": ""
             }
            },
            "type": "scatter3d"
           }
          ],
          "scattercarpet": [
           {
            "marker": {
             "colorbar": {
              "outlinewidth": 0,
              "ticks": ""
             }
            },
            "type": "scattercarpet"
           }
          ],
          "scattergeo": [
           {
            "marker": {
             "colorbar": {
              "outlinewidth": 0,
              "ticks": ""
             }
            },
            "type": "scattergeo"
           }
          ],
          "scattergl": [
           {
            "marker": {
             "colorbar": {
              "outlinewidth": 0,
              "ticks": ""
             }
            },
            "type": "scattergl"
           }
          ],
          "scattermapbox": [
           {
            "marker": {
             "colorbar": {
              "outlinewidth": 0,
              "ticks": ""
             }
            },
            "type": "scattermapbox"
           }
          ],
          "scatterpolar": [
           {
            "marker": {
             "colorbar": {
              "outlinewidth": 0,
              "ticks": ""
             }
            },
            "type": "scatterpolar"
           }
          ],
          "scatterpolargl": [
           {
            "marker": {
             "colorbar": {
              "outlinewidth": 0,
              "ticks": ""
             }
            },
            "type": "scatterpolargl"
           }
          ],
          "scatterternary": [
           {
            "marker": {
             "colorbar": {
              "outlinewidth": 0,
              "ticks": ""
             }
            },
            "type": "scatterternary"
           }
          ],
          "surface": [
           {
            "colorbar": {
             "outlinewidth": 0,
             "ticks": ""
            },
            "colorscale": [
             [
              0,
              "#0d0887"
             ],
             [
              0.1111111111111111,
              "#46039f"
             ],
             [
              0.2222222222222222,
              "#7201a8"
             ],
             [
              0.3333333333333333,
              "#9c179e"
             ],
             [
              0.4444444444444444,
              "#bd3786"
             ],
             [
              0.5555555555555556,
              "#d8576b"
             ],
             [
              0.6666666666666666,
              "#ed7953"
             ],
             [
              0.7777777777777778,
              "#fb9f3a"
             ],
             [
              0.8888888888888888,
              "#fdca26"
             ],
             [
              1,
              "#f0f921"
             ]
            ],
            "type": "surface"
           }
          ],
          "table": [
           {
            "cells": {
             "fill": {
              "color": "#EBF0F8"
             },
             "line": {
              "color": "white"
             }
            },
            "header": {
             "fill": {
              "color": "#C8D4E3"
             },
             "line": {
              "color": "white"
             }
            },
            "type": "table"
           }
          ]
         },
         "layout": {
          "annotationdefaults": {
           "arrowcolor": "#2a3f5f",
           "arrowhead": 0,
           "arrowwidth": 1
          },
          "autotypenumbers": "strict",
          "coloraxis": {
           "colorbar": {
            "outlinewidth": 0,
            "ticks": ""
           }
          },
          "colorscale": {
           "diverging": [
            [
             0,
             "#8e0152"
            ],
            [
             0.1,
             "#c51b7d"
            ],
            [
             0.2,
             "#de77ae"
            ],
            [
             0.3,
             "#f1b6da"
            ],
            [
             0.4,
             "#fde0ef"
            ],
            [
             0.5,
             "#f7f7f7"
            ],
            [
             0.6,
             "#e6f5d0"
            ],
            [
             0.7,
             "#b8e186"
            ],
            [
             0.8,
             "#7fbc41"
            ],
            [
             0.9,
             "#4d9221"
            ],
            [
             1,
             "#276419"
            ]
           ],
           "sequential": [
            [
             0,
             "#0d0887"
            ],
            [
             0.1111111111111111,
             "#46039f"
            ],
            [
             0.2222222222222222,
             "#7201a8"
            ],
            [
             0.3333333333333333,
             "#9c179e"
            ],
            [
             0.4444444444444444,
             "#bd3786"
            ],
            [
             0.5555555555555556,
             "#d8576b"
            ],
            [
             0.6666666666666666,
             "#ed7953"
            ],
            [
             0.7777777777777778,
             "#fb9f3a"
            ],
            [
             0.8888888888888888,
             "#fdca26"
            ],
            [
             1,
             "#f0f921"
            ]
           ],
           "sequentialminus": [
            [
             0,
             "#0d0887"
            ],
            [
             0.1111111111111111,
             "#46039f"
            ],
            [
             0.2222222222222222,
             "#7201a8"
            ],
            [
             0.3333333333333333,
             "#9c179e"
            ],
            [
             0.4444444444444444,
             "#bd3786"
            ],
            [
             0.5555555555555556,
             "#d8576b"
            ],
            [
             0.6666666666666666,
             "#ed7953"
            ],
            [
             0.7777777777777778,
             "#fb9f3a"
            ],
            [
             0.8888888888888888,
             "#fdca26"
            ],
            [
             1,
             "#f0f921"
            ]
           ]
          },
          "colorway": [
           "#636efa",
           "#EF553B",
           "#00cc96",
           "#ab63fa",
           "#FFA15A",
           "#19d3f3",
           "#FF6692",
           "#B6E880",
           "#FF97FF",
           "#FECB52"
          ],
          "font": {
           "color": "#2a3f5f"
          },
          "geo": {
           "bgcolor": "white",
           "lakecolor": "white",
           "landcolor": "#E5ECF6",
           "showlakes": true,
           "showland": true,
           "subunitcolor": "white"
          },
          "hoverlabel": {
           "align": "left"
          },
          "hovermode": "closest",
          "mapbox": {
           "style": "light"
          },
          "paper_bgcolor": "white",
          "plot_bgcolor": "#E5ECF6",
          "polar": {
           "angularaxis": {
            "gridcolor": "white",
            "linecolor": "white",
            "ticks": ""
           },
           "bgcolor": "#E5ECF6",
           "radialaxis": {
            "gridcolor": "white",
            "linecolor": "white",
            "ticks": ""
           }
          },
          "scene": {
           "xaxis": {
            "backgroundcolor": "#E5ECF6",
            "gridcolor": "white",
            "gridwidth": 2,
            "linecolor": "white",
            "showbackground": true,
            "ticks": "",
            "zerolinecolor": "white"
           },
           "yaxis": {
            "backgroundcolor": "#E5ECF6",
            "gridcolor": "white",
            "gridwidth": 2,
            "linecolor": "white",
            "showbackground": true,
            "ticks": "",
            "zerolinecolor": "white"
           },
           "zaxis": {
            "backgroundcolor": "#E5ECF6",
            "gridcolor": "white",
            "gridwidth": 2,
            "linecolor": "white",
            "showbackground": true,
            "ticks": "",
            "zerolinecolor": "white"
           }
          },
          "shapedefaults": {
           "line": {
            "color": "#2a3f5f"
           }
          },
          "ternary": {
           "aaxis": {
            "gridcolor": "white",
            "linecolor": "white",
            "ticks": ""
           },
           "baxis": {
            "gridcolor": "white",
            "linecolor": "white",
            "ticks": ""
           },
           "bgcolor": "#E5ECF6",
           "caxis": {
            "gridcolor": "white",
            "linecolor": "white",
            "ticks": ""
           }
          },
          "title": {
           "x": 0.05
          },
          "xaxis": {
           "automargin": true,
           "gridcolor": "white",
           "linecolor": "white",
           "ticks": "",
           "title": {
            "standoff": 15
           },
           "zerolinecolor": "white",
           "zerolinewidth": 2
          },
          "yaxis": {
           "automargin": true,
           "gridcolor": "white",
           "linecolor": "white",
           "ticks": "",
           "title": {
            "standoff": 15
           },
           "zerolinecolor": "white",
           "zerolinewidth": 2
          }
         }
        },
        "title": {
         "text": "Country and Total Medals"
        },
        "width": 1200,
        "xaxis": {
         "anchor": "y",
         "domain": [
          0,
          1
         ],
         "title": {
          "text": "Country"
         }
        },
        "yaxis": {
         "anchor": "x",
         "domain": [
          0,
          1
         ],
         "title": {
          "text": "Total Medals"
         }
        }
       }
      }
     },
     "metadata": {},
     "output_type": "display_data"
    }
   ],
   "source": [
    "fig = px.bar(\n",
    "    x=df['country'],\n",
    "    y=df['total'],\n",
    "    \n",
    ")\n",
    "\n",
    "fig.update_layout(\n",
    "    title='Country and Total Medals',\n",
    "    xaxis_title='Country',\n",
    "    yaxis_title='Total Medals',\n",
    "    width=1200,\n",
    "    height=500,\n",
    "\n",
    ")\n",
    "\n",
    "fig.show()\n"
   ]
  },
  {
   "cell_type": "markdown",
   "metadata": {},
   "source": [
    "## Country and GDP and Medals"
   ]
  },
  {
   "cell_type": "code",
   "execution_count": 14,
   "metadata": {},
   "outputs": [
    {
     "data": {
      "application/vnd.plotly.v1+json": {
       "config": {
        "plotlyServerURL": "https://plot.ly"
       },
       "data": [
        {
         "customdata": [
          [
           40,
           44,
           42
          ]
         ],
         "hovertemplate": "<b>%{hovertext}</b><br><br>country=United States<br>gdp=%{x}<br>total=%{marker.size}<br>gold=%{customdata[0]}<br>silver=%{customdata[1]}<br>bronze=%{customdata[2]}<extra></extra>",
         "hovertext": [
          "United States"
         ],
         "legendgroup": "United States",
         "marker": {
          "color": "#636efa",
          "size": [
           126
          ],
          "sizemode": "area",
          "sizeref": 0.035,
          "symbol": "circle"
         },
         "mode": "markers",
         "name": "United States",
         "orientation": "v",
         "showlegend": true,
         "type": "scatter",
         "x": [
          81695.19
         ],
         "xaxis": "x",
         "y": [
          126
         ],
         "yaxis": "y"
        },
        {
         "customdata": [
          [
           40,
           27,
           24
          ]
         ],
         "hovertemplate": "<b>%{hovertext}</b><br><br>country=China<br>gdp=%{x}<br>total=%{marker.size}<br>gold=%{customdata[0]}<br>silver=%{customdata[1]}<br>bronze=%{customdata[2]}<extra></extra>",
         "hovertext": [
          "China"
         ],
         "legendgroup": "China",
         "marker": {
          "color": "#EF553B",
          "size": [
           91
          ],
          "sizemode": "area",
          "sizeref": 0.035,
          "symbol": "circle"
         },
         "mode": "markers",
         "name": "China",
         "orientation": "v",
         "showlegend": true,
         "type": "scatter",
         "x": [
          12614.06
         ],
         "xaxis": "x",
         "y": [
          91
         ],
         "yaxis": "y"
        },
        {
         "customdata": [
          [
           20,
           12,
           13
          ]
         ],
         "hovertemplate": "<b>%{hovertext}</b><br><br>country=Japan<br>gdp=%{x}<br>total=%{marker.size}<br>gold=%{customdata[0]}<br>silver=%{customdata[1]}<br>bronze=%{customdata[2]}<extra></extra>",
         "hovertext": [
          "Japan"
         ],
         "legendgroup": "Japan",
         "marker": {
          "color": "#00cc96",
          "size": [
           45
          ],
          "sizemode": "area",
          "sizeref": 0.035,
          "symbol": "circle"
         },
         "mode": "markers",
         "name": "Japan",
         "orientation": "v",
         "showlegend": true,
         "type": "scatter",
         "x": [
          33834.39
         ],
         "xaxis": "x",
         "y": [
          45
         ],
         "yaxis": "y"
        },
        {
         "customdata": [
          [
           18,
           19,
           16
          ]
         ],
         "hovertemplate": "<b>%{hovertext}</b><br><br>country=Australia<br>gdp=%{x}<br>total=%{marker.size}<br>gold=%{customdata[0]}<br>silver=%{customdata[1]}<br>bronze=%{customdata[2]}<extra></extra>",
         "hovertext": [
          "Australia"
         ],
         "legendgroup": "Australia",
         "marker": {
          "color": "#ab63fa",
          "size": [
           53
          ],
          "sizemode": "area",
          "sizeref": 0.035,
          "symbol": "circle"
         },
         "mode": "markers",
         "name": "Australia",
         "orientation": "v",
         "showlegend": true,
         "type": "scatter",
         "x": [
          64711.77
         ],
         "xaxis": "x",
         "y": [
          53
         ],
         "yaxis": "y"
        },
        {
         "customdata": [
          [
           16,
           26,
           22
          ]
         ],
         "hovertemplate": "<b>%{hovertext}</b><br><br>country=France<br>gdp=%{x}<br>total=%{marker.size}<br>gold=%{customdata[0]}<br>silver=%{customdata[1]}<br>bronze=%{customdata[2]}<extra></extra>",
         "hovertext": [
          "France"
         ],
         "legendgroup": "France",
         "marker": {
          "color": "#FFA15A",
          "size": [
           64
          ],
          "sizemode": "area",
          "sizeref": 0.035,
          "symbol": "circle"
         },
         "mode": "markers",
         "name": "France",
         "orientation": "v",
         "showlegend": true,
         "type": "scatter",
         "x": [
          44460.82
         ],
         "xaxis": "x",
         "y": [
          64
         ],
         "yaxis": "y"
        },
        {
         "customdata": [
          [
           15,
           7,
           12
          ]
         ],
         "hovertemplate": "<b>%{hovertext}</b><br><br>country=Netherlands<br>gdp=%{x}<br>total=%{marker.size}<br>gold=%{customdata[0]}<br>silver=%{customdata[1]}<br>bronze=%{customdata[2]}<extra></extra>",
         "hovertext": [
          "Netherlands"
         ],
         "legendgroup": "Netherlands",
         "marker": {
          "color": "#19d3f3",
          "size": [
           34
          ],
          "sizemode": "area",
          "sizeref": 0.035,
          "symbol": "circle"
         },
         "mode": "markers",
         "name": "Netherlands",
         "orientation": "v",
         "showlegend": true,
         "type": "scatter",
         "x": [
          62536.73
         ],
         "xaxis": "x",
         "y": [
          34
         ],
         "yaxis": "y"
        },
        {
         "customdata": [
          [
           14,
           22,
           29
          ]
         ],
         "hovertemplate": "<b>%{hovertext}</b><br><br>country=Great Britain<br>gdp=%{x}<br>total=%{marker.size}<br>gold=%{customdata[0]}<br>silver=%{customdata[1]}<br>bronze=%{customdata[2]}<extra></extra>",
         "hovertext": [
          "Great Britain"
         ],
         "legendgroup": "Great Britain",
         "marker": {
          "color": "#FF6692",
          "size": [
           65
          ],
          "sizemode": "area",
          "sizeref": 0.035,
          "symbol": "circle"
         },
         "mode": "markers",
         "name": "Great Britain",
         "orientation": "v",
         "showlegend": true,
         "type": "scatter",
         "x": [
          48866.6
         ],
         "xaxis": "x",
         "y": [
          65
         ],
         "yaxis": "y"
        },
        {
         "customdata": [
          [
           13,
           9,
           10
          ]
         ],
         "hovertemplate": "<b>%{hovertext}</b><br><br>country=South Korea<br>gdp=%{x}<br>total=%{marker.size}<br>gold=%{customdata[0]}<br>silver=%{customdata[1]}<br>bronze=%{customdata[2]}<extra></extra>",
         "hovertext": [
          "South Korea"
         ],
         "legendgroup": "South Korea",
         "marker": {
          "color": "#B6E880",
          "size": [
           32
          ],
          "sizemode": "area",
          "sizeref": 0.035,
          "symbol": "circle"
         },
         "mode": "markers",
         "name": "South Korea",
         "orientation": "v",
         "showlegend": true,
         "type": "scatter",
         "x": [
          33121.37
         ],
         "xaxis": "x",
         "y": [
          32
         ],
         "yaxis": "y"
        },
        {
         "customdata": [
          [
           12,
           13,
           15
          ]
         ],
         "hovertemplate": "<b>%{hovertext}</b><br><br>country=Italy<br>gdp=%{x}<br>total=%{marker.size}<br>gold=%{customdata[0]}<br>silver=%{customdata[1]}<br>bronze=%{customdata[2]}<extra></extra>",
         "hovertext": [
          "Italy"
         ],
         "legendgroup": "Italy",
         "marker": {
          "color": "#FF97FF",
          "size": [
           40
          ],
          "sizemode": "area",
          "sizeref": 0.035,
          "symbol": "circle"
         },
         "mode": "markers",
         "name": "Italy",
         "orientation": "v",
         "showlegend": true,
         "type": "scatter",
         "x": [
          38373.17
         ],
         "xaxis": "x",
         "y": [
          40
         ],
         "yaxis": "y"
        },
        {
         "customdata": [
          [
           12,
           13,
           8
          ]
         ],
         "hovertemplate": "<b>%{hovertext}</b><br><br>country=Germany<br>gdp=%{x}<br>total=%{marker.size}<br>gold=%{customdata[0]}<br>silver=%{customdata[1]}<br>bronze=%{customdata[2]}<extra></extra>",
         "hovertext": [
          "Germany"
         ],
         "legendgroup": "Germany",
         "marker": {
          "color": "#FECB52",
          "size": [
           33
          ],
          "sizemode": "area",
          "sizeref": 0.035,
          "symbol": "circle"
         },
         "mode": "markers",
         "name": "Germany",
         "orientation": "v",
         "showlegend": true,
         "type": "scatter",
         "x": [
          52745.76
         ],
         "xaxis": "x",
         "y": [
          33
         ],
         "yaxis": "y"
        },
        {
         "customdata": [
          [
           10,
           7,
           3
          ]
         ],
         "hovertemplate": "<b>%{hovertext}</b><br><br>country=New Zealand<br>gdp=%{x}<br>total=%{marker.size}<br>gold=%{customdata[0]}<br>silver=%{customdata[1]}<br>bronze=%{customdata[2]}<extra></extra>",
         "hovertext": [
          "New Zealand"
         ],
         "legendgroup": "New Zealand",
         "marker": {
          "color": "#636efa",
          "size": [
           20
          ],
          "sizemode": "area",
          "sizeref": 0.035,
          "symbol": "circle"
         },
         "mode": "markers",
         "name": "New Zealand",
         "orientation": "v",
         "showlegend": true,
         "type": "scatter",
         "x": [
          48527.83
         ],
         "xaxis": "x",
         "y": [
          20
         ],
         "yaxis": "y"
        },
        {
         "customdata": [
          [
           9,
           7,
           11
          ]
         ],
         "hovertemplate": "<b>%{hovertext}</b><br><br>country=Canada<br>gdp=%{x}<br>total=%{marker.size}<br>gold=%{customdata[0]}<br>silver=%{customdata[1]}<br>bronze=%{customdata[2]}<extra></extra>",
         "hovertext": [
          "Canada"
         ],
         "legendgroup": "Canada",
         "marker": {
          "color": "#EF553B",
          "size": [
           27
          ],
          "sizemode": "area",
          "sizeref": 0.035,
          "symbol": "circle"
         },
         "mode": "markers",
         "name": "Canada",
         "orientation": "v",
         "showlegend": true,
         "type": "scatter",
         "x": [
          53371.7
         ],
         "xaxis": "x",
         "y": [
          27
         ],
         "yaxis": "y"
        },
        {
         "customdata": [
          [
           8,
           2,
           3
          ]
         ],
         "hovertemplate": "<b>%{hovertext}</b><br><br>country=Uzbekistan<br>gdp=%{x}<br>total=%{marker.size}<br>gold=%{customdata[0]}<br>silver=%{customdata[1]}<br>bronze=%{customdata[2]}<extra></extra>",
         "hovertext": [
          "Uzbekistan"
         ],
         "legendgroup": "Uzbekistan",
         "marker": {
          "color": "#00cc96",
          "size": [
           13
          ],
          "sizemode": "area",
          "sizeref": 0.035,
          "symbol": "circle"
         },
         "mode": "markers",
         "name": "Uzbekistan",
         "orientation": "v",
         "showlegend": true,
         "type": "scatter",
         "x": [
          2496.11
         ],
         "xaxis": "x",
         "y": [
          13
         ],
         "yaxis": "y"
        },
        {
         "customdata": [
          [
           6,
           7,
           6
          ]
         ],
         "hovertemplate": "<b>%{hovertext}</b><br><br>country=Hungary<br>gdp=%{x}<br>total=%{marker.size}<br>gold=%{customdata[0]}<br>silver=%{customdata[1]}<br>bronze=%{customdata[2]}<extra></extra>",
         "hovertext": [
          "Hungary"
         ],
         "legendgroup": "Hungary",
         "marker": {
          "color": "#ab63fa",
          "size": [
           19
          ],
          "sizemode": "area",
          "sizeref": 0.035,
          "symbol": "circle"
         },
         "mode": "markers",
         "name": "Hungary",
         "orientation": "v",
         "showlegend": true,
         "type": "scatter",
         "x": [
          22147.21
         ],
         "xaxis": "x",
         "y": [
          19
         ],
         "yaxis": "y"
        },
        {
         "customdata": [
          [
           5,
           4,
           9
          ]
         ],
         "hovertemplate": "<b>%{hovertext}</b><br><br>country=Spain<br>gdp=%{x}<br>total=%{marker.size}<br>gold=%{customdata[0]}<br>silver=%{customdata[1]}<br>bronze=%{customdata[2]}<extra></extra>",
         "hovertext": [
          "Spain"
         ],
         "legendgroup": "Spain",
         "marker": {
          "color": "#FFA15A",
          "size": [
           18
          ],
          "sizemode": "area",
          "sizeref": 0.035,
          "symbol": "circle"
         },
         "mode": "markers",
         "name": "Spain",
         "orientation": "v",
         "showlegend": true,
         "type": "scatter",
         "x": [
          32676.98
         ],
         "xaxis": "x",
         "y": [
          18
         ],
         "yaxis": "y"
        },
        {
         "customdata": [
          [
           4,
           4,
           3
          ]
         ],
         "hovertemplate": "<b>%{hovertext}</b><br><br>country=Sweden<br>gdp=%{x}<br>total=%{marker.size}<br>gold=%{customdata[0]}<br>silver=%{customdata[1]}<br>bronze=%{customdata[2]}<extra></extra>",
         "hovertext": [
          "Sweden"
         ],
         "legendgroup": "Sweden",
         "marker": {
          "color": "#19d3f3",
          "size": [
           11
          ],
          "sizemode": "area",
          "sizeref": 0.035,
          "symbol": "circle"
         },
         "mode": "markers",
         "name": "Sweden",
         "orientation": "v",
         "showlegend": true,
         "type": "scatter",
         "x": [
          56305.25
         ],
         "xaxis": "x",
         "y": [
          11
         ],
         "yaxis": "y"
        },
        {
         "customdata": [
          [
           4,
           2,
           5
          ]
         ],
         "hovertemplate": "<b>%{hovertext}</b><br><br>country=Kenya<br>gdp=%{x}<br>total=%{marker.size}<br>gold=%{customdata[0]}<br>silver=%{customdata[1]}<br>bronze=%{customdata[2]}<extra></extra>",
         "hovertext": [
          "Kenya"
         ],
         "legendgroup": "Kenya",
         "marker": {
          "color": "#FF6692",
          "size": [
           11
          ],
          "sizemode": "area",
          "sizeref": 0.035,
          "symbol": "circle"
         },
         "mode": "markers",
         "name": "Kenya",
         "orientation": "v",
         "showlegend": true,
         "type": "scatter",
         "x": [
          1949.9
         ],
         "xaxis": "x",
         "y": [
          11
         ],
         "yaxis": "y"
        },
        {
         "customdata": [
          [
           4,
           1,
           3
          ]
         ],
         "hovertemplate": "<b>%{hovertext}</b><br><br>country=Norway<br>gdp=%{x}<br>total=%{marker.size}<br>gold=%{customdata[0]}<br>silver=%{customdata[1]}<br>bronze=%{customdata[2]}<extra></extra>",
         "hovertext": [
          "Norway"
         ],
         "legendgroup": "Norway",
         "marker": {
          "color": "#B6E880",
          "size": [
           8
          ],
          "sizemode": "area",
          "sizeref": 0.035,
          "symbol": "circle"
         },
         "mode": "markers",
         "name": "Norway",
         "orientation": "v",
         "showlegend": true,
         "type": "scatter",
         "x": [
          87961.78
         ],
         "xaxis": "x",
         "y": [
          8
         ],
         "yaxis": "y"
        },
        {
         "customdata": [
          [
           4,
           0,
           3
          ]
         ],
         "hovertemplate": "<b>%{hovertext}</b><br><br>country=Ireland<br>gdp=%{x}<br>total=%{marker.size}<br>gold=%{customdata[0]}<br>silver=%{customdata[1]}<br>bronze=%{customdata[2]}<extra></extra>",
         "hovertext": [
          "Ireland"
         ],
         "legendgroup": "Ireland",
         "marker": {
          "color": "#FF97FF",
          "size": [
           7
          ],
          "sizemode": "area",
          "sizeref": 0.035,
          "symbol": "circle"
         },
         "mode": "markers",
         "name": "Ireland",
         "orientation": "v",
         "showlegend": true,
         "type": "scatter",
         "x": [
          103684.88
         ],
         "xaxis": "x",
         "y": [
          7
         ],
         "yaxis": "y"
        },
        {
         "customdata": [
          [
           3,
           7,
           10
          ]
         ],
         "hovertemplate": "<b>%{hovertext}</b><br><br>country=Brazil<br>gdp=%{x}<br>total=%{marker.size}<br>gold=%{customdata[0]}<br>silver=%{customdata[1]}<br>bronze=%{customdata[2]}<extra></extra>",
         "hovertext": [
          "Brazil"
         ],
         "legendgroup": "Brazil",
         "marker": {
          "color": "#FECB52",
          "size": [
           20
          ],
          "sizemode": "area",
          "sizeref": 0.035,
          "symbol": "circle"
         },
         "mode": "markers",
         "name": "Brazil",
         "orientation": "v",
         "showlegend": true,
         "type": "scatter",
         "x": [
          10043.62
         ],
         "xaxis": "x",
         "y": [
          20
         ],
         "yaxis": "y"
        },
        {
         "customdata": [
          [
           3,
           6,
           3
          ]
         ],
         "hovertemplate": "<b>%{hovertext}</b><br><br>country=Iran<br>gdp=%{x}<br>total=%{marker.size}<br>gold=%{customdata[0]}<br>silver=%{customdata[1]}<br>bronze=%{customdata[2]}<extra></extra>",
         "hovertext": [
          "Iran"
         ],
         "legendgroup": "Iran",
         "marker": {
          "color": "#636efa",
          "size": [
           12
          ],
          "sizemode": "area",
          "sizeref": 0.035,
          "symbol": "circle"
         },
         "mode": "markers",
         "name": "Iran",
         "orientation": "v",
         "showlegend": true,
         "type": "scatter",
         "x": [
          4502.55
         ],
         "xaxis": "x",
         "y": [
          12
         ],
         "yaxis": "y"
        },
        {
         "customdata": [
          [
           3,
           5,
           4
          ]
         ],
         "hovertemplate": "<b>%{hovertext}</b><br><br>country=Ukraine<br>gdp=%{x}<br>total=%{marker.size}<br>gold=%{customdata[0]}<br>silver=%{customdata[1]}<br>bronze=%{customdata[2]}<extra></extra>",
         "hovertext": [
          "Ukraine"
         ],
         "legendgroup": "Ukraine",
         "marker": {
          "color": "#EF553B",
          "size": [
           12
          ],
          "sizemode": "area",
          "sizeref": 0.035,
          "symbol": "circle"
         },
         "mode": "markers",
         "name": "Ukraine",
         "orientation": "v",
         "showlegend": true,
         "type": "scatter",
         "x": [
          5181.36
         ],
         "xaxis": "x",
         "y": [
          12
         ],
         "yaxis": "y"
        },
        {
         "customdata": [
          [
           3,
           4,
           2
          ]
         ],
         "hovertemplate": "<b>%{hovertext}</b><br><br>country=Romania<br>gdp=%{x}<br>total=%{marker.size}<br>gold=%{customdata[0]}<br>silver=%{customdata[1]}<br>bronze=%{customdata[2]}<extra></extra>",
         "hovertext": [
          "Romania"
         ],
         "legendgroup": "Romania",
         "marker": {
          "color": "#00cc96",
          "size": [
           9
          ],
          "sizemode": "area",
          "sizeref": 0.035,
          "symbol": "circle"
         },
         "mode": "markers",
         "name": "Romania",
         "orientation": "v",
         "showlegend": true,
         "type": "scatter",
         "x": [
          18419.42
         ],
         "xaxis": "x",
         "y": [
          9
         ],
         "yaxis": "y"
        },
        {
         "customdata": [
          [
           3,
           3,
           1
          ]
         ],
         "hovertemplate": "<b>%{hovertext}</b><br><br>country=Georgia<br>gdp=%{x}<br>total=%{marker.size}<br>gold=%{customdata[0]}<br>silver=%{customdata[1]}<br>bronze=%{customdata[2]}<extra></extra>",
         "hovertext": [
          "Georgia"
         ],
         "legendgroup": "Georgia",
         "marker": {
          "color": "#ab63fa",
          "size": [
           7
          ],
          "sizemode": "area",
          "sizeref": 0.035,
          "symbol": "circle"
         },
         "mode": "markers",
         "name": "Georgia",
         "orientation": "v",
         "showlegend": true,
         "type": "scatter",
         "x": [
          8120.36
         ],
         "xaxis": "x",
         "y": [
          7
         ],
         "yaxis": "y"
        },
        {
         "customdata": [
          [
           3,
           1,
           6
          ]
         ],
         "hovertemplate": "<b>%{hovertext}</b><br><br>country=Belgium<br>gdp=%{x}<br>total=%{marker.size}<br>gold=%{customdata[0]}<br>silver=%{customdata[1]}<br>bronze=%{customdata[2]}<extra></extra>",
         "hovertext": [
          "Belgium"
         ],
         "legendgroup": "Belgium",
         "marker": {
          "color": "#FFA15A",
          "size": [
           10
          ],
          "sizemode": "area",
          "sizeref": 0.035,
          "symbol": "circle"
         },
         "mode": "markers",
         "name": "Belgium",
         "orientation": "v",
         "showlegend": true,
         "type": "scatter",
         "x": [
          53475.29
         ],
         "xaxis": "x",
         "y": [
          10
         ],
         "yaxis": "y"
        },
        {
         "customdata": [
          [
           3,
           1,
           3
          ]
         ],
         "hovertemplate": "<b>%{hovertext}</b><br><br>country=Bulgaria<br>gdp=%{x}<br>total=%{marker.size}<br>gold=%{customdata[0]}<br>silver=%{customdata[1]}<br>bronze=%{customdata[2]}<extra></extra>",
         "hovertext": [
          "Bulgaria"
         ],
         "legendgroup": "Bulgaria",
         "marker": {
          "color": "#19d3f3",
          "size": [
           7
          ],
          "sizemode": "area",
          "sizeref": 0.035,
          "symbol": "circle"
         },
         "mode": "markers",
         "name": "Bulgaria",
         "orientation": "v",
         "showlegend": true,
         "type": "scatter",
         "x": [
          15797.6
         ],
         "xaxis": "x",
         "y": [
          7
         ],
         "yaxis": "y"
        },
        {
         "customdata": [
          [
           3,
           1,
           1
          ]
         ],
         "hovertemplate": "<b>%{hovertext}</b><br><br>country=Serbia<br>gdp=%{x}<br>total=%{marker.size}<br>gold=%{customdata[0]}<br>silver=%{customdata[1]}<br>bronze=%{customdata[2]}<extra></extra>",
         "hovertext": [
          "Serbia"
         ],
         "legendgroup": "Serbia",
         "marker": {
          "color": "#FF6692",
          "size": [
           5
          ],
          "sizemode": "area",
          "sizeref": 0.035,
          "symbol": "circle"
         },
         "mode": "markers",
         "name": "Serbia",
         "orientation": "v",
         "showlegend": true,
         "type": "scatter",
         "x": [
          11360.96
         ],
         "xaxis": "x",
         "y": [
          5
         ],
         "yaxis": "y"
        },
        {
         "customdata": [
          [
           3,
           0,
           2
          ]
         ],
         "hovertemplate": "<b>%{hovertext}</b><br><br>country=Czech Republic<br>gdp=%{x}<br>total=%{marker.size}<br>gold=%{customdata[0]}<br>silver=%{customdata[1]}<br>bronze=%{customdata[2]}<extra></extra>",
         "hovertext": [
          "Czech Republic"
         ],
         "legendgroup": "Czech Republic",
         "marker": {
          "color": "#B6E880",
          "size": [
           5
          ],
          "sizemode": "area",
          "sizeref": 0.035,
          "symbol": "circle"
         },
         "mode": "markers",
         "name": "Czech Republic",
         "orientation": "v",
         "showlegend": true,
         "type": "scatter",
         "x": [
          30427.42
         ],
         "xaxis": "x",
         "y": [
          5
         ],
         "yaxis": "y"
        },
        {
         "customdata": [
          [
           2,
           2,
           5
          ]
         ],
         "hovertemplate": "<b>%{hovertext}</b><br><br>country=Denmark<br>gdp=%{x}<br>total=%{marker.size}<br>gold=%{customdata[0]}<br>silver=%{customdata[1]}<br>bronze=%{customdata[2]}<extra></extra>",
         "hovertext": [
          "Denmark"
         ],
         "legendgroup": "Denmark",
         "marker": {
          "color": "#FF97FF",
          "size": [
           9
          ],
          "sizemode": "area",
          "sizeref": 0.035,
          "symbol": "circle"
         },
         "mode": "markers",
         "name": "Denmark",
         "orientation": "v",
         "showlegend": true,
         "type": "scatter",
         "x": [
          67967.38
         ],
         "xaxis": "x",
         "y": [
          9
         ],
         "yaxis": "y"
        },
        {
         "customdata": [
          [
           2,
           2,
           3
          ]
         ],
         "hovertemplate": "<b>%{hovertext}</b><br><br>country=Azerbaijan<br>gdp=%{x}<br>total=%{marker.size}<br>gold=%{customdata[0]}<br>silver=%{customdata[1]}<br>bronze=%{customdata[2]}<extra></extra>",
         "hovertext": [
          "Azerbaijan"
         ],
         "legendgroup": "Azerbaijan",
         "marker": {
          "color": "#FECB52",
          "size": [
           7
          ],
          "sizemode": "area",
          "sizeref": 0.035,
          "symbol": "circle"
         },
         "mode": "markers",
         "name": "Azerbaijan",
         "orientation": "v",
         "showlegend": true,
         "type": "scatter",
         "x": [
          7155.08
         ],
         "xaxis": "x",
         "y": [
          7
         ],
         "yaxis": "y"
        },
        {
         "customdata": [
          [
           2,
           2,
           3
          ]
         ],
         "hovertemplate": "<b>%{hovertext}</b><br><br>country=Croatia<br>gdp=%{x}<br>total=%{marker.size}<br>gold=%{customdata[0]}<br>silver=%{customdata[1]}<br>bronze=%{customdata[2]}<extra></extra>",
         "hovertext": [
          "Croatia"
         ],
         "legendgroup": "Croatia",
         "marker": {
          "color": "#636efa",
          "size": [
           7
          ],
          "sizemode": "area",
          "sizeref": 0.035,
          "symbol": "circle"
         },
         "mode": "markers",
         "name": "Croatia",
         "orientation": "v",
         "showlegend": true,
         "type": "scatter",
         "x": [
          21459.78
         ],
         "xaxis": "x",
         "y": [
          7
         ],
         "yaxis": "y"
        },
        {
         "customdata": [
          [
           2,
           1,
           6
          ]
         ],
         "hovertemplate": "<b>%{hovertext}</b><br><br>country=Cuba<br>gdp=%{x}<br>total=%{marker.size}<br>gold=%{customdata[0]}<br>silver=%{customdata[1]}<br>bronze=%{customdata[2]}<extra></extra>",
         "hovertext": [
          "Cuba"
         ],
         "legendgroup": "Cuba",
         "marker": {
          "color": "#EF553B",
          "size": [
           9
          ],
          "sizemode": "area",
          "sizeref": 0.035,
          "symbol": "circle"
         },
         "mode": "markers",
         "name": "Cuba",
         "orientation": "v",
         "showlegend": true,
         "type": "scatter",
         "x": [
          56495.85
         ],
         "xaxis": "x",
         "y": [
          9
         ],
         "yaxis": "y"
        },
        {
         "customdata": [
          [
           2,
           1,
           1
          ]
         ],
         "hovertemplate": "<b>%{hovertext}</b><br><br>country=Bahrain<br>gdp=%{x}<br>total=%{marker.size}<br>gold=%{customdata[0]}<br>silver=%{customdata[1]}<br>bronze=%{customdata[2]}<extra></extra>",
         "hovertext": [
          "Bahrain"
         ],
         "legendgroup": "Bahrain",
         "marker": {
          "color": "#00cc96",
          "size": [
           4
          ],
          "sizemode": "area",
          "sizeref": 0.035,
          "symbol": "circle"
         },
         "mode": "markers",
         "name": "Bahrain",
         "orientation": "v",
         "showlegend": true,
         "type": "scatter",
         "x": [
          29084.31
         ],
         "xaxis": "x",
         "y": [
          4
         ],
         "yaxis": "y"
        },
        {
         "customdata": [
          [
           2,
           1,
           0
          ]
         ],
         "hovertemplate": "<b>%{hovertext}</b><br><br>country=Slovenia<br>gdp=%{x}<br>total=%{marker.size}<br>gold=%{customdata[0]}<br>silver=%{customdata[1]}<br>bronze=%{customdata[2]}<extra></extra>",
         "hovertext": [
          "Slovenia"
         ],
         "legendgroup": "Slovenia",
         "marker": {
          "color": "#ab63fa",
          "size": [
           3
          ],
          "sizemode": "area",
          "sizeref": 0.035,
          "symbol": "circle"
         },
         "mode": "markers",
         "name": "Slovenia",
         "orientation": "v",
         "showlegend": true,
         "type": "scatter",
         "x": [
          32163.51
         ],
         "xaxis": "x",
         "y": [
          3
         ],
         "yaxis": "y"
        },
        {
         "customdata": [
          [
           2,
           0,
           5
          ]
         ],
         "hovertemplate": "<b>%{hovertext}</b><br><br>country=Taiwan<br>gdp=%{x}<br>total=%{marker.size}<br>gold=%{customdata[0]}<br>silver=%{customdata[1]}<br>bronze=%{customdata[2]}<extra></extra>",
         "hovertext": [
          "Taiwan"
         ],
         "legendgroup": "Taiwan",
         "marker": {
          "color": "#FFA15A",
          "size": [
           7
          ],
          "sizemode": "area",
          "sizeref": 0.035,
          "symbol": "circle"
         },
         "mode": "markers",
         "name": "Taiwan",
         "orientation": "v",
         "showlegend": true,
         "type": "scatter",
         "x": [
          32443.71
         ],
         "xaxis": "x",
         "y": [
          7
         ],
         "yaxis": "y"
        },
        {
         "customdata": [
          [
           2,
           0,
           3
          ]
         ],
         "hovertemplate": "<b>%{hovertext}</b><br><br>country=Austria<br>gdp=%{x}<br>total=%{marker.size}<br>gold=%{customdata[0]}<br>silver=%{customdata[1]}<br>bronze=%{customdata[2]}<extra></extra>",
         "hovertext": [
          "Austria"
         ],
         "legendgroup": "Austria",
         "marker": {
          "color": "#19d3f3",
          "size": [
           5
          ],
          "sizemode": "area",
          "sizeref": 0.035,
          "symbol": "circle"
         },
         "mode": "markers",
         "name": "Austria",
         "orientation": "v",
         "showlegend": true,
         "type": "scatter",
         "x": [
          56505.97
         ],
         "xaxis": "x",
         "y": [
          5
         ],
         "yaxis": "y"
        },
        {
         "customdata": [
          [
           2,
           0,
           2
          ]
         ],
         "hovertemplate": "<b>%{hovertext}</b><br><br>country=Hong Kong<br>gdp=%{x}<br>total=%{marker.size}<br>gold=%{customdata[0]}<br>silver=%{customdata[1]}<br>bronze=%{customdata[2]}<extra></extra>",
         "hovertext": [
          "Hong Kong"
         ],
         "legendgroup": "Hong Kong",
         "marker": {
          "color": "#FF6692",
          "size": [
           4
          ],
          "sizemode": "area",
          "sizeref": 0.035,
          "symbol": "circle"
         },
         "mode": "markers",
         "name": "Hong Kong",
         "orientation": "v",
         "showlegend": true,
         "type": "scatter",
         "x": [
          50696.59
         ],
         "xaxis": "x",
         "y": [
          4
         ],
         "yaxis": "y"
        },
        {
         "customdata": [
          [
           2,
           0,
           2
          ]
         ],
         "hovertemplate": "<b>%{hovertext}</b><br><br>country=Philippines<br>gdp=%{x}<br>total=%{marker.size}<br>gold=%{customdata[0]}<br>silver=%{customdata[1]}<br>bronze=%{customdata[2]}<extra></extra>",
         "hovertext": [
          "Philippines"
         ],
         "legendgroup": "Philippines",
         "marker": {
          "color": "#B6E880",
          "size": [
           4
          ],
          "sizemode": "area",
          "sizeref": 0.035,
          "symbol": "circle"
         },
         "mode": "markers",
         "name": "Philippines",
         "orientation": "v",
         "showlegend": true,
         "type": "scatter",
         "x": [
          3725.55
         ],
         "xaxis": "x",
         "y": [
          4
         ],
         "yaxis": "y"
        },
        {
         "customdata": [
          [
           2,
           0,
           1
          ]
         ],
         "hovertemplate": "<b>%{hovertext}</b><br><br>country=Algeria<br>gdp=%{x}<br>total=%{marker.size}<br>gold=%{customdata[0]}<br>silver=%{customdata[1]}<br>bronze=%{customdata[2]}<extra></extra>",
         "hovertext": [
          "Algeria"
         ],
         "legendgroup": "Algeria",
         "marker": {
          "color": "#FF97FF",
          "size": [
           3
          ],
          "sizemode": "area",
          "sizeref": 0.035,
          "symbol": "circle"
         },
         "mode": "markers",
         "name": "Algeria",
         "orientation": "v",
         "showlegend": true,
         "type": "scatter",
         "x": [
          5260.21
         ],
         "xaxis": "x",
         "y": [
          3
         ],
         "yaxis": "y"
        },
        {
         "customdata": [
          [
           2,
           0,
           1
          ]
         ],
         "hovertemplate": "<b>%{hovertext}</b><br><br>country=Indonesia<br>gdp=%{x}<br>total=%{marker.size}<br>gold=%{customdata[0]}<br>silver=%{customdata[1]}<br>bronze=%{customdata[2]}<extra></extra>",
         "hovertext": [
          "Indonesia"
         ],
         "legendgroup": "Indonesia",
         "marker": {
          "color": "#FECB52",
          "size": [
           3
          ],
          "sizemode": "area",
          "sizeref": 0.035,
          "symbol": "circle"
         },
         "mode": "markers",
         "name": "Indonesia",
         "orientation": "v",
         "showlegend": true,
         "type": "scatter",
         "x": [
          4940.55
         ],
         "xaxis": "x",
         "y": [
          3
         ],
         "yaxis": "y"
        },
        {
         "customdata": [
          [
           1,
           5,
           1
          ]
         ],
         "hovertemplate": "<b>%{hovertext}</b><br><br>country=Israel<br>gdp=%{x}<br>total=%{marker.size}<br>gold=%{customdata[0]}<br>silver=%{customdata[1]}<br>bronze=%{customdata[2]}<extra></extra>",
         "hovertext": [
          "Israel"
         ],
         "legendgroup": "Israel",
         "marker": {
          "color": "#636efa",
          "size": [
           7
          ],
          "sizemode": "area",
          "sizeref": 0.035,
          "symbol": "circle"
         },
         "mode": "markers",
         "name": "Israel",
         "orientation": "v",
         "showlegend": true,
         "type": "scatter",
         "x": [
          52261.68
         ],
         "xaxis": "x",
         "y": [
          7
         ],
         "yaxis": "y"
        },
        {
         "customdata": [
          [
           1,
           4,
           5
          ]
         ],
         "hovertemplate": "<b>%{hovertext}</b><br><br>country=Poland<br>gdp=%{x}<br>total=%{marker.size}<br>gold=%{customdata[0]}<br>silver=%{customdata[1]}<br>bronze=%{customdata[2]}<extra></extra>",
         "hovertext": [
          "Poland"
         ],
         "legendgroup": "Poland",
         "marker": {
          "color": "#EF553B",
          "size": [
           10
          ],
          "sizemode": "area",
          "sizeref": 0.035,
          "symbol": "circle"
         },
         "mode": "markers",
         "name": "Poland",
         "orientation": "v",
         "showlegend": true,
         "type": "scatter",
         "x": [
          22112.86
         ],
         "xaxis": "x",
         "y": [
          10
         ],
         "yaxis": "y"
        },
        {
         "customdata": [
          [
           1,
           3,
           3
          ]
         ],
         "hovertemplate": "<b>%{hovertext}</b><br><br>country=Kazakhstan<br>gdp=%{x}<br>total=%{marker.size}<br>gold=%{customdata[0]}<br>silver=%{customdata[1]}<br>bronze=%{customdata[2]}<extra></extra>",
         "hovertext": [
          "Kazakhstan"
         ],
         "legendgroup": "Kazakhstan",
         "marker": {
          "color": "#00cc96",
          "size": [
           7
          ],
          "sizemode": "area",
          "sizeref": 0.035,
          "symbol": "circle"
         },
         "mode": "markers",
         "name": "Kazakhstan",
         "orientation": "v",
         "showlegend": true,
         "type": "scatter",
         "x": [
          13136.62
         ],
         "xaxis": "x",
         "y": [
          7
         ],
         "yaxis": "y"
        },
        {
         "customdata": [
          [
           1,
           3,
           2
          ]
         ],
         "hovertemplate": "<b>%{hovertext}</b><br><br>country=Jamaica<br>gdp=%{x}<br>total=%{marker.size}<br>gold=%{customdata[0]}<br>silver=%{customdata[1]}<br>bronze=%{customdata[2]}<extra></extra>",
         "hovertext": [
          "Jamaica"
         ],
         "legendgroup": "Jamaica",
         "marker": {
          "color": "#ab63fa",
          "size": [
           6
          ],
          "sizemode": "area",
          "sizeref": 0.035,
          "symbol": "circle"
         },
         "mode": "markers",
         "name": "Jamaica",
         "orientation": "v",
         "showlegend": true,
         "type": "scatter",
         "x": [
          6874.2
         ],
         "xaxis": "x",
         "y": [
          6
         ],
         "yaxis": "y"
        },
        {
         "customdata": [
          [
           1,
           3,
           2
          ]
         ],
         "hovertemplate": "<b>%{hovertext}</b><br><br>country=South Africa<br>gdp=%{x}<br>total=%{marker.size}<br>gold=%{customdata[0]}<br>silver=%{customdata[1]}<br>bronze=%{customdata[2]}<extra></extra>",
         "hovertext": [
          "South Africa"
         ],
         "legendgroup": "South Africa",
         "marker": {
          "color": "#FFA15A",
          "size": [
           6
          ],
          "sizemode": "area",
          "sizeref": 0.035,
          "symbol": "circle"
         },
         "mode": "markers",
         "name": "South Africa",
         "orientation": "v",
         "showlegend": true,
         "type": "scatter",
         "x": [
          6253.16
         ],
         "xaxis": "x",
         "y": [
          6
         ],
         "yaxis": "y"
        },
        {
         "customdata": [
          [
           1,
           3,
           2
          ]
         ],
         "hovertemplate": "<b>%{hovertext}</b><br><br>country=Thailand<br>gdp=%{x}<br>total=%{marker.size}<br>gold=%{customdata[0]}<br>silver=%{customdata[1]}<br>bronze=%{customdata[2]}<extra></extra>",
         "hovertext": [
          "Thailand"
         ],
         "legendgroup": "Thailand",
         "marker": {
          "color": "#19d3f3",
          "size": [
           6
          ],
          "sizemode": "area",
          "sizeref": 0.035,
          "symbol": "circle"
         },
         "mode": "markers",
         "name": "Thailand",
         "orientation": "v",
         "showlegend": true,
         "type": "scatter",
         "x": [
          7171.81
         ],
         "xaxis": "x",
         "y": [
          6
         ],
         "yaxis": "y"
        },
        {
         "customdata": [
          [
           1,
           3,
           0
          ]
         ],
         "hovertemplate": "<b>%{hovertext}</b><br><br>country=Ethiopia<br>gdp=%{x}<br>total=%{marker.size}<br>gold=%{customdata[0]}<br>silver=%{customdata[1]}<br>bronze=%{customdata[2]}<extra></extra>",
         "hovertext": [
          "Ethiopia"
         ],
         "legendgroup": "Ethiopia",
         "marker": {
          "color": "#FF6692",
          "size": [
           4
          ],
          "sizemode": "area",
          "sizeref": 0.035,
          "symbol": "circle"
         },
         "mode": "markers",
         "name": "Ethiopia",
         "orientation": "v",
         "showlegend": true,
         "type": "scatter",
         "x": [
          1293.78
         ],
         "xaxis": "x",
         "y": [
          4
         ],
         "yaxis": "y"
        },
        {
         "customdata": [
          [
           1,
           2,
           5
          ]
         ],
         "hovertemplate": "<b>%{hovertext}</b><br><br>country=Switzerland<br>gdp=%{x}<br>total=%{marker.size}<br>gold=%{customdata[0]}<br>silver=%{customdata[1]}<br>bronze=%{customdata[2]}<extra></extra>",
         "hovertext": [
          "Switzerland"
         ],
         "legendgroup": "Switzerland",
         "marker": {
          "color": "#B6E880",
          "size": [
           8
          ],
          "sizemode": "area",
          "sizeref": 0.035,
          "symbol": "circle"
         },
         "mode": "markers",
         "name": "Switzerland",
         "orientation": "v",
         "showlegend": true,
         "type": "scatter",
         "x": [
          99994.94
         ],
         "xaxis": "x",
         "y": [
          8
         ],
         "yaxis": "y"
        },
        {
         "customdata": [
          [
           1,
           2,
           2
          ]
         ],
         "hovertemplate": "<b>%{hovertext}</b><br><br>country=Ecuador<br>gdp=%{x}<br>total=%{marker.size}<br>gold=%{customdata[0]}<br>silver=%{customdata[1]}<br>bronze=%{customdata[2]}<extra></extra>",
         "hovertext": [
          "Ecuador"
         ],
         "legendgroup": "Ecuador",
         "marker": {
          "color": "#FF97FF",
          "size": [
           5
          ],
          "sizemode": "area",
          "sizeref": 0.035,
          "symbol": "circle"
         },
         "mode": "markers",
         "name": "Ecuador",
         "orientation": "v",
         "showlegend": true,
         "type": "scatter",
         "x": [
          6533.35
         ],
         "xaxis": "x",
         "y": [
          5
         ],
         "yaxis": "y"
        },
        {
         "customdata": [
          [
           1,
           2,
           1
          ]
         ],
         "hovertemplate": "<b>%{hovertext}</b><br><br>country=Portugal<br>gdp=%{x}<br>total=%{marker.size}<br>gold=%{customdata[0]}<br>silver=%{customdata[1]}<br>bronze=%{customdata[2]}<extra></extra>",
         "hovertext": [
          "Portugal"
         ],
         "legendgroup": "Portugal",
         "marker": {
          "color": "#FECB52",
          "size": [
           4
          ],
          "sizemode": "area",
          "sizeref": 0.035,
          "symbol": "circle"
         },
         "mode": "markers",
         "name": "Portugal",
         "orientation": "v",
         "showlegend": true,
         "type": "scatter",
         "x": [
          27275.11
         ],
         "xaxis": "x",
         "y": [
          4
         ],
         "yaxis": "y"
        },
        {
         "customdata": [
          [
           1,
           1,
           6
          ]
         ],
         "hovertemplate": "<b>%{hovertext}</b><br><br>country=Greece<br>gdp=%{x}<br>total=%{marker.size}<br>gold=%{customdata[0]}<br>silver=%{customdata[1]}<br>bronze=%{customdata[2]}<extra></extra>",
         "hovertext": [
          "Greece"
         ],
         "legendgroup": "Greece",
         "marker": {
          "color": "#636efa",
          "size": [
           8
          ],
          "sizemode": "area",
          "sizeref": 0.035,
          "symbol": "circle"
         },
         "mode": "markers",
         "name": "Greece",
         "orientation": "v",
         "showlegend": true,
         "type": "scatter",
         "x": [
          22990.01
         ],
         "xaxis": "x",
         "y": [
          8
         ],
         "yaxis": "y"
        },
        {
         "customdata": [
          [
           1,
           1,
           1
          ]
         ],
         "hovertemplate": "<b>%{hovertext}</b><br><br>country=Argentina<br>gdp=%{x}<br>total=%{marker.size}<br>gold=%{customdata[0]}<br>silver=%{customdata[1]}<br>bronze=%{customdata[2]}<extra></extra>",
         "hovertext": [
          "Argentina"
         ],
         "legendgroup": "Argentina",
         "marker": {
          "color": "#EF553B",
          "size": [
           3
          ],
          "sizemode": "area",
          "sizeref": 0.035,
          "symbol": "circle"
         },
         "mode": "markers",
         "name": "Argentina",
         "orientation": "v",
         "showlegend": true,
         "type": "scatter",
         "x": [
          13730.51
         ],
         "xaxis": "x",
         "y": [
          3
         ],
         "yaxis": "y"
        },
        {
         "customdata": [
          [
           1,
           1,
           1
          ]
         ],
         "hovertemplate": "<b>%{hovertext}</b><br><br>country=Egypt<br>gdp=%{x}<br>total=%{marker.size}<br>gold=%{customdata[0]}<br>silver=%{customdata[1]}<br>bronze=%{customdata[2]}<extra></extra>",
         "hovertext": [
          "Egypt"
         ],
         "legendgroup": "Egypt",
         "marker": {
          "color": "#00cc96",
          "size": [
           3
          ],
          "sizemode": "area",
          "sizeref": 0.035,
          "symbol": "circle"
         },
         "mode": "markers",
         "name": "Egypt",
         "orientation": "v",
         "showlegend": true,
         "type": "scatter",
         "x": [
          3512.58
         ],
         "xaxis": "x",
         "y": [
          3
         ],
         "yaxis": "y"
        },
        {
         "customdata": [
          [
           1,
           1,
           1
          ]
         ],
         "hovertemplate": "<b>%{hovertext}</b><br><br>country=Tunisia<br>gdp=%{x}<br>total=%{marker.size}<br>gold=%{customdata[0]}<br>silver=%{customdata[1]}<br>bronze=%{customdata[2]}<extra></extra>",
         "hovertext": [
          "Tunisia"
         ],
         "legendgroup": "Tunisia",
         "marker": {
          "color": "#ab63fa",
          "size": [
           3
          ],
          "sizemode": "area",
          "sizeref": 0.035,
          "symbol": "circle"
         },
         "mode": "markers",
         "name": "Tunisia",
         "orientation": "v",
         "showlegend": true,
         "type": "scatter",
         "x": [
          3895.39
         ],
         "xaxis": "x",
         "y": [
          3
         ],
         "yaxis": "y"
        },
        {
         "customdata": [
          [
           1,
           1,
           0
          ]
         ],
         "hovertemplate": "<b>%{hovertext}</b><br><br>country=Botswana<br>gdp=%{x}<br>total=%{marker.size}<br>gold=%{customdata[0]}<br>silver=%{customdata[1]}<br>bronze=%{customdata[2]}<extra></extra>",
         "hovertext": [
          "Botswana"
         ],
         "legendgroup": "Botswana",
         "marker": {
          "color": "#FFA15A",
          "size": [
           2
          ],
          "sizemode": "area",
          "sizeref": 0.035,
          "symbol": "circle"
         },
         "mode": "markers",
         "name": "Botswana",
         "orientation": "v",
         "showlegend": true,
         "type": "scatter",
         "x": [
          7249.8
         ],
         "xaxis": "x",
         "y": [
          2
         ],
         "yaxis": "y"
        },
        {
         "customdata": [
          [
           1,
           1,
           0
          ]
         ],
         "hovertemplate": "<b>%{hovertext}</b><br><br>country=Chile<br>gdp=%{x}<br>total=%{marker.size}<br>gold=%{customdata[0]}<br>silver=%{customdata[1]}<br>bronze=%{customdata[2]}<extra></extra>",
         "hovertext": [
          "Chile"
         ],
         "legendgroup": "Chile",
         "marker": {
          "color": "#19d3f3",
          "size": [
           2
          ],
          "sizemode": "area",
          "sizeref": 0.035,
          "symbol": "circle"
         },
         "mode": "markers",
         "name": "Chile",
         "orientation": "v",
         "showlegend": true,
         "type": "scatter",
         "x": [
          17093.24
         ],
         "xaxis": "x",
         "y": [
          2
         ],
         "yaxis": "y"
        },
        {
         "customdata": [
          [
           1,
           1,
           0
          ]
         ],
         "hovertemplate": "<b>%{hovertext}</b><br><br>country=St Lucia<br>gdp=%{x}<br>total=%{marker.size}<br>gold=%{customdata[0]}<br>silver=%{customdata[1]}<br>bronze=%{customdata[2]}<extra></extra>",
         "hovertext": [
          "St Lucia"
         ],
         "legendgroup": "St Lucia",
         "marker": {
          "color": "#FF6692",
          "size": [
           2
          ],
          "sizemode": "area",
          "sizeref": 0.035,
          "symbol": "circle"
         },
         "mode": "markers",
         "name": "St Lucia",
         "orientation": "v",
         "showlegend": true,
         "type": "scatter",
         "x": [
          13980.09
         ],
         "xaxis": "x",
         "y": [
          2
         ],
         "yaxis": "y"
        },
        {
         "customdata": [
          [
           1,
           1,
           0
          ]
         ],
         "hovertemplate": "<b>%{hovertext}</b><br><br>country=Uganda<br>gdp=%{x}<br>total=%{marker.size}<br>gold=%{customdata[0]}<br>silver=%{customdata[1]}<br>bronze=%{customdata[2]}<extra></extra>",
         "hovertext": [
          "Uganda"
         ],
         "legendgroup": "Uganda",
         "marker": {
          "color": "#B6E880",
          "size": [
           2
          ],
          "sizemode": "area",
          "sizeref": 0.035,
          "symbol": "circle"
         },
         "mode": "markers",
         "name": "Uganda",
         "orientation": "v",
         "showlegend": true,
         "type": "scatter",
         "x": [
          1014.21
         ],
         "xaxis": "x",
         "y": [
          2
         ],
         "yaxis": "y"
        },
        {
         "customdata": [
          [
           1,
           0,
           2
          ]
         ],
         "hovertemplate": "<b>%{hovertext}</b><br><br>country=Dominican Republic<br>gdp=%{x}<br>total=%{marker.size}<br>gold=%{customdata[0]}<br>silver=%{customdata[1]}<br>bronze=%{customdata[2]}<extra></extra>",
         "hovertext": [
          "Dominican Republic"
         ],
         "legendgroup": "Dominican Republic",
         "marker": {
          "color": "#FF97FF",
          "size": [
           3
          ],
          "sizemode": "area",
          "sizeref": 0.035,
          "symbol": "circle"
         },
         "mode": "markers",
         "name": "Dominican Republic",
         "orientation": "v",
         "showlegend": true,
         "type": "scatter",
         "x": [
          10716.01
         ],
         "xaxis": "x",
         "y": [
          3
         ],
         "yaxis": "y"
        },
        {
         "customdata": [
          [
           1,
           0,
           1
          ]
         ],
         "hovertemplate": "<b>%{hovertext}</b><br><br>country=Guatemala<br>gdp=%{x}<br>total=%{marker.size}<br>gold=%{customdata[0]}<br>silver=%{customdata[1]}<br>bronze=%{customdata[2]}<extra></extra>",
         "hovertext": [
          "Guatemala"
         ],
         "legendgroup": "Guatemala",
         "marker": {
          "color": "#FECB52",
          "size": [
           2
          ],
          "sizemode": "area",
          "sizeref": 0.035,
          "symbol": "circle"
         },
         "mode": "markers",
         "name": "Guatemala",
         "orientation": "v",
         "showlegend": true,
         "type": "scatter",
         "x": [
          5797.52
         ],
         "xaxis": "x",
         "y": [
          2
         ],
         "yaxis": "y"
        },
        {
         "customdata": [
          [
           1,
           0,
           1
          ]
         ],
         "hovertemplate": "<b>%{hovertext}</b><br><br>country=Morocco<br>gdp=%{x}<br>total=%{marker.size}<br>gold=%{customdata[0]}<br>silver=%{customdata[1]}<br>bronze=%{customdata[2]}<extra></extra>",
         "hovertext": [
          "Morocco"
         ],
         "legendgroup": "Morocco",
         "marker": {
          "color": "#636efa",
          "size": [
           2
          ],
          "sizemode": "area",
          "sizeref": 0.035,
          "symbol": "circle"
         },
         "mode": "markers",
         "name": "Morocco",
         "orientation": "v",
         "showlegend": true,
         "type": "scatter",
         "x": [
          3672.11
         ],
         "xaxis": "x",
         "y": [
          2
         ],
         "yaxis": "y"
        },
        {
         "customdata": [
          [
           1,
           0,
           0
          ]
         ],
         "hovertemplate": "<b>%{hovertext}</b><br><br>country=Dominica<br>gdp=%{x}<br>total=%{marker.size}<br>gold=%{customdata[0]}<br>silver=%{customdata[1]}<br>bronze=%{customdata[2]}<extra></extra>",
         "hovertext": [
          "Dominica"
         ],
         "legendgroup": "Dominica",
         "marker": {
          "color": "#EF553B",
          "size": [
           1
          ],
          "sizemode": "area",
          "sizeref": 0.035,
          "symbol": "circle"
         },
         "mode": "markers",
         "name": "Dominica",
         "orientation": "v",
         "showlegend": true,
         "type": "scatter",
         "x": [
          8953.9
         ],
         "xaxis": "x",
         "y": [
          1
         ],
         "yaxis": "y"
        },
        {
         "customdata": [
          [
           1,
           0,
           0
          ]
         ],
         "hovertemplate": "<b>%{hovertext}</b><br><br>country=Pakistan<br>gdp=%{x}<br>total=%{marker.size}<br>gold=%{customdata[0]}<br>silver=%{customdata[1]}<br>bronze=%{customdata[2]}<extra></extra>",
         "hovertext": [
          "Pakistan"
         ],
         "legendgroup": "Pakistan",
         "marker": {
          "color": "#00cc96",
          "size": [
           1
          ],
          "sizemode": "area",
          "sizeref": 0.035,
          "symbol": "circle"
         },
         "mode": "markers",
         "name": "Pakistan",
         "orientation": "v",
         "showlegend": true,
         "type": "scatter",
         "x": [
          1407.02
         ],
         "xaxis": "x",
         "y": [
          1
         ],
         "yaxis": "y"
        },
        {
         "customdata": [
          [
           0,
           3,
           5
          ]
         ],
         "hovertemplate": "<b>%{hovertext}</b><br><br>country=Turkey<br>gdp=%{x}<br>total=%{marker.size}<br>gold=%{customdata[0]}<br>silver=%{customdata[1]}<br>bronze=%{customdata[2]}<extra></extra>",
         "hovertext": [
          "Turkey"
         ],
         "legendgroup": "Turkey",
         "marker": {
          "color": "#ab63fa",
          "size": [
           8
          ],
          "sizemode": "area",
          "sizeref": 0.035,
          "symbol": "circle"
         },
         "mode": "markers",
         "name": "Turkey",
         "orientation": "v",
         "showlegend": true,
         "type": "scatter",
         "x": [
          12985.75
         ],
         "xaxis": "x",
         "y": [
          8
         ],
         "yaxis": "y"
        },
        {
         "customdata": [
          [
           0,
           3,
           2
          ]
         ],
         "hovertemplate": "<b>%{hovertext}</b><br><br>country=Mexico<br>gdp=%{x}<br>total=%{marker.size}<br>gold=%{customdata[0]}<br>silver=%{customdata[1]}<br>bronze=%{customdata[2]}<extra></extra>",
         "hovertext": [
          "Mexico"
         ],
         "legendgroup": "Mexico",
         "marker": {
          "color": "#FFA15A",
          "size": [
           5
          ],
          "sizemode": "area",
          "sizeref": 0.035,
          "symbol": "circle"
         },
         "mode": "markers",
         "name": "Mexico",
         "orientation": "v",
         "showlegend": true,
         "type": "scatter",
         "x": [
          13926.11
         ],
         "xaxis": "x",
         "y": [
          5
         ],
         "yaxis": "y"
        },
        {
         "customdata": [
          [
           0,
           3,
           1
          ]
         ],
         "hovertemplate": "<b>%{hovertext}</b><br><br>country=Armenia<br>gdp=%{x}<br>total=%{marker.size}<br>gold=%{customdata[0]}<br>silver=%{customdata[1]}<br>bronze=%{customdata[2]}<extra></extra>",
         "hovertext": [
          "Armenia"
         ],
         "legendgroup": "Armenia",
         "marker": {
          "color": "#19d3f3",
          "size": [
           4
          ],
          "sizemode": "area",
          "sizeref": 0.035,
          "symbol": "circle"
         },
         "mode": "markers",
         "name": "Armenia",
         "orientation": "v",
         "showlegend": true,
         "type": "scatter",
         "x": [
          8715.77
         ],
         "xaxis": "x",
         "y": [
          4
         ],
         "yaxis": "y"
        },
        {
         "customdata": [
          [
           0,
           3,
           1
          ]
         ],
         "hovertemplate": "<b>%{hovertext}</b><br><br>country=Colombia<br>gdp=%{x}<br>total=%{marker.size}<br>gold=%{customdata[0]}<br>silver=%{customdata[1]}<br>bronze=%{customdata[2]}<extra></extra>",
         "hovertext": [
          "Colombia"
         ],
         "legendgroup": "Colombia",
         "marker": {
          "color": "#FF6692",
          "size": [
           4
          ],
          "sizemode": "area",
          "sizeref": 0.035,
          "symbol": "circle"
         },
         "mode": "markers",
         "name": "Colombia",
         "orientation": "v",
         "showlegend": true,
         "type": "scatter",
         "x": [
          6979.73
         ],
         "xaxis": "x",
         "y": [
          4
         ],
         "yaxis": "y"
        },
        {
         "customdata": [
          [
           0,
           2,
           4
          ]
         ],
         "hovertemplate": "<b>%{hovertext}</b><br><br>country=North Korea<br>gdp=%{x}<br>total=%{marker.size}<br>gold=%{customdata[0]}<br>silver=%{customdata[1]}<br>bronze=%{customdata[2]}<extra></extra>",
         "hovertext": [
          "North Korea"
         ],
         "legendgroup": "North Korea",
         "marker": {
          "color": "#B6E880",
          "size": [
           6
          ],
          "sizemode": "area",
          "sizeref": 0.035,
          "symbol": "circle"
         },
         "mode": "markers",
         "name": "North Korea",
         "orientation": "v",
         "showlegend": true,
         "type": "scatter",
         "x": [
          1217
         ],
         "xaxis": "x",
         "y": [
          6
         ],
         "yaxis": "y"
        },
        {
         "customdata": [
          [
           0,
           2,
           4
          ]
         ],
         "hovertemplate": "<b>%{hovertext}</b><br><br>country=Kyrgyzstan<br>gdp=%{x}<br>total=%{marker.size}<br>gold=%{customdata[0]}<br>silver=%{customdata[1]}<br>bronze=%{customdata[2]}<extra></extra>",
         "hovertext": [
          "Kyrgyzstan"
         ],
         "legendgroup": "Kyrgyzstan",
         "marker": {
          "color": "#FF97FF",
          "size": [
           6
          ],
          "sizemode": "area",
          "sizeref": 0.035,
          "symbol": "circle"
         },
         "mode": "markers",
         "name": "Kyrgyzstan",
         "orientation": "v",
         "showlegend": true,
         "type": "scatter",
         "x": [
          1969.87
         ],
         "xaxis": "x",
         "y": [
          6
         ],
         "yaxis": "y"
        },
        {
         "customdata": [
          [
           0,
           2,
           2
          ]
         ],
         "hovertemplate": "<b>%{hovertext}</b><br><br>country=Lithuania<br>gdp=%{x}<br>total=%{marker.size}<br>gold=%{customdata[0]}<br>silver=%{customdata[1]}<br>bronze=%{customdata[2]}<extra></extra>",
         "hovertext": [
          "Lithuania"
         ],
         "legendgroup": "Lithuania",
         "marker": {
          "color": "#FECB52",
          "size": [
           4
          ],
          "sizemode": "area",
          "sizeref": 0.035,
          "symbol": "circle"
         },
         "mode": "markers",
         "name": "Lithuania",
         "orientation": "v",
         "showlegend": true,
         "type": "scatter",
         "x": [
          27102.78
         ],
         "xaxis": "x",
         "y": [
          4
         ],
         "yaxis": "y"
        },
        {
         "customdata": [
          [
           0,
           1,
           5
          ]
         ],
         "hovertemplate": "<b>%{hovertext}</b><br><br>country=India<br>gdp=%{x}<br>total=%{marker.size}<br>gold=%{customdata[0]}<br>silver=%{customdata[1]}<br>bronze=%{customdata[2]}<extra></extra>",
         "hovertext": [
          "India"
         ],
         "legendgroup": "India",
         "marker": {
          "color": "#636efa",
          "size": [
           6
          ],
          "sizemode": "area",
          "sizeref": 0.035,
          "symbol": "circle"
         },
         "mode": "markers",
         "name": "India",
         "orientation": "v",
         "showlegend": true,
         "type": "scatter",
         "x": [
          2484.85
         ],
         "xaxis": "x",
         "y": [
          6
         ],
         "yaxis": "y"
        },
        {
         "customdata": [
          [
           0,
           1,
           3
          ]
         ],
         "hovertemplate": "<b>%{hovertext}</b><br><br>country=Moldova<br>gdp=%{x}<br>total=%{marker.size}<br>gold=%{customdata[0]}<br>silver=%{customdata[1]}<br>bronze=%{customdata[2]}<extra></extra>",
         "hovertext": [
          "Moldova"
         ],
         "legendgroup": "Moldova",
         "marker": {
          "color": "#EF553B",
          "size": [
           4
          ],
          "sizemode": "area",
          "sizeref": 0.035,
          "symbol": "circle"
         },
         "mode": "markers",
         "name": "Moldova",
         "orientation": "v",
         "showlegend": true,
         "type": "scatter",
         "x": [
          6650.65
         ],
         "xaxis": "x",
         "y": [
          4
         ],
         "yaxis": "y"
        },
        {
         "customdata": [
          [
           0,
           1,
           1
          ]
         ],
         "hovertemplate": "<b>%{hovertext}</b><br><br>country=Kosovo<br>gdp=%{x}<br>total=%{marker.size}<br>gold=%{customdata[0]}<br>silver=%{customdata[1]}<br>bronze=%{customdata[2]}<extra></extra>",
         "hovertext": [
          "Kosovo"
         ],
         "legendgroup": "Kosovo",
         "marker": {
          "color": "#00cc96",
          "size": [
           2
          ],
          "sizemode": "area",
          "sizeref": 0.035,
          "symbol": "circle"
         },
         "mode": "markers",
         "name": "Kosovo",
         "orientation": "v",
         "showlegend": true,
         "type": "scatter",
         "x": [
          5943.13
         ],
         "xaxis": "x",
         "y": [
          2
         ],
         "yaxis": "y"
        },
        {
         "customdata": [
          [
           0,
           1,
           0
          ]
         ],
         "hovertemplate": "<b>%{hovertext}</b><br><br>country=Cyprus<br>gdp=%{x}<br>total=%{marker.size}<br>gold=%{customdata[0]}<br>silver=%{customdata[1]}<br>bronze=%{customdata[2]}<extra></extra>",
         "hovertext": [
          "Cyprus"
         ],
         "legendgroup": "Cyprus",
         "marker": {
          "color": "#ab63fa",
          "size": [
           1
          ],
          "sizemode": "area",
          "sizeref": 0.035,
          "symbol": "circle"
         },
         "mode": "markers",
         "name": "Cyprus",
         "orientation": "v",
         "showlegend": true,
         "type": "scatter",
         "x": [
          34701.44
         ],
         "xaxis": "x",
         "y": [
          1
         ],
         "yaxis": "y"
        },
        {
         "customdata": [
          [
           0,
           1,
           0
          ]
         ],
         "hovertemplate": "<b>%{hovertext}</b><br><br>country=Fiji<br>gdp=%{x}<br>total=%{marker.size}<br>gold=%{customdata[0]}<br>silver=%{customdata[1]}<br>bronze=%{customdata[2]}<extra></extra>",
         "hovertext": [
          "Fiji"
         ],
         "legendgroup": "Fiji",
         "marker": {
          "color": "#FFA15A",
          "size": [
           1
          ],
          "sizemode": "area",
          "sizeref": 0.035,
          "symbol": "circle"
         },
         "mode": "markers",
         "name": "Fiji",
         "orientation": "v",
         "showlegend": true,
         "type": "scatter",
         "x": [
          5868.16
         ],
         "xaxis": "x",
         "y": [
          1
         ],
         "yaxis": "y"
        },
        {
         "customdata": [
          [
           0,
           1,
           0
          ]
         ],
         "hovertemplate": "<b>%{hovertext}</b><br><br>country=Jordan<br>gdp=%{x}<br>total=%{marker.size}<br>gold=%{customdata[0]}<br>silver=%{customdata[1]}<br>bronze=%{customdata[2]}<extra></extra>",
         "hovertext": [
          "Jordan"
         ],
         "legendgroup": "Jordan",
         "marker": {
          "color": "#19d3f3",
          "size": [
           1
          ],
          "sizemode": "area",
          "sizeref": 0.035,
          "symbol": "circle"
         },
         "mode": "markers",
         "name": "Jordan",
         "orientation": "v",
         "showlegend": true,
         "type": "scatter",
         "x": [
          4482.09
         ],
         "xaxis": "x",
         "y": [
          1
         ],
         "yaxis": "y"
        },
        {
         "customdata": [
          [
           0,
           1,
           0
          ]
         ],
         "hovertemplate": "<b>%{hovertext}</b><br><br>country=Mongolia<br>gdp=%{x}<br>total=%{marker.size}<br>gold=%{customdata[0]}<br>silver=%{customdata[1]}<br>bronze=%{customdata[2]}<extra></extra>",
         "hovertext": [
          "Mongolia"
         ],
         "legendgroup": "Mongolia",
         "marker": {
          "color": "#FF6692",
          "size": [
           1
          ],
          "sizemode": "area",
          "sizeref": 0.035,
          "symbol": "circle"
         },
         "mode": "markers",
         "name": "Mongolia",
         "orientation": "v",
         "showlegend": true,
         "type": "scatter",
         "x": [
          5764.8
         ],
         "xaxis": "x",
         "y": [
          1
         ],
         "yaxis": "y"
        },
        {
         "customdata": [
          [
           0,
           1,
           0
          ]
         ],
         "hovertemplate": "<b>%{hovertext}</b><br><br>country=Panama<br>gdp=%{x}<br>total=%{marker.size}<br>gold=%{customdata[0]}<br>silver=%{customdata[1]}<br>bronze=%{customdata[2]}<extra></extra>",
         "hovertext": [
          "Panama"
         ],
         "legendgroup": "Panama",
         "marker": {
          "color": "#B6E880",
          "size": [
           1
          ],
          "sizemode": "area",
          "sizeref": 0.035,
          "symbol": "circle"
         },
         "mode": "markers",
         "name": "Panama",
         "orientation": "v",
         "showlegend": true,
         "type": "scatter",
         "x": [
          18661.77
         ],
         "xaxis": "x",
         "y": [
          1
         ],
         "yaxis": "y"
        },
        {
         "customdata": [
          [
           0,
           0,
           3
          ]
         ],
         "hovertemplate": "<b>%{hovertext}</b><br><br>country=Tajikistan<br>gdp=%{x}<br>total=%{marker.size}<br>gold=%{customdata[0]}<br>silver=%{customdata[1]}<br>bronze=%{customdata[2]}<extra></extra>",
         "hovertext": [
          "Tajikistan"
         ],
         "legendgroup": "Tajikistan",
         "marker": {
          "color": "#FF97FF",
          "size": [
           3
          ],
          "sizemode": "area",
          "sizeref": 0.035,
          "symbol": "circle"
         },
         "mode": "markers",
         "name": "Tajikistan",
         "orientation": "v",
         "showlegend": true,
         "type": "scatter",
         "x": [
          1188.99
         ],
         "xaxis": "x",
         "y": [
          3
         ],
         "yaxis": "y"
        },
        {
         "customdata": [
          [
           0,
           0,
           2
          ]
         ],
         "hovertemplate": "<b>%{hovertext}</b><br><br>country=Albania<br>gdp=%{x}<br>total=%{marker.size}<br>gold=%{customdata[0]}<br>silver=%{customdata[1]}<br>bronze=%{customdata[2]}<extra></extra>",
         "hovertext": [
          "Albania"
         ],
         "legendgroup": "Albania",
         "marker": {
          "color": "#FECB52",
          "size": [
           2
          ],
          "sizemode": "area",
          "sizeref": 0.035,
          "symbol": "circle"
         },
         "mode": "markers",
         "name": "Albania",
         "orientation": "v",
         "showlegend": true,
         "type": "scatter",
         "x": [
          8367.78
         ],
         "xaxis": "x",
         "y": [
          2
         ],
         "yaxis": "y"
        },
        {
         "customdata": [
          [
           0,
           0,
           2
          ]
         ],
         "hovertemplate": "<b>%{hovertext}</b><br><br>country=Grenada<br>gdp=%{x}<br>total=%{marker.size}<br>gold=%{customdata[0]}<br>silver=%{customdata[1]}<br>bronze=%{customdata[2]}<extra></extra>",
         "hovertext": [
          "Grenada"
         ],
         "legendgroup": "Grenada",
         "marker": {
          "color": "#636efa",
          "size": [
           2
          ],
          "sizemode": "area",
          "sizeref": 0.035,
          "symbol": "circle"
         },
         "mode": "markers",
         "name": "Grenada",
         "orientation": "v",
         "showlegend": true,
         "type": "scatter",
         "x": [
          10463.65
         ],
         "xaxis": "x",
         "y": [
          2
         ],
         "yaxis": "y"
        },
        {
         "customdata": [
          [
           0,
           0,
           2
          ]
         ],
         "hovertemplate": "<b>%{hovertext}</b><br><br>country=Malaysia<br>gdp=%{x}<br>total=%{marker.size}<br>gold=%{customdata[0]}<br>silver=%{customdata[1]}<br>bronze=%{customdata[2]}<extra></extra>",
         "hovertext": [
          "Malaysia"
         ],
         "legendgroup": "Malaysia",
         "marker": {
          "color": "#EF553B",
          "size": [
           2
          ],
          "sizemode": "area",
          "sizeref": 0.035,
          "symbol": "circle"
         },
         "mode": "markers",
         "name": "Malaysia",
         "orientation": "v",
         "showlegend": true,
         "type": "scatter",
         "x": [
          11648.67
         ],
         "xaxis": "x",
         "y": [
          2
         ],
         "yaxis": "y"
        },
        {
         "customdata": [
          [
           0,
           0,
           2
          ]
         ],
         "hovertemplate": "<b>%{hovertext}</b><br><br>country=Puerto Rico<br>gdp=%{x}<br>total=%{marker.size}<br>gold=%{customdata[0]}<br>silver=%{customdata[1]}<br>bronze=%{customdata[2]}<extra></extra>",
         "hovertext": [
          "Puerto Rico"
         ],
         "legendgroup": "Puerto Rico",
         "marker": {
          "color": "#00cc96",
          "size": [
           2
          ],
          "sizemode": "area",
          "sizeref": 0.035,
          "symbol": "circle"
         },
         "mode": "markers",
         "name": "Puerto Rico",
         "orientation": "v",
         "showlegend": true,
         "type": "scatter",
         "x": [
          36779.06
         ],
         "xaxis": "x",
         "y": [
          2
         ],
         "yaxis": "y"
        },
        {
         "customdata": [
          [
           0,
           0,
           1
          ]
         ],
         "hovertemplate": "<b>%{hovertext}</b><br><br>country=Cape Verde<br>gdp=%{x}<br>total=%{marker.size}<br>gold=%{customdata[0]}<br>silver=%{customdata[1]}<br>bronze=%{customdata[2]}<extra></extra>",
         "hovertext": [
          "Cape Verde"
         ],
         "legendgroup": "Cape Verde",
         "marker": {
          "color": "#ab63fa",
          "size": [
           1
          ],
          "sizemode": "area",
          "sizeref": 0.035,
          "symbol": "circle"
         },
         "mode": "markers",
         "name": "Cape Verde",
         "orientation": "v",
         "showlegend": true,
         "type": "scatter",
         "x": [
          4321.58
         ],
         "xaxis": "x",
         "y": [
          1
         ],
         "yaxis": "y"
        },
        {
         "customdata": [
          [
           0,
           0,
           1
          ]
         ],
         "hovertemplate": "<b>%{hovertext}</b><br><br>country=Ivory Coast<br>gdp=%{x}<br>total=%{marker.size}<br>gold=%{customdata[0]}<br>silver=%{customdata[1]}<br>bronze=%{customdata[2]}<extra></extra>",
         "hovertext": [
          "Ivory Coast"
         ],
         "legendgroup": "Ivory Coast",
         "marker": {
          "color": "#FFA15A",
          "size": [
           1
          ],
          "sizemode": "area",
          "sizeref": 0.035,
          "symbol": "circle"
         },
         "mode": "markers",
         "name": "Ivory Coast",
         "orientation": "v",
         "showlegend": true,
         "type": "scatter",
         "x": [
          2728.8
         ],
         "xaxis": "x",
         "y": [
          1
         ],
         "yaxis": "y"
        },
        {
         "customdata": [
          [
           0,
           0,
           1
          ]
         ],
         "hovertemplate": "<b>%{hovertext}</b><br><br>country=Peru<br>gdp=%{x}<br>total=%{marker.size}<br>gold=%{customdata[0]}<br>silver=%{customdata[1]}<br>bronze=%{customdata[2]}<extra></extra>",
         "hovertext": [
          "Peru"
         ],
         "legendgroup": "Peru",
         "marker": {
          "color": "#19d3f3",
          "size": [
           1
          ],
          "sizemode": "area",
          "sizeref": 0.035,
          "symbol": "circle"
         },
         "mode": "markers",
         "name": "Peru",
         "orientation": "v",
         "showlegend": true,
         "type": "scatter",
         "x": [
          7789.87
         ],
         "xaxis": "x",
         "y": [
          1
         ],
         "yaxis": "y"
        },
        {
         "customdata": [
          [
           0,
           0,
           1
          ]
         ],
         "hovertemplate": "<b>%{hovertext}</b><br><br>country=Qatar<br>gdp=%{x}<br>total=%{marker.size}<br>gold=%{customdata[0]}<br>silver=%{customdata[1]}<br>bronze=%{customdata[2]}<extra></extra>",
         "hovertext": [
          "Qatar"
         ],
         "legendgroup": "Qatar",
         "marker": {
          "color": "#FF6692",
          "size": [
           1
          ],
          "sizemode": "area",
          "sizeref": 0.035,
          "symbol": "circle"
         },
         "mode": "markers",
         "name": "Qatar",
         "orientation": "v",
         "showlegend": true,
         "type": "scatter",
         "x": [
          87480.42
         ],
         "xaxis": "x",
         "y": [
          1
         ],
         "yaxis": "y"
        },
        {
         "customdata": [
          [
           0,
           0,
           1
          ]
         ],
         "hovertemplate": "<b>%{hovertext}</b><br><br>country=Singapore<br>gdp=%{x}<br>total=%{marker.size}<br>gold=%{customdata[0]}<br>silver=%{customdata[1]}<br>bronze=%{customdata[2]}<extra></extra>",
         "hovertext": [
          "Singapore"
         ],
         "legendgroup": "Singapore",
         "marker": {
          "color": "#B6E880",
          "size": [
           1
          ],
          "sizemode": "area",
          "sizeref": 0.035,
          "symbol": "circle"
         },
         "mode": "markers",
         "name": "Singapore",
         "orientation": "v",
         "showlegend": true,
         "type": "scatter",
         "x": [
          84734.26
         ],
         "xaxis": "x",
         "y": [
          1
         ],
         "yaxis": "y"
        },
        {
         "customdata": [
          [
           0,
           0,
           1
          ]
         ],
         "hovertemplate": "<b>%{hovertext}</b><br><br>country=Slovakia<br>gdp=%{x}<br>total=%{marker.size}<br>gold=%{customdata[0]}<br>silver=%{customdata[1]}<br>bronze=%{customdata[2]}<extra></extra>",
         "hovertext": [
          "Slovakia"
         ],
         "legendgroup": "Slovakia",
         "marker": {
          "color": "#FF97FF",
          "size": [
           1
          ],
          "sizemode": "area",
          "sizeref": 0.035,
          "symbol": "circle"
         },
         "mode": "markers",
         "name": "Slovakia",
         "orientation": "v",
         "showlegend": true,
         "type": "scatter",
         "x": [
          24470.24
         ],
         "xaxis": "x",
         "y": [
          1
         ],
         "yaxis": "y"
        },
        {
         "customdata": [
          [
           0,
           0,
           1
          ]
         ],
         "hovertemplate": "<b>%{hovertext}</b><br><br>country=Zambia<br>gdp=%{x}<br>total=%{marker.size}<br>gold=%{customdata[0]}<br>silver=%{customdata[1]}<br>bronze=%{customdata[2]}<extra></extra>",
         "hovertext": [
          "Zambia"
         ],
         "legendgroup": "Zambia",
         "marker": {
          "color": "#FECB52",
          "size": [
           1
          ],
          "sizemode": "area",
          "sizeref": 0.035,
          "symbol": "circle"
         },
         "mode": "markers",
         "name": "Zambia",
         "orientation": "v",
         "showlegend": true,
         "type": "scatter",
         "x": [
          1369.13
         ],
         "xaxis": "x",
         "y": [
          1
         ],
         "yaxis": "y"
        }
       ],
       "layout": {
        "height": 600,
        "legend": {
         "itemsizing": "constant",
         "title": {
          "text": "country"
         },
         "tracegroupgap": 0
        },
        "template": {
         "data": {
          "bar": [
           {
            "error_x": {
             "color": "#2a3f5f"
            },
            "error_y": {
             "color": "#2a3f5f"
            },
            "marker": {
             "line": {
              "color": "#E5ECF6",
              "width": 0.5
             },
             "pattern": {
              "fillmode": "overlay",
              "size": 10,
              "solidity": 0.2
             }
            },
            "type": "bar"
           }
          ],
          "barpolar": [
           {
            "marker": {
             "line": {
              "color": "#E5ECF6",
              "width": 0.5
             },
             "pattern": {
              "fillmode": "overlay",
              "size": 10,
              "solidity": 0.2
             }
            },
            "type": "barpolar"
           }
          ],
          "carpet": [
           {
            "aaxis": {
             "endlinecolor": "#2a3f5f",
             "gridcolor": "white",
             "linecolor": "white",
             "minorgridcolor": "white",
             "startlinecolor": "#2a3f5f"
            },
            "baxis": {
             "endlinecolor": "#2a3f5f",
             "gridcolor": "white",
             "linecolor": "white",
             "minorgridcolor": "white",
             "startlinecolor": "#2a3f5f"
            },
            "type": "carpet"
           }
          ],
          "choropleth": [
           {
            "colorbar": {
             "outlinewidth": 0,
             "ticks": ""
            },
            "type": "choropleth"
           }
          ],
          "contour": [
           {
            "colorbar": {
             "outlinewidth": 0,
             "ticks": ""
            },
            "colorscale": [
             [
              0,
              "#0d0887"
             ],
             [
              0.1111111111111111,
              "#46039f"
             ],
             [
              0.2222222222222222,
              "#7201a8"
             ],
             [
              0.3333333333333333,
              "#9c179e"
             ],
             [
              0.4444444444444444,
              "#bd3786"
             ],
             [
              0.5555555555555556,
              "#d8576b"
             ],
             [
              0.6666666666666666,
              "#ed7953"
             ],
             [
              0.7777777777777778,
              "#fb9f3a"
             ],
             [
              0.8888888888888888,
              "#fdca26"
             ],
             [
              1,
              "#f0f921"
             ]
            ],
            "type": "contour"
           }
          ],
          "contourcarpet": [
           {
            "colorbar": {
             "outlinewidth": 0,
             "ticks": ""
            },
            "type": "contourcarpet"
           }
          ],
          "heatmap": [
           {
            "colorbar": {
             "outlinewidth": 0,
             "ticks": ""
            },
            "colorscale": [
             [
              0,
              "#0d0887"
             ],
             [
              0.1111111111111111,
              "#46039f"
             ],
             [
              0.2222222222222222,
              "#7201a8"
             ],
             [
              0.3333333333333333,
              "#9c179e"
             ],
             [
              0.4444444444444444,
              "#bd3786"
             ],
             [
              0.5555555555555556,
              "#d8576b"
             ],
             [
              0.6666666666666666,
              "#ed7953"
             ],
             [
              0.7777777777777778,
              "#fb9f3a"
             ],
             [
              0.8888888888888888,
              "#fdca26"
             ],
             [
              1,
              "#f0f921"
             ]
            ],
            "type": "heatmap"
           }
          ],
          "heatmapgl": [
           {
            "colorbar": {
             "outlinewidth": 0,
             "ticks": ""
            },
            "colorscale": [
             [
              0,
              "#0d0887"
             ],
             [
              0.1111111111111111,
              "#46039f"
             ],
             [
              0.2222222222222222,
              "#7201a8"
             ],
             [
              0.3333333333333333,
              "#9c179e"
             ],
             [
              0.4444444444444444,
              "#bd3786"
             ],
             [
              0.5555555555555556,
              "#d8576b"
             ],
             [
              0.6666666666666666,
              "#ed7953"
             ],
             [
              0.7777777777777778,
              "#fb9f3a"
             ],
             [
              0.8888888888888888,
              "#fdca26"
             ],
             [
              1,
              "#f0f921"
             ]
            ],
            "type": "heatmapgl"
           }
          ],
          "histogram": [
           {
            "marker": {
             "pattern": {
              "fillmode": "overlay",
              "size": 10,
              "solidity": 0.2
             }
            },
            "type": "histogram"
           }
          ],
          "histogram2d": [
           {
            "colorbar": {
             "outlinewidth": 0,
             "ticks": ""
            },
            "colorscale": [
             [
              0,
              "#0d0887"
             ],
             [
              0.1111111111111111,
              "#46039f"
             ],
             [
              0.2222222222222222,
              "#7201a8"
             ],
             [
              0.3333333333333333,
              "#9c179e"
             ],
             [
              0.4444444444444444,
              "#bd3786"
             ],
             [
              0.5555555555555556,
              "#d8576b"
             ],
             [
              0.6666666666666666,
              "#ed7953"
             ],
             [
              0.7777777777777778,
              "#fb9f3a"
             ],
             [
              0.8888888888888888,
              "#fdca26"
             ],
             [
              1,
              "#f0f921"
             ]
            ],
            "type": "histogram2d"
           }
          ],
          "histogram2dcontour": [
           {
            "colorbar": {
             "outlinewidth": 0,
             "ticks": ""
            },
            "colorscale": [
             [
              0,
              "#0d0887"
             ],
             [
              0.1111111111111111,
              "#46039f"
             ],
             [
              0.2222222222222222,
              "#7201a8"
             ],
             [
              0.3333333333333333,
              "#9c179e"
             ],
             [
              0.4444444444444444,
              "#bd3786"
             ],
             [
              0.5555555555555556,
              "#d8576b"
             ],
             [
              0.6666666666666666,
              "#ed7953"
             ],
             [
              0.7777777777777778,
              "#fb9f3a"
             ],
             [
              0.8888888888888888,
              "#fdca26"
             ],
             [
              1,
              "#f0f921"
             ]
            ],
            "type": "histogram2dcontour"
           }
          ],
          "mesh3d": [
           {
            "colorbar": {
             "outlinewidth": 0,
             "ticks": ""
            },
            "type": "mesh3d"
           }
          ],
          "parcoords": [
           {
            "line": {
             "colorbar": {
              "outlinewidth": 0,
              "ticks": ""
             }
            },
            "type": "parcoords"
           }
          ],
          "pie": [
           {
            "automargin": true,
            "type": "pie"
           }
          ],
          "scatter": [
           {
            "fillpattern": {
             "fillmode": "overlay",
             "size": 10,
             "solidity": 0.2
            },
            "type": "scatter"
           }
          ],
          "scatter3d": [
           {
            "line": {
             "colorbar": {
              "outlinewidth": 0,
              "ticks": ""
             }
            },
            "marker": {
             "colorbar": {
              "outlinewidth": 0,
              "ticks": ""
             }
            },
            "type": "scatter3d"
           }
          ],
          "scattercarpet": [
           {
            "marker": {
             "colorbar": {
              "outlinewidth": 0,
              "ticks": ""
             }
            },
            "type": "scattercarpet"
           }
          ],
          "scattergeo": [
           {
            "marker": {
             "colorbar": {
              "outlinewidth": 0,
              "ticks": ""
             }
            },
            "type": "scattergeo"
           }
          ],
          "scattergl": [
           {
            "marker": {
             "colorbar": {
              "outlinewidth": 0,
              "ticks": ""
             }
            },
            "type": "scattergl"
           }
          ],
          "scattermapbox": [
           {
            "marker": {
             "colorbar": {
              "outlinewidth": 0,
              "ticks": ""
             }
            },
            "type": "scattermapbox"
           }
          ],
          "scatterpolar": [
           {
            "marker": {
             "colorbar": {
              "outlinewidth": 0,
              "ticks": ""
             }
            },
            "type": "scatterpolar"
           }
          ],
          "scatterpolargl": [
           {
            "marker": {
             "colorbar": {
              "outlinewidth": 0,
              "ticks": ""
             }
            },
            "type": "scatterpolargl"
           }
          ],
          "scatterternary": [
           {
            "marker": {
             "colorbar": {
              "outlinewidth": 0,
              "ticks": ""
             }
            },
            "type": "scatterternary"
           }
          ],
          "surface": [
           {
            "colorbar": {
             "outlinewidth": 0,
             "ticks": ""
            },
            "colorscale": [
             [
              0,
              "#0d0887"
             ],
             [
              0.1111111111111111,
              "#46039f"
             ],
             [
              0.2222222222222222,
              "#7201a8"
             ],
             [
              0.3333333333333333,
              "#9c179e"
             ],
             [
              0.4444444444444444,
              "#bd3786"
             ],
             [
              0.5555555555555556,
              "#d8576b"
             ],
             [
              0.6666666666666666,
              "#ed7953"
             ],
             [
              0.7777777777777778,
              "#fb9f3a"
             ],
             [
              0.8888888888888888,
              "#fdca26"
             ],
             [
              1,
              "#f0f921"
             ]
            ],
            "type": "surface"
           }
          ],
          "table": [
           {
            "cells": {
             "fill": {
              "color": "#EBF0F8"
             },
             "line": {
              "color": "white"
             }
            },
            "header": {
             "fill": {
              "color": "#C8D4E3"
             },
             "line": {
              "color": "white"
             }
            },
            "type": "table"
           }
          ]
         },
         "layout": {
          "annotationdefaults": {
           "arrowcolor": "#2a3f5f",
           "arrowhead": 0,
           "arrowwidth": 1
          },
          "autotypenumbers": "strict",
          "coloraxis": {
           "colorbar": {
            "outlinewidth": 0,
            "ticks": ""
           }
          },
          "colorscale": {
           "diverging": [
            [
             0,
             "#8e0152"
            ],
            [
             0.1,
             "#c51b7d"
            ],
            [
             0.2,
             "#de77ae"
            ],
            [
             0.3,
             "#f1b6da"
            ],
            [
             0.4,
             "#fde0ef"
            ],
            [
             0.5,
             "#f7f7f7"
            ],
            [
             0.6,
             "#e6f5d0"
            ],
            [
             0.7,
             "#b8e186"
            ],
            [
             0.8,
             "#7fbc41"
            ],
            [
             0.9,
             "#4d9221"
            ],
            [
             1,
             "#276419"
            ]
           ],
           "sequential": [
            [
             0,
             "#0d0887"
            ],
            [
             0.1111111111111111,
             "#46039f"
            ],
            [
             0.2222222222222222,
             "#7201a8"
            ],
            [
             0.3333333333333333,
             "#9c179e"
            ],
            [
             0.4444444444444444,
             "#bd3786"
            ],
            [
             0.5555555555555556,
             "#d8576b"
            ],
            [
             0.6666666666666666,
             "#ed7953"
            ],
            [
             0.7777777777777778,
             "#fb9f3a"
            ],
            [
             0.8888888888888888,
             "#fdca26"
            ],
            [
             1,
             "#f0f921"
            ]
           ],
           "sequentialminus": [
            [
             0,
             "#0d0887"
            ],
            [
             0.1111111111111111,
             "#46039f"
            ],
            [
             0.2222222222222222,
             "#7201a8"
            ],
            [
             0.3333333333333333,
             "#9c179e"
            ],
            [
             0.4444444444444444,
             "#bd3786"
            ],
            [
             0.5555555555555556,
             "#d8576b"
            ],
            [
             0.6666666666666666,
             "#ed7953"
            ],
            [
             0.7777777777777778,
             "#fb9f3a"
            ],
            [
             0.8888888888888888,
             "#fdca26"
            ],
            [
             1,
             "#f0f921"
            ]
           ]
          },
          "colorway": [
           "#636efa",
           "#EF553B",
           "#00cc96",
           "#ab63fa",
           "#FFA15A",
           "#19d3f3",
           "#FF6692",
           "#B6E880",
           "#FF97FF",
           "#FECB52"
          ],
          "font": {
           "color": "#2a3f5f"
          },
          "geo": {
           "bgcolor": "white",
           "lakecolor": "white",
           "landcolor": "#E5ECF6",
           "showlakes": true,
           "showland": true,
           "subunitcolor": "white"
          },
          "hoverlabel": {
           "align": "left"
          },
          "hovermode": "closest",
          "mapbox": {
           "style": "light"
          },
          "paper_bgcolor": "white",
          "plot_bgcolor": "#E5ECF6",
          "polar": {
           "angularaxis": {
            "gridcolor": "white",
            "linecolor": "white",
            "ticks": ""
           },
           "bgcolor": "#E5ECF6",
           "radialaxis": {
            "gridcolor": "white",
            "linecolor": "white",
            "ticks": ""
           }
          },
          "scene": {
           "xaxis": {
            "backgroundcolor": "#E5ECF6",
            "gridcolor": "white",
            "gridwidth": 2,
            "linecolor": "white",
            "showbackground": true,
            "ticks": "",
            "zerolinecolor": "white"
           },
           "yaxis": {
            "backgroundcolor": "#E5ECF6",
            "gridcolor": "white",
            "gridwidth": 2,
            "linecolor": "white",
            "showbackground": true,
            "ticks": "",
            "zerolinecolor": "white"
           },
           "zaxis": {
            "backgroundcolor": "#E5ECF6",
            "gridcolor": "white",
            "gridwidth": 2,
            "linecolor": "white",
            "showbackground": true,
            "ticks": "",
            "zerolinecolor": "white"
           }
          },
          "shapedefaults": {
           "line": {
            "color": "#2a3f5f"
           }
          },
          "ternary": {
           "aaxis": {
            "gridcolor": "white",
            "linecolor": "white",
            "ticks": ""
           },
           "baxis": {
            "gridcolor": "white",
            "linecolor": "white",
            "ticks": ""
           },
           "bgcolor": "#E5ECF6",
           "caxis": {
            "gridcolor": "white",
            "linecolor": "white",
            "ticks": ""
           }
          },
          "title": {
           "x": 0.05
          },
          "xaxis": {
           "automargin": true,
           "gridcolor": "white",
           "linecolor": "white",
           "ticks": "",
           "title": {
            "standoff": 15
           },
           "zerolinecolor": "white",
           "zerolinewidth": 2
          },
          "yaxis": {
           "automargin": true,
           "gridcolor": "white",
           "linecolor": "white",
           "ticks": "",
           "title": {
            "standoff": 15
           },
           "zerolinecolor": "white",
           "zerolinewidth": 2
          }
         }
        },
        "title": {
         "text": "Country and GDP and Medals"
        },
        "width": 1200,
        "xaxis": {
         "anchor": "y",
         "domain": [
          0,
          1
         ],
         "title": {
          "text": "gdp"
         }
        },
        "yaxis": {
         "anchor": "x",
         "domain": [
          0,
          1
         ],
         "title": {
          "text": "total"
         }
        }
       }
      }
     },
     "metadata": {},
     "output_type": "display_data"
    }
   ],
   "source": [
    "fig= px.scatter(\n",
    "    df,\n",
    "    x='gdp',\n",
    "    y='total',\n",
    "    color='country',\n",
    "    size='total',\n",
    "    size_max=60,\n",
    "    hover_data=['gold', 'silver', 'bronze'],\n",
    "    hover_name='country',\n",
    "    #facet_row='gdp_year',\n",
    "    width=1200,\n",
    "    height=600,\n",
    "    title='Country and GDP and Medals'\n",
    "    \n",
    ")\n",
    "\n",
    "fig.show()"
   ]
  },
  {
   "cell_type": "markdown",
   "metadata": {},
   "source": [
    "## Medal Pyramid"
   ]
  },
  {
   "cell_type": "code",
   "execution_count": 15,
   "metadata": {},
   "outputs": [
    {
     "data": {
      "application/vnd.plotly.v1+json": {
       "config": {
        "plotlyServerURL": "https://plot.ly"
       },
       "data": [
        {
         "a": [
          40
         ],
         "b": [
          42
         ],
         "c": [
          44
         ],
         "hovertemplate": "<b>%{hovertext}</b><br><br>country=United States<br>gold=%{a}<br>bronze=%{b}<br>silver=%{c}<br>total=%{marker.size}<extra></extra>",
         "hovertext": [
          "United States"
         ],
         "legendgroup": "United States",
         "marker": {
          "color": "#636efa",
          "size": [
           126
          ],
          "sizemode": "area",
          "sizeref": 0.0504,
          "symbol": "circle"
         },
         "mode": "markers",
         "name": "United States",
         "showlegend": true,
         "subplot": "ternary",
         "type": "scatterternary"
        },
        {
         "a": [
          40
         ],
         "b": [
          24
         ],
         "c": [
          27
         ],
         "hovertemplate": "<b>%{hovertext}</b><br><br>country=China<br>gold=%{a}<br>bronze=%{b}<br>silver=%{c}<br>total=%{marker.size}<extra></extra>",
         "hovertext": [
          "China"
         ],
         "legendgroup": "China",
         "marker": {
          "color": "#EF553B",
          "size": [
           91
          ],
          "sizemode": "area",
          "sizeref": 0.0504,
          "symbol": "circle"
         },
         "mode": "markers",
         "name": "China",
         "showlegend": true,
         "subplot": "ternary",
         "type": "scatterternary"
        },
        {
         "a": [
          20
         ],
         "b": [
          13
         ],
         "c": [
          12
         ],
         "hovertemplate": "<b>%{hovertext}</b><br><br>country=Japan<br>gold=%{a}<br>bronze=%{b}<br>silver=%{c}<br>total=%{marker.size}<extra></extra>",
         "hovertext": [
          "Japan"
         ],
         "legendgroup": "Japan",
         "marker": {
          "color": "#00cc96",
          "size": [
           45
          ],
          "sizemode": "area",
          "sizeref": 0.0504,
          "symbol": "circle"
         },
         "mode": "markers",
         "name": "Japan",
         "showlegend": true,
         "subplot": "ternary",
         "type": "scatterternary"
        },
        {
         "a": [
          18
         ],
         "b": [
          16
         ],
         "c": [
          19
         ],
         "hovertemplate": "<b>%{hovertext}</b><br><br>country=Australia<br>gold=%{a}<br>bronze=%{b}<br>silver=%{c}<br>total=%{marker.size}<extra></extra>",
         "hovertext": [
          "Australia"
         ],
         "legendgroup": "Australia",
         "marker": {
          "color": "#ab63fa",
          "size": [
           53
          ],
          "sizemode": "area",
          "sizeref": 0.0504,
          "symbol": "circle"
         },
         "mode": "markers",
         "name": "Australia",
         "showlegend": true,
         "subplot": "ternary",
         "type": "scatterternary"
        },
        {
         "a": [
          16
         ],
         "b": [
          22
         ],
         "c": [
          26
         ],
         "hovertemplate": "<b>%{hovertext}</b><br><br>country=France<br>gold=%{a}<br>bronze=%{b}<br>silver=%{c}<br>total=%{marker.size}<extra></extra>",
         "hovertext": [
          "France"
         ],
         "legendgroup": "France",
         "marker": {
          "color": "#FFA15A",
          "size": [
           64
          ],
          "sizemode": "area",
          "sizeref": 0.0504,
          "symbol": "circle"
         },
         "mode": "markers",
         "name": "France",
         "showlegend": true,
         "subplot": "ternary",
         "type": "scatterternary"
        },
        {
         "a": [
          15
         ],
         "b": [
          12
         ],
         "c": [
          7
         ],
         "hovertemplate": "<b>%{hovertext}</b><br><br>country=Netherlands<br>gold=%{a}<br>bronze=%{b}<br>silver=%{c}<br>total=%{marker.size}<extra></extra>",
         "hovertext": [
          "Netherlands"
         ],
         "legendgroup": "Netherlands",
         "marker": {
          "color": "#19d3f3",
          "size": [
           34
          ],
          "sizemode": "area",
          "sizeref": 0.0504,
          "symbol": "circle"
         },
         "mode": "markers",
         "name": "Netherlands",
         "showlegend": true,
         "subplot": "ternary",
         "type": "scatterternary"
        },
        {
         "a": [
          14
         ],
         "b": [
          29
         ],
         "c": [
          22
         ],
         "hovertemplate": "<b>%{hovertext}</b><br><br>country=Great Britain<br>gold=%{a}<br>bronze=%{b}<br>silver=%{c}<br>total=%{marker.size}<extra></extra>",
         "hovertext": [
          "Great Britain"
         ],
         "legendgroup": "Great Britain",
         "marker": {
          "color": "#FF6692",
          "size": [
           65
          ],
          "sizemode": "area",
          "sizeref": 0.0504,
          "symbol": "circle"
         },
         "mode": "markers",
         "name": "Great Britain",
         "showlegend": true,
         "subplot": "ternary",
         "type": "scatterternary"
        },
        {
         "a": [
          13
         ],
         "b": [
          10
         ],
         "c": [
          9
         ],
         "hovertemplate": "<b>%{hovertext}</b><br><br>country=South Korea<br>gold=%{a}<br>bronze=%{b}<br>silver=%{c}<br>total=%{marker.size}<extra></extra>",
         "hovertext": [
          "South Korea"
         ],
         "legendgroup": "South Korea",
         "marker": {
          "color": "#B6E880",
          "size": [
           32
          ],
          "sizemode": "area",
          "sizeref": 0.0504,
          "symbol": "circle"
         },
         "mode": "markers",
         "name": "South Korea",
         "showlegend": true,
         "subplot": "ternary",
         "type": "scatterternary"
        },
        {
         "a": [
          12
         ],
         "b": [
          15
         ],
         "c": [
          13
         ],
         "hovertemplate": "<b>%{hovertext}</b><br><br>country=Italy<br>gold=%{a}<br>bronze=%{b}<br>silver=%{c}<br>total=%{marker.size}<extra></extra>",
         "hovertext": [
          "Italy"
         ],
         "legendgroup": "Italy",
         "marker": {
          "color": "#FF97FF",
          "size": [
           40
          ],
          "sizemode": "area",
          "sizeref": 0.0504,
          "symbol": "circle"
         },
         "mode": "markers",
         "name": "Italy",
         "showlegend": true,
         "subplot": "ternary",
         "type": "scatterternary"
        },
        {
         "a": [
          12
         ],
         "b": [
          8
         ],
         "c": [
          13
         ],
         "hovertemplate": "<b>%{hovertext}</b><br><br>country=Germany<br>gold=%{a}<br>bronze=%{b}<br>silver=%{c}<br>total=%{marker.size}<extra></extra>",
         "hovertext": [
          "Germany"
         ],
         "legendgroup": "Germany",
         "marker": {
          "color": "#FECB52",
          "size": [
           33
          ],
          "sizemode": "area",
          "sizeref": 0.0504,
          "symbol": "circle"
         },
         "mode": "markers",
         "name": "Germany",
         "showlegend": true,
         "subplot": "ternary",
         "type": "scatterternary"
        },
        {
         "a": [
          10
         ],
         "b": [
          3
         ],
         "c": [
          7
         ],
         "hovertemplate": "<b>%{hovertext}</b><br><br>country=New Zealand<br>gold=%{a}<br>bronze=%{b}<br>silver=%{c}<br>total=%{marker.size}<extra></extra>",
         "hovertext": [
          "New Zealand"
         ],
         "legendgroup": "New Zealand",
         "marker": {
          "color": "#636efa",
          "size": [
           20
          ],
          "sizemode": "area",
          "sizeref": 0.0504,
          "symbol": "circle"
         },
         "mode": "markers",
         "name": "New Zealand",
         "showlegend": true,
         "subplot": "ternary",
         "type": "scatterternary"
        },
        {
         "a": [
          9
         ],
         "b": [
          11
         ],
         "c": [
          7
         ],
         "hovertemplate": "<b>%{hovertext}</b><br><br>country=Canada<br>gold=%{a}<br>bronze=%{b}<br>silver=%{c}<br>total=%{marker.size}<extra></extra>",
         "hovertext": [
          "Canada"
         ],
         "legendgroup": "Canada",
         "marker": {
          "color": "#EF553B",
          "size": [
           27
          ],
          "sizemode": "area",
          "sizeref": 0.0504,
          "symbol": "circle"
         },
         "mode": "markers",
         "name": "Canada",
         "showlegend": true,
         "subplot": "ternary",
         "type": "scatterternary"
        },
        {
         "a": [
          8
         ],
         "b": [
          3
         ],
         "c": [
          2
         ],
         "hovertemplate": "<b>%{hovertext}</b><br><br>country=Uzbekistan<br>gold=%{a}<br>bronze=%{b}<br>silver=%{c}<br>total=%{marker.size}<extra></extra>",
         "hovertext": [
          "Uzbekistan"
         ],
         "legendgroup": "Uzbekistan",
         "marker": {
          "color": "#00cc96",
          "size": [
           13
          ],
          "sizemode": "area",
          "sizeref": 0.0504,
          "symbol": "circle"
         },
         "mode": "markers",
         "name": "Uzbekistan",
         "showlegend": true,
         "subplot": "ternary",
         "type": "scatterternary"
        },
        {
         "a": [
          6
         ],
         "b": [
          6
         ],
         "c": [
          7
         ],
         "hovertemplate": "<b>%{hovertext}</b><br><br>country=Hungary<br>gold=%{a}<br>bronze=%{b}<br>silver=%{c}<br>total=%{marker.size}<extra></extra>",
         "hovertext": [
          "Hungary"
         ],
         "legendgroup": "Hungary",
         "marker": {
          "color": "#ab63fa",
          "size": [
           19
          ],
          "sizemode": "area",
          "sizeref": 0.0504,
          "symbol": "circle"
         },
         "mode": "markers",
         "name": "Hungary",
         "showlegend": true,
         "subplot": "ternary",
         "type": "scatterternary"
        },
        {
         "a": [
          5
         ],
         "b": [
          9
         ],
         "c": [
          4
         ],
         "hovertemplate": "<b>%{hovertext}</b><br><br>country=Spain<br>gold=%{a}<br>bronze=%{b}<br>silver=%{c}<br>total=%{marker.size}<extra></extra>",
         "hovertext": [
          "Spain"
         ],
         "legendgroup": "Spain",
         "marker": {
          "color": "#FFA15A",
          "size": [
           18
          ],
          "sizemode": "area",
          "sizeref": 0.0504,
          "symbol": "circle"
         },
         "mode": "markers",
         "name": "Spain",
         "showlegend": true,
         "subplot": "ternary",
         "type": "scatterternary"
        },
        {
         "a": [
          4
         ],
         "b": [
          3
         ],
         "c": [
          4
         ],
         "hovertemplate": "<b>%{hovertext}</b><br><br>country=Sweden<br>gold=%{a}<br>bronze=%{b}<br>silver=%{c}<br>total=%{marker.size}<extra></extra>",
         "hovertext": [
          "Sweden"
         ],
         "legendgroup": "Sweden",
         "marker": {
          "color": "#19d3f3",
          "size": [
           11
          ],
          "sizemode": "area",
          "sizeref": 0.0504,
          "symbol": "circle"
         },
         "mode": "markers",
         "name": "Sweden",
         "showlegend": true,
         "subplot": "ternary",
         "type": "scatterternary"
        },
        {
         "a": [
          4
         ],
         "b": [
          5
         ],
         "c": [
          2
         ],
         "hovertemplate": "<b>%{hovertext}</b><br><br>country=Kenya<br>gold=%{a}<br>bronze=%{b}<br>silver=%{c}<br>total=%{marker.size}<extra></extra>",
         "hovertext": [
          "Kenya"
         ],
         "legendgroup": "Kenya",
         "marker": {
          "color": "#FF6692",
          "size": [
           11
          ],
          "sizemode": "area",
          "sizeref": 0.0504,
          "symbol": "circle"
         },
         "mode": "markers",
         "name": "Kenya",
         "showlegend": true,
         "subplot": "ternary",
         "type": "scatterternary"
        },
        {
         "a": [
          4
         ],
         "b": [
          3
         ],
         "c": [
          1
         ],
         "hovertemplate": "<b>%{hovertext}</b><br><br>country=Norway<br>gold=%{a}<br>bronze=%{b}<br>silver=%{c}<br>total=%{marker.size}<extra></extra>",
         "hovertext": [
          "Norway"
         ],
         "legendgroup": "Norway",
         "marker": {
          "color": "#B6E880",
          "size": [
           8
          ],
          "sizemode": "area",
          "sizeref": 0.0504,
          "symbol": "circle"
         },
         "mode": "markers",
         "name": "Norway",
         "showlegend": true,
         "subplot": "ternary",
         "type": "scatterternary"
        },
        {
         "a": [
          4
         ],
         "b": [
          3
         ],
         "c": [
          0
         ],
         "hovertemplate": "<b>%{hovertext}</b><br><br>country=Ireland<br>gold=%{a}<br>bronze=%{b}<br>silver=%{c}<br>total=%{marker.size}<extra></extra>",
         "hovertext": [
          "Ireland"
         ],
         "legendgroup": "Ireland",
         "marker": {
          "color": "#FF97FF",
          "size": [
           7
          ],
          "sizemode": "area",
          "sizeref": 0.0504,
          "symbol": "circle"
         },
         "mode": "markers",
         "name": "Ireland",
         "showlegend": true,
         "subplot": "ternary",
         "type": "scatterternary"
        },
        {
         "a": [
          3
         ],
         "b": [
          10
         ],
         "c": [
          7
         ],
         "hovertemplate": "<b>%{hovertext}</b><br><br>country=Brazil<br>gold=%{a}<br>bronze=%{b}<br>silver=%{c}<br>total=%{marker.size}<extra></extra>",
         "hovertext": [
          "Brazil"
         ],
         "legendgroup": "Brazil",
         "marker": {
          "color": "#FECB52",
          "size": [
           20
          ],
          "sizemode": "area",
          "sizeref": 0.0504,
          "symbol": "circle"
         },
         "mode": "markers",
         "name": "Brazil",
         "showlegend": true,
         "subplot": "ternary",
         "type": "scatterternary"
        },
        {
         "a": [
          3
         ],
         "b": [
          3
         ],
         "c": [
          6
         ],
         "hovertemplate": "<b>%{hovertext}</b><br><br>country=Iran<br>gold=%{a}<br>bronze=%{b}<br>silver=%{c}<br>total=%{marker.size}<extra></extra>",
         "hovertext": [
          "Iran"
         ],
         "legendgroup": "Iran",
         "marker": {
          "color": "#636efa",
          "size": [
           12
          ],
          "sizemode": "area",
          "sizeref": 0.0504,
          "symbol": "circle"
         },
         "mode": "markers",
         "name": "Iran",
         "showlegend": true,
         "subplot": "ternary",
         "type": "scatterternary"
        },
        {
         "a": [
          3
         ],
         "b": [
          4
         ],
         "c": [
          5
         ],
         "hovertemplate": "<b>%{hovertext}</b><br><br>country=Ukraine<br>gold=%{a}<br>bronze=%{b}<br>silver=%{c}<br>total=%{marker.size}<extra></extra>",
         "hovertext": [
          "Ukraine"
         ],
         "legendgroup": "Ukraine",
         "marker": {
          "color": "#EF553B",
          "size": [
           12
          ],
          "sizemode": "area",
          "sizeref": 0.0504,
          "symbol": "circle"
         },
         "mode": "markers",
         "name": "Ukraine",
         "showlegend": true,
         "subplot": "ternary",
         "type": "scatterternary"
        },
        {
         "a": [
          3
         ],
         "b": [
          2
         ],
         "c": [
          4
         ],
         "hovertemplate": "<b>%{hovertext}</b><br><br>country=Romania<br>gold=%{a}<br>bronze=%{b}<br>silver=%{c}<br>total=%{marker.size}<extra></extra>",
         "hovertext": [
          "Romania"
         ],
         "legendgroup": "Romania",
         "marker": {
          "color": "#00cc96",
          "size": [
           9
          ],
          "sizemode": "area",
          "sizeref": 0.0504,
          "symbol": "circle"
         },
         "mode": "markers",
         "name": "Romania",
         "showlegend": true,
         "subplot": "ternary",
         "type": "scatterternary"
        },
        {
         "a": [
          3
         ],
         "b": [
          1
         ],
         "c": [
          3
         ],
         "hovertemplate": "<b>%{hovertext}</b><br><br>country=Georgia<br>gold=%{a}<br>bronze=%{b}<br>silver=%{c}<br>total=%{marker.size}<extra></extra>",
         "hovertext": [
          "Georgia"
         ],
         "legendgroup": "Georgia",
         "marker": {
          "color": "#ab63fa",
          "size": [
           7
          ],
          "sizemode": "area",
          "sizeref": 0.0504,
          "symbol": "circle"
         },
         "mode": "markers",
         "name": "Georgia",
         "showlegend": true,
         "subplot": "ternary",
         "type": "scatterternary"
        },
        {
         "a": [
          3
         ],
         "b": [
          6
         ],
         "c": [
          1
         ],
         "hovertemplate": "<b>%{hovertext}</b><br><br>country=Belgium<br>gold=%{a}<br>bronze=%{b}<br>silver=%{c}<br>total=%{marker.size}<extra></extra>",
         "hovertext": [
          "Belgium"
         ],
         "legendgroup": "Belgium",
         "marker": {
          "color": "#FFA15A",
          "size": [
           10
          ],
          "sizemode": "area",
          "sizeref": 0.0504,
          "symbol": "circle"
         },
         "mode": "markers",
         "name": "Belgium",
         "showlegend": true,
         "subplot": "ternary",
         "type": "scatterternary"
        },
        {
         "a": [
          3
         ],
         "b": [
          3
         ],
         "c": [
          1
         ],
         "hovertemplate": "<b>%{hovertext}</b><br><br>country=Bulgaria<br>gold=%{a}<br>bronze=%{b}<br>silver=%{c}<br>total=%{marker.size}<extra></extra>",
         "hovertext": [
          "Bulgaria"
         ],
         "legendgroup": "Bulgaria",
         "marker": {
          "color": "#19d3f3",
          "size": [
           7
          ],
          "sizemode": "area",
          "sizeref": 0.0504,
          "symbol": "circle"
         },
         "mode": "markers",
         "name": "Bulgaria",
         "showlegend": true,
         "subplot": "ternary",
         "type": "scatterternary"
        },
        {
         "a": [
          3
         ],
         "b": [
          1
         ],
         "c": [
          1
         ],
         "hovertemplate": "<b>%{hovertext}</b><br><br>country=Serbia<br>gold=%{a}<br>bronze=%{b}<br>silver=%{c}<br>total=%{marker.size}<extra></extra>",
         "hovertext": [
          "Serbia"
         ],
         "legendgroup": "Serbia",
         "marker": {
          "color": "#FF6692",
          "size": [
           5
          ],
          "sizemode": "area",
          "sizeref": 0.0504,
          "symbol": "circle"
         },
         "mode": "markers",
         "name": "Serbia",
         "showlegend": true,
         "subplot": "ternary",
         "type": "scatterternary"
        },
        {
         "a": [
          3
         ],
         "b": [
          2
         ],
         "c": [
          0
         ],
         "hovertemplate": "<b>%{hovertext}</b><br><br>country=Czech Republic<br>gold=%{a}<br>bronze=%{b}<br>silver=%{c}<br>total=%{marker.size}<extra></extra>",
         "hovertext": [
          "Czech Republic"
         ],
         "legendgroup": "Czech Republic",
         "marker": {
          "color": "#B6E880",
          "size": [
           5
          ],
          "sizemode": "area",
          "sizeref": 0.0504,
          "symbol": "circle"
         },
         "mode": "markers",
         "name": "Czech Republic",
         "showlegend": true,
         "subplot": "ternary",
         "type": "scatterternary"
        },
        {
         "a": [
          2
         ],
         "b": [
          5
         ],
         "c": [
          2
         ],
         "hovertemplate": "<b>%{hovertext}</b><br><br>country=Denmark<br>gold=%{a}<br>bronze=%{b}<br>silver=%{c}<br>total=%{marker.size}<extra></extra>",
         "hovertext": [
          "Denmark"
         ],
         "legendgroup": "Denmark",
         "marker": {
          "color": "#FF97FF",
          "size": [
           9
          ],
          "sizemode": "area",
          "sizeref": 0.0504,
          "symbol": "circle"
         },
         "mode": "markers",
         "name": "Denmark",
         "showlegend": true,
         "subplot": "ternary",
         "type": "scatterternary"
        },
        {
         "a": [
          2
         ],
         "b": [
          3
         ],
         "c": [
          2
         ],
         "hovertemplate": "<b>%{hovertext}</b><br><br>country=Azerbaijan<br>gold=%{a}<br>bronze=%{b}<br>silver=%{c}<br>total=%{marker.size}<extra></extra>",
         "hovertext": [
          "Azerbaijan"
         ],
         "legendgroup": "Azerbaijan",
         "marker": {
          "color": "#FECB52",
          "size": [
           7
          ],
          "sizemode": "area",
          "sizeref": 0.0504,
          "symbol": "circle"
         },
         "mode": "markers",
         "name": "Azerbaijan",
         "showlegend": true,
         "subplot": "ternary",
         "type": "scatterternary"
        },
        {
         "a": [
          2
         ],
         "b": [
          3
         ],
         "c": [
          2
         ],
         "hovertemplate": "<b>%{hovertext}</b><br><br>country=Croatia<br>gold=%{a}<br>bronze=%{b}<br>silver=%{c}<br>total=%{marker.size}<extra></extra>",
         "hovertext": [
          "Croatia"
         ],
         "legendgroup": "Croatia",
         "marker": {
          "color": "#636efa",
          "size": [
           7
          ],
          "sizemode": "area",
          "sizeref": 0.0504,
          "symbol": "circle"
         },
         "mode": "markers",
         "name": "Croatia",
         "showlegend": true,
         "subplot": "ternary",
         "type": "scatterternary"
        },
        {
         "a": [
          2
         ],
         "b": [
          6
         ],
         "c": [
          1
         ],
         "hovertemplate": "<b>%{hovertext}</b><br><br>country=Cuba<br>gold=%{a}<br>bronze=%{b}<br>silver=%{c}<br>total=%{marker.size}<extra></extra>",
         "hovertext": [
          "Cuba"
         ],
         "legendgroup": "Cuba",
         "marker": {
          "color": "#EF553B",
          "size": [
           9
          ],
          "sizemode": "area",
          "sizeref": 0.0504,
          "symbol": "circle"
         },
         "mode": "markers",
         "name": "Cuba",
         "showlegend": true,
         "subplot": "ternary",
         "type": "scatterternary"
        },
        {
         "a": [
          2
         ],
         "b": [
          1
         ],
         "c": [
          1
         ],
         "hovertemplate": "<b>%{hovertext}</b><br><br>country=Bahrain<br>gold=%{a}<br>bronze=%{b}<br>silver=%{c}<br>total=%{marker.size}<extra></extra>",
         "hovertext": [
          "Bahrain"
         ],
         "legendgroup": "Bahrain",
         "marker": {
          "color": "#00cc96",
          "size": [
           4
          ],
          "sizemode": "area",
          "sizeref": 0.0504,
          "symbol": "circle"
         },
         "mode": "markers",
         "name": "Bahrain",
         "showlegend": true,
         "subplot": "ternary",
         "type": "scatterternary"
        },
        {
         "a": [
          2
         ],
         "b": [
          0
         ],
         "c": [
          1
         ],
         "hovertemplate": "<b>%{hovertext}</b><br><br>country=Slovenia<br>gold=%{a}<br>bronze=%{b}<br>silver=%{c}<br>total=%{marker.size}<extra></extra>",
         "hovertext": [
          "Slovenia"
         ],
         "legendgroup": "Slovenia",
         "marker": {
          "color": "#ab63fa",
          "size": [
           3
          ],
          "sizemode": "area",
          "sizeref": 0.0504,
          "symbol": "circle"
         },
         "mode": "markers",
         "name": "Slovenia",
         "showlegend": true,
         "subplot": "ternary",
         "type": "scatterternary"
        },
        {
         "a": [
          2
         ],
         "b": [
          5
         ],
         "c": [
          0
         ],
         "hovertemplate": "<b>%{hovertext}</b><br><br>country=Taiwan<br>gold=%{a}<br>bronze=%{b}<br>silver=%{c}<br>total=%{marker.size}<extra></extra>",
         "hovertext": [
          "Taiwan"
         ],
         "legendgroup": "Taiwan",
         "marker": {
          "color": "#FFA15A",
          "size": [
           7
          ],
          "sizemode": "area",
          "sizeref": 0.0504,
          "symbol": "circle"
         },
         "mode": "markers",
         "name": "Taiwan",
         "showlegend": true,
         "subplot": "ternary",
         "type": "scatterternary"
        },
        {
         "a": [
          2
         ],
         "b": [
          3
         ],
         "c": [
          0
         ],
         "hovertemplate": "<b>%{hovertext}</b><br><br>country=Austria<br>gold=%{a}<br>bronze=%{b}<br>silver=%{c}<br>total=%{marker.size}<extra></extra>",
         "hovertext": [
          "Austria"
         ],
         "legendgroup": "Austria",
         "marker": {
          "color": "#19d3f3",
          "size": [
           5
          ],
          "sizemode": "area",
          "sizeref": 0.0504,
          "symbol": "circle"
         },
         "mode": "markers",
         "name": "Austria",
         "showlegend": true,
         "subplot": "ternary",
         "type": "scatterternary"
        },
        {
         "a": [
          2
         ],
         "b": [
          2
         ],
         "c": [
          0
         ],
         "hovertemplate": "<b>%{hovertext}</b><br><br>country=Hong Kong<br>gold=%{a}<br>bronze=%{b}<br>silver=%{c}<br>total=%{marker.size}<extra></extra>",
         "hovertext": [
          "Hong Kong"
         ],
         "legendgroup": "Hong Kong",
         "marker": {
          "color": "#FF6692",
          "size": [
           4
          ],
          "sizemode": "area",
          "sizeref": 0.0504,
          "symbol": "circle"
         },
         "mode": "markers",
         "name": "Hong Kong",
         "showlegend": true,
         "subplot": "ternary",
         "type": "scatterternary"
        },
        {
         "a": [
          2
         ],
         "b": [
          2
         ],
         "c": [
          0
         ],
         "hovertemplate": "<b>%{hovertext}</b><br><br>country=Philippines<br>gold=%{a}<br>bronze=%{b}<br>silver=%{c}<br>total=%{marker.size}<extra></extra>",
         "hovertext": [
          "Philippines"
         ],
         "legendgroup": "Philippines",
         "marker": {
          "color": "#B6E880",
          "size": [
           4
          ],
          "sizemode": "area",
          "sizeref": 0.0504,
          "symbol": "circle"
         },
         "mode": "markers",
         "name": "Philippines",
         "showlegend": true,
         "subplot": "ternary",
         "type": "scatterternary"
        },
        {
         "a": [
          2
         ],
         "b": [
          1
         ],
         "c": [
          0
         ],
         "hovertemplate": "<b>%{hovertext}</b><br><br>country=Algeria<br>gold=%{a}<br>bronze=%{b}<br>silver=%{c}<br>total=%{marker.size}<extra></extra>",
         "hovertext": [
          "Algeria"
         ],
         "legendgroup": "Algeria",
         "marker": {
          "color": "#FF97FF",
          "size": [
           3
          ],
          "sizemode": "area",
          "sizeref": 0.0504,
          "symbol": "circle"
         },
         "mode": "markers",
         "name": "Algeria",
         "showlegend": true,
         "subplot": "ternary",
         "type": "scatterternary"
        },
        {
         "a": [
          2
         ],
         "b": [
          1
         ],
         "c": [
          0
         ],
         "hovertemplate": "<b>%{hovertext}</b><br><br>country=Indonesia<br>gold=%{a}<br>bronze=%{b}<br>silver=%{c}<br>total=%{marker.size}<extra></extra>",
         "hovertext": [
          "Indonesia"
         ],
         "legendgroup": "Indonesia",
         "marker": {
          "color": "#FECB52",
          "size": [
           3
          ],
          "sizemode": "area",
          "sizeref": 0.0504,
          "symbol": "circle"
         },
         "mode": "markers",
         "name": "Indonesia",
         "showlegend": true,
         "subplot": "ternary",
         "type": "scatterternary"
        },
        {
         "a": [
          1
         ],
         "b": [
          1
         ],
         "c": [
          5
         ],
         "hovertemplate": "<b>%{hovertext}</b><br><br>country=Israel<br>gold=%{a}<br>bronze=%{b}<br>silver=%{c}<br>total=%{marker.size}<extra></extra>",
         "hovertext": [
          "Israel"
         ],
         "legendgroup": "Israel",
         "marker": {
          "color": "#636efa",
          "size": [
           7
          ],
          "sizemode": "area",
          "sizeref": 0.0504,
          "symbol": "circle"
         },
         "mode": "markers",
         "name": "Israel",
         "showlegend": true,
         "subplot": "ternary",
         "type": "scatterternary"
        },
        {
         "a": [
          1
         ],
         "b": [
          5
         ],
         "c": [
          4
         ],
         "hovertemplate": "<b>%{hovertext}</b><br><br>country=Poland<br>gold=%{a}<br>bronze=%{b}<br>silver=%{c}<br>total=%{marker.size}<extra></extra>",
         "hovertext": [
          "Poland"
         ],
         "legendgroup": "Poland",
         "marker": {
          "color": "#EF553B",
          "size": [
           10
          ],
          "sizemode": "area",
          "sizeref": 0.0504,
          "symbol": "circle"
         },
         "mode": "markers",
         "name": "Poland",
         "showlegend": true,
         "subplot": "ternary",
         "type": "scatterternary"
        },
        {
         "a": [
          1
         ],
         "b": [
          3
         ],
         "c": [
          3
         ],
         "hovertemplate": "<b>%{hovertext}</b><br><br>country=Kazakhstan<br>gold=%{a}<br>bronze=%{b}<br>silver=%{c}<br>total=%{marker.size}<extra></extra>",
         "hovertext": [
          "Kazakhstan"
         ],
         "legendgroup": "Kazakhstan",
         "marker": {
          "color": "#00cc96",
          "size": [
           7
          ],
          "sizemode": "area",
          "sizeref": 0.0504,
          "symbol": "circle"
         },
         "mode": "markers",
         "name": "Kazakhstan",
         "showlegend": true,
         "subplot": "ternary",
         "type": "scatterternary"
        },
        {
         "a": [
          1
         ],
         "b": [
          2
         ],
         "c": [
          3
         ],
         "hovertemplate": "<b>%{hovertext}</b><br><br>country=Jamaica<br>gold=%{a}<br>bronze=%{b}<br>silver=%{c}<br>total=%{marker.size}<extra></extra>",
         "hovertext": [
          "Jamaica"
         ],
         "legendgroup": "Jamaica",
         "marker": {
          "color": "#ab63fa",
          "size": [
           6
          ],
          "sizemode": "area",
          "sizeref": 0.0504,
          "symbol": "circle"
         },
         "mode": "markers",
         "name": "Jamaica",
         "showlegend": true,
         "subplot": "ternary",
         "type": "scatterternary"
        },
        {
         "a": [
          1
         ],
         "b": [
          2
         ],
         "c": [
          3
         ],
         "hovertemplate": "<b>%{hovertext}</b><br><br>country=South Africa<br>gold=%{a}<br>bronze=%{b}<br>silver=%{c}<br>total=%{marker.size}<extra></extra>",
         "hovertext": [
          "South Africa"
         ],
         "legendgroup": "South Africa",
         "marker": {
          "color": "#FFA15A",
          "size": [
           6
          ],
          "sizemode": "area",
          "sizeref": 0.0504,
          "symbol": "circle"
         },
         "mode": "markers",
         "name": "South Africa",
         "showlegend": true,
         "subplot": "ternary",
         "type": "scatterternary"
        },
        {
         "a": [
          1
         ],
         "b": [
          2
         ],
         "c": [
          3
         ],
         "hovertemplate": "<b>%{hovertext}</b><br><br>country=Thailand<br>gold=%{a}<br>bronze=%{b}<br>silver=%{c}<br>total=%{marker.size}<extra></extra>",
         "hovertext": [
          "Thailand"
         ],
         "legendgroup": "Thailand",
         "marker": {
          "color": "#19d3f3",
          "size": [
           6
          ],
          "sizemode": "area",
          "sizeref": 0.0504,
          "symbol": "circle"
         },
         "mode": "markers",
         "name": "Thailand",
         "showlegend": true,
         "subplot": "ternary",
         "type": "scatterternary"
        },
        {
         "a": [
          1
         ],
         "b": [
          0
         ],
         "c": [
          3
         ],
         "hovertemplate": "<b>%{hovertext}</b><br><br>country=Ethiopia<br>gold=%{a}<br>bronze=%{b}<br>silver=%{c}<br>total=%{marker.size}<extra></extra>",
         "hovertext": [
          "Ethiopia"
         ],
         "legendgroup": "Ethiopia",
         "marker": {
          "color": "#FF6692",
          "size": [
           4
          ],
          "sizemode": "area",
          "sizeref": 0.0504,
          "symbol": "circle"
         },
         "mode": "markers",
         "name": "Ethiopia",
         "showlegend": true,
         "subplot": "ternary",
         "type": "scatterternary"
        },
        {
         "a": [
          1
         ],
         "b": [
          5
         ],
         "c": [
          2
         ],
         "hovertemplate": "<b>%{hovertext}</b><br><br>country=Switzerland<br>gold=%{a}<br>bronze=%{b}<br>silver=%{c}<br>total=%{marker.size}<extra></extra>",
         "hovertext": [
          "Switzerland"
         ],
         "legendgroup": "Switzerland",
         "marker": {
          "color": "#B6E880",
          "size": [
           8
          ],
          "sizemode": "area",
          "sizeref": 0.0504,
          "symbol": "circle"
         },
         "mode": "markers",
         "name": "Switzerland",
         "showlegend": true,
         "subplot": "ternary",
         "type": "scatterternary"
        },
        {
         "a": [
          1
         ],
         "b": [
          2
         ],
         "c": [
          2
         ],
         "hovertemplate": "<b>%{hovertext}</b><br><br>country=Ecuador<br>gold=%{a}<br>bronze=%{b}<br>silver=%{c}<br>total=%{marker.size}<extra></extra>",
         "hovertext": [
          "Ecuador"
         ],
         "legendgroup": "Ecuador",
         "marker": {
          "color": "#FF97FF",
          "size": [
           5
          ],
          "sizemode": "area",
          "sizeref": 0.0504,
          "symbol": "circle"
         },
         "mode": "markers",
         "name": "Ecuador",
         "showlegend": true,
         "subplot": "ternary",
         "type": "scatterternary"
        },
        {
         "a": [
          1
         ],
         "b": [
          1
         ],
         "c": [
          2
         ],
         "hovertemplate": "<b>%{hovertext}</b><br><br>country=Portugal<br>gold=%{a}<br>bronze=%{b}<br>silver=%{c}<br>total=%{marker.size}<extra></extra>",
         "hovertext": [
          "Portugal"
         ],
         "legendgroup": "Portugal",
         "marker": {
          "color": "#FECB52",
          "size": [
           4
          ],
          "sizemode": "area",
          "sizeref": 0.0504,
          "symbol": "circle"
         },
         "mode": "markers",
         "name": "Portugal",
         "showlegend": true,
         "subplot": "ternary",
         "type": "scatterternary"
        },
        {
         "a": [
          1
         ],
         "b": [
          6
         ],
         "c": [
          1
         ],
         "hovertemplate": "<b>%{hovertext}</b><br><br>country=Greece<br>gold=%{a}<br>bronze=%{b}<br>silver=%{c}<br>total=%{marker.size}<extra></extra>",
         "hovertext": [
          "Greece"
         ],
         "legendgroup": "Greece",
         "marker": {
          "color": "#636efa",
          "size": [
           8
          ],
          "sizemode": "area",
          "sizeref": 0.0504,
          "symbol": "circle"
         },
         "mode": "markers",
         "name": "Greece",
         "showlegend": true,
         "subplot": "ternary",
         "type": "scatterternary"
        },
        {
         "a": [
          1
         ],
         "b": [
          1
         ],
         "c": [
          1
         ],
         "hovertemplate": "<b>%{hovertext}</b><br><br>country=Argentina<br>gold=%{a}<br>bronze=%{b}<br>silver=%{c}<br>total=%{marker.size}<extra></extra>",
         "hovertext": [
          "Argentina"
         ],
         "legendgroup": "Argentina",
         "marker": {
          "color": "#EF553B",
          "size": [
           3
          ],
          "sizemode": "area",
          "sizeref": 0.0504,
          "symbol": "circle"
         },
         "mode": "markers",
         "name": "Argentina",
         "showlegend": true,
         "subplot": "ternary",
         "type": "scatterternary"
        },
        {
         "a": [
          1
         ],
         "b": [
          1
         ],
         "c": [
          1
         ],
         "hovertemplate": "<b>%{hovertext}</b><br><br>country=Egypt<br>gold=%{a}<br>bronze=%{b}<br>silver=%{c}<br>total=%{marker.size}<extra></extra>",
         "hovertext": [
          "Egypt"
         ],
         "legendgroup": "Egypt",
         "marker": {
          "color": "#00cc96",
          "size": [
           3
          ],
          "sizemode": "area",
          "sizeref": 0.0504,
          "symbol": "circle"
         },
         "mode": "markers",
         "name": "Egypt",
         "showlegend": true,
         "subplot": "ternary",
         "type": "scatterternary"
        },
        {
         "a": [
          1
         ],
         "b": [
          1
         ],
         "c": [
          1
         ],
         "hovertemplate": "<b>%{hovertext}</b><br><br>country=Tunisia<br>gold=%{a}<br>bronze=%{b}<br>silver=%{c}<br>total=%{marker.size}<extra></extra>",
         "hovertext": [
          "Tunisia"
         ],
         "legendgroup": "Tunisia",
         "marker": {
          "color": "#ab63fa",
          "size": [
           3
          ],
          "sizemode": "area",
          "sizeref": 0.0504,
          "symbol": "circle"
         },
         "mode": "markers",
         "name": "Tunisia",
         "showlegend": true,
         "subplot": "ternary",
         "type": "scatterternary"
        },
        {
         "a": [
          1
         ],
         "b": [
          0
         ],
         "c": [
          1
         ],
         "hovertemplate": "<b>%{hovertext}</b><br><br>country=Botswana<br>gold=%{a}<br>bronze=%{b}<br>silver=%{c}<br>total=%{marker.size}<extra></extra>",
         "hovertext": [
          "Botswana"
         ],
         "legendgroup": "Botswana",
         "marker": {
          "color": "#FFA15A",
          "size": [
           2
          ],
          "sizemode": "area",
          "sizeref": 0.0504,
          "symbol": "circle"
         },
         "mode": "markers",
         "name": "Botswana",
         "showlegend": true,
         "subplot": "ternary",
         "type": "scatterternary"
        },
        {
         "a": [
          1
         ],
         "b": [
          0
         ],
         "c": [
          1
         ],
         "hovertemplate": "<b>%{hovertext}</b><br><br>country=Chile<br>gold=%{a}<br>bronze=%{b}<br>silver=%{c}<br>total=%{marker.size}<extra></extra>",
         "hovertext": [
          "Chile"
         ],
         "legendgroup": "Chile",
         "marker": {
          "color": "#19d3f3",
          "size": [
           2
          ],
          "sizemode": "area",
          "sizeref": 0.0504,
          "symbol": "circle"
         },
         "mode": "markers",
         "name": "Chile",
         "showlegend": true,
         "subplot": "ternary",
         "type": "scatterternary"
        },
        {
         "a": [
          1
         ],
         "b": [
          0
         ],
         "c": [
          1
         ],
         "hovertemplate": "<b>%{hovertext}</b><br><br>country=St Lucia<br>gold=%{a}<br>bronze=%{b}<br>silver=%{c}<br>total=%{marker.size}<extra></extra>",
         "hovertext": [
          "St Lucia"
         ],
         "legendgroup": "St Lucia",
         "marker": {
          "color": "#FF6692",
          "size": [
           2
          ],
          "sizemode": "area",
          "sizeref": 0.0504,
          "symbol": "circle"
         },
         "mode": "markers",
         "name": "St Lucia",
         "showlegend": true,
         "subplot": "ternary",
         "type": "scatterternary"
        },
        {
         "a": [
          1
         ],
         "b": [
          0
         ],
         "c": [
          1
         ],
         "hovertemplate": "<b>%{hovertext}</b><br><br>country=Uganda<br>gold=%{a}<br>bronze=%{b}<br>silver=%{c}<br>total=%{marker.size}<extra></extra>",
         "hovertext": [
          "Uganda"
         ],
         "legendgroup": "Uganda",
         "marker": {
          "color": "#B6E880",
          "size": [
           2
          ],
          "sizemode": "area",
          "sizeref": 0.0504,
          "symbol": "circle"
         },
         "mode": "markers",
         "name": "Uganda",
         "showlegend": true,
         "subplot": "ternary",
         "type": "scatterternary"
        },
        {
         "a": [
          1
         ],
         "b": [
          2
         ],
         "c": [
          0
         ],
         "hovertemplate": "<b>%{hovertext}</b><br><br>country=Dominican Republic<br>gold=%{a}<br>bronze=%{b}<br>silver=%{c}<br>total=%{marker.size}<extra></extra>",
         "hovertext": [
          "Dominican Republic"
         ],
         "legendgroup": "Dominican Republic",
         "marker": {
          "color": "#FF97FF",
          "size": [
           3
          ],
          "sizemode": "area",
          "sizeref": 0.0504,
          "symbol": "circle"
         },
         "mode": "markers",
         "name": "Dominican Republic",
         "showlegend": true,
         "subplot": "ternary",
         "type": "scatterternary"
        },
        {
         "a": [
          1
         ],
         "b": [
          1
         ],
         "c": [
          0
         ],
         "hovertemplate": "<b>%{hovertext}</b><br><br>country=Guatemala<br>gold=%{a}<br>bronze=%{b}<br>silver=%{c}<br>total=%{marker.size}<extra></extra>",
         "hovertext": [
          "Guatemala"
         ],
         "legendgroup": "Guatemala",
         "marker": {
          "color": "#FECB52",
          "size": [
           2
          ],
          "sizemode": "area",
          "sizeref": 0.0504,
          "symbol": "circle"
         },
         "mode": "markers",
         "name": "Guatemala",
         "showlegend": true,
         "subplot": "ternary",
         "type": "scatterternary"
        },
        {
         "a": [
          1
         ],
         "b": [
          1
         ],
         "c": [
          0
         ],
         "hovertemplate": "<b>%{hovertext}</b><br><br>country=Morocco<br>gold=%{a}<br>bronze=%{b}<br>silver=%{c}<br>total=%{marker.size}<extra></extra>",
         "hovertext": [
          "Morocco"
         ],
         "legendgroup": "Morocco",
         "marker": {
          "color": "#636efa",
          "size": [
           2
          ],
          "sizemode": "area",
          "sizeref": 0.0504,
          "symbol": "circle"
         },
         "mode": "markers",
         "name": "Morocco",
         "showlegend": true,
         "subplot": "ternary",
         "type": "scatterternary"
        },
        {
         "a": [
          1
         ],
         "b": [
          0
         ],
         "c": [
          0
         ],
         "hovertemplate": "<b>%{hovertext}</b><br><br>country=Dominica<br>gold=%{a}<br>bronze=%{b}<br>silver=%{c}<br>total=%{marker.size}<extra></extra>",
         "hovertext": [
          "Dominica"
         ],
         "legendgroup": "Dominica",
         "marker": {
          "color": "#EF553B",
          "size": [
           1
          ],
          "sizemode": "area",
          "sizeref": 0.0504,
          "symbol": "circle"
         },
         "mode": "markers",
         "name": "Dominica",
         "showlegend": true,
         "subplot": "ternary",
         "type": "scatterternary"
        },
        {
         "a": [
          1
         ],
         "b": [
          0
         ],
         "c": [
          0
         ],
         "hovertemplate": "<b>%{hovertext}</b><br><br>country=Pakistan<br>gold=%{a}<br>bronze=%{b}<br>silver=%{c}<br>total=%{marker.size}<extra></extra>",
         "hovertext": [
          "Pakistan"
         ],
         "legendgroup": "Pakistan",
         "marker": {
          "color": "#00cc96",
          "size": [
           1
          ],
          "sizemode": "area",
          "sizeref": 0.0504,
          "symbol": "circle"
         },
         "mode": "markers",
         "name": "Pakistan",
         "showlegend": true,
         "subplot": "ternary",
         "type": "scatterternary"
        },
        {
         "a": [
          0
         ],
         "b": [
          5
         ],
         "c": [
          3
         ],
         "hovertemplate": "<b>%{hovertext}</b><br><br>country=Turkey<br>gold=%{a}<br>bronze=%{b}<br>silver=%{c}<br>total=%{marker.size}<extra></extra>",
         "hovertext": [
          "Turkey"
         ],
         "legendgroup": "Turkey",
         "marker": {
          "color": "#ab63fa",
          "size": [
           8
          ],
          "sizemode": "area",
          "sizeref": 0.0504,
          "symbol": "circle"
         },
         "mode": "markers",
         "name": "Turkey",
         "showlegend": true,
         "subplot": "ternary",
         "type": "scatterternary"
        },
        {
         "a": [
          0
         ],
         "b": [
          2
         ],
         "c": [
          3
         ],
         "hovertemplate": "<b>%{hovertext}</b><br><br>country=Mexico<br>gold=%{a}<br>bronze=%{b}<br>silver=%{c}<br>total=%{marker.size}<extra></extra>",
         "hovertext": [
          "Mexico"
         ],
         "legendgroup": "Mexico",
         "marker": {
          "color": "#FFA15A",
          "size": [
           5
          ],
          "sizemode": "area",
          "sizeref": 0.0504,
          "symbol": "circle"
         },
         "mode": "markers",
         "name": "Mexico",
         "showlegend": true,
         "subplot": "ternary",
         "type": "scatterternary"
        },
        {
         "a": [
          0
         ],
         "b": [
          1
         ],
         "c": [
          3
         ],
         "hovertemplate": "<b>%{hovertext}</b><br><br>country=Armenia<br>gold=%{a}<br>bronze=%{b}<br>silver=%{c}<br>total=%{marker.size}<extra></extra>",
         "hovertext": [
          "Armenia"
         ],
         "legendgroup": "Armenia",
         "marker": {
          "color": "#19d3f3",
          "size": [
           4
          ],
          "sizemode": "area",
          "sizeref": 0.0504,
          "symbol": "circle"
         },
         "mode": "markers",
         "name": "Armenia",
         "showlegend": true,
         "subplot": "ternary",
         "type": "scatterternary"
        },
        {
         "a": [
          0
         ],
         "b": [
          1
         ],
         "c": [
          3
         ],
         "hovertemplate": "<b>%{hovertext}</b><br><br>country=Colombia<br>gold=%{a}<br>bronze=%{b}<br>silver=%{c}<br>total=%{marker.size}<extra></extra>",
         "hovertext": [
          "Colombia"
         ],
         "legendgroup": "Colombia",
         "marker": {
          "color": "#FF6692",
          "size": [
           4
          ],
          "sizemode": "area",
          "sizeref": 0.0504,
          "symbol": "circle"
         },
         "mode": "markers",
         "name": "Colombia",
         "showlegend": true,
         "subplot": "ternary",
         "type": "scatterternary"
        },
        {
         "a": [
          0
         ],
         "b": [
          4
         ],
         "c": [
          2
         ],
         "hovertemplate": "<b>%{hovertext}</b><br><br>country=North Korea<br>gold=%{a}<br>bronze=%{b}<br>silver=%{c}<br>total=%{marker.size}<extra></extra>",
         "hovertext": [
          "North Korea"
         ],
         "legendgroup": "North Korea",
         "marker": {
          "color": "#B6E880",
          "size": [
           6
          ],
          "sizemode": "area",
          "sizeref": 0.0504,
          "symbol": "circle"
         },
         "mode": "markers",
         "name": "North Korea",
         "showlegend": true,
         "subplot": "ternary",
         "type": "scatterternary"
        },
        {
         "a": [
          0
         ],
         "b": [
          4
         ],
         "c": [
          2
         ],
         "hovertemplate": "<b>%{hovertext}</b><br><br>country=Kyrgyzstan<br>gold=%{a}<br>bronze=%{b}<br>silver=%{c}<br>total=%{marker.size}<extra></extra>",
         "hovertext": [
          "Kyrgyzstan"
         ],
         "legendgroup": "Kyrgyzstan",
         "marker": {
          "color": "#FF97FF",
          "size": [
           6
          ],
          "sizemode": "area",
          "sizeref": 0.0504,
          "symbol": "circle"
         },
         "mode": "markers",
         "name": "Kyrgyzstan",
         "showlegend": true,
         "subplot": "ternary",
         "type": "scatterternary"
        },
        {
         "a": [
          0
         ],
         "b": [
          2
         ],
         "c": [
          2
         ],
         "hovertemplate": "<b>%{hovertext}</b><br><br>country=Lithuania<br>gold=%{a}<br>bronze=%{b}<br>silver=%{c}<br>total=%{marker.size}<extra></extra>",
         "hovertext": [
          "Lithuania"
         ],
         "legendgroup": "Lithuania",
         "marker": {
          "color": "#FECB52",
          "size": [
           4
          ],
          "sizemode": "area",
          "sizeref": 0.0504,
          "symbol": "circle"
         },
         "mode": "markers",
         "name": "Lithuania",
         "showlegend": true,
         "subplot": "ternary",
         "type": "scatterternary"
        },
        {
         "a": [
          0
         ],
         "b": [
          5
         ],
         "c": [
          1
         ],
         "hovertemplate": "<b>%{hovertext}</b><br><br>country=India<br>gold=%{a}<br>bronze=%{b}<br>silver=%{c}<br>total=%{marker.size}<extra></extra>",
         "hovertext": [
          "India"
         ],
         "legendgroup": "India",
         "marker": {
          "color": "#636efa",
          "size": [
           6
          ],
          "sizemode": "area",
          "sizeref": 0.0504,
          "symbol": "circle"
         },
         "mode": "markers",
         "name": "India",
         "showlegend": true,
         "subplot": "ternary",
         "type": "scatterternary"
        },
        {
         "a": [
          0
         ],
         "b": [
          3
         ],
         "c": [
          1
         ],
         "hovertemplate": "<b>%{hovertext}</b><br><br>country=Moldova<br>gold=%{a}<br>bronze=%{b}<br>silver=%{c}<br>total=%{marker.size}<extra></extra>",
         "hovertext": [
          "Moldova"
         ],
         "legendgroup": "Moldova",
         "marker": {
          "color": "#EF553B",
          "size": [
           4
          ],
          "sizemode": "area",
          "sizeref": 0.0504,
          "symbol": "circle"
         },
         "mode": "markers",
         "name": "Moldova",
         "showlegend": true,
         "subplot": "ternary",
         "type": "scatterternary"
        },
        {
         "a": [
          0
         ],
         "b": [
          1
         ],
         "c": [
          1
         ],
         "hovertemplate": "<b>%{hovertext}</b><br><br>country=Kosovo<br>gold=%{a}<br>bronze=%{b}<br>silver=%{c}<br>total=%{marker.size}<extra></extra>",
         "hovertext": [
          "Kosovo"
         ],
         "legendgroup": "Kosovo",
         "marker": {
          "color": "#00cc96",
          "size": [
           2
          ],
          "sizemode": "area",
          "sizeref": 0.0504,
          "symbol": "circle"
         },
         "mode": "markers",
         "name": "Kosovo",
         "showlegend": true,
         "subplot": "ternary",
         "type": "scatterternary"
        },
        {
         "a": [
          0
         ],
         "b": [
          0
         ],
         "c": [
          1
         ],
         "hovertemplate": "<b>%{hovertext}</b><br><br>country=Cyprus<br>gold=%{a}<br>bronze=%{b}<br>silver=%{c}<br>total=%{marker.size}<extra></extra>",
         "hovertext": [
          "Cyprus"
         ],
         "legendgroup": "Cyprus",
         "marker": {
          "color": "#ab63fa",
          "size": [
           1
          ],
          "sizemode": "area",
          "sizeref": 0.0504,
          "symbol": "circle"
         },
         "mode": "markers",
         "name": "Cyprus",
         "showlegend": true,
         "subplot": "ternary",
         "type": "scatterternary"
        },
        {
         "a": [
          0
         ],
         "b": [
          0
         ],
         "c": [
          1
         ],
         "hovertemplate": "<b>%{hovertext}</b><br><br>country=Fiji<br>gold=%{a}<br>bronze=%{b}<br>silver=%{c}<br>total=%{marker.size}<extra></extra>",
         "hovertext": [
          "Fiji"
         ],
         "legendgroup": "Fiji",
         "marker": {
          "color": "#FFA15A",
          "size": [
           1
          ],
          "sizemode": "area",
          "sizeref": 0.0504,
          "symbol": "circle"
         },
         "mode": "markers",
         "name": "Fiji",
         "showlegend": true,
         "subplot": "ternary",
         "type": "scatterternary"
        },
        {
         "a": [
          0
         ],
         "b": [
          0
         ],
         "c": [
          1
         ],
         "hovertemplate": "<b>%{hovertext}</b><br><br>country=Jordan<br>gold=%{a}<br>bronze=%{b}<br>silver=%{c}<br>total=%{marker.size}<extra></extra>",
         "hovertext": [
          "Jordan"
         ],
         "legendgroup": "Jordan",
         "marker": {
          "color": "#19d3f3",
          "size": [
           1
          ],
          "sizemode": "area",
          "sizeref": 0.0504,
          "symbol": "circle"
         },
         "mode": "markers",
         "name": "Jordan",
         "showlegend": true,
         "subplot": "ternary",
         "type": "scatterternary"
        },
        {
         "a": [
          0
         ],
         "b": [
          0
         ],
         "c": [
          1
         ],
         "hovertemplate": "<b>%{hovertext}</b><br><br>country=Mongolia<br>gold=%{a}<br>bronze=%{b}<br>silver=%{c}<br>total=%{marker.size}<extra></extra>",
         "hovertext": [
          "Mongolia"
         ],
         "legendgroup": "Mongolia",
         "marker": {
          "color": "#FF6692",
          "size": [
           1
          ],
          "sizemode": "area",
          "sizeref": 0.0504,
          "symbol": "circle"
         },
         "mode": "markers",
         "name": "Mongolia",
         "showlegend": true,
         "subplot": "ternary",
         "type": "scatterternary"
        },
        {
         "a": [
          0
         ],
         "b": [
          0
         ],
         "c": [
          1
         ],
         "hovertemplate": "<b>%{hovertext}</b><br><br>country=Panama<br>gold=%{a}<br>bronze=%{b}<br>silver=%{c}<br>total=%{marker.size}<extra></extra>",
         "hovertext": [
          "Panama"
         ],
         "legendgroup": "Panama",
         "marker": {
          "color": "#B6E880",
          "size": [
           1
          ],
          "sizemode": "area",
          "sizeref": 0.0504,
          "symbol": "circle"
         },
         "mode": "markers",
         "name": "Panama",
         "showlegend": true,
         "subplot": "ternary",
         "type": "scatterternary"
        },
        {
         "a": [
          0
         ],
         "b": [
          3
         ],
         "c": [
          0
         ],
         "hovertemplate": "<b>%{hovertext}</b><br><br>country=Tajikistan<br>gold=%{a}<br>bronze=%{b}<br>silver=%{c}<br>total=%{marker.size}<extra></extra>",
         "hovertext": [
          "Tajikistan"
         ],
         "legendgroup": "Tajikistan",
         "marker": {
          "color": "#FF97FF",
          "size": [
           3
          ],
          "sizemode": "area",
          "sizeref": 0.0504,
          "symbol": "circle"
         },
         "mode": "markers",
         "name": "Tajikistan",
         "showlegend": true,
         "subplot": "ternary",
         "type": "scatterternary"
        },
        {
         "a": [
          0
         ],
         "b": [
          2
         ],
         "c": [
          0
         ],
         "hovertemplate": "<b>%{hovertext}</b><br><br>country=Albania<br>gold=%{a}<br>bronze=%{b}<br>silver=%{c}<br>total=%{marker.size}<extra></extra>",
         "hovertext": [
          "Albania"
         ],
         "legendgroup": "Albania",
         "marker": {
          "color": "#FECB52",
          "size": [
           2
          ],
          "sizemode": "area",
          "sizeref": 0.0504,
          "symbol": "circle"
         },
         "mode": "markers",
         "name": "Albania",
         "showlegend": true,
         "subplot": "ternary",
         "type": "scatterternary"
        },
        {
         "a": [
          0
         ],
         "b": [
          2
         ],
         "c": [
          0
         ],
         "hovertemplate": "<b>%{hovertext}</b><br><br>country=Grenada<br>gold=%{a}<br>bronze=%{b}<br>silver=%{c}<br>total=%{marker.size}<extra></extra>",
         "hovertext": [
          "Grenada"
         ],
         "legendgroup": "Grenada",
         "marker": {
          "color": "#636efa",
          "size": [
           2
          ],
          "sizemode": "area",
          "sizeref": 0.0504,
          "symbol": "circle"
         },
         "mode": "markers",
         "name": "Grenada",
         "showlegend": true,
         "subplot": "ternary",
         "type": "scatterternary"
        },
        {
         "a": [
          0
         ],
         "b": [
          2
         ],
         "c": [
          0
         ],
         "hovertemplate": "<b>%{hovertext}</b><br><br>country=Malaysia<br>gold=%{a}<br>bronze=%{b}<br>silver=%{c}<br>total=%{marker.size}<extra></extra>",
         "hovertext": [
          "Malaysia"
         ],
         "legendgroup": "Malaysia",
         "marker": {
          "color": "#EF553B",
          "size": [
           2
          ],
          "sizemode": "area",
          "sizeref": 0.0504,
          "symbol": "circle"
         },
         "mode": "markers",
         "name": "Malaysia",
         "showlegend": true,
         "subplot": "ternary",
         "type": "scatterternary"
        },
        {
         "a": [
          0
         ],
         "b": [
          2
         ],
         "c": [
          0
         ],
         "hovertemplate": "<b>%{hovertext}</b><br><br>country=Puerto Rico<br>gold=%{a}<br>bronze=%{b}<br>silver=%{c}<br>total=%{marker.size}<extra></extra>",
         "hovertext": [
          "Puerto Rico"
         ],
         "legendgroup": "Puerto Rico",
         "marker": {
          "color": "#00cc96",
          "size": [
           2
          ],
          "sizemode": "area",
          "sizeref": 0.0504,
          "symbol": "circle"
         },
         "mode": "markers",
         "name": "Puerto Rico",
         "showlegend": true,
         "subplot": "ternary",
         "type": "scatterternary"
        },
        {
         "a": [
          0
         ],
         "b": [
          1
         ],
         "c": [
          0
         ],
         "hovertemplate": "<b>%{hovertext}</b><br><br>country=Cape Verde<br>gold=%{a}<br>bronze=%{b}<br>silver=%{c}<br>total=%{marker.size}<extra></extra>",
         "hovertext": [
          "Cape Verde"
         ],
         "legendgroup": "Cape Verde",
         "marker": {
          "color": "#ab63fa",
          "size": [
           1
          ],
          "sizemode": "area",
          "sizeref": 0.0504,
          "symbol": "circle"
         },
         "mode": "markers",
         "name": "Cape Verde",
         "showlegend": true,
         "subplot": "ternary",
         "type": "scatterternary"
        },
        {
         "a": [
          0
         ],
         "b": [
          1
         ],
         "c": [
          0
         ],
         "hovertemplate": "<b>%{hovertext}</b><br><br>country=Ivory Coast<br>gold=%{a}<br>bronze=%{b}<br>silver=%{c}<br>total=%{marker.size}<extra></extra>",
         "hovertext": [
          "Ivory Coast"
         ],
         "legendgroup": "Ivory Coast",
         "marker": {
          "color": "#FFA15A",
          "size": [
           1
          ],
          "sizemode": "area",
          "sizeref": 0.0504,
          "symbol": "circle"
         },
         "mode": "markers",
         "name": "Ivory Coast",
         "showlegend": true,
         "subplot": "ternary",
         "type": "scatterternary"
        },
        {
         "a": [
          0
         ],
         "b": [
          1
         ],
         "c": [
          0
         ],
         "hovertemplate": "<b>%{hovertext}</b><br><br>country=Peru<br>gold=%{a}<br>bronze=%{b}<br>silver=%{c}<br>total=%{marker.size}<extra></extra>",
         "hovertext": [
          "Peru"
         ],
         "legendgroup": "Peru",
         "marker": {
          "color": "#19d3f3",
          "size": [
           1
          ],
          "sizemode": "area",
          "sizeref": 0.0504,
          "symbol": "circle"
         },
         "mode": "markers",
         "name": "Peru",
         "showlegend": true,
         "subplot": "ternary",
         "type": "scatterternary"
        },
        {
         "a": [
          0
         ],
         "b": [
          1
         ],
         "c": [
          0
         ],
         "hovertemplate": "<b>%{hovertext}</b><br><br>country=Qatar<br>gold=%{a}<br>bronze=%{b}<br>silver=%{c}<br>total=%{marker.size}<extra></extra>",
         "hovertext": [
          "Qatar"
         ],
         "legendgroup": "Qatar",
         "marker": {
          "color": "#FF6692",
          "size": [
           1
          ],
          "sizemode": "area",
          "sizeref": 0.0504,
          "symbol": "circle"
         },
         "mode": "markers",
         "name": "Qatar",
         "showlegend": true,
         "subplot": "ternary",
         "type": "scatterternary"
        },
        {
         "a": [
          0
         ],
         "b": [
          1
         ],
         "c": [
          0
         ],
         "hovertemplate": "<b>%{hovertext}</b><br><br>country=Singapore<br>gold=%{a}<br>bronze=%{b}<br>silver=%{c}<br>total=%{marker.size}<extra></extra>",
         "hovertext": [
          "Singapore"
         ],
         "legendgroup": "Singapore",
         "marker": {
          "color": "#B6E880",
          "size": [
           1
          ],
          "sizemode": "area",
          "sizeref": 0.0504,
          "symbol": "circle"
         },
         "mode": "markers",
         "name": "Singapore",
         "showlegend": true,
         "subplot": "ternary",
         "type": "scatterternary"
        },
        {
         "a": [
          0
         ],
         "b": [
          1
         ],
         "c": [
          0
         ],
         "hovertemplate": "<b>%{hovertext}</b><br><br>country=Slovakia<br>gold=%{a}<br>bronze=%{b}<br>silver=%{c}<br>total=%{marker.size}<extra></extra>",
         "hovertext": [
          "Slovakia"
         ],
         "legendgroup": "Slovakia",
         "marker": {
          "color": "#FF97FF",
          "size": [
           1
          ],
          "sizemode": "area",
          "sizeref": 0.0504,
          "symbol": "circle"
         },
         "mode": "markers",
         "name": "Slovakia",
         "showlegend": true,
         "subplot": "ternary",
         "type": "scatterternary"
        },
        {
         "a": [
          0
         ],
         "b": [
          1
         ],
         "c": [
          0
         ],
         "hovertemplate": "<b>%{hovertext}</b><br><br>country=Zambia<br>gold=%{a}<br>bronze=%{b}<br>silver=%{c}<br>total=%{marker.size}<extra></extra>",
         "hovertext": [
          "Zambia"
         ],
         "legendgroup": "Zambia",
         "marker": {
          "color": "#FECB52",
          "size": [
           1
          ],
          "sizemode": "area",
          "sizeref": 0.0504,
          "symbol": "circle"
         },
         "mode": "markers",
         "name": "Zambia",
         "showlegend": true,
         "subplot": "ternary",
         "type": "scatterternary"
        }
       ],
       "layout": {
        "height": 800,
        "legend": {
         "itemsizing": "constant",
         "title": {
          "text": "country"
         },
         "tracegroupgap": 0
        },
        "margin": {
         "t": 60
        },
        "template": {
         "data": {
          "bar": [
           {
            "error_x": {
             "color": "#2a3f5f"
            },
            "error_y": {
             "color": "#2a3f5f"
            },
            "marker": {
             "line": {
              "color": "#E5ECF6",
              "width": 0.5
             },
             "pattern": {
              "fillmode": "overlay",
              "size": 10,
              "solidity": 0.2
             }
            },
            "type": "bar"
           }
          ],
          "barpolar": [
           {
            "marker": {
             "line": {
              "color": "#E5ECF6",
              "width": 0.5
             },
             "pattern": {
              "fillmode": "overlay",
              "size": 10,
              "solidity": 0.2
             }
            },
            "type": "barpolar"
           }
          ],
          "carpet": [
           {
            "aaxis": {
             "endlinecolor": "#2a3f5f",
             "gridcolor": "white",
             "linecolor": "white",
             "minorgridcolor": "white",
             "startlinecolor": "#2a3f5f"
            },
            "baxis": {
             "endlinecolor": "#2a3f5f",
             "gridcolor": "white",
             "linecolor": "white",
             "minorgridcolor": "white",
             "startlinecolor": "#2a3f5f"
            },
            "type": "carpet"
           }
          ],
          "choropleth": [
           {
            "colorbar": {
             "outlinewidth": 0,
             "ticks": ""
            },
            "type": "choropleth"
           }
          ],
          "contour": [
           {
            "colorbar": {
             "outlinewidth": 0,
             "ticks": ""
            },
            "colorscale": [
             [
              0,
              "#0d0887"
             ],
             [
              0.1111111111111111,
              "#46039f"
             ],
             [
              0.2222222222222222,
              "#7201a8"
             ],
             [
              0.3333333333333333,
              "#9c179e"
             ],
             [
              0.4444444444444444,
              "#bd3786"
             ],
             [
              0.5555555555555556,
              "#d8576b"
             ],
             [
              0.6666666666666666,
              "#ed7953"
             ],
             [
              0.7777777777777778,
              "#fb9f3a"
             ],
             [
              0.8888888888888888,
              "#fdca26"
             ],
             [
              1,
              "#f0f921"
             ]
            ],
            "type": "contour"
           }
          ],
          "contourcarpet": [
           {
            "colorbar": {
             "outlinewidth": 0,
             "ticks": ""
            },
            "type": "contourcarpet"
           }
          ],
          "heatmap": [
           {
            "colorbar": {
             "outlinewidth": 0,
             "ticks": ""
            },
            "colorscale": [
             [
              0,
              "#0d0887"
             ],
             [
              0.1111111111111111,
              "#46039f"
             ],
             [
              0.2222222222222222,
              "#7201a8"
             ],
             [
              0.3333333333333333,
              "#9c179e"
             ],
             [
              0.4444444444444444,
              "#bd3786"
             ],
             [
              0.5555555555555556,
              "#d8576b"
             ],
             [
              0.6666666666666666,
              "#ed7953"
             ],
             [
              0.7777777777777778,
              "#fb9f3a"
             ],
             [
              0.8888888888888888,
              "#fdca26"
             ],
             [
              1,
              "#f0f921"
             ]
            ],
            "type": "heatmap"
           }
          ],
          "heatmapgl": [
           {
            "colorbar": {
             "outlinewidth": 0,
             "ticks": ""
            },
            "colorscale": [
             [
              0,
              "#0d0887"
             ],
             [
              0.1111111111111111,
              "#46039f"
             ],
             [
              0.2222222222222222,
              "#7201a8"
             ],
             [
              0.3333333333333333,
              "#9c179e"
             ],
             [
              0.4444444444444444,
              "#bd3786"
             ],
             [
              0.5555555555555556,
              "#d8576b"
             ],
             [
              0.6666666666666666,
              "#ed7953"
             ],
             [
              0.7777777777777778,
              "#fb9f3a"
             ],
             [
              0.8888888888888888,
              "#fdca26"
             ],
             [
              1,
              "#f0f921"
             ]
            ],
            "type": "heatmapgl"
           }
          ],
          "histogram": [
           {
            "marker": {
             "pattern": {
              "fillmode": "overlay",
              "size": 10,
              "solidity": 0.2
             }
            },
            "type": "histogram"
           }
          ],
          "histogram2d": [
           {
            "colorbar": {
             "outlinewidth": 0,
             "ticks": ""
            },
            "colorscale": [
             [
              0,
              "#0d0887"
             ],
             [
              0.1111111111111111,
              "#46039f"
             ],
             [
              0.2222222222222222,
              "#7201a8"
             ],
             [
              0.3333333333333333,
              "#9c179e"
             ],
             [
              0.4444444444444444,
              "#bd3786"
             ],
             [
              0.5555555555555556,
              "#d8576b"
             ],
             [
              0.6666666666666666,
              "#ed7953"
             ],
             [
              0.7777777777777778,
              "#fb9f3a"
             ],
             [
              0.8888888888888888,
              "#fdca26"
             ],
             [
              1,
              "#f0f921"
             ]
            ],
            "type": "histogram2d"
           }
          ],
          "histogram2dcontour": [
           {
            "colorbar": {
             "outlinewidth": 0,
             "ticks": ""
            },
            "colorscale": [
             [
              0,
              "#0d0887"
             ],
             [
              0.1111111111111111,
              "#46039f"
             ],
             [
              0.2222222222222222,
              "#7201a8"
             ],
             [
              0.3333333333333333,
              "#9c179e"
             ],
             [
              0.4444444444444444,
              "#bd3786"
             ],
             [
              0.5555555555555556,
              "#d8576b"
             ],
             [
              0.6666666666666666,
              "#ed7953"
             ],
             [
              0.7777777777777778,
              "#fb9f3a"
             ],
             [
              0.8888888888888888,
              "#fdca26"
             ],
             [
              1,
              "#f0f921"
             ]
            ],
            "type": "histogram2dcontour"
           }
          ],
          "mesh3d": [
           {
            "colorbar": {
             "outlinewidth": 0,
             "ticks": ""
            },
            "type": "mesh3d"
           }
          ],
          "parcoords": [
           {
            "line": {
             "colorbar": {
              "outlinewidth": 0,
              "ticks": ""
             }
            },
            "type": "parcoords"
           }
          ],
          "pie": [
           {
            "automargin": true,
            "type": "pie"
           }
          ],
          "scatter": [
           {
            "fillpattern": {
             "fillmode": "overlay",
             "size": 10,
             "solidity": 0.2
            },
            "type": "scatter"
           }
          ],
          "scatter3d": [
           {
            "line": {
             "colorbar": {
              "outlinewidth": 0,
              "ticks": ""
             }
            },
            "marker": {
             "colorbar": {
              "outlinewidth": 0,
              "ticks": ""
             }
            },
            "type": "scatter3d"
           }
          ],
          "scattercarpet": [
           {
            "marker": {
             "colorbar": {
              "outlinewidth": 0,
              "ticks": ""
             }
            },
            "type": "scattercarpet"
           }
          ],
          "scattergeo": [
           {
            "marker": {
             "colorbar": {
              "outlinewidth": 0,
              "ticks": ""
             }
            },
            "type": "scattergeo"
           }
          ],
          "scattergl": [
           {
            "marker": {
             "colorbar": {
              "outlinewidth": 0,
              "ticks": ""
             }
            },
            "type": "scattergl"
           }
          ],
          "scattermapbox": [
           {
            "marker": {
             "colorbar": {
              "outlinewidth": 0,
              "ticks": ""
             }
            },
            "type": "scattermapbox"
           }
          ],
          "scatterpolar": [
           {
            "marker": {
             "colorbar": {
              "outlinewidth": 0,
              "ticks": ""
             }
            },
            "type": "scatterpolar"
           }
          ],
          "scatterpolargl": [
           {
            "marker": {
             "colorbar": {
              "outlinewidth": 0,
              "ticks": ""
             }
            },
            "type": "scatterpolargl"
           }
          ],
          "scatterternary": [
           {
            "marker": {
             "colorbar": {
              "outlinewidth": 0,
              "ticks": ""
             }
            },
            "type": "scatterternary"
           }
          ],
          "surface": [
           {
            "colorbar": {
             "outlinewidth": 0,
             "ticks": ""
            },
            "colorscale": [
             [
              0,
              "#0d0887"
             ],
             [
              0.1111111111111111,
              "#46039f"
             ],
             [
              0.2222222222222222,
              "#7201a8"
             ],
             [
              0.3333333333333333,
              "#9c179e"
             ],
             [
              0.4444444444444444,
              "#bd3786"
             ],
             [
              0.5555555555555556,
              "#d8576b"
             ],
             [
              0.6666666666666666,
              "#ed7953"
             ],
             [
              0.7777777777777778,
              "#fb9f3a"
             ],
             [
              0.8888888888888888,
              "#fdca26"
             ],
             [
              1,
              "#f0f921"
             ]
            ],
            "type": "surface"
           }
          ],
          "table": [
           {
            "cells": {
             "fill": {
              "color": "#EBF0F8"
             },
             "line": {
              "color": "white"
             }
            },
            "header": {
             "fill": {
              "color": "#C8D4E3"
             },
             "line": {
              "color": "white"
             }
            },
            "type": "table"
           }
          ]
         },
         "layout": {
          "annotationdefaults": {
           "arrowcolor": "#2a3f5f",
           "arrowhead": 0,
           "arrowwidth": 1
          },
          "autotypenumbers": "strict",
          "coloraxis": {
           "colorbar": {
            "outlinewidth": 0,
            "ticks": ""
           }
          },
          "colorscale": {
           "diverging": [
            [
             0,
             "#8e0152"
            ],
            [
             0.1,
             "#c51b7d"
            ],
            [
             0.2,
             "#de77ae"
            ],
            [
             0.3,
             "#f1b6da"
            ],
            [
             0.4,
             "#fde0ef"
            ],
            [
             0.5,
             "#f7f7f7"
            ],
            [
             0.6,
             "#e6f5d0"
            ],
            [
             0.7,
             "#b8e186"
            ],
            [
             0.8,
             "#7fbc41"
            ],
            [
             0.9,
             "#4d9221"
            ],
            [
             1,
             "#276419"
            ]
           ],
           "sequential": [
            [
             0,
             "#0d0887"
            ],
            [
             0.1111111111111111,
             "#46039f"
            ],
            [
             0.2222222222222222,
             "#7201a8"
            ],
            [
             0.3333333333333333,
             "#9c179e"
            ],
            [
             0.4444444444444444,
             "#bd3786"
            ],
            [
             0.5555555555555556,
             "#d8576b"
            ],
            [
             0.6666666666666666,
             "#ed7953"
            ],
            [
             0.7777777777777778,
             "#fb9f3a"
            ],
            [
             0.8888888888888888,
             "#fdca26"
            ],
            [
             1,
             "#f0f921"
            ]
           ],
           "sequentialminus": [
            [
             0,
             "#0d0887"
            ],
            [
             0.1111111111111111,
             "#46039f"
            ],
            [
             0.2222222222222222,
             "#7201a8"
            ],
            [
             0.3333333333333333,
             "#9c179e"
            ],
            [
             0.4444444444444444,
             "#bd3786"
            ],
            [
             0.5555555555555556,
             "#d8576b"
            ],
            [
             0.6666666666666666,
             "#ed7953"
            ],
            [
             0.7777777777777778,
             "#fb9f3a"
            ],
            [
             0.8888888888888888,
             "#fdca26"
            ],
            [
             1,
             "#f0f921"
            ]
           ]
          },
          "colorway": [
           "#636efa",
           "#EF553B",
           "#00cc96",
           "#ab63fa",
           "#FFA15A",
           "#19d3f3",
           "#FF6692",
           "#B6E880",
           "#FF97FF",
           "#FECB52"
          ],
          "font": {
           "color": "#2a3f5f"
          },
          "geo": {
           "bgcolor": "white",
           "lakecolor": "white",
           "landcolor": "#E5ECF6",
           "showlakes": true,
           "showland": true,
           "subunitcolor": "white"
          },
          "hoverlabel": {
           "align": "left"
          },
          "hovermode": "closest",
          "mapbox": {
           "style": "light"
          },
          "paper_bgcolor": "white",
          "plot_bgcolor": "#E5ECF6",
          "polar": {
           "angularaxis": {
            "gridcolor": "white",
            "linecolor": "white",
            "ticks": ""
           },
           "bgcolor": "#E5ECF6",
           "radialaxis": {
            "gridcolor": "white",
            "linecolor": "white",
            "ticks": ""
           }
          },
          "scene": {
           "xaxis": {
            "backgroundcolor": "#E5ECF6",
            "gridcolor": "white",
            "gridwidth": 2,
            "linecolor": "white",
            "showbackground": true,
            "ticks": "",
            "zerolinecolor": "white"
           },
           "yaxis": {
            "backgroundcolor": "#E5ECF6",
            "gridcolor": "white",
            "gridwidth": 2,
            "linecolor": "white",
            "showbackground": true,
            "ticks": "",
            "zerolinecolor": "white"
           },
           "zaxis": {
            "backgroundcolor": "#E5ECF6",
            "gridcolor": "white",
            "gridwidth": 2,
            "linecolor": "white",
            "showbackground": true,
            "ticks": "",
            "zerolinecolor": "white"
           }
          },
          "shapedefaults": {
           "line": {
            "color": "#2a3f5f"
           }
          },
          "ternary": {
           "aaxis": {
            "gridcolor": "white",
            "linecolor": "white",
            "ticks": ""
           },
           "baxis": {
            "gridcolor": "white",
            "linecolor": "white",
            "ticks": ""
           },
           "bgcolor": "#E5ECF6",
           "caxis": {
            "gridcolor": "white",
            "linecolor": "white",
            "ticks": ""
           }
          },
          "title": {
           "x": 0.05
          },
          "xaxis": {
           "automargin": true,
           "gridcolor": "white",
           "linecolor": "white",
           "ticks": "",
           "title": {
            "standoff": 15
           },
           "zerolinecolor": "white",
           "zerolinewidth": 2
          },
          "yaxis": {
           "automargin": true,
           "gridcolor": "white",
           "linecolor": "white",
           "ticks": "",
           "title": {
            "standoff": 15
           },
           "zerolinecolor": "white",
           "zerolinewidth": 2
          }
         }
        },
        "ternary": {
         "aaxis": {
          "title": {
           "text": "gold"
          }
         },
         "baxis": {
          "title": {
           "text": "bronze"
          }
         },
         "caxis": {
          "title": {
           "text": "silver"
          }
         },
         "domain": {
          "x": [
           0,
           1
          ],
          "y": [
           0,
           1
          ]
         }
        },
        "title": {
         "text": "Medal Pyramid"
        },
        "width": 800
       }
      }
     },
     "metadata": {},
     "output_type": "display_data"
    }
   ],
   "source": [
    "fig = px.scatter_ternary(\n",
    "    df,\n",
    "    a=df['gold'],\n",
    "    b=df['bronze'],\n",
    "    c=df['silver'],\n",
    "    color='country',\n",
    "    size='total',\n",
    "    size_max=50,\n",
    "    hover_name='country',\n",
    ")\n",
    "\n",
    "fig.update_layout(\n",
    "    title='Medal Pyramid',\n",
    "    width=800,\n",
    "    height=800,\n",
    ")\n",
    "fig.show()"
   ]
  },
  {
   "cell_type": "markdown",
   "metadata": {},
   "source": [
    "## Tree map acc to hightest medal Category"
   ]
  },
  {
   "cell_type": "code",
   "execution_count": 16,
   "metadata": {},
   "outputs": [
    {
     "data": {
      "application/vnd.plotly.v1+json": {
       "config": {
        "plotlyServerURL": "https://plot.ly"
       },
       "data": [
        {
         "branchvalues": "total",
         "domain": {
          "x": [
           0,
           1
          ],
          "y": [
           0,
           1
          ]
         },
         "hovertemplate": "<b>%{hovertext}</b><br><br>labels=%{label}<br>total=%{value}<br>parent=%{parent}<br>id=%{id}<extra></extra>",
         "hovertext": [
          "Albania",
          "Argentina",
          "Armenia",
          "Australia",
          "Austria",
          "Azerbaijan",
          "Belgium",
          "Bulgaria",
          "Bahrain",
          "Brazil",
          "Botswana",
          "Canada",
          "Switzerland",
          "Chile",
          "China",
          "Ivory Coast",
          "Colombia",
          "Cape Verde",
          "Cuba",
          "Cyprus",
          "Czech Republic",
          "Germany",
          "Dominica",
          "Denmark",
          "Dominican Republic",
          "Algeria",
          "Ecuador",
          "Egypt",
          "Spain",
          "Ethiopia",
          "Fiji",
          "France",
          "Great Britain",
          "Georgia",
          "Greece",
          "Grenada",
          "Guatemala",
          "Hong Kong",
          "Croatia",
          "Hungary",
          "Indonesia",
          "India",
          "Ireland",
          "Iran",
          "Israel",
          "Italy",
          "Jamaica",
          "Jordan",
          "Japan",
          "Kazakhstan",
          "Kenya",
          "Kyrgyzstan",
          "South Korea",
          "St Lucia",
          "Lithuania",
          "Morocco",
          "Moldova",
          "Mexico",
          "Mongolia",
          "Malaysia",
          "Netherlands",
          "Norway",
          "New Zealand",
          "Pakistan",
          "Panama",
          "Peru",
          "Philippines",
          "Poland",
          "Puerto Rico",
          "North Korea",
          "Portugal",
          "Qatar",
          "Romania",
          "Singapore",
          "Serbia",
          "Slovakia",
          "Slovenia",
          "Sweden",
          "Thailand",
          "Tajikistan",
          "Taiwan",
          "Tunisia",
          "Turkey",
          "Uganda",
          "Ukraine",
          "United States",
          "Uzbekistan",
          "Kosovo",
          "South Africa",
          "Zambia",
          "(?)",
          "(?)",
          "(?)"
         ],
         "ids": [
          "Bronze/ALB",
          "Gold/ARG",
          "Silver/ARM",
          "Silver/AUS",
          "Bronze/AUT",
          "Bronze/AZE",
          "Bronze/BEL",
          "Gold/BGR",
          "Gold/BHR",
          "Bronze/BRA",
          "Gold/BWA",
          "Bronze/CAN",
          "Bronze/CHE",
          "Gold/CHL",
          "Gold/CHN",
          "Bronze/CIV",
          "Silver/COL",
          "Bronze/CPV",
          "Bronze/CUB",
          "Silver/CYP",
          "Gold/CZE",
          "Silver/DEU",
          "Gold/DMA",
          "Bronze/DNK",
          "Bronze/DOM",
          "Gold/DZA",
          "Silver/ECU",
          "Gold/EGY",
          "Bronze/ESP",
          "Silver/ETH",
          "Silver/FJI",
          "Silver/FRA",
          "Bronze/GBR",
          "Gold/GEO",
          "Bronze/GRC",
          "Bronze/GRD",
          "Gold/GTM",
          "Gold/HKG",
          "Bronze/HRV",
          "Silver/HUN",
          "Gold/IDN",
          "Bronze/IND",
          "Gold/IRL",
          "Silver/IRN",
          "Silver/ISR",
          "Bronze/ITA",
          "Silver/JAM",
          "Silver/JOR",
          "Gold/JPN",
          "Silver/KAZ",
          "Bronze/KEN",
          "Bronze/KGZ",
          "Gold/KOR",
          "Gold/LCA",
          "Silver/LTU",
          "Gold/MAR",
          "Bronze/MDA",
          "Silver/MEX",
          "Silver/MNG",
          "Bronze/MYS",
          "Gold/NLD",
          "Gold/NOR",
          "Gold/NZL",
          "Gold/PAK",
          "Silver/PAN",
          "Bronze/PER",
          "Gold/PHL",
          "Bronze/POL",
          "Bronze/PRI",
          "Bronze/PRK",
          "Silver/PRT",
          "Bronze/QAT",
          "Silver/ROU",
          "Bronze/SGP",
          "Gold/SRB",
          "Bronze/SVK",
          "Gold/SVN",
          "Gold/SWE",
          "Silver/THA",
          "Bronze/TJK",
          "Bronze/TPE",
          "Gold/TUN",
          "Bronze/TUR",
          "Gold/UGA",
          "Silver/UKR",
          "Silver/USA",
          "Gold/UZB",
          "Silver/XKX",
          "Silver/ZAF",
          "Bronze/ZMB",
          "Bronze",
          "Gold",
          "Silver"
         ],
         "labels": [
          "ALB",
          "ARG",
          "ARM",
          "AUS",
          "AUT",
          "AZE",
          "BEL",
          "BGR",
          "BHR",
          "BRA",
          "BWA",
          "CAN",
          "CHE",
          "CHL",
          "CHN",
          "CIV",
          "COL",
          "CPV",
          "CUB",
          "CYP",
          "CZE",
          "DEU",
          "DMA",
          "DNK",
          "DOM",
          "DZA",
          "ECU",
          "EGY",
          "ESP",
          "ETH",
          "FJI",
          "FRA",
          "GBR",
          "GEO",
          "GRC",
          "GRD",
          "GTM",
          "HKG",
          "HRV",
          "HUN",
          "IDN",
          "IND",
          "IRL",
          "IRN",
          "ISR",
          "ITA",
          "JAM",
          "JOR",
          "JPN",
          "KAZ",
          "KEN",
          "KGZ",
          "KOR",
          "LCA",
          "LTU",
          "MAR",
          "MDA",
          "MEX",
          "MNG",
          "MYS",
          "NLD",
          "NOR",
          "NZL",
          "PAK",
          "PAN",
          "PER",
          "PHL",
          "POL",
          "PRI",
          "PRK",
          "PRT",
          "QAT",
          "ROU",
          "SGP",
          "SRB",
          "SVK",
          "SVN",
          "SWE",
          "THA",
          "TJK",
          "TPE",
          "TUN",
          "TUR",
          "UGA",
          "UKR",
          "USA",
          "UZB",
          "XKX",
          "ZAF",
          "ZMB",
          "Bronze",
          "Gold",
          "Silver"
         ],
         "name": "",
         "parents": [
          "Bronze",
          "Gold",
          "Silver",
          "Silver",
          "Bronze",
          "Bronze",
          "Bronze",
          "Gold",
          "Gold",
          "Bronze",
          "Gold",
          "Bronze",
          "Bronze",
          "Gold",
          "Gold",
          "Bronze",
          "Silver",
          "Bronze",
          "Bronze",
          "Silver",
          "Gold",
          "Silver",
          "Gold",
          "Bronze",
          "Bronze",
          "Gold",
          "Silver",
          "Gold",
          "Bronze",
          "Silver",
          "Silver",
          "Silver",
          "Bronze",
          "Gold",
          "Bronze",
          "Bronze",
          "Gold",
          "Gold",
          "Bronze",
          "Silver",
          "Gold",
          "Bronze",
          "Gold",
          "Silver",
          "Silver",
          "Bronze",
          "Silver",
          "Silver",
          "Gold",
          "Silver",
          "Bronze",
          "Bronze",
          "Gold",
          "Gold",
          "Silver",
          "Gold",
          "Bronze",
          "Silver",
          "Silver",
          "Bronze",
          "Gold",
          "Gold",
          "Gold",
          "Gold",
          "Silver",
          "Bronze",
          "Gold",
          "Bronze",
          "Bronze",
          "Bronze",
          "Silver",
          "Bronze",
          "Silver",
          "Bronze",
          "Gold",
          "Bronze",
          "Gold",
          "Gold",
          "Silver",
          "Bronze",
          "Bronze",
          "Gold",
          "Bronze",
          "Gold",
          "Silver",
          "Silver",
          "Gold",
          "Silver",
          "Silver",
          "Bronze",
          "",
          "",
          ""
         ],
         "type": "treemap",
         "values": [
          2,
          3,
          4,
          53,
          5,
          7,
          10,
          7,
          4,
          20,
          2,
          27,
          8,
          2,
          91,
          1,
          4,
          1,
          9,
          1,
          5,
          33,
          1,
          9,
          3,
          3,
          5,
          3,
          18,
          4,
          1,
          64,
          65,
          7,
          8,
          2,
          2,
          4,
          7,
          19,
          3,
          6,
          7,
          12,
          7,
          40,
          6,
          1,
          45,
          7,
          11,
          6,
          32,
          2,
          4,
          2,
          4,
          5,
          1,
          2,
          34,
          8,
          20,
          1,
          1,
          1,
          4,
          10,
          2,
          6,
          4,
          1,
          9,
          1,
          5,
          1,
          3,
          11,
          6,
          3,
          7,
          3,
          8,
          2,
          12,
          126,
          13,
          2,
          6,
          1,
          312,
          329,
          397
         ]
        }
       ],
       "layout": {
        "height": 500,
        "legend": {
         "tracegroupgap": 0
        },
        "margin": {
         "t": 60
        },
        "template": {
         "data": {
          "bar": [
           {
            "error_x": {
             "color": "#2a3f5f"
            },
            "error_y": {
             "color": "#2a3f5f"
            },
            "marker": {
             "line": {
              "color": "#E5ECF6",
              "width": 0.5
             },
             "pattern": {
              "fillmode": "overlay",
              "size": 10,
              "solidity": 0.2
             }
            },
            "type": "bar"
           }
          ],
          "barpolar": [
           {
            "marker": {
             "line": {
              "color": "#E5ECF6",
              "width": 0.5
             },
             "pattern": {
              "fillmode": "overlay",
              "size": 10,
              "solidity": 0.2
             }
            },
            "type": "barpolar"
           }
          ],
          "carpet": [
           {
            "aaxis": {
             "endlinecolor": "#2a3f5f",
             "gridcolor": "white",
             "linecolor": "white",
             "minorgridcolor": "white",
             "startlinecolor": "#2a3f5f"
            },
            "baxis": {
             "endlinecolor": "#2a3f5f",
             "gridcolor": "white",
             "linecolor": "white",
             "minorgridcolor": "white",
             "startlinecolor": "#2a3f5f"
            },
            "type": "carpet"
           }
          ],
          "choropleth": [
           {
            "colorbar": {
             "outlinewidth": 0,
             "ticks": ""
            },
            "type": "choropleth"
           }
          ],
          "contour": [
           {
            "colorbar": {
             "outlinewidth": 0,
             "ticks": ""
            },
            "colorscale": [
             [
              0,
              "#0d0887"
             ],
             [
              0.1111111111111111,
              "#46039f"
             ],
             [
              0.2222222222222222,
              "#7201a8"
             ],
             [
              0.3333333333333333,
              "#9c179e"
             ],
             [
              0.4444444444444444,
              "#bd3786"
             ],
             [
              0.5555555555555556,
              "#d8576b"
             ],
             [
              0.6666666666666666,
              "#ed7953"
             ],
             [
              0.7777777777777778,
              "#fb9f3a"
             ],
             [
              0.8888888888888888,
              "#fdca26"
             ],
             [
              1,
              "#f0f921"
             ]
            ],
            "type": "contour"
           }
          ],
          "contourcarpet": [
           {
            "colorbar": {
             "outlinewidth": 0,
             "ticks": ""
            },
            "type": "contourcarpet"
           }
          ],
          "heatmap": [
           {
            "colorbar": {
             "outlinewidth": 0,
             "ticks": ""
            },
            "colorscale": [
             [
              0,
              "#0d0887"
             ],
             [
              0.1111111111111111,
              "#46039f"
             ],
             [
              0.2222222222222222,
              "#7201a8"
             ],
             [
              0.3333333333333333,
              "#9c179e"
             ],
             [
              0.4444444444444444,
              "#bd3786"
             ],
             [
              0.5555555555555556,
              "#d8576b"
             ],
             [
              0.6666666666666666,
              "#ed7953"
             ],
             [
              0.7777777777777778,
              "#fb9f3a"
             ],
             [
              0.8888888888888888,
              "#fdca26"
             ],
             [
              1,
              "#f0f921"
             ]
            ],
            "type": "heatmap"
           }
          ],
          "heatmapgl": [
           {
            "colorbar": {
             "outlinewidth": 0,
             "ticks": ""
            },
            "colorscale": [
             [
              0,
              "#0d0887"
             ],
             [
              0.1111111111111111,
              "#46039f"
             ],
             [
              0.2222222222222222,
              "#7201a8"
             ],
             [
              0.3333333333333333,
              "#9c179e"
             ],
             [
              0.4444444444444444,
              "#bd3786"
             ],
             [
              0.5555555555555556,
              "#d8576b"
             ],
             [
              0.6666666666666666,
              "#ed7953"
             ],
             [
              0.7777777777777778,
              "#fb9f3a"
             ],
             [
              0.8888888888888888,
              "#fdca26"
             ],
             [
              1,
              "#f0f921"
             ]
            ],
            "type": "heatmapgl"
           }
          ],
          "histogram": [
           {
            "marker": {
             "pattern": {
              "fillmode": "overlay",
              "size": 10,
              "solidity": 0.2
             }
            },
            "type": "histogram"
           }
          ],
          "histogram2d": [
           {
            "colorbar": {
             "outlinewidth": 0,
             "ticks": ""
            },
            "colorscale": [
             [
              0,
              "#0d0887"
             ],
             [
              0.1111111111111111,
              "#46039f"
             ],
             [
              0.2222222222222222,
              "#7201a8"
             ],
             [
              0.3333333333333333,
              "#9c179e"
             ],
             [
              0.4444444444444444,
              "#bd3786"
             ],
             [
              0.5555555555555556,
              "#d8576b"
             ],
             [
              0.6666666666666666,
              "#ed7953"
             ],
             [
              0.7777777777777778,
              "#fb9f3a"
             ],
             [
              0.8888888888888888,
              "#fdca26"
             ],
             [
              1,
              "#f0f921"
             ]
            ],
            "type": "histogram2d"
           }
          ],
          "histogram2dcontour": [
           {
            "colorbar": {
             "outlinewidth": 0,
             "ticks": ""
            },
            "colorscale": [
             [
              0,
              "#0d0887"
             ],
             [
              0.1111111111111111,
              "#46039f"
             ],
             [
              0.2222222222222222,
              "#7201a8"
             ],
             [
              0.3333333333333333,
              "#9c179e"
             ],
             [
              0.4444444444444444,
              "#bd3786"
             ],
             [
              0.5555555555555556,
              "#d8576b"
             ],
             [
              0.6666666666666666,
              "#ed7953"
             ],
             [
              0.7777777777777778,
              "#fb9f3a"
             ],
             [
              0.8888888888888888,
              "#fdca26"
             ],
             [
              1,
              "#f0f921"
             ]
            ],
            "type": "histogram2dcontour"
           }
          ],
          "mesh3d": [
           {
            "colorbar": {
             "outlinewidth": 0,
             "ticks": ""
            },
            "type": "mesh3d"
           }
          ],
          "parcoords": [
           {
            "line": {
             "colorbar": {
              "outlinewidth": 0,
              "ticks": ""
             }
            },
            "type": "parcoords"
           }
          ],
          "pie": [
           {
            "automargin": true,
            "type": "pie"
           }
          ],
          "scatter": [
           {
            "fillpattern": {
             "fillmode": "overlay",
             "size": 10,
             "solidity": 0.2
            },
            "type": "scatter"
           }
          ],
          "scatter3d": [
           {
            "line": {
             "colorbar": {
              "outlinewidth": 0,
              "ticks": ""
             }
            },
            "marker": {
             "colorbar": {
              "outlinewidth": 0,
              "ticks": ""
             }
            },
            "type": "scatter3d"
           }
          ],
          "scattercarpet": [
           {
            "marker": {
             "colorbar": {
              "outlinewidth": 0,
              "ticks": ""
             }
            },
            "type": "scattercarpet"
           }
          ],
          "scattergeo": [
           {
            "marker": {
             "colorbar": {
              "outlinewidth": 0,
              "ticks": ""
             }
            },
            "type": "scattergeo"
           }
          ],
          "scattergl": [
           {
            "marker": {
             "colorbar": {
              "outlinewidth": 0,
              "ticks": ""
             }
            },
            "type": "scattergl"
           }
          ],
          "scattermapbox": [
           {
            "marker": {
             "colorbar": {
              "outlinewidth": 0,
              "ticks": ""
             }
            },
            "type": "scattermapbox"
           }
          ],
          "scatterpolar": [
           {
            "marker": {
             "colorbar": {
              "outlinewidth": 0,
              "ticks": ""
             }
            },
            "type": "scatterpolar"
           }
          ],
          "scatterpolargl": [
           {
            "marker": {
             "colorbar": {
              "outlinewidth": 0,
              "ticks": ""
             }
            },
            "type": "scatterpolargl"
           }
          ],
          "scatterternary": [
           {
            "marker": {
             "colorbar": {
              "outlinewidth": 0,
              "ticks": ""
             }
            },
            "type": "scatterternary"
           }
          ],
          "surface": [
           {
            "colorbar": {
             "outlinewidth": 0,
             "ticks": ""
            },
            "colorscale": [
             [
              0,
              "#0d0887"
             ],
             [
              0.1111111111111111,
              "#46039f"
             ],
             [
              0.2222222222222222,
              "#7201a8"
             ],
             [
              0.3333333333333333,
              "#9c179e"
             ],
             [
              0.4444444444444444,
              "#bd3786"
             ],
             [
              0.5555555555555556,
              "#d8576b"
             ],
             [
              0.6666666666666666,
              "#ed7953"
             ],
             [
              0.7777777777777778,
              "#fb9f3a"
             ],
             [
              0.8888888888888888,
              "#fdca26"
             ],
             [
              1,
              "#f0f921"
             ]
            ],
            "type": "surface"
           }
          ],
          "table": [
           {
            "cells": {
             "fill": {
              "color": "#EBF0F8"
             },
             "line": {
              "color": "white"
             }
            },
            "header": {
             "fill": {
              "color": "#C8D4E3"
             },
             "line": {
              "color": "white"
             }
            },
            "type": "table"
           }
          ]
         },
         "layout": {
          "annotationdefaults": {
           "arrowcolor": "#2a3f5f",
           "arrowhead": 0,
           "arrowwidth": 1
          },
          "autotypenumbers": "strict",
          "coloraxis": {
           "colorbar": {
            "outlinewidth": 0,
            "ticks": ""
           }
          },
          "colorscale": {
           "diverging": [
            [
             0,
             "#8e0152"
            ],
            [
             0.1,
             "#c51b7d"
            ],
            [
             0.2,
             "#de77ae"
            ],
            [
             0.3,
             "#f1b6da"
            ],
            [
             0.4,
             "#fde0ef"
            ],
            [
             0.5,
             "#f7f7f7"
            ],
            [
             0.6,
             "#e6f5d0"
            ],
            [
             0.7,
             "#b8e186"
            ],
            [
             0.8,
             "#7fbc41"
            ],
            [
             0.9,
             "#4d9221"
            ],
            [
             1,
             "#276419"
            ]
           ],
           "sequential": [
            [
             0,
             "#0d0887"
            ],
            [
             0.1111111111111111,
             "#46039f"
            ],
            [
             0.2222222222222222,
             "#7201a8"
            ],
            [
             0.3333333333333333,
             "#9c179e"
            ],
            [
             0.4444444444444444,
             "#bd3786"
            ],
            [
             0.5555555555555556,
             "#d8576b"
            ],
            [
             0.6666666666666666,
             "#ed7953"
            ],
            [
             0.7777777777777778,
             "#fb9f3a"
            ],
            [
             0.8888888888888888,
             "#fdca26"
            ],
            [
             1,
             "#f0f921"
            ]
           ],
           "sequentialminus": [
            [
             0,
             "#0d0887"
            ],
            [
             0.1111111111111111,
             "#46039f"
            ],
            [
             0.2222222222222222,
             "#7201a8"
            ],
            [
             0.3333333333333333,
             "#9c179e"
            ],
            [
             0.4444444444444444,
             "#bd3786"
            ],
            [
             0.5555555555555556,
             "#d8576b"
            ],
            [
             0.6666666666666666,
             "#ed7953"
            ],
            [
             0.7777777777777778,
             "#fb9f3a"
            ],
            [
             0.8888888888888888,
             "#fdca26"
            ],
            [
             1,
             "#f0f921"
            ]
           ]
          },
          "colorway": [
           "#636efa",
           "#EF553B",
           "#00cc96",
           "#ab63fa",
           "#FFA15A",
           "#19d3f3",
           "#FF6692",
           "#B6E880",
           "#FF97FF",
           "#FECB52"
          ],
          "font": {
           "color": "#2a3f5f"
          },
          "geo": {
           "bgcolor": "white",
           "lakecolor": "white",
           "landcolor": "#E5ECF6",
           "showlakes": true,
           "showland": true,
           "subunitcolor": "white"
          },
          "hoverlabel": {
           "align": "left"
          },
          "hovermode": "closest",
          "mapbox": {
           "style": "light"
          },
          "paper_bgcolor": "white",
          "plot_bgcolor": "#E5ECF6",
          "polar": {
           "angularaxis": {
            "gridcolor": "white",
            "linecolor": "white",
            "ticks": ""
           },
           "bgcolor": "#E5ECF6",
           "radialaxis": {
            "gridcolor": "white",
            "linecolor": "white",
            "ticks": ""
           }
          },
          "scene": {
           "xaxis": {
            "backgroundcolor": "#E5ECF6",
            "gridcolor": "white",
            "gridwidth": 2,
            "linecolor": "white",
            "showbackground": true,
            "ticks": "",
            "zerolinecolor": "white"
           },
           "yaxis": {
            "backgroundcolor": "#E5ECF6",
            "gridcolor": "white",
            "gridwidth": 2,
            "linecolor": "white",
            "showbackground": true,
            "ticks": "",
            "zerolinecolor": "white"
           },
           "zaxis": {
            "backgroundcolor": "#E5ECF6",
            "gridcolor": "white",
            "gridwidth": 2,
            "linecolor": "white",
            "showbackground": true,
            "ticks": "",
            "zerolinecolor": "white"
           }
          },
          "shapedefaults": {
           "line": {
            "color": "#2a3f5f"
           }
          },
          "ternary": {
           "aaxis": {
            "gridcolor": "white",
            "linecolor": "white",
            "ticks": ""
           },
           "baxis": {
            "gridcolor": "white",
            "linecolor": "white",
            "ticks": ""
           },
           "bgcolor": "#E5ECF6",
           "caxis": {
            "gridcolor": "white",
            "linecolor": "white",
            "ticks": ""
           }
          },
          "title": {
           "x": 0.05
          },
          "xaxis": {
           "automargin": true,
           "gridcolor": "white",
           "linecolor": "white",
           "ticks": "",
           "title": {
            "standoff": 15
           },
           "zerolinecolor": "white",
           "zerolinewidth": 2
          },
          "yaxis": {
           "automargin": true,
           "gridcolor": "white",
           "linecolor": "white",
           "ticks": "",
           "title": {
            "standoff": 15
           },
           "zerolinecolor": "white",
           "zerolinewidth": 2
          }
         }
        },
        "title": {
         "text": "Highest_medal_category"
        },
        "width": 1200
       }
      }
     },
     "metadata": {},
     "output_type": "display_data"
    }
   ],
   "source": [
    "fig = px.treemap(\n",
    "    df,\n",
    "    path=['highest_medal', 'country_code'],\n",
    "    values='total',\n",
    "    hover_name='country',\n",
    "    branchvalues='total',\n",
    "    #color='country',\n",
    "    \n",
    ")\n",
    "\n",
    "fig.update_layout(\n",
    "    title='Highest_medal_category',\n",
    "    width=1200,\n",
    "    height=500,\n",
    ")\n",
    "fig.show()"
   ]
  },
  {
   "cell_type": "code",
   "execution_count": 17,
   "metadata": {},
   "outputs": [
    {
     "data": {
      "text/html": [
       "<div>\n",
       "<style scoped>\n",
       "    .dataframe tbody tr th:only-of-type {\n",
       "        vertical-align: middle;\n",
       "    }\n",
       "\n",
       "    .dataframe tbody tr th {\n",
       "        vertical-align: top;\n",
       "    }\n",
       "\n",
       "    .dataframe thead th {\n",
       "        text-align: right;\n",
       "    }\n",
       "</style>\n",
       "<table border=\"1\" class=\"dataframe\">\n",
       "  <thead>\n",
       "    <tr style=\"text-align: right;\">\n",
       "      <th></th>\n",
       "      <th>country</th>\n",
       "      <th>country_code</th>\n",
       "      <th>gold</th>\n",
       "      <th>silver</th>\n",
       "      <th>bronze</th>\n",
       "      <th>total</th>\n",
       "      <th>gdp</th>\n",
       "      <th>gdp_year</th>\n",
       "      <th>population</th>\n",
       "      <th>highest_medal</th>\n",
       "    </tr>\n",
       "  </thead>\n",
       "  <tbody>\n",
       "    <tr>\n",
       "      <th>0</th>\n",
       "      <td>United States</td>\n",
       "      <td>USA</td>\n",
       "      <td>40</td>\n",
       "      <td>44</td>\n",
       "      <td>42</td>\n",
       "      <td>126</td>\n",
       "      <td>81695.19</td>\n",
       "      <td>2023</td>\n",
       "      <td>334.9</td>\n",
       "      <td>Silver</td>\n",
       "    </tr>\n",
       "  </tbody>\n",
       "</table>\n",
       "</div>"
      ],
      "text/plain": [
       "         country country_code  gold  silver  bronze  total       gdp  \\\n",
       "0  United States          USA    40      44      42    126  81695.19   \n",
       "\n",
       "   gdp_year  population highest_medal  \n",
       "0      2023       334.9        Silver  "
      ]
     },
     "execution_count": 17,
     "metadata": {},
     "output_type": "execute_result"
    }
   ],
   "source": [
    "df[df['silver'] == 44] # verify the tree map"
   ]
  },
  {
   "cell_type": "markdown",
   "metadata": {},
   "source": [
    "## Medal Funnel"
   ]
  },
  {
   "cell_type": "code",
   "execution_count": 18,
   "metadata": {},
   "outputs": [
    {
     "data": {
      "application/vnd.plotly.v1+json": {
       "config": {
        "plotlyServerURL": "https://plot.ly"
       },
       "data": [
        {
         "customdata": [
          [
           40,
           44,
           42
          ]
         ],
         "hovertemplate": "<b>%{hovertext}</b><br><br>country=United States<br>total=%{x}<br>highest_medal=%{y}<br>gold=%{customdata[0]}<br>silver=%{customdata[1]}<br>bronze=%{customdata[2]}<extra></extra>",
         "hovertext": [
          "United States"
         ],
         "legendgroup": "United States",
         "marker": {
          "color": "#636efa"
         },
         "name": "United States",
         "orientation": "h",
         "showlegend": true,
         "type": "funnel",
         "x": [
          126
         ],
         "xaxis": "x",
         "y": [
          "Silver"
         ],
         "yaxis": "y"
        },
        {
         "customdata": [
          [
           40,
           27,
           24
          ]
         ],
         "hovertemplate": "<b>%{hovertext}</b><br><br>country=China<br>total=%{x}<br>highest_medal=%{y}<br>gold=%{customdata[0]}<br>silver=%{customdata[1]}<br>bronze=%{customdata[2]}<extra></extra>",
         "hovertext": [
          "China"
         ],
         "legendgroup": "China",
         "marker": {
          "color": "#EF553B"
         },
         "name": "China",
         "orientation": "h",
         "showlegend": true,
         "type": "funnel",
         "x": [
          91
         ],
         "xaxis": "x",
         "y": [
          "Gold"
         ],
         "yaxis": "y"
        },
        {
         "customdata": [
          [
           20,
           12,
           13
          ]
         ],
         "hovertemplate": "<b>%{hovertext}</b><br><br>country=Japan<br>total=%{x}<br>highest_medal=%{y}<br>gold=%{customdata[0]}<br>silver=%{customdata[1]}<br>bronze=%{customdata[2]}<extra></extra>",
         "hovertext": [
          "Japan"
         ],
         "legendgroup": "Japan",
         "marker": {
          "color": "#00cc96"
         },
         "name": "Japan",
         "orientation": "h",
         "showlegend": true,
         "type": "funnel",
         "x": [
          45
         ],
         "xaxis": "x",
         "y": [
          "Gold"
         ],
         "yaxis": "y"
        },
        {
         "customdata": [
          [
           18,
           19,
           16
          ]
         ],
         "hovertemplate": "<b>%{hovertext}</b><br><br>country=Australia<br>total=%{x}<br>highest_medal=%{y}<br>gold=%{customdata[0]}<br>silver=%{customdata[1]}<br>bronze=%{customdata[2]}<extra></extra>",
         "hovertext": [
          "Australia"
         ],
         "legendgroup": "Australia",
         "marker": {
          "color": "#ab63fa"
         },
         "name": "Australia",
         "orientation": "h",
         "showlegend": true,
         "type": "funnel",
         "x": [
          53
         ],
         "xaxis": "x",
         "y": [
          "Silver"
         ],
         "yaxis": "y"
        },
        {
         "customdata": [
          [
           16,
           26,
           22
          ]
         ],
         "hovertemplate": "<b>%{hovertext}</b><br><br>country=France<br>total=%{x}<br>highest_medal=%{y}<br>gold=%{customdata[0]}<br>silver=%{customdata[1]}<br>bronze=%{customdata[2]}<extra></extra>",
         "hovertext": [
          "France"
         ],
         "legendgroup": "France",
         "marker": {
          "color": "#FFA15A"
         },
         "name": "France",
         "orientation": "h",
         "showlegend": true,
         "type": "funnel",
         "x": [
          64
         ],
         "xaxis": "x",
         "y": [
          "Silver"
         ],
         "yaxis": "y"
        },
        {
         "customdata": [
          [
           15,
           7,
           12
          ]
         ],
         "hovertemplate": "<b>%{hovertext}</b><br><br>country=Netherlands<br>total=%{x}<br>highest_medal=%{y}<br>gold=%{customdata[0]}<br>silver=%{customdata[1]}<br>bronze=%{customdata[2]}<extra></extra>",
         "hovertext": [
          "Netherlands"
         ],
         "legendgroup": "Netherlands",
         "marker": {
          "color": "#19d3f3"
         },
         "name": "Netherlands",
         "orientation": "h",
         "showlegend": true,
         "type": "funnel",
         "x": [
          34
         ],
         "xaxis": "x",
         "y": [
          "Gold"
         ],
         "yaxis": "y"
        },
        {
         "customdata": [
          [
           14,
           22,
           29
          ]
         ],
         "hovertemplate": "<b>%{hovertext}</b><br><br>country=Great Britain<br>total=%{x}<br>highest_medal=%{y}<br>gold=%{customdata[0]}<br>silver=%{customdata[1]}<br>bronze=%{customdata[2]}<extra></extra>",
         "hovertext": [
          "Great Britain"
         ],
         "legendgroup": "Great Britain",
         "marker": {
          "color": "#FF6692"
         },
         "name": "Great Britain",
         "orientation": "h",
         "showlegend": true,
         "type": "funnel",
         "x": [
          65
         ],
         "xaxis": "x",
         "y": [
          "Bronze"
         ],
         "yaxis": "y"
        },
        {
         "customdata": [
          [
           13,
           9,
           10
          ]
         ],
         "hovertemplate": "<b>%{hovertext}</b><br><br>country=South Korea<br>total=%{x}<br>highest_medal=%{y}<br>gold=%{customdata[0]}<br>silver=%{customdata[1]}<br>bronze=%{customdata[2]}<extra></extra>",
         "hovertext": [
          "South Korea"
         ],
         "legendgroup": "South Korea",
         "marker": {
          "color": "#B6E880"
         },
         "name": "South Korea",
         "orientation": "h",
         "showlegend": true,
         "type": "funnel",
         "x": [
          32
         ],
         "xaxis": "x",
         "y": [
          "Gold"
         ],
         "yaxis": "y"
        },
        {
         "customdata": [
          [
           12,
           13,
           15
          ]
         ],
         "hovertemplate": "<b>%{hovertext}</b><br><br>country=Italy<br>total=%{x}<br>highest_medal=%{y}<br>gold=%{customdata[0]}<br>silver=%{customdata[1]}<br>bronze=%{customdata[2]}<extra></extra>",
         "hovertext": [
          "Italy"
         ],
         "legendgroup": "Italy",
         "marker": {
          "color": "#FF97FF"
         },
         "name": "Italy",
         "orientation": "h",
         "showlegend": true,
         "type": "funnel",
         "x": [
          40
         ],
         "xaxis": "x",
         "y": [
          "Bronze"
         ],
         "yaxis": "y"
        },
        {
         "customdata": [
          [
           12,
           13,
           8
          ]
         ],
         "hovertemplate": "<b>%{hovertext}</b><br><br>country=Germany<br>total=%{x}<br>highest_medal=%{y}<br>gold=%{customdata[0]}<br>silver=%{customdata[1]}<br>bronze=%{customdata[2]}<extra></extra>",
         "hovertext": [
          "Germany"
         ],
         "legendgroup": "Germany",
         "marker": {
          "color": "#FECB52"
         },
         "name": "Germany",
         "orientation": "h",
         "showlegend": true,
         "type": "funnel",
         "x": [
          33
         ],
         "xaxis": "x",
         "y": [
          "Silver"
         ],
         "yaxis": "y"
        },
        {
         "customdata": [
          [
           10,
           7,
           3
          ]
         ],
         "hovertemplate": "<b>%{hovertext}</b><br><br>country=New Zealand<br>total=%{x}<br>highest_medal=%{y}<br>gold=%{customdata[0]}<br>silver=%{customdata[1]}<br>bronze=%{customdata[2]}<extra></extra>",
         "hovertext": [
          "New Zealand"
         ],
         "legendgroup": "New Zealand",
         "marker": {
          "color": "#636efa"
         },
         "name": "New Zealand",
         "orientation": "h",
         "showlegend": true,
         "type": "funnel",
         "x": [
          20
         ],
         "xaxis": "x",
         "y": [
          "Gold"
         ],
         "yaxis": "y"
        },
        {
         "customdata": [
          [
           9,
           7,
           11
          ]
         ],
         "hovertemplate": "<b>%{hovertext}</b><br><br>country=Canada<br>total=%{x}<br>highest_medal=%{y}<br>gold=%{customdata[0]}<br>silver=%{customdata[1]}<br>bronze=%{customdata[2]}<extra></extra>",
         "hovertext": [
          "Canada"
         ],
         "legendgroup": "Canada",
         "marker": {
          "color": "#EF553B"
         },
         "name": "Canada",
         "orientation": "h",
         "showlegend": true,
         "type": "funnel",
         "x": [
          27
         ],
         "xaxis": "x",
         "y": [
          "Bronze"
         ],
         "yaxis": "y"
        },
        {
         "customdata": [
          [
           8,
           2,
           3
          ]
         ],
         "hovertemplate": "<b>%{hovertext}</b><br><br>country=Uzbekistan<br>total=%{x}<br>highest_medal=%{y}<br>gold=%{customdata[0]}<br>silver=%{customdata[1]}<br>bronze=%{customdata[2]}<extra></extra>",
         "hovertext": [
          "Uzbekistan"
         ],
         "legendgroup": "Uzbekistan",
         "marker": {
          "color": "#00cc96"
         },
         "name": "Uzbekistan",
         "orientation": "h",
         "showlegend": true,
         "type": "funnel",
         "x": [
          13
         ],
         "xaxis": "x",
         "y": [
          "Gold"
         ],
         "yaxis": "y"
        },
        {
         "customdata": [
          [
           6,
           7,
           6
          ]
         ],
         "hovertemplate": "<b>%{hovertext}</b><br><br>country=Hungary<br>total=%{x}<br>highest_medal=%{y}<br>gold=%{customdata[0]}<br>silver=%{customdata[1]}<br>bronze=%{customdata[2]}<extra></extra>",
         "hovertext": [
          "Hungary"
         ],
         "legendgroup": "Hungary",
         "marker": {
          "color": "#ab63fa"
         },
         "name": "Hungary",
         "orientation": "h",
         "showlegend": true,
         "type": "funnel",
         "x": [
          19
         ],
         "xaxis": "x",
         "y": [
          "Silver"
         ],
         "yaxis": "y"
        },
        {
         "customdata": [
          [
           5,
           4,
           9
          ]
         ],
         "hovertemplate": "<b>%{hovertext}</b><br><br>country=Spain<br>total=%{x}<br>highest_medal=%{y}<br>gold=%{customdata[0]}<br>silver=%{customdata[1]}<br>bronze=%{customdata[2]}<extra></extra>",
         "hovertext": [
          "Spain"
         ],
         "legendgroup": "Spain",
         "marker": {
          "color": "#FFA15A"
         },
         "name": "Spain",
         "orientation": "h",
         "showlegend": true,
         "type": "funnel",
         "x": [
          18
         ],
         "xaxis": "x",
         "y": [
          "Bronze"
         ],
         "yaxis": "y"
        },
        {
         "customdata": [
          [
           4,
           4,
           3
          ]
         ],
         "hovertemplate": "<b>%{hovertext}</b><br><br>country=Sweden<br>total=%{x}<br>highest_medal=%{y}<br>gold=%{customdata[0]}<br>silver=%{customdata[1]}<br>bronze=%{customdata[2]}<extra></extra>",
         "hovertext": [
          "Sweden"
         ],
         "legendgroup": "Sweden",
         "marker": {
          "color": "#19d3f3"
         },
         "name": "Sweden",
         "orientation": "h",
         "showlegend": true,
         "type": "funnel",
         "x": [
          11
         ],
         "xaxis": "x",
         "y": [
          "Gold"
         ],
         "yaxis": "y"
        },
        {
         "customdata": [
          [
           4,
           2,
           5
          ]
         ],
         "hovertemplate": "<b>%{hovertext}</b><br><br>country=Kenya<br>total=%{x}<br>highest_medal=%{y}<br>gold=%{customdata[0]}<br>silver=%{customdata[1]}<br>bronze=%{customdata[2]}<extra></extra>",
         "hovertext": [
          "Kenya"
         ],
         "legendgroup": "Kenya",
         "marker": {
          "color": "#FF6692"
         },
         "name": "Kenya",
         "orientation": "h",
         "showlegend": true,
         "type": "funnel",
         "x": [
          11
         ],
         "xaxis": "x",
         "y": [
          "Bronze"
         ],
         "yaxis": "y"
        },
        {
         "customdata": [
          [
           4,
           1,
           3
          ]
         ],
         "hovertemplate": "<b>%{hovertext}</b><br><br>country=Norway<br>total=%{x}<br>highest_medal=%{y}<br>gold=%{customdata[0]}<br>silver=%{customdata[1]}<br>bronze=%{customdata[2]}<extra></extra>",
         "hovertext": [
          "Norway"
         ],
         "legendgroup": "Norway",
         "marker": {
          "color": "#B6E880"
         },
         "name": "Norway",
         "orientation": "h",
         "showlegend": true,
         "type": "funnel",
         "x": [
          8
         ],
         "xaxis": "x",
         "y": [
          "Gold"
         ],
         "yaxis": "y"
        },
        {
         "customdata": [
          [
           4,
           0,
           3
          ]
         ],
         "hovertemplate": "<b>%{hovertext}</b><br><br>country=Ireland<br>total=%{x}<br>highest_medal=%{y}<br>gold=%{customdata[0]}<br>silver=%{customdata[1]}<br>bronze=%{customdata[2]}<extra></extra>",
         "hovertext": [
          "Ireland"
         ],
         "legendgroup": "Ireland",
         "marker": {
          "color": "#FF97FF"
         },
         "name": "Ireland",
         "orientation": "h",
         "showlegend": true,
         "type": "funnel",
         "x": [
          7
         ],
         "xaxis": "x",
         "y": [
          "Gold"
         ],
         "yaxis": "y"
        },
        {
         "customdata": [
          [
           3,
           7,
           10
          ]
         ],
         "hovertemplate": "<b>%{hovertext}</b><br><br>country=Brazil<br>total=%{x}<br>highest_medal=%{y}<br>gold=%{customdata[0]}<br>silver=%{customdata[1]}<br>bronze=%{customdata[2]}<extra></extra>",
         "hovertext": [
          "Brazil"
         ],
         "legendgroup": "Brazil",
         "marker": {
          "color": "#FECB52"
         },
         "name": "Brazil",
         "orientation": "h",
         "showlegend": true,
         "type": "funnel",
         "x": [
          20
         ],
         "xaxis": "x",
         "y": [
          "Bronze"
         ],
         "yaxis": "y"
        },
        {
         "customdata": [
          [
           3,
           6,
           3
          ]
         ],
         "hovertemplate": "<b>%{hovertext}</b><br><br>country=Iran<br>total=%{x}<br>highest_medal=%{y}<br>gold=%{customdata[0]}<br>silver=%{customdata[1]}<br>bronze=%{customdata[2]}<extra></extra>",
         "hovertext": [
          "Iran"
         ],
         "legendgroup": "Iran",
         "marker": {
          "color": "#636efa"
         },
         "name": "Iran",
         "orientation": "h",
         "showlegend": true,
         "type": "funnel",
         "x": [
          12
         ],
         "xaxis": "x",
         "y": [
          "Silver"
         ],
         "yaxis": "y"
        },
        {
         "customdata": [
          [
           3,
           5,
           4
          ]
         ],
         "hovertemplate": "<b>%{hovertext}</b><br><br>country=Ukraine<br>total=%{x}<br>highest_medal=%{y}<br>gold=%{customdata[0]}<br>silver=%{customdata[1]}<br>bronze=%{customdata[2]}<extra></extra>",
         "hovertext": [
          "Ukraine"
         ],
         "legendgroup": "Ukraine",
         "marker": {
          "color": "#EF553B"
         },
         "name": "Ukraine",
         "orientation": "h",
         "showlegend": true,
         "type": "funnel",
         "x": [
          12
         ],
         "xaxis": "x",
         "y": [
          "Silver"
         ],
         "yaxis": "y"
        },
        {
         "customdata": [
          [
           3,
           4,
           2
          ]
         ],
         "hovertemplate": "<b>%{hovertext}</b><br><br>country=Romania<br>total=%{x}<br>highest_medal=%{y}<br>gold=%{customdata[0]}<br>silver=%{customdata[1]}<br>bronze=%{customdata[2]}<extra></extra>",
         "hovertext": [
          "Romania"
         ],
         "legendgroup": "Romania",
         "marker": {
          "color": "#00cc96"
         },
         "name": "Romania",
         "orientation": "h",
         "showlegend": true,
         "type": "funnel",
         "x": [
          9
         ],
         "xaxis": "x",
         "y": [
          "Silver"
         ],
         "yaxis": "y"
        },
        {
         "customdata": [
          [
           3,
           3,
           1
          ]
         ],
         "hovertemplate": "<b>%{hovertext}</b><br><br>country=Georgia<br>total=%{x}<br>highest_medal=%{y}<br>gold=%{customdata[0]}<br>silver=%{customdata[1]}<br>bronze=%{customdata[2]}<extra></extra>",
         "hovertext": [
          "Georgia"
         ],
         "legendgroup": "Georgia",
         "marker": {
          "color": "#ab63fa"
         },
         "name": "Georgia",
         "orientation": "h",
         "showlegend": true,
         "type": "funnel",
         "x": [
          7
         ],
         "xaxis": "x",
         "y": [
          "Gold"
         ],
         "yaxis": "y"
        },
        {
         "customdata": [
          [
           3,
           1,
           6
          ]
         ],
         "hovertemplate": "<b>%{hovertext}</b><br><br>country=Belgium<br>total=%{x}<br>highest_medal=%{y}<br>gold=%{customdata[0]}<br>silver=%{customdata[1]}<br>bronze=%{customdata[2]}<extra></extra>",
         "hovertext": [
          "Belgium"
         ],
         "legendgroup": "Belgium",
         "marker": {
          "color": "#FFA15A"
         },
         "name": "Belgium",
         "orientation": "h",
         "showlegend": true,
         "type": "funnel",
         "x": [
          10
         ],
         "xaxis": "x",
         "y": [
          "Bronze"
         ],
         "yaxis": "y"
        },
        {
         "customdata": [
          [
           3,
           1,
           3
          ]
         ],
         "hovertemplate": "<b>%{hovertext}</b><br><br>country=Bulgaria<br>total=%{x}<br>highest_medal=%{y}<br>gold=%{customdata[0]}<br>silver=%{customdata[1]}<br>bronze=%{customdata[2]}<extra></extra>",
         "hovertext": [
          "Bulgaria"
         ],
         "legendgroup": "Bulgaria",
         "marker": {
          "color": "#19d3f3"
         },
         "name": "Bulgaria",
         "orientation": "h",
         "showlegend": true,
         "type": "funnel",
         "x": [
          7
         ],
         "xaxis": "x",
         "y": [
          "Gold"
         ],
         "yaxis": "y"
        },
        {
         "customdata": [
          [
           3,
           1,
           1
          ]
         ],
         "hovertemplate": "<b>%{hovertext}</b><br><br>country=Serbia<br>total=%{x}<br>highest_medal=%{y}<br>gold=%{customdata[0]}<br>silver=%{customdata[1]}<br>bronze=%{customdata[2]}<extra></extra>",
         "hovertext": [
          "Serbia"
         ],
         "legendgroup": "Serbia",
         "marker": {
          "color": "#FF6692"
         },
         "name": "Serbia",
         "orientation": "h",
         "showlegend": true,
         "type": "funnel",
         "x": [
          5
         ],
         "xaxis": "x",
         "y": [
          "Gold"
         ],
         "yaxis": "y"
        },
        {
         "customdata": [
          [
           3,
           0,
           2
          ]
         ],
         "hovertemplate": "<b>%{hovertext}</b><br><br>country=Czech Republic<br>total=%{x}<br>highest_medal=%{y}<br>gold=%{customdata[0]}<br>silver=%{customdata[1]}<br>bronze=%{customdata[2]}<extra></extra>",
         "hovertext": [
          "Czech Republic"
         ],
         "legendgroup": "Czech Republic",
         "marker": {
          "color": "#B6E880"
         },
         "name": "Czech Republic",
         "orientation": "h",
         "showlegend": true,
         "type": "funnel",
         "x": [
          5
         ],
         "xaxis": "x",
         "y": [
          "Gold"
         ],
         "yaxis": "y"
        },
        {
         "customdata": [
          [
           2,
           2,
           5
          ]
         ],
         "hovertemplate": "<b>%{hovertext}</b><br><br>country=Denmark<br>total=%{x}<br>highest_medal=%{y}<br>gold=%{customdata[0]}<br>silver=%{customdata[1]}<br>bronze=%{customdata[2]}<extra></extra>",
         "hovertext": [
          "Denmark"
         ],
         "legendgroup": "Denmark",
         "marker": {
          "color": "#FF97FF"
         },
         "name": "Denmark",
         "orientation": "h",
         "showlegend": true,
         "type": "funnel",
         "x": [
          9
         ],
         "xaxis": "x",
         "y": [
          "Bronze"
         ],
         "yaxis": "y"
        },
        {
         "customdata": [
          [
           2,
           2,
           3
          ]
         ],
         "hovertemplate": "<b>%{hovertext}</b><br><br>country=Azerbaijan<br>total=%{x}<br>highest_medal=%{y}<br>gold=%{customdata[0]}<br>silver=%{customdata[1]}<br>bronze=%{customdata[2]}<extra></extra>",
         "hovertext": [
          "Azerbaijan"
         ],
         "legendgroup": "Azerbaijan",
         "marker": {
          "color": "#FECB52"
         },
         "name": "Azerbaijan",
         "orientation": "h",
         "showlegend": true,
         "type": "funnel",
         "x": [
          7
         ],
         "xaxis": "x",
         "y": [
          "Bronze"
         ],
         "yaxis": "y"
        },
        {
         "customdata": [
          [
           2,
           2,
           3
          ]
         ],
         "hovertemplate": "<b>%{hovertext}</b><br><br>country=Croatia<br>total=%{x}<br>highest_medal=%{y}<br>gold=%{customdata[0]}<br>silver=%{customdata[1]}<br>bronze=%{customdata[2]}<extra></extra>",
         "hovertext": [
          "Croatia"
         ],
         "legendgroup": "Croatia",
         "marker": {
          "color": "#636efa"
         },
         "name": "Croatia",
         "orientation": "h",
         "showlegend": true,
         "type": "funnel",
         "x": [
          7
         ],
         "xaxis": "x",
         "y": [
          "Bronze"
         ],
         "yaxis": "y"
        },
        {
         "customdata": [
          [
           2,
           1,
           6
          ]
         ],
         "hovertemplate": "<b>%{hovertext}</b><br><br>country=Cuba<br>total=%{x}<br>highest_medal=%{y}<br>gold=%{customdata[0]}<br>silver=%{customdata[1]}<br>bronze=%{customdata[2]}<extra></extra>",
         "hovertext": [
          "Cuba"
         ],
         "legendgroup": "Cuba",
         "marker": {
          "color": "#EF553B"
         },
         "name": "Cuba",
         "orientation": "h",
         "showlegend": true,
         "type": "funnel",
         "x": [
          9
         ],
         "xaxis": "x",
         "y": [
          "Bronze"
         ],
         "yaxis": "y"
        },
        {
         "customdata": [
          [
           2,
           1,
           1
          ]
         ],
         "hovertemplate": "<b>%{hovertext}</b><br><br>country=Bahrain<br>total=%{x}<br>highest_medal=%{y}<br>gold=%{customdata[0]}<br>silver=%{customdata[1]}<br>bronze=%{customdata[2]}<extra></extra>",
         "hovertext": [
          "Bahrain"
         ],
         "legendgroup": "Bahrain",
         "marker": {
          "color": "#00cc96"
         },
         "name": "Bahrain",
         "orientation": "h",
         "showlegend": true,
         "type": "funnel",
         "x": [
          4
         ],
         "xaxis": "x",
         "y": [
          "Gold"
         ],
         "yaxis": "y"
        },
        {
         "customdata": [
          [
           2,
           1,
           0
          ]
         ],
         "hovertemplate": "<b>%{hovertext}</b><br><br>country=Slovenia<br>total=%{x}<br>highest_medal=%{y}<br>gold=%{customdata[0]}<br>silver=%{customdata[1]}<br>bronze=%{customdata[2]}<extra></extra>",
         "hovertext": [
          "Slovenia"
         ],
         "legendgroup": "Slovenia",
         "marker": {
          "color": "#ab63fa"
         },
         "name": "Slovenia",
         "orientation": "h",
         "showlegend": true,
         "type": "funnel",
         "x": [
          3
         ],
         "xaxis": "x",
         "y": [
          "Gold"
         ],
         "yaxis": "y"
        },
        {
         "customdata": [
          [
           2,
           0,
           5
          ]
         ],
         "hovertemplate": "<b>%{hovertext}</b><br><br>country=Taiwan<br>total=%{x}<br>highest_medal=%{y}<br>gold=%{customdata[0]}<br>silver=%{customdata[1]}<br>bronze=%{customdata[2]}<extra></extra>",
         "hovertext": [
          "Taiwan"
         ],
         "legendgroup": "Taiwan",
         "marker": {
          "color": "#FFA15A"
         },
         "name": "Taiwan",
         "orientation": "h",
         "showlegend": true,
         "type": "funnel",
         "x": [
          7
         ],
         "xaxis": "x",
         "y": [
          "Bronze"
         ],
         "yaxis": "y"
        },
        {
         "customdata": [
          [
           2,
           0,
           3
          ]
         ],
         "hovertemplate": "<b>%{hovertext}</b><br><br>country=Austria<br>total=%{x}<br>highest_medal=%{y}<br>gold=%{customdata[0]}<br>silver=%{customdata[1]}<br>bronze=%{customdata[2]}<extra></extra>",
         "hovertext": [
          "Austria"
         ],
         "legendgroup": "Austria",
         "marker": {
          "color": "#19d3f3"
         },
         "name": "Austria",
         "orientation": "h",
         "showlegend": true,
         "type": "funnel",
         "x": [
          5
         ],
         "xaxis": "x",
         "y": [
          "Bronze"
         ],
         "yaxis": "y"
        },
        {
         "customdata": [
          [
           2,
           0,
           2
          ]
         ],
         "hovertemplate": "<b>%{hovertext}</b><br><br>country=Hong Kong<br>total=%{x}<br>highest_medal=%{y}<br>gold=%{customdata[0]}<br>silver=%{customdata[1]}<br>bronze=%{customdata[2]}<extra></extra>",
         "hovertext": [
          "Hong Kong"
         ],
         "legendgroup": "Hong Kong",
         "marker": {
          "color": "#FF6692"
         },
         "name": "Hong Kong",
         "orientation": "h",
         "showlegend": true,
         "type": "funnel",
         "x": [
          4
         ],
         "xaxis": "x",
         "y": [
          "Gold"
         ],
         "yaxis": "y"
        },
        {
         "customdata": [
          [
           2,
           0,
           2
          ]
         ],
         "hovertemplate": "<b>%{hovertext}</b><br><br>country=Philippines<br>total=%{x}<br>highest_medal=%{y}<br>gold=%{customdata[0]}<br>silver=%{customdata[1]}<br>bronze=%{customdata[2]}<extra></extra>",
         "hovertext": [
          "Philippines"
         ],
         "legendgroup": "Philippines",
         "marker": {
          "color": "#B6E880"
         },
         "name": "Philippines",
         "orientation": "h",
         "showlegend": true,
         "type": "funnel",
         "x": [
          4
         ],
         "xaxis": "x",
         "y": [
          "Gold"
         ],
         "yaxis": "y"
        },
        {
         "customdata": [
          [
           2,
           0,
           1
          ]
         ],
         "hovertemplate": "<b>%{hovertext}</b><br><br>country=Algeria<br>total=%{x}<br>highest_medal=%{y}<br>gold=%{customdata[0]}<br>silver=%{customdata[1]}<br>bronze=%{customdata[2]}<extra></extra>",
         "hovertext": [
          "Algeria"
         ],
         "legendgroup": "Algeria",
         "marker": {
          "color": "#FF97FF"
         },
         "name": "Algeria",
         "orientation": "h",
         "showlegend": true,
         "type": "funnel",
         "x": [
          3
         ],
         "xaxis": "x",
         "y": [
          "Gold"
         ],
         "yaxis": "y"
        },
        {
         "customdata": [
          [
           2,
           0,
           1
          ]
         ],
         "hovertemplate": "<b>%{hovertext}</b><br><br>country=Indonesia<br>total=%{x}<br>highest_medal=%{y}<br>gold=%{customdata[0]}<br>silver=%{customdata[1]}<br>bronze=%{customdata[2]}<extra></extra>",
         "hovertext": [
          "Indonesia"
         ],
         "legendgroup": "Indonesia",
         "marker": {
          "color": "#FECB52"
         },
         "name": "Indonesia",
         "orientation": "h",
         "showlegend": true,
         "type": "funnel",
         "x": [
          3
         ],
         "xaxis": "x",
         "y": [
          "Gold"
         ],
         "yaxis": "y"
        },
        {
         "customdata": [
          [
           1,
           5,
           1
          ]
         ],
         "hovertemplate": "<b>%{hovertext}</b><br><br>country=Israel<br>total=%{x}<br>highest_medal=%{y}<br>gold=%{customdata[0]}<br>silver=%{customdata[1]}<br>bronze=%{customdata[2]}<extra></extra>",
         "hovertext": [
          "Israel"
         ],
         "legendgroup": "Israel",
         "marker": {
          "color": "#636efa"
         },
         "name": "Israel",
         "orientation": "h",
         "showlegend": true,
         "type": "funnel",
         "x": [
          7
         ],
         "xaxis": "x",
         "y": [
          "Silver"
         ],
         "yaxis": "y"
        },
        {
         "customdata": [
          [
           1,
           4,
           5
          ]
         ],
         "hovertemplate": "<b>%{hovertext}</b><br><br>country=Poland<br>total=%{x}<br>highest_medal=%{y}<br>gold=%{customdata[0]}<br>silver=%{customdata[1]}<br>bronze=%{customdata[2]}<extra></extra>",
         "hovertext": [
          "Poland"
         ],
         "legendgroup": "Poland",
         "marker": {
          "color": "#EF553B"
         },
         "name": "Poland",
         "orientation": "h",
         "showlegend": true,
         "type": "funnel",
         "x": [
          10
         ],
         "xaxis": "x",
         "y": [
          "Bronze"
         ],
         "yaxis": "y"
        },
        {
         "customdata": [
          [
           1,
           3,
           3
          ]
         ],
         "hovertemplate": "<b>%{hovertext}</b><br><br>country=Kazakhstan<br>total=%{x}<br>highest_medal=%{y}<br>gold=%{customdata[0]}<br>silver=%{customdata[1]}<br>bronze=%{customdata[2]}<extra></extra>",
         "hovertext": [
          "Kazakhstan"
         ],
         "legendgroup": "Kazakhstan",
         "marker": {
          "color": "#00cc96"
         },
         "name": "Kazakhstan",
         "orientation": "h",
         "showlegend": true,
         "type": "funnel",
         "x": [
          7
         ],
         "xaxis": "x",
         "y": [
          "Silver"
         ],
         "yaxis": "y"
        },
        {
         "customdata": [
          [
           1,
           3,
           2
          ]
         ],
         "hovertemplate": "<b>%{hovertext}</b><br><br>country=Jamaica<br>total=%{x}<br>highest_medal=%{y}<br>gold=%{customdata[0]}<br>silver=%{customdata[1]}<br>bronze=%{customdata[2]}<extra></extra>",
         "hovertext": [
          "Jamaica"
         ],
         "legendgroup": "Jamaica",
         "marker": {
          "color": "#ab63fa"
         },
         "name": "Jamaica",
         "orientation": "h",
         "showlegend": true,
         "type": "funnel",
         "x": [
          6
         ],
         "xaxis": "x",
         "y": [
          "Silver"
         ],
         "yaxis": "y"
        },
        {
         "customdata": [
          [
           1,
           3,
           2
          ]
         ],
         "hovertemplate": "<b>%{hovertext}</b><br><br>country=South Africa<br>total=%{x}<br>highest_medal=%{y}<br>gold=%{customdata[0]}<br>silver=%{customdata[1]}<br>bronze=%{customdata[2]}<extra></extra>",
         "hovertext": [
          "South Africa"
         ],
         "legendgroup": "South Africa",
         "marker": {
          "color": "#FFA15A"
         },
         "name": "South Africa",
         "orientation": "h",
         "showlegend": true,
         "type": "funnel",
         "x": [
          6
         ],
         "xaxis": "x",
         "y": [
          "Silver"
         ],
         "yaxis": "y"
        },
        {
         "customdata": [
          [
           1,
           3,
           2
          ]
         ],
         "hovertemplate": "<b>%{hovertext}</b><br><br>country=Thailand<br>total=%{x}<br>highest_medal=%{y}<br>gold=%{customdata[0]}<br>silver=%{customdata[1]}<br>bronze=%{customdata[2]}<extra></extra>",
         "hovertext": [
          "Thailand"
         ],
         "legendgroup": "Thailand",
         "marker": {
          "color": "#19d3f3"
         },
         "name": "Thailand",
         "orientation": "h",
         "showlegend": true,
         "type": "funnel",
         "x": [
          6
         ],
         "xaxis": "x",
         "y": [
          "Silver"
         ],
         "yaxis": "y"
        },
        {
         "customdata": [
          [
           1,
           3,
           0
          ]
         ],
         "hovertemplate": "<b>%{hovertext}</b><br><br>country=Ethiopia<br>total=%{x}<br>highest_medal=%{y}<br>gold=%{customdata[0]}<br>silver=%{customdata[1]}<br>bronze=%{customdata[2]}<extra></extra>",
         "hovertext": [
          "Ethiopia"
         ],
         "legendgroup": "Ethiopia",
         "marker": {
          "color": "#FF6692"
         },
         "name": "Ethiopia",
         "orientation": "h",
         "showlegend": true,
         "type": "funnel",
         "x": [
          4
         ],
         "xaxis": "x",
         "y": [
          "Silver"
         ],
         "yaxis": "y"
        },
        {
         "customdata": [
          [
           1,
           2,
           5
          ]
         ],
         "hovertemplate": "<b>%{hovertext}</b><br><br>country=Switzerland<br>total=%{x}<br>highest_medal=%{y}<br>gold=%{customdata[0]}<br>silver=%{customdata[1]}<br>bronze=%{customdata[2]}<extra></extra>",
         "hovertext": [
          "Switzerland"
         ],
         "legendgroup": "Switzerland",
         "marker": {
          "color": "#B6E880"
         },
         "name": "Switzerland",
         "orientation": "h",
         "showlegend": true,
         "type": "funnel",
         "x": [
          8
         ],
         "xaxis": "x",
         "y": [
          "Bronze"
         ],
         "yaxis": "y"
        },
        {
         "customdata": [
          [
           1,
           2,
           2
          ]
         ],
         "hovertemplate": "<b>%{hovertext}</b><br><br>country=Ecuador<br>total=%{x}<br>highest_medal=%{y}<br>gold=%{customdata[0]}<br>silver=%{customdata[1]}<br>bronze=%{customdata[2]}<extra></extra>",
         "hovertext": [
          "Ecuador"
         ],
         "legendgroup": "Ecuador",
         "marker": {
          "color": "#FF97FF"
         },
         "name": "Ecuador",
         "orientation": "h",
         "showlegend": true,
         "type": "funnel",
         "x": [
          5
         ],
         "xaxis": "x",
         "y": [
          "Silver"
         ],
         "yaxis": "y"
        },
        {
         "customdata": [
          [
           1,
           2,
           1
          ]
         ],
         "hovertemplate": "<b>%{hovertext}</b><br><br>country=Portugal<br>total=%{x}<br>highest_medal=%{y}<br>gold=%{customdata[0]}<br>silver=%{customdata[1]}<br>bronze=%{customdata[2]}<extra></extra>",
         "hovertext": [
          "Portugal"
         ],
         "legendgroup": "Portugal",
         "marker": {
          "color": "#FECB52"
         },
         "name": "Portugal",
         "orientation": "h",
         "showlegend": true,
         "type": "funnel",
         "x": [
          4
         ],
         "xaxis": "x",
         "y": [
          "Silver"
         ],
         "yaxis": "y"
        },
        {
         "customdata": [
          [
           1,
           1,
           6
          ]
         ],
         "hovertemplate": "<b>%{hovertext}</b><br><br>country=Greece<br>total=%{x}<br>highest_medal=%{y}<br>gold=%{customdata[0]}<br>silver=%{customdata[1]}<br>bronze=%{customdata[2]}<extra></extra>",
         "hovertext": [
          "Greece"
         ],
         "legendgroup": "Greece",
         "marker": {
          "color": "#636efa"
         },
         "name": "Greece",
         "orientation": "h",
         "showlegend": true,
         "type": "funnel",
         "x": [
          8
         ],
         "xaxis": "x",
         "y": [
          "Bronze"
         ],
         "yaxis": "y"
        },
        {
         "customdata": [
          [
           1,
           1,
           1
          ]
         ],
         "hovertemplate": "<b>%{hovertext}</b><br><br>country=Argentina<br>total=%{x}<br>highest_medal=%{y}<br>gold=%{customdata[0]}<br>silver=%{customdata[1]}<br>bronze=%{customdata[2]}<extra></extra>",
         "hovertext": [
          "Argentina"
         ],
         "legendgroup": "Argentina",
         "marker": {
          "color": "#EF553B"
         },
         "name": "Argentina",
         "orientation": "h",
         "showlegend": true,
         "type": "funnel",
         "x": [
          3
         ],
         "xaxis": "x",
         "y": [
          "Gold"
         ],
         "yaxis": "y"
        },
        {
         "customdata": [
          [
           1,
           1,
           1
          ]
         ],
         "hovertemplate": "<b>%{hovertext}</b><br><br>country=Egypt<br>total=%{x}<br>highest_medal=%{y}<br>gold=%{customdata[0]}<br>silver=%{customdata[1]}<br>bronze=%{customdata[2]}<extra></extra>",
         "hovertext": [
          "Egypt"
         ],
         "legendgroup": "Egypt",
         "marker": {
          "color": "#00cc96"
         },
         "name": "Egypt",
         "orientation": "h",
         "showlegend": true,
         "type": "funnel",
         "x": [
          3
         ],
         "xaxis": "x",
         "y": [
          "Gold"
         ],
         "yaxis": "y"
        },
        {
         "customdata": [
          [
           1,
           1,
           1
          ]
         ],
         "hovertemplate": "<b>%{hovertext}</b><br><br>country=Tunisia<br>total=%{x}<br>highest_medal=%{y}<br>gold=%{customdata[0]}<br>silver=%{customdata[1]}<br>bronze=%{customdata[2]}<extra></extra>",
         "hovertext": [
          "Tunisia"
         ],
         "legendgroup": "Tunisia",
         "marker": {
          "color": "#ab63fa"
         },
         "name": "Tunisia",
         "orientation": "h",
         "showlegend": true,
         "type": "funnel",
         "x": [
          3
         ],
         "xaxis": "x",
         "y": [
          "Gold"
         ],
         "yaxis": "y"
        },
        {
         "customdata": [
          [
           1,
           1,
           0
          ]
         ],
         "hovertemplate": "<b>%{hovertext}</b><br><br>country=Botswana<br>total=%{x}<br>highest_medal=%{y}<br>gold=%{customdata[0]}<br>silver=%{customdata[1]}<br>bronze=%{customdata[2]}<extra></extra>",
         "hovertext": [
          "Botswana"
         ],
         "legendgroup": "Botswana",
         "marker": {
          "color": "#FFA15A"
         },
         "name": "Botswana",
         "orientation": "h",
         "showlegend": true,
         "type": "funnel",
         "x": [
          2
         ],
         "xaxis": "x",
         "y": [
          "Gold"
         ],
         "yaxis": "y"
        },
        {
         "customdata": [
          [
           1,
           1,
           0
          ]
         ],
         "hovertemplate": "<b>%{hovertext}</b><br><br>country=Chile<br>total=%{x}<br>highest_medal=%{y}<br>gold=%{customdata[0]}<br>silver=%{customdata[1]}<br>bronze=%{customdata[2]}<extra></extra>",
         "hovertext": [
          "Chile"
         ],
         "legendgroup": "Chile",
         "marker": {
          "color": "#19d3f3"
         },
         "name": "Chile",
         "orientation": "h",
         "showlegend": true,
         "type": "funnel",
         "x": [
          2
         ],
         "xaxis": "x",
         "y": [
          "Gold"
         ],
         "yaxis": "y"
        },
        {
         "customdata": [
          [
           1,
           1,
           0
          ]
         ],
         "hovertemplate": "<b>%{hovertext}</b><br><br>country=St Lucia<br>total=%{x}<br>highest_medal=%{y}<br>gold=%{customdata[0]}<br>silver=%{customdata[1]}<br>bronze=%{customdata[2]}<extra></extra>",
         "hovertext": [
          "St Lucia"
         ],
         "legendgroup": "St Lucia",
         "marker": {
          "color": "#FF6692"
         },
         "name": "St Lucia",
         "orientation": "h",
         "showlegend": true,
         "type": "funnel",
         "x": [
          2
         ],
         "xaxis": "x",
         "y": [
          "Gold"
         ],
         "yaxis": "y"
        },
        {
         "customdata": [
          [
           1,
           1,
           0
          ]
         ],
         "hovertemplate": "<b>%{hovertext}</b><br><br>country=Uganda<br>total=%{x}<br>highest_medal=%{y}<br>gold=%{customdata[0]}<br>silver=%{customdata[1]}<br>bronze=%{customdata[2]}<extra></extra>",
         "hovertext": [
          "Uganda"
         ],
         "legendgroup": "Uganda",
         "marker": {
          "color": "#B6E880"
         },
         "name": "Uganda",
         "orientation": "h",
         "showlegend": true,
         "type": "funnel",
         "x": [
          2
         ],
         "xaxis": "x",
         "y": [
          "Gold"
         ],
         "yaxis": "y"
        },
        {
         "customdata": [
          [
           1,
           0,
           2
          ]
         ],
         "hovertemplate": "<b>%{hovertext}</b><br><br>country=Dominican Republic<br>total=%{x}<br>highest_medal=%{y}<br>gold=%{customdata[0]}<br>silver=%{customdata[1]}<br>bronze=%{customdata[2]}<extra></extra>",
         "hovertext": [
          "Dominican Republic"
         ],
         "legendgroup": "Dominican Republic",
         "marker": {
          "color": "#FF97FF"
         },
         "name": "Dominican Republic",
         "orientation": "h",
         "showlegend": true,
         "type": "funnel",
         "x": [
          3
         ],
         "xaxis": "x",
         "y": [
          "Bronze"
         ],
         "yaxis": "y"
        },
        {
         "customdata": [
          [
           1,
           0,
           1
          ]
         ],
         "hovertemplate": "<b>%{hovertext}</b><br><br>country=Guatemala<br>total=%{x}<br>highest_medal=%{y}<br>gold=%{customdata[0]}<br>silver=%{customdata[1]}<br>bronze=%{customdata[2]}<extra></extra>",
         "hovertext": [
          "Guatemala"
         ],
         "legendgroup": "Guatemala",
         "marker": {
          "color": "#FECB52"
         },
         "name": "Guatemala",
         "orientation": "h",
         "showlegend": true,
         "type": "funnel",
         "x": [
          2
         ],
         "xaxis": "x",
         "y": [
          "Gold"
         ],
         "yaxis": "y"
        },
        {
         "customdata": [
          [
           1,
           0,
           1
          ]
         ],
         "hovertemplate": "<b>%{hovertext}</b><br><br>country=Morocco<br>total=%{x}<br>highest_medal=%{y}<br>gold=%{customdata[0]}<br>silver=%{customdata[1]}<br>bronze=%{customdata[2]}<extra></extra>",
         "hovertext": [
          "Morocco"
         ],
         "legendgroup": "Morocco",
         "marker": {
          "color": "#636efa"
         },
         "name": "Morocco",
         "orientation": "h",
         "showlegend": true,
         "type": "funnel",
         "x": [
          2
         ],
         "xaxis": "x",
         "y": [
          "Gold"
         ],
         "yaxis": "y"
        },
        {
         "customdata": [
          [
           1,
           0,
           0
          ]
         ],
         "hovertemplate": "<b>%{hovertext}</b><br><br>country=Dominica<br>total=%{x}<br>highest_medal=%{y}<br>gold=%{customdata[0]}<br>silver=%{customdata[1]}<br>bronze=%{customdata[2]}<extra></extra>",
         "hovertext": [
          "Dominica"
         ],
         "legendgroup": "Dominica",
         "marker": {
          "color": "#EF553B"
         },
         "name": "Dominica",
         "orientation": "h",
         "showlegend": true,
         "type": "funnel",
         "x": [
          1
         ],
         "xaxis": "x",
         "y": [
          "Gold"
         ],
         "yaxis": "y"
        },
        {
         "customdata": [
          [
           1,
           0,
           0
          ]
         ],
         "hovertemplate": "<b>%{hovertext}</b><br><br>country=Pakistan<br>total=%{x}<br>highest_medal=%{y}<br>gold=%{customdata[0]}<br>silver=%{customdata[1]}<br>bronze=%{customdata[2]}<extra></extra>",
         "hovertext": [
          "Pakistan"
         ],
         "legendgroup": "Pakistan",
         "marker": {
          "color": "#00cc96"
         },
         "name": "Pakistan",
         "orientation": "h",
         "showlegend": true,
         "type": "funnel",
         "x": [
          1
         ],
         "xaxis": "x",
         "y": [
          "Gold"
         ],
         "yaxis": "y"
        },
        {
         "customdata": [
          [
           0,
           3,
           5
          ]
         ],
         "hovertemplate": "<b>%{hovertext}</b><br><br>country=Turkey<br>total=%{x}<br>highest_medal=%{y}<br>gold=%{customdata[0]}<br>silver=%{customdata[1]}<br>bronze=%{customdata[2]}<extra></extra>",
         "hovertext": [
          "Turkey"
         ],
         "legendgroup": "Turkey",
         "marker": {
          "color": "#ab63fa"
         },
         "name": "Turkey",
         "orientation": "h",
         "showlegend": true,
         "type": "funnel",
         "x": [
          8
         ],
         "xaxis": "x",
         "y": [
          "Bronze"
         ],
         "yaxis": "y"
        },
        {
         "customdata": [
          [
           0,
           3,
           2
          ]
         ],
         "hovertemplate": "<b>%{hovertext}</b><br><br>country=Mexico<br>total=%{x}<br>highest_medal=%{y}<br>gold=%{customdata[0]}<br>silver=%{customdata[1]}<br>bronze=%{customdata[2]}<extra></extra>",
         "hovertext": [
          "Mexico"
         ],
         "legendgroup": "Mexico",
         "marker": {
          "color": "#FFA15A"
         },
         "name": "Mexico",
         "orientation": "h",
         "showlegend": true,
         "type": "funnel",
         "x": [
          5
         ],
         "xaxis": "x",
         "y": [
          "Silver"
         ],
         "yaxis": "y"
        },
        {
         "customdata": [
          [
           0,
           3,
           1
          ]
         ],
         "hovertemplate": "<b>%{hovertext}</b><br><br>country=Armenia<br>total=%{x}<br>highest_medal=%{y}<br>gold=%{customdata[0]}<br>silver=%{customdata[1]}<br>bronze=%{customdata[2]}<extra></extra>",
         "hovertext": [
          "Armenia"
         ],
         "legendgroup": "Armenia",
         "marker": {
          "color": "#19d3f3"
         },
         "name": "Armenia",
         "orientation": "h",
         "showlegend": true,
         "type": "funnel",
         "x": [
          4
         ],
         "xaxis": "x",
         "y": [
          "Silver"
         ],
         "yaxis": "y"
        },
        {
         "customdata": [
          [
           0,
           3,
           1
          ]
         ],
         "hovertemplate": "<b>%{hovertext}</b><br><br>country=Colombia<br>total=%{x}<br>highest_medal=%{y}<br>gold=%{customdata[0]}<br>silver=%{customdata[1]}<br>bronze=%{customdata[2]}<extra></extra>",
         "hovertext": [
          "Colombia"
         ],
         "legendgroup": "Colombia",
         "marker": {
          "color": "#FF6692"
         },
         "name": "Colombia",
         "orientation": "h",
         "showlegend": true,
         "type": "funnel",
         "x": [
          4
         ],
         "xaxis": "x",
         "y": [
          "Silver"
         ],
         "yaxis": "y"
        },
        {
         "customdata": [
          [
           0,
           2,
           4
          ]
         ],
         "hovertemplate": "<b>%{hovertext}</b><br><br>country=North Korea<br>total=%{x}<br>highest_medal=%{y}<br>gold=%{customdata[0]}<br>silver=%{customdata[1]}<br>bronze=%{customdata[2]}<extra></extra>",
         "hovertext": [
          "North Korea"
         ],
         "legendgroup": "North Korea",
         "marker": {
          "color": "#B6E880"
         },
         "name": "North Korea",
         "orientation": "h",
         "showlegend": true,
         "type": "funnel",
         "x": [
          6
         ],
         "xaxis": "x",
         "y": [
          "Bronze"
         ],
         "yaxis": "y"
        },
        {
         "customdata": [
          [
           0,
           2,
           4
          ]
         ],
         "hovertemplate": "<b>%{hovertext}</b><br><br>country=Kyrgyzstan<br>total=%{x}<br>highest_medal=%{y}<br>gold=%{customdata[0]}<br>silver=%{customdata[1]}<br>bronze=%{customdata[2]}<extra></extra>",
         "hovertext": [
          "Kyrgyzstan"
         ],
         "legendgroup": "Kyrgyzstan",
         "marker": {
          "color": "#FF97FF"
         },
         "name": "Kyrgyzstan",
         "orientation": "h",
         "showlegend": true,
         "type": "funnel",
         "x": [
          6
         ],
         "xaxis": "x",
         "y": [
          "Bronze"
         ],
         "yaxis": "y"
        },
        {
         "customdata": [
          [
           0,
           2,
           2
          ]
         ],
         "hovertemplate": "<b>%{hovertext}</b><br><br>country=Lithuania<br>total=%{x}<br>highest_medal=%{y}<br>gold=%{customdata[0]}<br>silver=%{customdata[1]}<br>bronze=%{customdata[2]}<extra></extra>",
         "hovertext": [
          "Lithuania"
         ],
         "legendgroup": "Lithuania",
         "marker": {
          "color": "#FECB52"
         },
         "name": "Lithuania",
         "orientation": "h",
         "showlegend": true,
         "type": "funnel",
         "x": [
          4
         ],
         "xaxis": "x",
         "y": [
          "Silver"
         ],
         "yaxis": "y"
        },
        {
         "customdata": [
          [
           0,
           1,
           5
          ]
         ],
         "hovertemplate": "<b>%{hovertext}</b><br><br>country=India<br>total=%{x}<br>highest_medal=%{y}<br>gold=%{customdata[0]}<br>silver=%{customdata[1]}<br>bronze=%{customdata[2]}<extra></extra>",
         "hovertext": [
          "India"
         ],
         "legendgroup": "India",
         "marker": {
          "color": "#636efa"
         },
         "name": "India",
         "orientation": "h",
         "showlegend": true,
         "type": "funnel",
         "x": [
          6
         ],
         "xaxis": "x",
         "y": [
          "Bronze"
         ],
         "yaxis": "y"
        },
        {
         "customdata": [
          [
           0,
           1,
           3
          ]
         ],
         "hovertemplate": "<b>%{hovertext}</b><br><br>country=Moldova<br>total=%{x}<br>highest_medal=%{y}<br>gold=%{customdata[0]}<br>silver=%{customdata[1]}<br>bronze=%{customdata[2]}<extra></extra>",
         "hovertext": [
          "Moldova"
         ],
         "legendgroup": "Moldova",
         "marker": {
          "color": "#EF553B"
         },
         "name": "Moldova",
         "orientation": "h",
         "showlegend": true,
         "type": "funnel",
         "x": [
          4
         ],
         "xaxis": "x",
         "y": [
          "Bronze"
         ],
         "yaxis": "y"
        },
        {
         "customdata": [
          [
           0,
           1,
           1
          ]
         ],
         "hovertemplate": "<b>%{hovertext}</b><br><br>country=Kosovo<br>total=%{x}<br>highest_medal=%{y}<br>gold=%{customdata[0]}<br>silver=%{customdata[1]}<br>bronze=%{customdata[2]}<extra></extra>",
         "hovertext": [
          "Kosovo"
         ],
         "legendgroup": "Kosovo",
         "marker": {
          "color": "#00cc96"
         },
         "name": "Kosovo",
         "orientation": "h",
         "showlegend": true,
         "type": "funnel",
         "x": [
          2
         ],
         "xaxis": "x",
         "y": [
          "Silver"
         ],
         "yaxis": "y"
        },
        {
         "customdata": [
          [
           0,
           1,
           0
          ]
         ],
         "hovertemplate": "<b>%{hovertext}</b><br><br>country=Cyprus<br>total=%{x}<br>highest_medal=%{y}<br>gold=%{customdata[0]}<br>silver=%{customdata[1]}<br>bronze=%{customdata[2]}<extra></extra>",
         "hovertext": [
          "Cyprus"
         ],
         "legendgroup": "Cyprus",
         "marker": {
          "color": "#ab63fa"
         },
         "name": "Cyprus",
         "orientation": "h",
         "showlegend": true,
         "type": "funnel",
         "x": [
          1
         ],
         "xaxis": "x",
         "y": [
          "Silver"
         ],
         "yaxis": "y"
        },
        {
         "customdata": [
          [
           0,
           1,
           0
          ]
         ],
         "hovertemplate": "<b>%{hovertext}</b><br><br>country=Fiji<br>total=%{x}<br>highest_medal=%{y}<br>gold=%{customdata[0]}<br>silver=%{customdata[1]}<br>bronze=%{customdata[2]}<extra></extra>",
         "hovertext": [
          "Fiji"
         ],
         "legendgroup": "Fiji",
         "marker": {
          "color": "#FFA15A"
         },
         "name": "Fiji",
         "orientation": "h",
         "showlegend": true,
         "type": "funnel",
         "x": [
          1
         ],
         "xaxis": "x",
         "y": [
          "Silver"
         ],
         "yaxis": "y"
        },
        {
         "customdata": [
          [
           0,
           1,
           0
          ]
         ],
         "hovertemplate": "<b>%{hovertext}</b><br><br>country=Jordan<br>total=%{x}<br>highest_medal=%{y}<br>gold=%{customdata[0]}<br>silver=%{customdata[1]}<br>bronze=%{customdata[2]}<extra></extra>",
         "hovertext": [
          "Jordan"
         ],
         "legendgroup": "Jordan",
         "marker": {
          "color": "#19d3f3"
         },
         "name": "Jordan",
         "orientation": "h",
         "showlegend": true,
         "type": "funnel",
         "x": [
          1
         ],
         "xaxis": "x",
         "y": [
          "Silver"
         ],
         "yaxis": "y"
        },
        {
         "customdata": [
          [
           0,
           1,
           0
          ]
         ],
         "hovertemplate": "<b>%{hovertext}</b><br><br>country=Mongolia<br>total=%{x}<br>highest_medal=%{y}<br>gold=%{customdata[0]}<br>silver=%{customdata[1]}<br>bronze=%{customdata[2]}<extra></extra>",
         "hovertext": [
          "Mongolia"
         ],
         "legendgroup": "Mongolia",
         "marker": {
          "color": "#FF6692"
         },
         "name": "Mongolia",
         "orientation": "h",
         "showlegend": true,
         "type": "funnel",
         "x": [
          1
         ],
         "xaxis": "x",
         "y": [
          "Silver"
         ],
         "yaxis": "y"
        },
        {
         "customdata": [
          [
           0,
           1,
           0
          ]
         ],
         "hovertemplate": "<b>%{hovertext}</b><br><br>country=Panama<br>total=%{x}<br>highest_medal=%{y}<br>gold=%{customdata[0]}<br>silver=%{customdata[1]}<br>bronze=%{customdata[2]}<extra></extra>",
         "hovertext": [
          "Panama"
         ],
         "legendgroup": "Panama",
         "marker": {
          "color": "#B6E880"
         },
         "name": "Panama",
         "orientation": "h",
         "showlegend": true,
         "type": "funnel",
         "x": [
          1
         ],
         "xaxis": "x",
         "y": [
          "Silver"
         ],
         "yaxis": "y"
        },
        {
         "customdata": [
          [
           0,
           0,
           3
          ]
         ],
         "hovertemplate": "<b>%{hovertext}</b><br><br>country=Tajikistan<br>total=%{x}<br>highest_medal=%{y}<br>gold=%{customdata[0]}<br>silver=%{customdata[1]}<br>bronze=%{customdata[2]}<extra></extra>",
         "hovertext": [
          "Tajikistan"
         ],
         "legendgroup": "Tajikistan",
         "marker": {
          "color": "#FF97FF"
         },
         "name": "Tajikistan",
         "orientation": "h",
         "showlegend": true,
         "type": "funnel",
         "x": [
          3
         ],
         "xaxis": "x",
         "y": [
          "Bronze"
         ],
         "yaxis": "y"
        },
        {
         "customdata": [
          [
           0,
           0,
           2
          ]
         ],
         "hovertemplate": "<b>%{hovertext}</b><br><br>country=Albania<br>total=%{x}<br>highest_medal=%{y}<br>gold=%{customdata[0]}<br>silver=%{customdata[1]}<br>bronze=%{customdata[2]}<extra></extra>",
         "hovertext": [
          "Albania"
         ],
         "legendgroup": "Albania",
         "marker": {
          "color": "#FECB52"
         },
         "name": "Albania",
         "orientation": "h",
         "showlegend": true,
         "type": "funnel",
         "x": [
          2
         ],
         "xaxis": "x",
         "y": [
          "Bronze"
         ],
         "yaxis": "y"
        },
        {
         "customdata": [
          [
           0,
           0,
           2
          ]
         ],
         "hovertemplate": "<b>%{hovertext}</b><br><br>country=Grenada<br>total=%{x}<br>highest_medal=%{y}<br>gold=%{customdata[0]}<br>silver=%{customdata[1]}<br>bronze=%{customdata[2]}<extra></extra>",
         "hovertext": [
          "Grenada"
         ],
         "legendgroup": "Grenada",
         "marker": {
          "color": "#636efa"
         },
         "name": "Grenada",
         "orientation": "h",
         "showlegend": true,
         "type": "funnel",
         "x": [
          2
         ],
         "xaxis": "x",
         "y": [
          "Bronze"
         ],
         "yaxis": "y"
        },
        {
         "customdata": [
          [
           0,
           0,
           2
          ]
         ],
         "hovertemplate": "<b>%{hovertext}</b><br><br>country=Malaysia<br>total=%{x}<br>highest_medal=%{y}<br>gold=%{customdata[0]}<br>silver=%{customdata[1]}<br>bronze=%{customdata[2]}<extra></extra>",
         "hovertext": [
          "Malaysia"
         ],
         "legendgroup": "Malaysia",
         "marker": {
          "color": "#EF553B"
         },
         "name": "Malaysia",
         "orientation": "h",
         "showlegend": true,
         "type": "funnel",
         "x": [
          2
         ],
         "xaxis": "x",
         "y": [
          "Bronze"
         ],
         "yaxis": "y"
        },
        {
         "customdata": [
          [
           0,
           0,
           2
          ]
         ],
         "hovertemplate": "<b>%{hovertext}</b><br><br>country=Puerto Rico<br>total=%{x}<br>highest_medal=%{y}<br>gold=%{customdata[0]}<br>silver=%{customdata[1]}<br>bronze=%{customdata[2]}<extra></extra>",
         "hovertext": [
          "Puerto Rico"
         ],
         "legendgroup": "Puerto Rico",
         "marker": {
          "color": "#00cc96"
         },
         "name": "Puerto Rico",
         "orientation": "h",
         "showlegend": true,
         "type": "funnel",
         "x": [
          2
         ],
         "xaxis": "x",
         "y": [
          "Bronze"
         ],
         "yaxis": "y"
        },
        {
         "customdata": [
          [
           0,
           0,
           1
          ]
         ],
         "hovertemplate": "<b>%{hovertext}</b><br><br>country=Cape Verde<br>total=%{x}<br>highest_medal=%{y}<br>gold=%{customdata[0]}<br>silver=%{customdata[1]}<br>bronze=%{customdata[2]}<extra></extra>",
         "hovertext": [
          "Cape Verde"
         ],
         "legendgroup": "Cape Verde",
         "marker": {
          "color": "#ab63fa"
         },
         "name": "Cape Verde",
         "orientation": "h",
         "showlegend": true,
         "type": "funnel",
         "x": [
          1
         ],
         "xaxis": "x",
         "y": [
          "Bronze"
         ],
         "yaxis": "y"
        },
        {
         "customdata": [
          [
           0,
           0,
           1
          ]
         ],
         "hovertemplate": "<b>%{hovertext}</b><br><br>country=Ivory Coast<br>total=%{x}<br>highest_medal=%{y}<br>gold=%{customdata[0]}<br>silver=%{customdata[1]}<br>bronze=%{customdata[2]}<extra></extra>",
         "hovertext": [
          "Ivory Coast"
         ],
         "legendgroup": "Ivory Coast",
         "marker": {
          "color": "#FFA15A"
         },
         "name": "Ivory Coast",
         "orientation": "h",
         "showlegend": true,
         "type": "funnel",
         "x": [
          1
         ],
         "xaxis": "x",
         "y": [
          "Bronze"
         ],
         "yaxis": "y"
        },
        {
         "customdata": [
          [
           0,
           0,
           1
          ]
         ],
         "hovertemplate": "<b>%{hovertext}</b><br><br>country=Peru<br>total=%{x}<br>highest_medal=%{y}<br>gold=%{customdata[0]}<br>silver=%{customdata[1]}<br>bronze=%{customdata[2]}<extra></extra>",
         "hovertext": [
          "Peru"
         ],
         "legendgroup": "Peru",
         "marker": {
          "color": "#19d3f3"
         },
         "name": "Peru",
         "orientation": "h",
         "showlegend": true,
         "type": "funnel",
         "x": [
          1
         ],
         "xaxis": "x",
         "y": [
          "Bronze"
         ],
         "yaxis": "y"
        },
        {
         "customdata": [
          [
           0,
           0,
           1
          ]
         ],
         "hovertemplate": "<b>%{hovertext}</b><br><br>country=Qatar<br>total=%{x}<br>highest_medal=%{y}<br>gold=%{customdata[0]}<br>silver=%{customdata[1]}<br>bronze=%{customdata[2]}<extra></extra>",
         "hovertext": [
          "Qatar"
         ],
         "legendgroup": "Qatar",
         "marker": {
          "color": "#FF6692"
         },
         "name": "Qatar",
         "orientation": "h",
         "showlegend": true,
         "type": "funnel",
         "x": [
          1
         ],
         "xaxis": "x",
         "y": [
          "Bronze"
         ],
         "yaxis": "y"
        },
        {
         "customdata": [
          [
           0,
           0,
           1
          ]
         ],
         "hovertemplate": "<b>%{hovertext}</b><br><br>country=Singapore<br>total=%{x}<br>highest_medal=%{y}<br>gold=%{customdata[0]}<br>silver=%{customdata[1]}<br>bronze=%{customdata[2]}<extra></extra>",
         "hovertext": [
          "Singapore"
         ],
         "legendgroup": "Singapore",
         "marker": {
          "color": "#B6E880"
         },
         "name": "Singapore",
         "orientation": "h",
         "showlegend": true,
         "type": "funnel",
         "x": [
          1
         ],
         "xaxis": "x",
         "y": [
          "Bronze"
         ],
         "yaxis": "y"
        },
        {
         "customdata": [
          [
           0,
           0,
           1
          ]
         ],
         "hovertemplate": "<b>%{hovertext}</b><br><br>country=Slovakia<br>total=%{x}<br>highest_medal=%{y}<br>gold=%{customdata[0]}<br>silver=%{customdata[1]}<br>bronze=%{customdata[2]}<extra></extra>",
         "hovertext": [
          "Slovakia"
         ],
         "legendgroup": "Slovakia",
         "marker": {
          "color": "#FF97FF"
         },
         "name": "Slovakia",
         "orientation": "h",
         "showlegend": true,
         "type": "funnel",
         "x": [
          1
         ],
         "xaxis": "x",
         "y": [
          "Bronze"
         ],
         "yaxis": "y"
        },
        {
         "customdata": [
          [
           0,
           0,
           1
          ]
         ],
         "hovertemplate": "<b>%{hovertext}</b><br><br>country=Zambia<br>total=%{x}<br>highest_medal=%{y}<br>gold=%{customdata[0]}<br>silver=%{customdata[1]}<br>bronze=%{customdata[2]}<extra></extra>",
         "hovertext": [
          "Zambia"
         ],
         "legendgroup": "Zambia",
         "marker": {
          "color": "#FECB52"
         },
         "name": "Zambia",
         "orientation": "h",
         "showlegend": true,
         "type": "funnel",
         "x": [
          1
         ],
         "xaxis": "x",
         "y": [
          "Bronze"
         ],
         "yaxis": "y"
        }
       ],
       "layout": {
        "legend": {
         "title": {
          "text": "country"
         },
         "tracegroupgap": 0
        },
        "margin": {
         "t": 60
        },
        "template": {
         "data": {
          "bar": [
           {
            "error_x": {
             "color": "#2a3f5f"
            },
            "error_y": {
             "color": "#2a3f5f"
            },
            "marker": {
             "line": {
              "color": "#E5ECF6",
              "width": 0.5
             },
             "pattern": {
              "fillmode": "overlay",
              "size": 10,
              "solidity": 0.2
             }
            },
            "type": "bar"
           }
          ],
          "barpolar": [
           {
            "marker": {
             "line": {
              "color": "#E5ECF6",
              "width": 0.5
             },
             "pattern": {
              "fillmode": "overlay",
              "size": 10,
              "solidity": 0.2
             }
            },
            "type": "barpolar"
           }
          ],
          "carpet": [
           {
            "aaxis": {
             "endlinecolor": "#2a3f5f",
             "gridcolor": "white",
             "linecolor": "white",
             "minorgridcolor": "white",
             "startlinecolor": "#2a3f5f"
            },
            "baxis": {
             "endlinecolor": "#2a3f5f",
             "gridcolor": "white",
             "linecolor": "white",
             "minorgridcolor": "white",
             "startlinecolor": "#2a3f5f"
            },
            "type": "carpet"
           }
          ],
          "choropleth": [
           {
            "colorbar": {
             "outlinewidth": 0,
             "ticks": ""
            },
            "type": "choropleth"
           }
          ],
          "contour": [
           {
            "colorbar": {
             "outlinewidth": 0,
             "ticks": ""
            },
            "colorscale": [
             [
              0,
              "#0d0887"
             ],
             [
              0.1111111111111111,
              "#46039f"
             ],
             [
              0.2222222222222222,
              "#7201a8"
             ],
             [
              0.3333333333333333,
              "#9c179e"
             ],
             [
              0.4444444444444444,
              "#bd3786"
             ],
             [
              0.5555555555555556,
              "#d8576b"
             ],
             [
              0.6666666666666666,
              "#ed7953"
             ],
             [
              0.7777777777777778,
              "#fb9f3a"
             ],
             [
              0.8888888888888888,
              "#fdca26"
             ],
             [
              1,
              "#f0f921"
             ]
            ],
            "type": "contour"
           }
          ],
          "contourcarpet": [
           {
            "colorbar": {
             "outlinewidth": 0,
             "ticks": ""
            },
            "type": "contourcarpet"
           }
          ],
          "heatmap": [
           {
            "colorbar": {
             "outlinewidth": 0,
             "ticks": ""
            },
            "colorscale": [
             [
              0,
              "#0d0887"
             ],
             [
              0.1111111111111111,
              "#46039f"
             ],
             [
              0.2222222222222222,
              "#7201a8"
             ],
             [
              0.3333333333333333,
              "#9c179e"
             ],
             [
              0.4444444444444444,
              "#bd3786"
             ],
             [
              0.5555555555555556,
              "#d8576b"
             ],
             [
              0.6666666666666666,
              "#ed7953"
             ],
             [
              0.7777777777777778,
              "#fb9f3a"
             ],
             [
              0.8888888888888888,
              "#fdca26"
             ],
             [
              1,
              "#f0f921"
             ]
            ],
            "type": "heatmap"
           }
          ],
          "heatmapgl": [
           {
            "colorbar": {
             "outlinewidth": 0,
             "ticks": ""
            },
            "colorscale": [
             [
              0,
              "#0d0887"
             ],
             [
              0.1111111111111111,
              "#46039f"
             ],
             [
              0.2222222222222222,
              "#7201a8"
             ],
             [
              0.3333333333333333,
              "#9c179e"
             ],
             [
              0.4444444444444444,
              "#bd3786"
             ],
             [
              0.5555555555555556,
              "#d8576b"
             ],
             [
              0.6666666666666666,
              "#ed7953"
             ],
             [
              0.7777777777777778,
              "#fb9f3a"
             ],
             [
              0.8888888888888888,
              "#fdca26"
             ],
             [
              1,
              "#f0f921"
             ]
            ],
            "type": "heatmapgl"
           }
          ],
          "histogram": [
           {
            "marker": {
             "pattern": {
              "fillmode": "overlay",
              "size": 10,
              "solidity": 0.2
             }
            },
            "type": "histogram"
           }
          ],
          "histogram2d": [
           {
            "colorbar": {
             "outlinewidth": 0,
             "ticks": ""
            },
            "colorscale": [
             [
              0,
              "#0d0887"
             ],
             [
              0.1111111111111111,
              "#46039f"
             ],
             [
              0.2222222222222222,
              "#7201a8"
             ],
             [
              0.3333333333333333,
              "#9c179e"
             ],
             [
              0.4444444444444444,
              "#bd3786"
             ],
             [
              0.5555555555555556,
              "#d8576b"
             ],
             [
              0.6666666666666666,
              "#ed7953"
             ],
             [
              0.7777777777777778,
              "#fb9f3a"
             ],
             [
              0.8888888888888888,
              "#fdca26"
             ],
             [
              1,
              "#f0f921"
             ]
            ],
            "type": "histogram2d"
           }
          ],
          "histogram2dcontour": [
           {
            "colorbar": {
             "outlinewidth": 0,
             "ticks": ""
            },
            "colorscale": [
             [
              0,
              "#0d0887"
             ],
             [
              0.1111111111111111,
              "#46039f"
             ],
             [
              0.2222222222222222,
              "#7201a8"
             ],
             [
              0.3333333333333333,
              "#9c179e"
             ],
             [
              0.4444444444444444,
              "#bd3786"
             ],
             [
              0.5555555555555556,
              "#d8576b"
             ],
             [
              0.6666666666666666,
              "#ed7953"
             ],
             [
              0.7777777777777778,
              "#fb9f3a"
             ],
             [
              0.8888888888888888,
              "#fdca26"
             ],
             [
              1,
              "#f0f921"
             ]
            ],
            "type": "histogram2dcontour"
           }
          ],
          "mesh3d": [
           {
            "colorbar": {
             "outlinewidth": 0,
             "ticks": ""
            },
            "type": "mesh3d"
           }
          ],
          "parcoords": [
           {
            "line": {
             "colorbar": {
              "outlinewidth": 0,
              "ticks": ""
             }
            },
            "type": "parcoords"
           }
          ],
          "pie": [
           {
            "automargin": true,
            "type": "pie"
           }
          ],
          "scatter": [
           {
            "fillpattern": {
             "fillmode": "overlay",
             "size": 10,
             "solidity": 0.2
            },
            "type": "scatter"
           }
          ],
          "scatter3d": [
           {
            "line": {
             "colorbar": {
              "outlinewidth": 0,
              "ticks": ""
             }
            },
            "marker": {
             "colorbar": {
              "outlinewidth": 0,
              "ticks": ""
             }
            },
            "type": "scatter3d"
           }
          ],
          "scattercarpet": [
           {
            "marker": {
             "colorbar": {
              "outlinewidth": 0,
              "ticks": ""
             }
            },
            "type": "scattercarpet"
           }
          ],
          "scattergeo": [
           {
            "marker": {
             "colorbar": {
              "outlinewidth": 0,
              "ticks": ""
             }
            },
            "type": "scattergeo"
           }
          ],
          "scattergl": [
           {
            "marker": {
             "colorbar": {
              "outlinewidth": 0,
              "ticks": ""
             }
            },
            "type": "scattergl"
           }
          ],
          "scattermapbox": [
           {
            "marker": {
             "colorbar": {
              "outlinewidth": 0,
              "ticks": ""
             }
            },
            "type": "scattermapbox"
           }
          ],
          "scatterpolar": [
           {
            "marker": {
             "colorbar": {
              "outlinewidth": 0,
              "ticks": ""
             }
            },
            "type": "scatterpolar"
           }
          ],
          "scatterpolargl": [
           {
            "marker": {
             "colorbar": {
              "outlinewidth": 0,
              "ticks": ""
             }
            },
            "type": "scatterpolargl"
           }
          ],
          "scatterternary": [
           {
            "marker": {
             "colorbar": {
              "outlinewidth": 0,
              "ticks": ""
             }
            },
            "type": "scatterternary"
           }
          ],
          "surface": [
           {
            "colorbar": {
             "outlinewidth": 0,
             "ticks": ""
            },
            "colorscale": [
             [
              0,
              "#0d0887"
             ],
             [
              0.1111111111111111,
              "#46039f"
             ],
             [
              0.2222222222222222,
              "#7201a8"
             ],
             [
              0.3333333333333333,
              "#9c179e"
             ],
             [
              0.4444444444444444,
              "#bd3786"
             ],
             [
              0.5555555555555556,
              "#d8576b"
             ],
             [
              0.6666666666666666,
              "#ed7953"
             ],
             [
              0.7777777777777778,
              "#fb9f3a"
             ],
             [
              0.8888888888888888,
              "#fdca26"
             ],
             [
              1,
              "#f0f921"
             ]
            ],
            "type": "surface"
           }
          ],
          "table": [
           {
            "cells": {
             "fill": {
              "color": "#EBF0F8"
             },
             "line": {
              "color": "white"
             }
            },
            "header": {
             "fill": {
              "color": "#C8D4E3"
             },
             "line": {
              "color": "white"
             }
            },
            "type": "table"
           }
          ]
         },
         "layout": {
          "annotationdefaults": {
           "arrowcolor": "#2a3f5f",
           "arrowhead": 0,
           "arrowwidth": 1
          },
          "autotypenumbers": "strict",
          "coloraxis": {
           "colorbar": {
            "outlinewidth": 0,
            "ticks": ""
           }
          },
          "colorscale": {
           "diverging": [
            [
             0,
             "#8e0152"
            ],
            [
             0.1,
             "#c51b7d"
            ],
            [
             0.2,
             "#de77ae"
            ],
            [
             0.3,
             "#f1b6da"
            ],
            [
             0.4,
             "#fde0ef"
            ],
            [
             0.5,
             "#f7f7f7"
            ],
            [
             0.6,
             "#e6f5d0"
            ],
            [
             0.7,
             "#b8e186"
            ],
            [
             0.8,
             "#7fbc41"
            ],
            [
             0.9,
             "#4d9221"
            ],
            [
             1,
             "#276419"
            ]
           ],
           "sequential": [
            [
             0,
             "#0d0887"
            ],
            [
             0.1111111111111111,
             "#46039f"
            ],
            [
             0.2222222222222222,
             "#7201a8"
            ],
            [
             0.3333333333333333,
             "#9c179e"
            ],
            [
             0.4444444444444444,
             "#bd3786"
            ],
            [
             0.5555555555555556,
             "#d8576b"
            ],
            [
             0.6666666666666666,
             "#ed7953"
            ],
            [
             0.7777777777777778,
             "#fb9f3a"
            ],
            [
             0.8888888888888888,
             "#fdca26"
            ],
            [
             1,
             "#f0f921"
            ]
           ],
           "sequentialminus": [
            [
             0,
             "#0d0887"
            ],
            [
             0.1111111111111111,
             "#46039f"
            ],
            [
             0.2222222222222222,
             "#7201a8"
            ],
            [
             0.3333333333333333,
             "#9c179e"
            ],
            [
             0.4444444444444444,
             "#bd3786"
            ],
            [
             0.5555555555555556,
             "#d8576b"
            ],
            [
             0.6666666666666666,
             "#ed7953"
            ],
            [
             0.7777777777777778,
             "#fb9f3a"
            ],
            [
             0.8888888888888888,
             "#fdca26"
            ],
            [
             1,
             "#f0f921"
            ]
           ]
          },
          "colorway": [
           "#636efa",
           "#EF553B",
           "#00cc96",
           "#ab63fa",
           "#FFA15A",
           "#19d3f3",
           "#FF6692",
           "#B6E880",
           "#FF97FF",
           "#FECB52"
          ],
          "font": {
           "color": "#2a3f5f"
          },
          "geo": {
           "bgcolor": "white",
           "lakecolor": "white",
           "landcolor": "#E5ECF6",
           "showlakes": true,
           "showland": true,
           "subunitcolor": "white"
          },
          "hoverlabel": {
           "align": "left"
          },
          "hovermode": "closest",
          "mapbox": {
           "style": "light"
          },
          "paper_bgcolor": "white",
          "plot_bgcolor": "#E5ECF6",
          "polar": {
           "angularaxis": {
            "gridcolor": "white",
            "linecolor": "white",
            "ticks": ""
           },
           "bgcolor": "#E5ECF6",
           "radialaxis": {
            "gridcolor": "white",
            "linecolor": "white",
            "ticks": ""
           }
          },
          "scene": {
           "xaxis": {
            "backgroundcolor": "#E5ECF6",
            "gridcolor": "white",
            "gridwidth": 2,
            "linecolor": "white",
            "showbackground": true,
            "ticks": "",
            "zerolinecolor": "white"
           },
           "yaxis": {
            "backgroundcolor": "#E5ECF6",
            "gridcolor": "white",
            "gridwidth": 2,
            "linecolor": "white",
            "showbackground": true,
            "ticks": "",
            "zerolinecolor": "white"
           },
           "zaxis": {
            "backgroundcolor": "#E5ECF6",
            "gridcolor": "white",
            "gridwidth": 2,
            "linecolor": "white",
            "showbackground": true,
            "ticks": "",
            "zerolinecolor": "white"
           }
          },
          "shapedefaults": {
           "line": {
            "color": "#2a3f5f"
           }
          },
          "ternary": {
           "aaxis": {
            "gridcolor": "white",
            "linecolor": "white",
            "ticks": ""
           },
           "baxis": {
            "gridcolor": "white",
            "linecolor": "white",
            "ticks": ""
           },
           "bgcolor": "#E5ECF6",
           "caxis": {
            "gridcolor": "white",
            "linecolor": "white",
            "ticks": ""
           }
          },
          "title": {
           "x": 0.05
          },
          "xaxis": {
           "automargin": true,
           "gridcolor": "white",
           "linecolor": "white",
           "ticks": "",
           "title": {
            "standoff": 15
           },
           "zerolinecolor": "white",
           "zerolinewidth": 2
          },
          "yaxis": {
           "automargin": true,
           "gridcolor": "white",
           "linecolor": "white",
           "ticks": "",
           "title": {
            "standoff": 15
           },
           "zerolinecolor": "white",
           "zerolinewidth": 2
          }
         }
        },
        "title": {
         "text": "Medal Funnel"
        },
        "xaxis": {
         "anchor": "y",
         "domain": [
          0,
          1
         ],
         "title": {
          "text": "total"
         }
        },
        "yaxis": {
         "anchor": "x",
         "domain": [
          0,
          1
         ],
         "title": {
          "text": "Medal Stages"
         }
        }
       }
      }
     },
     "metadata": {},
     "output_type": "display_data"
    }
   ],
   "source": [
    "fig = px.funnel(\n",
    "    df,\n",
    "    x='total',\n",
    "    y='highest_medal',\n",
    "    color='country',\n",
    "    hover_name='country',\n",
    "    hover_data=['gold', 'silver', 'bronze']\n",
    "    \n",
    ")\n",
    "\n",
    "\n",
    "# Update layout\n",
    "fig.update_layout(\n",
    "    title='Medal Funnel',\n",
    "    yaxis_title='Medal Stages'\n",
    ")\n",
    "\n",
    "fig.show()"
   ]
  },
  {
   "cell_type": "markdown",
   "metadata": {},
   "source": [
    "## Population & Medal Relationship"
   ]
  },
  {
   "cell_type": "code",
   "execution_count": 19,
   "metadata": {},
   "outputs": [
    {
     "data": {
      "application/vnd.plotly.v1+json": {
       "config": {
        "plotlyServerURL": "https://plot.ly"
       },
       "data": [
        {
         "branchvalues": "total",
         "customdata": [
          [
           "Canada"
          ],
          [
           "Portugal"
          ],
          [
           "Thailand"
          ],
          [
           "Denmark"
          ],
          [
           "Cyprus"
          ],
          [
           "Armenia"
          ],
          [
           "Algeria"
          ],
          [
           "Indonesia"
          ],
          [
           "Uganda"
          ],
          [
           "Croatia"
          ],
          [
           "Puerto Rico"
          ],
          [
           "Slovenia"
          ],
          [
           "Ivory Coast"
          ],
          [
           "Italy"
          ],
          [
           "Ireland"
          ],
          [
           "Cape Verde"
          ],
          [
           "Cuba"
          ],
          [
           "Argentina"
          ],
          [
           "Egypt"
          ],
          [
           "Iran"
          ],
          [
           "Dominican Republic"
          ],
          [
           "Tunisia"
          ],
          [
           "Norway"
          ],
          [
           "Azerbaijan"
          ],
          [
           "Kyrgyzstan"
          ],
          [
           "India"
          ],
          [
           "Mexico"
          ],
          [
           "Uzbekistan"
          ],
          [
           "Qatar"
          ],
          [
           "Morocco"
          ],
          [
           "Jordan"
          ],
          [
           "Panama"
          ],
          [
           "South Africa"
          ],
          [
           "South Korea"
          ],
          [
           "Kazakhstan"
          ],
          [
           "Lithuania"
          ],
          [
           "Pakistan"
          ],
          [
           "Sweden"
          ],
          [
           "Colombia"
          ],
          [
           "Guatemala"
          ],
          [
           "Botswana"
          ],
          [
           "Philippines"
          ],
          [
           "Singapore"
          ],
          [
           "Japan"
          ],
          [
           "Austria"
          ],
          [
           "Fiji"
          ],
          [
           "Spain"
          ],
          [
           "Serbia"
          ],
          [
           "Kosovo"
          ],
          [
           "Ukraine"
          ],
          [
           "Belgium"
          ],
          [
           "Poland"
          ],
          [
           "Germany"
          ],
          [
           "Turkey"
          ],
          [
           "Kenya"
          ],
          [
           "Hungary"
          ],
          [
           "Taiwan"
          ],
          [
           "Mongolia"
          ],
          [
           "Zambia"
          ],
          [
           "Romania"
          ],
          [
           "Albania"
          ],
          [
           "Switzerland"
          ],
          [
           "New Zealand"
          ],
          [
           "Australia"
          ],
          [
           "Hong Kong"
          ],
          [
           "Ethiopia"
          ],
          [
           "North Korea"
          ],
          [
           "Netherlands"
          ],
          [
           "France"
          ],
          [
           "Malaysia"
          ],
          [
           "Tajikistan"
          ],
          [
           "Great Britain"
          ],
          [
           "China"
          ],
          [
           "Bahrain"
          ],
          [
           "Czech Republic"
          ],
          [
           "Slovakia"
          ],
          [
           "Grenada"
          ],
          [
           "Bulgaria"
          ],
          [
           "St Lucia"
          ],
          [
           "Jamaica"
          ],
          [
           "Moldova"
          ],
          [
           "Brazil"
          ],
          [
           "Ecuador"
          ],
          [
           "Georgia"
          ],
          [
           "Greece"
          ],
          [
           "Israel"
          ],
          [
           "Chile"
          ],
          [
           "Dominica"
          ],
          [
           "Peru"
          ],
          [
           "United States"
          ],
          [
           "Dominica"
          ],
          [
           "Grenada"
          ],
          [
           "St Lucia"
          ],
          [
           "Cape Verde"
          ],
          [
           "Fiji"
          ],
          [
           "Cyprus"
          ],
          [
           "Bahrain"
          ],
          [
           "Kosovo"
          ],
          [
           "Slovenia"
          ],
          [
           "Moldova"
          ],
          [
           "Albania"
          ],
          [
           "Botswana"
          ],
          [
           "Qatar"
          ],
          [
           "Armenia"
          ],
          [
           "Jamaica"
          ],
          [
           "Lithuania"
          ],
          [
           "Puerto Rico"
          ],
          [
           "Mongolia"
          ],
          [
           "Georgia"
          ],
          [
           "Croatia"
          ],
          [
           "Panama"
          ],
          [
           "New Zealand"
          ],
          [
           "Ireland"
          ],
          [
           "Slovakia"
          ],
          [
           "Norway"
          ],
          [
           "Denmark"
          ],
          [
           "Singapore"
          ],
          [
           "Bulgaria"
          ],
          [
           "Serbia"
          ],
          [
           "Kyrgyzstan"
          ],
          [
           "Hong Kong"
          ],
          [
           "Switzerland"
          ],
          [
           "Austria"
          ],
          [
           "Hungary"
          ],
          [
           "Israel"
          ],
          [
           "Azerbaijan"
          ],
          [
           "Tajikistan"
          ],
          [
           "Greece"
          ],
          [
           "Portugal"
          ],
          [
           "Sweden"
          ],
          [
           "Czech Republic"
          ],
          [
           "Cuba"
          ],
          [
           "Dominican Republic"
          ],
          [
           "Jordan"
          ],
          [
           "Belgium"
          ],
          [
           "Tunisia"
          ],
          [
           "Guatemala"
          ],
          [
           "Netherlands"
          ],
          [
           "Ecuador"
          ],
          [
           "Romania"
          ],
          [
           "Chile"
          ],
          [
           "Kazakhstan"
          ],
          [
           "Zambia"
          ],
          [
           "Taiwan"
          ],
          [
           "North Korea"
          ],
          [
           "Australia"
          ],
          [
           "Ivory Coast"
          ],
          [
           "Malaysia"
          ],
          [
           "Peru"
          ],
          [
           "Uzbekistan"
          ],
          [
           "Poland"
          ],
          [
           "Ukraine"
          ],
          [
           "Morocco"
          ],
          [
           "Canada"
          ],
          [
           "Algeria"
          ],
          [
           "Argentina"
          ],
          [
           "Spain"
          ],
          [
           "Uganda"
          ],
          [
           "South Korea"
          ],
          [
           "Colombia"
          ],
          [
           "Kenya"
          ],
          [
           "Italy"
          ],
          [
           "South Africa"
          ],
          [
           "France"
          ],
          [
           "Great Britain"
          ],
          [
           "Thailand"
          ],
          [
           "Germany"
          ],
          [
           "Turkey"
          ],
          [
           "Iran"
          ],
          [
           "Egypt"
          ],
          [
           "Philippines"
          ],
          [
           "Japan"
          ],
          [
           "Ethiopia"
          ],
          [
           "Mexico"
          ],
          [
           "Brazil"
          ],
          [
           "Pakistan"
          ],
          [
           "Indonesia"
          ],
          [
           "United States"
          ],
          [
           "China"
          ],
          [
           "India"
          ],
          [
           "Albania"
          ],
          [
           "Argentina"
          ],
          [
           "Armenia"
          ],
          [
           "Australia"
          ],
          [
           "Austria"
          ],
          [
           "Azerbaijan"
          ],
          [
           "Belgium"
          ],
          [
           "Bulgaria"
          ],
          [
           "Bahrain"
          ],
          [
           "Brazil"
          ],
          [
           "Botswana"
          ],
          [
           "Canada"
          ],
          [
           "Switzerland"
          ],
          [
           "Chile"
          ],
          [
           "China"
          ],
          [
           "Ivory Coast"
          ],
          [
           "Colombia"
          ],
          [
           "Cape Verde"
          ],
          [
           "Cuba"
          ],
          [
           "Cyprus"
          ],
          [
           "Czech Republic"
          ],
          [
           "Germany"
          ],
          [
           "Dominica"
          ],
          [
           "Denmark"
          ],
          [
           "Dominican Republic"
          ],
          [
           "Algeria"
          ],
          [
           "Ecuador"
          ],
          [
           "Egypt"
          ],
          [
           "Spain"
          ],
          [
           "Ethiopia"
          ],
          [
           "Fiji"
          ],
          [
           "France"
          ],
          [
           "Great Britain"
          ],
          [
           "Georgia"
          ],
          [
           "Greece"
          ],
          [
           "Grenada"
          ],
          [
           "Guatemala"
          ],
          [
           "Hong Kong"
          ],
          [
           "Croatia"
          ],
          [
           "Hungary"
          ],
          [
           "Indonesia"
          ],
          [
           "India"
          ],
          [
           "Ireland"
          ],
          [
           "Iran"
          ],
          [
           "Israel"
          ],
          [
           "Italy"
          ],
          [
           "Jamaica"
          ],
          [
           "Jordan"
          ],
          [
           "Japan"
          ],
          [
           "Kazakhstan"
          ],
          [
           "Kenya"
          ],
          [
           "Kyrgyzstan"
          ],
          [
           "South Korea"
          ],
          [
           "St Lucia"
          ],
          [
           "Lithuania"
          ],
          [
           "Morocco"
          ],
          [
           "Moldova"
          ],
          [
           "Mexico"
          ],
          [
           "Mongolia"
          ],
          [
           "Malaysia"
          ],
          [
           "Netherlands"
          ],
          [
           "Norway"
          ],
          [
           "New Zealand"
          ],
          [
           "Pakistan"
          ],
          [
           "Panama"
          ],
          [
           "Peru"
          ],
          [
           "Philippines"
          ],
          [
           "Poland"
          ],
          [
           "Puerto Rico"
          ],
          [
           "North Korea"
          ],
          [
           "Portugal"
          ],
          [
           "Qatar"
          ],
          [
           "Romania"
          ],
          [
           "Singapore"
          ],
          [
           "Serbia"
          ],
          [
           "Slovakia"
          ],
          [
           "Slovenia"
          ],
          [
           "Sweden"
          ],
          [
           "Thailand"
          ],
          [
           "Tajikistan"
          ],
          [
           "Taiwan"
          ],
          [
           "Tunisia"
          ],
          [
           "Turkey"
          ],
          [
           "Uganda"
          ],
          [
           "Ukraine"
          ],
          [
           "United States"
          ],
          [
           "Uzbekistan"
          ],
          [
           "Kosovo"
          ],
          [
           "South Africa"
          ],
          [
           "Zambia"
          ]
         ],
         "domain": {
          "x": [
           0,
           1
          ],
          "y": [
           0,
           1
          ]
         },
         "hovertemplate": "<b>%{hovertext}</b><br><br>labels=%{label}<br>population=%{value}<br>parent=%{parent}<br>id=%{id}<br>country=%{customdata[0]}<extra></extra>",
         "hovertext": [
          "Canada",
          "Portugal",
          "Thailand",
          "Denmark",
          "Cyprus",
          "Armenia",
          "Algeria",
          "Indonesia",
          "Uganda",
          "Croatia",
          "Puerto Rico",
          "Slovenia",
          "Ivory Coast",
          "Italy",
          "Ireland",
          "Cape Verde",
          "Cuba",
          "Argentina",
          "Egypt",
          "Iran",
          "Dominican Republic",
          "Tunisia",
          "Norway",
          "Azerbaijan",
          "Kyrgyzstan",
          "India",
          "Mexico",
          "Uzbekistan",
          "Qatar",
          "Morocco",
          "Jordan",
          "Panama",
          "South Africa",
          "South Korea",
          "Kazakhstan",
          "Lithuania",
          "Pakistan",
          "Sweden",
          "Colombia",
          "Guatemala",
          "Botswana",
          "Philippines",
          "Singapore",
          "Japan",
          "Austria",
          "Fiji",
          "Spain",
          "Serbia",
          "Kosovo",
          "Ukraine",
          "Belgium",
          "Poland",
          "Germany",
          "Turkey",
          "Kenya",
          "Hungary",
          "Taiwan",
          "Mongolia",
          "Zambia",
          "Romania",
          "Albania",
          "Switzerland",
          "New Zealand",
          "Australia",
          "Hong Kong",
          "Ethiopia",
          "North Korea",
          "Netherlands",
          "France",
          "Malaysia",
          "Tajikistan",
          "Great Britain",
          "China",
          "Bahrain",
          "Czech Republic",
          "Slovakia",
          "Grenada",
          "Bulgaria",
          "St Lucia",
          "Jamaica",
          "Moldova",
          "Brazil",
          "Ecuador",
          "Georgia",
          "Greece",
          "Israel",
          "Chile",
          "Dominica",
          "Peru",
          "United States",
          "Dominica",
          "Grenada",
          "St Lucia",
          "Cape Verde",
          "Fiji",
          "Cyprus",
          "Bahrain",
          "Kosovo",
          "Slovenia",
          "Moldova",
          "Albania",
          "Botswana",
          "Qatar",
          "Armenia",
          "Jamaica",
          "Lithuania",
          "Puerto Rico",
          "Mongolia",
          "Georgia",
          "Croatia",
          "Panama",
          "New Zealand",
          "Ireland",
          "Slovakia",
          "Norway",
          "Denmark",
          "Singapore",
          "Bulgaria",
          "Serbia",
          "Kyrgyzstan",
          "Hong Kong",
          "Switzerland",
          "Austria",
          "Hungary",
          "Israel",
          "Azerbaijan",
          "Tajikistan",
          "Greece",
          "Portugal",
          "Sweden",
          "Czech Republic",
          "Cuba",
          "Dominican Republic",
          "Jordan",
          "Belgium",
          "Tunisia",
          "Guatemala",
          "Netherlands",
          "Ecuador",
          "Romania",
          "Chile",
          "Kazakhstan",
          "Zambia",
          "Taiwan",
          "North Korea",
          "Australia",
          "Ivory Coast",
          "Malaysia",
          "Peru",
          "Uzbekistan",
          "Poland",
          "Ukraine",
          "Morocco",
          "Canada",
          "Algeria",
          "Argentina",
          "Spain",
          "Uganda",
          "South Korea",
          "Colombia",
          "Kenya",
          "Italy",
          "South Africa",
          "France",
          "Great Britain",
          "Thailand",
          "Germany",
          "Turkey",
          "Iran",
          "Egypt",
          "Philippines",
          "Japan",
          "Ethiopia",
          "Mexico",
          "Brazil",
          "Pakistan",
          "Indonesia",
          "United States",
          "China",
          "India",
          "Albania",
          "Argentina",
          "Armenia",
          "Australia",
          "Austria",
          "Azerbaijan",
          "Belgium",
          "Bulgaria",
          "Bahrain",
          "Brazil",
          "Botswana",
          "Canada",
          "Switzerland",
          "Chile",
          "China",
          "Ivory Coast",
          "Colombia",
          "Cape Verde",
          "Cuba",
          "Cyprus",
          "Czech Republic",
          "Germany",
          "Dominica",
          "Denmark",
          "Dominican Republic",
          "Algeria",
          "Ecuador",
          "Egypt",
          "Spain",
          "Ethiopia",
          "Fiji",
          "France",
          "Great Britain",
          "Georgia",
          "Greece",
          "Grenada",
          "Guatemala",
          "Hong Kong",
          "Croatia",
          "Hungary",
          "Indonesia",
          "India",
          "Ireland",
          "Iran",
          "Israel",
          "Italy",
          "Jamaica",
          "Jordan",
          "Japan",
          "Kazakhstan",
          "Kenya",
          "Kyrgyzstan",
          "South Korea",
          "St Lucia",
          "Lithuania",
          "Morocco",
          "Moldova",
          "Mexico",
          "Mongolia",
          "Malaysia",
          "Netherlands",
          "Norway",
          "New Zealand",
          "Pakistan",
          "Panama",
          "Peru",
          "Philippines",
          "Poland",
          "Puerto Rico",
          "North Korea",
          "Portugal",
          "Qatar",
          "Romania",
          "Singapore",
          "Serbia",
          "Slovakia",
          "Slovenia",
          "Sweden",
          "Thailand",
          "Tajikistan",
          "Taiwan",
          "Tunisia",
          "Turkey",
          "Uganda",
          "Ukraine",
          "United States",
          "Uzbekistan",
          "Kosovo",
          "South Africa",
          "Zambia"
         ],
         "ids": [
          "CAN/40.1/27",
          "PRT/10.5/4",
          "THA/71.8/6",
          "DNK/5.9/9",
          "CYP/1.3/1",
          "ARM/2.8/4",
          "DZA/45.6/3",
          "IDN/277.5/3",
          "UGA/48.6/2",
          "HRV/3.9/7",
          "PRI/3.2/2",
          "SVN/2.1/3",
          "CIV/28.9/1",
          "ITA/58.8/40",
          "IRL/5.3/7",
          "CPV/0.6/1",
          "CUB/11.2/9",
          "ARG/46.7/3",
          "EGY/112.7/3",
          "IRN/89.2/12",
          "DOM/11.3/3",
          "TUN/12.5/3",
          "NOR/5.5/8",
          "AZE/10.1/7",
          "KGZ/7.1/6",
          "IND/1428.6/6",
          "MEX/128.5/5",
          "UZB/36.4/13",
          "QAT/2.7/1",
          "MAR/37.8/2",
          "JOR/11.3/1",
          "PAN/4.5/1",
          "ZAF/60.4/6",
          "KOR/51.7/32",
          "KAZ/19.9/7",
          "LTU/2.9/4",
          "PAK/240.5/1",
          "SWE/10.5/11",
          "COL/52.1/4",
          "GTM/17.6/2",
          "BWA/2.7/2",
          "PHL/117.3/4",
          "SGP/5.9/1",
          "JPN/124.5/45",
          "AUT/9.1/5",
          "FJI/0.9/1",
          "ESP/48.4/18",
          "SRB/6.6/5",
          "XKX/1.8/2",
          "UKR/37.0/12",
          "BEL/11.8/10",
          "POL/36.7/10",
          "DEU/84.5/33",
          "TUR/85.3/8",
          "KEN/55.1/11",
          "HUN/9.6/19",
          "TPE/23.2/7",
          "MNG/3.4/1",
          "ZMB/20.6/1",
          "ROU/19.1/9",
          "ALB/2.7/2",
          "CHE/8.8/8",
          "NZL/5.2/20",
          "AUS/26.6/53",
          "HKG/7.5/4",
          "ETH/126.5/4",
          "PRK/26.2/6",
          "NLD/17.9/34",
          "FRA/68.2/64",
          "MYS/34.3/2",
          "TJK/10.1/3",
          "GBR/68.3/65",
          "CHN/1410.7/91",
          "BHR/1.5/4",
          "CZE/10.9/5",
          "SVK/5.4/1",
          "GRD/0.1/2",
          "BGR/6.4/7",
          "LCA/0.2/2",
          "JAM/2.8/6",
          "MDA/2.5/4",
          "BRA/216.4/20",
          "ECU/18.2/5",
          "GEO/3.8/7",
          "GRC/10.4/8",
          "ISR/9.8/7",
          "CHL/19.6/2",
          "DMA/0.1/1",
          "PER/34.4/1",
          "USA/334.9/126",
          "DMA/0.1",
          "GRD/0.1",
          "LCA/0.2",
          "CPV/0.6",
          "FJI/0.9",
          "CYP/1.3",
          "BHR/1.5",
          "XKX/1.8",
          "SVN/2.1",
          "MDA/2.5",
          "ALB/2.7",
          "BWA/2.7",
          "QAT/2.7",
          "ARM/2.8",
          "JAM/2.8",
          "LTU/2.9",
          "PRI/3.2",
          "MNG/3.4",
          "GEO/3.8",
          "HRV/3.9",
          "PAN/4.5",
          "NZL/5.2",
          "IRL/5.3",
          "SVK/5.4",
          "NOR/5.5",
          "DNK/5.9",
          "SGP/5.9",
          "BGR/6.4",
          "SRB/6.6",
          "KGZ/7.1",
          "HKG/7.5",
          "CHE/8.8",
          "AUT/9.1",
          "HUN/9.6",
          "ISR/9.8",
          "AZE/10.1",
          "TJK/10.1",
          "GRC/10.4",
          "PRT/10.5",
          "SWE/10.5",
          "CZE/10.9",
          "CUB/11.2",
          "DOM/11.3",
          "JOR/11.3",
          "BEL/11.8",
          "TUN/12.5",
          "GTM/17.6",
          "NLD/17.9",
          "ECU/18.2",
          "ROU/19.1",
          "CHL/19.6",
          "KAZ/19.9",
          "ZMB/20.6",
          "TPE/23.2",
          "PRK/26.2",
          "AUS/26.6",
          "CIV/28.9",
          "MYS/34.3",
          "PER/34.4",
          "UZB/36.4",
          "POL/36.7",
          "UKR/37.0",
          "MAR/37.8",
          "CAN/40.1",
          "DZA/45.6",
          "ARG/46.7",
          "ESP/48.4",
          "UGA/48.6",
          "KOR/51.7",
          "COL/52.1",
          "KEN/55.1",
          "ITA/58.8",
          "ZAF/60.4",
          "FRA/68.2",
          "GBR/68.3",
          "THA/71.8",
          "DEU/84.5",
          "TUR/85.3",
          "IRN/89.2",
          "EGY/112.7",
          "PHL/117.3",
          "JPN/124.5",
          "ETH/126.5",
          "MEX/128.5",
          "BRA/216.4",
          "PAK/240.5",
          "IDN/277.5",
          "USA/334.9",
          "CHN/1410.7",
          "IND/1428.6",
          "ALB",
          "ARG",
          "ARM",
          "AUS",
          "AUT",
          "AZE",
          "BEL",
          "BGR",
          "BHR",
          "BRA",
          "BWA",
          "CAN",
          "CHE",
          "CHL",
          "CHN",
          "CIV",
          "COL",
          "CPV",
          "CUB",
          "CYP",
          "CZE",
          "DEU",
          "DMA",
          "DNK",
          "DOM",
          "DZA",
          "ECU",
          "EGY",
          "ESP",
          "ETH",
          "FJI",
          "FRA",
          "GBR",
          "GEO",
          "GRC",
          "GRD",
          "GTM",
          "HKG",
          "HRV",
          "HUN",
          "IDN",
          "IND",
          "IRL",
          "IRN",
          "ISR",
          "ITA",
          "JAM",
          "JOR",
          "JPN",
          "KAZ",
          "KEN",
          "KGZ",
          "KOR",
          "LCA",
          "LTU",
          "MAR",
          "MDA",
          "MEX",
          "MNG",
          "MYS",
          "NLD",
          "NOR",
          "NZL",
          "PAK",
          "PAN",
          "PER",
          "PHL",
          "POL",
          "PRI",
          "PRK",
          "PRT",
          "QAT",
          "ROU",
          "SGP",
          "SRB",
          "SVK",
          "SVN",
          "SWE",
          "THA",
          "TJK",
          "TPE",
          "TUN",
          "TUR",
          "UGA",
          "UKR",
          "USA",
          "UZB",
          "XKX",
          "ZAF",
          "ZMB"
         ],
         "labels": [
          "27",
          "4",
          "6",
          "9",
          "1",
          "4",
          "3",
          "3",
          "2",
          "7",
          "2",
          "3",
          "1",
          "40",
          "7",
          "1",
          "9",
          "3",
          "3",
          "12",
          "3",
          "3",
          "8",
          "7",
          "6",
          "6",
          "5",
          "13",
          "1",
          "2",
          "1",
          "1",
          "6",
          "32",
          "7",
          "4",
          "1",
          "11",
          "4",
          "2",
          "2",
          "4",
          "1",
          "45",
          "5",
          "1",
          "18",
          "5",
          "2",
          "12",
          "10",
          "10",
          "33",
          "8",
          "11",
          "19",
          "7",
          "1",
          "1",
          "9",
          "2",
          "8",
          "20",
          "53",
          "4",
          "4",
          "6",
          "34",
          "64",
          "2",
          "3",
          "65",
          "91",
          "4",
          "5",
          "1",
          "2",
          "7",
          "2",
          "6",
          "4",
          "20",
          "5",
          "7",
          "8",
          "7",
          "2",
          "1",
          "1",
          "126",
          "0.1",
          "0.1",
          "0.2",
          "0.6",
          "0.9",
          "1.3",
          "1.5",
          "1.8",
          "2.1",
          "2.5",
          "2.7",
          "2.7",
          "2.7",
          "2.8",
          "2.8",
          "2.9",
          "3.2",
          "3.4",
          "3.8",
          "3.9",
          "4.5",
          "5.2",
          "5.3",
          "5.4",
          "5.5",
          "5.9",
          "5.9",
          "6.4",
          "6.6",
          "7.1",
          "7.5",
          "8.8",
          "9.1",
          "9.6",
          "9.8",
          "10.1",
          "10.1",
          "10.4",
          "10.5",
          "10.5",
          "10.9",
          "11.2",
          "11.3",
          "11.3",
          "11.8",
          "12.5",
          "17.6",
          "17.9",
          "18.2",
          "19.1",
          "19.6",
          "19.9",
          "20.6",
          "23.2",
          "26.2",
          "26.6",
          "28.9",
          "34.3",
          "34.4",
          "36.4",
          "36.7",
          "37.0",
          "37.8",
          "40.1",
          "45.6",
          "46.7",
          "48.4",
          "48.6",
          "51.7",
          "52.1",
          "55.1",
          "58.8",
          "60.4",
          "68.2",
          "68.3",
          "71.8",
          "84.5",
          "85.3",
          "89.2",
          "112.7",
          "117.3",
          "124.5",
          "126.5",
          "128.5",
          "216.4",
          "240.5",
          "277.5",
          "334.9",
          "1410.7",
          "1428.6",
          "ALB",
          "ARG",
          "ARM",
          "AUS",
          "AUT",
          "AZE",
          "BEL",
          "BGR",
          "BHR",
          "BRA",
          "BWA",
          "CAN",
          "CHE",
          "CHL",
          "CHN",
          "CIV",
          "COL",
          "CPV",
          "CUB",
          "CYP",
          "CZE",
          "DEU",
          "DMA",
          "DNK",
          "DOM",
          "DZA",
          "ECU",
          "EGY",
          "ESP",
          "ETH",
          "FJI",
          "FRA",
          "GBR",
          "GEO",
          "GRC",
          "GRD",
          "GTM",
          "HKG",
          "HRV",
          "HUN",
          "IDN",
          "IND",
          "IRL",
          "IRN",
          "ISR",
          "ITA",
          "JAM",
          "JOR",
          "JPN",
          "KAZ",
          "KEN",
          "KGZ",
          "KOR",
          "LCA",
          "LTU",
          "MAR",
          "MDA",
          "MEX",
          "MNG",
          "MYS",
          "NLD",
          "NOR",
          "NZL",
          "PAK",
          "PAN",
          "PER",
          "PHL",
          "POL",
          "PRI",
          "PRK",
          "PRT",
          "QAT",
          "ROU",
          "SGP",
          "SRB",
          "SVK",
          "SVN",
          "SWE",
          "THA",
          "TJK",
          "TPE",
          "TUN",
          "TUR",
          "UGA",
          "UKR",
          "USA",
          "UZB",
          "XKX",
          "ZAF",
          "ZMB"
         ],
         "marker": {
          "colors": [
           "#636efa",
           "#EF553B",
           "#00cc96",
           "#ab63fa",
           "#FFA15A",
           "#19d3f3",
           "#FF6692",
           "#B6E880",
           "#FF97FF",
           "#FECB52",
           "#636efa",
           "#EF553B",
           "#00cc96",
           "#ab63fa",
           "#FFA15A",
           "#19d3f3",
           "#FF6692",
           "#B6E880",
           "#FF97FF",
           "#FECB52",
           "#636efa",
           "#EF553B",
           "#00cc96",
           "#ab63fa",
           "#FFA15A",
           "#19d3f3",
           "#FF6692",
           "#B6E880",
           "#FF97FF",
           "#FECB52",
           "#636efa",
           "#EF553B",
           "#00cc96",
           "#ab63fa",
           "#FFA15A",
           "#19d3f3",
           "#FF6692",
           "#B6E880",
           "#FF97FF",
           "#FECB52",
           "#636efa",
           "#EF553B",
           "#00cc96",
           "#ab63fa",
           "#FFA15A",
           "#19d3f3",
           "#FF6692",
           "#B6E880",
           "#FF97FF",
           "#FECB52",
           "#636efa",
           "#EF553B",
           "#00cc96",
           "#ab63fa",
           "#FFA15A",
           "#19d3f3",
           "#FF6692",
           "#B6E880",
           "#FF97FF",
           "#FECB52",
           "#636efa",
           "#EF553B",
           "#00cc96",
           "#ab63fa",
           "#FFA15A",
           "#19d3f3",
           "#FF6692",
           "#B6E880",
           "#FF97FF",
           "#FECB52",
           "#636efa",
           "#EF553B",
           "#00cc96",
           "#ab63fa",
           "#FFA15A",
           "#19d3f3",
           "#FF6692",
           "#B6E880",
           "#FF97FF",
           "#FECB52",
           "#636efa",
           "#EF553B",
           "#00cc96",
           "#ab63fa",
           "#FFA15A",
           "#19d3f3",
           "#FF6692",
           "#B6E880",
           "#FF97FF",
           "#FECB52",
           "#B6E880",
           "#FF6692",
           "#FF97FF",
           "#19d3f3",
           "#19d3f3",
           "#FFA15A",
           "#ab63fa",
           "#FF97FF",
           "#EF553B",
           "#636efa",
           "#636efa",
           "#636efa",
           "#FF97FF",
           "#19d3f3",
           "#FECB52",
           "#19d3f3",
           "#636efa",
           "#B6E880",
           "#ab63fa",
           "#FECB52",
           "#EF553B",
           "#00cc96",
           "#FFA15A",
           "#19d3f3",
           "#00cc96",
           "#ab63fa",
           "#00cc96",
           "#B6E880",
           "#B6E880",
           "#FFA15A",
           "#FFA15A",
           "#EF553B",
           "#FFA15A",
           "#19d3f3",
           "#19d3f3",
           "#ab63fa",
           "#636efa",
           "#FFA15A",
           "#EF553B",
           "#B6E880",
           "#FFA15A",
           "#FF6692",
           "#636efa",
           "#636efa",
           "#636efa",
           "#EF553B",
           "#FECB52",
           "#B6E880",
           "#00cc96",
           "#FECB52",
           "#FF6692",
           "#FFA15A",
           "#FF97FF",
           "#FF6692",
           "#FF6692",
           "#ab63fa",
           "#00cc96",
           "#FECB52",
           "#FF97FF",
           "#B6E880",
           "#EF553B",
           "#FECB52",
           "#FECB52",
           "#636efa",
           "#FF6692",
           "#B6E880",
           "#FF6692",
           "#FF97FF",
           "#ab63fa",
           "#FF97FF",
           "#FFA15A",
           "#ab63fa",
           "#00cc96",
           "#FF97FF",
           "#EF553B",
           "#00cc96",
           "#00cc96",
           "#ab63fa",
           "#FECB52",
           "#FF97FF",
           "#EF553B",
           "#ab63fa",
           "#19d3f3",
           "#FF6692",
           "#EF553B",
           "#FF6692",
           "#B6E880",
           "#FECB52",
           "#00cc96",
           "#19d3f3",
           "#636efa",
           "#B6E880",
           "#19d3f3",
           "#ab63fa",
           "#FFA15A",
           "#ab63fa",
           "#636efa",
           "#B6E880",
           "#ab63fa",
           "#EF553B",
           "#636efa",
           "#636efa",
           "#EF553B",
           "#FF6692",
           "#00cc96",
           "#00cc96",
           "#FF97FF",
           "#19d3f3",
           "#FF6692",
           "#FFA15A",
           "#FFA15A",
           "#00cc96",
           "#B6E880",
           "#ab63fa",
           "#636efa",
           "#FF6692",
           "#00cc96",
           "#FF97FF",
           "#FF6692",
           "#19d3f3",
           "#19d3f3",
           "#FF97FF",
           "#EF553B",
           "#ab63fa",
           "#FFA15A",
           "#FF6692",
           "#FECB52",
           "#FFA15A",
           "#FECB52",
           "#19d3f3",
           "#B6E880",
           "#19d3f3",
           "#FFA15A",
           "#FECB52",
           "#19d3f3",
           "#ab63fa",
           "#FECB52",
           "#636efa",
           "#ab63fa",
           "#FFA15A",
           "#FFA15A",
           "#FFA15A",
           "#ab63fa",
           "#FF97FF",
           "#19d3f3",
           "#FECB52",
           "#636efa",
           "#FF6692",
           "#B6E880",
           "#FECB52",
           "#B6E880",
           "#00cc96",
           "#00cc96",
           "#FF6692",
           "#EF553B",
           "#FF97FF",
           "#EF553B",
           "#EF553B",
           "#636efa",
           "#FF6692",
           "#EF553B",
           "#FF97FF",
           "#FECB52",
           "#00cc96",
           "#B6E880",
           "#19d3f3",
           "#EF553B",
           "#B6E880",
           "#00cc96",
           "#636efa",
           "#FF6692",
           "#EF553B",
           "#ab63fa",
           "#FF97FF",
           "#FECB52",
           "#FECB52",
           "#B6E880",
           "#FF97FF",
           "#00cc96",
           "#FF97FF"
          ]
         },
         "name": "",
         "parents": [
          "CAN/40.1",
          "PRT/10.5",
          "THA/71.8",
          "DNK/5.9",
          "CYP/1.3",
          "ARM/2.8",
          "DZA/45.6",
          "IDN/277.5",
          "UGA/48.6",
          "HRV/3.9",
          "PRI/3.2",
          "SVN/2.1",
          "CIV/28.9",
          "ITA/58.8",
          "IRL/5.3",
          "CPV/0.6",
          "CUB/11.2",
          "ARG/46.7",
          "EGY/112.7",
          "IRN/89.2",
          "DOM/11.3",
          "TUN/12.5",
          "NOR/5.5",
          "AZE/10.1",
          "KGZ/7.1",
          "IND/1428.6",
          "MEX/128.5",
          "UZB/36.4",
          "QAT/2.7",
          "MAR/37.8",
          "JOR/11.3",
          "PAN/4.5",
          "ZAF/60.4",
          "KOR/51.7",
          "KAZ/19.9",
          "LTU/2.9",
          "PAK/240.5",
          "SWE/10.5",
          "COL/52.1",
          "GTM/17.6",
          "BWA/2.7",
          "PHL/117.3",
          "SGP/5.9",
          "JPN/124.5",
          "AUT/9.1",
          "FJI/0.9",
          "ESP/48.4",
          "SRB/6.6",
          "XKX/1.8",
          "UKR/37.0",
          "BEL/11.8",
          "POL/36.7",
          "DEU/84.5",
          "TUR/85.3",
          "KEN/55.1",
          "HUN/9.6",
          "TPE/23.2",
          "MNG/3.4",
          "ZMB/20.6",
          "ROU/19.1",
          "ALB/2.7",
          "CHE/8.8",
          "NZL/5.2",
          "AUS/26.6",
          "HKG/7.5",
          "ETH/126.5",
          "PRK/26.2",
          "NLD/17.9",
          "FRA/68.2",
          "MYS/34.3",
          "TJK/10.1",
          "GBR/68.3",
          "CHN/1410.7",
          "BHR/1.5",
          "CZE/10.9",
          "SVK/5.4",
          "GRD/0.1",
          "BGR/6.4",
          "LCA/0.2",
          "JAM/2.8",
          "MDA/2.5",
          "BRA/216.4",
          "ECU/18.2",
          "GEO/3.8",
          "GRC/10.4",
          "ISR/9.8",
          "CHL/19.6",
          "DMA/0.1",
          "PER/34.4",
          "USA/334.9",
          "DMA",
          "GRD",
          "LCA",
          "CPV",
          "FJI",
          "CYP",
          "BHR",
          "XKX",
          "SVN",
          "MDA",
          "ALB",
          "BWA",
          "QAT",
          "ARM",
          "JAM",
          "LTU",
          "PRI",
          "MNG",
          "GEO",
          "HRV",
          "PAN",
          "NZL",
          "IRL",
          "SVK",
          "NOR",
          "DNK",
          "SGP",
          "BGR",
          "SRB",
          "KGZ",
          "HKG",
          "CHE",
          "AUT",
          "HUN",
          "ISR",
          "AZE",
          "TJK",
          "GRC",
          "PRT",
          "SWE",
          "CZE",
          "CUB",
          "DOM",
          "JOR",
          "BEL",
          "TUN",
          "GTM",
          "NLD",
          "ECU",
          "ROU",
          "CHL",
          "KAZ",
          "ZMB",
          "TPE",
          "PRK",
          "AUS",
          "CIV",
          "MYS",
          "PER",
          "UZB",
          "POL",
          "UKR",
          "MAR",
          "CAN",
          "DZA",
          "ARG",
          "ESP",
          "UGA",
          "KOR",
          "COL",
          "KEN",
          "ITA",
          "ZAF",
          "FRA",
          "GBR",
          "THA",
          "DEU",
          "TUR",
          "IRN",
          "EGY",
          "PHL",
          "JPN",
          "ETH",
          "MEX",
          "BRA",
          "PAK",
          "IDN",
          "USA",
          "CHN",
          "IND",
          "",
          "",
          "",
          "",
          "",
          "",
          "",
          "",
          "",
          "",
          "",
          "",
          "",
          "",
          "",
          "",
          "",
          "",
          "",
          "",
          "",
          "",
          "",
          "",
          "",
          "",
          "",
          "",
          "",
          "",
          "",
          "",
          "",
          "",
          "",
          "",
          "",
          "",
          "",
          "",
          "",
          "",
          "",
          "",
          "",
          "",
          "",
          "",
          "",
          "",
          "",
          "",
          "",
          "",
          "",
          "",
          "",
          "",
          "",
          "",
          "",
          "",
          "",
          "",
          "",
          "",
          "",
          "",
          "",
          "",
          "",
          "",
          "",
          "",
          "",
          "",
          "",
          "",
          "",
          "",
          "",
          "",
          "",
          "",
          "",
          "",
          "",
          "",
          "",
          ""
         ],
         "type": "sunburst",
         "values": [
          40.1,
          10.5,
          71.8,
          5.9,
          1.3,
          2.8,
          45.6,
          277.5,
          48.6,
          3.9,
          3.2,
          2.1,
          28.9,
          58.8,
          5.3,
          0.6,
          11.2,
          46.7,
          112.7,
          89.2,
          11.3,
          12.5,
          5.5,
          10.1,
          7.1,
          1428.6,
          128.5,
          36.4,
          2.7,
          37.8,
          11.3,
          4.5,
          60.4,
          51.7,
          19.9,
          2.9,
          240.5,
          10.5,
          52.1,
          17.6,
          2.7,
          117.3,
          5.9,
          124.5,
          9.1,
          0.9,
          48.4,
          6.6,
          1.8,
          37,
          11.8,
          36.7,
          84.5,
          85.3,
          55.1,
          9.6,
          23.2,
          3.4,
          20.6,
          19.1,
          2.7,
          8.8,
          5.2,
          26.6,
          7.5,
          126.5,
          26.2,
          17.9,
          68.2,
          34.3,
          10.1,
          68.3,
          1410.7,
          1.5,
          10.9,
          5.4,
          0.1,
          6.4,
          0.2,
          2.8,
          2.5,
          216.4,
          18.2,
          3.8,
          10.4,
          9.8,
          19.6,
          0.1,
          34.4,
          334.9,
          0.1,
          0.1,
          0.2,
          0.6,
          0.9,
          1.3,
          1.5,
          1.8,
          2.1,
          2.5,
          2.7,
          2.7,
          2.7,
          2.8,
          2.8,
          2.9,
          3.2,
          3.4,
          3.8,
          3.9,
          4.5,
          5.2,
          5.3,
          5.4,
          5.5,
          5.9,
          5.9,
          6.4,
          6.6,
          7.1,
          7.5,
          8.8,
          9.1,
          9.6,
          9.8,
          10.1,
          10.1,
          10.4,
          10.5,
          10.5,
          10.9,
          11.2,
          11.3,
          11.3,
          11.8,
          12.5,
          17.6,
          17.9,
          18.2,
          19.1,
          19.6,
          19.9,
          20.6,
          23.2,
          26.2,
          26.6,
          28.9,
          34.3,
          34.4,
          36.4,
          36.7,
          37,
          37.8,
          40.1,
          45.6,
          46.7,
          48.4,
          48.6,
          51.7,
          52.1,
          55.1,
          58.8,
          60.4,
          68.2,
          68.3,
          71.8,
          84.5,
          85.3,
          89.2,
          112.7,
          117.3,
          124.5,
          126.5,
          128.5,
          216.4,
          240.5,
          277.5,
          334.9,
          1410.7,
          1428.6,
          2.7,
          46.7,
          2.8,
          26.6,
          9.1,
          10.1,
          11.8,
          6.4,
          1.5,
          216.4,
          2.7,
          40.1,
          8.8,
          19.6,
          1410.7,
          28.9,
          52.1,
          0.6,
          11.2,
          1.3,
          10.9,
          84.5,
          0.1,
          5.9,
          11.3,
          45.6,
          18.2,
          112.7,
          48.4,
          126.5,
          0.9,
          68.2,
          68.3,
          3.8,
          10.4,
          0.1,
          17.6,
          7.5,
          3.9,
          9.6,
          277.5,
          1428.6,
          5.3,
          89.2,
          9.8,
          58.8,
          2.8,
          11.3,
          124.5,
          19.9,
          55.1,
          7.1,
          51.7,
          0.2,
          2.9,
          37.8,
          2.5,
          128.5,
          3.4,
          34.3,
          17.9,
          5.5,
          5.2,
          240.5,
          4.5,
          34.4,
          117.3,
          36.7,
          3.2,
          26.2,
          10.5,
          2.7,
          19.1,
          5.9,
          6.6,
          5.4,
          2.1,
          10.5,
          71.8,
          10.1,
          23.2,
          12.5,
          85.3,
          48.6,
          37,
          334.9,
          36.4,
          1.8,
          60.4,
          20.6
         ]
        }
       ],
       "layout": {
        "height": 800,
        "legend": {
         "tracegroupgap": 0
        },
        "template": {
         "data": {
          "bar": [
           {
            "error_x": {
             "color": "#2a3f5f"
            },
            "error_y": {
             "color": "#2a3f5f"
            },
            "marker": {
             "line": {
              "color": "#E5ECF6",
              "width": 0.5
             },
             "pattern": {
              "fillmode": "overlay",
              "size": 10,
              "solidity": 0.2
             }
            },
            "type": "bar"
           }
          ],
          "barpolar": [
           {
            "marker": {
             "line": {
              "color": "#E5ECF6",
              "width": 0.5
             },
             "pattern": {
              "fillmode": "overlay",
              "size": 10,
              "solidity": 0.2
             }
            },
            "type": "barpolar"
           }
          ],
          "carpet": [
           {
            "aaxis": {
             "endlinecolor": "#2a3f5f",
             "gridcolor": "white",
             "linecolor": "white",
             "minorgridcolor": "white",
             "startlinecolor": "#2a3f5f"
            },
            "baxis": {
             "endlinecolor": "#2a3f5f",
             "gridcolor": "white",
             "linecolor": "white",
             "minorgridcolor": "white",
             "startlinecolor": "#2a3f5f"
            },
            "type": "carpet"
           }
          ],
          "choropleth": [
           {
            "colorbar": {
             "outlinewidth": 0,
             "ticks": ""
            },
            "type": "choropleth"
           }
          ],
          "contour": [
           {
            "colorbar": {
             "outlinewidth": 0,
             "ticks": ""
            },
            "colorscale": [
             [
              0,
              "#0d0887"
             ],
             [
              0.1111111111111111,
              "#46039f"
             ],
             [
              0.2222222222222222,
              "#7201a8"
             ],
             [
              0.3333333333333333,
              "#9c179e"
             ],
             [
              0.4444444444444444,
              "#bd3786"
             ],
             [
              0.5555555555555556,
              "#d8576b"
             ],
             [
              0.6666666666666666,
              "#ed7953"
             ],
             [
              0.7777777777777778,
              "#fb9f3a"
             ],
             [
              0.8888888888888888,
              "#fdca26"
             ],
             [
              1,
              "#f0f921"
             ]
            ],
            "type": "contour"
           }
          ],
          "contourcarpet": [
           {
            "colorbar": {
             "outlinewidth": 0,
             "ticks": ""
            },
            "type": "contourcarpet"
           }
          ],
          "heatmap": [
           {
            "colorbar": {
             "outlinewidth": 0,
             "ticks": ""
            },
            "colorscale": [
             [
              0,
              "#0d0887"
             ],
             [
              0.1111111111111111,
              "#46039f"
             ],
             [
              0.2222222222222222,
              "#7201a8"
             ],
             [
              0.3333333333333333,
              "#9c179e"
             ],
             [
              0.4444444444444444,
              "#bd3786"
             ],
             [
              0.5555555555555556,
              "#d8576b"
             ],
             [
              0.6666666666666666,
              "#ed7953"
             ],
             [
              0.7777777777777778,
              "#fb9f3a"
             ],
             [
              0.8888888888888888,
              "#fdca26"
             ],
             [
              1,
              "#f0f921"
             ]
            ],
            "type": "heatmap"
           }
          ],
          "heatmapgl": [
           {
            "colorbar": {
             "outlinewidth": 0,
             "ticks": ""
            },
            "colorscale": [
             [
              0,
              "#0d0887"
             ],
             [
              0.1111111111111111,
              "#46039f"
             ],
             [
              0.2222222222222222,
              "#7201a8"
             ],
             [
              0.3333333333333333,
              "#9c179e"
             ],
             [
              0.4444444444444444,
              "#bd3786"
             ],
             [
              0.5555555555555556,
              "#d8576b"
             ],
             [
              0.6666666666666666,
              "#ed7953"
             ],
             [
              0.7777777777777778,
              "#fb9f3a"
             ],
             [
              0.8888888888888888,
              "#fdca26"
             ],
             [
              1,
              "#f0f921"
             ]
            ],
            "type": "heatmapgl"
           }
          ],
          "histogram": [
           {
            "marker": {
             "pattern": {
              "fillmode": "overlay",
              "size": 10,
              "solidity": 0.2
             }
            },
            "type": "histogram"
           }
          ],
          "histogram2d": [
           {
            "colorbar": {
             "outlinewidth": 0,
             "ticks": ""
            },
            "colorscale": [
             [
              0,
              "#0d0887"
             ],
             [
              0.1111111111111111,
              "#46039f"
             ],
             [
              0.2222222222222222,
              "#7201a8"
             ],
             [
              0.3333333333333333,
              "#9c179e"
             ],
             [
              0.4444444444444444,
              "#bd3786"
             ],
             [
              0.5555555555555556,
              "#d8576b"
             ],
             [
              0.6666666666666666,
              "#ed7953"
             ],
             [
              0.7777777777777778,
              "#fb9f3a"
             ],
             [
              0.8888888888888888,
              "#fdca26"
             ],
             [
              1,
              "#f0f921"
             ]
            ],
            "type": "histogram2d"
           }
          ],
          "histogram2dcontour": [
           {
            "colorbar": {
             "outlinewidth": 0,
             "ticks": ""
            },
            "colorscale": [
             [
              0,
              "#0d0887"
             ],
             [
              0.1111111111111111,
              "#46039f"
             ],
             [
              0.2222222222222222,
              "#7201a8"
             ],
             [
              0.3333333333333333,
              "#9c179e"
             ],
             [
              0.4444444444444444,
              "#bd3786"
             ],
             [
              0.5555555555555556,
              "#d8576b"
             ],
             [
              0.6666666666666666,
              "#ed7953"
             ],
             [
              0.7777777777777778,
              "#fb9f3a"
             ],
             [
              0.8888888888888888,
              "#fdca26"
             ],
             [
              1,
              "#f0f921"
             ]
            ],
            "type": "histogram2dcontour"
           }
          ],
          "mesh3d": [
           {
            "colorbar": {
             "outlinewidth": 0,
             "ticks": ""
            },
            "type": "mesh3d"
           }
          ],
          "parcoords": [
           {
            "line": {
             "colorbar": {
              "outlinewidth": 0,
              "ticks": ""
             }
            },
            "type": "parcoords"
           }
          ],
          "pie": [
           {
            "automargin": true,
            "type": "pie"
           }
          ],
          "scatter": [
           {
            "fillpattern": {
             "fillmode": "overlay",
             "size": 10,
             "solidity": 0.2
            },
            "type": "scatter"
           }
          ],
          "scatter3d": [
           {
            "line": {
             "colorbar": {
              "outlinewidth": 0,
              "ticks": ""
             }
            },
            "marker": {
             "colorbar": {
              "outlinewidth": 0,
              "ticks": ""
             }
            },
            "type": "scatter3d"
           }
          ],
          "scattercarpet": [
           {
            "marker": {
             "colorbar": {
              "outlinewidth": 0,
              "ticks": ""
             }
            },
            "type": "scattercarpet"
           }
          ],
          "scattergeo": [
           {
            "marker": {
             "colorbar": {
              "outlinewidth": 0,
              "ticks": ""
             }
            },
            "type": "scattergeo"
           }
          ],
          "scattergl": [
           {
            "marker": {
             "colorbar": {
              "outlinewidth": 0,
              "ticks": ""
             }
            },
            "type": "scattergl"
           }
          ],
          "scattermapbox": [
           {
            "marker": {
             "colorbar": {
              "outlinewidth": 0,
              "ticks": ""
             }
            },
            "type": "scattermapbox"
           }
          ],
          "scatterpolar": [
           {
            "marker": {
             "colorbar": {
              "outlinewidth": 0,
              "ticks": ""
             }
            },
            "type": "scatterpolar"
           }
          ],
          "scatterpolargl": [
           {
            "marker": {
             "colorbar": {
              "outlinewidth": 0,
              "ticks": ""
             }
            },
            "type": "scatterpolargl"
           }
          ],
          "scatterternary": [
           {
            "marker": {
             "colorbar": {
              "outlinewidth": 0,
              "ticks": ""
             }
            },
            "type": "scatterternary"
           }
          ],
          "surface": [
           {
            "colorbar": {
             "outlinewidth": 0,
             "ticks": ""
            },
            "colorscale": [
             [
              0,
              "#0d0887"
             ],
             [
              0.1111111111111111,
              "#46039f"
             ],
             [
              0.2222222222222222,
              "#7201a8"
             ],
             [
              0.3333333333333333,
              "#9c179e"
             ],
             [
              0.4444444444444444,
              "#bd3786"
             ],
             [
              0.5555555555555556,
              "#d8576b"
             ],
             [
              0.6666666666666666,
              "#ed7953"
             ],
             [
              0.7777777777777778,
              "#fb9f3a"
             ],
             [
              0.8888888888888888,
              "#fdca26"
             ],
             [
              1,
              "#f0f921"
             ]
            ],
            "type": "surface"
           }
          ],
          "table": [
           {
            "cells": {
             "fill": {
              "color": "#EBF0F8"
             },
             "line": {
              "color": "white"
             }
            },
            "header": {
             "fill": {
              "color": "#C8D4E3"
             },
             "line": {
              "color": "white"
             }
            },
            "type": "table"
           }
          ]
         },
         "layout": {
          "annotationdefaults": {
           "arrowcolor": "#2a3f5f",
           "arrowhead": 0,
           "arrowwidth": 1
          },
          "autotypenumbers": "strict",
          "coloraxis": {
           "colorbar": {
            "outlinewidth": 0,
            "ticks": ""
           }
          },
          "colorscale": {
           "diverging": [
            [
             0,
             "#8e0152"
            ],
            [
             0.1,
             "#c51b7d"
            ],
            [
             0.2,
             "#de77ae"
            ],
            [
             0.3,
             "#f1b6da"
            ],
            [
             0.4,
             "#fde0ef"
            ],
            [
             0.5,
             "#f7f7f7"
            ],
            [
             0.6,
             "#e6f5d0"
            ],
            [
             0.7,
             "#b8e186"
            ],
            [
             0.8,
             "#7fbc41"
            ],
            [
             0.9,
             "#4d9221"
            ],
            [
             1,
             "#276419"
            ]
           ],
           "sequential": [
            [
             0,
             "#0d0887"
            ],
            [
             0.1111111111111111,
             "#46039f"
            ],
            [
             0.2222222222222222,
             "#7201a8"
            ],
            [
             0.3333333333333333,
             "#9c179e"
            ],
            [
             0.4444444444444444,
             "#bd3786"
            ],
            [
             0.5555555555555556,
             "#d8576b"
            ],
            [
             0.6666666666666666,
             "#ed7953"
            ],
            [
             0.7777777777777778,
             "#fb9f3a"
            ],
            [
             0.8888888888888888,
             "#fdca26"
            ],
            [
             1,
             "#f0f921"
            ]
           ],
           "sequentialminus": [
            [
             0,
             "#0d0887"
            ],
            [
             0.1111111111111111,
             "#46039f"
            ],
            [
             0.2222222222222222,
             "#7201a8"
            ],
            [
             0.3333333333333333,
             "#9c179e"
            ],
            [
             0.4444444444444444,
             "#bd3786"
            ],
            [
             0.5555555555555556,
             "#d8576b"
            ],
            [
             0.6666666666666666,
             "#ed7953"
            ],
            [
             0.7777777777777778,
             "#fb9f3a"
            ],
            [
             0.8888888888888888,
             "#fdca26"
            ],
            [
             1,
             "#f0f921"
            ]
           ]
          },
          "colorway": [
           "#636efa",
           "#EF553B",
           "#00cc96",
           "#ab63fa",
           "#FFA15A",
           "#19d3f3",
           "#FF6692",
           "#B6E880",
           "#FF97FF",
           "#FECB52"
          ],
          "font": {
           "color": "#2a3f5f"
          },
          "geo": {
           "bgcolor": "white",
           "lakecolor": "white",
           "landcolor": "#E5ECF6",
           "showlakes": true,
           "showland": true,
           "subunitcolor": "white"
          },
          "hoverlabel": {
           "align": "left"
          },
          "hovermode": "closest",
          "mapbox": {
           "style": "light"
          },
          "paper_bgcolor": "white",
          "plot_bgcolor": "#E5ECF6",
          "polar": {
           "angularaxis": {
            "gridcolor": "white",
            "linecolor": "white",
            "ticks": ""
           },
           "bgcolor": "#E5ECF6",
           "radialaxis": {
            "gridcolor": "white",
            "linecolor": "white",
            "ticks": ""
           }
          },
          "scene": {
           "xaxis": {
            "backgroundcolor": "#E5ECF6",
            "gridcolor": "white",
            "gridwidth": 2,
            "linecolor": "white",
            "showbackground": true,
            "ticks": "",
            "zerolinecolor": "white"
           },
           "yaxis": {
            "backgroundcolor": "#E5ECF6",
            "gridcolor": "white",
            "gridwidth": 2,
            "linecolor": "white",
            "showbackground": true,
            "ticks": "",
            "zerolinecolor": "white"
           },
           "zaxis": {
            "backgroundcolor": "#E5ECF6",
            "gridcolor": "white",
            "gridwidth": 2,
            "linecolor": "white",
            "showbackground": true,
            "ticks": "",
            "zerolinecolor": "white"
           }
          },
          "shapedefaults": {
           "line": {
            "color": "#2a3f5f"
           }
          },
          "ternary": {
           "aaxis": {
            "gridcolor": "white",
            "linecolor": "white",
            "ticks": ""
           },
           "baxis": {
            "gridcolor": "white",
            "linecolor": "white",
            "ticks": ""
           },
           "bgcolor": "#E5ECF6",
           "caxis": {
            "gridcolor": "white",
            "linecolor": "white",
            "ticks": ""
           }
          },
          "title": {
           "x": 0.05
          },
          "xaxis": {
           "automargin": true,
           "gridcolor": "white",
           "linecolor": "white",
           "ticks": "",
           "title": {
            "standoff": 15
           },
           "zerolinecolor": "white",
           "zerolinewidth": 2
          },
          "yaxis": {
           "automargin": true,
           "gridcolor": "white",
           "linecolor": "white",
           "ticks": "",
           "title": {
            "standoff": 15
           },
           "zerolinecolor": "white",
           "zerolinewidth": 2
          }
         }
        },
        "title": {
         "text": "Population & Medal Relationship"
        },
        "width": 1200
       }
      }
     },
     "metadata": {},
     "output_type": "display_data"
    }
   ],
   "source": [
    "fig = px.sunburst(\n",
    "    df,\n",
    "    path=['country_code','population','total'],\n",
    "    values='population',\n",
    "    color='country',\n",
    "    hover_name='country',\n",
    "    title='Population & Medal Relationship',\n",
    "    width=1200,\n",
    "    height=800,\n",
    ")\n",
    "\n",
    "fig.show()"
   ]
  },
  {
   "cell_type": "markdown",
   "metadata": {},
   "source": [
    "## Heat map"
   ]
  },
  {
   "cell_type": "code",
   "execution_count": 20,
   "metadata": {},
   "outputs": [
    {
     "data": {
      "application/vnd.plotly.v1+json": {
       "config": {
        "plotlyServerURL": "https://plot.ly"
       },
       "data": [
        {
         "coloraxis": "coloraxis",
         "hovertemplate": "Country: %{x}<br>Metrics: %{y}<br>color: %{z}<extra></extra>",
         "name": "0",
         "type": "heatmap",
         "x": [
          "United States",
          "China",
          "Japan",
          "Australia",
          "France",
          "Netherlands",
          "Great Britain",
          "South Korea",
          "Italy",
          "Germany",
          "New Zealand",
          "Canada",
          "Uzbekistan",
          "Hungary",
          "Spain",
          "Sweden",
          "Kenya",
          "Norway",
          "Ireland",
          "Brazil",
          "Iran",
          "Ukraine",
          "Romania",
          "Georgia",
          "Belgium",
          "Bulgaria",
          "Serbia",
          "Czech Republic",
          "Denmark",
          "Azerbaijan",
          "Croatia",
          "Cuba",
          "Bahrain",
          "Slovenia",
          "Taiwan",
          "Austria",
          "Hong Kong",
          "Philippines",
          "Algeria",
          "Indonesia",
          "Israel",
          "Poland",
          "Kazakhstan",
          "Jamaica",
          "South Africa",
          "Thailand",
          "Ethiopia",
          "Switzerland",
          "Ecuador",
          "Portugal",
          "Greece",
          "Argentina",
          "Egypt",
          "Tunisia",
          "Botswana",
          "Chile",
          "St Lucia",
          "Uganda",
          "Dominican Republic",
          "Guatemala",
          "Morocco",
          "Dominica",
          "Pakistan",
          "Turkey",
          "Mexico",
          "Armenia",
          "Colombia",
          "North Korea",
          "Kyrgyzstan",
          "Lithuania",
          "India",
          "Moldova",
          "Kosovo",
          "Cyprus",
          "Fiji",
          "Jordan",
          "Mongolia",
          "Panama",
          "Tajikistan",
          "Albania",
          "Grenada",
          "Malaysia",
          "Puerto Rico",
          "Cape Verde",
          "Ivory Coast",
          "Peru",
          "Qatar",
          "Singapore",
          "Slovakia",
          "Zambia"
         ],
         "xaxis": "x",
         "y": [
          "gold",
          "silver",
          "bronze",
          "total",
          "gdp",
          "population"
         ],
         "yaxis": "y",
         "z": [
          [
           40,
           40,
           20,
           18,
           16,
           15,
           14,
           13,
           12,
           12,
           10,
           9,
           8,
           6,
           5,
           4,
           4,
           4,
           4,
           3,
           3,
           3,
           3,
           3,
           3,
           3,
           3,
           3,
           2,
           2,
           2,
           2,
           2,
           2,
           2,
           2,
           2,
           2,
           2,
           2,
           1,
           1,
           1,
           1,
           1,
           1,
           1,
           1,
           1,
           1,
           1,
           1,
           1,
           1,
           1,
           1,
           1,
           1,
           1,
           1,
           1,
           1,
           1,
           0,
           0,
           0,
           0,
           0,
           0,
           0,
           0,
           0,
           0,
           0,
           0,
           0,
           0,
           0,
           0,
           0,
           0,
           0,
           0,
           0,
           0,
           0,
           0,
           0,
           0,
           0
          ],
          [
           44,
           27,
           12,
           19,
           26,
           7,
           22,
           9,
           13,
           13,
           7,
           7,
           2,
           7,
           4,
           4,
           2,
           1,
           0,
           7,
           6,
           5,
           4,
           3,
           1,
           1,
           1,
           0,
           2,
           2,
           2,
           1,
           1,
           1,
           0,
           0,
           0,
           0,
           0,
           0,
           5,
           4,
           3,
           3,
           3,
           3,
           3,
           2,
           2,
           2,
           1,
           1,
           1,
           1,
           1,
           1,
           1,
           1,
           0,
           0,
           0,
           0,
           0,
           3,
           3,
           3,
           3,
           2,
           2,
           2,
           1,
           1,
           1,
           1,
           1,
           1,
           1,
           1,
           0,
           0,
           0,
           0,
           0,
           0,
           0,
           0,
           0,
           0,
           0,
           0
          ],
          [
           42,
           24,
           13,
           16,
           22,
           12,
           29,
           10,
           15,
           8,
           3,
           11,
           3,
           6,
           9,
           3,
           5,
           3,
           3,
           10,
           3,
           4,
           2,
           1,
           6,
           3,
           1,
           2,
           5,
           3,
           3,
           6,
           1,
           0,
           5,
           3,
           2,
           2,
           1,
           1,
           1,
           5,
           3,
           2,
           2,
           2,
           0,
           5,
           2,
           1,
           6,
           1,
           1,
           1,
           0,
           0,
           0,
           0,
           2,
           1,
           1,
           0,
           0,
           5,
           2,
           1,
           1,
           4,
           4,
           2,
           5,
           3,
           1,
           0,
           0,
           0,
           0,
           0,
           3,
           2,
           2,
           2,
           2,
           1,
           1,
           1,
           1,
           1,
           1,
           1
          ],
          [
           126,
           91,
           45,
           53,
           64,
           34,
           65,
           32,
           40,
           33,
           20,
           27,
           13,
           19,
           18,
           11,
           11,
           8,
           7,
           20,
           12,
           12,
           9,
           7,
           10,
           7,
           5,
           5,
           9,
           7,
           7,
           9,
           4,
           3,
           7,
           5,
           4,
           4,
           3,
           3,
           7,
           10,
           7,
           6,
           6,
           6,
           4,
           8,
           5,
           4,
           8,
           3,
           3,
           3,
           2,
           2,
           2,
           2,
           3,
           2,
           2,
           1,
           1,
           8,
           5,
           4,
           4,
           6,
           6,
           4,
           6,
           4,
           2,
           1,
           1,
           1,
           1,
           1,
           3,
           2,
           2,
           2,
           2,
           1,
           1,
           1,
           1,
           1,
           1,
           1
          ],
          [
           81695.19,
           12614.06,
           33834.39,
           64711.77,
           44460.82,
           62536.73,
           48866.6,
           33121.37,
           38373.17,
           52745.76,
           48527.83,
           53371.7,
           2496.11,
           22147.21,
           32676.98,
           56305.25,
           1949.9,
           87961.78,
           103684.88,
           10043.62,
           4502.55,
           5181.36,
           18419.42,
           8120.36,
           53475.29,
           15797.6,
           11360.96,
           30427.42,
           67967.38,
           7155.08,
           21459.78,
           56495.85,
           29084.31,
           32163.51,
           32443.71,
           56505.97,
           50696.59,
           3725.55,
           5260.21,
           4940.55,
           52261.68,
           22112.86,
           13136.62,
           6874.2,
           6253.16,
           7171.81,
           1293.78,
           99994.94,
           6533.35,
           27275.11,
           22990.01,
           13730.51,
           3512.58,
           3895.39,
           7249.8,
           17093.24,
           13980.09,
           1014.21,
           10716.01,
           5797.52,
           3672.11,
           8953.9,
           1407.02,
           12985.75,
           13926.11,
           8715.77,
           6979.73,
           1217,
           1969.87,
           27102.78,
           2484.85,
           6650.65,
           5943.13,
           34701.44,
           5868.16,
           4482.09,
           5764.8,
           18661.77,
           1188.99,
           8367.78,
           10463.65,
           11648.67,
           36779.06,
           4321.58,
           2728.8,
           7789.87,
           87480.42,
           84734.26,
           24470.24,
           1369.13
          ],
          [
           334.9,
           1410.7,
           124.5,
           26.6,
           68.2,
           17.9,
           68.3,
           51.7,
           58.8,
           84.5,
           5.2,
           40.1,
           36.4,
           9.6,
           48.4,
           10.5,
           55.1,
           5.5,
           5.3,
           216.4,
           89.2,
           37,
           19.1,
           3.8,
           11.8,
           6.4,
           6.6,
           10.9,
           5.9,
           10.1,
           3.9,
           11.2,
           1.5,
           2.1,
           23.2,
           9.1,
           7.5,
           117.3,
           45.6,
           277.5,
           9.8,
           36.7,
           19.9,
           2.8,
           60.4,
           71.8,
           126.5,
           8.8,
           18.2,
           10.5,
           10.4,
           46.7,
           112.7,
           12.5,
           2.7,
           19.6,
           0.2,
           48.6,
           11.3,
           17.6,
           37.8,
           0.1,
           240.5,
           85.3,
           128.5,
           2.8,
           52.1,
           26.2,
           7.1,
           2.9,
           1428.6,
           2.5,
           1.8,
           1.3,
           0.9,
           11.3,
           3.4,
           4.5,
           10.1,
           2.7,
           0.1,
           34.3,
           3.2,
           0.6,
           28.9,
           34.4,
           2.7,
           5.9,
           5.4,
           20.6
          ]
         ]
        }
       ],
       "layout": {
        "coloraxis": {
         "colorscale": [
          [
           0,
           "#440154"
          ],
          [
           0.1111111111111111,
           "#482878"
          ],
          [
           0.2222222222222222,
           "#3e4989"
          ],
          [
           0.3333333333333333,
           "#31688e"
          ],
          [
           0.4444444444444444,
           "#26828e"
          ],
          [
           0.5555555555555556,
           "#1f9e89"
          ],
          [
           0.6666666666666666,
           "#35b779"
          ],
          [
           0.7777777777777778,
           "#6ece58"
          ],
          [
           0.8888888888888888,
           "#b5de2b"
          ],
          [
           1,
           "#fde725"
          ]
         ]
        },
        "height": 500,
        "margin": {
         "t": 60
        },
        "template": {
         "data": {
          "bar": [
           {
            "error_x": {
             "color": "#2a3f5f"
            },
            "error_y": {
             "color": "#2a3f5f"
            },
            "marker": {
             "line": {
              "color": "#E5ECF6",
              "width": 0.5
             },
             "pattern": {
              "fillmode": "overlay",
              "size": 10,
              "solidity": 0.2
             }
            },
            "type": "bar"
           }
          ],
          "barpolar": [
           {
            "marker": {
             "line": {
              "color": "#E5ECF6",
              "width": 0.5
             },
             "pattern": {
              "fillmode": "overlay",
              "size": 10,
              "solidity": 0.2
             }
            },
            "type": "barpolar"
           }
          ],
          "carpet": [
           {
            "aaxis": {
             "endlinecolor": "#2a3f5f",
             "gridcolor": "white",
             "linecolor": "white",
             "minorgridcolor": "white",
             "startlinecolor": "#2a3f5f"
            },
            "baxis": {
             "endlinecolor": "#2a3f5f",
             "gridcolor": "white",
             "linecolor": "white",
             "minorgridcolor": "white",
             "startlinecolor": "#2a3f5f"
            },
            "type": "carpet"
           }
          ],
          "choropleth": [
           {
            "colorbar": {
             "outlinewidth": 0,
             "ticks": ""
            },
            "type": "choropleth"
           }
          ],
          "contour": [
           {
            "colorbar": {
             "outlinewidth": 0,
             "ticks": ""
            },
            "colorscale": [
             [
              0,
              "#0d0887"
             ],
             [
              0.1111111111111111,
              "#46039f"
             ],
             [
              0.2222222222222222,
              "#7201a8"
             ],
             [
              0.3333333333333333,
              "#9c179e"
             ],
             [
              0.4444444444444444,
              "#bd3786"
             ],
             [
              0.5555555555555556,
              "#d8576b"
             ],
             [
              0.6666666666666666,
              "#ed7953"
             ],
             [
              0.7777777777777778,
              "#fb9f3a"
             ],
             [
              0.8888888888888888,
              "#fdca26"
             ],
             [
              1,
              "#f0f921"
             ]
            ],
            "type": "contour"
           }
          ],
          "contourcarpet": [
           {
            "colorbar": {
             "outlinewidth": 0,
             "ticks": ""
            },
            "type": "contourcarpet"
           }
          ],
          "heatmap": [
           {
            "colorbar": {
             "outlinewidth": 0,
             "ticks": ""
            },
            "colorscale": [
             [
              0,
              "#0d0887"
             ],
             [
              0.1111111111111111,
              "#46039f"
             ],
             [
              0.2222222222222222,
              "#7201a8"
             ],
             [
              0.3333333333333333,
              "#9c179e"
             ],
             [
              0.4444444444444444,
              "#bd3786"
             ],
             [
              0.5555555555555556,
              "#d8576b"
             ],
             [
              0.6666666666666666,
              "#ed7953"
             ],
             [
              0.7777777777777778,
              "#fb9f3a"
             ],
             [
              0.8888888888888888,
              "#fdca26"
             ],
             [
              1,
              "#f0f921"
             ]
            ],
            "type": "heatmap"
           }
          ],
          "heatmapgl": [
           {
            "colorbar": {
             "outlinewidth": 0,
             "ticks": ""
            },
            "colorscale": [
             [
              0,
              "#0d0887"
             ],
             [
              0.1111111111111111,
              "#46039f"
             ],
             [
              0.2222222222222222,
              "#7201a8"
             ],
             [
              0.3333333333333333,
              "#9c179e"
             ],
             [
              0.4444444444444444,
              "#bd3786"
             ],
             [
              0.5555555555555556,
              "#d8576b"
             ],
             [
              0.6666666666666666,
              "#ed7953"
             ],
             [
              0.7777777777777778,
              "#fb9f3a"
             ],
             [
              0.8888888888888888,
              "#fdca26"
             ],
             [
              1,
              "#f0f921"
             ]
            ],
            "type": "heatmapgl"
           }
          ],
          "histogram": [
           {
            "marker": {
             "pattern": {
              "fillmode": "overlay",
              "size": 10,
              "solidity": 0.2
             }
            },
            "type": "histogram"
           }
          ],
          "histogram2d": [
           {
            "colorbar": {
             "outlinewidth": 0,
             "ticks": ""
            },
            "colorscale": [
             [
              0,
              "#0d0887"
             ],
             [
              0.1111111111111111,
              "#46039f"
             ],
             [
              0.2222222222222222,
              "#7201a8"
             ],
             [
              0.3333333333333333,
              "#9c179e"
             ],
             [
              0.4444444444444444,
              "#bd3786"
             ],
             [
              0.5555555555555556,
              "#d8576b"
             ],
             [
              0.6666666666666666,
              "#ed7953"
             ],
             [
              0.7777777777777778,
              "#fb9f3a"
             ],
             [
              0.8888888888888888,
              "#fdca26"
             ],
             [
              1,
              "#f0f921"
             ]
            ],
            "type": "histogram2d"
           }
          ],
          "histogram2dcontour": [
           {
            "colorbar": {
             "outlinewidth": 0,
             "ticks": ""
            },
            "colorscale": [
             [
              0,
              "#0d0887"
             ],
             [
              0.1111111111111111,
              "#46039f"
             ],
             [
              0.2222222222222222,
              "#7201a8"
             ],
             [
              0.3333333333333333,
              "#9c179e"
             ],
             [
              0.4444444444444444,
              "#bd3786"
             ],
             [
              0.5555555555555556,
              "#d8576b"
             ],
             [
              0.6666666666666666,
              "#ed7953"
             ],
             [
              0.7777777777777778,
              "#fb9f3a"
             ],
             [
              0.8888888888888888,
              "#fdca26"
             ],
             [
              1,
              "#f0f921"
             ]
            ],
            "type": "histogram2dcontour"
           }
          ],
          "mesh3d": [
           {
            "colorbar": {
             "outlinewidth": 0,
             "ticks": ""
            },
            "type": "mesh3d"
           }
          ],
          "parcoords": [
           {
            "line": {
             "colorbar": {
              "outlinewidth": 0,
              "ticks": ""
             }
            },
            "type": "parcoords"
           }
          ],
          "pie": [
           {
            "automargin": true,
            "type": "pie"
           }
          ],
          "scatter": [
           {
            "fillpattern": {
             "fillmode": "overlay",
             "size": 10,
             "solidity": 0.2
            },
            "type": "scatter"
           }
          ],
          "scatter3d": [
           {
            "line": {
             "colorbar": {
              "outlinewidth": 0,
              "ticks": ""
             }
            },
            "marker": {
             "colorbar": {
              "outlinewidth": 0,
              "ticks": ""
             }
            },
            "type": "scatter3d"
           }
          ],
          "scattercarpet": [
           {
            "marker": {
             "colorbar": {
              "outlinewidth": 0,
              "ticks": ""
             }
            },
            "type": "scattercarpet"
           }
          ],
          "scattergeo": [
           {
            "marker": {
             "colorbar": {
              "outlinewidth": 0,
              "ticks": ""
             }
            },
            "type": "scattergeo"
           }
          ],
          "scattergl": [
           {
            "marker": {
             "colorbar": {
              "outlinewidth": 0,
              "ticks": ""
             }
            },
            "type": "scattergl"
           }
          ],
          "scattermapbox": [
           {
            "marker": {
             "colorbar": {
              "outlinewidth": 0,
              "ticks": ""
             }
            },
            "type": "scattermapbox"
           }
          ],
          "scatterpolar": [
           {
            "marker": {
             "colorbar": {
              "outlinewidth": 0,
              "ticks": ""
             }
            },
            "type": "scatterpolar"
           }
          ],
          "scatterpolargl": [
           {
            "marker": {
             "colorbar": {
              "outlinewidth": 0,
              "ticks": ""
             }
            },
            "type": "scatterpolargl"
           }
          ],
          "scatterternary": [
           {
            "marker": {
             "colorbar": {
              "outlinewidth": 0,
              "ticks": ""
             }
            },
            "type": "scatterternary"
           }
          ],
          "surface": [
           {
            "colorbar": {
             "outlinewidth": 0,
             "ticks": ""
            },
            "colorscale": [
             [
              0,
              "#0d0887"
             ],
             [
              0.1111111111111111,
              "#46039f"
             ],
             [
              0.2222222222222222,
              "#7201a8"
             ],
             [
              0.3333333333333333,
              "#9c179e"
             ],
             [
              0.4444444444444444,
              "#bd3786"
             ],
             [
              0.5555555555555556,
              "#d8576b"
             ],
             [
              0.6666666666666666,
              "#ed7953"
             ],
             [
              0.7777777777777778,
              "#fb9f3a"
             ],
             [
              0.8888888888888888,
              "#fdca26"
             ],
             [
              1,
              "#f0f921"
             ]
            ],
            "type": "surface"
           }
          ],
          "table": [
           {
            "cells": {
             "fill": {
              "color": "#EBF0F8"
             },
             "line": {
              "color": "white"
             }
            },
            "header": {
             "fill": {
              "color": "#C8D4E3"
             },
             "line": {
              "color": "white"
             }
            },
            "type": "table"
           }
          ]
         },
         "layout": {
          "annotationdefaults": {
           "arrowcolor": "#2a3f5f",
           "arrowhead": 0,
           "arrowwidth": 1
          },
          "autotypenumbers": "strict",
          "coloraxis": {
           "colorbar": {
            "outlinewidth": 0,
            "ticks": ""
           }
          },
          "colorscale": {
           "diverging": [
            [
             0,
             "#8e0152"
            ],
            [
             0.1,
             "#c51b7d"
            ],
            [
             0.2,
             "#de77ae"
            ],
            [
             0.3,
             "#f1b6da"
            ],
            [
             0.4,
             "#fde0ef"
            ],
            [
             0.5,
             "#f7f7f7"
            ],
            [
             0.6,
             "#e6f5d0"
            ],
            [
             0.7,
             "#b8e186"
            ],
            [
             0.8,
             "#7fbc41"
            ],
            [
             0.9,
             "#4d9221"
            ],
            [
             1,
             "#276419"
            ]
           ],
           "sequential": [
            [
             0,
             "#0d0887"
            ],
            [
             0.1111111111111111,
             "#46039f"
            ],
            [
             0.2222222222222222,
             "#7201a8"
            ],
            [
             0.3333333333333333,
             "#9c179e"
            ],
            [
             0.4444444444444444,
             "#bd3786"
            ],
            [
             0.5555555555555556,
             "#d8576b"
            ],
            [
             0.6666666666666666,
             "#ed7953"
            ],
            [
             0.7777777777777778,
             "#fb9f3a"
            ],
            [
             0.8888888888888888,
             "#fdca26"
            ],
            [
             1,
             "#f0f921"
            ]
           ],
           "sequentialminus": [
            [
             0,
             "#0d0887"
            ],
            [
             0.1111111111111111,
             "#46039f"
            ],
            [
             0.2222222222222222,
             "#7201a8"
            ],
            [
             0.3333333333333333,
             "#9c179e"
            ],
            [
             0.4444444444444444,
             "#bd3786"
            ],
            [
             0.5555555555555556,
             "#d8576b"
            ],
            [
             0.6666666666666666,
             "#ed7953"
            ],
            [
             0.7777777777777778,
             "#fb9f3a"
            ],
            [
             0.8888888888888888,
             "#fdca26"
            ],
            [
             1,
             "#f0f921"
            ]
           ]
          },
          "colorway": [
           "#636efa",
           "#EF553B",
           "#00cc96",
           "#ab63fa",
           "#FFA15A",
           "#19d3f3",
           "#FF6692",
           "#B6E880",
           "#FF97FF",
           "#FECB52"
          ],
          "font": {
           "color": "#2a3f5f"
          },
          "geo": {
           "bgcolor": "white",
           "lakecolor": "white",
           "landcolor": "#E5ECF6",
           "showlakes": true,
           "showland": true,
           "subunitcolor": "white"
          },
          "hoverlabel": {
           "align": "left"
          },
          "hovermode": "closest",
          "mapbox": {
           "style": "light"
          },
          "paper_bgcolor": "white",
          "plot_bgcolor": "#E5ECF6",
          "polar": {
           "angularaxis": {
            "gridcolor": "white",
            "linecolor": "white",
            "ticks": ""
           },
           "bgcolor": "#E5ECF6",
           "radialaxis": {
            "gridcolor": "white",
            "linecolor": "white",
            "ticks": ""
           }
          },
          "scene": {
           "xaxis": {
            "backgroundcolor": "#E5ECF6",
            "gridcolor": "white",
            "gridwidth": 2,
            "linecolor": "white",
            "showbackground": true,
            "ticks": "",
            "zerolinecolor": "white"
           },
           "yaxis": {
            "backgroundcolor": "#E5ECF6",
            "gridcolor": "white",
            "gridwidth": 2,
            "linecolor": "white",
            "showbackground": true,
            "ticks": "",
            "zerolinecolor": "white"
           },
           "zaxis": {
            "backgroundcolor": "#E5ECF6",
            "gridcolor": "white",
            "gridwidth": 2,
            "linecolor": "white",
            "showbackground": true,
            "ticks": "",
            "zerolinecolor": "white"
           }
          },
          "shapedefaults": {
           "line": {
            "color": "#2a3f5f"
           }
          },
          "ternary": {
           "aaxis": {
            "gridcolor": "white",
            "linecolor": "white",
            "ticks": ""
           },
           "baxis": {
            "gridcolor": "white",
            "linecolor": "white",
            "ticks": ""
           },
           "bgcolor": "#E5ECF6",
           "caxis": {
            "gridcolor": "white",
            "linecolor": "white",
            "ticks": ""
           }
          },
          "title": {
           "x": 0.05
          },
          "xaxis": {
           "automargin": true,
           "gridcolor": "white",
           "linecolor": "white",
           "ticks": "",
           "title": {
            "standoff": 15
           },
           "zerolinecolor": "white",
           "zerolinewidth": 2
          },
          "yaxis": {
           "automargin": true,
           "gridcolor": "white",
           "linecolor": "white",
           "ticks": "",
           "title": {
            "standoff": 15
           },
           "zerolinecolor": "white",
           "zerolinewidth": 2
          }
         }
        },
        "title": {
         "text": "Heatmap of Medals and GDP by Country"
        },
        "xaxis": {
         "anchor": "y",
         "constrain": "domain",
         "domain": [
          0,
          1
         ],
         "scaleanchor": "y",
         "title": {
          "text": "Country"
         }
        },
        "yaxis": {
         "anchor": "x",
         "autorange": "reversed",
         "constrain": "domain",
         "domain": [
          0,
          1
         ],
         "title": {
          "text": "Metrics"
         }
        }
       }
      }
     },
     "metadata": {},
     "output_type": "display_data"
    }
   ],
   "source": [
    "\n",
    "# Prepare the data for the heatmap\n",
    "heatmap_data = df[['country', 'gold', 'silver', 'bronze', 'total', 'gdp', 'population']]\n",
    "\n",
    "# Create the heatmap\n",
    "fig = px.imshow(\n",
    "    heatmap_data.set_index('country').T,  # Transpose to get metrics as rows\n",
    "    labels=dict(x='Country', y='Metrics'),\n",
    "    x=heatmap_data['country'],\n",
    "    y=heatmap_data.columns[1:],  # Use all columns except 'country'\n",
    "    color_continuous_scale='Viridis'  # Choose a color scale\n",
    ")\n",
    "\n",
    "# Update layout\n",
    "fig.update_layout(\n",
    "    title='Heatmap of Medals and GDP by Country',\n",
    "    xaxis_title='Country',\n",
    "    yaxis_title='Metrics',\n",
    "    height=500,\n",
    ")\n",
    "\n",
    "# Show the heatmap\n",
    "fig.show()"
   ]
  },
  {
   "cell_type": "markdown",
   "metadata": {},
   "source": [
    "## Correlation Matrix"
   ]
  },
  {
   "cell_type": "code",
   "execution_count": 21,
   "metadata": {},
   "outputs": [
    {
     "data": {
      "application/vnd.plotly.v1+json": {
       "config": {
        "plotlyServerURL": "https://plot.ly"
       },
       "data": [
        {
         "colorbar": {
          "title": {
           "text": "Correlation"
          }
         },
         "colorscale": [
          [
           0,
           "#440154"
          ],
          [
           0.1111111111111111,
           "#482878"
          ],
          [
           0.2222222222222222,
           "#3e4989"
          ],
          [
           0.3333333333333333,
           "#31688e"
          ],
          [
           0.4444444444444444,
           "#26828e"
          ],
          [
           0.5555555555555556,
           "#1f9e89"
          ],
          [
           0.6666666666666666,
           "#35b779"
          ],
          [
           0.7777777777777778,
           "#6ece58"
          ],
          [
           0.8888888888888888,
           "#b5de2b"
          ],
          [
           1,
           "#fde725"
          ]
         ],
         "type": "heatmap",
         "x": [
          "gold",
          "silver",
          "bronze",
          "total",
          "gdp",
          "population"
         ],
         "y": [
          "gold",
          "silver",
          "bronze",
          "total",
          "gdp",
          "population"
         ],
         "z": [
          [
           1,
           0.9106761321550758,
           0.8803328273869804,
           0.9608744175025884,
           0.33139165670488535,
           0.44528290831952017
          ],
          [
           0.9106761321550758,
           1,
           0.9398774317518891,
           0.9797025486993356,
           0.30599329081563803,
           0.3478928507874754
          ],
          [
           0.8803328273869804,
           0.9398774317518891,
           1,
           0.9682939796128063,
           0.37604440049228277,
           0.347595636374135
          ],
          [
           0.9608744175025884,
           0.9797025486993356,
           0.9682939796128063,
           1,
           0.34794157444147733,
           0.393277881401764
          ],
          [
           0.33139165670488535,
           0.30599329081563803,
           0.37604440049228277,
           0.34794157444147733,
           1,
           -0.1121824628913811
          ],
          [
           0.44528290831952017,
           0.3478928507874754,
           0.347595636374135,
           0.393277881401764,
           -0.1121824628913811,
           1
          ]
         ]
        }
       ],
       "layout": {
        "template": {
         "data": {
          "bar": [
           {
            "error_x": {
             "color": "#2a3f5f"
            },
            "error_y": {
             "color": "#2a3f5f"
            },
            "marker": {
             "line": {
              "color": "#E5ECF6",
              "width": 0.5
             },
             "pattern": {
              "fillmode": "overlay",
              "size": 10,
              "solidity": 0.2
             }
            },
            "type": "bar"
           }
          ],
          "barpolar": [
           {
            "marker": {
             "line": {
              "color": "#E5ECF6",
              "width": 0.5
             },
             "pattern": {
              "fillmode": "overlay",
              "size": 10,
              "solidity": 0.2
             }
            },
            "type": "barpolar"
           }
          ],
          "carpet": [
           {
            "aaxis": {
             "endlinecolor": "#2a3f5f",
             "gridcolor": "white",
             "linecolor": "white",
             "minorgridcolor": "white",
             "startlinecolor": "#2a3f5f"
            },
            "baxis": {
             "endlinecolor": "#2a3f5f",
             "gridcolor": "white",
             "linecolor": "white",
             "minorgridcolor": "white",
             "startlinecolor": "#2a3f5f"
            },
            "type": "carpet"
           }
          ],
          "choropleth": [
           {
            "colorbar": {
             "outlinewidth": 0,
             "ticks": ""
            },
            "type": "choropleth"
           }
          ],
          "contour": [
           {
            "colorbar": {
             "outlinewidth": 0,
             "ticks": ""
            },
            "colorscale": [
             [
              0,
              "#0d0887"
             ],
             [
              0.1111111111111111,
              "#46039f"
             ],
             [
              0.2222222222222222,
              "#7201a8"
             ],
             [
              0.3333333333333333,
              "#9c179e"
             ],
             [
              0.4444444444444444,
              "#bd3786"
             ],
             [
              0.5555555555555556,
              "#d8576b"
             ],
             [
              0.6666666666666666,
              "#ed7953"
             ],
             [
              0.7777777777777778,
              "#fb9f3a"
             ],
             [
              0.8888888888888888,
              "#fdca26"
             ],
             [
              1,
              "#f0f921"
             ]
            ],
            "type": "contour"
           }
          ],
          "contourcarpet": [
           {
            "colorbar": {
             "outlinewidth": 0,
             "ticks": ""
            },
            "type": "contourcarpet"
           }
          ],
          "heatmap": [
           {
            "colorbar": {
             "outlinewidth": 0,
             "ticks": ""
            },
            "colorscale": [
             [
              0,
              "#0d0887"
             ],
             [
              0.1111111111111111,
              "#46039f"
             ],
             [
              0.2222222222222222,
              "#7201a8"
             ],
             [
              0.3333333333333333,
              "#9c179e"
             ],
             [
              0.4444444444444444,
              "#bd3786"
             ],
             [
              0.5555555555555556,
              "#d8576b"
             ],
             [
              0.6666666666666666,
              "#ed7953"
             ],
             [
              0.7777777777777778,
              "#fb9f3a"
             ],
             [
              0.8888888888888888,
              "#fdca26"
             ],
             [
              1,
              "#f0f921"
             ]
            ],
            "type": "heatmap"
           }
          ],
          "heatmapgl": [
           {
            "colorbar": {
             "outlinewidth": 0,
             "ticks": ""
            },
            "colorscale": [
             [
              0,
              "#0d0887"
             ],
             [
              0.1111111111111111,
              "#46039f"
             ],
             [
              0.2222222222222222,
              "#7201a8"
             ],
             [
              0.3333333333333333,
              "#9c179e"
             ],
             [
              0.4444444444444444,
              "#bd3786"
             ],
             [
              0.5555555555555556,
              "#d8576b"
             ],
             [
              0.6666666666666666,
              "#ed7953"
             ],
             [
              0.7777777777777778,
              "#fb9f3a"
             ],
             [
              0.8888888888888888,
              "#fdca26"
             ],
             [
              1,
              "#f0f921"
             ]
            ],
            "type": "heatmapgl"
           }
          ],
          "histogram": [
           {
            "marker": {
             "pattern": {
              "fillmode": "overlay",
              "size": 10,
              "solidity": 0.2
             }
            },
            "type": "histogram"
           }
          ],
          "histogram2d": [
           {
            "colorbar": {
             "outlinewidth": 0,
             "ticks": ""
            },
            "colorscale": [
             [
              0,
              "#0d0887"
             ],
             [
              0.1111111111111111,
              "#46039f"
             ],
             [
              0.2222222222222222,
              "#7201a8"
             ],
             [
              0.3333333333333333,
              "#9c179e"
             ],
             [
              0.4444444444444444,
              "#bd3786"
             ],
             [
              0.5555555555555556,
              "#d8576b"
             ],
             [
              0.6666666666666666,
              "#ed7953"
             ],
             [
              0.7777777777777778,
              "#fb9f3a"
             ],
             [
              0.8888888888888888,
              "#fdca26"
             ],
             [
              1,
              "#f0f921"
             ]
            ],
            "type": "histogram2d"
           }
          ],
          "histogram2dcontour": [
           {
            "colorbar": {
             "outlinewidth": 0,
             "ticks": ""
            },
            "colorscale": [
             [
              0,
              "#0d0887"
             ],
             [
              0.1111111111111111,
              "#46039f"
             ],
             [
              0.2222222222222222,
              "#7201a8"
             ],
             [
              0.3333333333333333,
              "#9c179e"
             ],
             [
              0.4444444444444444,
              "#bd3786"
             ],
             [
              0.5555555555555556,
              "#d8576b"
             ],
             [
              0.6666666666666666,
              "#ed7953"
             ],
             [
              0.7777777777777778,
              "#fb9f3a"
             ],
             [
              0.8888888888888888,
              "#fdca26"
             ],
             [
              1,
              "#f0f921"
             ]
            ],
            "type": "histogram2dcontour"
           }
          ],
          "mesh3d": [
           {
            "colorbar": {
             "outlinewidth": 0,
             "ticks": ""
            },
            "type": "mesh3d"
           }
          ],
          "parcoords": [
           {
            "line": {
             "colorbar": {
              "outlinewidth": 0,
              "ticks": ""
             }
            },
            "type": "parcoords"
           }
          ],
          "pie": [
           {
            "automargin": true,
            "type": "pie"
           }
          ],
          "scatter": [
           {
            "fillpattern": {
             "fillmode": "overlay",
             "size": 10,
             "solidity": 0.2
            },
            "type": "scatter"
           }
          ],
          "scatter3d": [
           {
            "line": {
             "colorbar": {
              "outlinewidth": 0,
              "ticks": ""
             }
            },
            "marker": {
             "colorbar": {
              "outlinewidth": 0,
              "ticks": ""
             }
            },
            "type": "scatter3d"
           }
          ],
          "scattercarpet": [
           {
            "marker": {
             "colorbar": {
              "outlinewidth": 0,
              "ticks": ""
             }
            },
            "type": "scattercarpet"
           }
          ],
          "scattergeo": [
           {
            "marker": {
             "colorbar": {
              "outlinewidth": 0,
              "ticks": ""
             }
            },
            "type": "scattergeo"
           }
          ],
          "scattergl": [
           {
            "marker": {
             "colorbar": {
              "outlinewidth": 0,
              "ticks": ""
             }
            },
            "type": "scattergl"
           }
          ],
          "scattermapbox": [
           {
            "marker": {
             "colorbar": {
              "outlinewidth": 0,
              "ticks": ""
             }
            },
            "type": "scattermapbox"
           }
          ],
          "scatterpolar": [
           {
            "marker": {
             "colorbar": {
              "outlinewidth": 0,
              "ticks": ""
             }
            },
            "type": "scatterpolar"
           }
          ],
          "scatterpolargl": [
           {
            "marker": {
             "colorbar": {
              "outlinewidth": 0,
              "ticks": ""
             }
            },
            "type": "scatterpolargl"
           }
          ],
          "scatterternary": [
           {
            "marker": {
             "colorbar": {
              "outlinewidth": 0,
              "ticks": ""
             }
            },
            "type": "scatterternary"
           }
          ],
          "surface": [
           {
            "colorbar": {
             "outlinewidth": 0,
             "ticks": ""
            },
            "colorscale": [
             [
              0,
              "#0d0887"
             ],
             [
              0.1111111111111111,
              "#46039f"
             ],
             [
              0.2222222222222222,
              "#7201a8"
             ],
             [
              0.3333333333333333,
              "#9c179e"
             ],
             [
              0.4444444444444444,
              "#bd3786"
             ],
             [
              0.5555555555555556,
              "#d8576b"
             ],
             [
              0.6666666666666666,
              "#ed7953"
             ],
             [
              0.7777777777777778,
              "#fb9f3a"
             ],
             [
              0.8888888888888888,
              "#fdca26"
             ],
             [
              1,
              "#f0f921"
             ]
            ],
            "type": "surface"
           }
          ],
          "table": [
           {
            "cells": {
             "fill": {
              "color": "#EBF0F8"
             },
             "line": {
              "color": "white"
             }
            },
            "header": {
             "fill": {
              "color": "#C8D4E3"
             },
             "line": {
              "color": "white"
             }
            },
            "type": "table"
           }
          ]
         },
         "layout": {
          "annotationdefaults": {
           "arrowcolor": "#2a3f5f",
           "arrowhead": 0,
           "arrowwidth": 1
          },
          "autotypenumbers": "strict",
          "coloraxis": {
           "colorbar": {
            "outlinewidth": 0,
            "ticks": ""
           }
          },
          "colorscale": {
           "diverging": [
            [
             0,
             "#8e0152"
            ],
            [
             0.1,
             "#c51b7d"
            ],
            [
             0.2,
             "#de77ae"
            ],
            [
             0.3,
             "#f1b6da"
            ],
            [
             0.4,
             "#fde0ef"
            ],
            [
             0.5,
             "#f7f7f7"
            ],
            [
             0.6,
             "#e6f5d0"
            ],
            [
             0.7,
             "#b8e186"
            ],
            [
             0.8,
             "#7fbc41"
            ],
            [
             0.9,
             "#4d9221"
            ],
            [
             1,
             "#276419"
            ]
           ],
           "sequential": [
            [
             0,
             "#0d0887"
            ],
            [
             0.1111111111111111,
             "#46039f"
            ],
            [
             0.2222222222222222,
             "#7201a8"
            ],
            [
             0.3333333333333333,
             "#9c179e"
            ],
            [
             0.4444444444444444,
             "#bd3786"
            ],
            [
             0.5555555555555556,
             "#d8576b"
            ],
            [
             0.6666666666666666,
             "#ed7953"
            ],
            [
             0.7777777777777778,
             "#fb9f3a"
            ],
            [
             0.8888888888888888,
             "#fdca26"
            ],
            [
             1,
             "#f0f921"
            ]
           ],
           "sequentialminus": [
            [
             0,
             "#0d0887"
            ],
            [
             0.1111111111111111,
             "#46039f"
            ],
            [
             0.2222222222222222,
             "#7201a8"
            ],
            [
             0.3333333333333333,
             "#9c179e"
            ],
            [
             0.4444444444444444,
             "#bd3786"
            ],
            [
             0.5555555555555556,
             "#d8576b"
            ],
            [
             0.6666666666666666,
             "#ed7953"
            ],
            [
             0.7777777777777778,
             "#fb9f3a"
            ],
            [
             0.8888888888888888,
             "#fdca26"
            ],
            [
             1,
             "#f0f921"
            ]
           ]
          },
          "colorway": [
           "#636efa",
           "#EF553B",
           "#00cc96",
           "#ab63fa",
           "#FFA15A",
           "#19d3f3",
           "#FF6692",
           "#B6E880",
           "#FF97FF",
           "#FECB52"
          ],
          "font": {
           "color": "#2a3f5f"
          },
          "geo": {
           "bgcolor": "white",
           "lakecolor": "white",
           "landcolor": "#E5ECF6",
           "showlakes": true,
           "showland": true,
           "subunitcolor": "white"
          },
          "hoverlabel": {
           "align": "left"
          },
          "hovermode": "closest",
          "mapbox": {
           "style": "light"
          },
          "paper_bgcolor": "white",
          "plot_bgcolor": "#E5ECF6",
          "polar": {
           "angularaxis": {
            "gridcolor": "white",
            "linecolor": "white",
            "ticks": ""
           },
           "bgcolor": "#E5ECF6",
           "radialaxis": {
            "gridcolor": "white",
            "linecolor": "white",
            "ticks": ""
           }
          },
          "scene": {
           "xaxis": {
            "backgroundcolor": "#E5ECF6",
            "gridcolor": "white",
            "gridwidth": 2,
            "linecolor": "white",
            "showbackground": true,
            "ticks": "",
            "zerolinecolor": "white"
           },
           "yaxis": {
            "backgroundcolor": "#E5ECF6",
            "gridcolor": "white",
            "gridwidth": 2,
            "linecolor": "white",
            "showbackground": true,
            "ticks": "",
            "zerolinecolor": "white"
           },
           "zaxis": {
            "backgroundcolor": "#E5ECF6",
            "gridcolor": "white",
            "gridwidth": 2,
            "linecolor": "white",
            "showbackground": true,
            "ticks": "",
            "zerolinecolor": "white"
           }
          },
          "shapedefaults": {
           "line": {
            "color": "#2a3f5f"
           }
          },
          "ternary": {
           "aaxis": {
            "gridcolor": "white",
            "linecolor": "white",
            "ticks": ""
           },
           "baxis": {
            "gridcolor": "white",
            "linecolor": "white",
            "ticks": ""
           },
           "bgcolor": "#E5ECF6",
           "caxis": {
            "gridcolor": "white",
            "linecolor": "white",
            "ticks": ""
           }
          },
          "title": {
           "x": 0.05
          },
          "xaxis": {
           "automargin": true,
           "gridcolor": "white",
           "linecolor": "white",
           "ticks": "",
           "title": {
            "standoff": 15
           },
           "zerolinecolor": "white",
           "zerolinewidth": 2
          },
          "yaxis": {
           "automargin": true,
           "gridcolor": "white",
           "linecolor": "white",
           "ticks": "",
           "title": {
            "standoff": 15
           },
           "zerolinecolor": "white",
           "zerolinewidth": 2
          }
         }
        },
        "title": {
         "text": "Correlation Matrix"
        },
        "xaxis": {
         "title": {
          "text": "Variables"
         }
        },
        "yaxis": {
         "title": {
          "text": "Variables"
         }
        }
       }
      }
     },
     "metadata": {},
     "output_type": "display_data"
    }
   ],
   "source": [
    "correlation_matrix = df[['gold', 'silver', 'bronze', 'total', 'gdp', 'population']].corr()\n",
    "\n",
    "fig = go.Figure(data=go.Heatmap(\n",
    "    z=correlation_matrix.values,\n",
    "    x=correlation_matrix.columns.tolist(),\n",
    "    y=correlation_matrix.index.tolist(),\n",
    "    colorscale='Viridis',  \n",
    "    colorbar=dict(title='Correlation'),\n",
    "))\n",
    "\n",
    "fig.update_layout(\n",
    "    title='Correlation Matrix',\n",
    "    xaxis_title='Variables',\n",
    "    yaxis_title='Variables',\n",
    ")\n",
    "\n",
    "fig.show()"
   ]
  }
 ],
 "metadata": {
  "kernelspec": {
   "display_name": "Python 3",
   "language": "python",
   "name": "python3"
  },
  "language_info": {
   "codemirror_mode": {
    "name": "ipython",
    "version": 3
   },
   "file_extension": ".py",
   "mimetype": "text/x-python",
   "name": "python",
   "nbconvert_exporter": "python",
   "pygments_lexer": "ipython3",
   "version": "3.12.3"
  }
 },
 "nbformat": 4,
 "nbformat_minor": 2
}
