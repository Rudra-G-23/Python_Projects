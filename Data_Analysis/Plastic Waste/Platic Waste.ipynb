{
 "cells": [
  {
   "cell_type": "markdown",
   "metadata": {},
   "source": [
    "<div style=\"font-family: 'Arial', sans-serif; font-size: 72px; background-color: #5a189a; color: #ffffff; padding: 20px; border-radius: 20px; text-align: center; box-shadow: 0 4px 10px rgba(0, 0, 0, 0.2);\">\n",
    "    About the Author 🧑‍💻\n",
    "</div>\n",
    "\n",
    "<div style=\"padding: 40px; max-width: 1000px; margin: 40px auto; background-color: #f9f9f9; border-radius: 15px; box-shadow: 0 4px 20px rgba(0, 0, 0, 0.1);\">\n",
    "    <p style=\"font-size: 130%; line-height: 1.8; color: #444;\">\n",
    "        Hello, Data Enthusiasts! 👋<br>\n",
    "        I'm <b style=\"color: #4682B4;\">Rudra Prasad Bhuyan</b>, a passionate Data Analyst on a mission to master the art of transforming raw data into valuable insights that drive decision-making and foster business growth.\n",
    "    </p>\n",
    "</div>\n",
    "\n",
    "<div style=\"text-align: center; padding: 20px; margin-top: 30px;\">\n",
    "    <p style=\"font-size: 120%; color: #444; line-height: 1.6;\">\n",
    "        Let’s connect and create amazing things together! <br>\n",
    "        Reach out to me on \n",
    "        <a href=\"https://www.linkedin.com/in/rudra-prasad-bhuyan-44a388235/\" target=\"_blank\" style=\"color: #0073b1; font-weight: bold; text-decoration: none;\">LinkedIn</a>, \n",
    "        check out my projects on \n",
    "        <a href=\"https://github.com/Rudra-G-23\" target=\"_blank\" style=\"color: #000; font-weight: bold; text-decoration: none;\">GitHub</a>, \n",
    "        or email me at \n",
    "        <a href=\"mailto:rudraprasadbhuyan999@gmail.com\" style=\"color: #D44638; font-weight: bold; text-decoration: none;\">rudraprasadbhuyan999@gmail.com</a>. <br>\n",
    "        I'm always excited to explore new opportunities, collaborate, or discuss all things data! 🧑‍💻😄\n",
    "    </p>\n",
    "</div>\n"
   ]
  },
  {
   "cell_type": "markdown",
   "metadata": {},
   "source": [
    "<div style=\"font-family: Arial, sans-serif; font-size: 69px; background-color: #5a189a; color: #ffffff; padding: 7px 15px; text-decoration: none; border-radius: 15px; text-align: center;\">Table of Content </div>"
   ]
  },
  {
   "cell_type": "markdown",
   "metadata": {},
   "source": [
    "# Table of Contents\n",
    "1. [📊 Understand the Data](#understand-the-data)\n",
    "2. [🧹 Data Cleaning](#data-cleaning)\n",
    "   1. [Best practice](#best-practice)\n",
    "   2. [Auto generate the graph for more fast & speed up Analysis](#best-practice)\n",
    "   3. [More details and fast Analysis use dtable libraries](#best-practice)\n",
    "3. [🔍 Analysis](#analysis)\n",
    "   1. [Correlation  Matrix ](#31)\n",
    "   2. [ Plastic Waste Metrics by Country](#32)\n",
    "   3. [Main Sources reason](#33)\n",
    "   4. [Main Sources and Coastal Waste Risk](#34)\n",
    "   5. [Box plot of Main sources](#35)\n",
    "   6. [Recycling rate of Coastal Waste](#36)\n",
    "4. [📈 Conclusion](#conclusion)\n"
   ]
  },
  {
   "cell_type": "markdown",
   "metadata": {},
   "source": [
    "<a id=\"understand-the-data\"></a>\n",
    "<div style=\"background-color: #48cae4; border-radius: 15px; padding: 20px; text-align: left;\">\n",
    "    <h1 style=\"margin: 0;\">\n",
    "        <b>\n",
    "            <span style=\"color: Black;\">Chapter One</span>\n",
    "            <span style=\"color: #ffffff;\">|</span>\n",
    "            <span style=\"color: #FEEC37;\"> Understand the Data 📊\n",
    "            </span>\n",
    "        </b>\n",
    "    </h1>\n",
    "    <br>\n",
    "    <a href=\"#table-of-contents\" style=\"font-family: Arial, sans-serif; font-size: 20px; background-color: #7b2cbf; color: #ffffff; padding: 7px 15px; text-decoration: none; border-radius: 15px;\">\n",
    "        [Table of Content 📜⬆️]\n",
    "    </a>\n",
    "</div>\n"
   ]
  },
  {
   "cell_type": "markdown",
   "metadata": {},
   "source": [
    "<a  style=\"font-family: Arial, sans-serif; font-size: 20px; background-color: #7b2cbf; color: #ffffff; padding: 7px 15px; text-decoration: none; border-radius: 15px;\">\n",
    "⭐ install all libraries \n",
    "<a>"
   ]
  },
  {
   "cell_type": "code",
   "execution_count": 3,
   "metadata": {},
   "outputs": [
    {
     "data": {
      "text/plain": [
       "'\\n!pip install numpy pandas matplotlib seaborn plotly missingno dtable autoviz\\n'"
      ]
     },
     "execution_count": 3,
     "metadata": {},
     "output_type": "execute_result"
    }
   ],
   "source": [
    "'''\n",
    "!pip install numpy pandas matplotlib seaborn plotly missingno dtable autoviz skimpy\n",
    "'''"
   ]
  },
  {
   "cell_type": "code",
   "execution_count": 1,
   "metadata": {},
   "outputs": [],
   "source": [
    "# import  Basic libraries \n",
    "import os\n",
    "import datetime as dt\n",
    "\n",
    "# import necessary data wrangling libraries \n",
    "import numpy as np  \n",
    "import pandas as pd\n",
    "\n",
    "# import fundamental libraries of viz\n",
    "import matplotlib.pyplot as plt\n",
    "import seaborn as sns\n",
    "\n",
    "# import advance libraries for dynamic graphs\n",
    "import plotly.express as px  \n",
    "import plotly.graph_objects as go  \n",
    "import plotly.figure_factory as ff\n",
    "from plotly.subplots import make_subplots\n",
    "\n",
    "# import some extra libraries for fast and advance analysis \n",
    "import missingno as msno\n",
    "from skimpy import skim\n",
    "import dtable\n",
    "\n",
    "# Remove warnings \n",
    "import warnings\n",
    "warnings.filterwarnings('ignore')"
   ]
  },
  {
   "cell_type": "code",
   "execution_count": 2,
   "metadata": {},
   "outputs": [
    {
     "data": {
      "text/html": [
       "<div>\n",
       "<style scoped>\n",
       "    .dataframe tbody tr th:only-of-type {\n",
       "        vertical-align: middle;\n",
       "    }\n",
       "\n",
       "    .dataframe tbody tr th {\n",
       "        vertical-align: top;\n",
       "    }\n",
       "\n",
       "    .dataframe thead th {\n",
       "        text-align: right;\n",
       "    }\n",
       "</style>\n",
       "<table border=\"1\" class=\"dataframe\">\n",
       "  <thead>\n",
       "    <tr style=\"text-align: right;\">\n",
       "      <th></th>\n",
       "      <th>Country</th>\n",
       "      <th>Total_Plastic_Waste_MT</th>\n",
       "      <th>Main_Sources</th>\n",
       "      <th>Recycling_Rate</th>\n",
       "      <th>Per_Capita_Waste_KG</th>\n",
       "      <th>Coastal_Waste_Risk</th>\n",
       "    </tr>\n",
       "  </thead>\n",
       "  <tbody>\n",
       "    <tr>\n",
       "      <th>108</th>\n",
       "      <td>Comoros</td>\n",
       "      <td>0.02</td>\n",
       "      <td>Consumer_Packaging</td>\n",
       "      <td>0.4</td>\n",
       "      <td>22.7</td>\n",
       "      <td>High</td>\n",
       "    </tr>\n",
       "    <tr>\n",
       "      <th>98</th>\n",
       "      <td>Malawi</td>\n",
       "      <td>0.19</td>\n",
       "      <td>Consumer_Packaging</td>\n",
       "      <td>0.5</td>\n",
       "      <td>9.7</td>\n",
       "      <td>Low</td>\n",
       "    </tr>\n",
       "    <tr>\n",
       "      <th>96</th>\n",
       "      <td>Rwanda</td>\n",
       "      <td>0.23</td>\n",
       "      <td>Consumer_Packaging</td>\n",
       "      <td>11.2</td>\n",
       "      <td>17.4</td>\n",
       "      <td>Low</td>\n",
       "    </tr>\n",
       "    <tr>\n",
       "      <th>16</th>\n",
       "      <td>Vietnam</td>\n",
       "      <td>2.54</td>\n",
       "      <td>Food_Packaging</td>\n",
       "      <td>15.3</td>\n",
       "      <td>25.8</td>\n",
       "      <td>Very_High</td>\n",
       "    </tr>\n",
       "    <tr>\n",
       "      <th>15</th>\n",
       "      <td>Spain</td>\n",
       "      <td>2.58</td>\n",
       "      <td>Consumer_Packaging</td>\n",
       "      <td>37.8</td>\n",
       "      <td>54.9</td>\n",
       "      <td>Medium</td>\n",
       "    </tr>\n",
       "    <tr>\n",
       "      <th>119</th>\n",
       "      <td>Togo</td>\n",
       "      <td>0.07</td>\n",
       "      <td>Consumer_Packaging</td>\n",
       "      <td>0.8</td>\n",
       "      <td>8.3</td>\n",
       "      <td>High</td>\n",
       "    </tr>\n",
       "    <tr>\n",
       "      <th>41</th>\n",
       "      <td>Finland</td>\n",
       "      <td>1.33</td>\n",
       "      <td>Industrial_Packaging</td>\n",
       "      <td>42.1</td>\n",
       "      <td>240.2</td>\n",
       "      <td>Low</td>\n",
       "    </tr>\n",
       "  </tbody>\n",
       "</table>\n",
       "</div>"
      ],
      "text/plain": [
       "     Country  Total_Plastic_Waste_MT          Main_Sources  Recycling_Rate  \\\n",
       "108  Comoros                    0.02    Consumer_Packaging             0.4   \n",
       "98    Malawi                    0.19    Consumer_Packaging             0.5   \n",
       "96    Rwanda                    0.23    Consumer_Packaging            11.2   \n",
       "16   Vietnam                    2.54        Food_Packaging            15.3   \n",
       "15     Spain                    2.58    Consumer_Packaging            37.8   \n",
       "119     Togo                    0.07    Consumer_Packaging             0.8   \n",
       "41   Finland                    1.33  Industrial_Packaging            42.1   \n",
       "\n",
       "     Per_Capita_Waste_KG Coastal_Waste_Risk  \n",
       "108                 22.7               High  \n",
       "98                   9.7                Low  \n",
       "96                  17.4                Low  \n",
       "16                  25.8          Very_High  \n",
       "15                  54.9             Medium  \n",
       "119                  8.3               High  \n",
       "41                 240.2                Low  "
      ]
     },
     "execution_count": 2,
     "metadata": {},
     "output_type": "execute_result"
    }
   ],
   "source": [
    "source = r'C:\\Users\\Rudra\\Downloads\\Python_Pandas_profiling\\Plastic Waste\\Plastic Waste Around the World.csv'\n",
    "df = pd.read_csv(source, encoding= 'unicode_escape')\n",
    "df.sample(7)"
   ]
  },
  {
   "cell_type": "code",
   "execution_count": 3,
   "metadata": {},
   "outputs": [
    {
     "name": "stdout",
     "output_type": "stream",
     "text": [
      "The size of the DataFrame: 990 \n",
      "\n",
      "The Shape of the DataFrame (165, 6) \n",
      "\n",
      "Available columns in the DataFrame: Index(['Country', 'Total_Plastic_Waste_MT', 'Main_Sources', 'Recycling_Rate',\n",
      "       'Per_Capita_Waste_KG', 'Coastal_Waste_Risk'],\n",
      "      dtype='object')\n",
      "\n",
      "Estimated memory size: 0.03 MB\n"
     ]
    }
   ],
   "source": [
    "print(\"The size of the DataFrame:\",df.size, '\\n')\n",
    "print('The Shape of the DataFrame', df.shape, '\\n')\n",
    "print(\"Available columns in the DataFrame:\", df.columns)\n",
    "\n",
    "# Calculate memory usage of the DataFrame\n",
    "memory_size = df.memory_usage(deep=True).sum()\n",
    "memory_size_mb = memory_size / (1024 ** 2)\n",
    "print(f\"\\nEstimated memory size: {memory_size_mb:.2f} MB\")\n"
   ]
  },
  {
   "cell_type": "code",
   "execution_count": 4,
   "metadata": {},
   "outputs": [
    {
     "name": "stdout",
     "output_type": "stream",
     "text": [
      "<class 'pandas.core.frame.DataFrame'>\n",
      "RangeIndex: 165 entries, 0 to 164\n",
      "Data columns (total 6 columns):\n",
      " #   Column                  Non-Null Count  Dtype  \n",
      "---  ------                  --------------  -----  \n",
      " 0   Country                 165 non-null    object \n",
      " 1   Total_Plastic_Waste_MT  165 non-null    float64\n",
      " 2   Main_Sources            165 non-null    object \n",
      " 3   Recycling_Rate          165 non-null    float64\n",
      " 4   Per_Capita_Waste_KG     165 non-null    float64\n",
      " 5   Coastal_Waste_Risk      165 non-null    object \n",
      "dtypes: float64(3), object(3)\n",
      "memory usage: 7.9+ KB\n"
     ]
    }
   ],
   "source": [
    "df.info(verbose=True)"
   ]
  },
  {
   "cell_type": "code",
   "execution_count": 5,
   "metadata": {},
   "outputs": [
    {
     "data": {
      "text/html": [
       "<div>\n",
       "<style scoped>\n",
       "    .dataframe tbody tr th:only-of-type {\n",
       "        vertical-align: middle;\n",
       "    }\n",
       "\n",
       "    .dataframe tbody tr th {\n",
       "        vertical-align: top;\n",
       "    }\n",
       "\n",
       "    .dataframe thead th {\n",
       "        text-align: right;\n",
       "    }\n",
       "</style>\n",
       "<table border=\"1\" class=\"dataframe\">\n",
       "  <thead>\n",
       "    <tr style=\"text-align: right;\">\n",
       "      <th></th>\n",
       "      <th>count</th>\n",
       "      <th>unique</th>\n",
       "      <th>top</th>\n",
       "      <th>freq</th>\n",
       "      <th>mean</th>\n",
       "      <th>std</th>\n",
       "      <th>min</th>\n",
       "      <th>25%</th>\n",
       "      <th>50%</th>\n",
       "      <th>75%</th>\n",
       "      <th>max</th>\n",
       "    </tr>\n",
       "  </thead>\n",
       "  <tbody>\n",
       "    <tr>\n",
       "      <th>Country</th>\n",
       "      <td>165</td>\n",
       "      <td>165</td>\n",
       "      <td>China</td>\n",
       "      <td>1</td>\n",
       "      <td>NaN</td>\n",
       "      <td>NaN</td>\n",
       "      <td>NaN</td>\n",
       "      <td>NaN</td>\n",
       "      <td>NaN</td>\n",
       "      <td>NaN</td>\n",
       "      <td>NaN</td>\n",
       "    </tr>\n",
       "    <tr>\n",
       "      <th>Total_Plastic_Waste_MT</th>\n",
       "      <td>165.0</td>\n",
       "      <td>NaN</td>\n",
       "      <td>NaN</td>\n",
       "      <td>NaN</td>\n",
       "      <td>1.723515</td>\n",
       "      <td>6.001944</td>\n",
       "      <td>0.01</td>\n",
       "      <td>0.12</td>\n",
       "      <td>0.51</td>\n",
       "      <td>1.33</td>\n",
       "      <td>59.08</td>\n",
       "    </tr>\n",
       "    <tr>\n",
       "      <th>Main_Sources</th>\n",
       "      <td>165</td>\n",
       "      <td>10</td>\n",
       "      <td>Consumer_Packaging</td>\n",
       "      <td>131</td>\n",
       "      <td>NaN</td>\n",
       "      <td>NaN</td>\n",
       "      <td>NaN</td>\n",
       "      <td>NaN</td>\n",
       "      <td>NaN</td>\n",
       "      <td>NaN</td>\n",
       "      <td>NaN</td>\n",
       "    </tr>\n",
       "    <tr>\n",
       "      <th>Recycling_Rate</th>\n",
       "      <td>165.0</td>\n",
       "      <td>NaN</td>\n",
       "      <td>NaN</td>\n",
       "      <td>NaN</td>\n",
       "      <td>13.096364</td>\n",
       "      <td>16.687354</td>\n",
       "      <td>0.1</td>\n",
       "      <td>1.2</td>\n",
       "      <td>5.4</td>\n",
       "      <td>16.4</td>\n",
       "      <td>84.8</td>\n",
       "    </tr>\n",
       "    <tr>\n",
       "      <th>Per_Capita_Waste_KG</th>\n",
       "      <td>165.0</td>\n",
       "      <td>NaN</td>\n",
       "      <td>NaN</td>\n",
       "      <td>NaN</td>\n",
       "      <td>122.255152</td>\n",
       "      <td>222.849695</td>\n",
       "      <td>2.6</td>\n",
       "      <td>17.3</td>\n",
       "      <td>54.9</td>\n",
       "      <td>127.5</td>\n",
       "      <td>1564.4</td>\n",
       "    </tr>\n",
       "    <tr>\n",
       "      <th>Coastal_Waste_Risk</th>\n",
       "      <td>165</td>\n",
       "      <td>4</td>\n",
       "      <td>High</td>\n",
       "      <td>74</td>\n",
       "      <td>NaN</td>\n",
       "      <td>NaN</td>\n",
       "      <td>NaN</td>\n",
       "      <td>NaN</td>\n",
       "      <td>NaN</td>\n",
       "      <td>NaN</td>\n",
       "      <td>NaN</td>\n",
       "    </tr>\n",
       "  </tbody>\n",
       "</table>\n",
       "</div>"
      ],
      "text/plain": [
       "                        count unique                 top freq        mean  \\\n",
       "Country                   165    165               China    1         NaN   \n",
       "Total_Plastic_Waste_MT  165.0    NaN                 NaN  NaN    1.723515   \n",
       "Main_Sources              165     10  Consumer_Packaging  131         NaN   \n",
       "Recycling_Rate          165.0    NaN                 NaN  NaN   13.096364   \n",
       "Per_Capita_Waste_KG     165.0    NaN                 NaN  NaN  122.255152   \n",
       "Coastal_Waste_Risk        165      4                High   74         NaN   \n",
       "\n",
       "                               std   min   25%   50%    75%     max  \n",
       "Country                        NaN   NaN   NaN   NaN    NaN     NaN  \n",
       "Total_Plastic_Waste_MT    6.001944  0.01  0.12  0.51   1.33   59.08  \n",
       "Main_Sources                   NaN   NaN   NaN   NaN    NaN     NaN  \n",
       "Recycling_Rate           16.687354   0.1   1.2   5.4   16.4    84.8  \n",
       "Per_Capita_Waste_KG     222.849695   2.6  17.3  54.9  127.5  1564.4  \n",
       "Coastal_Waste_Risk             NaN   NaN   NaN   NaN    NaN     NaN  "
      ]
     },
     "execution_count": 5,
     "metadata": {},
     "output_type": "execute_result"
    }
   ],
   "source": [
    "df.describe(include='all').T"
   ]
  },
  {
   "cell_type": "markdown",
   "metadata": {},
   "source": [
    "\n",
    "<a id=\"data-cleaning\"></a>\n",
    "<div style=\"background-color: #48cae4; border-radius: 15px; padding: 20px; text-align: left;\">\n",
    "    <h1 style=\"margin: 0;\">\n",
    "        <b>\n",
    "            <span style=\"color: Black;\">Chapter Two</span>\n",
    "            <span style=\"color: #ffffff;\">|</span>\n",
    "            <span style=\"color: #FEEC37;\"> Data Cleaning 🧹\n",
    "            </span>\n",
    "        </b>\n",
    "    </h1>\n",
    "    <br>\n",
    "    <a href=\"#table-of-contents\" style=\"font-family: Arial, sans-serif; font-size: 20px; background-color: #7b2cbf; color: #ffffff; padding: 7px 15px; text-decoration: none; border-radius: 15px;\">\n",
    "        [Table of Content 📜⬆️]\n",
    "    </a>\n",
    "</div>\n"
   ]
  },
  {
   "cell_type": "code",
   "execution_count": 6,
   "metadata": {},
   "outputs": [
    {
     "data": {
      "text/plain": [
       "0"
      ]
     },
     "execution_count": 6,
     "metadata": {},
     "output_type": "execute_result"
    }
   ],
   "source": [
    "df.duplicated().sum()"
   ]
  },
  {
   "cell_type": "code",
   "execution_count": 7,
   "metadata": {},
   "outputs": [
    {
     "data": {
      "text/plain": [
       "Country                   0\n",
       "Total_Plastic_Waste_MT    0\n",
       "Main_Sources              0\n",
       "Recycling_Rate            0\n",
       "Per_Capita_Waste_KG       0\n",
       "Coastal_Waste_Risk        0\n",
       "dtype: int64"
      ]
     },
     "execution_count": 7,
     "metadata": {},
     "output_type": "execute_result"
    }
   ],
   "source": [
    "df.isnull().sum()"
   ]
  },
  {
   "cell_type": "code",
   "execution_count": 8,
   "metadata": {},
   "outputs": [
    {
     "data": {
      "text/plain": [
       "<Axes: >"
      ]
     },
     "execution_count": 8,
     "metadata": {},
     "output_type": "execute_result"
    },
    {
     "data": {
      "image/png": "[encoded data removed]",
      "text/plain": [
       "<Figure size 2500x1000 with 2 Axes>"
      ]
     },
     "metadata": {},
     "output_type": "display_data"
    }
   ],
   "source": [
    "msno.matrix(df)"
   ]
  },
  {
   "cell_type": "markdown",
   "metadata": {},
   "source": [
    "<a id=\"best-practice\"></a>\n",
    "<div style=\"background-color: #48cae4; border-radius: 15px; padding: 20px; text-align: left;\">\n",
    "<p style=\"color: Black;\">\n",
    "   ⭐ <b>Best Practices <b>\n",
    "   <pre  style=\"color: Black; font-size: 20px;\">\n",
    "   1.Before clean the data have a copy of Original Data.\n",
    "\n",
    "   </pre>\n",
    "</p>\n",
    "    <a href=\"#table-of-contents\" style=\"font-family: Arial, sans-serif; font-size: 20px; background-color: #7b2cbf; color: #ffffff; padding: 7px 15px; text-decoration: none; border-radius: 15px;\">\n",
    "        [Table of Content 📜⬆️]\n",
    "    </a>\n",
    "</div>"
   ]
  },
  {
   "cell_type": "code",
   "execution_count": 10,
   "metadata": {},
   "outputs": [],
   "source": [
    "dfc = df.copy()"
   ]
  },
  {
   "cell_type": "markdown",
   "metadata": {},
   "source": [
    "<div  style=\"font-family: Arial, sans-serif; font-size: 20px; background-color: #7b2cbf; color: #ffffff; padding: 7px 15px; text-decoration: none; border-radius: 15px;\">⭐ More details and fast Analysis use dtable libraries </div>\n"
   ]
  },
  {
   "cell_type": "code",
   "execution_count": 21,
   "metadata": {},
   "outputs": [
    {
     "data": {
      "text/plain": [
       "'\\nimport dtable\\nd = dtale.show(df)\\nprint(d._url)  # Print the URL to manually open in the browser\\n'"
      ]
     },
     "execution_count": 21,
     "metadata": {},
     "output_type": "execute_result"
    }
   ],
   "source": [
    "'''\n",
    "import dtable\n",
    "d = dtale.show(df)\n",
    "print(d._url)  # Print the URL to manually open in the browser\n",
    "'''"
   ]
  },
  {
   "cell_type": "markdown",
   "metadata": {},
   "source": [
    "<div  style=\"font-family: Arial, sans-serif; font-size: 20px; background-color: #7b2cbf; color: #ffffff; padding: 7px 15px; text-decoration: none; border-radius: 15px;\">⭐Auto generate the graph for more fast & speed up Analysis </div>"
   ]
  },
  {
   "cell_type": "code",
   "execution_count": 20,
   "metadata": {},
   "outputs": [
    {
     "name": "stdout",
     "output_type": "stream",
     "text": [
      "Imported v0.1.905. Please call AutoViz in this sequence:\n",
      "    AV = AutoViz_Class()\n",
      "    %matplotlib inline\n",
      "    dfte = AV.AutoViz(filename, sep=',', depVar='', dfte=None, header=0, verbose=1, lowess=False,\n",
      "               chart_format='svg',max_rows_analyzed=150000,max_cols_analyzed=30, save_plot_dir=None)\n",
      "Shape of your Data Set loaded: (165, 6)\n",
      "#######################################################################################\n",
      "######################## C L A S S I F Y I N G  V A R I A B L E S  ####################\n",
      "#######################################################################################\n",
      "Classifying variables in data set...\n",
      "  Printing up to 30 columns (max) in each category:\n",
      "    Numeric Columns : ['Total_Plastic_Waste_MT', 'Recycling_Rate', 'Per_Capita_Waste_KG']\n",
      "    Integer-Categorical Columns: []\n",
      "    String-Categorical Columns: ['Main_Sources', 'Coastal_Waste_Risk']\n",
      "    Factor-Categorical Columns: []\n",
      "    String-Boolean Columns: []\n",
      "    Numeric-Boolean Columns: []\n",
      "    Discrete String Columns: []\n",
      "    NLP text Columns: []\n",
      "    Date Time Columns: []\n",
      "    ID Columns: ['Country']\n",
      "    Columns that will not be considered in modeling: []\n",
      "    6 Predictors classified...\n",
      "        1 variable(s) removed since they were ID or low-information variables\n",
      "        List of variables removed: ['Country']\n",
      "   Columns to delete:\n",
      "'   []'\n",
      "   Boolean variables %s \n",
      "'   []'\n",
      "   Categorical variables %s \n",
      "\"   ['Main_Sources', 'Coastal_Waste_Risk']\"\n",
      "   Continuous variables %s \n",
      "\"   ['Total_Plastic_Waste_MT', 'Recycling_Rate', 'Per_Capita_Waste_KG']\"\n",
      "   Discrete string variables %s \n",
      "'   []'\n",
      "   Date and time variables %s \n",
      "'   []'\n",
      "   ID variables %s \n",
      "\"   ['Country']\"\n",
      "   Target variable %s \n",
      "'   '\n",
      "To fix these data quality issues in the dataset, import FixDQ from autoviz...\n",
      "    All variables classified into correct types.\n"
     ]
    },
    {
     "data": {
      "text/html": [
       "<style type=\"text/css\">\n",
       "#T_4f40d_row0_col0, #T_4f40d_row0_col2, #T_4f40d_row0_col3, #T_4f40d_row0_col4, #T_4f40d_row0_col5, #T_4f40d_row1_col0, #T_4f40d_row1_col2, #T_4f40d_row1_col3, #T_4f40d_row1_col4, #T_4f40d_row1_col5, #T_4f40d_row2_col0, #T_4f40d_row2_col2, #T_4f40d_row2_col3, #T_4f40d_row2_col4, #T_4f40d_row2_col5, #T_4f40d_row3_col0, #T_4f40d_row3_col2, #T_4f40d_row3_col3, #T_4f40d_row3_col4, #T_4f40d_row3_col5, #T_4f40d_row4_col0, #T_4f40d_row4_col2, #T_4f40d_row4_col3, #T_4f40d_row4_col4, #T_4f40d_row4_col5, #T_4f40d_row5_col0, #T_4f40d_row5_col2, #T_4f40d_row5_col3, #T_4f40d_row5_col4, #T_4f40d_row5_col5 {\n",
       "  font-family: Segoe UI;\n",
       "}\n",
       "#T_4f40d_row0_col1, #T_4f40d_row1_col1, #T_4f40d_row2_col1, #T_4f40d_row3_col1, #T_4f40d_row4_col1, #T_4f40d_row5_col1 {\n",
       "  background-color: #fff5f0;\n",
       "  color: #000000;\n",
       "  font-family: Segoe UI;\n",
       "}\n",
       "</style>\n",
       "<table id=\"T_4f40d\">\n",
       "  <thead>\n",
       "    <tr>\n",
       "      <th class=\"blank level0\" >&nbsp;</th>\n",
       "      <th id=\"T_4f40d_level0_col0\" class=\"col_heading level0 col0\" >Data Type</th>\n",
       "      <th id=\"T_4f40d_level0_col1\" class=\"col_heading level0 col1\" >Missing Values%</th>\n",
       "      <th id=\"T_4f40d_level0_col2\" class=\"col_heading level0 col2\" >Unique Values%</th>\n",
       "      <th id=\"T_4f40d_level0_col3\" class=\"col_heading level0 col3\" >Minimum Value</th>\n",
       "      <th id=\"T_4f40d_level0_col4\" class=\"col_heading level0 col4\" >Maximum Value</th>\n",
       "      <th id=\"T_4f40d_level0_col5\" class=\"col_heading level0 col5\" >DQ Issue</th>\n",
       "    </tr>\n",
       "  </thead>\n",
       "  <tbody>\n",
       "    <tr>\n",
       "      <th id=\"T_4f40d_level0_row0\" class=\"row_heading level0 row0\" >Country</th>\n",
       "      <td id=\"T_4f40d_row0_col0\" class=\"data row0 col0\" >object</td>\n",
       "      <td id=\"T_4f40d_row0_col1\" class=\"data row0 col1\" >0.000000</td>\n",
       "      <td id=\"T_4f40d_row0_col2\" class=\"data row0 col2\" >100</td>\n",
       "      <td id=\"T_4f40d_row0_col3\" class=\"data row0 col3\" ></td>\n",
       "      <td id=\"T_4f40d_row0_col4\" class=\"data row0 col4\" ></td>\n",
       "      <td id=\"T_4f40d_row0_col5\" class=\"data row0 col5\" >Possible ID column: drop before modeling step.</td>\n",
       "    </tr>\n",
       "    <tr>\n",
       "      <th id=\"T_4f40d_level0_row1\" class=\"row_heading level0 row1\" >Total_Plastic_Waste_MT</th>\n",
       "      <td id=\"T_4f40d_row1_col0\" class=\"data row1 col0\" >float64</td>\n",
       "      <td id=\"T_4f40d_row1_col1\" class=\"data row1 col1\" >0.000000</td>\n",
       "      <td id=\"T_4f40d_row1_col2\" class=\"data row1 col2\" >NA</td>\n",
       "      <td id=\"T_4f40d_row1_col3\" class=\"data row1 col3\" >0.010000</td>\n",
       "      <td id=\"T_4f40d_row1_col4\" class=\"data row1 col4\" >59.080000</td>\n",
       "      <td id=\"T_4f40d_row1_col5\" class=\"data row1 col5\" >Column has 14 outliers greater than upper bound (3.15) or lower than lower bound(-1.69). Cap them or remove them.</td>\n",
       "    </tr>\n",
       "    <tr>\n",
       "      <th id=\"T_4f40d_level0_row2\" class=\"row_heading level0 row2\" >Main_Sources</th>\n",
       "      <td id=\"T_4f40d_row2_col0\" class=\"data row2 col0\" >object</td>\n",
       "      <td id=\"T_4f40d_row2_col1\" class=\"data row2 col1\" >0.000000</td>\n",
       "      <td id=\"T_4f40d_row2_col2\" class=\"data row2 col2\" >6</td>\n",
       "      <td id=\"T_4f40d_row2_col3\" class=\"data row2 col3\" ></td>\n",
       "      <td id=\"T_4f40d_row2_col4\" class=\"data row2 col4\" ></td>\n",
       "      <td id=\"T_4f40d_row2_col5\" class=\"data row2 col5\" >4 rare categories: ['Consumer_Goods', 'Packaging_Electronics', 'Automotive_Packaging', 'Electronics_Packaging']. Group them into a single category or drop the categories.</td>\n",
       "    </tr>\n",
       "    <tr>\n",
       "      <th id=\"T_4f40d_level0_row3\" class=\"row_heading level0 row3\" >Recycling_Rate</th>\n",
       "      <td id=\"T_4f40d_row3_col0\" class=\"data row3 col0\" >float64</td>\n",
       "      <td id=\"T_4f40d_row3_col1\" class=\"data row3 col1\" >0.000000</td>\n",
       "      <td id=\"T_4f40d_row3_col2\" class=\"data row3 col2\" >NA</td>\n",
       "      <td id=\"T_4f40d_row3_col3\" class=\"data row3 col3\" >0.100000</td>\n",
       "      <td id=\"T_4f40d_row3_col4\" class=\"data row3 col4\" >84.800000</td>\n",
       "      <td id=\"T_4f40d_row3_col5\" class=\"data row3 col5\" >Column has 19 outliers greater than upper bound (39.20) or lower than lower bound(-21.60). Cap them or remove them.</td>\n",
       "    </tr>\n",
       "    <tr>\n",
       "      <th id=\"T_4f40d_level0_row4\" class=\"row_heading level0 row4\" >Per_Capita_Waste_KG</th>\n",
       "      <td id=\"T_4f40d_row4_col0\" class=\"data row4 col0\" >float64</td>\n",
       "      <td id=\"T_4f40d_row4_col1\" class=\"data row4 col1\" >0.000000</td>\n",
       "      <td id=\"T_4f40d_row4_col2\" class=\"data row4 col2\" >NA</td>\n",
       "      <td id=\"T_4f40d_row4_col3\" class=\"data row4 col3\" >2.600000</td>\n",
       "      <td id=\"T_4f40d_row4_col4\" class=\"data row4 col4\" >1564.400000</td>\n",
       "      <td id=\"T_4f40d_row4_col5\" class=\"data row4 col5\" >Column has 14 outliers greater than upper bound (292.80) or lower than lower bound(-148.00). Cap them or remove them.</td>\n",
       "    </tr>\n",
       "    <tr>\n",
       "      <th id=\"T_4f40d_level0_row5\" class=\"row_heading level0 row5\" >Coastal_Waste_Risk</th>\n",
       "      <td id=\"T_4f40d_row5_col0\" class=\"data row5 col0\" >object</td>\n",
       "      <td id=\"T_4f40d_row5_col1\" class=\"data row5 col1\" >0.000000</td>\n",
       "      <td id=\"T_4f40d_row5_col2\" class=\"data row5 col2\" >2</td>\n",
       "      <td id=\"T_4f40d_row5_col3\" class=\"data row5 col3\" ></td>\n",
       "      <td id=\"T_4f40d_row5_col4\" class=\"data row5 col4\" ></td>\n",
       "      <td id=\"T_4f40d_row5_col5\" class=\"data row5 col5\" >No issue</td>\n",
       "    </tr>\n",
       "  </tbody>\n",
       "</table>\n"
      ],
      "text/plain": [
       "<pandas.io.formats.style.Styler at 0x1a5eb4bfaa0>"
      ]
     },
     "metadata": {},
     "output_type": "display_data"
    },
    {
     "name": "stdout",
     "output_type": "stream",
     "text": [
      "Number of All Scatter Plots = 6\n",
      "All Plots are saved in .\\AutoViz_Plots\\AutoViz\n",
      "Time to run AutoViz = 3 seconds \n"
     ]
    }
   ],
   "source": [
    "\n",
    "from autoviz.AutoViz_Class import AutoViz_Class\n",
    "\n",
    "AV = AutoViz_Class()\n",
    "\n",
    "df_auto = AV.AutoViz(\n",
    "    filename='', \n",
    "    dfte=df, \n",
    "    depVar='', \n",
    "    chart_format='png', \n",
    "    verbose=2\n",
    ")\n",
    "\n"
   ]
  },
  {
   "cell_type": "markdown",
   "metadata": {},
   "source": [
    "<a id=\"analysis\"></a>\n",
    "<div style=\"background-color: #48cae4; border-radius: 15px; padding: 20px; text-align: left;\">\n",
    "    <h1 style=\"margin: 0;\">\n",
    "        <b>\n",
    "            <span style=\"color: Black;\">Chapter Three</span>\n",
    "            <span style=\"color: #ffffff;\">|</span>\n",
    "            <span style=\"color: #FEEC37;\"> Analysis 🔍\n",
    "            </span>\n",
    "        </b>\n",
    "    </h1>\n",
    "    <br>\n",
    "    <a href=\"#table-of-contents\" style=\"font-family: Arial, sans-serif; font-size: 20px; background-color: #7b2cbf; color: #ffffff; padding: 7px 15px; text-decoration: none; border-radius: 15px;\">\n",
    "        [Table of Content 📜⬆️]\n",
    "    </a>\n",
    "</div>\n"
   ]
  },
  {
   "cell_type": "markdown",
   "metadata": {},
   "source": [
    "<a id=\"31\"></a>\n",
    "### <div style=\"text-align:left; border-radius:15px; padding:20px; color:#000000; margin:0; font-size:100%; font-family:Arial, sans-serif; background-color:#48cae4; overflow:hidden;\"><b>⚡ 1. Correlation Matrix</b>\n",
    "\n",
    "<a href=\"#table-of-contents\" style=\"font-family:Arial, sans-serif; font-size:15px; background-color:#7b2cbf; color:#ffffff; padding:7px 15px; text-decoration:none; border-radius:15px; margin-left:10px;\">\n",
    "    [Table of Content 📜⬆️]\n",
    "</a>\n",
    "</div>"
   ]
  },
  {
   "cell_type": "code",
   "execution_count": 13,
   "metadata": {},
   "outputs": [
    {
     "data": {
      "application/vnd.plotly.v1+json": {
       "config": {
        "plotlyServerURL": "https://plot.ly"
       },
       "data": [
        {
         "coloraxis": "coloraxis",
         "hovertemplate": "x: %{x}<br>y: %{y}<br>color: %{z}<extra></extra>",
         "name": "0",
         "texttemplate": "%{z}",
         "type": "heatmap",
         "x": [
          "Total_Plastic_Waste_MT",
          "Recycling_Rate",
          "Per_Capita_Waste_KG"
         ],
         "xaxis": "x",
         "y": [
          "Total_Plastic_Waste_MT",
          "Recycling_Rate",
          "Per_Capita_Waste_KG"
         ],
         "yaxis": "y",
         "z": [
          [
           1,
           0.21258289303571082,
           -0.046235328622803135
          ],
          [
           0.21258289303571082,
           1,
           0.29865087976256177
          ],
          [
           -0.046235328622803135,
           0.29865087976256177,
           1
          ]
         ]
        }
       ],
       "layout": {
        "coloraxis": {
         "colorscale": [
          [
           0,
           "#440154"
          ],
          [
           0.1111111111111111,
           "#482878"
          ],
          [
           0.2222222222222222,
           "#3e4989"
          ],
          [
           0.3333333333333333,
           "#31688e"
          ],
          [
           0.4444444444444444,
           "#26828e"
          ],
          [
           0.5555555555555556,
           "#1f9e89"
          ],
          [
           0.6666666666666666,
           "#35b779"
          ],
          [
           0.7777777777777778,
           "#6ece58"
          ],
          [
           0.8888888888888888,
           "#b5de2b"
          ],
          [
           1,
           "#fde725"
          ]
         ]
        },
        "template": {
         "data": {
          "bar": [
           {
            "error_x": {
             "color": "#2a3f5f"
            },
            "error_y": {
             "color": "#2a3f5f"
            },
            "marker": {
             "line": {
              "color": "#E5ECF6",
              "width": 0.5
             },
             "pattern": {
              "fillmode": "overlay",
              "size": 10,
              "solidity": 0.2
             }
            },
            "type": "bar"
           }
          ],
          "barpolar": [
           {
            "marker": {
             "line": {
              "color": "#E5ECF6",
              "width": 0.5
             },
             "pattern": {
              "fillmode": "overlay",
              "size": 10,
              "solidity": 0.2
             }
            },
            "type": "barpolar"
           }
          ],
          "carpet": [
           {
            "aaxis": {
             "endlinecolor": "#2a3f5f",
             "gridcolor": "white",
             "linecolor": "white",
             "minorgridcolor": "white",
             "startlinecolor": "#2a3f5f"
            },
            "baxis": {
             "endlinecolor": "#2a3f5f",
             "gridcolor": "white",
             "linecolor": "white",
             "minorgridcolor": "white",
             "startlinecolor": "#2a3f5f"
            },
            "type": "carpet"
           }
          ],
          "choropleth": [
           {
            "colorbar": {
             "outlinewidth": 0,
             "ticks": ""
            },
            "type": "choropleth"
           }
          ],
          "contour": [
           {
            "colorbar": {
             "outlinewidth": 0,
             "ticks": ""
            },
            "colorscale": [
             [
              0,
              "#0d0887"
             ],
             [
              0.1111111111111111,
              "#46039f"
             ],
             [
              0.2222222222222222,
              "#7201a8"
             ],
             [
              0.3333333333333333,
              "#9c179e"
             ],
             [
              0.4444444444444444,
              "#bd3786"
             ],
             [
              0.5555555555555556,
              "#d8576b"
             ],
             [
              0.6666666666666666,
              "#ed7953"
             ],
             [
              0.7777777777777778,
              "#fb9f3a"
             ],
             [
              0.8888888888888888,
              "#fdca26"
             ],
             [
              1,
              "#f0f921"
             ]
            ],
            "type": "contour"
           }
          ],
          "contourcarpet": [
           {
            "colorbar": {
             "outlinewidth": 0,
             "ticks": ""
            },
            "type": "contourcarpet"
           }
          ],
          "heatmap": [
           {
            "colorbar": {
             "outlinewidth": 0,
             "ticks": ""
            },
            "colorscale": [
             [
              0,
              "#0d0887"
             ],
             [
              0.1111111111111111,
              "#46039f"
             ],
             [
              0.2222222222222222,
              "#7201a8"
             ],
             [
              0.3333333333333333,
              "#9c179e"
             ],
             [
              0.4444444444444444,
              "#bd3786"
             ],
             [
              0.5555555555555556,
              "#d8576b"
             ],
             [
              0.6666666666666666,
              "#ed7953"
             ],
             [
              0.7777777777777778,
              "#fb9f3a"
             ],
             [
              0.8888888888888888,
              "#fdca26"
             ],
             [
              1,
              "#f0f921"
             ]
            ],
            "type": "heatmap"
           }
          ],
          "heatmapgl": [
           {
            "colorbar": {
             "outlinewidth": 0,
             "ticks": ""
            },
            "colorscale": [
             [
              0,
              "#0d0887"
             ],
             [
              0.1111111111111111,
              "#46039f"
             ],
             [
              0.2222222222222222,
              "#7201a8"
             ],
             [
              0.3333333333333333,
              "#9c179e"
             ],
             [
              0.4444444444444444,
              "#bd3786"
             ],
             [
              0.5555555555555556,
              "#d8576b"
             ],
             [
              0.6666666666666666,
              "#ed7953"
             ],
             [
              0.7777777777777778,
              "#fb9f3a"
             ],
             [
              0.8888888888888888,
              "#fdca26"
             ],
             [
              1,
              "#f0f921"
             ]
            ],
            "type": "heatmapgl"
           }
          ],
          "histogram": [
           {
            "marker": {
             "pattern": {
              "fillmode": "overlay",
              "size": 10,
              "solidity": 0.2
             }
            },
            "type": "histogram"
           }
          ],
          "histogram2d": [
           {
            "colorbar": {
             "outlinewidth": 0,
             "ticks": ""
            },
            "colorscale": [
             [
              0,
              "#0d0887"
             ],
             [
              0.1111111111111111,
              "#46039f"
             ],
             [
              0.2222222222222222,
              "#7201a8"
             ],
             [
              0.3333333333333333,
              "#9c179e"
             ],
             [
              0.4444444444444444,
              "#bd3786"
             ],
             [
              0.5555555555555556,
              "#d8576b"
             ],
             [
              0.6666666666666666,
              "#ed7953"
             ],
             [
              0.7777777777777778,
              "#fb9f3a"
             ],
             [
              0.8888888888888888,
              "#fdca26"
             ],
             [
              1,
              "#f0f921"
             ]
            ],
            "type": "histogram2d"
           }
          ],
          "histogram2dcontour": [
           {
            "colorbar": {
             "outlinewidth": 0,
             "ticks": ""
            },
            "colorscale": [
             [
              0,
              "#0d0887"
             ],
             [
              0.1111111111111111,
              "#46039f"
             ],
             [
              0.2222222222222222,
              "#7201a8"
             ],
             [
              0.3333333333333333,
              "#9c179e"
             ],
             [
              0.4444444444444444,
              "#bd3786"
             ],
             [
              0.5555555555555556,
              "#d8576b"
             ],
             [
              0.6666666666666666,
              "#ed7953"
             ],
             [
              0.7777777777777778,
              "#fb9f3a"
             ],
             [
              0.8888888888888888,
              "#fdca26"
             ],
             [
              1,
              "#f0f921"
             ]
            ],
            "type": "histogram2dcontour"
           }
          ],
          "mesh3d": [
           {
            "colorbar": {
             "outlinewidth": 0,
             "ticks": ""
            },
            "type": "mesh3d"
           }
          ],
          "parcoords": [
           {
            "line": {
             "colorbar": {
              "outlinewidth": 0,
              "ticks": ""
             }
            },
            "type": "parcoords"
           }
          ],
          "pie": [
           {
            "automargin": true,
            "type": "pie"
           }
          ],
          "scatter": [
           {
            "fillpattern": {
             "fillmode": "overlay",
             "size": 10,
             "solidity": 0.2
            },
            "type": "scatter"
           }
          ],
          "scatter3d": [
           {
            "line": {
             "colorbar": {
              "outlinewidth": 0,
              "ticks": ""
             }
            },
            "marker": {
             "colorbar": {
              "outlinewidth": 0,
              "ticks": ""
             }
            },
            "type": "scatter3d"
           }
          ],
          "scattercarpet": [
           {
            "marker": {
             "colorbar": {
              "outlinewidth": 0,
              "ticks": ""
             }
            },
            "type": "scattercarpet"
           }
          ],
          "scattergeo": [
           {
            "marker": {
             "colorbar": {
              "outlinewidth": 0,
              "ticks": ""
             }
            },
            "type": "scattergeo"
           }
          ],
          "scattergl": [
           {
            "marker": {
             "colorbar": {
              "outlinewidth": 0,
              "ticks": ""
             }
            },
            "type": "scattergl"
           }
          ],
          "scattermapbox": [
           {
            "marker": {
             "colorbar": {
              "outlinewidth": 0,
              "ticks": ""
             }
            },
            "type": "scattermapbox"
           }
          ],
          "scatterpolar": [
           {
            "marker": {
             "colorbar": {
              "outlinewidth": 0,
              "ticks": ""
             }
            },
            "type": "scatterpolar"
           }
          ],
          "scatterpolargl": [
           {
            "marker": {
             "colorbar": {
              "outlinewidth": 0,
              "ticks": ""
             }
            },
            "type": "scatterpolargl"
           }
          ],
          "scatterternary": [
           {
            "marker": {
             "colorbar": {
              "outlinewidth": 0,
              "ticks": ""
             }
            },
            "type": "scatterternary"
           }
          ],
          "surface": [
           {
            "colorbar": {
             "outlinewidth": 0,
             "ticks": ""
            },
            "colorscale": [
             [
              0,
              "#0d0887"
             ],
             [
              0.1111111111111111,
              "#46039f"
             ],
             [
              0.2222222222222222,
              "#7201a8"
             ],
             [
              0.3333333333333333,
              "#9c179e"
             ],
             [
              0.4444444444444444,
              "#bd3786"
             ],
             [
              0.5555555555555556,
              "#d8576b"
             ],
             [
              0.6666666666666666,
              "#ed7953"
             ],
             [
              0.7777777777777778,
              "#fb9f3a"
             ],
             [
              0.8888888888888888,
              "#fdca26"
             ],
             [
              1,
              "#f0f921"
             ]
            ],
            "type": "surface"
           }
          ],
          "table": [
           {
            "cells": {
             "fill": {
              "color": "#EBF0F8"
             },
             "line": {
              "color": "white"
             }
            },
            "header": {
             "fill": {
              "color": "#C8D4E3"
             },
             "line": {
              "color": "white"
             }
            },
            "type": "table"
           }
          ]
         },
         "layout": {
          "annotationdefaults": {
           "arrowcolor": "#2a3f5f",
           "arrowhead": 0,
           "arrowwidth": 1
          },
          "autotypenumbers": "strict",
          "coloraxis": {
           "colorbar": {
            "outlinewidth": 0,
            "ticks": ""
           }
          },
          "colorscale": {
           "diverging": [
            [
             0,
             "#8e0152"
            ],
            [
             0.1,
             "#c51b7d"
            ],
            [
             0.2,
             "#de77ae"
            ],
            [
             0.3,
             "#f1b6da"
            ],
            [
             0.4,
             "#fde0ef"
            ],
            [
             0.5,
             "#f7f7f7"
            ],
            [
             0.6,
             "#e6f5d0"
            ],
            [
             0.7,
             "#b8e186"
            ],
            [
             0.8,
             "#7fbc41"
            ],
            [
             0.9,
             "#4d9221"
            ],
            [
             1,
             "#276419"
            ]
           ],
           "sequential": [
            [
             0,
             "#0d0887"
            ],
            [
             0.1111111111111111,
             "#46039f"
            ],
            [
             0.2222222222222222,
             "#7201a8"
            ],
            [
             0.3333333333333333,
             "#9c179e"
            ],
            [
             0.4444444444444444,
             "#bd3786"
            ],
            [
             0.5555555555555556,
             "#d8576b"
            ],
            [
             0.6666666666666666,
             "#ed7953"
            ],
            [
             0.7777777777777778,
             "#fb9f3a"
            ],
            [
             0.8888888888888888,
             "#fdca26"
            ],
            [
             1,
             "#f0f921"
            ]
           ],
           "sequentialminus": [
            [
             0,
             "#0d0887"
            ],
            [
             0.1111111111111111,
             "#46039f"
            ],
            [
             0.2222222222222222,
             "#7201a8"
            ],
            [
             0.3333333333333333,
             "#9c179e"
            ],
            [
             0.4444444444444444,
             "#bd3786"
            ],
            [
             0.5555555555555556,
             "#d8576b"
            ],
            [
             0.6666666666666666,
             "#ed7953"
            ],
            [
             0.7777777777777778,
             "#fb9f3a"
            ],
            [
             0.8888888888888888,
             "#fdca26"
            ],
            [
             1,
             "#f0f921"
            ]
           ]
          },
          "colorway": [
           "#636efa",
           "#EF553B",
           "#00cc96",
           "#ab63fa",
           "#FFA15A",
           "#19d3f3",
           "#FF6692",
           "#B6E880",
           "#FF97FF",
           "#FECB52"
          ],
          "font": {
           "color": "#2a3f5f"
          },
          "geo": {
           "bgcolor": "white",
           "lakecolor": "white",
           "landcolor": "#E5ECF6",
           "showlakes": true,
           "showland": true,
           "subunitcolor": "white"
          },
          "hoverlabel": {
           "align": "left"
          },
          "hovermode": "closest",
          "mapbox": {
           "style": "light"
          },
          "paper_bgcolor": "white",
          "plot_bgcolor": "#E5ECF6",
          "polar": {
           "angularaxis": {
            "gridcolor": "white",
            "linecolor": "white",
            "ticks": ""
           },
           "bgcolor": "#E5ECF6",
           "radialaxis": {
            "gridcolor": "white",
            "linecolor": "white",
            "ticks": ""
           }
          },
          "scene": {
           "xaxis": {
            "backgroundcolor": "#E5ECF6",
            "gridcolor": "white",
            "gridwidth": 2,
            "linecolor": "white",
            "showbackground": true,
            "ticks": "",
            "zerolinecolor": "white"
           },
           "yaxis": {
            "backgroundcolor": "#E5ECF6",
            "gridcolor": "white",
            "gridwidth": 2,
            "linecolor": "white",
            "showbackground": true,
            "ticks": "",
            "zerolinecolor": "white"
           },
           "zaxis": {
            "backgroundcolor": "#E5ECF6",
            "gridcolor": "white",
            "gridwidth": 2,
            "linecolor": "white",
            "showbackground": true,
            "ticks": "",
            "zerolinecolor": "white"
           }
          },
          "shapedefaults": {
           "line": {
            "color": "#2a3f5f"
           }
          },
          "ternary": {
           "aaxis": {
            "gridcolor": "white",
            "linecolor": "white",
            "ticks": ""
           },
           "baxis": {
            "gridcolor": "white",
            "linecolor": "white",
            "ticks": ""
           },
           "bgcolor": "#E5ECF6",
           "caxis": {
            "gridcolor": "white",
            "linecolor": "white",
            "ticks": ""
           }
          },
          "title": {
           "x": 0.05
          },
          "xaxis": {
           "automargin": true,
           "gridcolor": "white",
           "linecolor": "white",
           "ticks": "",
           "title": {
            "standoff": 15
           },
           "zerolinecolor": "white",
           "zerolinewidth": 2
          },
          "yaxis": {
           "automargin": true,
           "gridcolor": "white",
           "linecolor": "white",
           "ticks": "",
           "title": {
            "standoff": 15
           },
           "zerolinecolor": "white",
           "zerolinewidth": 2
          }
         }
        },
        "title": {
         "text": "Correlation Matrix"
        },
        "xaxis": {
         "anchor": "y",
         "domain": [
          0,
          1
         ]
        },
        "yaxis": {
         "anchor": "x",
         "autorange": "reversed",
         "domain": [
          0,
          1
         ]
        }
       }
      }
     },
     "metadata": {},
     "output_type": "display_data"
    }
   ],
   "source": [
    "numeric_df = df.select_dtypes(include=[float, int])\n",
    "correlation_matrix = numeric_df.corr().T\n",
    "\n",
    "fig = px.imshow(correlation_matrix, text_auto=True, aspect=\"auto\",\n",
    "                title='Correlation Matrix',\n",
    "                color_continuous_scale='viridis')\n",
    "fig.show()"
   ]
  },
  {
   "cell_type": "code",
   "execution_count": 14,
   "metadata": {},
   "outputs": [
    {
     "data": {
      "text/html": [
       "<pre style=\"white-space:pre;overflow-x:auto;line-height:normal;font-family:Menlo,'DejaVu Sans Mono',consolas,'Courier New',monospace\">╭──────────────────────────────────────────────── skimpy summary ─────────────────────────────────────────────────╮\n",
       "│ <span style=\"font-style: italic\">         Data Summary         </span> <span style=\"font-style: italic\">      Data Types       </span>                                                          │\n",
       "│ ┏━━━━━━━━━━━━━━━━━━━┳━━━━━━━━┓ ┏━━━━━━━━━━━━━┳━━━━━━━┓                                                          │\n",
       "│ ┃<span style=\"color: #008080; text-decoration-color: #008080; font-weight: bold\"> dataframe         </span>┃<span style=\"color: #008080; text-decoration-color: #008080; font-weight: bold\"> Values </span>┃ ┃<span style=\"color: #008080; text-decoration-color: #008080; font-weight: bold\"> Column Type </span>┃<span style=\"color: #008080; text-decoration-color: #008080; font-weight: bold\"> Count </span>┃                                                          │\n",
       "│ ┡━━━━━━━━━━━━━━━━━━━╇━━━━━━━━┩ ┡━━━━━━━━━━━━━╇━━━━━━━┩                                                          │\n",
       "│ │ Number of rows    │ 165    │ │ string      │ 3     │                                                          │\n",
       "│ │ Number of columns │ 6      │ │ float64     │ 3     │                                                          │\n",
       "│ └───────────────────┴────────┘ └─────────────┴───────┘                                                          │\n",
       "│ <span style=\"font-style: italic\">                                                    number                                                    </span>  │\n",
       "│ ┏━━━━━━━━━━━━━━━━━━━━━━━━━━┳━━━━━┳━━━━━━━┳━━━━━━━━┳━━━━━━━━┳━━━━━━━┳━━━━━━━┳━━━━━━━┳━━━━━━━━┳━━━━━━━┳━━━━━━━━┓  │\n",
       "│ ┃<span style=\"font-weight: bold\"> column_name              </span>┃<span style=\"font-weight: bold\"> NA  </span>┃<span style=\"font-weight: bold\"> NA %  </span>┃<span style=\"font-weight: bold\"> mean   </span>┃<span style=\"font-weight: bold\"> sd     </span>┃<span style=\"font-weight: bold\"> p0    </span>┃<span style=\"font-weight: bold\"> p25   </span>┃<span style=\"font-weight: bold\"> p50   </span>┃<span style=\"font-weight: bold\"> p75    </span>┃<span style=\"font-weight: bold\"> p100  </span>┃<span style=\"font-weight: bold\"> hist   </span>┃  │\n",
       "│ ┡━━━━━━━━━━━━━━━━━━━━━━━━━━╇━━━━━╇━━━━━━━╇━━━━━━━━╇━━━━━━━━╇━━━━━━━╇━━━━━━━╇━━━━━━━╇━━━━━━━━╇━━━━━━━╇━━━━━━━━┩  │\n",
       "│ │ <span style=\"color: #af87ff; text-decoration-color: #af87ff\">Total_Plastic_Waste_MT  </span> │ <span style=\"color: #008080; text-decoration-color: #008080\">  0</span> │ <span style=\"color: #008080; text-decoration-color: #008080\">    0</span> │ <span style=\"color: #008080; text-decoration-color: #008080\"> 1.724</span> │ <span style=\"color: #008080; text-decoration-color: #008080\"> 6.002</span> │ <span style=\"color: #008080; text-decoration-color: #008080\"> 0.01</span> │ <span style=\"color: #008080; text-decoration-color: #008080\"> 0.12</span> │ <span style=\"color: #008080; text-decoration-color: #008080\"> 0.51</span> │ <span style=\"color: #008080; text-decoration-color: #008080\">  1.33</span> │ <span style=\"color: #008080; text-decoration-color: #008080\">59.08</span> │ <span style=\"color: #008000; text-decoration-color: #008000\">  ▇   </span> │  │\n",
       "│ │ <span style=\"color: #af87ff; text-decoration-color: #af87ff\">Recycling_Rate          </span> │ <span style=\"color: #008080; text-decoration-color: #008080\">  0</span> │ <span style=\"color: #008080; text-decoration-color: #008080\">    0</span> │ <span style=\"color: #008080; text-decoration-color: #008080\">  13.1</span> │ <span style=\"color: #008080; text-decoration-color: #008080\"> 16.69</span> │ <span style=\"color: #008080; text-decoration-color: #008080\">  0.1</span> │ <span style=\"color: #008080; text-decoration-color: #008080\">  1.2</span> │ <span style=\"color: #008080; text-decoration-color: #008080\">  5.4</span> │ <span style=\"color: #008080; text-decoration-color: #008080\">  16.4</span> │ <span style=\"color: #008080; text-decoration-color: #008080\"> 84.8</span> │ <span style=\"color: #008000; text-decoration-color: #008000\"> ▇▁▁▁ </span> │  │\n",
       "│ │ <span style=\"color: #af87ff; text-decoration-color: #af87ff\">Per_Capita_Waste_KG     </span> │ <span style=\"color: #008080; text-decoration-color: #008080\">  0</span> │ <span style=\"color: #008080; text-decoration-color: #008080\">    0</span> │ <span style=\"color: #008080; text-decoration-color: #008080\"> 122.3</span> │ <span style=\"color: #008080; text-decoration-color: #008080\"> 222.8</span> │ <span style=\"color: #008080; text-decoration-color: #008080\">  2.6</span> │ <span style=\"color: #008080; text-decoration-color: #008080\"> 17.3</span> │ <span style=\"color: #008080; text-decoration-color: #008080\"> 54.9</span> │ <span style=\"color: #008080; text-decoration-color: #008080\"> 127.5</span> │ <span style=\"color: #008080; text-decoration-color: #008080\"> 1564</span> │ <span style=\"color: #008000; text-decoration-color: #008000\">  ▇   </span> │  │\n",
       "│ └──────────────────────────┴─────┴───────┴────────┴────────┴───────┴───────┴───────┴────────┴───────┴────────┘  │\n",
       "│ <span style=\"font-style: italic\">                                                    string                                                    </span>  │\n",
       "│ ┏━━━━━━━━━━━━━━━━━━━━━━━━━━━━━━━━━━━━┳━━━━━━━━┳━━━━━━━━━━━┳━━━━━━━━━━━━━━━━━━━━━━━━━━━┳━━━━━━━━━━━━━━━━━━━━━━┓  │\n",
       "│ ┃<span style=\"font-weight: bold\"> column_name                        </span>┃<span style=\"font-weight: bold\"> NA     </span>┃<span style=\"font-weight: bold\"> NA %      </span>┃<span style=\"font-weight: bold\"> words per row             </span>┃<span style=\"font-weight: bold\"> total words          </span>┃  │\n",
       "│ ┡━━━━━━━━━━━━━━━━━━━━━━━━━━━━━━━━━━━━╇━━━━━━━━╇━━━━━━━━━━━╇━━━━━━━━━━━━━━━━━━━━━━━━━━━╇━━━━━━━━━━━━━━━━━━━━━━┩  │\n",
       "│ │ <span style=\"color: #af87ff; text-decoration-color: #af87ff\">Country                           </span> │ <span style=\"color: #008080; text-decoration-color: #008080\">     0</span> │ <span style=\"color: #008080; text-decoration-color: #008080\">        0</span> │ <span style=\"color: #008080; text-decoration-color: #008080\">                      1.2</span> │ <span style=\"color: #008080; text-decoration-color: #008080\">                 200</span> │  │\n",
       "│ │ <span style=\"color: #af87ff; text-decoration-color: #af87ff\">Main_Sources                      </span> │ <span style=\"color: #008080; text-decoration-color: #008080\">     0</span> │ <span style=\"color: #008080; text-decoration-color: #008080\">        0</span> │ <span style=\"color: #008080; text-decoration-color: #008080\">                        1</span> │ <span style=\"color: #008080; text-decoration-color: #008080\">                 165</span> │  │\n",
       "│ │ <span style=\"color: #af87ff; text-decoration-color: #af87ff\">Coastal_Waste_Risk                </span> │ <span style=\"color: #008080; text-decoration-color: #008080\">     0</span> │ <span style=\"color: #008080; text-decoration-color: #008080\">        0</span> │ <span style=\"color: #008080; text-decoration-color: #008080\">                        1</span> │ <span style=\"color: #008080; text-decoration-color: #008080\">                 165</span> │  │\n",
       "│ └────────────────────────────────────┴────────┴───────────┴───────────────────────────┴──────────────────────┘  │\n",
       "╰────────────────────────────────────────────────────── End ──────────────────────────────────────────────────────╯\n",
       "</pre>\n"
      ],
      "text/plain": [
       "╭──────────────────────────────────────────────── skimpy summary ─────────────────────────────────────────────────╮\n",
       "│ \u001b[3m         Data Summary         \u001b[0m \u001b[3m      Data Types       \u001b[0m                                                          │\n",
       "│ ┏━━━━━━━━━━━━━━━━━━━┳━━━━━━━━┓ ┏━━━━━━━━━━━━━┳━━━━━━━┓                                                          │\n",
       "│ ┃\u001b[1;36m \u001b[0m\u001b[1;36mdataframe        \u001b[0m\u001b[1;36m \u001b[0m┃\u001b[1;36m \u001b[0m\u001b[1;36mValues\u001b[0m\u001b[1;36m \u001b[0m┃ ┃\u001b[1;36m \u001b[0m\u001b[1;36mColumn Type\u001b[0m\u001b[1;36m \u001b[0m┃\u001b[1;36m \u001b[0m\u001b[1;36mCount\u001b[0m\u001b[1;36m \u001b[0m┃                                                          │\n",
       "│ ┡━━━━━━━━━━━━━━━━━━━╇━━━━━━━━┩ ┡━━━━━━━━━━━━━╇━━━━━━━┩                                                          │\n",
       "│ │ Number of rows    │ 165    │ │ string      │ 3     │                                                          │\n",
       "│ │ Number of columns │ 6      │ │ float64     │ 3     │                                                          │\n",
       "│ └───────────────────┴────────┘ └─────────────┴───────┘                                                          │\n",
       "│ \u001b[3m                                                    number                                                    \u001b[0m  │\n",
       "│ ┏━━━━━━━━━━━━━━━━━━━━━━━━━━┳━━━━━┳━━━━━━━┳━━━━━━━━┳━━━━━━━━┳━━━━━━━┳━━━━━━━┳━━━━━━━┳━━━━━━━━┳━━━━━━━┳━━━━━━━━┓  │\n",
       "│ ┃\u001b[1m \u001b[0m\u001b[1mcolumn_name             \u001b[0m\u001b[1m \u001b[0m┃\u001b[1m \u001b[0m\u001b[1mNA \u001b[0m\u001b[1m \u001b[0m┃\u001b[1m \u001b[0m\u001b[1mNA % \u001b[0m\u001b[1m \u001b[0m┃\u001b[1m \u001b[0m\u001b[1mmean  \u001b[0m\u001b[1m \u001b[0m┃\u001b[1m \u001b[0m\u001b[1msd    \u001b[0m\u001b[1m \u001b[0m┃\u001b[1m \u001b[0m\u001b[1mp0   \u001b[0m\u001b[1m \u001b[0m┃\u001b[1m \u001b[0m\u001b[1mp25  \u001b[0m\u001b[1m \u001b[0m┃\u001b[1m \u001b[0m\u001b[1mp50  \u001b[0m\u001b[1m \u001b[0m┃\u001b[1m \u001b[0m\u001b[1mp75   \u001b[0m\u001b[1m \u001b[0m┃\u001b[1m \u001b[0m\u001b[1mp100 \u001b[0m\u001b[1m \u001b[0m┃\u001b[1m \u001b[0m\u001b[1mhist  \u001b[0m\u001b[1m \u001b[0m┃  │\n",
       "│ ┡━━━━━━━━━━━━━━━━━━━━━━━━━━╇━━━━━╇━━━━━━━╇━━━━━━━━╇━━━━━━━━╇━━━━━━━╇━━━━━━━╇━━━━━━━╇━━━━━━━━╇━━━━━━━╇━━━━━━━━┩  │\n",
       "│ │ \u001b[38;5;141mTotal_Plastic_Waste_MT  \u001b[0m │ \u001b[36m  0\u001b[0m │ \u001b[36m    0\u001b[0m │ \u001b[36m 1.724\u001b[0m │ \u001b[36m 6.002\u001b[0m │ \u001b[36m 0.01\u001b[0m │ \u001b[36m 0.12\u001b[0m │ \u001b[36m 0.51\u001b[0m │ \u001b[36m  1.33\u001b[0m │ \u001b[36m59.08\u001b[0m │ \u001b[32m  ▇   \u001b[0m │  │\n",
       "│ │ \u001b[38;5;141mRecycling_Rate          \u001b[0m │ \u001b[36m  0\u001b[0m │ \u001b[36m    0\u001b[0m │ \u001b[36m  13.1\u001b[0m │ \u001b[36m 16.69\u001b[0m │ \u001b[36m  0.1\u001b[0m │ \u001b[36m  1.2\u001b[0m │ \u001b[36m  5.4\u001b[0m │ \u001b[36m  16.4\u001b[0m │ \u001b[36m 84.8\u001b[0m │ \u001b[32m ▇▁▁▁ \u001b[0m │  │\n",
       "│ │ \u001b[38;5;141mPer_Capita_Waste_KG     \u001b[0m │ \u001b[36m  0\u001b[0m │ \u001b[36m    0\u001b[0m │ \u001b[36m 122.3\u001b[0m │ \u001b[36m 222.8\u001b[0m │ \u001b[36m  2.6\u001b[0m │ \u001b[36m 17.3\u001b[0m │ \u001b[36m 54.9\u001b[0m │ \u001b[36m 127.5\u001b[0m │ \u001b[36m 1564\u001b[0m │ \u001b[32m  ▇   \u001b[0m │  │\n",
       "│ └──────────────────────────┴─────┴───────┴────────┴────────┴───────┴───────┴───────┴────────┴───────┴────────┘  │\n",
       "│ \u001b[3m                                                    string                                                    \u001b[0m  │\n",
       "│ ┏━━━━━━━━━━━━━━━━━━━━━━━━━━━━━━━━━━━━┳━━━━━━━━┳━━━━━━━━━━━┳━━━━━━━━━━━━━━━━━━━━━━━━━━━┳━━━━━━━━━━━━━━━━━━━━━━┓  │\n",
       "│ ┃\u001b[1m \u001b[0m\u001b[1mcolumn_name                       \u001b[0m\u001b[1m \u001b[0m┃\u001b[1m \u001b[0m\u001b[1mNA    \u001b[0m\u001b[1m \u001b[0m┃\u001b[1m \u001b[0m\u001b[1mNA %     \u001b[0m\u001b[1m \u001b[0m┃\u001b[1m \u001b[0m\u001b[1mwords per row            \u001b[0m\u001b[1m \u001b[0m┃\u001b[1m \u001b[0m\u001b[1mtotal words         \u001b[0m\u001b[1m \u001b[0m┃  │\n",
       "│ ┡━━━━━━━━━━━━━━━━━━━━━━━━━━━━━━━━━━━━╇━━━━━━━━╇━━━━━━━━━━━╇━━━━━━━━━━━━━━━━━━━━━━━━━━━╇━━━━━━━━━━━━━━━━━━━━━━┩  │\n",
       "│ │ \u001b[38;5;141mCountry                           \u001b[0m │ \u001b[36m     0\u001b[0m │ \u001b[36m        0\u001b[0m │ \u001b[36m                      1.2\u001b[0m │ \u001b[36m                 200\u001b[0m │  │\n",
       "│ │ \u001b[38;5;141mMain_Sources                      \u001b[0m │ \u001b[36m     0\u001b[0m │ \u001b[36m        0\u001b[0m │ \u001b[36m                        1\u001b[0m │ \u001b[36m                 165\u001b[0m │  │\n",
       "│ │ \u001b[38;5;141mCoastal_Waste_Risk                \u001b[0m │ \u001b[36m     0\u001b[0m │ \u001b[36m        0\u001b[0m │ \u001b[36m                        1\u001b[0m │ \u001b[36m                 165\u001b[0m │  │\n",
       "│ └────────────────────────────────────┴────────┴───────────┴───────────────────────────┴──────────────────────┘  │\n",
       "╰────────────────────────────────────────────────────── End ──────────────────────────────────────────────────────╯\n"
      ]
     },
     "metadata": {},
     "output_type": "display_data"
    }
   ],
   "source": [
    "# Get a skim summary of the dataset\n",
    "skim(df)"
   ]
  },
  {
   "cell_type": "markdown",
   "metadata": {},
   "source": [
    "<div  style=\"font-family: Arial, sans-serif; font-size: 20px; background-color: #7b2cbf; color: #ffffff; padding: 7px 15px; text-decoration: none; border-radius: 15px;\">\n",
    "⭐\n",
    " \n",
    "</div>"
   ]
  },
  {
   "cell_type": "markdown",
   "metadata": {},
   "source": [
    "<a id=\"32\"></a>\n",
    "### <div style=\"text-align:left; border-radius:15px; padding:20px; color:Black; margin:0; font-size:100%; font-family:Arial; background-color:#48cae4; overflow:hidden\"><b>⚡ 2.  Plastic Waste Metrics by Country</b>\n",
    "<a href=\"#table-of-contents\" style=\"font-family: Arial, sans-serif; font-size: 15px; background-color: #7b2cbf; color: #ffffff; padding: 7px 15px; text-decoration: none; border-radius: 15px;\">\n",
    "        [Table of Content 📜⬆️]\n",
    "</a>\n",
    "</div>"
   ]
  },
  {
   "cell_type": "code",
   "execution_count": 214,
   "metadata": {},
   "outputs": [
    {
     "data": {
      "application/vnd.plotly.v1+json": {
       "config": {
        "plotlyServerURL": "https://plot.ly"
       },
       "data": [
        {
         "alignmentgroup": "True",
         "hovertemplate": "Metric=Total_Plastic_Waste_MT<br>Country=%{x}<br>Value=%{y}<extra></extra>",
         "legendgroup": "Total_Plastic_Waste_MT",
         "marker": {
          "color": "#636efa",
          "pattern": {
           "shape": ""
          }
         },
         "name": "Total_Plastic_Waste_MT",
         "offsetgroup": "Total_Plastic_Waste_MT",
         "orientation": "v",
         "showlegend": true,
         "textposition": "auto",
         "type": "bar",
         "x": [
          "China",
          "United States",
          "India",
          "Japan",
          "Germany",
          "Brazil",
          "Indonesia",
          "Russia",
          "United Kingdom",
          "France",
          "Mexico",
          "Canada",
          "Italy",
          "Turkey",
          "South Korea",
          "Spain",
          "Vietnam",
          "Thailand",
          "Malaysia",
          "Poland",
          "Egypt",
          "Argentina",
          "Netherlands",
          "Australia",
          "Saudi Arabia",
          "Philippines",
          "Bangladesh",
          "Pakistan",
          "South Africa",
          "Colombia"
         ],
         "xaxis": "x",
         "y": [
          59.08,
          42.02,
          26.33,
          7.99,
          6.28,
          5.96,
          5.85,
          5.84,
          5.03,
          4.98,
          4.43,
          3.89,
          3.83,
          3.21,
          2.91,
          2.58,
          2.54,
          2.41,
          2.31,
          2.21,
          2.01,
          1.98,
          1.78,
          1.67,
          1.65,
          1.63,
          1.61,
          1.59,
          1.58,
          1.54
         ],
         "yaxis": "y"
        },
        {
         "alignmentgroup": "True",
         "hovertemplate": "Metric=Recycling_Rate<br>Country=%{x}<br>Value=%{y}<extra></extra>",
         "legendgroup": "Recycling_Rate",
         "marker": {
          "color": "#EF553B",
          "pattern": {
           "shape": ""
          }
         },
         "name": "Recycling_Rate",
         "offsetgroup": "Recycling_Rate",
         "orientation": "v",
         "showlegend": true,
         "textposition": "auto",
         "type": "bar",
         "x": [
          "China",
          "United States",
          "India",
          "Japan",
          "Germany",
          "Brazil",
          "Indonesia",
          "Russia",
          "United Kingdom",
          "France",
          "Mexico",
          "Canada",
          "Italy",
          "Turkey",
          "South Korea",
          "Spain",
          "Vietnam",
          "Thailand",
          "Malaysia",
          "Poland",
          "Egypt",
          "Argentina",
          "Netherlands",
          "Australia",
          "Saudi Arabia",
          "Philippines",
          "Bangladesh",
          "Pakistan",
          "South Africa",
          "Colombia"
         ],
         "xaxis": "x",
         "y": [
          29.8,
          32.1,
          11.5,
          84.8,
          56.1,
          1.2,
          11.8,
          5.6,
          46.2,
          27.3,
          6.7,
          9.4,
          41.2,
          12.1,
          59.1,
          37.8,
          15.3,
          17.6,
          24.3,
          34.5,
          6.5,
          14.2,
          55.9,
          13.2,
          4.5,
          9.1,
          8.4,
          3.2,
          18.9,
          7.8
         ],
         "yaxis": "y"
        },
        {
         "alignmentgroup": "True",
         "hovertemplate": "Metric=Per_Capita_Waste_KG<br>Country=%{x}<br>Value=%{y}<extra></extra>",
         "legendgroup": "Per_Capita_Waste_KG",
         "marker": {
          "color": "#00cc96",
          "pattern": {
           "shape": ""
          }
         },
         "name": "Per_Capita_Waste_KG",
         "offsetgroup": "Per_Capita_Waste_KG",
         "orientation": "v",
         "showlegend": true,
         "textposition": "auto",
         "type": "bar",
         "x": [
          "China",
          "United States",
          "India",
          "Japan",
          "Germany",
          "Brazil",
          "Indonesia",
          "Russia",
          "United Kingdom",
          "France",
          "Mexico",
          "Canada",
          "Italy",
          "Turkey",
          "South Korea",
          "Spain",
          "Vietnam",
          "Thailand",
          "Malaysia",
          "Poland",
          "Egypt",
          "Argentina",
          "Netherlands",
          "Australia",
          "Saudi Arabia",
          "Philippines",
          "Bangladesh",
          "Pakistan",
          "South Africa",
          "Colombia"
         ],
         "xaxis": "x",
         "y": [
          41.2,
          127.5,
          19.3,
          63.2,
          75.6,
          28.1,
          21.3,
          40.2,
          74.3,
          73.1,
          34.2,
          102.1,
          63.4,
          38.5,
          56.7,
          54.9,
          25.8,
          34.5,
          70.2,
          58.3,
          19.3,
          43.5,
          102.8,
          64.8,
          46.9,
          14.8,
          9.7,
          7.1,
          26.4,
          30.1
         ],
         "yaxis": "y"
        }
       ],
       "layout": {
        "barmode": "group",
        "height": 600,
        "legend": {
         "title": {
          "text": "Metric"
         },
         "tracegroupgap": 0
        },
        "margin": {
         "t": 60
        },
        "template": {
         "data": {
          "bar": [
           {
            "error_x": {
             "color": "#2a3f5f"
            },
            "error_y": {
             "color": "#2a3f5f"
            },
            "marker": {
             "line": {
              "color": "#E5ECF6",
              "width": 0.5
             },
             "pattern": {
              "fillmode": "overlay",
              "size": 10,
              "solidity": 0.2
             }
            },
            "type": "bar"
           }
          ],
          "barpolar": [
           {
            "marker": {
             "line": {
              "color": "#E5ECF6",
              "width": 0.5
             },
             "pattern": {
              "fillmode": "overlay",
              "size": 10,
              "solidity": 0.2
             }
            },
            "type": "barpolar"
           }
          ],
          "carpet": [
           {
            "aaxis": {
             "endlinecolor": "#2a3f5f",
             "gridcolor": "white",
             "linecolor": "white",
             "minorgridcolor": "white",
             "startlinecolor": "#2a3f5f"
            },
            "baxis": {
             "endlinecolor": "#2a3f5f",
             "gridcolor": "white",
             "linecolor": "white",
             "minorgridcolor": "white",
             "startlinecolor": "#2a3f5f"
            },
            "type": "carpet"
           }
          ],
          "choropleth": [
           {
            "colorbar": {
             "outlinewidth": 0,
             "ticks": ""
            },
            "type": "choropleth"
           }
          ],
          "contour": [
           {
            "colorbar": {
             "outlinewidth": 0,
             "ticks": ""
            },
            "colorscale": [
             [
              0,
              "#0d0887"
             ],
             [
              0.1111111111111111,
              "#46039f"
             ],
             [
              0.2222222222222222,
              "#7201a8"
             ],
             [
              0.3333333333333333,
              "#9c179e"
             ],
             [
              0.4444444444444444,
              "#bd3786"
             ],
             [
              0.5555555555555556,
              "#d8576b"
             ],
             [
              0.6666666666666666,
              "#ed7953"
             ],
             [
              0.7777777777777778,
              "#fb9f3a"
             ],
             [
              0.8888888888888888,
              "#fdca26"
             ],
             [
              1,
              "#f0f921"
             ]
            ],
            "type": "contour"
           }
          ],
          "contourcarpet": [
           {
            "colorbar": {
             "outlinewidth": 0,
             "ticks": ""
            },
            "type": "contourcarpet"
           }
          ],
          "heatmap": [
           {
            "colorbar": {
             "outlinewidth": 0,
             "ticks": ""
            },
            "colorscale": [
             [
              0,
              "#0d0887"
             ],
             [
              0.1111111111111111,
              "#46039f"
             ],
             [
              0.2222222222222222,
              "#7201a8"
             ],
             [
              0.3333333333333333,
              "#9c179e"
             ],
             [
              0.4444444444444444,
              "#bd3786"
             ],
             [
              0.5555555555555556,
              "#d8576b"
             ],
             [
              0.6666666666666666,
              "#ed7953"
             ],
             [
              0.7777777777777778,
              "#fb9f3a"
             ],
             [
              0.8888888888888888,
              "#fdca26"
             ],
             [
              1,
              "#f0f921"
             ]
            ],
            "type": "heatmap"
           }
          ],
          "heatmapgl": [
           {
            "colorbar": {
             "outlinewidth": 0,
             "ticks": ""
            },
            "colorscale": [
             [
              0,
              "#0d0887"
             ],
             [
              0.1111111111111111,
              "#46039f"
             ],
             [
              0.2222222222222222,
              "#7201a8"
             ],
             [
              0.3333333333333333,
              "#9c179e"
             ],
             [
              0.4444444444444444,
              "#bd3786"
             ],
             [
              0.5555555555555556,
              "#d8576b"
             ],
             [
              0.6666666666666666,
              "#ed7953"
             ],
             [
              0.7777777777777778,
              "#fb9f3a"
             ],
             [
              0.8888888888888888,
              "#fdca26"
             ],
             [
              1,
              "#f0f921"
             ]
            ],
            "type": "heatmapgl"
           }
          ],
          "histogram": [
           {
            "marker": {
             "pattern": {
              "fillmode": "overlay",
              "size": 10,
              "solidity": 0.2
             }
            },
            "type": "histogram"
           }
          ],
          "histogram2d": [
           {
            "colorbar": {
             "outlinewidth": 0,
             "ticks": ""
            },
            "colorscale": [
             [
              0,
              "#0d0887"
             ],
             [
              0.1111111111111111,
              "#46039f"
             ],
             [
              0.2222222222222222,
              "#7201a8"
             ],
             [
              0.3333333333333333,
              "#9c179e"
             ],
             [
              0.4444444444444444,
              "#bd3786"
             ],
             [
              0.5555555555555556,
              "#d8576b"
             ],
             [
              0.6666666666666666,
              "#ed7953"
             ],
             [
              0.7777777777777778,
              "#fb9f3a"
             ],
             [
              0.8888888888888888,
              "#fdca26"
             ],
             [
              1,
              "#f0f921"
             ]
            ],
            "type": "histogram2d"
           }
          ],
          "histogram2dcontour": [
           {
            "colorbar": {
             "outlinewidth": 0,
             "ticks": ""
            },
            "colorscale": [
             [
              0,
              "#0d0887"
             ],
             [
              0.1111111111111111,
              "#46039f"
             ],
             [
              0.2222222222222222,
              "#7201a8"
             ],
             [
              0.3333333333333333,
              "#9c179e"
             ],
             [
              0.4444444444444444,
              "#bd3786"
             ],
             [
              0.5555555555555556,
              "#d8576b"
             ],
             [
              0.6666666666666666,
              "#ed7953"
             ],
             [
              0.7777777777777778,
              "#fb9f3a"
             ],
             [
              0.8888888888888888,
              "#fdca26"
             ],
             [
              1,
              "#f0f921"
             ]
            ],
            "type": "histogram2dcontour"
           }
          ],
          "mesh3d": [
           {
            "colorbar": {
             "outlinewidth": 0,
             "ticks": ""
            },
            "type": "mesh3d"
           }
          ],
          "parcoords": [
           {
            "line": {
             "colorbar": {
              "outlinewidth": 0,
              "ticks": ""
             }
            },
            "type": "parcoords"
           }
          ],
          "pie": [
           {
            "automargin": true,
            "type": "pie"
           }
          ],
          "scatter": [
           {
            "fillpattern": {
             "fillmode": "overlay",
             "size": 10,
             "solidity": 0.2
            },
            "type": "scatter"
           }
          ],
          "scatter3d": [
           {
            "line": {
             "colorbar": {
              "outlinewidth": 0,
              "ticks": ""
             }
            },
            "marker": {
             "colorbar": {
              "outlinewidth": 0,
              "ticks": ""
             }
            },
            "type": "scatter3d"
           }
          ],
          "scattercarpet": [
           {
            "marker": {
             "colorbar": {
              "outlinewidth": 0,
              "ticks": ""
             }
            },
            "type": "scattercarpet"
           }
          ],
          "scattergeo": [
           {
            "marker": {
             "colorbar": {
              "outlinewidth": 0,
              "ticks": ""
             }
            },
            "type": "scattergeo"
           }
          ],
          "scattergl": [
           {
            "marker": {
             "colorbar": {
              "outlinewidth": 0,
              "ticks": ""
             }
            },
            "type": "scattergl"
           }
          ],
          "scattermapbox": [
           {
            "marker": {
             "colorbar": {
              "outlinewidth": 0,
              "ticks": ""
             }
            },
            "type": "scattermapbox"
           }
          ],
          "scatterpolar": [
           {
            "marker": {
             "colorbar": {
              "outlinewidth": 0,
              "ticks": ""
             }
            },
            "type": "scatterpolar"
           }
          ],
          "scatterpolargl": [
           {
            "marker": {
             "colorbar": {
              "outlinewidth": 0,
              "ticks": ""
             }
            },
            "type": "scatterpolargl"
           }
          ],
          "scatterternary": [
           {
            "marker": {
             "colorbar": {
              "outlinewidth": 0,
              "ticks": ""
             }
            },
            "type": "scatterternary"
           }
          ],
          "surface": [
           {
            "colorbar": {
             "outlinewidth": 0,
             "ticks": ""
            },
            "colorscale": [
             [
              0,
              "#0d0887"
             ],
             [
              0.1111111111111111,
              "#46039f"
             ],
             [
              0.2222222222222222,
              "#7201a8"
             ],
             [
              0.3333333333333333,
              "#9c179e"
             ],
             [
              0.4444444444444444,
              "#bd3786"
             ],
             [
              0.5555555555555556,
              "#d8576b"
             ],
             [
              0.6666666666666666,
              "#ed7953"
             ],
             [
              0.7777777777777778,
              "#fb9f3a"
             ],
             [
              0.8888888888888888,
              "#fdca26"
             ],
             [
              1,
              "#f0f921"
             ]
            ],
            "type": "surface"
           }
          ],
          "table": [
           {
            "cells": {
             "fill": {
              "color": "#EBF0F8"
             },
             "line": {
              "color": "white"
             }
            },
            "header": {
             "fill": {
              "color": "#C8D4E3"
             },
             "line": {
              "color": "white"
             }
            },
            "type": "table"
           }
          ]
         },
         "layout": {
          "annotationdefaults": {
           "arrowcolor": "#2a3f5f",
           "arrowhead": 0,
           "arrowwidth": 1
          },
          "autotypenumbers": "strict",
          "coloraxis": {
           "colorbar": {
            "outlinewidth": 0,
            "ticks": ""
           }
          },
          "colorscale": {
           "diverging": [
            [
             0,
             "#8e0152"
            ],
            [
             0.1,
             "#c51b7d"
            ],
            [
             0.2,
             "#de77ae"
            ],
            [
             0.3,
             "#f1b6da"
            ],
            [
             0.4,
             "#fde0ef"
            ],
            [
             0.5,
             "#f7f7f7"
            ],
            [
             0.6,
             "#e6f5d0"
            ],
            [
             0.7,
             "#b8e186"
            ],
            [
             0.8,
             "#7fbc41"
            ],
            [
             0.9,
             "#4d9221"
            ],
            [
             1,
             "#276419"
            ]
           ],
           "sequential": [
            [
             0,
             "#0d0887"
            ],
            [
             0.1111111111111111,
             "#46039f"
            ],
            [
             0.2222222222222222,
             "#7201a8"
            ],
            [
             0.3333333333333333,
             "#9c179e"
            ],
            [
             0.4444444444444444,
             "#bd3786"
            ],
            [
             0.5555555555555556,
             "#d8576b"
            ],
            [
             0.6666666666666666,
             "#ed7953"
            ],
            [
             0.7777777777777778,
             "#fb9f3a"
            ],
            [
             0.8888888888888888,
             "#fdca26"
            ],
            [
             1,
             "#f0f921"
            ]
           ],
           "sequentialminus": [
            [
             0,
             "#0d0887"
            ],
            [
             0.1111111111111111,
             "#46039f"
            ],
            [
             0.2222222222222222,
             "#7201a8"
            ],
            [
             0.3333333333333333,
             "#9c179e"
            ],
            [
             0.4444444444444444,
             "#bd3786"
            ],
            [
             0.5555555555555556,
             "#d8576b"
            ],
            [
             0.6666666666666666,
             "#ed7953"
            ],
            [
             0.7777777777777778,
             "#fb9f3a"
            ],
            [
             0.8888888888888888,
             "#fdca26"
            ],
            [
             1,
             "#f0f921"
            ]
           ]
          },
          "colorway": [
           "#636efa",
           "#EF553B",
           "#00cc96",
           "#ab63fa",
           "#FFA15A",
           "#19d3f3",
           "#FF6692",
           "#B6E880",
           "#FF97FF",
           "#FECB52"
          ],
          "font": {
           "color": "#2a3f5f"
          },
          "geo": {
           "bgcolor": "white",
           "lakecolor": "white",
           "landcolor": "#E5ECF6",
           "showlakes": true,
           "showland": true,
           "subunitcolor": "white"
          },
          "hoverlabel": {
           "align": "left"
          },
          "hovermode": "closest",
          "mapbox": {
           "style": "light"
          },
          "paper_bgcolor": "white",
          "plot_bgcolor": "#E5ECF6",
          "polar": {
           "angularaxis": {
            "gridcolor": "white",
            "linecolor": "white",
            "ticks": ""
           },
           "bgcolor": "#E5ECF6",
           "radialaxis": {
            "gridcolor": "white",
            "linecolor": "white",
            "ticks": ""
           }
          },
          "scene": {
           "xaxis": {
            "backgroundcolor": "#E5ECF6",
            "gridcolor": "white",
            "gridwidth": 2,
            "linecolor": "white",
            "showbackground": true,
            "ticks": "",
            "zerolinecolor": "white"
           },
           "yaxis": {
            "backgroundcolor": "#E5ECF6",
            "gridcolor": "white",
            "gridwidth": 2,
            "linecolor": "white",
            "showbackground": true,
            "ticks": "",
            "zerolinecolor": "white"
           },
           "zaxis": {
            "backgroundcolor": "#E5ECF6",
            "gridcolor": "white",
            "gridwidth": 2,
            "linecolor": "white",
            "showbackground": true,
            "ticks": "",
            "zerolinecolor": "white"
           }
          },
          "shapedefaults": {
           "line": {
            "color": "#2a3f5f"
           }
          },
          "ternary": {
           "aaxis": {
            "gridcolor": "white",
            "linecolor": "white",
            "ticks": ""
           },
           "baxis": {
            "gridcolor": "white",
            "linecolor": "white",
            "ticks": ""
           },
           "bgcolor": "#E5ECF6",
           "caxis": {
            "gridcolor": "white",
            "linecolor": "white",
            "ticks": ""
           }
          },
          "title": {
           "x": 0.05
          },
          "xaxis": {
           "automargin": true,
           "gridcolor": "white",
           "linecolor": "white",
           "ticks": "",
           "title": {
            "standoff": 15
           },
           "zerolinecolor": "white",
           "zerolinewidth": 2
          },
          "yaxis": {
           "automargin": true,
           "gridcolor": "white",
           "linecolor": "white",
           "ticks": "",
           "title": {
            "standoff": 15
           },
           "zerolinecolor": "white",
           "zerolinewidth": 2
          }
         }
        },
        "title": {
         "text": " Plastic Waste Metrics by Country "
        },
        "width": 1600,
        "xaxis": {
         "anchor": "y",
         "domain": [
          0,
          1
         ],
         "title": {
          "text": "Country"
         }
        },
        "yaxis": {
         "anchor": "x",
         "domain": [
          0,
          1
         ],
         "title": {
          "text": "Value"
         }
        }
       }
      }
     },
     "metadata": {},
     "output_type": "display_data"
    }
   ],
   "source": [
    "top_30 = df.nlargest(30, 'Total_Plastic_Waste_MT')\n",
    "\n",
    "top_30_melt = top_30.melt(\n",
    "    id_vars=['Country'],\n",
    "    value_vars= ['Total_Plastic_Waste_MT', 'Recycling_Rate','Per_Capita_Waste_KG'] ,\n",
    "    var_name='Metric',\n",
    "    value_name='Value',\n",
    ")\n",
    "\n",
    "fig = px.bar(\n",
    "    top_30_melt,\n",
    "    x='Country',\n",
    "    y= 'Value',\n",
    "    color='Metric',\n",
    "    barmode='group',\n",
    "\n",
    ")\n",
    "\n",
    "fig.update_layout(\n",
    "    title = ' Plastic Waste Metrics by Country ',\n",
    "    height=600,\n",
    "    width=1600,\n",
    ")\n",
    "fig.show()"
   ]
  },
  {
   "cell_type": "markdown",
   "metadata": {},
   "source": [
    "<div  style=\"font-family: Arial, sans-serif; font-size: 20px; background-color: #7b2cbf; color: #ffffff; padding: 7px 15px; text-decoration: none; border-radius: 15px;\">\n",
    "⭐\n",
    " \n",
    "</div>"
   ]
  },
  {
   "cell_type": "markdown",
   "metadata": {},
   "source": [
    "<a id=\"33\"></a>\n",
    "### <div style=\"text-align:left; border-radius:15px; padding:20px; color:Black; margin:0; font-size:100%; font-family:Arial; background-color:#48cae4; overflow:hidden\"><b>⚡ 3. Main Sources reason</b>\n",
    "<a href=\"#table-of-contents\" style=\"font-family: Arial, sans-serif; font-size: 15px; background-color: #7b2cbf; color: #ffffff; padding: 7px 15px; text-decoration: none; border-radius: 15px;\">\n",
    "        [Table of Content 📜⬆️]\n",
    "</a>\n",
    "</div>"
   ]
  },
  {
   "cell_type": "code",
   "execution_count": 215,
   "metadata": {},
   "outputs": [
    {
     "data": {
      "application/vnd.plotly.v1+json": {
       "config": {
        "plotlyServerURL": "https://plot.ly"
       },
       "data": [
        {
         "customdata": [
          [
           "Packaging_Industrial"
          ],
          [
           "Packaging_Consumer"
          ],
          [
           "Consumer_Goods"
          ],
          [
           "Packaging_Electronics"
          ],
          [
           "Automotive_Packaging"
          ],
          [
           "Consumer_Packaging"
          ],
          [
           "Food_Packaging"
          ],
          [
           "Industrial_Consumer"
          ],
          [
           "Packaging_Consumer"
          ],
          [
           "Packaging_Consumer"
          ],
          [
           "Consumer_Packaging"
          ],
          [
           "Packaging_Consumer"
          ],
          [
           "Packaging_Industrial"
          ],
          [
           "Consumer_Packaging"
          ],
          [
           "Electronics_Packaging"
          ],
          [
           "Consumer_Packaging"
          ],
          [
           "Food_Packaging"
          ],
          [
           "Consumer_Packaging"
          ],
          [
           "Industrial_Consumer"
          ],
          [
           "Packaging_Industrial"
          ],
          [
           "Consumer_Packaging"
          ],
          [
           "Consumer_Packaging"
          ],
          [
           "Industrial_Packaging"
          ],
          [
           "Consumer_Packaging"
          ],
          [
           "Consumer_Packaging"
          ],
          [
           "Food_Packaging"
          ],
          [
           "Consumer_Packaging"
          ],
          [
           "Consumer_Packaging"
          ],
          [
           "Consumer_Packaging"
          ],
          [
           "Consumer_Packaging"
          ],
          [
           "Consumer_Packaging"
          ],
          [
           "Industrial_Packaging"
          ],
          [
           "Packaging_Industrial"
          ],
          [
           "Industrial_Packaging"
          ],
          [
           "Consumer_Packaging"
          ],
          [
           "Consumer_Packaging"
          ],
          [
           "Industrial_Packaging"
          ],
          [
           "Consumer_Packaging"
          ],
          [
           "Consumer_Packaging"
          ],
          [
           "Industrial_Packaging"
          ],
          [
           "Packaging_Consumer"
          ],
          [
           "Industrial_Packaging"
          ],
          [
           "Industrial_Packaging"
          ],
          [
           "Consumer_Packaging"
          ],
          [
           "Industrial_Packaging"
          ],
          [
           "Consumer_Packaging"
          ],
          [
           "Consumer_Packaging"
          ],
          [
           "Consumer_Packaging"
          ],
          [
           "Industrial_Consumer"
          ],
          [
           "Consumer_Packaging"
          ],
          [
           "Consumer_Packaging"
          ],
          [
           "Industrial_Packaging"
          ],
          [
           "Consumer_Packaging"
          ],
          [
           "Industrial_Consumer"
          ],
          [
           "Consumer_Packaging"
          ],
          [
           "Consumer_Packaging"
          ],
          [
           "Consumer_Packaging"
          ],
          [
           "Consumer_Packaging"
          ],
          [
           "Consumer_Packaging"
          ],
          [
           "Consumer_Packaging"
          ],
          [
           "Consumer_Packaging"
          ],
          [
           "Industrial_Packaging"
          ],
          [
           "Industrial_Packaging"
          ],
          [
           "Consumer_Packaging"
          ],
          [
           "Consumer_Packaging"
          ],
          [
           "Consumer_Packaging"
          ],
          [
           "Consumer_Packaging"
          ],
          [
           "Consumer_Packaging"
          ],
          [
           "Consumer_Packaging"
          ],
          [
           "Consumer_Packaging"
          ],
          [
           "Consumer_Packaging"
          ],
          [
           "Industrial_Packaging"
          ],
          [
           "Industrial_Packaging"
          ],
          [
           "Consumer_Packaging"
          ],
          [
           "Consumer_Packaging"
          ],
          [
           "Consumer_Packaging"
          ],
          [
           "Consumer_Packaging"
          ],
          [
           "Industrial_Packaging"
          ],
          [
           "Consumer_Packaging"
          ],
          [
           "Consumer_Packaging"
          ],
          [
           "Consumer_Packaging"
          ],
          [
           "Consumer_Packaging"
          ],
          [
           "Consumer_Packaging"
          ],
          [
           "Consumer_Packaging"
          ],
          [
           "Consumer_Packaging"
          ],
          [
           "Consumer_Packaging"
          ],
          [
           "Consumer_Packaging"
          ],
          [
           "Consumer_Packaging"
          ],
          [
           "Consumer_Packaging"
          ],
          [
           "Consumer_Packaging"
          ],
          [
           "Consumer_Packaging"
          ],
          [
           "Consumer_Packaging"
          ],
          [
           "Consumer_Packaging"
          ],
          [
           "Consumer_Packaging"
          ],
          [
           "Consumer_Packaging"
          ],
          [
           "Consumer_Packaging"
          ],
          [
           "Consumer_Packaging"
          ],
          [
           "Consumer_Packaging"
          ],
          [
           "Consumer_Packaging"
          ],
          [
           "Consumer_Packaging"
          ],
          [
           "Consumer_Packaging"
          ],
          [
           "Consumer_Packaging"
          ],
          [
           "Consumer_Packaging"
          ],
          [
           "Consumer_Packaging"
          ],
          [
           "Consumer_Packaging"
          ],
          [
           "Consumer_Packaging"
          ],
          [
           "Consumer_Packaging"
          ],
          [
           "Consumer_Packaging"
          ],
          [
           "Consumer_Packaging"
          ],
          [
           "Consumer_Packaging"
          ],
          [
           "Consumer_Packaging"
          ],
          [
           "Consumer_Packaging"
          ],
          [
           "Consumer_Packaging"
          ],
          [
           "Consumer_Packaging"
          ],
          [
           "Consumer_Packaging"
          ],
          [
           "Consumer_Packaging"
          ],
          [
           "Consumer_Packaging"
          ],
          [
           "Consumer_Packaging"
          ],
          [
           "Consumer_Packaging"
          ],
          [
           "Consumer_Packaging"
          ],
          [
           "Consumer_Packaging"
          ],
          [
           "Consumer_Packaging"
          ],
          [
           "Consumer_Packaging"
          ],
          [
           "Consumer_Packaging"
          ],
          [
           "Consumer_Packaging"
          ],
          [
           "Consumer_Packaging"
          ],
          [
           "Consumer_Packaging"
          ],
          [
           "Consumer_Packaging"
          ],
          [
           "Consumer_Packaging"
          ],
          [
           "Consumer_Packaging"
          ],
          [
           "Consumer_Packaging"
          ],
          [
           "Consumer_Packaging"
          ],
          [
           "Consumer_Packaging"
          ],
          [
           "Consumer_Packaging"
          ],
          [
           "Consumer_Packaging"
          ],
          [
           "Consumer_Packaging"
          ],
          [
           "Consumer_Packaging"
          ],
          [
           "Consumer_Packaging"
          ],
          [
           "Consumer_Packaging"
          ],
          [
           "Consumer_Packaging"
          ],
          [
           "Consumer_Packaging"
          ],
          [
           "Consumer_Packaging"
          ],
          [
           "Consumer_Packaging"
          ],
          [
           "Consumer_Packaging"
          ],
          [
           "Consumer_Packaging"
          ],
          [
           "Consumer_Packaging"
          ],
          [
           "Consumer_Packaging"
          ],
          [
           "Consumer_Packaging"
          ],
          [
           "Consumer_Packaging"
          ],
          [
           "Consumer_Packaging"
          ],
          [
           "Consumer_Packaging"
          ],
          [
           "Consumer_Packaging"
          ],
          [
           "Consumer_Packaging"
          ],
          [
           "Consumer_Packaging"
          ],
          [
           "Consumer_Packaging"
          ],
          [
           "Consumer_Packaging"
          ],
          [
           "Consumer_Packaging"
          ],
          [
           "Consumer_Packaging"
          ],
          [
           "Consumer_Packaging"
          ],
          [
           "Consumer_Packaging"
          ],
          [
           "Consumer_Packaging"
          ],
          [
           "Consumer_Packaging"
          ],
          [
           "Consumer_Packaging"
          ],
          [
           "Consumer_Packaging"
          ],
          [
           "Consumer_Packaging"
          ]
         ],
         "domain": {
          "x": [
           0,
           1
          ],
          "y": [
           0,
           1
          ]
         },
         "hovertemplate": "Main_Sources=%{customdata[0]}<extra></extra>",
         "labels": [
          "Packaging_Industrial",
          "Packaging_Consumer",
          "Consumer_Goods",
          "Packaging_Electronics",
          "Automotive_Packaging",
          "Consumer_Packaging",
          "Food_Packaging",
          "Industrial_Consumer",
          "Packaging_Consumer",
          "Packaging_Consumer",
          "Consumer_Packaging",
          "Packaging_Consumer",
          "Packaging_Industrial",
          "Consumer_Packaging",
          "Electronics_Packaging",
          "Consumer_Packaging",
          "Food_Packaging",
          "Consumer_Packaging",
          "Industrial_Consumer",
          "Packaging_Industrial",
          "Consumer_Packaging",
          "Consumer_Packaging",
          "Industrial_Packaging",
          "Consumer_Packaging",
          "Consumer_Packaging",
          "Food_Packaging",
          "Consumer_Packaging",
          "Consumer_Packaging",
          "Consumer_Packaging",
          "Consumer_Packaging",
          "Consumer_Packaging",
          "Industrial_Packaging",
          "Packaging_Industrial",
          "Industrial_Packaging",
          "Consumer_Packaging",
          "Consumer_Packaging",
          "Industrial_Packaging",
          "Consumer_Packaging",
          "Consumer_Packaging",
          "Industrial_Packaging",
          "Packaging_Consumer",
          "Industrial_Packaging",
          "Industrial_Packaging",
          "Consumer_Packaging",
          "Industrial_Packaging",
          "Consumer_Packaging",
          "Consumer_Packaging",
          "Consumer_Packaging",
          "Industrial_Consumer",
          "Consumer_Packaging",
          "Consumer_Packaging",
          "Industrial_Packaging",
          "Consumer_Packaging",
          "Industrial_Consumer",
          "Consumer_Packaging",
          "Consumer_Packaging",
          "Consumer_Packaging",
          "Consumer_Packaging",
          "Consumer_Packaging",
          "Consumer_Packaging",
          "Consumer_Packaging",
          "Industrial_Packaging",
          "Industrial_Packaging",
          "Consumer_Packaging",
          "Consumer_Packaging",
          "Consumer_Packaging",
          "Consumer_Packaging",
          "Consumer_Packaging",
          "Consumer_Packaging",
          "Consumer_Packaging",
          "Consumer_Packaging",
          "Industrial_Packaging",
          "Industrial_Packaging",
          "Consumer_Packaging",
          "Consumer_Packaging",
          "Consumer_Packaging",
          "Consumer_Packaging",
          "Industrial_Packaging",
          "Consumer_Packaging",
          "Consumer_Packaging",
          "Consumer_Packaging",
          "Consumer_Packaging",
          "Consumer_Packaging",
          "Consumer_Packaging",
          "Consumer_Packaging",
          "Consumer_Packaging",
          "Consumer_Packaging",
          "Consumer_Packaging",
          "Consumer_Packaging",
          "Consumer_Packaging",
          "Consumer_Packaging",
          "Consumer_Packaging",
          "Consumer_Packaging",
          "Consumer_Packaging",
          "Consumer_Packaging",
          "Consumer_Packaging",
          "Consumer_Packaging",
          "Consumer_Packaging",
          "Consumer_Packaging",
          "Consumer_Packaging",
          "Consumer_Packaging",
          "Consumer_Packaging",
          "Consumer_Packaging",
          "Consumer_Packaging",
          "Consumer_Packaging",
          "Consumer_Packaging",
          "Consumer_Packaging",
          "Consumer_Packaging",
          "Consumer_Packaging",
          "Consumer_Packaging",
          "Consumer_Packaging",
          "Consumer_Packaging",
          "Consumer_Packaging",
          "Consumer_Packaging",
          "Consumer_Packaging",
          "Consumer_Packaging",
          "Consumer_Packaging",
          "Consumer_Packaging",
          "Consumer_Packaging",
          "Consumer_Packaging",
          "Consumer_Packaging",
          "Consumer_Packaging",
          "Consumer_Packaging",
          "Consumer_Packaging",
          "Consumer_Packaging",
          "Consumer_Packaging",
          "Consumer_Packaging",
          "Consumer_Packaging",
          "Consumer_Packaging",
          "Consumer_Packaging",
          "Consumer_Packaging",
          "Consumer_Packaging",
          "Consumer_Packaging",
          "Consumer_Packaging",
          "Consumer_Packaging",
          "Consumer_Packaging",
          "Consumer_Packaging",
          "Consumer_Packaging",
          "Consumer_Packaging",
          "Consumer_Packaging",
          "Consumer_Packaging",
          "Consumer_Packaging",
          "Consumer_Packaging",
          "Consumer_Packaging",
          "Consumer_Packaging",
          "Consumer_Packaging",
          "Consumer_Packaging",
          "Consumer_Packaging",
          "Consumer_Packaging",
          "Consumer_Packaging",
          "Consumer_Packaging",
          "Consumer_Packaging",
          "Consumer_Packaging",
          "Consumer_Packaging",
          "Consumer_Packaging",
          "Consumer_Packaging",
          "Consumer_Packaging",
          "Consumer_Packaging",
          "Consumer_Packaging",
          "Consumer_Packaging",
          "Consumer_Packaging",
          "Consumer_Packaging",
          "Consumer_Packaging",
          "Consumer_Packaging",
          "Consumer_Packaging"
         ],
         "legendgroup": "",
         "marker": {
          "colors": [
           "#636efa",
           "#EF553B",
           "#00cc96",
           "#ab63fa",
           "#FFA15A",
           "#19d3f3",
           "#FF6692",
           "#B6E880",
           "#EF553B",
           "#EF553B",
           "#19d3f3",
           "#EF553B",
           "#636efa",
           "#19d3f3",
           "#FF97FF",
           "#19d3f3",
           "#FF6692",
           "#19d3f3",
           "#B6E880",
           "#636efa",
           "#19d3f3",
           "#19d3f3",
           "#FECB52",
           "#19d3f3",
           "#19d3f3",
           "#FF6692",
           "#19d3f3",
           "#19d3f3",
           "#19d3f3",
           "#19d3f3",
           "#19d3f3",
           "#FECB52",
           "#636efa",
           "#FECB52",
           "#19d3f3",
           "#19d3f3",
           "#FECB52",
           "#19d3f3",
           "#19d3f3",
           "#FECB52",
           "#EF553B",
           "#FECB52",
           "#FECB52",
           "#19d3f3",
           "#FECB52",
           "#19d3f3",
           "#19d3f3",
           "#19d3f3",
           "#B6E880",
           "#19d3f3",
           "#19d3f3",
           "#FECB52",
           "#19d3f3",
           "#B6E880",
           "#19d3f3",
           "#19d3f3",
           "#19d3f3",
           "#19d3f3",
           "#19d3f3",
           "#19d3f3",
           "#19d3f3",
           "#FECB52",
           "#FECB52",
           "#19d3f3",
           "#19d3f3",
           "#19d3f3",
           "#19d3f3",
           "#19d3f3",
           "#19d3f3",
           "#19d3f3",
           "#19d3f3",
           "#FECB52",
           "#FECB52",
           "#19d3f3",
           "#19d3f3",
           "#19d3f3",
           "#19d3f3",
           "#FECB52",
           "#19d3f3",
           "#19d3f3",
           "#19d3f3",
           "#19d3f3",
           "#19d3f3",
           "#19d3f3",
           "#19d3f3",
           "#19d3f3",
           "#19d3f3",
           "#19d3f3",
           "#19d3f3",
           "#19d3f3",
           "#19d3f3",
           "#19d3f3",
           "#19d3f3",
           "#19d3f3",
           "#19d3f3",
           "#19d3f3",
           "#19d3f3",
           "#19d3f3",
           "#19d3f3",
           "#19d3f3",
           "#19d3f3",
           "#19d3f3",
           "#19d3f3",
           "#19d3f3",
           "#19d3f3",
           "#19d3f3",
           "#19d3f3",
           "#19d3f3",
           "#19d3f3",
           "#19d3f3",
           "#19d3f3",
           "#19d3f3",
           "#19d3f3",
           "#19d3f3",
           "#19d3f3",
           "#19d3f3",
           "#19d3f3",
           "#19d3f3",
           "#19d3f3",
           "#19d3f3",
           "#19d3f3",
           "#19d3f3",
           "#19d3f3",
           "#19d3f3",
           "#19d3f3",
           "#19d3f3",
           "#19d3f3",
           "#19d3f3",
           "#19d3f3",
           "#19d3f3",
           "#19d3f3",
           "#19d3f3",
           "#19d3f3",
           "#19d3f3",
           "#19d3f3",
           "#19d3f3",
           "#19d3f3",
           "#19d3f3",
           "#19d3f3",
           "#19d3f3",
           "#19d3f3",
           "#19d3f3",
           "#19d3f3",
           "#19d3f3",
           "#19d3f3",
           "#19d3f3",
           "#19d3f3",
           "#19d3f3",
           "#19d3f3",
           "#19d3f3",
           "#19d3f3",
           "#19d3f3",
           "#19d3f3",
           "#19d3f3",
           "#19d3f3",
           "#19d3f3",
           "#19d3f3",
           "#19d3f3",
           "#19d3f3",
           "#19d3f3",
           "#19d3f3",
           "#19d3f3",
           "#19d3f3",
           "#19d3f3",
           "#19d3f3"
          ]
         },
         "name": "",
         "showlegend": true,
         "type": "pie"
        }
       ],
       "layout": {
        "height": 600,
        "legend": {
         "tracegroupgap": 0
        },
        "margin": {
         "t": 60
        },
        "template": {
         "data": {
          "bar": [
           {
            "error_x": {
             "color": "#2a3f5f"
            },
            "error_y": {
             "color": "#2a3f5f"
            },
            "marker": {
             "line": {
              "color": "#E5ECF6",
              "width": 0.5
             },
             "pattern": {
              "fillmode": "overlay",
              "size": 10,
              "solidity": 0.2
             }
            },
            "type": "bar"
           }
          ],
          "barpolar": [
           {
            "marker": {
             "line": {
              "color": "#E5ECF6",
              "width": 0.5
             },
             "pattern": {
              "fillmode": "overlay",
              "size": 10,
              "solidity": 0.2
             }
            },
            "type": "barpolar"
           }
          ],
          "carpet": [
           {
            "aaxis": {
             "endlinecolor": "#2a3f5f",
             "gridcolor": "white",
             "linecolor": "white",
             "minorgridcolor": "white",
             "startlinecolor": "#2a3f5f"
            },
            "baxis": {
             "endlinecolor": "#2a3f5f",
             "gridcolor": "white",
             "linecolor": "white",
             "minorgridcolor": "white",
             "startlinecolor": "#2a3f5f"
            },
            "type": "carpet"
           }
          ],
          "choropleth": [
           {
            "colorbar": {
             "outlinewidth": 0,
             "ticks": ""
            },
            "type": "choropleth"
           }
          ],
          "contour": [
           {
            "colorbar": {
             "outlinewidth": 0,
             "ticks": ""
            },
            "colorscale": [
             [
              0,
              "#0d0887"
             ],
             [
              0.1111111111111111,
              "#46039f"
             ],
             [
              0.2222222222222222,
              "#7201a8"
             ],
             [
              0.3333333333333333,
              "#9c179e"
             ],
             [
              0.4444444444444444,
              "#bd3786"
             ],
             [
              0.5555555555555556,
              "#d8576b"
             ],
             [
              0.6666666666666666,
              "#ed7953"
             ],
             [
              0.7777777777777778,
              "#fb9f3a"
             ],
             [
              0.8888888888888888,
              "#fdca26"
             ],
             [
              1,
              "#f0f921"
             ]
            ],
            "type": "contour"
           }
          ],
          "contourcarpet": [
           {
            "colorbar": {
             "outlinewidth": 0,
             "ticks": ""
            },
            "type": "contourcarpet"
           }
          ],
          "heatmap": [
           {
            "colorbar": {
             "outlinewidth": 0,
             "ticks": ""
            },
            "colorscale": [
             [
              0,
              "#0d0887"
             ],
             [
              0.1111111111111111,
              "#46039f"
             ],
             [
              0.2222222222222222,
              "#7201a8"
             ],
             [
              0.3333333333333333,
              "#9c179e"
             ],
             [
              0.4444444444444444,
              "#bd3786"
             ],
             [
              0.5555555555555556,
              "#d8576b"
             ],
             [
              0.6666666666666666,
              "#ed7953"
             ],
             [
              0.7777777777777778,
              "#fb9f3a"
             ],
             [
              0.8888888888888888,
              "#fdca26"
             ],
             [
              1,
              "#f0f921"
             ]
            ],
            "type": "heatmap"
           }
          ],
          "heatmapgl": [
           {
            "colorbar": {
             "outlinewidth": 0,
             "ticks": ""
            },
            "colorscale": [
             [
              0,
              "#0d0887"
             ],
             [
              0.1111111111111111,
              "#46039f"
             ],
             [
              0.2222222222222222,
              "#7201a8"
             ],
             [
              0.3333333333333333,
              "#9c179e"
             ],
             [
              0.4444444444444444,
              "#bd3786"
             ],
             [
              0.5555555555555556,
              "#d8576b"
             ],
             [
              0.6666666666666666,
              "#ed7953"
             ],
             [
              0.7777777777777778,
              "#fb9f3a"
             ],
             [
              0.8888888888888888,
              "#fdca26"
             ],
             [
              1,
              "#f0f921"
             ]
            ],
            "type": "heatmapgl"
           }
          ],
          "histogram": [
           {
            "marker": {
             "pattern": {
              "fillmode": "overlay",
              "size": 10,
              "solidity": 0.2
             }
            },
            "type": "histogram"
           }
          ],
          "histogram2d": [
           {
            "colorbar": {
             "outlinewidth": 0,
             "ticks": ""
            },
            "colorscale": [
             [
              0,
              "#0d0887"
             ],
             [
              0.1111111111111111,
              "#46039f"
             ],
             [
              0.2222222222222222,
              "#7201a8"
             ],
             [
              0.3333333333333333,
              "#9c179e"
             ],
             [
              0.4444444444444444,
              "#bd3786"
             ],
             [
              0.5555555555555556,
              "#d8576b"
             ],
             [
              0.6666666666666666,
              "#ed7953"
             ],
             [
              0.7777777777777778,
              "#fb9f3a"
             ],
             [
              0.8888888888888888,
              "#fdca26"
             ],
             [
              1,
              "#f0f921"
             ]
            ],
            "type": "histogram2d"
           }
          ],
          "histogram2dcontour": [
           {
            "colorbar": {
             "outlinewidth": 0,
             "ticks": ""
            },
            "colorscale": [
             [
              0,
              "#0d0887"
             ],
             [
              0.1111111111111111,
              "#46039f"
             ],
             [
              0.2222222222222222,
              "#7201a8"
             ],
             [
              0.3333333333333333,
              "#9c179e"
             ],
             [
              0.4444444444444444,
              "#bd3786"
             ],
             [
              0.5555555555555556,
              "#d8576b"
             ],
             [
              0.6666666666666666,
              "#ed7953"
             ],
             [
              0.7777777777777778,
              "#fb9f3a"
             ],
             [
              0.8888888888888888,
              "#fdca26"
             ],
             [
              1,
              "#f0f921"
             ]
            ],
            "type": "histogram2dcontour"
           }
          ],
          "mesh3d": [
           {
            "colorbar": {
             "outlinewidth": 0,
             "ticks": ""
            },
            "type": "mesh3d"
           }
          ],
          "parcoords": [
           {
            "line": {
             "colorbar": {
              "outlinewidth": 0,
              "ticks": ""
             }
            },
            "type": "parcoords"
           }
          ],
          "pie": [
           {
            "automargin": true,
            "type": "pie"
           }
          ],
          "scatter": [
           {
            "fillpattern": {
             "fillmode": "overlay",
             "size": 10,
             "solidity": 0.2
            },
            "type": "scatter"
           }
          ],
          "scatter3d": [
           {
            "line": {
             "colorbar": {
              "outlinewidth": 0,
              "ticks": ""
             }
            },
            "marker": {
             "colorbar": {
              "outlinewidth": 0,
              "ticks": ""
             }
            },
            "type": "scatter3d"
           }
          ],
          "scattercarpet": [
           {
            "marker": {
             "colorbar": {
              "outlinewidth": 0,
              "ticks": ""
             }
            },
            "type": "scattercarpet"
           }
          ],
          "scattergeo": [
           {
            "marker": {
             "colorbar": {
              "outlinewidth": 0,
              "ticks": ""
             }
            },
            "type": "scattergeo"
           }
          ],
          "scattergl": [
           {
            "marker": {
             "colorbar": {
              "outlinewidth": 0,
              "ticks": ""
             }
            },
            "type": "scattergl"
           }
          ],
          "scattermapbox": [
           {
            "marker": {
             "colorbar": {
              "outlinewidth": 0,
              "ticks": ""
             }
            },
            "type": "scattermapbox"
           }
          ],
          "scatterpolar": [
           {
            "marker": {
             "colorbar": {
              "outlinewidth": 0,
              "ticks": ""
             }
            },
            "type": "scatterpolar"
           }
          ],
          "scatterpolargl": [
           {
            "marker": {
             "colorbar": {
              "outlinewidth": 0,
              "ticks": ""
             }
            },
            "type": "scatterpolargl"
           }
          ],
          "scatterternary": [
           {
            "marker": {
             "colorbar": {
              "outlinewidth": 0,
              "ticks": ""
             }
            },
            "type": "scatterternary"
           }
          ],
          "surface": [
           {
            "colorbar": {
             "outlinewidth": 0,
             "ticks": ""
            },
            "colorscale": [
             [
              0,
              "#0d0887"
             ],
             [
              0.1111111111111111,
              "#46039f"
             ],
             [
              0.2222222222222222,
              "#7201a8"
             ],
             [
              0.3333333333333333,
              "#9c179e"
             ],
             [
              0.4444444444444444,
              "#bd3786"
             ],
             [
              0.5555555555555556,
              "#d8576b"
             ],
             [
              0.6666666666666666,
              "#ed7953"
             ],
             [
              0.7777777777777778,
              "#fb9f3a"
             ],
             [
              0.8888888888888888,
              "#fdca26"
             ],
             [
              1,
              "#f0f921"
             ]
            ],
            "type": "surface"
           }
          ],
          "table": [
           {
            "cells": {
             "fill": {
              "color": "#EBF0F8"
             },
             "line": {
              "color": "white"
             }
            },
            "header": {
             "fill": {
              "color": "#C8D4E3"
             },
             "line": {
              "color": "white"
             }
            },
            "type": "table"
           }
          ]
         },
         "layout": {
          "annotationdefaults": {
           "arrowcolor": "#2a3f5f",
           "arrowhead": 0,
           "arrowwidth": 1
          },
          "autotypenumbers": "strict",
          "coloraxis": {
           "colorbar": {
            "outlinewidth": 0,
            "ticks": ""
           }
          },
          "colorscale": {
           "diverging": [
            [
             0,
             "#8e0152"
            ],
            [
             0.1,
             "#c51b7d"
            ],
            [
             0.2,
             "#de77ae"
            ],
            [
             0.3,
             "#f1b6da"
            ],
            [
             0.4,
             "#fde0ef"
            ],
            [
             0.5,
             "#f7f7f7"
            ],
            [
             0.6,
             "#e6f5d0"
            ],
            [
             0.7,
             "#b8e186"
            ],
            [
             0.8,
             "#7fbc41"
            ],
            [
             0.9,
             "#4d9221"
            ],
            [
             1,
             "#276419"
            ]
           ],
           "sequential": [
            [
             0,
             "#0d0887"
            ],
            [
             0.1111111111111111,
             "#46039f"
            ],
            [
             0.2222222222222222,
             "#7201a8"
            ],
            [
             0.3333333333333333,
             "#9c179e"
            ],
            [
             0.4444444444444444,
             "#bd3786"
            ],
            [
             0.5555555555555556,
             "#d8576b"
            ],
            [
             0.6666666666666666,
             "#ed7953"
            ],
            [
             0.7777777777777778,
             "#fb9f3a"
            ],
            [
             0.8888888888888888,
             "#fdca26"
            ],
            [
             1,
             "#f0f921"
            ]
           ],
           "sequentialminus": [
            [
             0,
             "#0d0887"
            ],
            [
             0.1111111111111111,
             "#46039f"
            ],
            [
             0.2222222222222222,
             "#7201a8"
            ],
            [
             0.3333333333333333,
             "#9c179e"
            ],
            [
             0.4444444444444444,
             "#bd3786"
            ],
            [
             0.5555555555555556,
             "#d8576b"
            ],
            [
             0.6666666666666666,
             "#ed7953"
            ],
            [
             0.7777777777777778,
             "#fb9f3a"
            ],
            [
             0.8888888888888888,
             "#fdca26"
            ],
            [
             1,
             "#f0f921"
            ]
           ]
          },
          "colorway": [
           "#636efa",
           "#EF553B",
           "#00cc96",
           "#ab63fa",
           "#FFA15A",
           "#19d3f3",
           "#FF6692",
           "#B6E880",
           "#FF97FF",
           "#FECB52"
          ],
          "font": {
           "color": "#2a3f5f"
          },
          "geo": {
           "bgcolor": "white",
           "lakecolor": "white",
           "landcolor": "#E5ECF6",
           "showlakes": true,
           "showland": true,
           "subunitcolor": "white"
          },
          "hoverlabel": {
           "align": "left"
          },
          "hovermode": "closest",
          "mapbox": {
           "style": "light"
          },
          "paper_bgcolor": "white",
          "plot_bgcolor": "#E5ECF6",
          "polar": {
           "angularaxis": {
            "gridcolor": "white",
            "linecolor": "white",
            "ticks": ""
           },
           "bgcolor": "#E5ECF6",
           "radialaxis": {
            "gridcolor": "white",
            "linecolor": "white",
            "ticks": ""
           }
          },
          "scene": {
           "xaxis": {
            "backgroundcolor": "#E5ECF6",
            "gridcolor": "white",
            "gridwidth": 2,
            "linecolor": "white",
            "showbackground": true,
            "ticks": "",
            "zerolinecolor": "white"
           },
           "yaxis": {
            "backgroundcolor": "#E5ECF6",
            "gridcolor": "white",
            "gridwidth": 2,
            "linecolor": "white",
            "showbackground": true,
            "ticks": "",
            "zerolinecolor": "white"
           },
           "zaxis": {
            "backgroundcolor": "#E5ECF6",
            "gridcolor": "white",
            "gridwidth": 2,
            "linecolor": "white",
            "showbackground": true,
            "ticks": "",
            "zerolinecolor": "white"
           }
          },
          "shapedefaults": {
           "line": {
            "color": "#2a3f5f"
           }
          },
          "ternary": {
           "aaxis": {
            "gridcolor": "white",
            "linecolor": "white",
            "ticks": ""
           },
           "baxis": {
            "gridcolor": "white",
            "linecolor": "white",
            "ticks": ""
           },
           "bgcolor": "#E5ECF6",
           "caxis": {
            "gridcolor": "white",
            "linecolor": "white",
            "ticks": ""
           }
          },
          "title": {
           "x": 0.05
          },
          "xaxis": {
           "automargin": true,
           "gridcolor": "white",
           "linecolor": "white",
           "ticks": "",
           "title": {
            "standoff": 15
           },
           "zerolinecolor": "white",
           "zerolinewidth": 2
          },
          "yaxis": {
           "automargin": true,
           "gridcolor": "white",
           "linecolor": "white",
           "ticks": "",
           "title": {
            "standoff": 15
           },
           "zerolinecolor": "white",
           "zerolinewidth": 2
          }
         }
        },
        "title": {
         "text": "Main Sources Reason"
        },
        "width": 1200
       }
      }
     },
     "metadata": {},
     "output_type": "display_data"
    }
   ],
   "source": [
    "fig = px.pie(\n",
    "    df,\n",
    "    names='Main_Sources',\n",
    "    color='Main_Sources',\n",
    ")\n",
    "\n",
    "fig.update_layout(\n",
    "    title = 'Main Sources Reason',\n",
    "    height=600,\n",
    "    width=1200,\n",
    ")\n",
    "fig.show()"
   ]
  },
  {
   "cell_type": "markdown",
   "metadata": {},
   "source": [
    "<div  style=\"font-family: Arial, sans-serif; font-size: 20px; background-color: #7b2cbf; color: #ffffff; padding: 7px 15px; text-decoration: none; border-radius: 15px;\">\n",
    "⭐\n",
    " \n",
    "</div>"
   ]
  },
  {
   "cell_type": "markdown",
   "metadata": {},
   "source": [
    "<a id=\"34\"></a>\n",
    "### <div style=\"text-align:left; border-radius:15px; padding:20px; color:Black; margin:0; font-size:100%; font-family:Arial; background-color:#48cae4; overflow:hidden\"><b>⚡4.  Main Sources and Coastal Waste Risk</b>\n",
    "<a href=\"#table-of-contents\" style=\"font-family: Arial, sans-serif; font-size: 15px; background-color: #7b2cbf; color: #ffffff; padding: 7px 15px; text-decoration: none; border-radius: 15px;\">\n",
    "        [Table of Content 📜⬆️]\n",
    "</a>\n",
    "</div>\n"
   ]
  },
  {
   "cell_type": "code",
   "execution_count": 216,
   "metadata": {},
   "outputs": [
    {
     "data": {
      "application/vnd.plotly.v1+json": {
       "config": {
        "plotlyServerURL": "https://plot.ly"
       },
       "data": [
        {
         "branchvalues": "total",
         "customdata": [
          [
           "Germany"
          ],
          [
           "China"
          ],
          [
           "United States"
          ],
          [
           "Japan"
          ],
          [
           "India"
          ],
          [
           "China"
          ],
          [
           "India"
          ],
          [
           "Germany"
          ],
          [
           "Japan"
          ],
          [
           "United States"
          ],
          [
           "China"
          ],
          [
           "Germany"
          ],
          [
           "India"
          ],
          [
           "Japan"
          ],
          [
           "United States"
          ]
         ],
         "domain": {
          "x": [
           0,
           1
          ],
          "y": [
           0,
           1
          ]
         },
         "hovertemplate": "labels=%{label}<br>Total_Plastic_Waste_MT=%{value}<br>parent=%{parent}<br>id=%{id}<br>Country=%{customdata[0]}<extra></extra>",
         "ids": [
          "Germany/Low/Automotive_Packaging",
          "China/High/Packaging_Industrial",
          "United States/Medium/Packaging_Consumer",
          "Japan/Medium/Packaging_Electronics",
          "India/High/Consumer_Goods",
          "China/High",
          "India/High",
          "Germany/Low",
          "Japan/Medium",
          "United States/Medium",
          "China",
          "Germany",
          "India",
          "Japan",
          "United States"
         ],
         "labels": [
          "Automotive_Packaging",
          "Packaging_Industrial",
          "Packaging_Consumer",
          "Packaging_Electronics",
          "Consumer_Goods",
          "High",
          "High",
          "Low",
          "Medium",
          "Medium",
          "China",
          "Germany",
          "India",
          "Japan",
          "United States"
         ],
         "marker": {
          "colors": [
           "#636efa",
           "#EF553B",
           "#00cc96",
           "#ab63fa",
           "#FFA15A",
           "#EF553B",
           "#FFA15A",
           "#636efa",
           "#ab63fa",
           "#00cc96",
           "#EF553B",
           "#636efa",
           "#FFA15A",
           "#ab63fa",
           "#00cc96"
          ]
         },
         "name": "",
         "parents": [
          "Germany/Low",
          "China/High",
          "United States/Medium",
          "Japan/Medium",
          "India/High",
          "China",
          "India",
          "Germany",
          "Japan",
          "United States",
          "",
          "",
          "",
          "",
          ""
         ],
         "type": "sunburst",
         "values": [
          6.28,
          59.08,
          42.02,
          7.99,
          26.33,
          59.08,
          26.33,
          6.28,
          7.99,
          42.02,
          59.08,
          6.28,
          26.33,
          7.99,
          42.02
         ]
        }
       ],
       "layout": {
        "height": 600,
        "legend": {
         "tracegroupgap": 0
        },
        "margin": {
         "t": 60
        },
        "template": {
         "data": {
          "bar": [
           {
            "error_x": {
             "color": "#2a3f5f"
            },
            "error_y": {
             "color": "#2a3f5f"
            },
            "marker": {
             "line": {
              "color": "#E5ECF6",
              "width": 0.5
             },
             "pattern": {
              "fillmode": "overlay",
              "size": 10,
              "solidity": 0.2
             }
            },
            "type": "bar"
           }
          ],
          "barpolar": [
           {
            "marker": {
             "line": {
              "color": "#E5ECF6",
              "width": 0.5
             },
             "pattern": {
              "fillmode": "overlay",
              "size": 10,
              "solidity": 0.2
             }
            },
            "type": "barpolar"
           }
          ],
          "carpet": [
           {
            "aaxis": {
             "endlinecolor": "#2a3f5f",
             "gridcolor": "white",
             "linecolor": "white",
             "minorgridcolor": "white",
             "startlinecolor": "#2a3f5f"
            },
            "baxis": {
             "endlinecolor": "#2a3f5f",
             "gridcolor": "white",
             "linecolor": "white",
             "minorgridcolor": "white",
             "startlinecolor": "#2a3f5f"
            },
            "type": "carpet"
           }
          ],
          "choropleth": [
           {
            "colorbar": {
             "outlinewidth": 0,
             "ticks": ""
            },
            "type": "choropleth"
           }
          ],
          "contour": [
           {
            "colorbar": {
             "outlinewidth": 0,
             "ticks": ""
            },
            "colorscale": [
             [
              0,
              "#0d0887"
             ],
             [
              0.1111111111111111,
              "#46039f"
             ],
             [
              0.2222222222222222,
              "#7201a8"
             ],
             [
              0.3333333333333333,
              "#9c179e"
             ],
             [
              0.4444444444444444,
              "#bd3786"
             ],
             [
              0.5555555555555556,
              "#d8576b"
             ],
             [
              0.6666666666666666,
              "#ed7953"
             ],
             [
              0.7777777777777778,
              "#fb9f3a"
             ],
             [
              0.8888888888888888,
              "#fdca26"
             ],
             [
              1,
              "#f0f921"
             ]
            ],
            "type": "contour"
           }
          ],
          "contourcarpet": [
           {
            "colorbar": {
             "outlinewidth": 0,
             "ticks": ""
            },
            "type": "contourcarpet"
           }
          ],
          "heatmap": [
           {
            "colorbar": {
             "outlinewidth": 0,
             "ticks": ""
            },
            "colorscale": [
             [
              0,
              "#0d0887"
             ],
             [
              0.1111111111111111,
              "#46039f"
             ],
             [
              0.2222222222222222,
              "#7201a8"
             ],
             [
              0.3333333333333333,
              "#9c179e"
             ],
             [
              0.4444444444444444,
              "#bd3786"
             ],
             [
              0.5555555555555556,
              "#d8576b"
             ],
             [
              0.6666666666666666,
              "#ed7953"
             ],
             [
              0.7777777777777778,
              "#fb9f3a"
             ],
             [
              0.8888888888888888,
              "#fdca26"
             ],
             [
              1,
              "#f0f921"
             ]
            ],
            "type": "heatmap"
           }
          ],
          "heatmapgl": [
           {
            "colorbar": {
             "outlinewidth": 0,
             "ticks": ""
            },
            "colorscale": [
             [
              0,
              "#0d0887"
             ],
             [
              0.1111111111111111,
              "#46039f"
             ],
             [
              0.2222222222222222,
              "#7201a8"
             ],
             [
              0.3333333333333333,
              "#9c179e"
             ],
             [
              0.4444444444444444,
              "#bd3786"
             ],
             [
              0.5555555555555556,
              "#d8576b"
             ],
             [
              0.6666666666666666,
              "#ed7953"
             ],
             [
              0.7777777777777778,
              "#fb9f3a"
             ],
             [
              0.8888888888888888,
              "#fdca26"
             ],
             [
              1,
              "#f0f921"
             ]
            ],
            "type": "heatmapgl"
           }
          ],
          "histogram": [
           {
            "marker": {
             "pattern": {
              "fillmode": "overlay",
              "size": 10,
              "solidity": 0.2
             }
            },
            "type": "histogram"
           }
          ],
          "histogram2d": [
           {
            "colorbar": {
             "outlinewidth": 0,
             "ticks": ""
            },
            "colorscale": [
             [
              0,
              "#0d0887"
             ],
             [
              0.1111111111111111,
              "#46039f"
             ],
             [
              0.2222222222222222,
              "#7201a8"
             ],
             [
              0.3333333333333333,
              "#9c179e"
             ],
             [
              0.4444444444444444,
              "#bd3786"
             ],
             [
              0.5555555555555556,
              "#d8576b"
             ],
             [
              0.6666666666666666,
              "#ed7953"
             ],
             [
              0.7777777777777778,
              "#fb9f3a"
             ],
             [
              0.8888888888888888,
              "#fdca26"
             ],
             [
              1,
              "#f0f921"
             ]
            ],
            "type": "histogram2d"
           }
          ],
          "histogram2dcontour": [
           {
            "colorbar": {
             "outlinewidth": 0,
             "ticks": ""
            },
            "colorscale": [
             [
              0,
              "#0d0887"
             ],
             [
              0.1111111111111111,
              "#46039f"
             ],
             [
              0.2222222222222222,
              "#7201a8"
             ],
             [
              0.3333333333333333,
              "#9c179e"
             ],
             [
              0.4444444444444444,
              "#bd3786"
             ],
             [
              0.5555555555555556,
              "#d8576b"
             ],
             [
              0.6666666666666666,
              "#ed7953"
             ],
             [
              0.7777777777777778,
              "#fb9f3a"
             ],
             [
              0.8888888888888888,
              "#fdca26"
             ],
             [
              1,
              "#f0f921"
             ]
            ],
            "type": "histogram2dcontour"
           }
          ],
          "mesh3d": [
           {
            "colorbar": {
             "outlinewidth": 0,
             "ticks": ""
            },
            "type": "mesh3d"
           }
          ],
          "parcoords": [
           {
            "line": {
             "colorbar": {
              "outlinewidth": 0,
              "ticks": ""
             }
            },
            "type": "parcoords"
           }
          ],
          "pie": [
           {
            "automargin": true,
            "type": "pie"
           }
          ],
          "scatter": [
           {
            "fillpattern": {
             "fillmode": "overlay",
             "size": 10,
             "solidity": 0.2
            },
            "type": "scatter"
           }
          ],
          "scatter3d": [
           {
            "line": {
             "colorbar": {
              "outlinewidth": 0,
              "ticks": ""
             }
            },
            "marker": {
             "colorbar": {
              "outlinewidth": 0,
              "ticks": ""
             }
            },
            "type": "scatter3d"
           }
          ],
          "scattercarpet": [
           {
            "marker": {
             "colorbar": {
              "outlinewidth": 0,
              "ticks": ""
             }
            },
            "type": "scattercarpet"
           }
          ],
          "scattergeo": [
           {
            "marker": {
             "colorbar": {
              "outlinewidth": 0,
              "ticks": ""
             }
            },
            "type": "scattergeo"
           }
          ],
          "scattergl": [
           {
            "marker": {
             "colorbar": {
              "outlinewidth": 0,
              "ticks": ""
             }
            },
            "type": "scattergl"
           }
          ],
          "scattermapbox": [
           {
            "marker": {
             "colorbar": {
              "outlinewidth": 0,
              "ticks": ""
             }
            },
            "type": "scattermapbox"
           }
          ],
          "scatterpolar": [
           {
            "marker": {
             "colorbar": {
              "outlinewidth": 0,
              "ticks": ""
             }
            },
            "type": "scatterpolar"
           }
          ],
          "scatterpolargl": [
           {
            "marker": {
             "colorbar": {
              "outlinewidth": 0,
              "ticks": ""
             }
            },
            "type": "scatterpolargl"
           }
          ],
          "scatterternary": [
           {
            "marker": {
             "colorbar": {
              "outlinewidth": 0,
              "ticks": ""
             }
            },
            "type": "scatterternary"
           }
          ],
          "surface": [
           {
            "colorbar": {
             "outlinewidth": 0,
             "ticks": ""
            },
            "colorscale": [
             [
              0,
              "#0d0887"
             ],
             [
              0.1111111111111111,
              "#46039f"
             ],
             [
              0.2222222222222222,
              "#7201a8"
             ],
             [
              0.3333333333333333,
              "#9c179e"
             ],
             [
              0.4444444444444444,
              "#bd3786"
             ],
             [
              0.5555555555555556,
              "#d8576b"
             ],
             [
              0.6666666666666666,
              "#ed7953"
             ],
             [
              0.7777777777777778,
              "#fb9f3a"
             ],
             [
              0.8888888888888888,
              "#fdca26"
             ],
             [
              1,
              "#f0f921"
             ]
            ],
            "type": "surface"
           }
          ],
          "table": [
           {
            "cells": {
             "fill": {
              "color": "#EBF0F8"
             },
             "line": {
              "color": "white"
             }
            },
            "header": {
             "fill": {
              "color": "#C8D4E3"
             },
             "line": {
              "color": "white"
             }
            },
            "type": "table"
           }
          ]
         },
         "layout": {
          "annotationdefaults": {
           "arrowcolor": "#2a3f5f",
           "arrowhead": 0,
           "arrowwidth": 1
          },
          "autotypenumbers": "strict",
          "coloraxis": {
           "colorbar": {
            "outlinewidth": 0,
            "ticks": ""
           }
          },
          "colorscale": {
           "diverging": [
            [
             0,
             "#8e0152"
            ],
            [
             0.1,
             "#c51b7d"
            ],
            [
             0.2,
             "#de77ae"
            ],
            [
             0.3,
             "#f1b6da"
            ],
            [
             0.4,
             "#fde0ef"
            ],
            [
             0.5,
             "#f7f7f7"
            ],
            [
             0.6,
             "#e6f5d0"
            ],
            [
             0.7,
             "#b8e186"
            ],
            [
             0.8,
             "#7fbc41"
            ],
            [
             0.9,
             "#4d9221"
            ],
            [
             1,
             "#276419"
            ]
           ],
           "sequential": [
            [
             0,
             "#0d0887"
            ],
            [
             0.1111111111111111,
             "#46039f"
            ],
            [
             0.2222222222222222,
             "#7201a8"
            ],
            [
             0.3333333333333333,
             "#9c179e"
            ],
            [
             0.4444444444444444,
             "#bd3786"
            ],
            [
             0.5555555555555556,
             "#d8576b"
            ],
            [
             0.6666666666666666,
             "#ed7953"
            ],
            [
             0.7777777777777778,
             "#fb9f3a"
            ],
            [
             0.8888888888888888,
             "#fdca26"
            ],
            [
             1,
             "#f0f921"
            ]
           ],
           "sequentialminus": [
            [
             0,
             "#0d0887"
            ],
            [
             0.1111111111111111,
             "#46039f"
            ],
            [
             0.2222222222222222,
             "#7201a8"
            ],
            [
             0.3333333333333333,
             "#9c179e"
            ],
            [
             0.4444444444444444,
             "#bd3786"
            ],
            [
             0.5555555555555556,
             "#d8576b"
            ],
            [
             0.6666666666666666,
             "#ed7953"
            ],
            [
             0.7777777777777778,
             "#fb9f3a"
            ],
            [
             0.8888888888888888,
             "#fdca26"
            ],
            [
             1,
             "#f0f921"
            ]
           ]
          },
          "colorway": [
           "#636efa",
           "#EF553B",
           "#00cc96",
           "#ab63fa",
           "#FFA15A",
           "#19d3f3",
           "#FF6692",
           "#B6E880",
           "#FF97FF",
           "#FECB52"
          ],
          "font": {
           "color": "#2a3f5f"
          },
          "geo": {
           "bgcolor": "white",
           "lakecolor": "white",
           "landcolor": "#E5ECF6",
           "showlakes": true,
           "showland": true,
           "subunitcolor": "white"
          },
          "hoverlabel": {
           "align": "left"
          },
          "hovermode": "closest",
          "mapbox": {
           "style": "light"
          },
          "paper_bgcolor": "white",
          "plot_bgcolor": "#E5ECF6",
          "polar": {
           "angularaxis": {
            "gridcolor": "white",
            "linecolor": "white",
            "ticks": ""
           },
           "bgcolor": "#E5ECF6",
           "radialaxis": {
            "gridcolor": "white",
            "linecolor": "white",
            "ticks": ""
           }
          },
          "scene": {
           "xaxis": {
            "backgroundcolor": "#E5ECF6",
            "gridcolor": "white",
            "gridwidth": 2,
            "linecolor": "white",
            "showbackground": true,
            "ticks": "",
            "zerolinecolor": "white"
           },
           "yaxis": {
            "backgroundcolor": "#E5ECF6",
            "gridcolor": "white",
            "gridwidth": 2,
            "linecolor": "white",
            "showbackground": true,
            "ticks": "",
            "zerolinecolor": "white"
           },
           "zaxis": {
            "backgroundcolor": "#E5ECF6",
            "gridcolor": "white",
            "gridwidth": 2,
            "linecolor": "white",
            "showbackground": true,
            "ticks": "",
            "zerolinecolor": "white"
           }
          },
          "shapedefaults": {
           "line": {
            "color": "#2a3f5f"
           }
          },
          "ternary": {
           "aaxis": {
            "gridcolor": "white",
            "linecolor": "white",
            "ticks": ""
           },
           "baxis": {
            "gridcolor": "white",
            "linecolor": "white",
            "ticks": ""
           },
           "bgcolor": "#E5ECF6",
           "caxis": {
            "gridcolor": "white",
            "linecolor": "white",
            "ticks": ""
           }
          },
          "title": {
           "x": 0.05
          },
          "xaxis": {
           "automargin": true,
           "gridcolor": "white",
           "linecolor": "white",
           "ticks": "",
           "title": {
            "standoff": 15
           },
           "zerolinecolor": "white",
           "zerolinewidth": 2
          },
          "yaxis": {
           "automargin": true,
           "gridcolor": "white",
           "linecolor": "white",
           "ticks": "",
           "title": {
            "standoff": 15
           },
           "zerolinecolor": "white",
           "zerolinewidth": 2
          }
         }
        },
        "title": {
         "text": "Main Sources and Coastal Waste Risk"
        },
        "width": 1500
       }
      }
     },
     "metadata": {},
     "output_type": "display_data"
    }
   ],
   "source": [
    "fig = px.sunburst(\n",
    "    df.nlargest(5, 'Total_Plastic_Waste_MT'),\n",
    "    names='Country',  \n",
    "    values='Total_Plastic_Waste_MT',  \n",
    "    path=['Country', 'Coastal_Waste_Risk', 'Main_Sources'],\n",
    "    color='Country',  \n",
    ")\n",
    "fig.update_layout(\n",
    "    title = 'Main Sources and Coastal Waste Risk',\n",
    "    height=600,\n",
    "    width=1500,\n",
    ")\n",
    "fig.show()"
   ]
  },
  {
   "cell_type": "markdown",
   "metadata": {},
   "source": [
    "<div  style=\"font-family: Arial, sans-serif; font-size: 20px; background-color: #7b2cbf; color: #ffffff; padding: 7px 15px; text-decoration: none; border-radius: 15px;\">\n",
    "⭐\n",
    " \n",
    "</div>"
   ]
  },
  {
   "cell_type": "markdown",
   "metadata": {},
   "source": [
    "<a id=\"35\"></a>\n",
    "### <div style=\"text-align:left; border-radius:15px; padding:20px; color:Black; margin:0; font-size:100%; font-family:Arial; background-color:#48cae4; overflow:hidden\"><b>⚡ 5. Box plot of Main sources</b>\n",
    "<a href=\"#table-of-contents\" style=\"font-family: Arial, sans-serif; font-size: 15px; background-color: #7b2cbf; color: #ffffff; padding: 7px 15px; text-decoration: none; border-radius: 15px;\">\n",
    "        [Table of Content 📜⬆️]\n",
    "</a>\n",
    "</div>\n"
   ]
  },
  {
   "cell_type": "code",
   "execution_count": null,
   "metadata": {},
   "outputs": [],
   "source": [
    "px.box"
   ]
  },
  {
   "cell_type": "code",
   "execution_count": 217,
   "metadata": {},
   "outputs": [
    {
     "data": {
      "application/vnd.plotly.v1+json": {
       "config": {
        "plotlyServerURL": "https://plot.ly"
       },
       "data": [
        {
         "alignmentgroup": "True",
         "hovertemplate": "Main_Sources=%{x}<br>Total_Plastic_Waste_MT=%{y}<extra></extra>",
         "legendgroup": "",
         "marker": {
          "color": "#636efa"
         },
         "name": "",
         "notched": false,
         "offsetgroup": "",
         "orientation": "v",
         "showlegend": false,
         "type": "box",
         "x": [
          "Packaging_Industrial",
          "Packaging_Consumer",
          "Consumer_Goods",
          "Packaging_Electronics",
          "Automotive_Packaging",
          "Consumer_Packaging",
          "Food_Packaging",
          "Industrial_Consumer",
          "Packaging_Consumer",
          "Packaging_Consumer",
          "Consumer_Packaging",
          "Packaging_Consumer",
          "Packaging_Industrial",
          "Consumer_Packaging",
          "Electronics_Packaging",
          "Consumer_Packaging",
          "Food_Packaging",
          "Consumer_Packaging",
          "Industrial_Consumer",
          "Packaging_Industrial",
          "Consumer_Packaging",
          "Consumer_Packaging",
          "Industrial_Packaging",
          "Consumer_Packaging",
          "Consumer_Packaging",
          "Food_Packaging",
          "Consumer_Packaging",
          "Consumer_Packaging",
          "Consumer_Packaging",
          "Consumer_Packaging",
          "Consumer_Packaging",
          "Industrial_Packaging",
          "Packaging_Industrial",
          "Industrial_Packaging",
          "Consumer_Packaging",
          "Consumer_Packaging",
          "Industrial_Packaging",
          "Consumer_Packaging",
          "Consumer_Packaging",
          "Industrial_Packaging",
          "Packaging_Consumer",
          "Industrial_Packaging",
          "Industrial_Packaging",
          "Consumer_Packaging",
          "Industrial_Packaging",
          "Consumer_Packaging",
          "Consumer_Packaging",
          "Consumer_Packaging",
          "Industrial_Consumer",
          "Consumer_Packaging",
          "Consumer_Packaging",
          "Industrial_Packaging",
          "Consumer_Packaging",
          "Industrial_Consumer",
          "Consumer_Packaging",
          "Consumer_Packaging",
          "Consumer_Packaging",
          "Consumer_Packaging",
          "Consumer_Packaging",
          "Consumer_Packaging",
          "Consumer_Packaging",
          "Industrial_Packaging",
          "Industrial_Packaging",
          "Consumer_Packaging",
          "Consumer_Packaging",
          "Consumer_Packaging",
          "Consumer_Packaging",
          "Consumer_Packaging",
          "Consumer_Packaging",
          "Consumer_Packaging",
          "Consumer_Packaging",
          "Industrial_Packaging",
          "Industrial_Packaging",
          "Consumer_Packaging",
          "Consumer_Packaging",
          "Consumer_Packaging",
          "Consumer_Packaging",
          "Industrial_Packaging",
          "Consumer_Packaging",
          "Consumer_Packaging",
          "Consumer_Packaging",
          "Consumer_Packaging",
          "Consumer_Packaging",
          "Consumer_Packaging",
          "Consumer_Packaging",
          "Consumer_Packaging",
          "Consumer_Packaging",
          "Consumer_Packaging",
          "Consumer_Packaging",
          "Consumer_Packaging",
          "Consumer_Packaging",
          "Consumer_Packaging",
          "Consumer_Packaging",
          "Consumer_Packaging",
          "Consumer_Packaging",
          "Consumer_Packaging",
          "Consumer_Packaging",
          "Consumer_Packaging",
          "Consumer_Packaging",
          "Consumer_Packaging",
          "Consumer_Packaging",
          "Consumer_Packaging",
          "Consumer_Packaging",
          "Consumer_Packaging",
          "Consumer_Packaging",
          "Consumer_Packaging",
          "Consumer_Packaging",
          "Consumer_Packaging",
          "Consumer_Packaging",
          "Consumer_Packaging",
          "Consumer_Packaging",
          "Consumer_Packaging",
          "Consumer_Packaging",
          "Consumer_Packaging",
          "Consumer_Packaging",
          "Consumer_Packaging",
          "Consumer_Packaging",
          "Consumer_Packaging",
          "Consumer_Packaging",
          "Consumer_Packaging",
          "Consumer_Packaging",
          "Consumer_Packaging",
          "Consumer_Packaging",
          "Consumer_Packaging",
          "Consumer_Packaging",
          "Consumer_Packaging",
          "Consumer_Packaging",
          "Consumer_Packaging",
          "Consumer_Packaging",
          "Consumer_Packaging",
          "Consumer_Packaging",
          "Consumer_Packaging",
          "Consumer_Packaging",
          "Consumer_Packaging",
          "Consumer_Packaging",
          "Consumer_Packaging",
          "Consumer_Packaging",
          "Consumer_Packaging",
          "Consumer_Packaging",
          "Consumer_Packaging",
          "Consumer_Packaging",
          "Consumer_Packaging",
          "Consumer_Packaging",
          "Consumer_Packaging",
          "Consumer_Packaging",
          "Consumer_Packaging",
          "Consumer_Packaging",
          "Consumer_Packaging",
          "Consumer_Packaging",
          "Consumer_Packaging",
          "Consumer_Packaging",
          "Consumer_Packaging",
          "Consumer_Packaging",
          "Consumer_Packaging",
          "Consumer_Packaging",
          "Consumer_Packaging",
          "Consumer_Packaging",
          "Consumer_Packaging",
          "Consumer_Packaging",
          "Consumer_Packaging",
          "Consumer_Packaging",
          "Consumer_Packaging",
          "Consumer_Packaging",
          "Consumer_Packaging",
          "Consumer_Packaging"
         ],
         "x0": " ",
         "xaxis": "x",
         "y": [
          59.08,
          42.02,
          26.33,
          7.99,
          6.28,
          5.96,
          5.85,
          5.84,
          5.03,
          4.98,
          4.43,
          3.89,
          3.83,
          3.21,
          2.91,
          2.58,
          2.54,
          2.41,
          2.31,
          2.21,
          2.01,
          1.98,
          1.78,
          1.67,
          1.65,
          1.63,
          1.61,
          1.59,
          1.58,
          1.54,
          1.53,
          1.52,
          1.51,
          1.48,
          1.47,
          1.45,
          1.43,
          1.41,
          1.39,
          1.37,
          1.35,
          1.33,
          1.31,
          1.29,
          1.27,
          1.25,
          1.23,
          1.21,
          1.19,
          1.17,
          1.15,
          1.13,
          1.11,
          1.09,
          1.07,
          1.05,
          1.03,
          1.01,
          0.99,
          0.97,
          0.95,
          0.93,
          0.91,
          0.89,
          0.87,
          0.85,
          0.83,
          0.81,
          0.79,
          0.77,
          0.75,
          0.73,
          0.71,
          0.69,
          0.67,
          0.65,
          0.63,
          0.61,
          0.59,
          0.57,
          0.55,
          0.53,
          0.51,
          0.49,
          0.47,
          0.45,
          0.43,
          0.41,
          0.39,
          0.37,
          0.35,
          0.33,
          0.31,
          0.29,
          0.27,
          0.25,
          0.23,
          0.21,
          0.19,
          0.17,
          0.15,
          0.13,
          0.11,
          0.09,
          0.07,
          0.05,
          0.03,
          0.21,
          0.02,
          0.08,
          0.01,
          0.02,
          0.01,
          0.04,
          0.08,
          0.06,
          0.05,
          0.18,
          0.22,
          0.07,
          0.09,
          0.12,
          0.14,
          0.11,
          0.09,
          0.04,
          0.19,
          0.06,
          0.08,
          0.24,
          0.05,
          0.03,
          0.16,
          0.02,
          0.07,
          0.01,
          0.28,
          0.31,
          0.29,
          0.34,
          0.21,
          0.33,
          0.28,
          0.25,
          0.22,
          0.35,
          0.42,
          0.38,
          0.05,
          0.04,
          0.12,
          0.06,
          0.15,
          0.03,
          0.02,
          0.04,
          0.07,
          0.01,
          0.01,
          0.01,
          0.01,
          0.01,
          0.01,
          0.01,
          0.01
         ],
         "y0": " ",
         "yaxis": "y"
        }
       ],
       "layout": {
        "boxmode": "group",
        "legend": {
         "tracegroupgap": 0
        },
        "template": {
         "data": {
          "bar": [
           {
            "error_x": {
             "color": "#2a3f5f"
            },
            "error_y": {
             "color": "#2a3f5f"
            },
            "marker": {
             "line": {
              "color": "#E5ECF6",
              "width": 0.5
             },
             "pattern": {
              "fillmode": "overlay",
              "size": 10,
              "solidity": 0.2
             }
            },
            "type": "bar"
           }
          ],
          "barpolar": [
           {
            "marker": {
             "line": {
              "color": "#E5ECF6",
              "width": 0.5
             },
             "pattern": {
              "fillmode": "overlay",
              "size": 10,
              "solidity": 0.2
             }
            },
            "type": "barpolar"
           }
          ],
          "carpet": [
           {
            "aaxis": {
             "endlinecolor": "#2a3f5f",
             "gridcolor": "white",
             "linecolor": "white",
             "minorgridcolor": "white",
             "startlinecolor": "#2a3f5f"
            },
            "baxis": {
             "endlinecolor": "#2a3f5f",
             "gridcolor": "white",
             "linecolor": "white",
             "minorgridcolor": "white",
             "startlinecolor": "#2a3f5f"
            },
            "type": "carpet"
           }
          ],
          "choropleth": [
           {
            "colorbar": {
             "outlinewidth": 0,
             "ticks": ""
            },
            "type": "choropleth"
           }
          ],
          "contour": [
           {
            "colorbar": {
             "outlinewidth": 0,
             "ticks": ""
            },
            "colorscale": [
             [
              0,
              "#0d0887"
             ],
             [
              0.1111111111111111,
              "#46039f"
             ],
             [
              0.2222222222222222,
              "#7201a8"
             ],
             [
              0.3333333333333333,
              "#9c179e"
             ],
             [
              0.4444444444444444,
              "#bd3786"
             ],
             [
              0.5555555555555556,
              "#d8576b"
             ],
             [
              0.6666666666666666,
              "#ed7953"
             ],
             [
              0.7777777777777778,
              "#fb9f3a"
             ],
             [
              0.8888888888888888,
              "#fdca26"
             ],
             [
              1,
              "#f0f921"
             ]
            ],
            "type": "contour"
           }
          ],
          "contourcarpet": [
           {
            "colorbar": {
             "outlinewidth": 0,
             "ticks": ""
            },
            "type": "contourcarpet"
           }
          ],
          "heatmap": [
           {
            "colorbar": {
             "outlinewidth": 0,
             "ticks": ""
            },
            "colorscale": [
             [
              0,
              "#0d0887"
             ],
             [
              0.1111111111111111,
              "#46039f"
             ],
             [
              0.2222222222222222,
              "#7201a8"
             ],
             [
              0.3333333333333333,
              "#9c179e"
             ],
             [
              0.4444444444444444,
              "#bd3786"
             ],
             [
              0.5555555555555556,
              "#d8576b"
             ],
             [
              0.6666666666666666,
              "#ed7953"
             ],
             [
              0.7777777777777778,
              "#fb9f3a"
             ],
             [
              0.8888888888888888,
              "#fdca26"
             ],
             [
              1,
              "#f0f921"
             ]
            ],
            "type": "heatmap"
           }
          ],
          "heatmapgl": [
           {
            "colorbar": {
             "outlinewidth": 0,
             "ticks": ""
            },
            "colorscale": [
             [
              0,
              "#0d0887"
             ],
             [
              0.1111111111111111,
              "#46039f"
             ],
             [
              0.2222222222222222,
              "#7201a8"
             ],
             [
              0.3333333333333333,
              "#9c179e"
             ],
             [
              0.4444444444444444,
              "#bd3786"
             ],
             [
              0.5555555555555556,
              "#d8576b"
             ],
             [
              0.6666666666666666,
              "#ed7953"
             ],
             [
              0.7777777777777778,
              "#fb9f3a"
             ],
             [
              0.8888888888888888,
              "#fdca26"
             ],
             [
              1,
              "#f0f921"
             ]
            ],
            "type": "heatmapgl"
           }
          ],
          "histogram": [
           {
            "marker": {
             "pattern": {
              "fillmode": "overlay",
              "size": 10,
              "solidity": 0.2
             }
            },
            "type": "histogram"
           }
          ],
          "histogram2d": [
           {
            "colorbar": {
             "outlinewidth": 0,
             "ticks": ""
            },
            "colorscale": [
             [
              0,
              "#0d0887"
             ],
             [
              0.1111111111111111,
              "#46039f"
             ],
             [
              0.2222222222222222,
              "#7201a8"
             ],
             [
              0.3333333333333333,
              "#9c179e"
             ],
             [
              0.4444444444444444,
              "#bd3786"
             ],
             [
              0.5555555555555556,
              "#d8576b"
             ],
             [
              0.6666666666666666,
              "#ed7953"
             ],
             [
              0.7777777777777778,
              "#fb9f3a"
             ],
             [
              0.8888888888888888,
              "#fdca26"
             ],
             [
              1,
              "#f0f921"
             ]
            ],
            "type": "histogram2d"
           }
          ],
          "histogram2dcontour": [
           {
            "colorbar": {
             "outlinewidth": 0,
             "ticks": ""
            },
            "colorscale": [
             [
              0,
              "#0d0887"
             ],
             [
              0.1111111111111111,
              "#46039f"
             ],
             [
              0.2222222222222222,
              "#7201a8"
             ],
             [
              0.3333333333333333,
              "#9c179e"
             ],
             [
              0.4444444444444444,
              "#bd3786"
             ],
             [
              0.5555555555555556,
              "#d8576b"
             ],
             [
              0.6666666666666666,
              "#ed7953"
             ],
             [
              0.7777777777777778,
              "#fb9f3a"
             ],
             [
              0.8888888888888888,
              "#fdca26"
             ],
             [
              1,
              "#f0f921"
             ]
            ],
            "type": "histogram2dcontour"
           }
          ],
          "mesh3d": [
           {
            "colorbar": {
             "outlinewidth": 0,
             "ticks": ""
            },
            "type": "mesh3d"
           }
          ],
          "parcoords": [
           {
            "line": {
             "colorbar": {
              "outlinewidth": 0,
              "ticks": ""
             }
            },
            "type": "parcoords"
           }
          ],
          "pie": [
           {
            "automargin": true,
            "type": "pie"
           }
          ],
          "scatter": [
           {
            "fillpattern": {
             "fillmode": "overlay",
             "size": 10,
             "solidity": 0.2
            },
            "type": "scatter"
           }
          ],
          "scatter3d": [
           {
            "line": {
             "colorbar": {
              "outlinewidth": 0,
              "ticks": ""
             }
            },
            "marker": {
             "colorbar": {
              "outlinewidth": 0,
              "ticks": ""
             }
            },
            "type": "scatter3d"
           }
          ],
          "scattercarpet": [
           {
            "marker": {
             "colorbar": {
              "outlinewidth": 0,
              "ticks": ""
             }
            },
            "type": "scattercarpet"
           }
          ],
          "scattergeo": [
           {
            "marker": {
             "colorbar": {
              "outlinewidth": 0,
              "ticks": ""
             }
            },
            "type": "scattergeo"
           }
          ],
          "scattergl": [
           {
            "marker": {
             "colorbar": {
              "outlinewidth": 0,
              "ticks": ""
             }
            },
            "type": "scattergl"
           }
          ],
          "scattermapbox": [
           {
            "marker": {
             "colorbar": {
              "outlinewidth": 0,
              "ticks": ""
             }
            },
            "type": "scattermapbox"
           }
          ],
          "scatterpolar": [
           {
            "marker": {
             "colorbar": {
              "outlinewidth": 0,
              "ticks": ""
             }
            },
            "type": "scatterpolar"
           }
          ],
          "scatterpolargl": [
           {
            "marker": {
             "colorbar": {
              "outlinewidth": 0,
              "ticks": ""
             }
            },
            "type": "scatterpolargl"
           }
          ],
          "scatterternary": [
           {
            "marker": {
             "colorbar": {
              "outlinewidth": 0,
              "ticks": ""
             }
            },
            "type": "scatterternary"
           }
          ],
          "surface": [
           {
            "colorbar": {
             "outlinewidth": 0,
             "ticks": ""
            },
            "colorscale": [
             [
              0,
              "#0d0887"
             ],
             [
              0.1111111111111111,
              "#46039f"
             ],
             [
              0.2222222222222222,
              "#7201a8"
             ],
             [
              0.3333333333333333,
              "#9c179e"
             ],
             [
              0.4444444444444444,
              "#bd3786"
             ],
             [
              0.5555555555555556,
              "#d8576b"
             ],
             [
              0.6666666666666666,
              "#ed7953"
             ],
             [
              0.7777777777777778,
              "#fb9f3a"
             ],
             [
              0.8888888888888888,
              "#fdca26"
             ],
             [
              1,
              "#f0f921"
             ]
            ],
            "type": "surface"
           }
          ],
          "table": [
           {
            "cells": {
             "fill": {
              "color": "#EBF0F8"
             },
             "line": {
              "color": "white"
             }
            },
            "header": {
             "fill": {
              "color": "#C8D4E3"
             },
             "line": {
              "color": "white"
             }
            },
            "type": "table"
           }
          ]
         },
         "layout": {
          "annotationdefaults": {
           "arrowcolor": "#2a3f5f",
           "arrowhead": 0,
           "arrowwidth": 1
          },
          "autotypenumbers": "strict",
          "coloraxis": {
           "colorbar": {
            "outlinewidth": 0,
            "ticks": ""
           }
          },
          "colorscale": {
           "diverging": [
            [
             0,
             "#8e0152"
            ],
            [
             0.1,
             "#c51b7d"
            ],
            [
             0.2,
             "#de77ae"
            ],
            [
             0.3,
             "#f1b6da"
            ],
            [
             0.4,
             "#fde0ef"
            ],
            [
             0.5,
             "#f7f7f7"
            ],
            [
             0.6,
             "#e6f5d0"
            ],
            [
             0.7,
             "#b8e186"
            ],
            [
             0.8,
             "#7fbc41"
            ],
            [
             0.9,
             "#4d9221"
            ],
            [
             1,
             "#276419"
            ]
           ],
           "sequential": [
            [
             0,
             "#0d0887"
            ],
            [
             0.1111111111111111,
             "#46039f"
            ],
            [
             0.2222222222222222,
             "#7201a8"
            ],
            [
             0.3333333333333333,
             "#9c179e"
            ],
            [
             0.4444444444444444,
             "#bd3786"
            ],
            [
             0.5555555555555556,
             "#d8576b"
            ],
            [
             0.6666666666666666,
             "#ed7953"
            ],
            [
             0.7777777777777778,
             "#fb9f3a"
            ],
            [
             0.8888888888888888,
             "#fdca26"
            ],
            [
             1,
             "#f0f921"
            ]
           ],
           "sequentialminus": [
            [
             0,
             "#0d0887"
            ],
            [
             0.1111111111111111,
             "#46039f"
            ],
            [
             0.2222222222222222,
             "#7201a8"
            ],
            [
             0.3333333333333333,
             "#9c179e"
            ],
            [
             0.4444444444444444,
             "#bd3786"
            ],
            [
             0.5555555555555556,
             "#d8576b"
            ],
            [
             0.6666666666666666,
             "#ed7953"
            ],
            [
             0.7777777777777778,
             "#fb9f3a"
            ],
            [
             0.8888888888888888,
             "#fdca26"
            ],
            [
             1,
             "#f0f921"
            ]
           ]
          },
          "colorway": [
           "#636efa",
           "#EF553B",
           "#00cc96",
           "#ab63fa",
           "#FFA15A",
           "#19d3f3",
           "#FF6692",
           "#B6E880",
           "#FF97FF",
           "#FECB52"
          ],
          "font": {
           "color": "#2a3f5f"
          },
          "geo": {
           "bgcolor": "white",
           "lakecolor": "white",
           "landcolor": "#E5ECF6",
           "showlakes": true,
           "showland": true,
           "subunitcolor": "white"
          },
          "hoverlabel": {
           "align": "left"
          },
          "hovermode": "closest",
          "mapbox": {
           "style": "light"
          },
          "paper_bgcolor": "white",
          "plot_bgcolor": "#E5ECF6",
          "polar": {
           "angularaxis": {
            "gridcolor": "white",
            "linecolor": "white",
            "ticks": ""
           },
           "bgcolor": "#E5ECF6",
           "radialaxis": {
            "gridcolor": "white",
            "linecolor": "white",
            "ticks": ""
           }
          },
          "scene": {
           "xaxis": {
            "backgroundcolor": "#E5ECF6",
            "gridcolor": "white",
            "gridwidth": 2,
            "linecolor": "white",
            "showbackground": true,
            "ticks": "",
            "zerolinecolor": "white"
           },
           "yaxis": {
            "backgroundcolor": "#E5ECF6",
            "gridcolor": "white",
            "gridwidth": 2,
            "linecolor": "white",
            "showbackground": true,
            "ticks": "",
            "zerolinecolor": "white"
           },
           "zaxis": {
            "backgroundcolor": "#E5ECF6",
            "gridcolor": "white",
            "gridwidth": 2,
            "linecolor": "white",
            "showbackground": true,
            "ticks": "",
            "zerolinecolor": "white"
           }
          },
          "shapedefaults": {
           "line": {
            "color": "#2a3f5f"
           }
          },
          "ternary": {
           "aaxis": {
            "gridcolor": "white",
            "linecolor": "white",
            "ticks": ""
           },
           "baxis": {
            "gridcolor": "white",
            "linecolor": "white",
            "ticks": ""
           },
           "bgcolor": "#E5ECF6",
           "caxis": {
            "gridcolor": "white",
            "linecolor": "white",
            "ticks": ""
           }
          },
          "title": {
           "x": 0.05
          },
          "xaxis": {
           "automargin": true,
           "gridcolor": "white",
           "linecolor": "white",
           "ticks": "",
           "title": {
            "standoff": 15
           },
           "zerolinecolor": "white",
           "zerolinewidth": 2
          },
          "yaxis": {
           "automargin": true,
           "gridcolor": "white",
           "linecolor": "white",
           "ticks": "",
           "title": {
            "standoff": 15
           },
           "zerolinecolor": "white",
           "zerolinewidth": 2
          }
         }
        },
        "title": {
         "text": "Box plot of Main sources"
        },
        "width": 1700,
        "xaxis": {
         "anchor": "y",
         "domain": [
          0,
          1
         ],
         "title": {
          "text": "Main_Sources"
         }
        },
        "yaxis": {
         "anchor": "x",
         "domain": [
          0,
          1
         ],
         "title": {
          "text": "Total_Plastic_Waste_MT"
         }
        }
       }
      }
     },
     "metadata": {},
     "output_type": "display_data"
    }
   ],
   "source": [
    "fig = px.box(\n",
    "    df,\n",
    "    x=df['Main_Sources'],\n",
    "    y=df['Total_Plastic_Waste_MT'],\n",
    "   title='Box plot of Main sources',\n",
    "   width=1700,\n",
    ")\n",
    "\n",
    "fig.show()"
   ]
  },
  {
   "cell_type": "markdown",
   "metadata": {},
   "source": [
    "<div  style=\"font-family: Arial, sans-serif; font-size: 20px; background-color: #7b2cbf; color: #ffffff; padding: 7px 15px; text-decoration: none; border-radius: 15px;\">\n",
    "⭐\n",
    " \n",
    "</div>"
   ]
  },
  {
   "cell_type": "markdown",
   "metadata": {},
   "source": [
    "<a id=\"36\"></a>\n",
    "### <div style=\"text-align:left; border-radius:15px; padding:20px; color:Black; margin:0; font-size:100%; font-family:Arial; background-color:#48cae4; overflow:hidden\"><b>⚡ 6. Recycling rate of Coastal Waste</b>\n",
    "<a href=\"#table-of-contents\" style=\"font-family: Arial, sans-serif; font-size: 15px; background-color: #7b2cbf; color: #ffffff; padding: 7px 15px; text-decoration: none; border-radius: 15px;\">\n",
    "        [Table of Content 📜⬆️]\n",
    "</a>\n",
    "</div>\n"
   ]
  },
  {
   "cell_type": "code",
   "execution_count": 191,
   "metadata": {},
   "outputs": [
    {
     "data": {
      "application/vnd.plotly.v1+json": {
       "config": {
        "plotlyServerURL": "https://plot.ly"
       },
       "data": [
        {
         "alignmentgroup": "True",
         "box": {
          "visible": false
         },
         "hovertemplate": "Coastal_Waste_Risk=%{x}<br>Recycling_Rate=%{y}<extra></extra>",
         "legendgroup": "",
         "marker": {
          "color": "#636efa"
         },
         "name": "",
         "offsetgroup": "",
         "orientation": "v",
         "scalegroup": "True",
         "showlegend": false,
         "type": "violin",
         "x": [
          "High",
          "Medium",
          "High",
          "Medium",
          "Low",
          "Medium",
          "Very_High",
          "Medium",
          "Low",
          "Low",
          "High",
          "Low",
          "Medium",
          "High",
          "Medium",
          "Medium",
          "Very_High",
          "High",
          "High",
          "Low",
          "High",
          "Medium",
          "Low",
          "Medium",
          "Medium",
          "Very_High",
          "High",
          "High",
          "Medium",
          "Medium",
          "High",
          "Low",
          "Low",
          "Low",
          "Medium",
          "Medium",
          "Low",
          "Medium",
          "Medium",
          "Low",
          "Low",
          "Low",
          "Low",
          "Low",
          "Medium",
          "High",
          "Medium",
          "High",
          "Low",
          "High",
          "High",
          "Low",
          "High",
          "Low",
          "High",
          "Medium",
          "High",
          "High",
          "Medium",
          "Medium",
          "Medium",
          "Low",
          "Low",
          "High",
          "High",
          "High",
          "Medium",
          "High",
          "High",
          "Low",
          "Low",
          "Low",
          "Low",
          "High",
          "High",
          "Medium",
          "Medium",
          "Low",
          "Medium",
          "Low",
          "High",
          "High",
          "High",
          "Medium",
          "Low",
          "Low",
          "High",
          "Medium",
          "Medium",
          "High",
          "Medium",
          "High",
          "Low",
          "High",
          "High",
          "Low",
          "Low",
          "Low",
          "Low",
          "High",
          "Low",
          "Low",
          "High",
          "High",
          "Low",
          "Low",
          "Low",
          "High",
          "High",
          "High",
          "High",
          "High",
          "High",
          "High",
          "High",
          "High",
          "High",
          "High",
          "High",
          "High",
          "High",
          "Low",
          "Low",
          "Low",
          "Low",
          "Low",
          "High",
          "High",
          "High",
          "Medium",
          "High",
          "High",
          "High",
          "High",
          "High",
          "High",
          "Low",
          "Medium",
          "Low",
          "Low",
          "Low",
          "Medium",
          "Low",
          "Low",
          "Low",
          "Low",
          "Low",
          "Low",
          "Low",
          "Very_High",
          "High",
          "High",
          "High",
          "High",
          "High",
          "High",
          "High",
          "High",
          "High",
          "High",
          "High",
          "High",
          "High",
          "High",
          "High"
         ],
         "x0": " ",
         "xaxis": "x",
         "y": [
          29.8,
          32.1,
          11.5,
          84.8,
          56.1,
          1.2,
          11.8,
          5.6,
          46.2,
          27.3,
          6.7,
          9.4,
          41.2,
          12.1,
          59.1,
          37.8,
          15.3,
          17.6,
          24.3,
          34.5,
          6.5,
          14.2,
          55.9,
          13.2,
          4.5,
          9.1,
          8.4,
          3.2,
          18.9,
          7.8,
          2.1,
          43.2,
          50.6,
          56.4,
          3.4,
          21.3,
          41.7,
          13.8,
          31.2,
          30.1,
          42.3,
          42.1,
          44.5,
          31.2,
          59.8,
          8.9,
          14.5,
          2.3,
          4.5,
          7.8,
          4.3,
          38.9,
          4.1,
          7.2,
          2.8,
          31.5,
          4.1,
          29.8,
          18.2,
          33.7,
          35.2,
          45.3,
          42.1,
          13.2,
          5.4,
          10.2,
          7.8,
          6.4,
          3.2,
          2.8,
          4.1,
          43.2,
          31.8,
          4.5,
          3.2,
          16.4,
          3.4,
          48.9,
          11.2,
          55.6,
          8.9,
          5.4,
          2.1,
          1.8,
          0.9,
          0.5,
          0.3,
          0.4,
          1.2,
          0.8,
          0.4,
          0.1,
          0.7,
          7.8,
          5.4,
          2.3,
          11.2,
          0.8,
          0.5,
          0.9,
          2.1,
          1.8,
          0.4,
          12.3,
          8.9,
          0.7,
          1.2,
          2.1,
          0.4,
          15.4,
          18.9,
          3.4,
          0.8,
          0.3,
          0.5,
          0.4,
          0.2,
          1.2,
          4.5,
          0.8,
          0.6,
          0.3,
          0.4,
          0.2,
          0.1,
          0.2,
          1.2,
          2.3,
          0.9,
          0.4,
          0.3,
          1.1,
          1.8,
          0.5,
          0.4,
          0.2,
          12.3,
          15.6,
          17.8,
          13.2,
          8.9,
          11.2,
          9.8,
          4.5,
          3.2,
          2.1,
          3.4,
          5.6,
          12.3,
          3.2,
          8.9,
          2.3,
          1.2,
          0.8,
          1.1,
          23.4,
          6.7,
          4.5,
          3.2,
          2.1,
          1.8,
          1.5,
          12.3,
          1.2,
          0.9
         ],
         "y0": " ",
         "yaxis": "y"
        }
       ],
       "layout": {
        "legend": {
         "tracegroupgap": 0
        },
        "margin": {
         "t": 60
        },
        "template": {
         "data": {
          "bar": [
           {
            "error_x": {
             "color": "#2a3f5f"
            },
            "error_y": {
             "color": "#2a3f5f"
            },
            "marker": {
             "line": {
              "color": "#E5ECF6",
              "width": 0.5
             },
             "pattern": {
              "fillmode": "overlay",
              "size": 10,
              "solidity": 0.2
             }
            },
            "type": "bar"
           }
          ],
          "barpolar": [
           {
            "marker": {
             "line": {
              "color": "#E5ECF6",
              "width": 0.5
             },
             "pattern": {
              "fillmode": "overlay",
              "size": 10,
              "solidity": 0.2
             }
            },
            "type": "barpolar"
           }
          ],
          "carpet": [
           {
            "aaxis": {
             "endlinecolor": "#2a3f5f",
             "gridcolor": "white",
             "linecolor": "white",
             "minorgridcolor": "white",
             "startlinecolor": "#2a3f5f"
            },
            "baxis": {
             "endlinecolor": "#2a3f5f",
             "gridcolor": "white",
             "linecolor": "white",
             "minorgridcolor": "white",
             "startlinecolor": "#2a3f5f"
            },
            "type": "carpet"
           }
          ],
          "choropleth": [
           {
            "colorbar": {
             "outlinewidth": 0,
             "ticks": ""
            },
            "type": "choropleth"
           }
          ],
          "contour": [
           {
            "colorbar": {
             "outlinewidth": 0,
             "ticks": ""
            },
            "colorscale": [
             [
              0,
              "#0d0887"
             ],
             [
              0.1111111111111111,
              "#46039f"
             ],
             [
              0.2222222222222222,
              "#7201a8"
             ],
             [
              0.3333333333333333,
              "#9c179e"
             ],
             [
              0.4444444444444444,
              "#bd3786"
             ],
             [
              0.5555555555555556,
              "#d8576b"
             ],
             [
              0.6666666666666666,
              "#ed7953"
             ],
             [
              0.7777777777777778,
              "#fb9f3a"
             ],
             [
              0.8888888888888888,
              "#fdca26"
             ],
             [
              1,
              "#f0f921"
             ]
            ],
            "type": "contour"
           }
          ],
          "contourcarpet": [
           {
            "colorbar": {
             "outlinewidth": 0,
             "ticks": ""
            },
            "type": "contourcarpet"
           }
          ],
          "heatmap": [
           {
            "colorbar": {
             "outlinewidth": 0,
             "ticks": ""
            },
            "colorscale": [
             [
              0,
              "#0d0887"
             ],
             [
              0.1111111111111111,
              "#46039f"
             ],
             [
              0.2222222222222222,
              "#7201a8"
             ],
             [
              0.3333333333333333,
              "#9c179e"
             ],
             [
              0.4444444444444444,
              "#bd3786"
             ],
             [
              0.5555555555555556,
              "#d8576b"
             ],
             [
              0.6666666666666666,
              "#ed7953"
             ],
             [
              0.7777777777777778,
              "#fb9f3a"
             ],
             [
              0.8888888888888888,
              "#fdca26"
             ],
             [
              1,
              "#f0f921"
             ]
            ],
            "type": "heatmap"
           }
          ],
          "heatmapgl": [
           {
            "colorbar": {
             "outlinewidth": 0,
             "ticks": ""
            },
            "colorscale": [
             [
              0,
              "#0d0887"
             ],
             [
              0.1111111111111111,
              "#46039f"
             ],
             [
              0.2222222222222222,
              "#7201a8"
             ],
             [
              0.3333333333333333,
              "#9c179e"
             ],
             [
              0.4444444444444444,
              "#bd3786"
             ],
             [
              0.5555555555555556,
              "#d8576b"
             ],
             [
              0.6666666666666666,
              "#ed7953"
             ],
             [
              0.7777777777777778,
              "#fb9f3a"
             ],
             [
              0.8888888888888888,
              "#fdca26"
             ],
             [
              1,
              "#f0f921"
             ]
            ],
            "type": "heatmapgl"
           }
          ],
          "histogram": [
           {
            "marker": {
             "pattern": {
              "fillmode": "overlay",
              "size": 10,
              "solidity": 0.2
             }
            },
            "type": "histogram"
           }
          ],
          "histogram2d": [
           {
            "colorbar": {
             "outlinewidth": 0,
             "ticks": ""
            },
            "colorscale": [
             [
              0,
              "#0d0887"
             ],
             [
              0.1111111111111111,
              "#46039f"
             ],
             [
              0.2222222222222222,
              "#7201a8"
             ],
             [
              0.3333333333333333,
              "#9c179e"
             ],
             [
              0.4444444444444444,
              "#bd3786"
             ],
             [
              0.5555555555555556,
              "#d8576b"
             ],
             [
              0.6666666666666666,
              "#ed7953"
             ],
             [
              0.7777777777777778,
              "#fb9f3a"
             ],
             [
              0.8888888888888888,
              "#fdca26"
             ],
             [
              1,
              "#f0f921"
             ]
            ],
            "type": "histogram2d"
           }
          ],
          "histogram2dcontour": [
           {
            "colorbar": {
             "outlinewidth": 0,
             "ticks": ""
            },
            "colorscale": [
             [
              0,
              "#0d0887"
             ],
             [
              0.1111111111111111,
              "#46039f"
             ],
             [
              0.2222222222222222,
              "#7201a8"
             ],
             [
              0.3333333333333333,
              "#9c179e"
             ],
             [
              0.4444444444444444,
              "#bd3786"
             ],
             [
              0.5555555555555556,
              "#d8576b"
             ],
             [
              0.6666666666666666,
              "#ed7953"
             ],
             [
              0.7777777777777778,
              "#fb9f3a"
             ],
             [
              0.8888888888888888,
              "#fdca26"
             ],
             [
              1,
              "#f0f921"
             ]
            ],
            "type": "histogram2dcontour"
           }
          ],
          "mesh3d": [
           {
            "colorbar": {
             "outlinewidth": 0,
             "ticks": ""
            },
            "type": "mesh3d"
           }
          ],
          "parcoords": [
           {
            "line": {
             "colorbar": {
              "outlinewidth": 0,
              "ticks": ""
             }
            },
            "type": "parcoords"
           }
          ],
          "pie": [
           {
            "automargin": true,
            "type": "pie"
           }
          ],
          "scatter": [
           {
            "fillpattern": {
             "fillmode": "overlay",
             "size": 10,
             "solidity": 0.2
            },
            "type": "scatter"
           }
          ],
          "scatter3d": [
           {
            "line": {
             "colorbar": {
              "outlinewidth": 0,
              "ticks": ""
             }
            },
            "marker": {
             "colorbar": {
              "outlinewidth": 0,
              "ticks": ""
             }
            },
            "type": "scatter3d"
           }
          ],
          "scattercarpet": [
           {
            "marker": {
             "colorbar": {
              "outlinewidth": 0,
              "ticks": ""
             }
            },
            "type": "scattercarpet"
           }
          ],
          "scattergeo": [
           {
            "marker": {
             "colorbar": {
              "outlinewidth": 0,
              "ticks": ""
             }
            },
            "type": "scattergeo"
           }
          ],
          "scattergl": [
           {
            "marker": {
             "colorbar": {
              "outlinewidth": 0,
              "ticks": ""
             }
            },
            "type": "scattergl"
           }
          ],
          "scattermapbox": [
           {
            "marker": {
             "colorbar": {
              "outlinewidth": 0,
              "ticks": ""
             }
            },
            "type": "scattermapbox"
           }
          ],
          "scatterpolar": [
           {
            "marker": {
             "colorbar": {
              "outlinewidth": 0,
              "ticks": ""
             }
            },
            "type": "scatterpolar"
           }
          ],
          "scatterpolargl": [
           {
            "marker": {
             "colorbar": {
              "outlinewidth": 0,
              "ticks": ""
             }
            },
            "type": "scatterpolargl"
           }
          ],
          "scatterternary": [
           {
            "marker": {
             "colorbar": {
              "outlinewidth": 0,
              "ticks": ""
             }
            },
            "type": "scatterternary"
           }
          ],
          "surface": [
           {
            "colorbar": {
             "outlinewidth": 0,
             "ticks": ""
            },
            "colorscale": [
             [
              0,
              "#0d0887"
             ],
             [
              0.1111111111111111,
              "#46039f"
             ],
             [
              0.2222222222222222,
              "#7201a8"
             ],
             [
              0.3333333333333333,
              "#9c179e"
             ],
             [
              0.4444444444444444,
              "#bd3786"
             ],
             [
              0.5555555555555556,
              "#d8576b"
             ],
             [
              0.6666666666666666,
              "#ed7953"
             ],
             [
              0.7777777777777778,
              "#fb9f3a"
             ],
             [
              0.8888888888888888,
              "#fdca26"
             ],
             [
              1,
              "#f0f921"
             ]
            ],
            "type": "surface"
           }
          ],
          "table": [
           {
            "cells": {
             "fill": {
              "color": "#EBF0F8"
             },
             "line": {
              "color": "white"
             }
            },
            "header": {
             "fill": {
              "color": "#C8D4E3"
             },
             "line": {
              "color": "white"
             }
            },
            "type": "table"
           }
          ]
         },
         "layout": {
          "annotationdefaults": {
           "arrowcolor": "#2a3f5f",
           "arrowhead": 0,
           "arrowwidth": 1
          },
          "autotypenumbers": "strict",
          "coloraxis": {
           "colorbar": {
            "outlinewidth": 0,
            "ticks": ""
           }
          },
          "colorscale": {
           "diverging": [
            [
             0,
             "#8e0152"
            ],
            [
             0.1,
             "#c51b7d"
            ],
            [
             0.2,
             "#de77ae"
            ],
            [
             0.3,
             "#f1b6da"
            ],
            [
             0.4,
             "#fde0ef"
            ],
            [
             0.5,
             "#f7f7f7"
            ],
            [
             0.6,
             "#e6f5d0"
            ],
            [
             0.7,
             "#b8e186"
            ],
            [
             0.8,
             "#7fbc41"
            ],
            [
             0.9,
             "#4d9221"
            ],
            [
             1,
             "#276419"
            ]
           ],
           "sequential": [
            [
             0,
             "#0d0887"
            ],
            [
             0.1111111111111111,
             "#46039f"
            ],
            [
             0.2222222222222222,
             "#7201a8"
            ],
            [
             0.3333333333333333,
             "#9c179e"
            ],
            [
             0.4444444444444444,
             "#bd3786"
            ],
            [
             0.5555555555555556,
             "#d8576b"
            ],
            [
             0.6666666666666666,
             "#ed7953"
            ],
            [
             0.7777777777777778,
             "#fb9f3a"
            ],
            [
             0.8888888888888888,
             "#fdca26"
            ],
            [
             1,
             "#f0f921"
            ]
           ],
           "sequentialminus": [
            [
             0,
             "#0d0887"
            ],
            [
             0.1111111111111111,
             "#46039f"
            ],
            [
             0.2222222222222222,
             "#7201a8"
            ],
            [
             0.3333333333333333,
             "#9c179e"
            ],
            [
             0.4444444444444444,
             "#bd3786"
            ],
            [
             0.5555555555555556,
             "#d8576b"
            ],
            [
             0.6666666666666666,
             "#ed7953"
            ],
            [
             0.7777777777777778,
             "#fb9f3a"
            ],
            [
             0.8888888888888888,
             "#fdca26"
            ],
            [
             1,
             "#f0f921"
            ]
           ]
          },
          "colorway": [
           "#636efa",
           "#EF553B",
           "#00cc96",
           "#ab63fa",
           "#FFA15A",
           "#19d3f3",
           "#FF6692",
           "#B6E880",
           "#FF97FF",
           "#FECB52"
          ],
          "font": {
           "color": "#2a3f5f"
          },
          "geo": {
           "bgcolor": "white",
           "lakecolor": "white",
           "landcolor": "#E5ECF6",
           "showlakes": true,
           "showland": true,
           "subunitcolor": "white"
          },
          "hoverlabel": {
           "align": "left"
          },
          "hovermode": "closest",
          "mapbox": {
           "style": "light"
          },
          "paper_bgcolor": "white",
          "plot_bgcolor": "#E5ECF6",
          "polar": {
           "angularaxis": {
            "gridcolor": "white",
            "linecolor": "white",
            "ticks": ""
           },
           "bgcolor": "#E5ECF6",
           "radialaxis": {
            "gridcolor": "white",
            "linecolor": "white",
            "ticks": ""
           }
          },
          "scene": {
           "xaxis": {
            "backgroundcolor": "#E5ECF6",
            "gridcolor": "white",
            "gridwidth": 2,
            "linecolor": "white",
            "showbackground": true,
            "ticks": "",
            "zerolinecolor": "white"
           },
           "yaxis": {
            "backgroundcolor": "#E5ECF6",
            "gridcolor": "white",
            "gridwidth": 2,
            "linecolor": "white",
            "showbackground": true,
            "ticks": "",
            "zerolinecolor": "white"
           },
           "zaxis": {
            "backgroundcolor": "#E5ECF6",
            "gridcolor": "white",
            "gridwidth": 2,
            "linecolor": "white",
            "showbackground": true,
            "ticks": "",
            "zerolinecolor": "white"
           }
          },
          "shapedefaults": {
           "line": {
            "color": "#2a3f5f"
           }
          },
          "ternary": {
           "aaxis": {
            "gridcolor": "white",
            "linecolor": "white",
            "ticks": ""
           },
           "baxis": {
            "gridcolor": "white",
            "linecolor": "white",
            "ticks": ""
           },
           "bgcolor": "#E5ECF6",
           "caxis": {
            "gridcolor": "white",
            "linecolor": "white",
            "ticks": ""
           }
          },
          "title": {
           "x": 0.05
          },
          "xaxis": {
           "automargin": true,
           "gridcolor": "white",
           "linecolor": "white",
           "ticks": "",
           "title": {
            "standoff": 15
           },
           "zerolinecolor": "white",
           "zerolinewidth": 2
          },
          "yaxis": {
           "automargin": true,
           "gridcolor": "white",
           "linecolor": "white",
           "ticks": "",
           "title": {
            "standoff": 15
           },
           "zerolinecolor": "white",
           "zerolinewidth": 2
          }
         }
        },
        "violinmode": "overlay",
        "xaxis": {
         "anchor": "y",
         "domain": [
          0,
          1
         ],
         "title": {
          "text": "Coastal_Waste_Risk"
         }
        },
        "yaxis": {
         "anchor": "x",
         "domain": [
          0,
          1
         ],
         "title": {
          "text": "Recycling_Rate"
         }
        }
       }
      }
     },
     "metadata": {},
     "output_type": "display_data"
    }
   ],
   "source": [
    "fig = px.violin(\n",
    "    df,\n",
    "    x=df['Coastal_Waste_Risk'],\n",
    "    y=df['Recycling_Rate'],\n",
    "    violinmode='overlay', #   ['group', 'overlay']\n",
    ")\n",
    "\n",
    "fig.show()"
   ]
  },
  {
   "cell_type": "markdown",
   "metadata": {},
   "source": [
    "<div  style=\"font-family: Arial, sans-serif; font-size: 20px; background-color: #7b2cbf; color: #ffffff; padding: 7px 15px; text-decoration: none; border-radius: 15px;\">\n",
    "⭐\n",
    " \n",
    "</div>"
   ]
  },
  {
   "cell_type": "markdown",
   "metadata": {},
   "source": [
    "<a id=\"37\"></a>\n",
    "### <div style=\"text-align:left; border-radius:15px; padding:20px; color:Black; margin:0; font-size:100%; font-family:Arial; background-color:#48cae4; overflow:hidden\"><b>⚡ 7. Per Capita Waste of Costal</b>\n",
    "<a href=\"#table-of-contents\" style=\"font-family: Arial, sans-serif; font-size: 15px; background-color: #7b2cbf; color: #ffffff; padding: 7px 15px; text-decoration: none; border-radius: 15px;\">\n",
    "        [Table of Content 📜⬆️]\n",
    "</a>\n",
    "</div>\n"
   ]
  },
  {
   "cell_type": "code",
   "execution_count": 218,
   "metadata": {},
   "outputs": [
    {
     "data": {
      "application/vnd.plotly.v1+json": {
       "config": {
        "plotlyServerURL": "https://plot.ly"
       },
       "data": [
        {
         "hovertemplate": "x=%{x}<br>y=%{y}<br>size=%{marker.size}<extra></extra>",
         "legendgroup": "",
         "marker": {
          "color": "#636efa",
          "size": [
           41.2,
           127.5,
           19.3,
           63.2,
           75.6,
           28.1,
           21.3,
           40.2,
           74.3,
           73.1,
           34.2,
           102.1,
           63.4,
           38.5,
           56.7,
           54.9,
           25.8,
           34.5,
           70.2,
           58.3,
           19.3,
           43.5,
           102.8,
           64.8,
           46.9,
           14.8,
           9.7,
           7.1,
           26.4,
           30.1,
           7.3,
           131.2,
           146.3,
           164.8,
           33.7,
           139.2,
           133.9,
           73.4,
           135.8,
           141.5,
           232.1,
           240.2,
           243.1,
           257.3,
           217.9,
           64.7,
           133.7,
           36.4,
           62.8,
           31.2,
           25.9,
           207.1,
           61.8,
           115.7,
           97.6,
           152.3,
           85.9,
           46.7,
           96.8,
           238.1,
           272.4,
           334.8,
           436.5,
           172.8,
           198.6,
           195.4,
           80.6,
           119.1,
           151.9,
           65.3,
           104.2,
           386.8,
           534.6,
           397.7,
           478.6,
           531.1,
           1004.8,
           957.8,
           1331.5,
           1564.4,
           188.7,
           31.2,
           9.3,
           66.2,
           141.6,
           11.4,
           14.2,
           24.7,
           9.6,
           53.2,
           7.9,
           20.4,
           2.6,
           5.3,
           4.4,
           5.3,
           17.4,
           17.3,
           9.7,
           5.3,
           9.9,
           6.9,
           3.3,
           35.1,
           29.3,
           23.2,
           25.6,
           7.4,
           22.7,
           62.8,
           101.2,
           35.6,
           45.2,
           19.8,
           6,
           7.3,
           9.7,
           6.7,
           7,
           8.3,
           7.3,
           5.8,
           6.5,
           4.4,
           5.4,
           8.1,
           7,
           26.4,
           14.2,
           2.6,
           13.9,
           29.7,
           9.4,
           8.1,
           14.8,
           18.5,
           69.7,
           107.9,
           139.2,
           104.5,
           115.7,
           88.3,
           94.2,
           37.8,
           22.7,
           57.3,
           12.3,
           12.8,
           64.2,
           72.8,
           269.4,
           44.7,
           16.5,
           42.9,
           63.8,
           138.6,
           76.9,
           49.8,
           92.7,
           82.4,
           168.5,
           86.3,
           437.2,
           833.3,
           927.8
          ],
          "sizemode": "area",
          "sizeref": 1.7382222222222223,
          "symbol": "circle"
         },
         "mode": "markers",
         "name": "",
         "orientation": "v",
         "showlegend": false,
         "type": "scatter",
         "x": [
          "China",
          "United States",
          "India",
          "Japan",
          "Germany",
          "Brazil",
          "Indonesia",
          "Russia",
          "United Kingdom",
          "France",
          "Mexico",
          "Canada",
          "Italy",
          "Turkey",
          "South Korea",
          "Spain",
          "Vietnam",
          "Thailand",
          "Malaysia",
          "Poland",
          "Egypt",
          "Argentina",
          "Netherlands",
          "Australia",
          "Saudi Arabia",
          "Philippines",
          "Bangladesh",
          "Pakistan",
          "South Africa",
          "Colombia",
          "Nigeria",
          "Belgium",
          "Sweden",
          "Austria",
          "Ukraine",
          "Greece",
          "Czech Republic",
          "Romania",
          "Portugal",
          "Hungary",
          "Denmark",
          "Finland",
          "Norway",
          "Ireland",
          "Singapore",
          "Chile",
          "Israel",
          "Peru",
          "Kazakhstan",
          "Morocco",
          "Algeria",
          "Slovakia",
          "Ecuador",
          "Belarus",
          "Dominican Republic",
          "Bulgaria",
          "Tunisia",
          "Sri Lanka",
          "Azerbaijan",
          "Croatia",
          "Uruguay",
          "Lithuania",
          "Slovenia",
          "Costa Rica",
          "Panama",
          "Kuwait",
          "Jordan",
          "Lebanon",
          "Oman",
          "Bolivia",
          "Paraguay",
          "Latvia",
          "Estonia",
          "Bahrain",
          "Trinidad and Tobago",
          "Cyprus",
          "Montenegro",
          "Luxembourg",
          "Malta",
          "Iceland",
          "Qatar",
          "Cambodia",
          "Myanmar",
          "Laos",
          "Mongolia",
          "Afghanistan",
          "Yemen",
          "Syria",
          "Iraq",
          "Libya",
          "Sudan",
          "Somalia",
          "Ethiopia",
          "Kenya",
          "Tanzania",
          "Uganda",
          "Rwanda",
          "Burundi",
          "Malawi",
          "Mozambique",
          "Zimbabwe",
          "Zambia",
          "Angola",
          "Namibia",
          "Botswana",
          "Lesotho",
          "Eswatini",
          "Madagascar",
          "Comoros",
          "Mauritius",
          "Seychelles",
          "Cape Verde",
          "Sao Tome and Principe",
          "Guinea-Bissau",
          "Guinea",
          "Sierra Leone",
          "Liberia",
          "Ivory Coast",
          "Ghana",
          "Togo",
          "Benin",
          "Mali",
          "Burkina Faso",
          "Niger",
          "Chad",
          "Central African Republic",
          "Cameroon",
          "Gabon",
          "Republic of Congo",
          "Democratic Republic of Congo",
          "Eritrea",
          "Djibouti",
          "Senegal",
          "Gambia",
          "Mauritania",
          "Western Sahara",
          "Moldova",
          "Albania",
          "North Macedonia",
          "Bosnia and Herzegovina",
          "Kosovo",
          "Georgia",
          "Armenia",
          "Kyrgyzstan",
          "Tajikistan",
          "Turkmenistan",
          "Uzbekistan",
          "Nepal",
          "Bhutan",
          "Maldives",
          "Brunei",
          "East Timor",
          "Papua New Guinea",
          "Solomon Islands",
          "Vanuatu",
          "New Caledonia",
          "Fiji",
          "Samoa",
          "Tonga",
          "Kiribati",
          "Marshall Islands",
          "Micronesia",
          "Palau",
          "Tuvalu",
          "Nauru"
         ],
         "xaxis": "x",
         "y": [
          "High",
          "Medium",
          "High",
          "Medium",
          "Low",
          "Medium",
          "Very_High",
          "Medium",
          "Low",
          "Low",
          "High",
          "Low",
          "Medium",
          "High",
          "Medium",
          "Medium",
          "Very_High",
          "High",
          "High",
          "Low",
          "High",
          "Medium",
          "Low",
          "Medium",
          "Medium",
          "Very_High",
          "High",
          "High",
          "Medium",
          "Medium",
          "High",
          "Low",
          "Low",
          "Low",
          "Medium",
          "Medium",
          "Low",
          "Medium",
          "Medium",
          "Low",
          "Low",
          "Low",
          "Low",
          "Low",
          "Medium",
          "High",
          "Medium",
          "High",
          "Low",
          "High",
          "High",
          "Low",
          "High",
          "Low",
          "High",
          "Medium",
          "High",
          "High",
          "Medium",
          "Medium",
          "Medium",
          "Low",
          "Low",
          "High",
          "High",
          "High",
          "Medium",
          "High",
          "High",
          "Low",
          "Low",
          "Low",
          "Low",
          "High",
          "High",
          "Medium",
          "Medium",
          "Low",
          "Medium",
          "Low",
          "High",
          "High",
          "High",
          "Medium",
          "Low",
          "Low",
          "High",
          "Medium",
          "Medium",
          "High",
          "Medium",
          "High",
          "Low",
          "High",
          "High",
          "Low",
          "Low",
          "Low",
          "Low",
          "High",
          "Low",
          "Low",
          "High",
          "High",
          "Low",
          "Low",
          "Low",
          "High",
          "High",
          "High",
          "High",
          "High",
          "High",
          "High",
          "High",
          "High",
          "High",
          "High",
          "High",
          "High",
          "High",
          "Low",
          "Low",
          "Low",
          "Low",
          "Low",
          "High",
          "High",
          "High",
          "Medium",
          "High",
          "High",
          "High",
          "High",
          "High",
          "High",
          "Low",
          "Medium",
          "Low",
          "Low",
          "Low",
          "Medium",
          "Low",
          "Low",
          "Low",
          "Low",
          "Low",
          "Low",
          "Low",
          "Very_High",
          "High",
          "High",
          "High",
          "High",
          "High",
          "High",
          "High",
          "High",
          "High",
          "High",
          "High",
          "High",
          "High",
          "High",
          "High"
         ],
         "yaxis": "y"
        },
        {
         "alignmentgroup": "True",
         "hovertemplate": "x=%{x}<extra></extra>",
         "legendgroup": "",
         "marker": {
          "color": "#636efa",
          "symbol": "circle"
         },
         "name": "",
         "notched": true,
         "offsetgroup": "",
         "showlegend": false,
         "type": "box",
         "x": [
          "China",
          "United States",
          "India",
          "Japan",
          "Germany",
          "Brazil",
          "Indonesia",
          "Russia",
          "United Kingdom",
          "France",
          "Mexico",
          "Canada",
          "Italy",
          "Turkey",
          "South Korea",
          "Spain",
          "Vietnam",
          "Thailand",
          "Malaysia",
          "Poland",
          "Egypt",
          "Argentina",
          "Netherlands",
          "Australia",
          "Saudi Arabia",
          "Philippines",
          "Bangladesh",
          "Pakistan",
          "South Africa",
          "Colombia",
          "Nigeria",
          "Belgium",
          "Sweden",
          "Austria",
          "Ukraine",
          "Greece",
          "Czech Republic",
          "Romania",
          "Portugal",
          "Hungary",
          "Denmark",
          "Finland",
          "Norway",
          "Ireland",
          "Singapore",
          "Chile",
          "Israel",
          "Peru",
          "Kazakhstan",
          "Morocco",
          "Algeria",
          "Slovakia",
          "Ecuador",
          "Belarus",
          "Dominican Republic",
          "Bulgaria",
          "Tunisia",
          "Sri Lanka",
          "Azerbaijan",
          "Croatia",
          "Uruguay",
          "Lithuania",
          "Slovenia",
          "Costa Rica",
          "Panama",
          "Kuwait",
          "Jordan",
          "Lebanon",
          "Oman",
          "Bolivia",
          "Paraguay",
          "Latvia",
          "Estonia",
          "Bahrain",
          "Trinidad and Tobago",
          "Cyprus",
          "Montenegro",
          "Luxembourg",
          "Malta",
          "Iceland",
          "Qatar",
          "Cambodia",
          "Myanmar",
          "Laos",
          "Mongolia",
          "Afghanistan",
          "Yemen",
          "Syria",
          "Iraq",
          "Libya",
          "Sudan",
          "Somalia",
          "Ethiopia",
          "Kenya",
          "Tanzania",
          "Uganda",
          "Rwanda",
          "Burundi",
          "Malawi",
          "Mozambique",
          "Zimbabwe",
          "Zambia",
          "Angola",
          "Namibia",
          "Botswana",
          "Lesotho",
          "Eswatini",
          "Madagascar",
          "Comoros",
          "Mauritius",
          "Seychelles",
          "Cape Verde",
          "Sao Tome and Principe",
          "Guinea-Bissau",
          "Guinea",
          "Sierra Leone",
          "Liberia",
          "Ivory Coast",
          "Ghana",
          "Togo",
          "Benin",
          "Mali",
          "Burkina Faso",
          "Niger",
          "Chad",
          "Central African Republic",
          "Cameroon",
          "Gabon",
          "Republic of Congo",
          "Democratic Republic of Congo",
          "Eritrea",
          "Djibouti",
          "Senegal",
          "Gambia",
          "Mauritania",
          "Western Sahara",
          "Moldova",
          "Albania",
          "North Macedonia",
          "Bosnia and Herzegovina",
          "Kosovo",
          "Georgia",
          "Armenia",
          "Kyrgyzstan",
          "Tajikistan",
          "Turkmenistan",
          "Uzbekistan",
          "Nepal",
          "Bhutan",
          "Maldives",
          "Brunei",
          "East Timor",
          "Papua New Guinea",
          "Solomon Islands",
          "Vanuatu",
          "New Caledonia",
          "Fiji",
          "Samoa",
          "Tonga",
          "Kiribati",
          "Marshall Islands",
          "Micronesia",
          "Palau",
          "Tuvalu",
          "Nauru"
         ],
         "xaxis": "x3",
         "yaxis": "y3"
        },
        {
         "alignmentgroup": "True",
         "bingroup": "y",
         "hovertemplate": "y=%{y}<br>count=%{x}<extra></extra>",
         "legendgroup": "",
         "marker": {
          "color": "#636efa"
         },
         "name": "",
         "offsetgroup": "",
         "opacity": 0.5,
         "showlegend": false,
         "type": "histogram",
         "xaxis": "x2",
         "y": [
          "High",
          "Medium",
          "High",
          "Medium",
          "Low",
          "Medium",
          "Very_High",
          "Medium",
          "Low",
          "Low",
          "High",
          "Low",
          "Medium",
          "High",
          "Medium",
          "Medium",
          "Very_High",
          "High",
          "High",
          "Low",
          "High",
          "Medium",
          "Low",
          "Medium",
          "Medium",
          "Very_High",
          "High",
          "High",
          "Medium",
          "Medium",
          "High",
          "Low",
          "Low",
          "Low",
          "Medium",
          "Medium",
          "Low",
          "Medium",
          "Medium",
          "Low",
          "Low",
          "Low",
          "Low",
          "Low",
          "Medium",
          "High",
          "Medium",
          "High",
          "Low",
          "High",
          "High",
          "Low",
          "High",
          "Low",
          "High",
          "Medium",
          "High",
          "High",
          "Medium",
          "Medium",
          "Medium",
          "Low",
          "Low",
          "High",
          "High",
          "High",
          "Medium",
          "High",
          "High",
          "Low",
          "Low",
          "Low",
          "Low",
          "High",
          "High",
          "Medium",
          "Medium",
          "Low",
          "Medium",
          "Low",
          "High",
          "High",
          "High",
          "Medium",
          "Low",
          "Low",
          "High",
          "Medium",
          "Medium",
          "High",
          "Medium",
          "High",
          "Low",
          "High",
          "High",
          "Low",
          "Low",
          "Low",
          "Low",
          "High",
          "Low",
          "Low",
          "High",
          "High",
          "Low",
          "Low",
          "Low",
          "High",
          "High",
          "High",
          "High",
          "High",
          "High",
          "High",
          "High",
          "High",
          "High",
          "High",
          "High",
          "High",
          "High",
          "Low",
          "Low",
          "Low",
          "Low",
          "Low",
          "High",
          "High",
          "High",
          "Medium",
          "High",
          "High",
          "High",
          "High",
          "High",
          "High",
          "Low",
          "Medium",
          "Low",
          "Low",
          "Low",
          "Medium",
          "Low",
          "Low",
          "Low",
          "Low",
          "Low",
          "Low",
          "Low",
          "Very_High",
          "High",
          "High",
          "High",
          "High",
          "High",
          "High",
          "High",
          "High",
          "High",
          "High",
          "High",
          "High",
          "High",
          "High",
          "High"
         ],
         "yaxis": "y2"
        }
       ],
       "layout": {
        "barmode": "overlay",
        "height": 600,
        "legend": {
         "itemsizing": "constant",
         "tracegroupgap": 0
        },
        "margin": {
         "t": 60
        },
        "template": {
         "data": {
          "bar": [
           {
            "error_x": {
             "color": "#2a3f5f"
            },
            "error_y": {
             "color": "#2a3f5f"
            },
            "marker": {
             "line": {
              "color": "#E5ECF6",
              "width": 0.5
             },
             "pattern": {
              "fillmode": "overlay",
              "size": 10,
              "solidity": 0.2
             }
            },
            "type": "bar"
           }
          ],
          "barpolar": [
           {
            "marker": {
             "line": {
              "color": "#E5ECF6",
              "width": 0.5
             },
             "pattern": {
              "fillmode": "overlay",
              "size": 10,
              "solidity": 0.2
             }
            },
            "type": "barpolar"
           }
          ],
          "carpet": [
           {
            "aaxis": {
             "endlinecolor": "#2a3f5f",
             "gridcolor": "white",
             "linecolor": "white",
             "minorgridcolor": "white",
             "startlinecolor": "#2a3f5f"
            },
            "baxis": {
             "endlinecolor": "#2a3f5f",
             "gridcolor": "white",
             "linecolor": "white",
             "minorgridcolor": "white",
             "startlinecolor": "#2a3f5f"
            },
            "type": "carpet"
           }
          ],
          "choropleth": [
           {
            "colorbar": {
             "outlinewidth": 0,
             "ticks": ""
            },
            "type": "choropleth"
           }
          ],
          "contour": [
           {
            "colorbar": {
             "outlinewidth": 0,
             "ticks": ""
            },
            "colorscale": [
             [
              0,
              "#0d0887"
             ],
             [
              0.1111111111111111,
              "#46039f"
             ],
             [
              0.2222222222222222,
              "#7201a8"
             ],
             [
              0.3333333333333333,
              "#9c179e"
             ],
             [
              0.4444444444444444,
              "#bd3786"
             ],
             [
              0.5555555555555556,
              "#d8576b"
             ],
             [
              0.6666666666666666,
              "#ed7953"
             ],
             [
              0.7777777777777778,
              "#fb9f3a"
             ],
             [
              0.8888888888888888,
              "#fdca26"
             ],
             [
              1,
              "#f0f921"
             ]
            ],
            "type": "contour"
           }
          ],
          "contourcarpet": [
           {
            "colorbar": {
             "outlinewidth": 0,
             "ticks": ""
            },
            "type": "contourcarpet"
           }
          ],
          "heatmap": [
           {
            "colorbar": {
             "outlinewidth": 0,
             "ticks": ""
            },
            "colorscale": [
             [
              0,
              "#0d0887"
             ],
             [
              0.1111111111111111,
              "#46039f"
             ],
             [
              0.2222222222222222,
              "#7201a8"
             ],
             [
              0.3333333333333333,
              "#9c179e"
             ],
             [
              0.4444444444444444,
              "#bd3786"
             ],
             [
              0.5555555555555556,
              "#d8576b"
             ],
             [
              0.6666666666666666,
              "#ed7953"
             ],
             [
              0.7777777777777778,
              "#fb9f3a"
             ],
             [
              0.8888888888888888,
              "#fdca26"
             ],
             [
              1,
              "#f0f921"
             ]
            ],
            "type": "heatmap"
           }
          ],
          "heatmapgl": [
           {
            "colorbar": {
             "outlinewidth": 0,
             "ticks": ""
            },
            "colorscale": [
             [
              0,
              "#0d0887"
             ],
             [
              0.1111111111111111,
              "#46039f"
             ],
             [
              0.2222222222222222,
              "#7201a8"
             ],
             [
              0.3333333333333333,
              "#9c179e"
             ],
             [
              0.4444444444444444,
              "#bd3786"
             ],
             [
              0.5555555555555556,
              "#d8576b"
             ],
             [
              0.6666666666666666,
              "#ed7953"
             ],
             [
              0.7777777777777778,
              "#fb9f3a"
             ],
             [
              0.8888888888888888,
              "#fdca26"
             ],
             [
              1,
              "#f0f921"
             ]
            ],
            "type": "heatmapgl"
           }
          ],
          "histogram": [
           {
            "marker": {
             "pattern": {
              "fillmode": "overlay",
              "size": 10,
              "solidity": 0.2
             }
            },
            "type": "histogram"
           }
          ],
          "histogram2d": [
           {
            "colorbar": {
             "outlinewidth": 0,
             "ticks": ""
            },
            "colorscale": [
             [
              0,
              "#0d0887"
             ],
             [
              0.1111111111111111,
              "#46039f"
             ],
             [
              0.2222222222222222,
              "#7201a8"
             ],
             [
              0.3333333333333333,
              "#9c179e"
             ],
             [
              0.4444444444444444,
              "#bd3786"
             ],
             [
              0.5555555555555556,
              "#d8576b"
             ],
             [
              0.6666666666666666,
              "#ed7953"
             ],
             [
              0.7777777777777778,
              "#fb9f3a"
             ],
             [
              0.8888888888888888,
              "#fdca26"
             ],
             [
              1,
              "#f0f921"
             ]
            ],
            "type": "histogram2d"
           }
          ],
          "histogram2dcontour": [
           {
            "colorbar": {
             "outlinewidth": 0,
             "ticks": ""
            },
            "colorscale": [
             [
              0,
              "#0d0887"
             ],
             [
              0.1111111111111111,
              "#46039f"
             ],
             [
              0.2222222222222222,
              "#7201a8"
             ],
             [
              0.3333333333333333,
              "#9c179e"
             ],
             [
              0.4444444444444444,
              "#bd3786"
             ],
             [
              0.5555555555555556,
              "#d8576b"
             ],
             [
              0.6666666666666666,
              "#ed7953"
             ],
             [
              0.7777777777777778,
              "#fb9f3a"
             ],
             [
              0.8888888888888888,
              "#fdca26"
             ],
             [
              1,
              "#f0f921"
             ]
            ],
            "type": "histogram2dcontour"
           }
          ],
          "mesh3d": [
           {
            "colorbar": {
             "outlinewidth": 0,
             "ticks": ""
            },
            "type": "mesh3d"
           }
          ],
          "parcoords": [
           {
            "line": {
             "colorbar": {
              "outlinewidth": 0,
              "ticks": ""
             }
            },
            "type": "parcoords"
           }
          ],
          "pie": [
           {
            "automargin": true,
            "type": "pie"
           }
          ],
          "scatter": [
           {
            "fillpattern": {
             "fillmode": "overlay",
             "size": 10,
             "solidity": 0.2
            },
            "type": "scatter"
           }
          ],
          "scatter3d": [
           {
            "line": {
             "colorbar": {
              "outlinewidth": 0,
              "ticks": ""
             }
            },
            "marker": {
             "colorbar": {
              "outlinewidth": 0,
              "ticks": ""
             }
            },
            "type": "scatter3d"
           }
          ],
          "scattercarpet": [
           {
            "marker": {
             "colorbar": {
              "outlinewidth": 0,
              "ticks": ""
             }
            },
            "type": "scattercarpet"
           }
          ],
          "scattergeo": [
           {
            "marker": {
             "colorbar": {
              "outlinewidth": 0,
              "ticks": ""
             }
            },
            "type": "scattergeo"
           }
          ],
          "scattergl": [
           {
            "marker": {
             "colorbar": {
              "outlinewidth": 0,
              "ticks": ""
             }
            },
            "type": "scattergl"
           }
          ],
          "scattermapbox": [
           {
            "marker": {
             "colorbar": {
              "outlinewidth": 0,
              "ticks": ""
             }
            },
            "type": "scattermapbox"
           }
          ],
          "scatterpolar": [
           {
            "marker": {
             "colorbar": {
              "outlinewidth": 0,
              "ticks": ""
             }
            },
            "type": "scatterpolar"
           }
          ],
          "scatterpolargl": [
           {
            "marker": {
             "colorbar": {
              "outlinewidth": 0,
              "ticks": ""
             }
            },
            "type": "scatterpolargl"
           }
          ],
          "scatterternary": [
           {
            "marker": {
             "colorbar": {
              "outlinewidth": 0,
              "ticks": ""
             }
            },
            "type": "scatterternary"
           }
          ],
          "surface": [
           {
            "colorbar": {
             "outlinewidth": 0,
             "ticks": ""
            },
            "colorscale": [
             [
              0,
              "#0d0887"
             ],
             [
              0.1111111111111111,
              "#46039f"
             ],
             [
              0.2222222222222222,
              "#7201a8"
             ],
             [
              0.3333333333333333,
              "#9c179e"
             ],
             [
              0.4444444444444444,
              "#bd3786"
             ],
             [
              0.5555555555555556,
              "#d8576b"
             ],
             [
              0.6666666666666666,
              "#ed7953"
             ],
             [
              0.7777777777777778,
              "#fb9f3a"
             ],
             [
              0.8888888888888888,
              "#fdca26"
             ],
             [
              1,
              "#f0f921"
             ]
            ],
            "type": "surface"
           }
          ],
          "table": [
           {
            "cells": {
             "fill": {
              "color": "#EBF0F8"
             },
             "line": {
              "color": "white"
             }
            },
            "header": {
             "fill": {
              "color": "#C8D4E3"
             },
             "line": {
              "color": "white"
             }
            },
            "type": "table"
           }
          ]
         },
         "layout": {
          "annotationdefaults": {
           "arrowcolor": "#2a3f5f",
           "arrowhead": 0,
           "arrowwidth": 1
          },
          "autotypenumbers": "strict",
          "coloraxis": {
           "colorbar": {
            "outlinewidth": 0,
            "ticks": ""
           }
          },
          "colorscale": {
           "diverging": [
            [
             0,
             "#8e0152"
            ],
            [
             0.1,
             "#c51b7d"
            ],
            [
             0.2,
             "#de77ae"
            ],
            [
             0.3,
             "#f1b6da"
            ],
            [
             0.4,
             "#fde0ef"
            ],
            [
             0.5,
             "#f7f7f7"
            ],
            [
             0.6,
             "#e6f5d0"
            ],
            [
             0.7,
             "#b8e186"
            ],
            [
             0.8,
             "#7fbc41"
            ],
            [
             0.9,
             "#4d9221"
            ],
            [
             1,
             "#276419"
            ]
           ],
           "sequential": [
            [
             0,
             "#0d0887"
            ],
            [
             0.1111111111111111,
             "#46039f"
            ],
            [
             0.2222222222222222,
             "#7201a8"
            ],
            [
             0.3333333333333333,
             "#9c179e"
            ],
            [
             0.4444444444444444,
             "#bd3786"
            ],
            [
             0.5555555555555556,
             "#d8576b"
            ],
            [
             0.6666666666666666,
             "#ed7953"
            ],
            [
             0.7777777777777778,
             "#fb9f3a"
            ],
            [
             0.8888888888888888,
             "#fdca26"
            ],
            [
             1,
             "#f0f921"
            ]
           ],
           "sequentialminus": [
            [
             0,
             "#0d0887"
            ],
            [
             0.1111111111111111,
             "#46039f"
            ],
            [
             0.2222222222222222,
             "#7201a8"
            ],
            [
             0.3333333333333333,
             "#9c179e"
            ],
            [
             0.4444444444444444,
             "#bd3786"
            ],
            [
             0.5555555555555556,
             "#d8576b"
            ],
            [
             0.6666666666666666,
             "#ed7953"
            ],
            [
             0.7777777777777778,
             "#fb9f3a"
            ],
            [
             0.8888888888888888,
             "#fdca26"
            ],
            [
             1,
             "#f0f921"
            ]
           ]
          },
          "colorway": [
           "#636efa",
           "#EF553B",
           "#00cc96",
           "#ab63fa",
           "#FFA15A",
           "#19d3f3",
           "#FF6692",
           "#B6E880",
           "#FF97FF",
           "#FECB52"
          ],
          "font": {
           "color": "#2a3f5f"
          },
          "geo": {
           "bgcolor": "white",
           "lakecolor": "white",
           "landcolor": "#E5ECF6",
           "showlakes": true,
           "showland": true,
           "subunitcolor": "white"
          },
          "hoverlabel": {
           "align": "left"
          },
          "hovermode": "closest",
          "mapbox": {
           "style": "light"
          },
          "paper_bgcolor": "white",
          "plot_bgcolor": "#E5ECF6",
          "polar": {
           "angularaxis": {
            "gridcolor": "white",
            "linecolor": "white",
            "ticks": ""
           },
           "bgcolor": "#E5ECF6",
           "radialaxis": {
            "gridcolor": "white",
            "linecolor": "white",
            "ticks": ""
           }
          },
          "scene": {
           "xaxis": {
            "backgroundcolor": "#E5ECF6",
            "gridcolor": "white",
            "gridwidth": 2,
            "linecolor": "white",
            "showbackground": true,
            "ticks": "",
            "zerolinecolor": "white"
           },
           "yaxis": {
            "backgroundcolor": "#E5ECF6",
            "gridcolor": "white",
            "gridwidth": 2,
            "linecolor": "white",
            "showbackground": true,
            "ticks": "",
            "zerolinecolor": "white"
           },
           "zaxis": {
            "backgroundcolor": "#E5ECF6",
            "gridcolor": "white",
            "gridwidth": 2,
            "linecolor": "white",
            "showbackground": true,
            "ticks": "",
            "zerolinecolor": "white"
           }
          },
          "shapedefaults": {
           "line": {
            "color": "#2a3f5f"
           }
          },
          "ternary": {
           "aaxis": {
            "gridcolor": "white",
            "linecolor": "white",
            "ticks": ""
           },
           "baxis": {
            "gridcolor": "white",
            "linecolor": "white",
            "ticks": ""
           },
           "bgcolor": "#E5ECF6",
           "caxis": {
            "gridcolor": "white",
            "linecolor": "white",
            "ticks": ""
           }
          },
          "title": {
           "x": 0.05
          },
          "xaxis": {
           "automargin": true,
           "gridcolor": "white",
           "linecolor": "white",
           "ticks": "",
           "title": {
            "standoff": 15
           },
           "zerolinecolor": "white",
           "zerolinewidth": 2
          },
          "yaxis": {
           "automargin": true,
           "gridcolor": "white",
           "linecolor": "white",
           "ticks": "",
           "title": {
            "standoff": 15
           },
           "zerolinecolor": "white",
           "zerolinewidth": 2
          }
         }
        },
        "title": {
         "text": "Per Capita Waste of Costal"
        },
        "width": 1300,
        "xaxis": {
         "anchor": "y",
         "domain": [
          0,
          0.7363
         ],
         "title": {
          "text": "x"
         }
        },
        "xaxis2": {
         "anchor": "y2",
         "domain": [
          0.7413,
          1
         ],
         "matches": "x2",
         "showgrid": true,
         "showline": false,
         "showticklabels": false,
         "ticks": ""
        },
        "xaxis3": {
         "anchor": "y3",
         "domain": [
          0,
          0.7363
         ],
         "matches": "x",
         "showgrid": true,
         "showticklabels": false
        },
        "xaxis4": {
         "anchor": "y4",
         "domain": [
          0.7413,
          1
         ],
         "matches": "x2",
         "showgrid": true,
         "showline": false,
         "showticklabels": false,
         "ticks": ""
        },
        "yaxis": {
         "anchor": "x",
         "domain": [
          0,
          0.8316
         ],
         "title": {
          "text": "y"
         }
        },
        "yaxis2": {
         "anchor": "x2",
         "domain": [
          0,
          0.8316
         ],
         "matches": "y",
         "showgrid": true,
         "showticklabels": false
        },
        "yaxis3": {
         "anchor": "x3",
         "domain": [
          0.8416,
          1
         ],
         "matches": "y3",
         "showgrid": false,
         "showline": false,
         "showticklabels": false,
         "ticks": ""
        },
        "yaxis4": {
         "anchor": "x4",
         "domain": [
          0.8416,
          1
         ],
         "matches": "y3",
         "showgrid": true,
         "showline": false,
         "showticklabels": false,
         "ticks": ""
        }
       }
      }
     },
     "metadata": {},
     "output_type": "display_data"
    }
   ],
   "source": [
    "fig = px.scatter(\n",
    "    numeric_df,\n",
    "    x=df['Country'],\n",
    "    y=df['Coastal_Waste_Risk'],\n",
    "    size=df['Per_Capita_Waste_KG'],\n",
    "    size_max=30,\n",
    "    marginal_x='box',\n",
    "    marginal_y='histogram',\n",
    ")\n",
    "\n",
    "\n",
    "fig.update_layout(\n",
    "    title='Per Capita Waste of Costal',\n",
    "    width=1300,\n",
    "    height=600,\n",
    ")\n",
    "fig.show()"
   ]
  },
  {
   "cell_type": "markdown",
   "metadata": {},
   "source": [
    "<div  style=\"font-family: Arial, sans-serif; font-size: 20px; background-color: #7b2cbf; color: #ffffff; padding: 7px 15px; text-decoration: none; border-radius: 15px;\">\n",
    "⭐\n",
    " \n",
    "</div>"
   ]
  },
  {
   "cell_type": "markdown",
   "metadata": {},
   "source": [
    "<div style=\"font-family: 'Arial', sans-serif; font-size: 72px; background-color: #5a189a; color: #ffffff; padding: 20px; border-radius: 20px; text-align: center; box-shadow: 0 4px 10px rgba(0, 0, 0, 0.2);\">\n",
    "Thank You\n",
    "</div"
   ]
  }
 ],
 "metadata": {
  "kernelspec": {
   "display_name": "Python 3",
   "language": "python",
   "name": "python3"
  },
  "language_info": {
   "codemirror_mode": {
    "name": "ipython",
    "version": 3
   },
   "file_extension": ".py",
   "mimetype": "text/x-python",
   "name": "python",
   "nbconvert_exporter": "python",
   "pygments_lexer": "ipython3",
   "version": "3.12.3"
  }
 },
 "nbformat": 4,
 "nbformat_minor": 2
}
