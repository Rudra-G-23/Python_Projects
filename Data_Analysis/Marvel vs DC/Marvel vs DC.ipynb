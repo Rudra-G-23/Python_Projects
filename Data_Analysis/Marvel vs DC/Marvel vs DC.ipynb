{
 "cells": [
  {
   "cell_type": "markdown",
   "metadata": {},
   "source": [
    "# Understand the Data"
   ]
  },
  {
   "cell_type": "code",
   "execution_count": 1,
   "metadata": {},
   "outputs": [],
   "source": [
    "import numpy as np  \n",
    "import pandas as pd\n",
    "import matplotlib.pyplot as plt\n",
    "import seaborn as sns\n",
    "import missingno as msno\n",
    "import squarify\n",
    "import plotly.express as px  \n",
    "import plotly.graph_objects as go  \n",
    "import warnings\n",
    "warnings.filterwarnings('ignore')\n"
   ]
  },
  {
   "cell_type": "code",
   "execution_count": 2,
   "metadata": {},
   "outputs": [
    {
     "data": {
      "text/html": [
       "<div>\n",
       "<style scoped>\n",
       "    .dataframe tbody tr th:only-of-type {\n",
       "        vertical-align: middle;\n",
       "    }\n",
       "\n",
       "    .dataframe tbody tr th {\n",
       "        vertical-align: top;\n",
       "    }\n",
       "\n",
       "    .dataframe thead th {\n",
       "        text-align: right;\n",
       "    }\n",
       "</style>\n",
       "<table border=\"1\" class=\"dataframe\">\n",
       "  <thead>\n",
       "    <tr style=\"text-align: right;\">\n",
       "      <th></th>\n",
       "      <th>ID</th>\n",
       "      <th>Movie</th>\n",
       "      <th>Year</th>\n",
       "      <th>Genre</th>\n",
       "      <th>RunTime</th>\n",
       "      <th>Description</th>\n",
       "      <th>IMDB_Score</th>\n",
       "    </tr>\n",
       "  </thead>\n",
       "  <tbody>\n",
       "    <tr>\n",
       "      <th>824</th>\n",
       "      <td>824</td>\n",
       "      <td>Justice League</td>\n",
       "      <td>(2001â2004)</td>\n",
       "      <td>Animation,Action,Adventure</td>\n",
       "      <td>24 min</td>\n",
       "      <td>Diana makes friends with a flighty princess on...</td>\n",
       "      <td>7.4</td>\n",
       "    </tr>\n",
       "    <tr>\n",
       "      <th>627</th>\n",
       "      <td>627</td>\n",
       "      <td>Batman Beyond</td>\n",
       "      <td>(1999â2001)</td>\n",
       "      <td>Animation,Action,Adventure</td>\n",
       "      <td>22 min</td>\n",
       "      <td>Determined to bring his father's murderers to ...</td>\n",
       "      <td>8.4</td>\n",
       "    </tr>\n",
       "    <tr>\n",
       "      <th>1473</th>\n",
       "      <td>1473</td>\n",
       "      <td>Young Justice</td>\n",
       "      <td>(2010â )</td>\n",
       "      <td>Animation,Action,Adventure</td>\n",
       "      <td>23 min</td>\n",
       "      <td>Dick Grayson, Artemis Crock, Conner Kent and J...</td>\n",
       "      <td>8.7</td>\n",
       "    </tr>\n",
       "    <tr>\n",
       "      <th>1147</th>\n",
       "      <td>1147</td>\n",
       "      <td>Human Target</td>\n",
       "      <td>(2010â2011)</td>\n",
       "      <td>Action,Adventure,Crime</td>\n",
       "      <td>60 min</td>\n",
       "      <td>A English anthropologist accidentally discover...</td>\n",
       "      <td>8.0</td>\n",
       "    </tr>\n",
       "    <tr>\n",
       "      <th>1103</th>\n",
       "      <td>1103</td>\n",
       "      <td>20 to 1</td>\n",
       "      <td>(2005â2017)</td>\n",
       "      <td>Documentary</td>\n",
       "      <td>0</td>\n",
       "      <td>Bert Newton counts down the most glamorous and...</td>\n",
       "      <td>0.0</td>\n",
       "    </tr>\n",
       "    <tr>\n",
       "      <th>122</th>\n",
       "      <td>122</td>\n",
       "      <td>Mutant X</td>\n",
       "      <td>(2001â2004)</td>\n",
       "      <td>Action,Adventure,Drama</td>\n",
       "      <td>43 min</td>\n",
       "      <td>The team tries to stop Eckhart from acquiring ...</td>\n",
       "      <td>6.5</td>\n",
       "    </tr>\n",
       "    <tr>\n",
       "      <th>770</th>\n",
       "      <td>770</td>\n",
       "      <td>The New Batman Adventures</td>\n",
       "      <td>(1997â1999)</td>\n",
       "      <td>Animation,Action,Adventure</td>\n",
       "      <td>22 min</td>\n",
       "      <td>Catwoman is pursued by a fanatical cat themed ...</td>\n",
       "      <td>7.0</td>\n",
       "    </tr>\n",
       "  </tbody>\n",
       "</table>\n",
       "</div>"
      ],
      "text/plain": [
       "        ID                      Movie           Year  \\\n",
       "824    824             Justice League  (2001â2004)   \n",
       "627    627              Batman Beyond  (1999â2001)   \n",
       "1473  1473              Young Justice     (2010â )   \n",
       "1147  1147               Human Target  (2010â2011)   \n",
       "1103  1103                    20 to 1  (2005â2017)   \n",
       "122    122                   Mutant X  (2001â2004)   \n",
       "770    770  The New Batman Adventures  (1997â1999)   \n",
       "\n",
       "                           Genre RunTime  \\\n",
       "824   Animation,Action,Adventure  24 min   \n",
       "627   Animation,Action,Adventure  22 min   \n",
       "1473  Animation,Action,Adventure  23 min   \n",
       "1147      Action,Adventure,Crime  60 min   \n",
       "1103                 Documentary       0   \n",
       "122       Action,Adventure,Drama  43 min   \n",
       "770   Animation,Action,Adventure  22 min   \n",
       "\n",
       "                                            Description  IMDB_Score  \n",
       "824   Diana makes friends with a flighty princess on...         7.4  \n",
       "627   Determined to bring his father's murderers to ...         8.4  \n",
       "1473  Dick Grayson, Artemis Crock, Conner Kent and J...         8.7  \n",
       "1147  A English anthropologist accidentally discover...         8.0  \n",
       "1103  Bert Newton counts down the most glamorous and...         0.0  \n",
       "122   The team tries to stop Eckhart from acquiring ...         6.5  \n",
       "770   Catwoman is pursued by a fanatical cat themed ...         7.0  "
      ]
     },
     "execution_count": 2,
     "metadata": {},
     "output_type": "execute_result"
    }
   ],
   "source": [
    "source = r'C:\\Users\\Rudra\\Downloads\\Python_Pandas_profiling\\Marvel vs DC\\Marvel Vs DC NEW.csv '\n",
    "df = pd.read_csv(source, encoding= 'unicode_escape')\n",
    "df.sample(7)"
   ]
  },
  {
   "cell_type": "code",
   "execution_count": 3,
   "metadata": {},
   "outputs": [
    {
     "data": {
      "text/plain": [
       "11830"
      ]
     },
     "execution_count": 3,
     "metadata": {},
     "output_type": "execute_result"
    }
   ],
   "source": [
    "df.size"
   ]
  },
  {
   "cell_type": "code",
   "execution_count": 4,
   "metadata": {},
   "outputs": [
    {
     "data": {
      "text/plain": [
       "(1690, 7)"
      ]
     },
     "execution_count": 4,
     "metadata": {},
     "output_type": "execute_result"
    }
   ],
   "source": [
    "df.shape"
   ]
  },
  {
   "cell_type": "code",
   "execution_count": 5,
   "metadata": {},
   "outputs": [
    {
     "name": "stdout",
     "output_type": "stream",
     "text": [
      "<class 'pandas.core.frame.DataFrame'>\n",
      "RangeIndex: 1690 entries, 0 to 1689\n",
      "Data columns (total 7 columns):\n",
      " #   Column       Non-Null Count  Dtype  \n",
      "---  ------       --------------  -----  \n",
      " 0   ID           1690 non-null   int64  \n",
      " 1   Movie        1690 non-null   object \n",
      " 2   Year         1657 non-null   object \n",
      " 3   Genre        1683 non-null   object \n",
      " 4   RunTime      1690 non-null   object \n",
      " 5   Description  1690 non-null   object \n",
      " 6   IMDB_Score   1690 non-null   float64\n",
      "dtypes: float64(1), int64(1), object(5)\n",
      "memory usage: 92.6+ KB\n"
     ]
    }
   ],
   "source": [
    "df.info()"
   ]
  },
  {
   "cell_type": "code",
   "execution_count": 6,
   "metadata": {},
   "outputs": [
    {
     "data": {
      "text/html": [
       "<div>\n",
       "<style scoped>\n",
       "    .dataframe tbody tr th:only-of-type {\n",
       "        vertical-align: middle;\n",
       "    }\n",
       "\n",
       "    .dataframe tbody tr th {\n",
       "        vertical-align: top;\n",
       "    }\n",
       "\n",
       "    .dataframe thead th {\n",
       "        text-align: right;\n",
       "    }\n",
       "</style>\n",
       "<table border=\"1\" class=\"dataframe\">\n",
       "  <thead>\n",
       "    <tr style=\"text-align: right;\">\n",
       "      <th></th>\n",
       "      <th>ID</th>\n",
       "      <th>Movie</th>\n",
       "      <th>Year</th>\n",
       "      <th>Genre</th>\n",
       "      <th>RunTime</th>\n",
       "      <th>Description</th>\n",
       "      <th>IMDB_Score</th>\n",
       "    </tr>\n",
       "  </thead>\n",
       "  <tbody>\n",
       "    <tr>\n",
       "      <th>count</th>\n",
       "      <td>1690.000000</td>\n",
       "      <td>1690</td>\n",
       "      <td>1657</td>\n",
       "      <td>1683</td>\n",
       "      <td>1690</td>\n",
       "      <td>1690</td>\n",
       "      <td>1690.000000</td>\n",
       "    </tr>\n",
       "    <tr>\n",
       "      <th>unique</th>\n",
       "      <td>NaN</td>\n",
       "      <td>314</td>\n",
       "      <td>147</td>\n",
       "      <td>90</td>\n",
       "      <td>126</td>\n",
       "      <td>1571</td>\n",
       "      <td>NaN</td>\n",
       "    </tr>\n",
       "    <tr>\n",
       "      <th>top</th>\n",
       "      <td>NaN</td>\n",
       "      <td>Smallville</td>\n",
       "      <td>(2001â2011)</td>\n",
       "      <td>Animation,Action,Adventure</td>\n",
       "      <td>0</td>\n",
       "      <td>a Plot</td>\n",
       "      <td>NaN</td>\n",
       "    </tr>\n",
       "    <tr>\n",
       "      <th>freq</th>\n",
       "      <td>NaN</td>\n",
       "      <td>176</td>\n",
       "      <td>176</td>\n",
       "      <td>439</td>\n",
       "      <td>283</td>\n",
       "      <td>117</td>\n",
       "      <td>NaN</td>\n",
       "    </tr>\n",
       "    <tr>\n",
       "      <th>mean</th>\n",
       "      <td>844.500000</td>\n",
       "      <td>NaN</td>\n",
       "      <td>NaN</td>\n",
       "      <td>NaN</td>\n",
       "      <td>NaN</td>\n",
       "      <td>NaN</td>\n",
       "      <td>6.877337</td>\n",
       "    </tr>\n",
       "    <tr>\n",
       "      <th>std</th>\n",
       "      <td>488.005294</td>\n",
       "      <td>NaN</td>\n",
       "      <td>NaN</td>\n",
       "      <td>NaN</td>\n",
       "      <td>NaN</td>\n",
       "      <td>NaN</td>\n",
       "      <td>2.690564</td>\n",
       "    </tr>\n",
       "    <tr>\n",
       "      <th>min</th>\n",
       "      <td>0.000000</td>\n",
       "      <td>NaN</td>\n",
       "      <td>NaN</td>\n",
       "      <td>NaN</td>\n",
       "      <td>NaN</td>\n",
       "      <td>NaN</td>\n",
       "      <td>0.000000</td>\n",
       "    </tr>\n",
       "    <tr>\n",
       "      <th>25%</th>\n",
       "      <td>422.250000</td>\n",
       "      <td>NaN</td>\n",
       "      <td>NaN</td>\n",
       "      <td>NaN</td>\n",
       "      <td>NaN</td>\n",
       "      <td>NaN</td>\n",
       "      <td>6.900000</td>\n",
       "    </tr>\n",
       "    <tr>\n",
       "      <th>50%</th>\n",
       "      <td>844.500000</td>\n",
       "      <td>NaN</td>\n",
       "      <td>NaN</td>\n",
       "      <td>NaN</td>\n",
       "      <td>NaN</td>\n",
       "      <td>NaN</td>\n",
       "      <td>7.800000</td>\n",
       "    </tr>\n",
       "    <tr>\n",
       "      <th>75%</th>\n",
       "      <td>1266.750000</td>\n",
       "      <td>NaN</td>\n",
       "      <td>NaN</td>\n",
       "      <td>NaN</td>\n",
       "      <td>NaN</td>\n",
       "      <td>NaN</td>\n",
       "      <td>8.400000</td>\n",
       "    </tr>\n",
       "    <tr>\n",
       "      <th>max</th>\n",
       "      <td>1689.000000</td>\n",
       "      <td>NaN</td>\n",
       "      <td>NaN</td>\n",
       "      <td>NaN</td>\n",
       "      <td>NaN</td>\n",
       "      <td>NaN</td>\n",
       "      <td>9.600000</td>\n",
       "    </tr>\n",
       "  </tbody>\n",
       "</table>\n",
       "</div>"
      ],
      "text/plain": [
       "                 ID       Movie           Year                       Genre  \\\n",
       "count   1690.000000        1690           1657                        1683   \n",
       "unique          NaN         314            147                          90   \n",
       "top             NaN  Smallville  (2001â2011)  Animation,Action,Adventure   \n",
       "freq            NaN         176            176                         439   \n",
       "mean     844.500000         NaN            NaN                         NaN   \n",
       "std      488.005294         NaN            NaN                         NaN   \n",
       "min        0.000000         NaN            NaN                         NaN   \n",
       "25%      422.250000         NaN            NaN                         NaN   \n",
       "50%      844.500000         NaN            NaN                         NaN   \n",
       "75%     1266.750000         NaN            NaN                         NaN   \n",
       "max     1689.000000         NaN            NaN                         NaN   \n",
       "\n",
       "       RunTime Description   IMDB_Score  \n",
       "count     1690        1690  1690.000000  \n",
       "unique     126        1571          NaN  \n",
       "top          0      a Plot          NaN  \n",
       "freq       283         117          NaN  \n",
       "mean       NaN         NaN     6.877337  \n",
       "std        NaN         NaN     2.690564  \n",
       "min        NaN         NaN     0.000000  \n",
       "25%        NaN         NaN     6.900000  \n",
       "50%        NaN         NaN     7.800000  \n",
       "75%        NaN         NaN     8.400000  \n",
       "max        NaN         NaN     9.600000  "
      ]
     },
     "execution_count": 6,
     "metadata": {},
     "output_type": "execute_result"
    }
   ],
   "source": [
    "df.describe(include='all')"
   ]
  },
  {
   "cell_type": "code",
   "execution_count": 7,
   "metadata": {},
   "outputs": [
    {
     "data": {
      "text/plain": [
       "Index(['ID', 'Movie', 'Year', 'Genre', 'RunTime', 'Description', 'IMDB_Score'], dtype='object')"
      ]
     },
     "execution_count": 7,
     "metadata": {},
     "output_type": "execute_result"
    }
   ],
   "source": [
    "df.columns"
   ]
  },
  {
   "cell_type": "markdown",
   "metadata": {},
   "source": [
    "# Data Cleaning \n",
    "- Create Two separate column for the StartYear, End Year from year column\n",
    "- Find the Run Time in min "
   ]
  },
  {
   "cell_type": "code",
   "execution_count": 8,
   "metadata": {},
   "outputs": [
    {
     "data": {
      "text/plain": [
       "<Axes: >"
      ]
     },
     "execution_count": 8,
     "metadata": {},
     "output_type": "execute_result"
    },
    {
     "data": {
      "image/png": "[encoded data removed]",
      "text/plain": [
       "<Figure size 2500x1000 with 2 Axes>"
      ]
     },
     "metadata": {},
     "output_type": "display_data"
    }
   ],
   "source": [
    "msno.matrix(df)"
   ]
  },
  {
   "cell_type": "code",
   "execution_count": 9,
   "metadata": {},
   "outputs": [
    {
     "data": {
      "text/plain": [
       "ID                                                           866\n",
       "Movie                                   Justice League Unlimited\n",
       "Year                                               (2004â2006)\n",
       "Genre                                 Animation,Action,Adventure\n",
       "RunTime                                                   23 min\n",
       "Description    When Circe changes Wonder Woman into a pig, Ba...\n",
       "IMDB_Score                                                   7.8\n",
       "Name: 866, dtype: object"
      ]
     },
     "execution_count": 9,
     "metadata": {},
     "output_type": "execute_result"
    }
   ],
   "source": [
    "df.iloc[866]"
   ]
  },
  {
   "cell_type": "code",
   "execution_count": 10,
   "metadata": {},
   "outputs": [
    {
     "data": {
      "text/plain": [
       "str"
      ]
     },
     "execution_count": 10,
     "metadata": {},
     "output_type": "execute_result"
    }
   ],
   "source": [
    "type('RunTime')"
   ]
  },
  {
   "cell_type": "code",
   "execution_count": 11,
   "metadata": {},
   "outputs": [
    {
     "data": {
      "text/plain": [
       "392     122 min\n",
       "956      43 min\n",
       "108      43 min\n",
       "1180          0\n",
       "329      43 min\n",
       "772      21 min\n",
       "1617     51 min\n",
       "Name: RunTime, dtype: object"
      ]
     },
     "execution_count": 11,
     "metadata": {},
     "output_type": "execute_result"
    }
   ],
   "source": [
    "df['RunTime'].sample(7)"
   ]
  },
  {
   "cell_type": "code",
   "execution_count": 12,
   "metadata": {},
   "outputs": [
    {
     "data": {
      "text/plain": [
       "430     45\n",
       "856     22\n",
       "818     24\n",
       "1027    22\n",
       "1284    42\n",
       "827     22\n",
       "441     82\n",
       "1031    42\n",
       "898     41\n",
       "Name: RunTime(Min), dtype: object"
      ]
     },
     "execution_count": 12,
     "metadata": {},
     "output_type": "execute_result"
    }
   ],
   "source": [
    "df['RunTime(Min)'] = df['RunTime'].str.split(expand=True)[0]\n",
    "df['RunTime(Min)'].sample(9)"
   ]
  },
  {
   "cell_type": "code",
   "execution_count": 13,
   "metadata": {},
   "outputs": [
    {
     "data": {
      "text/plain": [
       "339     (2013â2020)\n",
       "998     (2001â2003)\n",
       "901     (2001â2011)\n",
       "1292    (2014â2019)\n",
       "1392       (2016â )\n",
       "1455       (1992â )\n",
       "845     (2001â2004)\n",
       "943     (2001â2011)\n",
       "163     (2001â2004)\n",
       "288     (2013â2020)\n",
       "272     (2016â2018)\n",
       "1158    (2001â2011)\n",
       "31              -2013\n",
       "239               NaN\n",
       "1595    (2014â2019)\n",
       "1252       (2010â )\n",
       "984     (2001â2003)\n",
       "Name: Year, dtype: object"
      ]
     },
     "execution_count": 13,
     "metadata": {},
     "output_type": "execute_result"
    }
   ],
   "source": [
    "df['Year'].sample(17)"
   ]
  },
  {
   "cell_type": "code",
   "execution_count": 14,
   "metadata": {},
   "outputs": [
    {
     "name": "stdout",
     "output_type": "stream",
     "text": [
      "               Year StartYear      EndYear\n",
      "0             -2021       NaN          NaN\n",
      "1        (2021â )      2021  No End Year\n",
      "2             -2021       NaN          NaN\n",
      "3             -2021       NaN          NaN\n",
      "4             -2021       NaN          NaN\n",
      "...             ...       ...          ...\n",
      "1685     (2016â )      2016  No End Year\n",
      "1686  (2015â2021)      2015         2021\n",
      "1687  (2015â2021)      2015         2021\n",
      "1688  (2015â2021)      2015         2021\n",
      "1689  (2015â2021)      2015         2021\n",
      "\n",
      "[1690 rows x 3 columns]\n"
     ]
    }
   ],
   "source": [
    "# Extract starting and ending years using regex\n",
    "df[['StartYear', 'EndYear']] = df['Year'].str.extract(r'(\\d{4})[^\\d]*(\\d{4}| )')\n",
    "\n",
    "# Clean up EndYear to handle cases with ' ' (no ending year)\n",
    "df['EndYear'] = df['EndYear'].replace(' ', 'No End Year')\n",
    "\n",
    "# Display the updated DataFrame\n",
    "print(df[['Year', 'StartYear', 'EndYear']])"
   ]
  },
  {
   "cell_type": "code",
   "execution_count": 15,
   "metadata": {},
   "outputs": [
    {
     "data": {
      "text/html": [
       "<div>\n",
       "<style scoped>\n",
       "    .dataframe tbody tr th:only-of-type {\n",
       "        vertical-align: middle;\n",
       "    }\n",
       "\n",
       "    .dataframe tbody tr th {\n",
       "        vertical-align: top;\n",
       "    }\n",
       "\n",
       "    .dataframe thead th {\n",
       "        text-align: right;\n",
       "    }\n",
       "</style>\n",
       "<table border=\"1\" class=\"dataframe\">\n",
       "  <thead>\n",
       "    <tr style=\"text-align: right;\">\n",
       "      <th></th>\n",
       "      <th>Year</th>\n",
       "      <th>StartYear</th>\n",
       "      <th>EndYear</th>\n",
       "    </tr>\n",
       "  </thead>\n",
       "  <tbody>\n",
       "    <tr>\n",
       "      <th>1592</th>\n",
       "      <td>(2015â2018)</td>\n",
       "      <td>2015</td>\n",
       "      <td>2018</td>\n",
       "    </tr>\n",
       "    <tr>\n",
       "      <th>1381</th>\n",
       "      <td>(2014â2019)</td>\n",
       "      <td>2014</td>\n",
       "      <td>2019</td>\n",
       "    </tr>\n",
       "    <tr>\n",
       "      <th>1443</th>\n",
       "      <td>(2015â2021)</td>\n",
       "      <td>2015</td>\n",
       "      <td>2021</td>\n",
       "    </tr>\n",
       "    <tr>\n",
       "      <th>197</th>\n",
       "      <td>(2021â )</td>\n",
       "      <td>2021</td>\n",
       "      <td>No End Year</td>\n",
       "    </tr>\n",
       "    <tr>\n",
       "      <th>1489</th>\n",
       "      <td>(2010â )</td>\n",
       "      <td>2010</td>\n",
       "      <td>No End Year</td>\n",
       "    </tr>\n",
       "    <tr>\n",
       "      <th>1636</th>\n",
       "      <td>-2019</td>\n",
       "      <td>NaN</td>\n",
       "      <td>NaN</td>\n",
       "    </tr>\n",
       "    <tr>\n",
       "      <th>286</th>\n",
       "      <td>(2013â2020)</td>\n",
       "      <td>2013</td>\n",
       "      <td>2020</td>\n",
       "    </tr>\n",
       "    <tr>\n",
       "      <th>1316</th>\n",
       "      <td>(2014â2019)</td>\n",
       "      <td>2014</td>\n",
       "      <td>2019</td>\n",
       "    </tr>\n",
       "  </tbody>\n",
       "</table>\n",
       "</div>"
      ],
      "text/plain": [
       "               Year StartYear      EndYear\n",
       "1592  (2015â2018)      2015         2018\n",
       "1381  (2014â2019)      2014         2019\n",
       "1443  (2015â2021)      2015         2021\n",
       "197      (2021â )      2021  No End Year\n",
       "1489     (2010â )      2010  No End Year\n",
       "1636          -2019       NaN          NaN\n",
       "286   (2013â2020)      2013         2020\n",
       "1316  (2014â2019)      2014         2019"
      ]
     },
     "execution_count": 15,
     "metadata": {},
     "output_type": "execute_result"
    }
   ],
   "source": [
    "df[['Year', 'StartYear', 'EndYear']].sample(8)\n"
   ]
  },
  {
   "cell_type": "code",
   "execution_count": 16,
   "metadata": {},
   "outputs": [
    {
     "data": {
      "text/plain": [
       "Index(['ID', 'Movie', 'Year', 'Genre', 'RunTime', 'Description', 'IMDB_Score',\n",
       "       'RunTime(Min)', 'StartYear', 'EndYear'],\n",
       "      dtype='object')"
      ]
     },
     "execution_count": 16,
     "metadata": {},
     "output_type": "execute_result"
    }
   ],
   "source": [
    "df.columns"
   ]
  },
  {
   "cell_type": "code",
   "execution_count": 17,
   "metadata": {},
   "outputs": [],
   "source": [
    "df.drop(columns={\"Year\",\"RunTime\", \"Description\"}, inplace=True)"
   ]
  },
  {
   "cell_type": "code",
   "execution_count": 18,
   "metadata": {},
   "outputs": [
    {
     "data": {
      "text/plain": [
       "0"
      ]
     },
     "execution_count": 18,
     "metadata": {},
     "output_type": "execute_result"
    }
   ],
   "source": [
    "df.duplicated().sum()"
   ]
  },
  {
   "cell_type": "code",
   "execution_count": 19,
   "metadata": {},
   "outputs": [
    {
     "data": {
      "text/plain": [
       "ID                0\n",
       "Movie             0\n",
       "Genre             7\n",
       "IMDB_Score        0\n",
       "RunTime(Min)      0\n",
       "StartYear       180\n",
       "EndYear         180\n",
       "dtype: int64"
      ]
     },
     "execution_count": 19,
     "metadata": {},
     "output_type": "execute_result"
    }
   ],
   "source": [
    "df.isnull().sum()"
   ]
  },
  {
   "cell_type": "markdown",
   "metadata": {},
   "source": [
    "# Analysis"
   ]
  },
  {
   "cell_type": "code",
   "execution_count": 20,
   "metadata": {},
   "outputs": [
    {
     "name": "stdout",
     "output_type": "stream",
     "text": [
      "<class 'pandas.core.frame.DataFrame'>\n",
      "RangeIndex: 1690 entries, 0 to 1689\n",
      "Data columns (total 7 columns):\n",
      " #   Column        Non-Null Count  Dtype  \n",
      "---  ------        --------------  -----  \n",
      " 0   ID            1690 non-null   int64  \n",
      " 1   Movie         1690 non-null   object \n",
      " 2   Genre         1683 non-null   object \n",
      " 3   IMDB_Score    1690 non-null   float64\n",
      " 4   RunTime(Min)  1690 non-null   object \n",
      " 5   StartYear     1510 non-null   object \n",
      " 6   EndYear       1510 non-null   object \n",
      "dtypes: float64(1), int64(1), object(5)\n",
      "memory usage: 92.6+ KB\n"
     ]
    }
   ],
   "source": [
    "df.info()"
   ]
  },
  {
   "cell_type": "code",
   "execution_count": 21,
   "metadata": {},
   "outputs": [
    {
     "data": {
      "text/plain": [
       "1278        Crime,Drama,Fantasy\n",
       "112      Action,Adventure,Drama\n",
       "176      Animation,Action,Drama\n",
       "200     Action,Adventure,Comedy\n",
       "201      Action,Adventure,Drama\n",
       "1521           Comedy,Talk-Show\n",
       "1437     Animation,Short,Action\n",
       "1441      Comedy,Fantasy,Sci-Fi\n",
       "Name: Genre, dtype: object"
      ]
     },
     "execution_count": 21,
     "metadata": {},
     "output_type": "execute_result"
    }
   ],
   "source": [
    "df['Genre'].sample(8)"
   ]
  },
  {
   "cell_type": "code",
   "execution_count": 22,
   "metadata": {},
   "outputs": [
    {
     "data": {
      "text/plain": [
       "array(['Eternals', 'Loki', 'The Falcon and the Winter Soldier',\n",
       "       'WandaVision', 'Spider-Man: No Way Home', 'Black Widow',\n",
       "       'Avengers: Endgame', 'Guardians of the Galaxy',\n",
       "       'Thor: Love and Thunder', 'Spider-Man: Far from Home',\n",
       "       'Thor: Ragnarok', 'Avengers: Infinity War', 'Black Panther',\n",
       "       'Captain Marvel', 'Shang-Chi and the Legend of the Ten Rings',\n",
       "       'Spider-Man: Homecoming', 'Avengers: Age of Ultron',\n",
       "       'Captain America: The First Avenger',\n",
       "       'Guardians of the Galaxy Vol. 2', 'Thor', 'Iron Man',\n",
       "       'Captain America: Civil War', 'The Avengers',\n",
       "       'Doctor Strange in the Multiverse of Madness', 'Brightburn',\n",
       "       'Doctor Strange', 'Ant-Man', 'Captain America: The Winter Soldier',\n",
       "       'Iron Man 3', 'What If...?', 'Black Panther: Wakanda Forever',\n",
       "       'Thor: The Dark World', 'Iron Man 2', 'Spider-Man 3',\n",
       "       'Ant-Man and the Wasp', 'The Incredible Hulk', 'Hawkeye',\n",
       "       'Guardians of the Galaxy Vol. 3', 'The Marvels', 'Moon Knight',\n",
       "       'Long Shot', 'Ralph Breaks the Internet',\n",
       "       'Fantastic 4: Rise of the Silver Surfer', 'Ms. Marvel',\n",
       "       'Fantastic Four', 'She-Hulk', 'Secret Invasion', 'Deadpool 3',\n",
       "       'Blade', 'Guardians of the Galaxy: Inferno', 'Ironheart',\n",
       "       'Armor Wars', 'Punisher: War Zone',\n",
       "       'Ant-Man and the Wasp: Quantumania', 'I Am Groot',\n",
       "       'Marvel Studios: Legends', 'Mutant X', 'Captain America 4',\n",
       "       'Marvel Studios: Assembled',\n",
       "       'The Guardians of the Galaxy Holiday Special', 'X-Men',\n",
       "       'Iron Man: Armored Adventures', 'Marvel One-Shot: Agent Carter',\n",
       "       'Team Thor', 'The Oscars', 'Hulk Vs.', 'Wolverine',\n",
       "       'Avengers: Damage Control', 'The Sinister Six',\n",
       "       'Ultimate Avengers: The Movie', 'Marvel One-Shot: Item 47',\n",
       "       'Marvel One-Shot: The Consultant', 'The Invincible Iron Man',\n",
       "       'Thor: Tales of Asgard', 'Echo',\n",
       "       'Iron Man and Captain America: Heroes United',\n",
       "       'Untitled Wakanda Project', 'Iron Man & Hulk: Heroes United',\n",
       "       'Lego Marvel Avengers: Climate Conundrum',\n",
       "       'Marvel Studios: Expanding the Universe',\n",
       "       'Marvel Studios: Assembling a Universe',\n",
       "       'Stuntwomen: The Untold Hollywood Story',\n",
       "       'Untitled Marvel Cinematic Universe Television Show',\n",
       "       'Spider-Man Venom Saga',\n",
       "       'Spider-Man: The Ultimate Villain Showdown',\n",
       "       '2016 MTV Movie Awards', 'Avengers S.T.A.T.I.O.N.',\n",
       "       'Marvel 75 Years: From Pulp to Pop!',\n",
       "       'Untitled Disney Marvel Film', 'Spider-Man: Maximum Venom',\n",
       "       'Prodigal', 'The Infinite Six', 'Iron Man 3: The Prologue',\n",
       "       'Captain America: Civil War Save a Hero Campaign',\n",
       "       'Jack Kirby: Story Teller',\n",
       "       \"19th Annual Critics' Choice Movie Awards\", 'X-Men: Evolution',\n",
       "       'WWE 24', 'The Talk', 'The Drew Barrymore Show', 'Jessica Jones',\n",
       "       'Luke Cage', 'Agents of S.H.I.E.L.D.', 'The Punisher',\n",
       "       'Entertainment Tonight Canada', 'Wonder Woman 1984',\n",
       "       'The Suicide Squad', 'The Batman', 'Joker', 'Arrow',\n",
       "       'The Dark Knight', 'Watchmen', 'Gotham', 'Smallville',\n",
       "       'Suicide Squad', 'The Dark Knight Rises', 'Doom Patrol', 'Aquaman',\n",
       "       'The Sandman', 'Man of Steel', 'Shazam!',\n",
       "       'Batman v Superman: Dawn of Justice', 'Catch Me If You Can',\n",
       "       'Batman Begins', 'V for Vendetta', 'Batman', 'I Am Legend',\n",
       "       'Batman: The Animated Series', 'The Flash', 'Batman & Robin',\n",
       "       'Constantine', 'Batman Forever', 'Superman',\n",
       "       'Justice Society: World War II', 'Young Justice', 'Green Lantern',\n",
       "       'Batman: The Long Halloween, Part One', 'Batman Returns',\n",
       "       'The Karate Kid', 'Supergirl', 'The Iron Giant',\n",
       "       'Superman Returns', 'Teen Titans', 'Clerks', 'Krypton',\n",
       "       'Daddy Day Care', 'Superman III', 'Justice League Unlimited',\n",
       "       'Superman II', 'Justice League', 'Catwoman',\n",
       "       'Justice League Part Two', 'Batman Beyond',\n",
       "       'Adventures of Superman', \"Trick 'r Treat\",\n",
       "       'Batman: Soul of the Dragon',\n",
       "       'Justice League: The Flashpoint Paradox', 'Agent Cody Banks',\n",
       "       'The New Batman Adventures', 'Superman: The Animated Series',\n",
       "       'Looney Tunes: Back in Action', 'Swamp Thing', 'Batman Ninja',\n",
       "       'Batman: Gotham Knight', 'Batman: Bad Blood', 'Fred Claus',\n",
       "       'Batman: Arkham Asylum', 'Justice League: War', 'Wonder Woman',\n",
       "       'Justice League vs. Teen Titans', 'Constantine: City of Demons',\n",
       "       'Batman Beyond: Return of the Joker', 'Green Lantern Corps',\n",
       "       'Gotham City Sirens', 'Deadshot', 'Batman vs. Robin',\n",
       "       'Superman: Doomsday', 'Justice League: Throne of Atlantis',\n",
       "       'Superman/Batman: Public Enemies', 'Tales of the Black Freighter',\n",
       "       'DC Showcase: Kamandi: The Last Boy on Earth!',\n",
       "       'Batman & Mr. Freeze: SubZero', 'Being Flynn',\n",
       "       'Krypto the Superdog', 'Deathstroke',\n",
       "       'Untitled Joker/Harley Quinn Project', 'The Batman vs. Dracula',\n",
       "       'Blankman', 'Batman: The Telltale Series', 'DC Super Hero Girls',\n",
       "       'Green Lantern: First Flight', 'Teen Titans: Trouble in Tokyo',\n",
       "       'Batman Beyond: The Movie', 'Zatanna', 'Freedom Fighters: The Ray',\n",
       "       'Lego Batman: The Movie - DC Super Heroes Unite',\n",
       "       'Mortal Kombat vs. DC Universe', 'The Zeta Project',\n",
       "       'JLA Adventures: Trapped in Time', 'Gotham Girls',\n",
       "       'Lego Batman: The Videogame', 'Under the Hood', 'Lobo',\n",
       "       'Too Funny to Fail: The Life & Death of The Dana Carvey Show',\n",
       "       'Justice League: Gods and Monsters Chronicles',\n",
       "       'The Super Powers Team: Galactic Guardians', 'Batman: Knightfall',\n",
       "       'LEGO DC Comics Super Heroes: Aquaman - Rage of Atlantis',\n",
       "       'Challenge of the Superfriends',\n",
       "       'The Plastic Man Comedy/Adventure Show',\n",
       "       'Smallville Season 3 Promo',\n",
       "       'SuperFriends: The Legendary Super Powers Show',\n",
       "       'The All-New Super Friends Hour',\n",
       "       'Robotech: The Shadow Chronicles', 'DC Fandome', 'Green Arrow',\n",
       "       'The Fire Rises: The Creation and Impact of the Dark Knight Trilogy',\n",
       "       'The Omen Legacy', \"The World's Greatest SuperFriends\",\n",
       "       'Necessary Evil: Super-Villains of DC Comics', 'Dark Justice',\n",
       "       'Frankenpimp', 'Superman 50th Anniversary', 'Winx Club',\n",
       "       'Metropolis', 'You Will Believe: The Cinematic Saga of Superman',\n",
       "       'Greatest Ever 80s Movies', '100 Bullets',\n",
       "       'The Science of Superman', 'Aquaman: Battle for Atlantis',\n",
       "       'The Devil You Know: Inside the Mind of Todd McFarlane',\n",
       "       'First Flight: The Fleischer Superman Series',\n",
       "       \"DC Nation's Farm League\", 'Supergirl: The Making of the Movie',\n",
       "       \"The Making of 'Superman III'\", 'Project 13',\n",
       "       'Shadows of the Bat: The Cinematic Saga of the Dark Knight - Dark Side of the Knight',\n",
       "       \"Taking Flight: The Development of 'Superman'\",\n",
       "       'Legends of the Dark Knight: The History of Batman',\n",
       "       \"Making 'Superman': Filming the Legend\",\n",
       "       'Batman Begins: Path to Discovery', 'Batman: The Journey Begins',\n",
       "       'The Mythology of Superman', 'Batman Returns Villains: Catwoman',\n",
       "       'Batman Heroes: Harvey Dent',\n",
       "       'The Worst Batman Fanfilm Ever... Period', 'Galaxian',\n",
       "       'Shadows of the Bat: The Cinematic Saga of the Dark Knight - The Legend Reborn',\n",
       "       'Batman Villains: Bob the Goon',\n",
       "       'Shadows of the Bat: The Cinematic Saga of the Dark Knight - The Gathering Storm',\n",
       "       'Shaping Mind and Body', \"The Making of 'Superman: The Movie'\",\n",
       "       'Saving Gotham City',\n",
       "       'From Rivals to Romance: The Making of Lois and Clark',\n",
       "       'Genesis of the Bat', 'The Magic Behind the Cape',\n",
       "       'Smallville: Justice and Doom', 'Frank Skinner on Muhammad Ali',\n",
       "       'Batman: The Tumbler', 'Batman Returns Villains: The Penguin',\n",
       "       'Beyond Batman: Bats, Mattes & Dark Nights - The Visual FX of Batman Returns',\n",
       "       'Beyond Batman: Sleek, Sexy and Sinister - The Costumes of Batman Returns',\n",
       "       'Cape and Cowl', 'Wonder Woman: The Ultimate Feminist Icon',\n",
       "       'The Complete Robin Storyboard Sequence',\n",
       "       'Justice League: Alien Invasion', 'Gotham City Rises',\n",
       "       'Shadows of the Bat: The Cinematic Saga of the Dark Knight - The Road to Gotham City',\n",
       "       'Beyond Batman: Inside the Elfman Studio - The Music of Batman Returns',\n",
       "       'Batman Returns Heroes: Alfred',\n",
       "       'DC Fandome - CNN Heroes: Real Life Heroes in the Age of Coronavirus',\n",
       "       'Batman Returns Villains: Max Shreck', 'Body and Soul',\n",
       "       'Beyond Batman: Making Up the Penguin',\n",
       "       \"The Making of 'Superman II'\", 'Batman Returns Heroes: Batman',\n",
       "       'Film Club', 'Beyond Batman: Assembling the Arctic Army',\n",
       "       'Revolutionizing a Classic: From Comic Book to Television - The Evolution of Wonder Woman from Page to Screen',\n",
       "       'Batman Heroes: Vicki Vale', \"Batman: Night's End\",\n",
       "       'Guarding the Balance: Batman and the JLA',\n",
       "       'Beyond Batman: Gotham City Revisited - The Production Design of Batman Returns',\n",
       "       'Shadows of the Bat: The Cinematic Saga of the Dark Knight - Batman Unbound',\n",
       "       'Shadows of the Bat: The Cinematic Saga of the Dark Knight - Reinventing a Hero',\n",
       "       'The Death and Return of Superman',\n",
       "       'Batman Heroes: Alexander Knox',\n",
       "       'Batman Heroes: Commissioner Gordon',\n",
       "       'Wonder Woman: A Subversive Dream', 'The Super Human In Us All',\n",
       "       'Superman II: Restoring the Vision',\n",
       "       'A Sneek Peak at Justice League: Doom',\n",
       "       'Superboy: Spies from Outer Space',\n",
       "       'Aquaman: War of the Water Worlds',\n",
       "       'Superman: The Mysterious Mr. Mist', 'Batman: Partners in Peril',\n",
       "       'Playstation Underground Volume 4', 'Duck Dodgers', 'Cine Chalom',\n",
       "       'Family Guy', '20 to 1', 'Batman: Black and White', 'Heroes',\n",
       "       'Human Target', 'Baggage Battles', 'Beware the Batman',\n",
       "       'Storage Wars', 'Legends of the Superheroes', 'Lucifer',\n",
       "       'Powerless', 'Sci-Fi Buzz', 'Gruen XL', \"DC's Legends of Tomorrow\",\n",
       "       'Black Lightning'], dtype=object)"
      ]
     },
     "execution_count": 22,
     "metadata": {},
     "output_type": "execute_result"
    }
   ],
   "source": [
    "df['Movie'].unique()"
   ]
  },
  {
   "cell_type": "markdown",
   "metadata": {},
   "source": [
    "### Find out the keywords and categories  "
   ]
  },
  {
   "cell_type": "code",
   "execution_count": 23,
   "metadata": {},
   "outputs": [],
   "source": [
    "marvel_most_frequent_keywords = [\n",
    "    \"Iron Man\", \"Tony Stark\", \"Captain America\", \"Steve Rogers\", \"Thor\", \"Hulk\", \n",
    "    \"Bruce Banner\", \"Spider-Man\", \"Peter Parker\", \"Black Widow\", \"Natasha Romanoff\", \n",
    "    \"Doctor Strange\", \"Stephen Strange\", \"Black Panther\", \"T'Challa\", \"Ant-Man\", \n",
    "    \"Scott Lang\", \"Captain Marvel\", \"Carol Danvers\", \"Hawkeye\", \"Clint Barton\", \n",
    "    \"Scarlet Witch\", \"Wanda Maximoff\", \"Vision\", \"Loki\", \"Thanos\", \"Nick Fury\", \n",
    "    \"Star-Lord\", \"Peter Quill\", \"Gamora\", \"Rocket Raccoon\", \"Groot\", \"Deadpool\", \n",
    "    \"Wolverine\", \"Logan\", \"Silver Surfer\", \"Daredevil\", \"Matt Murdock\", \"Winter Soldier\", \n",
    "    \"Bucky Barnes\", \"Avengers\", \"Hero\", \"Villain\", \"Superpower\", \"Infinity\", \"Asgard\", \n",
    "    \"Shield\", \"Superhero\", \"Power\", \"Universe\", \"Battle\", \"Origin\", \"War\", \"Quantum\", \n",
    "    \"Multiverse\", \"Technology\", \"Transformation\", \"Alliance\", \"Legacy\", \"Time\", \n",
    "    \"Space\", \"Justice\", \"Wakanda\", \"Stark\", \"Mutant\", \"S.H.I.E.L.D.\", \"Gem\", \"Crossover\", \n",
    "    \"Team\", \"God\", \"Cosmic\", \"Destiny\", \"Drax\", \"Jessica Jones\", \"Luke Cage\", \n",
    "    \"X-Men\", \"Fantastic Four\", \"Venom\", \"Ghost Rider\", \"The Punisher\", \"The Eternals\", \n",
    "    \"Blade\", \"Hank Pym\", \"Magneto\"\n",
    "]\n"
   ]
  },
  {
   "cell_type": "code",
   "execution_count": 24,
   "metadata": {},
   "outputs": [],
   "source": [
    "dc_most_frequent_keywords = [\n",
    "    \"Batman\", \"Superman\", \"Justice\", \"League\", \"Dark\", \"Knight\", \"Wonder Woman\", \n",
    "    \"Suicide Squad\", \"Man of Steel\", \"Gotham\", \"Green Lantern\", \"Flash\", \"Arrow\", \n",
    "    \"Titans\", \"Shazam\", \"Aquaman\", \"Joker\", \"Birds of Prey\", \"Vengeance\", \"Crisis\", \n",
    "    \"Return\", \"Rise\", \"Legends\", \"Hero\", \"Dawn\", \"Tomorrow\", \"Gods\", \"Power\", \n",
    "    \"World\", \"Origin\", \"Reign\", \"Son\", \"War\", \"Throne\", \"Watchmen\", \"Phantom\", \n",
    "    \"Enemy\", \"Universe\", \"Blood\", \"Redemption\", \"Doomsday\", \"Apocalypse\", \"End\", \n",
    "    \"Constantine\", \"Catwoman\", \"Jonah Hex\", \"Nightwing\", \"Robin\", \"Supergirl\", \n",
    "    \"Zatanna\", \"Swamp Thing\", \"Blue Beetle\", \"Black Adam\", \"Vixen\", \"Harley Quinn\", \n",
    "    \"Static Shock\", \"Hawkman\", \"Green Arrow\", \"Batgirl\", \"Superboy\", \"Darkseid\", \n",
    "    \"Deathstroke\", \"Lobo\", \"Spectre\", \"The Question\", \"Red Hood\", \"Lucifer\", \n",
    "    \"Steel\", \"Raven\", \"Huntress\", \"Booster Gold\", \"Mr. Terrific\", \"Black Canary\", \n",
    "    \"The Atom\", \"Martian Manhunter\", \"Dr. Fate\", \"Black Lightning\", \"Firestorm\", \n",
    "    \"Etrigan\", \"The Demon\", \"Orion\", \"Metamorpho\", \"Azrael\", \"Deadshot\", \n",
    "    \"Solomon Grundy\", \"Doctor Manhattan\"\n",
    "]\n"
   ]
  },
  {
   "cell_type": "code",
   "execution_count": 25,
   "metadata": {},
   "outputs": [
    {
     "data": {
      "text/html": [
       "<div>\n",
       "<style scoped>\n",
       "    .dataframe tbody tr th:only-of-type {\n",
       "        vertical-align: middle;\n",
       "    }\n",
       "\n",
       "    .dataframe tbody tr th {\n",
       "        vertical-align: top;\n",
       "    }\n",
       "\n",
       "    .dataframe thead th {\n",
       "        text-align: right;\n",
       "    }\n",
       "</style>\n",
       "<table border=\"1\" class=\"dataframe\">\n",
       "  <thead>\n",
       "    <tr style=\"text-align: right;\">\n",
       "      <th></th>\n",
       "      <th>ID</th>\n",
       "      <th>Movie</th>\n",
       "      <th>Genre</th>\n",
       "      <th>IMDB_Score</th>\n",
       "      <th>RunTime(Min)</th>\n",
       "      <th>StartYear</th>\n",
       "      <th>EndYear</th>\n",
       "      <th>dc/marvel</th>\n",
       "    </tr>\n",
       "  </thead>\n",
       "  <tbody>\n",
       "    <tr>\n",
       "      <th>1534</th>\n",
       "      <td>1534</td>\n",
       "      <td>DC Super Hero Girls</td>\n",
       "      <td>Animation,Short,Action</td>\n",
       "      <td>0.0</td>\n",
       "      <td>0</td>\n",
       "      <td>2015</td>\n",
       "      <td>2018</td>\n",
       "      <td>Marvel</td>\n",
       "    </tr>\n",
       "    <tr>\n",
       "      <th>1400</th>\n",
       "      <td>1400</td>\n",
       "      <td>Lucifer</td>\n",
       "      <td>Crime,Drama,Fantasy</td>\n",
       "      <td>9.1</td>\n",
       "      <td>43</td>\n",
       "      <td>2016</td>\n",
       "      <td>No End Year</td>\n",
       "      <td>DC</td>\n",
       "    </tr>\n",
       "    <tr>\n",
       "      <th>857</th>\n",
       "      <td>857</td>\n",
       "      <td>Justice League Unlimited</td>\n",
       "      <td>Animation,Action,Adventure</td>\n",
       "      <td>8.6</td>\n",
       "      <td>24</td>\n",
       "      <td>2004</td>\n",
       "      <td>2006</td>\n",
       "      <td>Marvel</td>\n",
       "    </tr>\n",
       "    <tr>\n",
       "      <th>617</th>\n",
       "      <td>617</td>\n",
       "      <td>Batman Beyond</td>\n",
       "      <td>Animation,Action,Adventure</td>\n",
       "      <td>6.5</td>\n",
       "      <td>22</td>\n",
       "      <td>1999</td>\n",
       "      <td>2001</td>\n",
       "      <td>DC</td>\n",
       "    </tr>\n",
       "    <tr>\n",
       "      <th>285</th>\n",
       "      <td>285</td>\n",
       "      <td>Agents of S.H.I.E.L.D.</td>\n",
       "      <td>Action,Adventure,Drama</td>\n",
       "      <td>8.1</td>\n",
       "      <td>43</td>\n",
       "      <td>2013</td>\n",
       "      <td>2020</td>\n",
       "      <td>Marvel</td>\n",
       "    </tr>\n",
       "    <tr>\n",
       "      <th>872</th>\n",
       "      <td>872</td>\n",
       "      <td>Justice League</td>\n",
       "      <td>Animation,Action,Adventure</td>\n",
       "      <td>7.3</td>\n",
       "      <td>22</td>\n",
       "      <td>2001</td>\n",
       "      <td>2004</td>\n",
       "      <td>Marvel</td>\n",
       "    </tr>\n",
       "    <tr>\n",
       "      <th>1478</th>\n",
       "      <td>1478</td>\n",
       "      <td>Young Justice</td>\n",
       "      <td>Animation,Action,Adventure</td>\n",
       "      <td>9.1</td>\n",
       "      <td>24</td>\n",
       "      <td>2010</td>\n",
       "      <td>No End Year</td>\n",
       "      <td>Marvel</td>\n",
       "    </tr>\n",
       "  </tbody>\n",
       "</table>\n",
       "</div>"
      ],
      "text/plain": [
       "        ID                     Movie                       Genre  IMDB_Score  \\\n",
       "1534  1534       DC Super Hero Girls      Animation,Short,Action         0.0   \n",
       "1400  1400                   Lucifer         Crime,Drama,Fantasy         9.1   \n",
       "857    857  Justice League Unlimited  Animation,Action,Adventure         8.6   \n",
       "617    617             Batman Beyond  Animation,Action,Adventure         6.5   \n",
       "285    285    Agents of S.H.I.E.L.D.      Action,Adventure,Drama         8.1   \n",
       "872    872            Justice League  Animation,Action,Adventure         7.3   \n",
       "1478  1478             Young Justice  Animation,Action,Adventure         9.1   \n",
       "\n",
       "     RunTime(Min) StartYear      EndYear dc/marvel  \n",
       "1534            0      2015         2018    Marvel  \n",
       "1400           43      2016  No End Year        DC  \n",
       "857            24      2004         2006    Marvel  \n",
       "617            22      1999         2001        DC  \n",
       "285            43      2013         2020    Marvel  \n",
       "872            22      2001         2004    Marvel  \n",
       "1478           24      2010  No End Year    Marvel  "
      ]
     },
     "execution_count": 25,
     "metadata": {},
     "output_type": "execute_result"
    }
   ],
   "source": [
    "def dc_or_Marvel (title):\n",
    "    for keyword in marvel_most_frequent_keywords:\n",
    "        if keyword in title:\n",
    "            return 'Marvel'\n",
    "    for keyword in dc_most_frequent_keywords:\n",
    "        if keyword in title:\n",
    "            return 'DC'\n",
    "    return 'Unknown'   \n",
    "df['dc/marvel'] =df['Movie'].apply(dc_or_Marvel)\n",
    "df.sample(7)"
   ]
  },
  {
   "cell_type": "code",
   "execution_count": 26,
   "metadata": {},
   "outputs": [
    {
     "data": {
      "text/plain": [
       "593     Unknown\n",
       "1350         DC\n",
       "702          DC\n",
       "1512         DC\n",
       "1033         DC\n",
       "998     Unknown\n",
       "1414     Marvel\n",
       "Name: dc/marvel, dtype: object"
      ]
     },
     "execution_count": 26,
     "metadata": {},
     "output_type": "execute_result"
    }
   ],
   "source": [
    "df['dc/marvel'].sample(7)"
   ]
  },
  {
   "cell_type": "markdown",
   "metadata": {},
   "source": [
    "##  Filter the Dataset based on score and unknown values  "
   ]
  },
  {
   "cell_type": "code",
   "execution_count": 27,
   "metadata": {},
   "outputs": [],
   "source": [
    "df = df[(df['IMDB_Score'] != 0) & (df['dc/marvel'] != 'Unknown')]"
   ]
  },
  {
   "cell_type": "code",
   "execution_count": 28,
   "metadata": {},
   "outputs": [
    {
     "data": {
      "text/html": [
       "<div>\n",
       "<style scoped>\n",
       "    .dataframe tbody tr th:only-of-type {\n",
       "        vertical-align: middle;\n",
       "    }\n",
       "\n",
       "    .dataframe tbody tr th {\n",
       "        vertical-align: top;\n",
       "    }\n",
       "\n",
       "    .dataframe thead th {\n",
       "        text-align: right;\n",
       "    }\n",
       "</style>\n",
       "<table border=\"1\" class=\"dataframe\">\n",
       "  <thead>\n",
       "    <tr style=\"text-align: right;\">\n",
       "      <th></th>\n",
       "      <th>ID</th>\n",
       "      <th>Movie</th>\n",
       "      <th>Genre</th>\n",
       "      <th>IMDB_Score</th>\n",
       "      <th>RunTime(Min)</th>\n",
       "      <th>StartYear</th>\n",
       "      <th>EndYear</th>\n",
       "      <th>dc/marvel</th>\n",
       "    </tr>\n",
       "  </thead>\n",
       "  <tbody>\n",
       "    <tr>\n",
       "      <th>1407</th>\n",
       "      <td>1407</td>\n",
       "      <td>DC Super Hero Girls</td>\n",
       "      <td>Animation,Short,Action</td>\n",
       "      <td>6.6</td>\n",
       "      <td>0</td>\n",
       "      <td>2015</td>\n",
       "      <td>2018</td>\n",
       "      <td>Marvel</td>\n",
       "    </tr>\n",
       "    <tr>\n",
       "      <th>1011</th>\n",
       "      <td>1011</td>\n",
       "      <td>The Batman</td>\n",
       "      <td>Animation,Action,Adventure</td>\n",
       "      <td>7.4</td>\n",
       "      <td>22</td>\n",
       "      <td>2004</td>\n",
       "      <td>2008</td>\n",
       "      <td>DC</td>\n",
       "    </tr>\n",
       "    <tr>\n",
       "      <th>775</th>\n",
       "      <td>775</td>\n",
       "      <td>The New Batman Adventures</td>\n",
       "      <td>Animation,Action,Adventure</td>\n",
       "      <td>8.2</td>\n",
       "      <td>22</td>\n",
       "      <td>1997</td>\n",
       "      <td>1999</td>\n",
       "      <td>DC</td>\n",
       "    </tr>\n",
       "    <tr>\n",
       "      <th>86</th>\n",
       "      <td>86</td>\n",
       "      <td>Iron Man &amp; Hulk: Heroes United</td>\n",
       "      <td>Animation,Action,Adventure</td>\n",
       "      <td>4.7</td>\n",
       "      <td>71</td>\n",
       "      <td>2013</td>\n",
       "      <td>No End Year</td>\n",
       "      <td>Marvel</td>\n",
       "    </tr>\n",
       "    <tr>\n",
       "      <th>467</th>\n",
       "      <td>467</td>\n",
       "      <td>Batman Begins</td>\n",
       "      <td>Action,Adventure,Crime</td>\n",
       "      <td>8.2</td>\n",
       "      <td>0</td>\n",
       "      <td>2005</td>\n",
       "      <td>No End Year</td>\n",
       "      <td>DC</td>\n",
       "    </tr>\n",
       "    <tr>\n",
       "      <th>1658</th>\n",
       "      <td>1658</td>\n",
       "      <td>Supergirl</td>\n",
       "      <td>Action,Adventure,Drama</td>\n",
       "      <td>6.9</td>\n",
       "      <td>42</td>\n",
       "      <td>2015</td>\n",
       "      <td>2021</td>\n",
       "      <td>DC</td>\n",
       "    </tr>\n",
       "    <tr>\n",
       "      <th>1253</th>\n",
       "      <td>1253</td>\n",
       "      <td>Young Justice</td>\n",
       "      <td>Animation,Action,Adventure</td>\n",
       "      <td>8.5</td>\n",
       "      <td>22</td>\n",
       "      <td>2010</td>\n",
       "      <td>No End Year</td>\n",
       "      <td>Marvel</td>\n",
       "    </tr>\n",
       "  </tbody>\n",
       "</table>\n",
       "</div>"
      ],
      "text/plain": [
       "        ID                           Movie                       Genre  \\\n",
       "1407  1407             DC Super Hero Girls      Animation,Short,Action   \n",
       "1011  1011                      The Batman  Animation,Action,Adventure   \n",
       "775    775       The New Batman Adventures  Animation,Action,Adventure   \n",
       "86      86  Iron Man & Hulk: Heroes United  Animation,Action,Adventure   \n",
       "467    467                   Batman Begins      Action,Adventure,Crime   \n",
       "1658  1658                       Supergirl      Action,Adventure,Drama   \n",
       "1253  1253                   Young Justice  Animation,Action,Adventure   \n",
       "\n",
       "      IMDB_Score RunTime(Min) StartYear      EndYear dc/marvel  \n",
       "1407         6.6            0      2015         2018    Marvel  \n",
       "1011         7.4           22      2004         2008        DC  \n",
       "775          8.2           22      1997         1999        DC  \n",
       "86           4.7           71      2013  No End Year    Marvel  \n",
       "467          8.2            0      2005  No End Year        DC  \n",
       "1658         6.9           42      2015         2021        DC  \n",
       "1253         8.5           22      2010  No End Year    Marvel  "
      ]
     },
     "execution_count": 28,
     "metadata": {},
     "output_type": "execute_result"
    }
   ],
   "source": [
    "df.sample(7)"
   ]
  },
  {
   "cell_type": "code",
   "execution_count": 29,
   "metadata": {},
   "outputs": [
    {
     "data": {
      "text/plain": [
       "(1160, 8)"
      ]
     },
     "execution_count": 29,
     "metadata": {},
     "output_type": "execute_result"
    }
   ],
   "source": [
    "df.shape"
   ]
  },
  {
   "cell_type": "markdown",
   "metadata": {},
   "source": [
    "## Number of Movies"
   ]
  },
  {
   "cell_type": "code",
   "execution_count": 30,
   "metadata": {},
   "outputs": [
    {
     "data": {
      "image/png": "[encoded data removed]",
      "text/plain": [
       "<Figure size 640x480 with 1 Axes>"
      ]
     },
     "metadata": {},
     "output_type": "display_data"
    }
   ],
   "source": [
    "dc_marvel_count = df[df['dc/marvel'].isin(['DC', 'Marvel'])].groupby('dc/marvel')['ID'].count()\n",
    "\n",
    "dc_marvel_count.plot(\n",
    "    kind='bar')\n",
    "\n",
    "\n",
    "plt.title('Number of Movies', fontsize=16)\n",
    "plt.ylabel('Number of unique Movies', fontsize=12)\n",
    "plt.xticks(rotation=0)\n",
    "plt.show()"
   ]
  },
  {
   "cell_type": "markdown",
   "metadata": {},
   "source": [
    "## IBDM  Ratings"
   ]
  },
  {
   "cell_type": "code",
   "execution_count": 31,
   "metadata": {},
   "outputs": [
    {
     "data": {
      "image/png": "[encoded data removed]",
      "text/plain": [
       "<Figure size 500x500 with 1 Axes>"
      ]
     },
     "metadata": {},
     "output_type": "display_data"
    }
   ],
   "source": [
    "sns.catplot(\n",
    "    data=df,\n",
    "    kind='bar',\n",
    "    x=df['dc/marvel'],\n",
    "    y=df['IMDB_Score'],\n",
    "    palette={'DC': 'orange', 'Marvel': 'blue'},\n",
    "    \n",
    ")\n",
    "\n",
    "plt.title('IBDM Ratings')\n",
    "plt.show()"
   ]
  },
  {
   "cell_type": "markdown",
   "metadata": {},
   "source": [
    "## Number of Movies Produced by DC and Marvel Each Year"
   ]
  },
  {
   "cell_type": "code",
   "execution_count": 32,
   "metadata": {},
   "outputs": [
    {
     "data": {
      "text/html": [
       "<div>\n",
       "<style scoped>\n",
       "    .dataframe tbody tr th:only-of-type {\n",
       "        vertical-align: middle;\n",
       "    }\n",
       "\n",
       "    .dataframe tbody tr th {\n",
       "        vertical-align: top;\n",
       "    }\n",
       "\n",
       "    .dataframe thead th {\n",
       "        text-align: right;\n",
       "    }\n",
       "</style>\n",
       "<table border=\"1\" class=\"dataframe\">\n",
       "  <thead>\n",
       "    <tr style=\"text-align: right;\">\n",
       "      <th></th>\n",
       "      <th>Year</th>\n",
       "      <th>DC_MovieCount</th>\n",
       "      <th>Marvel_MovieCount</th>\n",
       "    </tr>\n",
       "  </thead>\n",
       "  <tbody>\n",
       "    <tr>\n",
       "      <th>0</th>\n",
       "      <td>1952</td>\n",
       "      <td>1.0</td>\n",
       "      <td>0.0</td>\n",
       "    </tr>\n",
       "    <tr>\n",
       "      <th>1</th>\n",
       "      <td>1979</td>\n",
       "      <td>1.0</td>\n",
       "      <td>0.0</td>\n",
       "    </tr>\n",
       "    <tr>\n",
       "      <th>2</th>\n",
       "      <td>1980</td>\n",
       "      <td>1.0</td>\n",
       "      <td>0.0</td>\n",
       "    </tr>\n",
       "    <tr>\n",
       "      <th>3</th>\n",
       "      <td>1982</td>\n",
       "      <td>1.0</td>\n",
       "      <td>0.0</td>\n",
       "    </tr>\n",
       "    <tr>\n",
       "      <th>4</th>\n",
       "      <td>1984</td>\n",
       "      <td>1.0</td>\n",
       "      <td>0.0</td>\n",
       "    </tr>\n",
       "    <tr>\n",
       "      <th>5</th>\n",
       "      <td>1985</td>\n",
       "      <td>1.0</td>\n",
       "      <td>1.0</td>\n",
       "    </tr>\n",
       "    <tr>\n",
       "      <th>6</th>\n",
       "      <td>1987</td>\n",
       "      <td>1.0</td>\n",
       "      <td>0.0</td>\n",
       "    </tr>\n",
       "    <tr>\n",
       "      <th>7</th>\n",
       "      <td>1988</td>\n",
       "      <td>1.0</td>\n",
       "      <td>0.0</td>\n",
       "    </tr>\n",
       "    <tr>\n",
       "      <th>8</th>\n",
       "      <td>1990</td>\n",
       "      <td>1.0</td>\n",
       "      <td>0.0</td>\n",
       "    </tr>\n",
       "    <tr>\n",
       "      <th>9</th>\n",
       "      <td>1991</td>\n",
       "      <td>1.0</td>\n",
       "      <td>0.0</td>\n",
       "    </tr>\n",
       "    <tr>\n",
       "      <th>10</th>\n",
       "      <td>1992</td>\n",
       "      <td>86.0</td>\n",
       "      <td>0.0</td>\n",
       "    </tr>\n",
       "    <tr>\n",
       "      <th>11</th>\n",
       "      <td>1994</td>\n",
       "      <td>1.0</td>\n",
       "      <td>0.0</td>\n",
       "    </tr>\n",
       "    <tr>\n",
       "      <th>12</th>\n",
       "      <td>1996</td>\n",
       "      <td>6.0</td>\n",
       "      <td>1.0</td>\n",
       "    </tr>\n",
       "    <tr>\n",
       "      <th>13</th>\n",
       "      <td>1997</td>\n",
       "      <td>25.0</td>\n",
       "      <td>0.0</td>\n",
       "    </tr>\n",
       "    <tr>\n",
       "      <th>14</th>\n",
       "      <td>1998</td>\n",
       "      <td>1.0</td>\n",
       "      <td>0.0</td>\n",
       "    </tr>\n",
       "    <tr>\n",
       "      <th>15</th>\n",
       "      <td>1999</td>\n",
       "      <td>54.0</td>\n",
       "      <td>0.0</td>\n",
       "    </tr>\n",
       "    <tr>\n",
       "      <th>16</th>\n",
       "      <td>2000</td>\n",
       "      <td>33.0</td>\n",
       "      <td>4.0</td>\n",
       "    </tr>\n",
       "    <tr>\n",
       "      <th>17</th>\n",
       "      <td>2001</td>\n",
       "      <td>2.0</td>\n",
       "      <td>121.0</td>\n",
       "    </tr>\n",
       "    <tr>\n",
       "      <th>18</th>\n",
       "      <td>2002</td>\n",
       "      <td>0.0</td>\n",
       "      <td>1.0</td>\n",
       "    </tr>\n",
       "    <tr>\n",
       "      <th>19</th>\n",
       "      <td>2003</td>\n",
       "      <td>12.0</td>\n",
       "      <td>1.0</td>\n",
       "    </tr>\n",
       "    <tr>\n",
       "      <th>20</th>\n",
       "      <td>2004</td>\n",
       "      <td>52.0</td>\n",
       "      <td>40.0</td>\n",
       "    </tr>\n",
       "    <tr>\n",
       "      <th>21</th>\n",
       "      <td>2005</td>\n",
       "      <td>23.0</td>\n",
       "      <td>11.0</td>\n",
       "    </tr>\n",
       "    <tr>\n",
       "      <th>22</th>\n",
       "      <td>2006</td>\n",
       "      <td>6.0</td>\n",
       "      <td>4.0</td>\n",
       "    </tr>\n",
       "    <tr>\n",
       "      <th>23</th>\n",
       "      <td>2007</td>\n",
       "      <td>1.0</td>\n",
       "      <td>2.0</td>\n",
       "    </tr>\n",
       "    <tr>\n",
       "      <th>24</th>\n",
       "      <td>2008</td>\n",
       "      <td>22.0</td>\n",
       "      <td>3.0</td>\n",
       "    </tr>\n",
       "    <tr>\n",
       "      <th>25</th>\n",
       "      <td>2009</td>\n",
       "      <td>5.0</td>\n",
       "      <td>1.0</td>\n",
       "    </tr>\n",
       "    <tr>\n",
       "      <th>26</th>\n",
       "      <td>2010</td>\n",
       "      <td>0.0</td>\n",
       "      <td>76.0</td>\n",
       "    </tr>\n",
       "    <tr>\n",
       "      <th>27</th>\n",
       "      <td>2011</td>\n",
       "      <td>0.0</td>\n",
       "      <td>3.0</td>\n",
       "    </tr>\n",
       "    <tr>\n",
       "      <th>28</th>\n",
       "      <td>2012</td>\n",
       "      <td>14.0</td>\n",
       "      <td>1.0</td>\n",
       "    </tr>\n",
       "    <tr>\n",
       "      <th>29</th>\n",
       "      <td>2013</td>\n",
       "      <td>2.0</td>\n",
       "      <td>95.0</td>\n",
       "    </tr>\n",
       "    <tr>\n",
       "      <th>30</th>\n",
       "      <td>2014</td>\n",
       "      <td>131.0</td>\n",
       "      <td>5.0</td>\n",
       "    </tr>\n",
       "    <tr>\n",
       "      <th>31</th>\n",
       "      <td>2015</td>\n",
       "      <td>87.0</td>\n",
       "      <td>22.0</td>\n",
       "    </tr>\n",
       "    <tr>\n",
       "      <th>32</th>\n",
       "      <td>2016</td>\n",
       "      <td>45.0</td>\n",
       "      <td>16.0</td>\n",
       "    </tr>\n",
       "    <tr>\n",
       "      <th>33</th>\n",
       "      <td>2017</td>\n",
       "      <td>4.0</td>\n",
       "      <td>13.0</td>\n",
       "    </tr>\n",
       "    <tr>\n",
       "      <th>34</th>\n",
       "      <td>2018</td>\n",
       "      <td>6.0</td>\n",
       "      <td>1.0</td>\n",
       "    </tr>\n",
       "    <tr>\n",
       "      <th>35</th>\n",
       "      <td>2019</td>\n",
       "      <td>0.0</td>\n",
       "      <td>1.0</td>\n",
       "    </tr>\n",
       "    <tr>\n",
       "      <th>36</th>\n",
       "      <td>2020</td>\n",
       "      <td>0.0</td>\n",
       "      <td>1.0</td>\n",
       "    </tr>\n",
       "    <tr>\n",
       "      <th>37</th>\n",
       "      <td>2021</td>\n",
       "      <td>7.0</td>\n",
       "      <td>0.0</td>\n",
       "    </tr>\n",
       "  </tbody>\n",
       "</table>\n",
       "</div>"
      ],
      "text/plain": [
       "    Year  DC_MovieCount  Marvel_MovieCount\n",
       "0   1952            1.0                0.0\n",
       "1   1979            1.0                0.0\n",
       "2   1980            1.0                0.0\n",
       "3   1982            1.0                0.0\n",
       "4   1984            1.0                0.0\n",
       "5   1985            1.0                1.0\n",
       "6   1987            1.0                0.0\n",
       "7   1988            1.0                0.0\n",
       "8   1990            1.0                0.0\n",
       "9   1991            1.0                0.0\n",
       "10  1992           86.0                0.0\n",
       "11  1994            1.0                0.0\n",
       "12  1996            6.0                1.0\n",
       "13  1997           25.0                0.0\n",
       "14  1998            1.0                0.0\n",
       "15  1999           54.0                0.0\n",
       "16  2000           33.0                4.0\n",
       "17  2001            2.0              121.0\n",
       "18  2002            0.0                1.0\n",
       "19  2003           12.0                1.0\n",
       "20  2004           52.0               40.0\n",
       "21  2005           23.0               11.0\n",
       "22  2006            6.0                4.0\n",
       "23  2007            1.0                2.0\n",
       "24  2008           22.0                3.0\n",
       "25  2009            5.0                1.0\n",
       "26  2010            0.0               76.0\n",
       "27  2011            0.0                3.0\n",
       "28  2012           14.0                1.0\n",
       "29  2013            2.0               95.0\n",
       "30  2014          131.0                5.0\n",
       "31  2015           87.0               22.0\n",
       "32  2016           45.0               16.0\n",
       "33  2017            4.0               13.0\n",
       "34  2018            6.0                1.0\n",
       "35  2019            0.0                1.0\n",
       "36  2020            0.0                1.0\n",
       "37  2021            7.0                0.0"
      ]
     },
     "execution_count": 32,
     "metadata": {},
     "output_type": "execute_result"
    }
   ],
   "source": [
    "# Group by year for both DC and Marvel\n",
    "dc_movie_count = df[df['dc/marvel'] == 'DC'].groupby('StartYear')['ID'].count().reset_index()\n",
    "dc_movie_count.columns = ['Year', 'DC_MovieCount']\n",
    "\n",
    "marvel_movie_count = df[df['dc/marvel'] == 'Marvel'].groupby('StartYear')['ID'].count().reset_index()\n",
    "marvel_movie_count.columns = ['Year', 'Marvel_MovieCount']\n",
    "\n",
    "# Merge the two DataFrames\n",
    "movie_count_per_year = pd.merge(dc_movie_count, marvel_movie_count, on='Year', how='outer').fillna(0)\n",
    "movie_count_per_year"
   ]
  },
  {
   "cell_type": "code",
   "execution_count": 33,
   "metadata": {},
   "outputs": [
    {
     "data": {
      "image/png": "[encoded data removed]",
      "text/plain": [
       "<Figure size 1200x600 with 1 Axes>"
      ]
     },
     "metadata": {},
     "output_type": "display_data"
    }
   ],
   "source": [
    "# Plotting stacked bar graph\n",
    "plt.figure(figsize=(12, 6))\n",
    "\n",
    "# Create a stacked bar plot\n",
    "plt.bar(movie_count_per_year['Year'], movie_count_per_year['DC_MovieCount'], \n",
    "        color='blue', label='DC')\n",
    "plt.bar(movie_count_per_year['Year'], movie_count_per_year['Marvel_MovieCount'], \n",
    "        bottom=movie_count_per_year['DC_MovieCount'], \n",
    "        color='orange', label='Marvel')\n",
    "\n",
    "plt.title('Number of Movies Produced by DC and Marvel Each Year')\n",
    "plt.xlabel('Year')\n",
    "plt.ylabel('Number of Movies')\n",
    "plt.xticks(rotation=90)\n",
    "plt.legend()\n",
    "plt.grid(axis='y', linestyle='--', alpha=0.7)\n",
    "plt.tight_layout()  \n",
    "plt.show()\n"
   ]
  },
  {
   "cell_type": "markdown",
   "metadata": {},
   "source": [
    "## Genre"
   ]
  },
  {
   "cell_type": "code",
   "execution_count": 34,
   "metadata": {},
   "outputs": [
    {
     "data": {
      "application/vnd.plotly.v1+json": {
       "config": {
        "plotlyServerURL": "https://plot.ly"
       },
       "data": [
        {
         "branchvalues": "total",
         "customdata": [
          [
           6,
           6
          ],
          [
           6,
           6
          ],
          [
           7.7,
           7.7
          ],
          [
           7.7,
           7.7
          ],
          [
           7.7,
           7.7
          ],
          [
           8.6,
           8.6
          ],
          [
           8.6,
           8.6
          ],
          [
           8.6,
           8.6
          ],
          [
           7.3,
           7.3
          ],
          [
           7.3,
           7.3
          ],
          [
           7.3,
           7.3
          ],
          [
           7,
           7
          ],
          [
           7,
           7
          ],
          [
           7,
           7
          ],
          [
           6.9,
           6.9
          ],
          [
           6.9,
           6.9
          ],
          [
           6.9,
           6.9
          ],
          [
           3.5,
           3.5
          ],
          [
           3.5,
           3.5
          ],
          [
           3.5,
           3.5
          ],
          [
           7.8,
           7.8
          ],
          [
           7.8,
           7.8
          ],
          [
           7.8,
           7.8
          ],
          [
           7.5,
           7.5
          ],
          [
           7.5,
           7.5
          ],
          [
           7.5,
           7.5
          ],
          [
           7.4,
           7.4
          ],
          [
           7.3,
           7.3
          ],
          [
           7.3,
           7.3
          ],
          [
           7.3,
           7.3
          ],
          [
           6.6,
           6.6
          ],
          [
           8.4,
           8.4
          ],
          [
           8.4,
           8.4
          ],
          [
           8.4,
           8.4
          ],
          [
           8.4,
           8.4
          ],
          [
           8.4,
           8.4
          ],
          [
           8.4,
           8.4
          ],
          [
           7.4,
           7.4
          ],
          [
           7.5,
           7.5
          ],
          [
           7.5,
           7.5
          ],
          [
           7.2,
           7.2
          ],
          [
           7.2,
           7.2
          ],
          [
           7.2,
           7.2
          ],
          [
           3.8,
           3.8
          ],
          [
           3.8,
           3.8
          ],
          [
           8.2,
           8.2
          ],
          [
           8.2,
           8.2
          ],
          [
           7.2,
           7.2
          ],
          [
           7.2,
           7.2
          ],
          [
           8.1,
           8.1
          ],
          [
           8.1,
           8.1
          ],
          [
           8.1,
           8.1
          ],
          [
           7.8,
           7.8
          ],
          [
           7.8,
           7.8
          ],
          [
           7.8,
           7.8
          ],
          [
           7.8,
           7.8
          ],
          [
           7.8,
           7.8
          ],
          [
           7.8,
           7.8
          ],
          [
           5.4,
           5.4
          ],
          [
           5.4,
           5.4
          ],
          [
           6.2,
           6.2
          ],
          [
           6.2,
           6.2
          ],
          [
           6,
           6
          ],
          [
           6,
           6
          ],
          [
           6.1,
           6.1
          ],
          [
           6.1,
           6.1
          ],
          [
           7,
           7
          ],
          [
           7,
           7
          ],
          [
           5.6,
           5.6
          ],
          [
           5.6,
           5.6
          ],
          [
           5.6,
           5.6
          ],
          [
           7,
           7
          ],
          [
           7,
           7
          ],
          [
           7,
           7
          ],
          [
           6.8,
           6.8
          ],
          [
           6.8,
           6.8
          ],
          [
           6.5,
           6.5
          ],
          [
           6.5,
           6.5
          ],
          [
           6.6,
           6.6
          ],
          [
           6.6,
           6.6
          ],
          [
           6.2,
           6.2
          ],
          [
           6.2,
           6.2
          ],
          [
           6.2,
           6.2
          ],
          [
           6.2,
           6.2
          ],
          [
           7.3,
           7.3
          ],
          [
           7.3,
           7.3
          ],
          [
           6.4,
           6.4
          ],
          [
           6.4,
           6.4
          ],
          [
           6.4,
           6.4
          ],
          [
           7.1,
           7.1
          ],
          [
           7.1,
           7.1
          ],
          [
           7.1,
           7.1
          ],
          [
           9.2,
           9.2
          ],
          [
           9.2,
           9.2
          ],
          [
           9.2,
           9.2
          ],
          [
           6.8,
           6.8
          ],
          [
           6.8,
           6.8
          ],
          [
           6.8,
           6.8
          ],
          [
           7,
           7
          ],
          [
           7,
           7
          ],
          [
           7,
           7
          ],
          [
           6.7,
           6.7
          ],
          [
           6.7,
           6.7
          ],
          [
           6.7,
           6.7
          ],
          [
           7.4,
           7.4
          ],
          [
           6.1,
           6.1
          ],
          [
           6.1,
           6.1
          ],
          [
           6.1,
           6.1
          ],
          [
           9,
           9
          ],
          [
           9,
           9
          ],
          [
           9,
           9
          ],
          [
           7.7,
           7.7
          ],
          [
           7.7,
           7.7
          ],
          [
           8.1,
           8.1
          ],
          [
           8.1,
           8.1
          ],
          [
           8.1,
           8.1
          ],
          [
           7.4,
           7.4
          ],
          [
           7.4,
           7.4
          ],
          [
           8.1,
           8.1
          ],
          [
           8.1,
           8.1
          ],
          [
           8.1,
           8.1
          ],
          [
           6.9,
           6.9
          ],
          [
           6.9,
           6.9
          ],
          [
           7.3,
           7.3
          ],
          [
           7.3,
           7.3
          ],
          [
           6.8,
           6.8
          ],
          [
           6.8,
           6.8
          ],
          [
           6.8,
           6.8
          ],
          [
           6.8,
           6.8
          ],
          [
           6.8,
           6.8
          ],
          [
           6.8,
           6.8
          ],
          [
           6.8,
           6.8
          ],
          [
           6.9,
           6.9
          ],
          [
           6.9,
           6.9
          ],
          [
           6.4,
           6.4
          ],
          [
           6.4,
           6.4
          ],
          [
           6.4,
           6.4
          ],
          [
           7.3,
           7.3
          ],
          [
           7.3,
           7.3
          ],
          [
           7.3,
           7.3
          ],
          [
           6.5,
           6.5
          ],
          [
           6.5,
           6.5
          ],
          [
           6.5,
           6.5
          ],
          [
           7.8,
           7.8
          ],
          [
           7.8,
           7.8
          ],
          [
           7.8,
           7.8
          ],
          [
           6,
           6
          ],
          [
           6.9,
           6.9
          ],
          [
           6.9,
           6.9
          ],
          [
           6.9,
           6.9
          ],
          [
           7.7,
           7.7
          ],
          [
           7.7,
           7.7
          ],
          [
           7.7,
           7.7
          ],
          [
           6.9,
           6.9
          ],
          [
           6.9,
           6.9
          ],
          [
           6.9,
           6.9
          ],
          [
           3.4,
           3.4
          ],
          [
           3.4,
           3.4
          ],
          [
           3.4,
           3.4
          ],
          [
           7,
           7
          ],
          [
           7,
           7
          ],
          [
           7,
           7
          ],
          [
           7.6,
           7.6
          ],
          [
           7.6,
           7.6
          ],
          [
           7.6,
           7.6
          ],
          [
           6.3,
           6.3
          ],
          [
           6.3,
           6.3
          ],
          [
           6.3,
           6.3
          ],
          [
           6,
           6
          ],
          [
           6,
           6
          ],
          [
           6,
           6
          ],
          [
           8,
           8
          ],
          [
           8,
           8
          ],
          [
           8,
           8
          ],
          [
           5.9,
           5.9
          ],
          [
           5.9,
           5.9
          ],
          [
           7.5,
           7.5
          ],
          [
           7.5,
           7.5
          ],
          [
           7.5,
           7.5
          ],
          [
           5.6,
           5.6
          ],
          [
           5.6,
           5.6
          ],
          [
           5.6,
           5.6
          ],
          [
           7,
           7
          ],
          [
           7,
           7
          ],
          [
           7.8,
           7.8
          ],
          [
           7.8,
           7.8
          ],
          [
           7.8,
           7.8
          ],
          [
           7.3,
           7.3
          ],
          [
           7.3,
           7.3
          ],
          [
           7.4,
           7.4
          ],
          [
           7.4,
           7.4
          ],
          [
           7.4,
           7.4
          ],
          [
           7.7,
           7.7
          ],
          [
           7.7,
           7.7
          ],
          [
           5.5,
           5.5
          ],
          [
           5.5,
           5.5
          ],
          [
           5.5,
           5.5
          ],
          [
           7.1,
           7.1
          ],
          [
           7.1,
           7.1
          ],
          [
           7.1,
           7.1
          ],
          [
           6.4,
           6.4
          ],
          [
           7,
           7
          ],
          [
           7,
           7
          ],
          [
           7,
           7
          ],
          [
           7,
           7
          ],
          [
           7,
           7
          ],
          [
           7,
           7
          ],
          [
           7.9,
           7.9
          ],
          [
           7.9,
           7.9
          ],
          [
           7.9,
           7.9
          ],
          [
           4.7,
           4.7
          ],
          [
           4.7,
           4.7
          ],
          [
           4.7,
           4.7
          ],
          [
           7,
           7
          ],
          [
           7,
           7
          ],
          [
           7,
           7
          ],
          [
           7.1,
           7.1
          ],
          [
           7.1,
           7.1
          ],
          [
           7.1,
           7.1
          ],
          [
           6.2,
           6.2
          ],
          [
           6.2,
           6.2
          ],
          [
           5.5,
           5.5
          ],
          [
           5.5,
           5.5
          ],
          [
           5.5,
           5.5
          ],
          [
           6.5,
           6.5
          ],
          [
           6.5,
           6.5
          ],
          [
           6.5,
           6.5
          ],
          [
           5.8,
           5.8
          ],
          [
           5.8,
           5.8
          ],
          [
           5.8,
           5.8
          ],
          [
           8,
           8
          ],
          [
           8,
           8
          ],
          [
           8,
           8
          ],
          [
           8.4,
           8.4
          ],
          [
           8.4,
           8.4
          ],
          [
           8.4,
           8.4
          ],
          [
           8.5,
           8.5
          ],
          [
           8.5,
           8.5
          ],
          [
           8.5,
           8.5
          ],
          [
           8.7,
           8.7
          ],
          [
           8.7,
           8.7
          ],
          [
           8.7,
           8.7
          ],
          [
           7,
           7
          ],
          [
           7,
           7
          ],
          [
           7,
           7
          ],
          [
           8.1,
           8.1
          ],
          [
           8.1,
           8.1
          ],
          [
           8.1,
           8.1
          ],
          [
           7.7,
           7.7
          ],
          [
           7.7,
           7.7
          ],
          [
           7.7,
           7.7
          ],
          [
           8.1,
           8.1
          ],
          [
           8.1,
           8.1
          ],
          [
           8.1,
           8.1
          ],
          [
           6.7,
           6.7
          ],
          [
           6.7,
           6.7
          ],
          [
           6.7,
           6.7
          ],
          [
           7.2,
           7.2
          ],
          [
           7.2,
           7.2
          ],
          [
           7.2,
           7.2
          ],
          [
           6.4,
           6.4
          ],
          [
           6.4,
           6.4
          ],
          [
           6.4,
           6.4
          ],
          [
           5.7,
           5.7
          ],
          [
           5.7,
           5.7
          ],
          [
           5.7,
           5.7
          ],
          [
           7.9,
           7.9
          ],
          [
           7.9,
           7.9
          ],
          [
           6.1,
           6.1
          ],
          [
           6.1,
           6.1
          ],
          [
           6.1,
           6.1
          ],
          [
           6.5,
           6.5
          ],
          [
           6.5,
           6.5
          ],
          [
           6.5,
           6.5
          ],
          [
           7.9,
           7.9
          ],
          [
           7.9,
           7.9
          ],
          [
           7.9,
           7.9
          ],
          [
           7.3,
           7.3
          ],
          [
           6.8,
           6.8
          ],
          [
           6.8,
           6.8
          ],
          [
           6.8,
           6.8
          ],
          [
           8.8,
           8.8
          ],
          [
           8.8,
           8.8
          ],
          [
           8.8,
           8.8
          ],
          [
           7.7,
           7.7
          ],
          [
           7.7,
           7.7
          ],
          [
           7.7,
           7.7
          ],
          [
           7.5,
           7.5
          ],
          [
           7.5,
           7.5
          ],
          [
           7,
           7
          ],
          [
           7,
           7
          ],
          [
           7,
           7
          ],
          [
           7.4,
           7.4
          ],
          [
           7.4,
           7.4
          ],
          [
           6.8,
           6.8
          ],
          [
           6.8,
           6.8
          ],
          [
           6.5,
           6.5
          ],
          [
           6.5,
           6.5
          ],
          [
           6.5,
           6.5
          ],
          [
           6.8,
           6.8
          ],
          [
           6.8,
           6.8
          ],
          [
           6.8,
           6.8
          ],
          [
           5.9,
           5.9
          ],
          [
           5.9,
           5.9
          ],
          [
           5.9,
           5.9
          ],
          [
           6.8,
           6.8
          ],
          [
           7,
           7
          ],
          [
           7,
           7
          ],
          [
           7,
           7
          ],
          [
           5.9,
           5.9
          ],
          [
           5.9,
           5.9
          ],
          [
           5.9,
           5.9
          ],
          [
           7.8,
           7.8
          ],
          [
           7.8,
           7.8
          ],
          [
           7.1,
           7.1
          ],
          [
           7.1,
           7.1
          ],
          [
           5.9,
           5.9
          ],
          [
           5.9,
           5.9
          ],
          [
           7.3,
           7.3
          ],
          [
           7.3,
           7.3
          ],
          [
           6.6,
           6.6
          ],
          [
           6.6,
           6.6
          ],
          [
           7.4,
           7.4
          ],
          [
           7.4,
           7.4
          ],
          [
           7.6,
           7.6
          ],
          [
           7.6,
           7.6
          ],
          [
           7.5,
           7.5
          ],
          [
           7.5,
           7.5
          ],
          [
           7,
           7
          ],
          [
           7,
           7
          ],
          [
           7,
           7
          ],
          [
           6.5,
           6.5
          ],
          [
           6.5,
           6.5
          ],
          [
           6.2,
           6.2
          ],
          [
           6.2,
           6.2
          ],
          [
           6.2,
           6.2
          ],
          [
           7.7,
           7.7
          ],
          [
           7.5,
           7.5
          ],
          [
           7.5,
           7.5
          ],
          [
           7.5,
           7.5
          ],
          [
           7.4,
           7.4
          ],
          [
           7.4,
           7.4
          ],
          [
           7.4,
           7.4
          ],
          [
           7,
           7
          ],
          [
           7,
           7
          ],
          [
           7,
           7
          ],
          [
           6.9,
           6.9
          ],
          [
           5.9,
           5.9
          ],
          [
           5.9,
           5.9
          ],
          [
           5.9,
           5.9
          ],
          [
           7.4,
           7.4
          ],
          [
           7.4,
           7.4
          ],
          [
           4.4,
           4.4
          ],
          [
           4.4,
           4.4
          ],
          [
           4.4,
           4.4
          ],
          [
           5.5,
           5.5
          ],
          [
           7.3,
           7.3
          ],
          [
           7.3,
           7.3
          ],
          [
           7.3,
           7.3
          ],
          [
           5.7,
           5.7
          ],
          [
           5.7,
           5.7
          ],
          [
           6.8,
           6.8
          ],
          [
           6.8,
           6.8
          ],
          [
           6.8,
           6.8
          ],
          [
           7.9,
           7.9
          ],
          [
           7.9,
           7.9
          ],
          [
           5,
           5
          ],
          [
           5,
           5
          ],
          [
           5,
           5
          ],
          [
           6,
           6
          ],
          [
           6,
           6
          ],
          [
           7.2,
           7.2
          ],
          [
           7.2,
           7.2
          ],
          [
           7.2,
           7.2
          ],
          [
           7,
           7
          ],
          [
           7,
           7
          ],
          [
           7,
           7
          ],
          [
           8.1,
           8.1
          ],
          [
           8.1,
           8.1
          ],
          [
           8.1,
           8.1
          ],
          [
           5.4,
           5.4
          ],
          [
           5.4,
           5.4
          ],
          [
           7.3,
           7.3
          ],
          [
           7.3,
           7.3
          ],
          [
           8.1,
           8.1
          ],
          [
           8.1,
           8.1
          ],
          [
           8.1,
           8.1
          ],
          [
           7.9,
           7.9
          ],
          [
           7.9,
           7.9
          ],
          [
           7.9,
           7.9
          ],
          [
           7.1,
           7.1
          ],
          [
           7.1,
           7.1
          ],
          [
           7.1,
           7.1
          ],
          [
           8,
           8
          ],
          [
           8,
           8
          ],
          [
           8,
           8
          ],
          [
           7.3,
           7.3
          ],
          [
           7.3,
           7.3
          ],
          [
           7.3,
           7.3
          ],
          [
           6.6,
           6.6
          ],
          [
           6.6,
           6.6
          ],
          [
           6.6,
           6.6
          ],
          [
           7,
           7
          ],
          [
           7,
           7
          ],
          [
           7,
           7
          ],
          [
           9,
           9
          ],
          [
           9,
           9
          ],
          [
           9,
           9
          ],
          [
           8.4,
           8.4
          ],
          [
           8.4,
           8.4
          ],
          [
           7.3,
           7.3
          ],
          [
           7.3,
           7.3
          ],
          [
           7.3,
           7.3
          ],
          [
           7.5,
           7.5
          ],
          [
           7.5,
           7.5
          ],
          [
           7.5,
           7.5
          ],
          [
           8.1,
           8.1
          ],
          [
           8.3,
           8.3
          ],
          [
           8.3,
           8.3
          ],
          [
           8.3,
           8.3
          ],
          [
           6.7,
           6.7
          ],
          [
           6.7,
           6.7
          ],
          [
           6.7,
           6.7
          ],
          [
           5.9,
           5.9
          ],
          [
           5.9,
           5.9
          ],
          [
           5.9,
           5.9
          ],
          [
           7,
           7
          ],
          [
           6.1,
           6.1
          ],
          [
           7.3,
           7.3
          ],
          [
           7.3,
           7.3
          ],
          [
           7.3,
           7.3
          ],
          [
           8.5,
           8.5
          ],
          [
           8.5,
           8.5
          ],
          [
           8.5,
           8.5
          ],
          [
           6.7,
           6.7
          ],
          [
           8.6,
           8.6
          ],
          [
           8.6,
           8.6
          ],
          [
           8.6,
           8.6
          ],
          [
           7,
           7
          ],
          [
           7.6,
           7.6
          ],
          [
           7.6,
           7.6
          ],
          [
           7.6,
           7.6
          ],
          [
           7.5,
           7.5
          ],
          [
           7.5,
           7.5
          ],
          [
           7.3,
           7.3
          ],
          [
           7.3,
           7.3
          ],
          [
           7.3,
           7.3
          ],
          [
           7,
           7
          ],
          [
           7,
           7
          ],
          [
           7,
           7
          ],
          [
           7.9,
           7.9
          ],
          [
           7.9,
           7.9
          ],
          [
           7.9,
           7.9
          ],
          [
           6.3,
           6.3
          ],
          [
           6.3,
           6.3
          ],
          [
           6.3,
           6.3
          ],
          [
           6.9,
           6.9
          ],
          [
           6.9,
           6.9
          ],
          [
           6.9,
           6.9
          ],
          [
           6.7,
           6.7
          ],
          [
           6.7,
           6.7
          ],
          [
           6.7,
           6.7
          ],
          [
           8.1,
           8.1
          ],
          [
           8.1,
           8.1
          ],
          [
           8.1,
           8.1
          ],
          [
           7.6,
           7.6
          ],
          [
           7.6,
           7.6
          ],
          [
           7.6,
           7.6
          ],
          [
           6.4,
           6.4
          ],
          [
           6.4,
           6.4
          ],
          [
           6.4,
           6.4
          ],
          [
           7.3,
           7.3
          ],
          [
           7.3,
           7.3
          ],
          [
           7.3,
           7.3
          ],
          [
           5.4,
           5.4
          ],
          [
           5.4,
           5.4
          ],
          [
           5.4,
           5.4
          ],
          [
           7.1,
           7.1
          ],
          [
           7.1,
           7.1
          ],
          [
           7.7,
           7.7
          ],
          [
           6.9,
           6.9
          ],
          [
           6.9,
           6.9
          ],
          [
           6.9,
           6.9
          ],
          [
           7.5,
           7.5
          ],
          [
           7.5,
           7.5
          ],
          [
           7.5,
           7.5
          ],
          [
           7.9,
           7.9
          ],
          [
           8.6,
           8.6
          ],
          [
           8.6,
           8.6
          ],
          [
           8.6,
           8.6
          ],
          [
           7.048214285714286,
           7.048214285714286
          ],
          [
           6.979687500000001,
           6.979687500000001
          ],
          [
           7.211111111111112,
           7.211111111111112
          ],
          [
           7.0392156862745106,
           7.0392156862745106
          ],
          [
           7.300000000000001,
           7.300000000000001
          ],
          [
           6.876666666666666,
           6.876666666666666
          ],
          [
           6.4799999999999995,
           6.4799999999999995
          ],
          [
           7.357142857142857,
           7.357142857142857
          ],
          [
           7.533333333333333,
           7.533333333333333
          ],
          [
           7.550000000000001,
           7.550000000000001
          ],
          [
           7.109677419354841,
           7.109677419354841
          ],
          [
           6.652941176470589,
           6.652941176470589
          ],
          [
           7.8,
           7.8
          ],
          [
           7.563636363636363,
           7.563636363636363
          ],
          [
           7.8,
           7.8
          ],
          [
           6.4923076923076914,
           6.4923076923076914
          ],
          [
           6.8,
           6.8
          ],
          [
           7.4,
           7.4
          ],
          [
           6.333333333333333,
           6.333333333333333
          ],
          [
           6.5,
           6.5
          ],
          [
           6.8,
           6.8
          ],
          [
           7.6,
           7.6
          ],
          [
           7.15,
           7.15
          ],
          [
           6.376923076923077,
           6.376923076923077
          ],
          [
           7.150000000000001,
           7.150000000000001
          ],
          [
           7.200000000000001,
           7.200000000000001
          ],
          [
           6.676190476190476,
           6.676190476190476
          ],
          [
           8.4,
           8.4
          ],
          [
           7.113061224489795,
           7.113061224489795
          ],
          [
           6.990204081632653,
           6.990204081632653
          ]
         ],
         "domain": {
          "x": [
           0,
           1
          ],
          "y": [
           0,
           1
          ]
         },
         "hovertemplate": "labels=%{label}<br>count=%{value}<br>parent=%{parent}<br>id=%{id}<br>IMDB_Score=%{color}<extra></extra>",
         "ids": [
          "Marvel/Documentary/A Sneek Peak at Justice League: Doom",
          "Marvel/Short/A Sneek Peak at Justice League: Doom",
          "DC/Action/Adventures of Superman",
          "DC/Adventure/Adventures of Superman",
          "DC/Crime/Adventures of Superman",
          "Marvel/Action/Agents of S.H.I.E.L.D.",
          "Marvel/Adventure/Agents of S.H.I.E.L.D.",
          "Marvel/Drama/Agents of S.H.I.E.L.D.",
          "Marvel/Action/Ant-Man",
          "Marvel/Adventure/Ant-Man",
          "Marvel/Comedy/Ant-Man",
          "Marvel/Action/Ant-Man and the Wasp",
          "Marvel/Adventure/Ant-Man and the Wasp",
          "Marvel/Comedy/Ant-Man and the Wasp",
          "DC/Action/Aquaman",
          "DC/Adventure/Aquaman",
          "DC/Fantasy/Aquaman",
          "Marvel/Action/Aquaman: Battle for Atlantis",
          "Marvel/Adventure/Aquaman: Battle for Atlantis",
          "Marvel/Fantasy/Aquaman: Battle for Atlantis",
          "Marvel/Adventure/Aquaman: War of the Water Worlds",
          "Marvel/Family/Aquaman: War of the Water Worlds",
          "Marvel/Fantasy/Aquaman: War of the Water Worlds",
          "DC/Action/Arrow",
          "DC/Adventure/Arrow",
          "DC/Crime/Arrow",
          "Marvel/Sci-Fi/Avengers S.T.A.T.I.O.N.",
          "Marvel/Action/Avengers: Age of Ultron",
          "Marvel/Adventure/Avengers: Age of Ultron",
          "Marvel/Sci-Fi/Avengers: Age of Ultron",
          "Marvel/Action/Avengers: Damage Control",
          "Marvel/Action/Avengers: Endgame",
          "Marvel/Adventure/Avengers: Endgame",
          "Marvel/Drama/Avengers: Endgame",
          "Marvel/Action/Avengers: Infinity War",
          "Marvel/Adventure/Avengers: Infinity War",
          "Marvel/Sci-Fi/Avengers: Infinity War",
          "Marvel/Reality-TV/Baggage Battles",
          "DC/Action/Batman",
          "DC/Adventure/Batman",
          "DC/Action/Batman & Mr. Freeze: SubZero",
          "DC/Animation/Batman & Mr. Freeze: SubZero",
          "DC/Crime/Batman & Mr. Freeze: SubZero",
          "DC/Action/Batman & Robin",
          "DC/Sci-Fi/Batman & Robin",
          "DC/Action/Batman Begins",
          "DC/Adventure/Batman Begins",
          "DC/Documentary/Batman Begins: Path to Discovery",
          "DC/Short/Batman Begins: Path to Discovery",
          "DC/Action/Batman Beyond",
          "DC/Adventure/Batman Beyond",
          "DC/Animation/Batman Beyond",
          "DC/Action/Batman Beyond: Return of the Joker",
          "DC/Animation/Batman Beyond: Return of the Joker",
          "DC/Crime/Batman Beyond: Return of the Joker",
          "DC/Action/Batman Beyond: The Movie",
          "DC/Animation/Batman Beyond: The Movie",
          "DC/Sci-Fi/Batman Beyond: The Movie",
          "DC/Action/Batman Forever",
          "DC/Adventure/Batman Forever",
          "Marvel/Documentary/Batman Heroes: Alexander Knox",
          "Marvel/Short/Batman Heroes: Alexander Knox",
          "Marvel/Documentary/Batman Heroes: Commissioner Gordon",
          "Marvel/Short/Batman Heroes: Commissioner Gordon",
          "Marvel/Documentary/Batman Heroes: Harvey Dent",
          "Marvel/Short/Batman Heroes: Harvey Dent",
          "Marvel/Documentary/Batman Heroes: Vicki Vale",
          "Marvel/Short/Batman Heroes: Vicki Vale",
          "DC/Action/Batman Ninja",
          "DC/Animation/Batman Ninja",
          "DC/Sci-Fi/Batman Ninja",
          "DC/Action/Batman Returns",
          "DC/Crime/Batman Returns",
          "DC/Fantasy/Batman Returns",
          "Marvel/Documentary/Batman Returns Heroes: Alfred",
          "Marvel/Short/Batman Returns Heroes: Alfred",
          "Marvel/Documentary/Batman Returns Heroes: Batman",
          "Marvel/Short/Batman Returns Heroes: Batman",
          "Marvel/Documentary/Batman Returns Villains: Catwoman",
          "Marvel/Short/Batman Returns Villains: Catwoman",
          "Marvel/Documentary/Batman Returns Villains: Max Shreck",
          "Marvel/Short/Batman Returns Villains: Max Shreck",
          "Marvel/Documentary/Batman Returns Villains: The Penguin",
          "Marvel/Short/Batman Returns Villains: The Penguin",
          "Marvel/Documentary/Batman Villains: Bob the Goon",
          "Marvel/Short/Batman Villains: Bob the Goon",
          "Marvel/Action/Batman v Superman: Dawn of Justice",
          "Marvel/Adventure/Batman v Superman: Dawn of Justice",
          "Marvel/Sci-Fi/Batman v Superman: Dawn of Justice",
          "DC/Action/Batman vs. Robin",
          "DC/Adventure/Batman vs. Robin",
          "DC/Animation/Batman vs. Robin",
          "DC/Action/Batman: Arkham Asylum",
          "DC/Adventure/Batman: Arkham Asylum",
          "DC/Crime/Batman: Arkham Asylum",
          "DC/Action/Batman: Bad Blood",
          "DC/Adventure/Batman: Bad Blood",
          "DC/Animation/Batman: Bad Blood",
          "DC/Animation/Batman: Black and White",
          "DC/Crime/Batman: Black and White",
          "DC/Drama/Batman: Black and White",
          "DC/Action/Batman: Gotham Knight",
          "DC/Animation/Batman: Gotham Knight",
          "DC/Crime/Batman: Gotham Knight",
          "DC/Short/Batman: Night's End",
          "DC/Action/Batman: Soul of the Dragon",
          "DC/Adventure/Batman: Soul of the Dragon",
          "DC/Animation/Batman: Soul of the Dragon",
          "DC/Action/Batman: The Animated Series",
          "DC/Adventure/Batman: The Animated Series",
          "DC/Animation/Batman: The Animated Series",
          "DC/Documentary/Batman: The Journey Begins",
          "DC/Short/Batman: The Journey Begins",
          "DC/Action/Batman: The Telltale Series",
          "DC/Crime/Batman: The Telltale Series",
          "DC/Sci-Fi/Batman: The Telltale Series",
          "DC/Documentary/Batman: The Tumbler",
          "DC/Short/Batman: The Tumbler",
          "DC/Action/Beware the Batman",
          "DC/Adventure/Beware the Batman",
          "DC/Animation/Beware the Batman",
          "DC/Documentary/Beyond Batman: Assembling the Arctic Army",
          "DC/Short/Beyond Batman: Assembling the Arctic Army",
          "DC/Documentary/Beyond Batman: Bats, Mattes & Dark Nights - The Visual FX of Batman Returns",
          "DC/Short/Beyond Batman: Bats, Mattes & Dark Nights - The Visual FX of Batman Returns",
          "DC/Documentary/Beyond Batman: Gotham City Revisited - The Production Design of Batman Returns",
          "DC/Short/Beyond Batman: Gotham City Revisited - The Production Design of Batman Returns",
          "DC/Documentary/Beyond Batman: Inside the Elfman Studio - The Music of Batman Returns",
          "DC/Music/Beyond Batman: Inside the Elfman Studio - The Music of Batman Returns",
          "DC/Short/Beyond Batman: Inside the Elfman Studio - The Music of Batman Returns",
          "DC/Documentary/Beyond Batman: Making Up the Penguin",
          "DC/Short/Beyond Batman: Making Up the Penguin",
          "DC/Documentary/Beyond Batman: Sleek, Sexy and Sinister - The Costumes of Batman Returns",
          "DC/Short/Beyond Batman: Sleek, Sexy and Sinister - The Costumes of Batman Returns",
          "DC/Action/Black Lightning",
          "DC/Drama/Black Lightning",
          "DC/Sci-Fi/Black Lightning",
          "Marvel/Action/Black Panther",
          "Marvel/Adventure/Black Panther",
          "Marvel/Sci-Fi/Black Panther",
          "Marvel/Action/Blade",
          "Marvel/Animation/Blade",
          "Marvel/Horror/Blade",
          "Marvel/Action/Captain America: Civil War",
          "Marvel/Adventure/Captain America: Civil War",
          "Marvel/Sci-Fi/Captain America: Civil War",
          "Marvel/Short/Captain America: Civil War Save a Hero Campaign",
          "Marvel/Action/Captain America: The First Avenger",
          "Marvel/Adventure/Captain America: The First Avenger",
          "Marvel/Sci-Fi/Captain America: The First Avenger",
          "Marvel/Action/Captain America: The Winter Soldier",
          "Marvel/Adventure/Captain America: The Winter Soldier",
          "Marvel/Sci-Fi/Captain America: The Winter Soldier",
          "Marvel/Action/Captain Marvel",
          "Marvel/Adventure/Captain Marvel",
          "Marvel/Sci-Fi/Captain Marvel",
          "DC/Action/Catwoman",
          "DC/Crime/Catwoman",
          "DC/Fantasy/Catwoman",
          "DC/Action/Constantine",
          "DC/Fantasy/Constantine",
          "DC/Horror/Constantine",
          "DC/Animation/Constantine: City of Demons",
          "DC/Fantasy/Constantine: City of Demons",
          "DC/Short/Constantine: City of Demons",
          "DC/Animation/DC Nation's Farm League",
          "DC/Fantasy/DC Nation's Farm League",
          "DC/Sci-Fi/DC Nation's Farm League",
          "Marvel/Action/DC Super Hero Girls",
          "Marvel/Animation/DC Super Hero Girls",
          "Marvel/Short/DC Super Hero Girls",
          "DC/Action/DC's Legends of Tomorrow",
          "DC/Adventure/DC's Legends of Tomorrow",
          "DC/Drama/DC's Legends of Tomorrow",
          "Marvel/Action/Dark Justice",
          "Marvel/Short/Dark Justice",
          "Marvel/Action/Doctor Strange",
          "Marvel/Adventure/Doctor Strange",
          "Marvel/Fantasy/Doctor Strange",
          "Marvel/Action/Fantastic 4: Rise of the Silver Surfer",
          "Marvel/Adventure/Fantastic 4: Rise of the Silver Surfer",
          "Marvel/Fantasy/Fantastic 4: Rise of the Silver Surfer",
          "DC/Documentary/First Flight: The Fleischer Superman Series",
          "DC/Short/First Flight: The Fleischer Superman Series",
          "DC/Action/Gotham",
          "DC/Crime/Gotham",
          "DC/Drama/Gotham",
          "DC/Documentary/Gotham City Rises",
          "DC/Short/Gotham City Rises",
          "DC/Animation/Gotham Girls",
          "DC/Comedy/Gotham Girls",
          "DC/Crime/Gotham Girls",
          "DC/Animation/Green Arrow",
          "DC/Sci-Fi/Green Arrow",
          "DC/Action/Green Lantern",
          "DC/Adventure/Green Lantern",
          "DC/Sci-Fi/Green Lantern",
          "DC/Action/Green Lantern: First Flight",
          "DC/Adventure/Green Lantern: First Flight",
          "DC/Animation/Green Lantern: First Flight",
          "DC/Short/Guarding the Balance: Batman and the JLA",
          "Marvel/Drama/Heroes",
          "Marvel/Fantasy/Heroes",
          "Marvel/Sci-Fi/Heroes",
          "Marvel/Action/Hulk Vs.",
          "Marvel/Adventure/Hulk Vs.",
          "Marvel/Animation/Hulk Vs.",
          "Marvel/Action/Iron Man",
          "Marvel/Adventure/Iron Man",
          "Marvel/Sci-Fi/Iron Man",
          "Marvel/Action/Iron Man & Hulk: Heroes United",
          "Marvel/Adventure/Iron Man & Hulk: Heroes United",
          "Marvel/Animation/Iron Man & Hulk: Heroes United",
          "Marvel/Action/Iron Man 2",
          "Marvel/Adventure/Iron Man 2",
          "Marvel/Sci-Fi/Iron Man 2",
          "Marvel/Action/Iron Man 3",
          "Marvel/Adventure/Iron Man 3",
          "Marvel/Sci-Fi/Iron Man 3",
          "Marvel/Action/Iron Man 3: The Prologue",
          "Marvel/Short/Iron Man 3: The Prologue",
          "Marvel/Action/Iron Man and Captain America: Heroes United",
          "Marvel/Adventure/Iron Man and Captain America: Heroes United",
          "Marvel/Animation/Iron Man and Captain America: Heroes United",
          "Marvel/Action/Iron Man: Armored Adventures",
          "Marvel/Adventure/Iron Man: Armored Adventures",
          "Marvel/Animation/Iron Man: Armored Adventures",
          "Marvel/Action/JLA Adventures: Trapped in Time",
          "Marvel/Animation/JLA Adventures: Trapped in Time",
          "Marvel/Sci-Fi/JLA Adventures: Trapped in Time",
          "Marvel/Action/Jessica Jones",
          "Marvel/Crime/Jessica Jones",
          "Marvel/Drama/Jessica Jones",
          "DC/Crime/Joker",
          "DC/Drama/Joker",
          "DC/Thriller/Joker",
          "Marvel/Action/Justice League",
          "Marvel/Adventure/Justice League",
          "Marvel/Animation/Justice League",
          "Marvel/Action/Justice League Unlimited",
          "Marvel/Adventure/Justice League Unlimited",
          "Marvel/Animation/Justice League Unlimited",
          "Marvel/Action/Justice League vs. Teen Titans",
          "Marvel/Adventure/Justice League vs. Teen Titans",
          "Marvel/Animation/Justice League vs. Teen Titans",
          "Marvel/Adventure/Justice League: Alien Invasion",
          "Marvel/Sci-Fi/Justice League: Alien Invasion",
          "Marvel/Short/Justice League: Alien Invasion",
          "Marvel/Action/Justice League: Gods and Monsters Chronicles",
          "Marvel/Animation/Justice League: Gods and Monsters Chronicles",
          "Marvel/Short/Justice League: Gods and Monsters Chronicles",
          "Marvel/Action/Justice League: The Flashpoint Paradox",
          "Marvel/Adventure/Justice League: The Flashpoint Paradox",
          "Marvel/Animation/Justice League: The Flashpoint Paradox",
          "Marvel/Action/Justice League: Throne of Atlantis",
          "Marvel/Adventure/Justice League: Throne of Atlantis",
          "Marvel/Animation/Justice League: Throne of Atlantis",
          "Marvel/Action/Justice League: War",
          "Marvel/Adventure/Justice League: War",
          "Marvel/Animation/Justice League: War",
          "Marvel/Action/Justice Society: World War II",
          "Marvel/Adventure/Justice Society: World War II",
          "Marvel/Animation/Justice Society: World War II",
          "Marvel/Action/LEGO DC Comics Super Heroes: Aquaman - Rage of Atlantis",
          "Marvel/Adventure/LEGO DC Comics Super Heroes: Aquaman - Rage of Atlantis",
          "Marvel/Animation/LEGO DC Comics Super Heroes: Aquaman - Rage of Atlantis",
          "DC/Documentary/Legends of the Dark Knight: The History of Batman",
          "DC/Short/Legends of the Dark Knight: The History of Batman",
          "Marvel/Action/Legends of the Superheroes",
          "Marvel/Adventure/Legends of the Superheroes",
          "Marvel/Comedy/Legends of the Superheroes",
          "Marvel/Action/Lego Batman: The Movie - DC Super Heroes Unite",
          "Marvel/Adventure/Lego Batman: The Movie - DC Super Heroes Unite",
          "Marvel/Animation/Lego Batman: The Movie - DC Super Heroes Unite",
          "DC/Action/Lego Batman: The Videogame",
          "DC/Adventure/Lego Batman: The Videogame",
          "DC/Fantasy/Lego Batman: The Videogame",
          "Marvel/Animation/Lego Marvel Avengers: Climate Conundrum",
          "DC/Action/Lobo",
          "DC/Animation/Lobo",
          "DC/Short/Lobo",
          "DC/Crime/Lucifer",
          "DC/Drama/Lucifer",
          "DC/Fantasy/Lucifer",
          "Marvel/Action/Luke Cage",
          "Marvel/Crime/Luke Cage",
          "Marvel/Drama/Luke Cage",
          "DC/Documentary/Making 'Superman': Filming the Legend",
          "DC/Short/Making 'Superman': Filming the Legend",
          "DC/Action/Man of Steel",
          "DC/Adventure/Man of Steel",
          "DC/Sci-Fi/Man of Steel",
          "Marvel/Documentary/Marvel Studios: Assembling a Universe",
          "Marvel/History/Marvel Studios: Assembling a Universe",
          "Marvel/Documentary/Marvel Studios: Expanding the Universe",
          "Marvel/Short/Marvel Studios: Expanding the Universe",
          "DC/Action/Marvel Studios: Legends",
          "DC/Fantasy/Marvel Studios: Legends",
          "DC/Sci-Fi/Marvel Studios: Legends",
          "Marvel/Action/Mortal Kombat vs. DC Universe",
          "Marvel/Adventure/Mortal Kombat vs. DC Universe",
          "Marvel/Fantasy/Mortal Kombat vs. DC Universe",
          "Marvel/Action/Mutant X",
          "Marvel/Adventure/Mutant X",
          "Marvel/Drama/Mutant X",
          "Marvel/Documentary/Necessary Evil: Super-Villains of DC Comics",
          "Marvel/Comedy/Powerless",
          "Marvel/Fantasy/Powerless",
          "Marvel/Sci-Fi/Powerless",
          "Marvel/Action/Punisher: War Zone",
          "Marvel/Crime/Punisher: War Zone",
          "Marvel/Drama/Punisher: War Zone",
          "DC/Documentary/Revolutionizing a Classic: From Comic Book to Television - The Evolution of Wonder Woman from Page to Screen",
          "DC/Short/Revolutionizing a Classic: From Comic Book to Television - The Evolution of Wonder Woman from Page to Screen",
          "DC/Documentary/Saving Gotham City",
          "DC/Short/Saving Gotham City",
          "DC/Documentary/Shadows of the Bat: The Cinematic Saga of the Dark Knight - Batman Unbound",
          "DC/Short/Shadows of the Bat: The Cinematic Saga of the Dark Knight - Batman Unbound",
          "DC/Documentary/Shadows of the Bat: The Cinematic Saga of the Dark Knight - Dark Side of the Knight",
          "DC/Short/Shadows of the Bat: The Cinematic Saga of the Dark Knight - Dark Side of the Knight",
          "Marvel/Documentary/Shadows of the Bat: The Cinematic Saga of the Dark Knight - Reinventing a Hero",
          "Marvel/Short/Shadows of the Bat: The Cinematic Saga of the Dark Knight - Reinventing a Hero",
          "DC/Documentary/Shadows of the Bat: The Cinematic Saga of the Dark Knight - The Gathering Storm",
          "DC/Short/Shadows of the Bat: The Cinematic Saga of the Dark Knight - The Gathering Storm",
          "DC/Documentary/Shadows of the Bat: The Cinematic Saga of the Dark Knight - The Legend Reborn",
          "DC/Short/Shadows of the Bat: The Cinematic Saga of the Dark Knight - The Legend Reborn",
          "DC/Documentary/Shadows of the Bat: The Cinematic Saga of the Dark Knight - The Road to Gotham City",
          "DC/Short/Shadows of the Bat: The Cinematic Saga of the Dark Knight - The Road to Gotham City",
          "DC/Action/Shazam!",
          "DC/Adventure/Shazam!",
          "DC/Comedy/Shazam!",
          "Marvel/Animation/Smallville: Justice and Doom",
          "Marvel/Sci-Fi/Smallville: Justice and Doom",
          "Marvel/Action/Spider-Man 3",
          "Marvel/Adventure/Spider-Man 3",
          "Marvel/Sci-Fi/Spider-Man 3",
          "Marvel/Animation/Spider-Man Venom Saga",
          "Marvel/Action/Spider-Man: Far from Home",
          "Marvel/Adventure/Spider-Man: Far from Home",
          "Marvel/Sci-Fi/Spider-Man: Far from Home",
          "Marvel/Action/Spider-Man: Homecoming",
          "Marvel/Adventure/Spider-Man: Homecoming",
          "Marvel/Sci-Fi/Spider-Man: Homecoming",
          "Marvel/Action/Spider-Man: The Ultimate Villain Showdown",
          "Marvel/Adventure/Spider-Man: The Ultimate Villain Showdown",
          "Marvel/Animation/Spider-Man: The Ultimate Villain Showdown",
          "Marvel/Reality-TV/Storage Wars",
          "DC/Action/Suicide Squad",
          "DC/Adventure/Suicide Squad",
          "DC/Fantasy/Suicide Squad",
          "Marvel/Action/SuperFriends: The Legendary Super Powers Show",
          "Marvel/Animation/SuperFriends: The Legendary Super Powers Show",
          "DC/Action/Supergirl",
          "DC/Adventure/Supergirl",
          "DC/Fantasy/Supergirl",
          "DC/Documentary/Supergirl: The Making of the Movie",
          "DC/Action/Superman",
          "DC/Adventure/Superman",
          "DC/Drama/Superman",
          "DC/Comedy/Superman 50th Anniversary",
          "DC/Documentary/Superman 50th Anniversary",
          "DC/Action/Superman II",
          "DC/Adventure/Superman II",
          "DC/Sci-Fi/Superman II",
          "Marvel/Documentary/Superman II: Restoring the Vision",
          "Marvel/Short/Superman II: Restoring the Vision",
          "DC/Action/Superman III",
          "DC/Adventure/Superman III",
          "DC/Comedy/Superman III",
          "DC/Action/Superman Returns",
          "DC/Sci-Fi/Superman Returns",
          "DC/Action/Superman/Batman: Public Enemies",
          "DC/Animation/Superman/Batman: Public Enemies",
          "DC/Drama/Superman/Batman: Public Enemies",
          "DC/Action/Superman: Doomsday",
          "DC/Adventure/Superman: Doomsday",
          "DC/Animation/Superman: Doomsday",
          "DC/Action/Superman: The Animated Series",
          "DC/Adventure/Superman: The Animated Series",
          "DC/Animation/Superman: The Animated Series",
          "DC/Horror/Swamp Thing",
          "DC/Sci-Fi/Swamp Thing",
          "DC/Documentary/Taking Flight: The Development of 'Superman'",
          "DC/Short/Taking Flight: The Development of 'Superman'",
          "Marvel/Comedy/Team Thor",
          "Marvel/Fantasy/Team Thor",
          "Marvel/Short/Team Thor",
          "DC/Action/Teen Titans",
          "DC/Adventure/Teen Titans",
          "DC/Animation/Teen Titans",
          "DC/Action/Teen Titans: Trouble in Tokyo",
          "DC/Adventure/Teen Titans: Trouble in Tokyo",
          "DC/Animation/Teen Titans: Trouble in Tokyo",
          "Marvel/Action/The Avengers",
          "Marvel/Adventure/The Avengers",
          "Marvel/Sci-Fi/The Avengers",
          "DC/Action/The Batman",
          "DC/Adventure/The Batman",
          "DC/Animation/The Batman",
          "DC/Action/The Batman vs. Dracula",
          "DC/Animation/The Batman vs. Dracula",
          "DC/Horror/The Batman vs. Dracula",
          "DC/Action/The Complete Robin Storyboard Sequence",
          "DC/Animation/The Complete Robin Storyboard Sequence",
          "DC/Short/The Complete Robin Storyboard Sequence",
          "DC/Action/The Dark Knight",
          "DC/Crime/The Dark Knight",
          "DC/Drama/The Dark Knight",
          "DC/Action/The Dark Knight Rises",
          "DC/Adventure/The Dark Knight Rises",
          "DC/Action/The Death and Return of Superman",
          "DC/Adventure/The Death and Return of Superman",
          "DC/Fantasy/The Death and Return of Superman",
          "Marvel/Action/The Falcon and the Winter Soldier",
          "Marvel/Adventure/The Falcon and the Winter Soldier",
          "Marvel/Drama/The Falcon and the Winter Soldier",
          "DC/Documentary/The Fire Rises: The Creation and Impact of the Dark Knight Trilogy",
          "DC/Action/The Flash",
          "DC/Adventure/The Flash",
          "DC/Drama/The Flash",
          "Marvel/Action/The Incredible Hulk",
          "Marvel/Adventure/The Incredible Hulk",
          "Marvel/Sci-Fi/The Incredible Hulk",
          "Marvel/Action/The Invincible Iron Man",
          "Marvel/Adventure/The Invincible Iron Man",
          "Marvel/Animation/The Invincible Iron Man",
          "DC/Documentary/The Making of 'Superman II'",
          "DC/Documentary/The Making of 'Superman III'",
          "DC/Documentary/The Making of 'Superman: The Movie'",
          "DC/Documentary/The Mythology of Superman",
          "DC/Short/The Mythology of Superman",
          "DC/Action/The New Batman Adventures",
          "DC/Adventure/The New Batman Adventures",
          "DC/Animation/The New Batman Adventures",
          "Marvel/Documentary/The Omen Legacy",
          "Marvel/Action/The Punisher",
          "Marvel/Crime/The Punisher",
          "Marvel/Drama/The Punisher",
          "DC/Documentary/The Science of Superman",
          "Marvel/Adventure/The Super Powers Team: Galactic Guardians",
          "Marvel/Animation/The Super Powers Team: Galactic Guardians",
          "Marvel/Fantasy/The Super Powers Team: Galactic Guardians",
          "DC/Adventure/The World's Greatest SuperFriends",
          "DC/Animation/The World's Greatest SuperFriends",
          "DC/Action/The Worst Batman Fanfilm Ever... Period",
          "DC/Comedy/The Worst Batman Fanfilm Ever... Period",
          "DC/Short/The Worst Batman Fanfilm Ever... Period",
          "Marvel/Action/Thor",
          "Marvel/Adventure/Thor",
          "Marvel/Fantasy/Thor",
          "Marvel/Action/Thor: Ragnarok",
          "Marvel/Adventure/Thor: Ragnarok",
          "Marvel/Comedy/Thor: Ragnarok",
          "Marvel/Action/Thor: Tales of Asgard",
          "Marvel/Adventure/Thor: Tales of Asgard",
          "Marvel/Animation/Thor: Tales of Asgard",
          "Marvel/Action/Thor: The Dark World",
          "Marvel/Adventure/Thor: The Dark World",
          "Marvel/Fantasy/Thor: The Dark World",
          "Marvel/Action/Ultimate Avengers: The Movie",
          "Marvel/Adventure/Ultimate Avengers: The Movie",
          "Marvel/Animation/Ultimate Avengers: The Movie",
          "Marvel/Action/WandaVision",
          "Marvel/Comedy/WandaVision",
          "Marvel/Drama/WandaVision",
          "DC/Action/Watchmen",
          "DC/Drama/Watchmen",
          "DC/Mystery/Watchmen",
          "Marvel/Action/Wolverine",
          "Marvel/Animation/Wolverine",
          "Marvel/Sci-Fi/Wolverine",
          "DC/Action/Wonder Woman",
          "DC/Adventure/Wonder Woman",
          "DC/Animation/Wonder Woman",
          "DC/Action/Wonder Woman 1984",
          "DC/Adventure/Wonder Woman 1984",
          "DC/Fantasy/Wonder Woman 1984",
          "DC/Documentary/Wonder Woman: A Subversive Dream",
          "DC/Short/Wonder Woman: A Subversive Dream",
          "DC/Short/Wonder Woman: The Ultimate Feminist Icon",
          "Marvel/Action/X-Men",
          "Marvel/Animation/X-Men",
          "Marvel/Sci-Fi/X-Men",
          "Marvel/Action/X-Men: Evolution",
          "Marvel/Animation/X-Men: Evolution",
          "Marvel/Drama/X-Men: Evolution",
          "DC/Documentary/You Will Believe: The Cinematic Saga of Superman",
          "Marvel/Action/Young Justice",
          "Marvel/Adventure/Young Justice",
          "Marvel/Animation/Young Justice",
          "DC/Action",
          "Marvel/Action",
          "DC/Adventure",
          "Marvel/Adventure",
          "DC/Animation",
          "Marvel/Animation",
          "DC/Comedy",
          "Marvel/Comedy",
          "DC/Crime",
          "Marvel/Crime",
          "DC/Documentary",
          "Marvel/Documentary",
          "DC/Drama",
          "Marvel/Drama",
          "Marvel/Family",
          "DC/Fantasy",
          "Marvel/Fantasy",
          "Marvel/History",
          "DC/Horror",
          "Marvel/Horror",
          "DC/Music",
          "DC/Mystery",
          "Marvel/Reality-TV",
          "DC/Sci-Fi",
          "Marvel/Sci-Fi",
          "DC/Short",
          "Marvel/Short",
          "DC/Thriller",
          "DC",
          "Marvel"
         ],
         "labels": [
          "A Sneek Peak at Justice League: Doom",
          "A Sneek Peak at Justice League: Doom",
          "Adventures of Superman",
          "Adventures of Superman",
          "Adventures of Superman",
          "Agents of S.H.I.E.L.D.",
          "Agents of S.H.I.E.L.D.",
          "Agents of S.H.I.E.L.D.",
          "Ant-Man",
          "Ant-Man",
          "Ant-Man",
          "Ant-Man and the Wasp",
          "Ant-Man and the Wasp",
          "Ant-Man and the Wasp",
          "Aquaman",
          "Aquaman",
          "Aquaman",
          "Aquaman: Battle for Atlantis",
          "Aquaman: Battle for Atlantis",
          "Aquaman: Battle for Atlantis",
          "Aquaman: War of the Water Worlds",
          "Aquaman: War of the Water Worlds",
          "Aquaman: War of the Water Worlds",
          "Arrow",
          "Arrow",
          "Arrow",
          "Avengers S.T.A.T.I.O.N.",
          "Avengers: Age of Ultron",
          "Avengers: Age of Ultron",
          "Avengers: Age of Ultron",
          "Avengers: Damage Control",
          "Avengers: Endgame",
          "Avengers: Endgame",
          "Avengers: Endgame",
          "Avengers: Infinity War",
          "Avengers: Infinity War",
          "Avengers: Infinity War",
          "Baggage Battles",
          "Batman",
          "Batman",
          "Batman & Mr. Freeze: SubZero",
          "Batman & Mr. Freeze: SubZero",
          "Batman & Mr. Freeze: SubZero",
          "Batman & Robin",
          "Batman & Robin",
          "Batman Begins",
          "Batman Begins",
          "Batman Begins: Path to Discovery",
          "Batman Begins: Path to Discovery",
          "Batman Beyond",
          "Batman Beyond",
          "Batman Beyond",
          "Batman Beyond: Return of the Joker",
          "Batman Beyond: Return of the Joker",
          "Batman Beyond: Return of the Joker",
          "Batman Beyond: The Movie",
          "Batman Beyond: The Movie",
          "Batman Beyond: The Movie",
          "Batman Forever",
          "Batman Forever",
          "Batman Heroes: Alexander Knox",
          "Batman Heroes: Alexander Knox",
          "Batman Heroes: Commissioner Gordon",
          "Batman Heroes: Commissioner Gordon",
          "Batman Heroes: Harvey Dent",
          "Batman Heroes: Harvey Dent",
          "Batman Heroes: Vicki Vale",
          "Batman Heroes: Vicki Vale",
          "Batman Ninja",
          "Batman Ninja",
          "Batman Ninja",
          "Batman Returns",
          "Batman Returns",
          "Batman Returns",
          "Batman Returns Heroes: Alfred",
          "Batman Returns Heroes: Alfred",
          "Batman Returns Heroes: Batman",
          "Batman Returns Heroes: Batman",
          "Batman Returns Villains: Catwoman",
          "Batman Returns Villains: Catwoman",
          "Batman Returns Villains: Max Shreck",
          "Batman Returns Villains: Max Shreck",
          "Batman Returns Villains: The Penguin",
          "Batman Returns Villains: The Penguin",
          "Batman Villains: Bob the Goon",
          "Batman Villains: Bob the Goon",
          "Batman v Superman: Dawn of Justice",
          "Batman v Superman: Dawn of Justice",
          "Batman v Superman: Dawn of Justice",
          "Batman vs. Robin",
          "Batman vs. Robin",
          "Batman vs. Robin",
          "Batman: Arkham Asylum",
          "Batman: Arkham Asylum",
          "Batman: Arkham Asylum",
          "Batman: Bad Blood",
          "Batman: Bad Blood",
          "Batman: Bad Blood",
          "Batman: Black and White",
          "Batman: Black and White",
          "Batman: Black and White",
          "Batman: Gotham Knight",
          "Batman: Gotham Knight",
          "Batman: Gotham Knight",
          "Batman: Night's End",
          "Batman: Soul of the Dragon",
          "Batman: Soul of the Dragon",
          "Batman: Soul of the Dragon",
          "Batman: The Animated Series",
          "Batman: The Animated Series",
          "Batman: The Animated Series",
          "Batman: The Journey Begins",
          "Batman: The Journey Begins",
          "Batman: The Telltale Series",
          "Batman: The Telltale Series",
          "Batman: The Telltale Series",
          "Batman: The Tumbler",
          "Batman: The Tumbler",
          "Beware the Batman",
          "Beware the Batman",
          "Beware the Batman",
          "Beyond Batman: Assembling the Arctic Army",
          "Beyond Batman: Assembling the Arctic Army",
          "Beyond Batman: Bats, Mattes & Dark Nights - The Visual FX of Batman Returns",
          "Beyond Batman: Bats, Mattes & Dark Nights - The Visual FX of Batman Returns",
          "Beyond Batman: Gotham City Revisited - The Production Design of Batman Returns",
          "Beyond Batman: Gotham City Revisited - The Production Design of Batman Returns",
          "Beyond Batman: Inside the Elfman Studio - The Music of Batman Returns",
          "Beyond Batman: Inside the Elfman Studio - The Music of Batman Returns",
          "Beyond Batman: Inside the Elfman Studio - The Music of Batman Returns",
          "Beyond Batman: Making Up the Penguin",
          "Beyond Batman: Making Up the Penguin",
          "Beyond Batman: Sleek, Sexy and Sinister - The Costumes of Batman Returns",
          "Beyond Batman: Sleek, Sexy and Sinister - The Costumes of Batman Returns",
          "Black Lightning",
          "Black Lightning",
          "Black Lightning",
          "Black Panther",
          "Black Panther",
          "Black Panther",
          "Blade",
          "Blade",
          "Blade",
          "Captain America: Civil War",
          "Captain America: Civil War",
          "Captain America: Civil War",
          "Captain America: Civil War Save a Hero Campaign",
          "Captain America: The First Avenger",
          "Captain America: The First Avenger",
          "Captain America: The First Avenger",
          "Captain America: The Winter Soldier",
          "Captain America: The Winter Soldier",
          "Captain America: The Winter Soldier",
          "Captain Marvel",
          "Captain Marvel",
          "Captain Marvel",
          "Catwoman",
          "Catwoman",
          "Catwoman",
          "Constantine",
          "Constantine",
          "Constantine",
          "Constantine: City of Demons",
          "Constantine: City of Demons",
          "Constantine: City of Demons",
          "DC Nation's Farm League",
          "DC Nation's Farm League",
          "DC Nation's Farm League",
          "DC Super Hero Girls",
          "DC Super Hero Girls",
          "DC Super Hero Girls",
          "DC's Legends of Tomorrow",
          "DC's Legends of Tomorrow",
          "DC's Legends of Tomorrow",
          "Dark Justice",
          "Dark Justice",
          "Doctor Strange",
          "Doctor Strange",
          "Doctor Strange",
          "Fantastic 4: Rise of the Silver Surfer",
          "Fantastic 4: Rise of the Silver Surfer",
          "Fantastic 4: Rise of the Silver Surfer",
          "First Flight: The Fleischer Superman Series",
          "First Flight: The Fleischer Superman Series",
          "Gotham",
          "Gotham",
          "Gotham",
          "Gotham City Rises",
          "Gotham City Rises",
          "Gotham Girls",
          "Gotham Girls",
          "Gotham Girls",
          "Green Arrow",
          "Green Arrow",
          "Green Lantern",
          "Green Lantern",
          "Green Lantern",
          "Green Lantern: First Flight",
          "Green Lantern: First Flight",
          "Green Lantern: First Flight",
          "Guarding the Balance: Batman and the JLA",
          "Heroes",
          "Heroes",
          "Heroes",
          "Hulk Vs.",
          "Hulk Vs.",
          "Hulk Vs.",
          "Iron Man",
          "Iron Man",
          "Iron Man",
          "Iron Man & Hulk: Heroes United",
          "Iron Man & Hulk: Heroes United",
          "Iron Man & Hulk: Heroes United",
          "Iron Man 2",
          "Iron Man 2",
          "Iron Man 2",
          "Iron Man 3",
          "Iron Man 3",
          "Iron Man 3",
          "Iron Man 3: The Prologue",
          "Iron Man 3: The Prologue",
          "Iron Man and Captain America: Heroes United",
          "Iron Man and Captain America: Heroes United",
          "Iron Man and Captain America: Heroes United",
          "Iron Man: Armored Adventures",
          "Iron Man: Armored Adventures",
          "Iron Man: Armored Adventures",
          "JLA Adventures: Trapped in Time",
          "JLA Adventures: Trapped in Time",
          "JLA Adventures: Trapped in Time",
          "Jessica Jones",
          "Jessica Jones",
          "Jessica Jones",
          "Joker",
          "Joker",
          "Joker",
          "Justice League",
          "Justice League",
          "Justice League",
          "Justice League Unlimited",
          "Justice League Unlimited",
          "Justice League Unlimited",
          "Justice League vs. Teen Titans",
          "Justice League vs. Teen Titans",
          "Justice League vs. Teen Titans",
          "Justice League: Alien Invasion",
          "Justice League: Alien Invasion",
          "Justice League: Alien Invasion",
          "Justice League: Gods and Monsters Chronicles",
          "Justice League: Gods and Monsters Chronicles",
          "Justice League: Gods and Monsters Chronicles",
          "Justice League: The Flashpoint Paradox",
          "Justice League: The Flashpoint Paradox",
          "Justice League: The Flashpoint Paradox",
          "Justice League: Throne of Atlantis",
          "Justice League: Throne of Atlantis",
          "Justice League: Throne of Atlantis",
          "Justice League: War",
          "Justice League: War",
          "Justice League: War",
          "Justice Society: World War II",
          "Justice Society: World War II",
          "Justice Society: World War II",
          "LEGO DC Comics Super Heroes: Aquaman - Rage of Atlantis",
          "LEGO DC Comics Super Heroes: Aquaman - Rage of Atlantis",
          "LEGO DC Comics Super Heroes: Aquaman - Rage of Atlantis",
          "Legends of the Dark Knight: The History of Batman",
          "Legends of the Dark Knight: The History of Batman",
          "Legends of the Superheroes",
          "Legends of the Superheroes",
          "Legends of the Superheroes",
          "Lego Batman: The Movie - DC Super Heroes Unite",
          "Lego Batman: The Movie - DC Super Heroes Unite",
          "Lego Batman: The Movie - DC Super Heroes Unite",
          "Lego Batman: The Videogame",
          "Lego Batman: The Videogame",
          "Lego Batman: The Videogame",
          "Lego Marvel Avengers: Climate Conundrum",
          "Lobo",
          "Lobo",
          "Lobo",
          "Lucifer",
          "Lucifer",
          "Lucifer",
          "Luke Cage",
          "Luke Cage",
          "Luke Cage",
          "Making 'Superman': Filming the Legend",
          "Making 'Superman': Filming the Legend",
          "Man of Steel",
          "Man of Steel",
          "Man of Steel",
          "Marvel Studios: Assembling a Universe",
          "Marvel Studios: Assembling a Universe",
          "Marvel Studios: Expanding the Universe",
          "Marvel Studios: Expanding the Universe",
          "Marvel Studios: Legends",
          "Marvel Studios: Legends",
          "Marvel Studios: Legends",
          "Mortal Kombat vs. DC Universe",
          "Mortal Kombat vs. DC Universe",
          "Mortal Kombat vs. DC Universe",
          "Mutant X",
          "Mutant X",
          "Mutant X",
          "Necessary Evil: Super-Villains of DC Comics",
          "Powerless",
          "Powerless",
          "Powerless",
          "Punisher: War Zone",
          "Punisher: War Zone",
          "Punisher: War Zone",
          "Revolutionizing a Classic: From Comic Book to Television - The Evolution of Wonder Woman from Page to Screen",
          "Revolutionizing a Classic: From Comic Book to Television - The Evolution of Wonder Woman from Page to Screen",
          "Saving Gotham City",
          "Saving Gotham City",
          "Shadows of the Bat: The Cinematic Saga of the Dark Knight - Batman Unbound",
          "Shadows of the Bat: The Cinematic Saga of the Dark Knight - Batman Unbound",
          "Shadows of the Bat: The Cinematic Saga of the Dark Knight - Dark Side of the Knight",
          "Shadows of the Bat: The Cinematic Saga of the Dark Knight - Dark Side of the Knight",
          "Shadows of the Bat: The Cinematic Saga of the Dark Knight - Reinventing a Hero",
          "Shadows of the Bat: The Cinematic Saga of the Dark Knight - Reinventing a Hero",
          "Shadows of the Bat: The Cinematic Saga of the Dark Knight - The Gathering Storm",
          "Shadows of the Bat: The Cinematic Saga of the Dark Knight - The Gathering Storm",
          "Shadows of the Bat: The Cinematic Saga of the Dark Knight - The Legend Reborn",
          "Shadows of the Bat: The Cinematic Saga of the Dark Knight - The Legend Reborn",
          "Shadows of the Bat: The Cinematic Saga of the Dark Knight - The Road to Gotham City",
          "Shadows of the Bat: The Cinematic Saga of the Dark Knight - The Road to Gotham City",
          "Shazam!",
          "Shazam!",
          "Shazam!",
          "Smallville: Justice and Doom",
          "Smallville: Justice and Doom",
          "Spider-Man 3",
          "Spider-Man 3",
          "Spider-Man 3",
          "Spider-Man Venom Saga",
          "Spider-Man: Far from Home",
          "Spider-Man: Far from Home",
          "Spider-Man: Far from Home",
          "Spider-Man: Homecoming",
          "Spider-Man: Homecoming",
          "Spider-Man: Homecoming",
          "Spider-Man: The Ultimate Villain Showdown",
          "Spider-Man: The Ultimate Villain Showdown",
          "Spider-Man: The Ultimate Villain Showdown",
          "Storage Wars",
          "Suicide Squad",
          "Suicide Squad",
          "Suicide Squad",
          "SuperFriends: The Legendary Super Powers Show",
          "SuperFriends: The Legendary Super Powers Show",
          "Supergirl",
          "Supergirl",
          "Supergirl",
          "Supergirl: The Making of the Movie",
          "Superman",
          "Superman",
          "Superman",
          "Superman 50th Anniversary",
          "Superman 50th Anniversary",
          "Superman II",
          "Superman II",
          "Superman II",
          "Superman II: Restoring the Vision",
          "Superman II: Restoring the Vision",
          "Superman III",
          "Superman III",
          "Superman III",
          "Superman Returns",
          "Superman Returns",
          "Superman/Batman: Public Enemies",
          "Superman/Batman: Public Enemies",
          "Superman/Batman: Public Enemies",
          "Superman: Doomsday",
          "Superman: Doomsday",
          "Superman: Doomsday",
          "Superman: The Animated Series",
          "Superman: The Animated Series",
          "Superman: The Animated Series",
          "Swamp Thing",
          "Swamp Thing",
          "Taking Flight: The Development of 'Superman'",
          "Taking Flight: The Development of 'Superman'",
          "Team Thor",
          "Team Thor",
          "Team Thor",
          "Teen Titans",
          "Teen Titans",
          "Teen Titans",
          "Teen Titans: Trouble in Tokyo",
          "Teen Titans: Trouble in Tokyo",
          "Teen Titans: Trouble in Tokyo",
          "The Avengers",
          "The Avengers",
          "The Avengers",
          "The Batman",
          "The Batman",
          "The Batman",
          "The Batman vs. Dracula",
          "The Batman vs. Dracula",
          "The Batman vs. Dracula",
          "The Complete Robin Storyboard Sequence",
          "The Complete Robin Storyboard Sequence",
          "The Complete Robin Storyboard Sequence",
          "The Dark Knight",
          "The Dark Knight",
          "The Dark Knight",
          "The Dark Knight Rises",
          "The Dark Knight Rises",
          "The Death and Return of Superman",
          "The Death and Return of Superman",
          "The Death and Return of Superman",
          "The Falcon and the Winter Soldier",
          "The Falcon and the Winter Soldier",
          "The Falcon and the Winter Soldier",
          "The Fire Rises: The Creation and Impact of the Dark Knight Trilogy",
          "The Flash",
          "The Flash",
          "The Flash",
          "The Incredible Hulk",
          "The Incredible Hulk",
          "The Incredible Hulk",
          "The Invincible Iron Man",
          "The Invincible Iron Man",
          "The Invincible Iron Man",
          "The Making of 'Superman II'",
          "The Making of 'Superman III'",
          "The Making of 'Superman: The Movie'",
          "The Mythology of Superman",
          "The Mythology of Superman",
          "The New Batman Adventures",
          "The New Batman Adventures",
          "The New Batman Adventures",
          "The Omen Legacy",
          "The Punisher",
          "The Punisher",
          "The Punisher",
          "The Science of Superman",
          "The Super Powers Team: Galactic Guardians",
          "The Super Powers Team: Galactic Guardians",
          "The Super Powers Team: Galactic Guardians",
          "The World's Greatest SuperFriends",
          "The World's Greatest SuperFriends",
          "The Worst Batman Fanfilm Ever... Period",
          "The Worst Batman Fanfilm Ever... Period",
          "The Worst Batman Fanfilm Ever... Period",
          "Thor",
          "Thor",
          "Thor",
          "Thor: Ragnarok",
          "Thor: Ragnarok",
          "Thor: Ragnarok",
          "Thor: Tales of Asgard",
          "Thor: Tales of Asgard",
          "Thor: Tales of Asgard",
          "Thor: The Dark World",
          "Thor: The Dark World",
          "Thor: The Dark World",
          "Ultimate Avengers: The Movie",
          "Ultimate Avengers: The Movie",
          "Ultimate Avengers: The Movie",
          "WandaVision",
          "WandaVision",
          "WandaVision",
          "Watchmen",
          "Watchmen",
          "Watchmen",
          "Wolverine",
          "Wolverine",
          "Wolverine",
          "Wonder Woman",
          "Wonder Woman",
          "Wonder Woman",
          "Wonder Woman 1984",
          "Wonder Woman 1984",
          "Wonder Woman 1984",
          "Wonder Woman: A Subversive Dream",
          "Wonder Woman: A Subversive Dream",
          "Wonder Woman: The Ultimate Feminist Icon",
          "X-Men",
          "X-Men",
          "X-Men",
          "X-Men: Evolution",
          "X-Men: Evolution",
          "X-Men: Evolution",
          "You Will Believe: The Cinematic Saga of Superman",
          "Young Justice",
          "Young Justice",
          "Young Justice",
          "Action",
          "Action",
          "Adventure",
          "Adventure",
          "Animation",
          "Animation",
          "Comedy",
          "Comedy",
          "Crime",
          "Crime",
          "Documentary",
          "Documentary",
          "Drama",
          "Drama",
          "Family",
          "Fantasy",
          "Fantasy",
          "History",
          "Horror",
          "Horror",
          "Music",
          "Mystery",
          "Reality-TV",
          "Sci-Fi",
          "Sci-Fi",
          "Short",
          "Short",
          "Thriller",
          "DC",
          "Marvel"
         ],
         "marker": {
          "coloraxis": "coloraxis",
          "colors": [
           6,
           6,
           7.7,
           7.7,
           7.7,
           8.6,
           8.6,
           8.6,
           7.3,
           7.3,
           7.3,
           7,
           7,
           7,
           6.9,
           6.9,
           6.9,
           3.5,
           3.5,
           3.5,
           7.8,
           7.8,
           7.8,
           7.5,
           7.5,
           7.5,
           7.4,
           7.3,
           7.3,
           7.3,
           6.6,
           8.4,
           8.4,
           8.4,
           8.4,
           8.4,
           8.4,
           7.4,
           7.5,
           7.5,
           7.2,
           7.2,
           7.2,
           3.8,
           3.8,
           8.2,
           8.2,
           7.2,
           7.2,
           8.1,
           8.1,
           8.1,
           7.8,
           7.8,
           7.8,
           7.8,
           7.8,
           7.8,
           5.4,
           5.4,
           6.2,
           6.2,
           6,
           6,
           6.1,
           6.1,
           7,
           7,
           5.6,
           5.6,
           5.6,
           7,
           7,
           7,
           6.8,
           6.8,
           6.5,
           6.5,
           6.6,
           6.6,
           6.2,
           6.2,
           6.2,
           6.2,
           7.3,
           7.3,
           6.4,
           6.4,
           6.4,
           7.1,
           7.1,
           7.1,
           9.2,
           9.2,
           9.2,
           6.8,
           6.8,
           6.8,
           7,
           7,
           7,
           6.7,
           6.7,
           6.7,
           7.4,
           6.1,
           6.1,
           6.1,
           9,
           9,
           9,
           7.7,
           7.7,
           8.1,
           8.1,
           8.1,
           7.4,
           7.4,
           8.1,
           8.1,
           8.1,
           6.9,
           6.9,
           7.3,
           7.3,
           6.8,
           6.8,
           6.8,
           6.8,
           6.8,
           6.8,
           6.8,
           6.9,
           6.9,
           6.4,
           6.4,
           6.4,
           7.3,
           7.3,
           7.3,
           6.5,
           6.5,
           6.5,
           7.8,
           7.8,
           7.8,
           6,
           6.9,
           6.9,
           6.9,
           7.7,
           7.7,
           7.7,
           6.9,
           6.9,
           6.9,
           3.4,
           3.4,
           3.4,
           7,
           7,
           7,
           7.6,
           7.6,
           7.6,
           6.3,
           6.3,
           6.3,
           6,
           6,
           6,
           8,
           8,
           8,
           5.9,
           5.9,
           7.5,
           7.5,
           7.5,
           5.6,
           5.6,
           5.6,
           7,
           7,
           7.8,
           7.8,
           7.8,
           7.3,
           7.3,
           7.4,
           7.4,
           7.4,
           7.7,
           7.7,
           5.5,
           5.5,
           5.5,
           7.1,
           7.1,
           7.1,
           6.4,
           7,
           7,
           7,
           7,
           7,
           7,
           7.9,
           7.9,
           7.9,
           4.7,
           4.7,
           4.7,
           7,
           7,
           7,
           7.1,
           7.1,
           7.1,
           6.2,
           6.2,
           5.5,
           5.5,
           5.5,
           6.5,
           6.5,
           6.5,
           5.8,
           5.8,
           5.8,
           8,
           8,
           8,
           8.4,
           8.4,
           8.4,
           8.5,
           8.5,
           8.5,
           8.7,
           8.7,
           8.7,
           7,
           7,
           7,
           8.1,
           8.1,
           8.1,
           7.7,
           7.7,
           7.7,
           8.1,
           8.1,
           8.1,
           6.7,
           6.7,
           6.7,
           7.2,
           7.2,
           7.2,
           6.4,
           6.4,
           6.4,
           5.7,
           5.7,
           5.7,
           7.9,
           7.9,
           6.1,
           6.1,
           6.1,
           6.5,
           6.5,
           6.5,
           7.9,
           7.9,
           7.9,
           7.3,
           6.8,
           6.8,
           6.8,
           8.8,
           8.8,
           8.8,
           7.7,
           7.7,
           7.7,
           7.5,
           7.5,
           7,
           7,
           7,
           7.4,
           7.4,
           6.8,
           6.8,
           6.5,
           6.5,
           6.5,
           6.8,
           6.8,
           6.8,
           5.9,
           5.9,
           5.9,
           6.8,
           7,
           7,
           7,
           5.9,
           5.9,
           5.9,
           7.8,
           7.8,
           7.1,
           7.1,
           5.9,
           5.9,
           7.3,
           7.3,
           6.6,
           6.6,
           7.4,
           7.4,
           7.6,
           7.6,
           7.5,
           7.5,
           7,
           7,
           7,
           6.5,
           6.5,
           6.2,
           6.2,
           6.2,
           7.7,
           7.5,
           7.5,
           7.5,
           7.4,
           7.4,
           7.4,
           7,
           7,
           7,
           6.9,
           5.9,
           5.9,
           5.9,
           7.4,
           7.4,
           4.4,
           4.4,
           4.4,
           5.5,
           7.3,
           7.3,
           7.3,
           5.7,
           5.7,
           6.8,
           6.8,
           6.8,
           7.9,
           7.9,
           5,
           5,
           5,
           6,
           6,
           7.2,
           7.2,
           7.2,
           7,
           7,
           7,
           8.1,
           8.1,
           8.1,
           5.4,
           5.4,
           7.3,
           7.3,
           8.1,
           8.1,
           8.1,
           7.9,
           7.9,
           7.9,
           7.1,
           7.1,
           7.1,
           8,
           8,
           8,
           7.3,
           7.3,
           7.3,
           6.6,
           6.6,
           6.6,
           7,
           7,
           7,
           9,
           9,
           9,
           8.4,
           8.4,
           7.3,
           7.3,
           7.3,
           7.5,
           7.5,
           7.5,
           8.1,
           8.3,
           8.3,
           8.3,
           6.7,
           6.7,
           6.7,
           5.9,
           5.9,
           5.9,
           7,
           6.1,
           7.3,
           7.3,
           7.3,
           8.5,
           8.5,
           8.5,
           6.7,
           8.6,
           8.6,
           8.6,
           7,
           7.6,
           7.6,
           7.6,
           7.5,
           7.5,
           7.3,
           7.3,
           7.3,
           7,
           7,
           7,
           7.9,
           7.9,
           7.9,
           6.3,
           6.3,
           6.3,
           6.9,
           6.9,
           6.9,
           6.7,
           6.7,
           6.7,
           8.1,
           8.1,
           8.1,
           7.6,
           7.6,
           7.6,
           6.4,
           6.4,
           6.4,
           7.3,
           7.3,
           7.3,
           5.4,
           5.4,
           5.4,
           7.1,
           7.1,
           7.7,
           6.9,
           6.9,
           6.9,
           7.5,
           7.5,
           7.5,
           7.9,
           8.6,
           8.6,
           8.6,
           7.048214285714286,
           6.979687500000001,
           7.211111111111112,
           7.0392156862745106,
           7.300000000000001,
           6.876666666666666,
           6.4799999999999995,
           7.357142857142857,
           7.533333333333333,
           7.550000000000001,
           7.109677419354841,
           6.652941176470589,
           7.8,
           7.563636363636363,
           7.8,
           6.4923076923076914,
           6.8,
           7.4,
           6.333333333333333,
           6.5,
           6.8,
           7.6,
           7.15,
           6.376923076923077,
           7.150000000000001,
           7.200000000000001,
           6.676190476190476,
           8.4,
           7.113061224489795,
           6.990204081632653
          ]
         },
         "name": "",
         "parents": [
          "Marvel/Documentary",
          "Marvel/Short",
          "DC/Action",
          "DC/Adventure",
          "DC/Crime",
          "Marvel/Action",
          "Marvel/Adventure",
          "Marvel/Drama",
          "Marvel/Action",
          "Marvel/Adventure",
          "Marvel/Comedy",
          "Marvel/Action",
          "Marvel/Adventure",
          "Marvel/Comedy",
          "DC/Action",
          "DC/Adventure",
          "DC/Fantasy",
          "Marvel/Action",
          "Marvel/Adventure",
          "Marvel/Fantasy",
          "Marvel/Adventure",
          "Marvel/Family",
          "Marvel/Fantasy",
          "DC/Action",
          "DC/Adventure",
          "DC/Crime",
          "Marvel/Sci-Fi",
          "Marvel/Action",
          "Marvel/Adventure",
          "Marvel/Sci-Fi",
          "Marvel/Action",
          "Marvel/Action",
          "Marvel/Adventure",
          "Marvel/Drama",
          "Marvel/Action",
          "Marvel/Adventure",
          "Marvel/Sci-Fi",
          "Marvel/Reality-TV",
          "DC/Action",
          "DC/Adventure",
          "DC/Action",
          "DC/Animation",
          "DC/Crime",
          "DC/Action",
          "DC/Sci-Fi",
          "DC/Action",
          "DC/Adventure",
          "DC/Documentary",
          "DC/Short",
          "DC/Action",
          "DC/Adventure",
          "DC/Animation",
          "DC/Action",
          "DC/Animation",
          "DC/Crime",
          "DC/Action",
          "DC/Animation",
          "DC/Sci-Fi",
          "DC/Action",
          "DC/Adventure",
          "Marvel/Documentary",
          "Marvel/Short",
          "Marvel/Documentary",
          "Marvel/Short",
          "Marvel/Documentary",
          "Marvel/Short",
          "Marvel/Documentary",
          "Marvel/Short",
          "DC/Action",
          "DC/Animation",
          "DC/Sci-Fi",
          "DC/Action",
          "DC/Crime",
          "DC/Fantasy",
          "Marvel/Documentary",
          "Marvel/Short",
          "Marvel/Documentary",
          "Marvel/Short",
          "Marvel/Documentary",
          "Marvel/Short",
          "Marvel/Documentary",
          "Marvel/Short",
          "Marvel/Documentary",
          "Marvel/Short",
          "Marvel/Documentary",
          "Marvel/Short",
          "Marvel/Action",
          "Marvel/Adventure",
          "Marvel/Sci-Fi",
          "DC/Action",
          "DC/Adventure",
          "DC/Animation",
          "DC/Action",
          "DC/Adventure",
          "DC/Crime",
          "DC/Action",
          "DC/Adventure",
          "DC/Animation",
          "DC/Animation",
          "DC/Crime",
          "DC/Drama",
          "DC/Action",
          "DC/Animation",
          "DC/Crime",
          "DC/Short",
          "DC/Action",
          "DC/Adventure",
          "DC/Animation",
          "DC/Action",
          "DC/Adventure",
          "DC/Animation",
          "DC/Documentary",
          "DC/Short",
          "DC/Action",
          "DC/Crime",
          "DC/Sci-Fi",
          "DC/Documentary",
          "DC/Short",
          "DC/Action",
          "DC/Adventure",
          "DC/Animation",
          "DC/Documentary",
          "DC/Short",
          "DC/Documentary",
          "DC/Short",
          "DC/Documentary",
          "DC/Short",
          "DC/Documentary",
          "DC/Music",
          "DC/Short",
          "DC/Documentary",
          "DC/Short",
          "DC/Documentary",
          "DC/Short",
          "DC/Action",
          "DC/Drama",
          "DC/Sci-Fi",
          "Marvel/Action",
          "Marvel/Adventure",
          "Marvel/Sci-Fi",
          "Marvel/Action",
          "Marvel/Animation",
          "Marvel/Horror",
          "Marvel/Action",
          "Marvel/Adventure",
          "Marvel/Sci-Fi",
          "Marvel/Short",
          "Marvel/Action",
          "Marvel/Adventure",
          "Marvel/Sci-Fi",
          "Marvel/Action",
          "Marvel/Adventure",
          "Marvel/Sci-Fi",
          "Marvel/Action",
          "Marvel/Adventure",
          "Marvel/Sci-Fi",
          "DC/Action",
          "DC/Crime",
          "DC/Fantasy",
          "DC/Action",
          "DC/Fantasy",
          "DC/Horror",
          "DC/Animation",
          "DC/Fantasy",
          "DC/Short",
          "DC/Animation",
          "DC/Fantasy",
          "DC/Sci-Fi",
          "Marvel/Action",
          "Marvel/Animation",
          "Marvel/Short",
          "DC/Action",
          "DC/Adventure",
          "DC/Drama",
          "Marvel/Action",
          "Marvel/Short",
          "Marvel/Action",
          "Marvel/Adventure",
          "Marvel/Fantasy",
          "Marvel/Action",
          "Marvel/Adventure",
          "Marvel/Fantasy",
          "DC/Documentary",
          "DC/Short",
          "DC/Action",
          "DC/Crime",
          "DC/Drama",
          "DC/Documentary",
          "DC/Short",
          "DC/Animation",
          "DC/Comedy",
          "DC/Crime",
          "DC/Animation",
          "DC/Sci-Fi",
          "DC/Action",
          "DC/Adventure",
          "DC/Sci-Fi",
          "DC/Action",
          "DC/Adventure",
          "DC/Animation",
          "DC/Short",
          "Marvel/Drama",
          "Marvel/Fantasy",
          "Marvel/Sci-Fi",
          "Marvel/Action",
          "Marvel/Adventure",
          "Marvel/Animation",
          "Marvel/Action",
          "Marvel/Adventure",
          "Marvel/Sci-Fi",
          "Marvel/Action",
          "Marvel/Adventure",
          "Marvel/Animation",
          "Marvel/Action",
          "Marvel/Adventure",
          "Marvel/Sci-Fi",
          "Marvel/Action",
          "Marvel/Adventure",
          "Marvel/Sci-Fi",
          "Marvel/Action",
          "Marvel/Short",
          "Marvel/Action",
          "Marvel/Adventure",
          "Marvel/Animation",
          "Marvel/Action",
          "Marvel/Adventure",
          "Marvel/Animation",
          "Marvel/Action",
          "Marvel/Animation",
          "Marvel/Sci-Fi",
          "Marvel/Action",
          "Marvel/Crime",
          "Marvel/Drama",
          "DC/Crime",
          "DC/Drama",
          "DC/Thriller",
          "Marvel/Action",
          "Marvel/Adventure",
          "Marvel/Animation",
          "Marvel/Action",
          "Marvel/Adventure",
          "Marvel/Animation",
          "Marvel/Action",
          "Marvel/Adventure",
          "Marvel/Animation",
          "Marvel/Adventure",
          "Marvel/Sci-Fi",
          "Marvel/Short",
          "Marvel/Action",
          "Marvel/Animation",
          "Marvel/Short",
          "Marvel/Action",
          "Marvel/Adventure",
          "Marvel/Animation",
          "Marvel/Action",
          "Marvel/Adventure",
          "Marvel/Animation",
          "Marvel/Action",
          "Marvel/Adventure",
          "Marvel/Animation",
          "Marvel/Action",
          "Marvel/Adventure",
          "Marvel/Animation",
          "Marvel/Action",
          "Marvel/Adventure",
          "Marvel/Animation",
          "DC/Documentary",
          "DC/Short",
          "Marvel/Action",
          "Marvel/Adventure",
          "Marvel/Comedy",
          "Marvel/Action",
          "Marvel/Adventure",
          "Marvel/Animation",
          "DC/Action",
          "DC/Adventure",
          "DC/Fantasy",
          "Marvel/Animation",
          "DC/Action",
          "DC/Animation",
          "DC/Short",
          "DC/Crime",
          "DC/Drama",
          "DC/Fantasy",
          "Marvel/Action",
          "Marvel/Crime",
          "Marvel/Drama",
          "DC/Documentary",
          "DC/Short",
          "DC/Action",
          "DC/Adventure",
          "DC/Sci-Fi",
          "Marvel/Documentary",
          "Marvel/History",
          "Marvel/Documentary",
          "Marvel/Short",
          "DC/Action",
          "DC/Fantasy",
          "DC/Sci-Fi",
          "Marvel/Action",
          "Marvel/Adventure",
          "Marvel/Fantasy",
          "Marvel/Action",
          "Marvel/Adventure",
          "Marvel/Drama",
          "Marvel/Documentary",
          "Marvel/Comedy",
          "Marvel/Fantasy",
          "Marvel/Sci-Fi",
          "Marvel/Action",
          "Marvel/Crime",
          "Marvel/Drama",
          "DC/Documentary",
          "DC/Short",
          "DC/Documentary",
          "DC/Short",
          "DC/Documentary",
          "DC/Short",
          "DC/Documentary",
          "DC/Short",
          "Marvel/Documentary",
          "Marvel/Short",
          "DC/Documentary",
          "DC/Short",
          "DC/Documentary",
          "DC/Short",
          "DC/Documentary",
          "DC/Short",
          "DC/Action",
          "DC/Adventure",
          "DC/Comedy",
          "Marvel/Animation",
          "Marvel/Sci-Fi",
          "Marvel/Action",
          "Marvel/Adventure",
          "Marvel/Sci-Fi",
          "Marvel/Animation",
          "Marvel/Action",
          "Marvel/Adventure",
          "Marvel/Sci-Fi",
          "Marvel/Action",
          "Marvel/Adventure",
          "Marvel/Sci-Fi",
          "Marvel/Action",
          "Marvel/Adventure",
          "Marvel/Animation",
          "Marvel/Reality-TV",
          "DC/Action",
          "DC/Adventure",
          "DC/Fantasy",
          "Marvel/Action",
          "Marvel/Animation",
          "DC/Action",
          "DC/Adventure",
          "DC/Fantasy",
          "DC/Documentary",
          "DC/Action",
          "DC/Adventure",
          "DC/Drama",
          "DC/Comedy",
          "DC/Documentary",
          "DC/Action",
          "DC/Adventure",
          "DC/Sci-Fi",
          "Marvel/Documentary",
          "Marvel/Short",
          "DC/Action",
          "DC/Adventure",
          "DC/Comedy",
          "DC/Action",
          "DC/Sci-Fi",
          "DC/Action",
          "DC/Animation",
          "DC/Drama",
          "DC/Action",
          "DC/Adventure",
          "DC/Animation",
          "DC/Action",
          "DC/Adventure",
          "DC/Animation",
          "DC/Horror",
          "DC/Sci-Fi",
          "DC/Documentary",
          "DC/Short",
          "Marvel/Comedy",
          "Marvel/Fantasy",
          "Marvel/Short",
          "DC/Action",
          "DC/Adventure",
          "DC/Animation",
          "DC/Action",
          "DC/Adventure",
          "DC/Animation",
          "Marvel/Action",
          "Marvel/Adventure",
          "Marvel/Sci-Fi",
          "DC/Action",
          "DC/Adventure",
          "DC/Animation",
          "DC/Action",
          "DC/Animation",
          "DC/Horror",
          "DC/Action",
          "DC/Animation",
          "DC/Short",
          "DC/Action",
          "DC/Crime",
          "DC/Drama",
          "DC/Action",
          "DC/Adventure",
          "DC/Action",
          "DC/Adventure",
          "DC/Fantasy",
          "Marvel/Action",
          "Marvel/Adventure",
          "Marvel/Drama",
          "DC/Documentary",
          "DC/Action",
          "DC/Adventure",
          "DC/Drama",
          "Marvel/Action",
          "Marvel/Adventure",
          "Marvel/Sci-Fi",
          "Marvel/Action",
          "Marvel/Adventure",
          "Marvel/Animation",
          "DC/Documentary",
          "DC/Documentary",
          "DC/Documentary",
          "DC/Documentary",
          "DC/Short",
          "DC/Action",
          "DC/Adventure",
          "DC/Animation",
          "Marvel/Documentary",
          "Marvel/Action",
          "Marvel/Crime",
          "Marvel/Drama",
          "DC/Documentary",
          "Marvel/Adventure",
          "Marvel/Animation",
          "Marvel/Fantasy",
          "DC/Adventure",
          "DC/Animation",
          "DC/Action",
          "DC/Comedy",
          "DC/Short",
          "Marvel/Action",
          "Marvel/Adventure",
          "Marvel/Fantasy",
          "Marvel/Action",
          "Marvel/Adventure",
          "Marvel/Comedy",
          "Marvel/Action",
          "Marvel/Adventure",
          "Marvel/Animation",
          "Marvel/Action",
          "Marvel/Adventure",
          "Marvel/Fantasy",
          "Marvel/Action",
          "Marvel/Adventure",
          "Marvel/Animation",
          "Marvel/Action",
          "Marvel/Comedy",
          "Marvel/Drama",
          "DC/Action",
          "DC/Drama",
          "DC/Mystery",
          "Marvel/Action",
          "Marvel/Animation",
          "Marvel/Sci-Fi",
          "DC/Action",
          "DC/Adventure",
          "DC/Animation",
          "DC/Action",
          "DC/Adventure",
          "DC/Fantasy",
          "DC/Documentary",
          "DC/Short",
          "DC/Short",
          "Marvel/Action",
          "Marvel/Animation",
          "Marvel/Sci-Fi",
          "Marvel/Action",
          "Marvel/Animation",
          "Marvel/Drama",
          "DC/Documentary",
          "Marvel/Action",
          "Marvel/Adventure",
          "Marvel/Animation",
          "DC",
          "Marvel",
          "DC",
          "Marvel",
          "DC",
          "Marvel",
          "DC",
          "Marvel",
          "DC",
          "Marvel",
          "DC",
          "Marvel",
          "DC",
          "Marvel",
          "Marvel",
          "DC",
          "Marvel",
          "Marvel",
          "DC",
          "Marvel",
          "DC",
          "DC",
          "Marvel",
          "DC",
          "Marvel",
          "DC",
          "Marvel",
          "DC",
          "",
          ""
         ],
         "type": "treemap",
         "values": [
          1,
          1,
          1,
          1,
          1,
          1,
          1,
          1,
          1,
          1,
          1,
          1,
          1,
          1,
          1,
          1,
          1,
          1,
          1,
          1,
          1,
          1,
          1,
          1,
          1,
          1,
          1,
          1,
          1,
          1,
          1,
          1,
          1,
          1,
          1,
          1,
          1,
          1,
          1,
          1,
          1,
          1,
          1,
          1,
          1,
          1,
          1,
          1,
          1,
          1,
          1,
          1,
          1,
          1,
          1,
          1,
          1,
          1,
          1,
          1,
          1,
          1,
          1,
          1,
          1,
          1,
          1,
          1,
          1,
          1,
          1,
          1,
          1,
          1,
          1,
          1,
          1,
          1,
          1,
          1,
          1,
          1,
          1,
          1,
          1,
          1,
          1,
          1,
          1,
          1,
          1,
          1,
          1,
          1,
          1,
          1,
          1,
          1,
          1,
          1,
          1,
          1,
          1,
          1,
          1,
          1,
          1,
          1,
          1,
          1,
          1,
          1,
          1,
          1,
          1,
          1,
          1,
          1,
          1,
          1,
          1,
          1,
          1,
          1,
          1,
          1,
          1,
          1,
          1,
          1,
          1,
          1,
          1,
          1,
          1,
          1,
          1,
          1,
          1,
          1,
          1,
          1,
          1,
          1,
          1,
          1,
          1,
          1,
          1,
          1,
          1,
          1,
          1,
          1,
          1,
          1,
          1,
          1,
          1,
          1,
          1,
          1,
          1,
          1,
          1,
          1,
          1,
          1,
          1,
          1,
          1,
          1,
          1,
          1,
          1,
          1,
          1,
          1,
          1,
          1,
          1,
          1,
          1,
          1,
          1,
          1,
          1,
          1,
          1,
          1,
          1,
          1,
          1,
          1,
          1,
          1,
          1,
          1,
          1,
          1,
          1,
          1,
          1,
          1,
          1,
          1,
          1,
          1,
          1,
          1,
          1,
          1,
          1,
          1,
          1,
          1,
          1,
          1,
          1,
          1,
          1,
          1,
          1,
          1,
          1,
          1,
          1,
          1,
          1,
          1,
          1,
          1,
          1,
          1,
          1,
          1,
          1,
          1,
          1,
          1,
          1,
          1,
          1,
          1,
          1,
          1,
          1,
          1,
          1,
          1,
          1,
          1,
          1,
          1,
          1,
          1,
          1,
          1,
          1,
          1,
          1,
          1,
          1,
          1,
          1,
          1,
          1,
          1,
          1,
          1,
          1,
          1,
          1,
          1,
          1,
          1,
          1,
          1,
          1,
          1,
          1,
          1,
          1,
          1,
          1,
          1,
          1,
          1,
          1,
          1,
          1,
          1,
          1,
          1,
          1,
          1,
          1,
          1,
          1,
          1,
          1,
          1,
          1,
          1,
          1,
          1,
          1,
          1,
          1,
          1,
          1,
          1,
          1,
          1,
          1,
          1,
          1,
          1,
          1,
          1,
          1,
          1,
          1,
          1,
          1,
          1,
          1,
          1,
          1,
          1,
          1,
          1,
          1,
          1,
          1,
          1,
          1,
          1,
          1,
          1,
          1,
          1,
          1,
          1,
          1,
          1,
          1,
          1,
          1,
          1,
          1,
          1,
          1,
          1,
          1,
          1,
          1,
          1,
          1,
          1,
          1,
          1,
          1,
          1,
          1,
          1,
          1,
          1,
          1,
          1,
          1,
          1,
          1,
          1,
          1,
          1,
          1,
          1,
          1,
          1,
          1,
          1,
          1,
          1,
          1,
          1,
          1,
          1,
          1,
          1,
          1,
          1,
          1,
          1,
          1,
          1,
          1,
          1,
          1,
          1,
          1,
          1,
          1,
          1,
          1,
          1,
          1,
          1,
          1,
          1,
          1,
          1,
          1,
          1,
          1,
          1,
          1,
          1,
          1,
          1,
          1,
          1,
          1,
          1,
          1,
          1,
          1,
          1,
          1,
          1,
          1,
          1,
          1,
          1,
          1,
          1,
          1,
          1,
          1,
          1,
          1,
          1,
          1,
          1,
          1,
          1,
          1,
          1,
          1,
          1,
          1,
          1,
          1,
          1,
          1,
          1,
          1,
          1,
          1,
          1,
          1,
          1,
          1,
          1,
          1,
          1,
          1,
          1,
          1,
          1,
          1,
          1,
          1,
          1,
          1,
          1,
          1,
          1,
          1,
          1,
          1,
          1,
          1,
          1,
          1,
          1,
          1,
          1,
          1,
          1,
          56,
          64,
          36,
          51,
          29,
          30,
          5,
          7,
          15,
          4,
          31,
          17,
          11,
          11,
          1,
          13,
          11,
          1,
          3,
          1,
          1,
          1,
          2,
          13,
          24,
          30,
          21,
          1,
          245,
          245
         ]
        }
       ],
       "layout": {
        "coloraxis": {
         "colorbar": {
          "title": {
           "text": "IMDB_Score"
          }
         },
         "colorscale": [
          [
           0,
           "rgb(255,255,229)"
          ],
          [
           0.125,
           "rgb(255,247,188)"
          ],
          [
           0.25,
           "rgb(254,227,145)"
          ],
          [
           0.375,
           "rgb(254,196,79)"
          ],
          [
           0.5,
           "rgb(254,153,41)"
          ],
          [
           0.625,
           "rgb(236,112,20)"
          ],
          [
           0.75,
           "rgb(204,76,2)"
          ],
          [
           0.875,
           "rgb(153,52,4)"
          ],
          [
           1,
           "rgb(102,37,6)"
          ]
         ]
        },
        "legend": {
         "tracegroupgap": 0
        },
        "template": {
         "data": {
          "bar": [
           {
            "error_x": {
             "color": "#2a3f5f"
            },
            "error_y": {
             "color": "#2a3f5f"
            },
            "marker": {
             "line": {
              "color": "#E5ECF6",
              "width": 0.5
             },
             "pattern": {
              "fillmode": "overlay",
              "size": 10,
              "solidity": 0.2
             }
            },
            "type": "bar"
           }
          ],
          "barpolar": [
           {
            "marker": {
             "line": {
              "color": "#E5ECF6",
              "width": 0.5
             },
             "pattern": {
              "fillmode": "overlay",
              "size": 10,
              "solidity": 0.2
             }
            },
            "type": "barpolar"
           }
          ],
          "carpet": [
           {
            "aaxis": {
             "endlinecolor": "#2a3f5f",
             "gridcolor": "white",
             "linecolor": "white",
             "minorgridcolor": "white",
             "startlinecolor": "#2a3f5f"
            },
            "baxis": {
             "endlinecolor": "#2a3f5f",
             "gridcolor": "white",
             "linecolor": "white",
             "minorgridcolor": "white",
             "startlinecolor": "#2a3f5f"
            },
            "type": "carpet"
           }
          ],
          "choropleth": [
           {
            "colorbar": {
             "outlinewidth": 0,
             "ticks": ""
            },
            "type": "choropleth"
           }
          ],
          "contour": [
           {
            "colorbar": {
             "outlinewidth": 0,
             "ticks": ""
            },
            "colorscale": [
             [
              0,
              "#0d0887"
             ],
             [
              0.1111111111111111,
              "#46039f"
             ],
             [
              0.2222222222222222,
              "#7201a8"
             ],
             [
              0.3333333333333333,
              "#9c179e"
             ],
             [
              0.4444444444444444,
              "#bd3786"
             ],
             [
              0.5555555555555556,
              "#d8576b"
             ],
             [
              0.6666666666666666,
              "#ed7953"
             ],
             [
              0.7777777777777778,
              "#fb9f3a"
             ],
             [
              0.8888888888888888,
              "#fdca26"
             ],
             [
              1,
              "#f0f921"
             ]
            ],
            "type": "contour"
           }
          ],
          "contourcarpet": [
           {
            "colorbar": {
             "outlinewidth": 0,
             "ticks": ""
            },
            "type": "contourcarpet"
           }
          ],
          "heatmap": [
           {
            "colorbar": {
             "outlinewidth": 0,
             "ticks": ""
            },
            "colorscale": [
             [
              0,
              "#0d0887"
             ],
             [
              0.1111111111111111,
              "#46039f"
             ],
             [
              0.2222222222222222,
              "#7201a8"
             ],
             [
              0.3333333333333333,
              "#9c179e"
             ],
             [
              0.4444444444444444,
              "#bd3786"
             ],
             [
              0.5555555555555556,
              "#d8576b"
             ],
             [
              0.6666666666666666,
              "#ed7953"
             ],
             [
              0.7777777777777778,
              "#fb9f3a"
             ],
             [
              0.8888888888888888,
              "#fdca26"
             ],
             [
              1,
              "#f0f921"
             ]
            ],
            "type": "heatmap"
           }
          ],
          "heatmapgl": [
           {
            "colorbar": {
             "outlinewidth": 0,
             "ticks": ""
            },
            "colorscale": [
             [
              0,
              "#0d0887"
             ],
             [
              0.1111111111111111,
              "#46039f"
             ],
             [
              0.2222222222222222,
              "#7201a8"
             ],
             [
              0.3333333333333333,
              "#9c179e"
             ],
             [
              0.4444444444444444,
              "#bd3786"
             ],
             [
              0.5555555555555556,
              "#d8576b"
             ],
             [
              0.6666666666666666,
              "#ed7953"
             ],
             [
              0.7777777777777778,
              "#fb9f3a"
             ],
             [
              0.8888888888888888,
              "#fdca26"
             ],
             [
              1,
              "#f0f921"
             ]
            ],
            "type": "heatmapgl"
           }
          ],
          "histogram": [
           {
            "marker": {
             "pattern": {
              "fillmode": "overlay",
              "size": 10,
              "solidity": 0.2
             }
            },
            "type": "histogram"
           }
          ],
          "histogram2d": [
           {
            "colorbar": {
             "outlinewidth": 0,
             "ticks": ""
            },
            "colorscale": [
             [
              0,
              "#0d0887"
             ],
             [
              0.1111111111111111,
              "#46039f"
             ],
             [
              0.2222222222222222,
              "#7201a8"
             ],
             [
              0.3333333333333333,
              "#9c179e"
             ],
             [
              0.4444444444444444,
              "#bd3786"
             ],
             [
              0.5555555555555556,
              "#d8576b"
             ],
             [
              0.6666666666666666,
              "#ed7953"
             ],
             [
              0.7777777777777778,
              "#fb9f3a"
             ],
             [
              0.8888888888888888,
              "#fdca26"
             ],
             [
              1,
              "#f0f921"
             ]
            ],
            "type": "histogram2d"
           }
          ],
          "histogram2dcontour": [
           {
            "colorbar": {
             "outlinewidth": 0,
             "ticks": ""
            },
            "colorscale": [
             [
              0,
              "#0d0887"
             ],
             [
              0.1111111111111111,
              "#46039f"
             ],
             [
              0.2222222222222222,
              "#7201a8"
             ],
             [
              0.3333333333333333,
              "#9c179e"
             ],
             [
              0.4444444444444444,
              "#bd3786"
             ],
             [
              0.5555555555555556,
              "#d8576b"
             ],
             [
              0.6666666666666666,
              "#ed7953"
             ],
             [
              0.7777777777777778,
              "#fb9f3a"
             ],
             [
              0.8888888888888888,
              "#fdca26"
             ],
             [
              1,
              "#f0f921"
             ]
            ],
            "type": "histogram2dcontour"
           }
          ],
          "mesh3d": [
           {
            "colorbar": {
             "outlinewidth": 0,
             "ticks": ""
            },
            "type": "mesh3d"
           }
          ],
          "parcoords": [
           {
            "line": {
             "colorbar": {
              "outlinewidth": 0,
              "ticks": ""
             }
            },
            "type": "parcoords"
           }
          ],
          "pie": [
           {
            "automargin": true,
            "type": "pie"
           }
          ],
          "scatter": [
           {
            "fillpattern": {
             "fillmode": "overlay",
             "size": 10,
             "solidity": 0.2
            },
            "type": "scatter"
           }
          ],
          "scatter3d": [
           {
            "line": {
             "colorbar": {
              "outlinewidth": 0,
              "ticks": ""
             }
            },
            "marker": {
             "colorbar": {
              "outlinewidth": 0,
              "ticks": ""
             }
            },
            "type": "scatter3d"
           }
          ],
          "scattercarpet": [
           {
            "marker": {
             "colorbar": {
              "outlinewidth": 0,
              "ticks": ""
             }
            },
            "type": "scattercarpet"
           }
          ],
          "scattergeo": [
           {
            "marker": {
             "colorbar": {
              "outlinewidth": 0,
              "ticks": ""
             }
            },
            "type": "scattergeo"
           }
          ],
          "scattergl": [
           {
            "marker": {
             "colorbar": {
              "outlinewidth": 0,
              "ticks": ""
             }
            },
            "type": "scattergl"
           }
          ],
          "scattermapbox": [
           {
            "marker": {
             "colorbar": {
              "outlinewidth": 0,
              "ticks": ""
             }
            },
            "type": "scattermapbox"
           }
          ],
          "scatterpolar": [
           {
            "marker": {
             "colorbar": {
              "outlinewidth": 0,
              "ticks": ""
             }
            },
            "type": "scatterpolar"
           }
          ],
          "scatterpolargl": [
           {
            "marker": {
             "colorbar": {
              "outlinewidth": 0,
              "ticks": ""
             }
            },
            "type": "scatterpolargl"
           }
          ],
          "scatterternary": [
           {
            "marker": {
             "colorbar": {
              "outlinewidth": 0,
              "ticks": ""
             }
            },
            "type": "scatterternary"
           }
          ],
          "surface": [
           {
            "colorbar": {
             "outlinewidth": 0,
             "ticks": ""
            },
            "colorscale": [
             [
              0,
              "#0d0887"
             ],
             [
              0.1111111111111111,
              "#46039f"
             ],
             [
              0.2222222222222222,
              "#7201a8"
             ],
             [
              0.3333333333333333,
              "#9c179e"
             ],
             [
              0.4444444444444444,
              "#bd3786"
             ],
             [
              0.5555555555555556,
              "#d8576b"
             ],
             [
              0.6666666666666666,
              "#ed7953"
             ],
             [
              0.7777777777777778,
              "#fb9f3a"
             ],
             [
              0.8888888888888888,
              "#fdca26"
             ],
             [
              1,
              "#f0f921"
             ]
            ],
            "type": "surface"
           }
          ],
          "table": [
           {
            "cells": {
             "fill": {
              "color": "#EBF0F8"
             },
             "line": {
              "color": "white"
             }
            },
            "header": {
             "fill": {
              "color": "#C8D4E3"
             },
             "line": {
              "color": "white"
             }
            },
            "type": "table"
           }
          ]
         },
         "layout": {
          "annotationdefaults": {
           "arrowcolor": "#2a3f5f",
           "arrowhead": 0,
           "arrowwidth": 1
          },
          "autotypenumbers": "strict",
          "coloraxis": {
           "colorbar": {
            "outlinewidth": 0,
            "ticks": ""
           }
          },
          "colorscale": {
           "diverging": [
            [
             0,
             "#8e0152"
            ],
            [
             0.1,
             "#c51b7d"
            ],
            [
             0.2,
             "#de77ae"
            ],
            [
             0.3,
             "#f1b6da"
            ],
            [
             0.4,
             "#fde0ef"
            ],
            [
             0.5,
             "#f7f7f7"
            ],
            [
             0.6,
             "#e6f5d0"
            ],
            [
             0.7,
             "#b8e186"
            ],
            [
             0.8,
             "#7fbc41"
            ],
            [
             0.9,
             "#4d9221"
            ],
            [
             1,
             "#276419"
            ]
           ],
           "sequential": [
            [
             0,
             "#0d0887"
            ],
            [
             0.1111111111111111,
             "#46039f"
            ],
            [
             0.2222222222222222,
             "#7201a8"
            ],
            [
             0.3333333333333333,
             "#9c179e"
            ],
            [
             0.4444444444444444,
             "#bd3786"
            ],
            [
             0.5555555555555556,
             "#d8576b"
            ],
            [
             0.6666666666666666,
             "#ed7953"
            ],
            [
             0.7777777777777778,
             "#fb9f3a"
            ],
            [
             0.8888888888888888,
             "#fdca26"
            ],
            [
             1,
             "#f0f921"
            ]
           ],
           "sequentialminus": [
            [
             0,
             "#0d0887"
            ],
            [
             0.1111111111111111,
             "#46039f"
            ],
            [
             0.2222222222222222,
             "#7201a8"
            ],
            [
             0.3333333333333333,
             "#9c179e"
            ],
            [
             0.4444444444444444,
             "#bd3786"
            ],
            [
             0.5555555555555556,
             "#d8576b"
            ],
            [
             0.6666666666666666,
             "#ed7953"
            ],
            [
             0.7777777777777778,
             "#fb9f3a"
            ],
            [
             0.8888888888888888,
             "#fdca26"
            ],
            [
             1,
             "#f0f921"
            ]
           ]
          },
          "colorway": [
           "#636efa",
           "#EF553B",
           "#00cc96",
           "#ab63fa",
           "#FFA15A",
           "#19d3f3",
           "#FF6692",
           "#B6E880",
           "#FF97FF",
           "#FECB52"
          ],
          "font": {
           "color": "#2a3f5f"
          },
          "geo": {
           "bgcolor": "white",
           "lakecolor": "white",
           "landcolor": "#E5ECF6",
           "showlakes": true,
           "showland": true,
           "subunitcolor": "white"
          },
          "hoverlabel": {
           "align": "left"
          },
          "hovermode": "closest",
          "mapbox": {
           "style": "light"
          },
          "paper_bgcolor": "white",
          "plot_bgcolor": "#E5ECF6",
          "polar": {
           "angularaxis": {
            "gridcolor": "white",
            "linecolor": "white",
            "ticks": ""
           },
           "bgcolor": "#E5ECF6",
           "radialaxis": {
            "gridcolor": "white",
            "linecolor": "white",
            "ticks": ""
           }
          },
          "scene": {
           "xaxis": {
            "backgroundcolor": "#E5ECF6",
            "gridcolor": "white",
            "gridwidth": 2,
            "linecolor": "white",
            "showbackground": true,
            "ticks": "",
            "zerolinecolor": "white"
           },
           "yaxis": {
            "backgroundcolor": "#E5ECF6",
            "gridcolor": "white",
            "gridwidth": 2,
            "linecolor": "white",
            "showbackground": true,
            "ticks": "",
            "zerolinecolor": "white"
           },
           "zaxis": {
            "backgroundcolor": "#E5ECF6",
            "gridcolor": "white",
            "gridwidth": 2,
            "linecolor": "white",
            "showbackground": true,
            "ticks": "",
            "zerolinecolor": "white"
           }
          },
          "shapedefaults": {
           "line": {
            "color": "#2a3f5f"
           }
          },
          "ternary": {
           "aaxis": {
            "gridcolor": "white",
            "linecolor": "white",
            "ticks": ""
           },
           "baxis": {
            "gridcolor": "white",
            "linecolor": "white",
            "ticks": ""
           },
           "bgcolor": "#E5ECF6",
           "caxis": {
            "gridcolor": "white",
            "linecolor": "white",
            "ticks": ""
           }
          },
          "title": {
           "x": 0.05
          },
          "xaxis": {
           "automargin": true,
           "gridcolor": "white",
           "linecolor": "white",
           "ticks": "",
           "title": {
            "standoff": 15
           },
           "zerolinecolor": "white",
           "zerolinewidth": 2
          },
          "yaxis": {
           "automargin": true,
           "gridcolor": "white",
           "linecolor": "white",
           "ticks": "",
           "title": {
            "standoff": 15
           },
           "zerolinecolor": "white",
           "zerolinewidth": 2
          }
         }
        },
        "title": {
         "text": "Marvel and DC film genres"
        }
       }
      }
     },
     "metadata": {},
     "output_type": "display_data"
    }
   ],
   "source": [
    "df_unique = df.drop_duplicates(subset='Movie')\n",
    "df_unique['Genres_List'] = df_unique['Genre'].str.split(',')\n",
    "df_exploded = df_unique.explode('Genres_List')\n",
    "\n",
    "df_exploded_clean = df_exploded.dropna(subset=['Genres_List'])\n",
    "\n",
    "df_exploded_clean = df_exploded_clean[df_exploded_clean['Genres_List'].str.strip() != '']\n",
    "\n",
    "fig = px.treemap(\n",
    "    df_exploded_clean, \n",
    "    path=['dc/marvel', 'Genres_List', 'Movie'],\n",
    "    title='Marvel and DC film genres',\n",
    "    hover_data=['IMDB_Score'], \n",
    "    color='IMDB_Score', \n",
    "    color_continuous_scale='ylorbr'\n",
    ")\n",
    "\n",
    "fig.show()"
   ]
  },
  {
   "cell_type": "code",
   "execution_count": 35,
   "metadata": {},
   "outputs": [
    {
     "data": {
      "text/plain": [
       "Index(['ID', 'Movie', 'Genre', 'IMDB_Score', 'RunTime(Min)', 'StartYear',\n",
       "       'EndYear', 'dc/marvel'],\n",
       "      dtype='object')"
      ]
     },
     "execution_count": 35,
     "metadata": {},
     "output_type": "execute_result"
    }
   ],
   "source": [
    "df.columns"
   ]
  },
  {
   "cell_type": "markdown",
   "metadata": {},
   "source": [
    "## Runtime vs. IMDb Score"
   ]
  },
  {
   "cell_type": "code",
   "execution_count": 36,
   "metadata": {},
   "outputs": [
    {
     "data": {
      "application/vnd.plotly.v1+json": {
       "config": {
        "plotlyServerURL": "https://plot.ly"
       },
       "data": [
        {
         "customdata": [
          [
           "The Falcon and the Winter Soldier"
          ],
          [
           "WandaVision"
          ],
          [
           "Avengers: Endgame"
          ],
          [
           "Spider-Man: Far from Home"
          ],
          [
           "Thor: Ragnarok"
          ],
          [
           "Avengers: Infinity War"
          ],
          [
           "Black Panther"
          ],
          [
           "Captain Marvel"
          ],
          [
           "Spider-Man: Homecoming"
          ],
          [
           "Avengers: Age of Ultron"
          ],
          [
           "Captain America: The First Avenger"
          ],
          [
           "Thor"
          ],
          [
           "Iron Man"
          ],
          [
           "Captain America: Civil War"
          ],
          [
           "The Avengers"
          ],
          [
           "Doctor Strange"
          ],
          [
           "Ant-Man"
          ],
          [
           "Captain America: The Winter Soldier"
          ],
          [
           "Iron Man 3"
          ],
          [
           "Thor: The Dark World"
          ],
          [
           "Iron Man 2"
          ],
          [
           "Spider-Man 3"
          ],
          [
           "Ant-Man and the Wasp"
          ],
          [
           "The Incredible Hulk"
          ],
          [
           "Fantastic 4: Rise of the Silver Surfer"
          ],
          [
           "Punisher: War Zone"
          ],
          [
           "Mutant X"
          ],
          [
           "X-Men"
          ],
          [
           "Iron Man: Armored Adventures"
          ],
          [
           "Team Thor"
          ],
          [
           "Hulk Vs."
          ],
          [
           "Wolverine"
          ],
          [
           "Avengers: Damage Control"
          ],
          [
           "Ultimate Avengers: The Movie"
          ],
          [
           "Iron Man"
          ],
          [
           "The Invincible Iron Man"
          ],
          [
           "Blade"
          ],
          [
           "Iron Man"
          ],
          [
           "Thor: Tales of Asgard"
          ],
          [
           "Iron Man 2"
          ],
          [
           "Iron Man and Captain America: Heroes United"
          ],
          [
           "Iron Man & Hulk: Heroes United"
          ],
          [
           "Lego Marvel Avengers: Climate Conundrum"
          ],
          [
           "Marvel Studios: Expanding the Universe"
          ],
          [
           "Marvel Studios: Assembling a Universe"
          ],
          [
           "Spider-Man Venom Saga"
          ],
          [
           "Spider-Man: The Ultimate Villain Showdown"
          ],
          [
           "Avengers S.T.A.T.I.O.N."
          ],
          [
           "Iron Man 3: The Prologue"
          ],
          [
           "Captain America: Civil War Save a Hero Campaign"
          ],
          [
           "Mutant X"
          ],
          [
           "Mutant X"
          ],
          [
           "Mutant X"
          ],
          [
           "Mutant X"
          ],
          [
           "Mutant X"
          ],
          [
           "Mutant X"
          ],
          [
           "Mutant X"
          ],
          [
           "Mutant X"
          ],
          [
           "Mutant X"
          ],
          [
           "Mutant X"
          ],
          [
           "Mutant X"
          ],
          [
           "Mutant X"
          ],
          [
           "Mutant X"
          ],
          [
           "Mutant X"
          ],
          [
           "Mutant X"
          ],
          [
           "Mutant X"
          ],
          [
           "Mutant X"
          ],
          [
           "Mutant X"
          ],
          [
           "Mutant X"
          ],
          [
           "Mutant X"
          ],
          [
           "Mutant X"
          ],
          [
           "Mutant X"
          ],
          [
           "Mutant X"
          ],
          [
           "Mutant X"
          ],
          [
           "Mutant X"
          ],
          [
           "Mutant X"
          ],
          [
           "Mutant X"
          ],
          [
           "Mutant X"
          ],
          [
           "Mutant X"
          ],
          [
           "Mutant X"
          ],
          [
           "Mutant X"
          ],
          [
           "Mutant X"
          ],
          [
           "Mutant X"
          ],
          [
           "Mutant X"
          ],
          [
           "Mutant X"
          ],
          [
           "Mutant X"
          ],
          [
           "Mutant X"
          ],
          [
           "Mutant X"
          ],
          [
           "Mutant X"
          ],
          [
           "Mutant X"
          ],
          [
           "Mutant X"
          ],
          [
           "Mutant X"
          ],
          [
           "Mutant X"
          ],
          [
           "Mutant X"
          ],
          [
           "Mutant X"
          ],
          [
           "Mutant X"
          ],
          [
           "Mutant X"
          ],
          [
           "Mutant X"
          ],
          [
           "Mutant X"
          ],
          [
           "Mutant X"
          ],
          [
           "Mutant X"
          ],
          [
           "Mutant X"
          ],
          [
           "Mutant X"
          ],
          [
           "Mutant X"
          ],
          [
           "Mutant X"
          ],
          [
           "Mutant X"
          ],
          [
           "Mutant X"
          ],
          [
           "Mutant X"
          ],
          [
           "Mutant X"
          ],
          [
           "Mutant X"
          ],
          [
           "Mutant X"
          ],
          [
           "Mutant X"
          ],
          [
           "Mutant X"
          ],
          [
           "Mutant X"
          ],
          [
           "Mutant X"
          ],
          [
           "X-Men: Evolution"
          ],
          [
           "X-Men: Evolution"
          ],
          [
           "X-Men: Evolution"
          ],
          [
           "Mutant X"
          ],
          [
           "X-Men: Evolution"
          ],
          [
           "WandaVision"
          ],
          [
           "WandaVision"
          ],
          [
           "WandaVision"
          ],
          [
           "WandaVision"
          ],
          [
           "WandaVision"
          ],
          [
           "WandaVision"
          ],
          [
           "WandaVision"
          ],
          [
           "WandaVision"
          ],
          [
           "Jessica Jones"
          ],
          [
           "Luke Cage"
          ],
          [
           "Luke Cage"
          ],
          [
           "Luke Cage"
          ],
          [
           "Luke Cage"
          ],
          [
           "Luke Cage"
          ],
          [
           "Luke Cage"
          ],
          [
           "Luke Cage"
          ],
          [
           "Luke Cage"
          ],
          [
           "Luke Cage"
          ],
          [
           "Luke Cage"
          ],
          [
           "Luke Cage"
          ],
          [
           "Luke Cage"
          ],
          [
           "Luke Cage"
          ],
          [
           "Agents of S.H.I.E.L.D."
          ],
          [
           "Agents of S.H.I.E.L.D."
          ],
          [
           "Agents of S.H.I.E.L.D."
          ],
          [
           "Agents of S.H.I.E.L.D."
          ],
          [
           "Agents of S.H.I.E.L.D."
          ],
          [
           "Agents of S.H.I.E.L.D."
          ],
          [
           "Agents of S.H.I.E.L.D."
          ],
          [
           "Agents of S.H.I.E.L.D."
          ],
          [
           "Agents of S.H.I.E.L.D."
          ],
          [
           "Agents of S.H.I.E.L.D."
          ],
          [
           "Agents of S.H.I.E.L.D."
          ],
          [
           "Agents of S.H.I.E.L.D."
          ],
          [
           "Agents of S.H.I.E.L.D."
          ],
          [
           "Agents of S.H.I.E.L.D."
          ],
          [
           "Agents of S.H.I.E.L.D."
          ],
          [
           "Agents of S.H.I.E.L.D."
          ],
          [
           "Agents of S.H.I.E.L.D."
          ],
          [
           "Agents of S.H.I.E.L.D."
          ],
          [
           "Agents of S.H.I.E.L.D."
          ],
          [
           "Agents of S.H.I.E.L.D."
          ],
          [
           "Agents of S.H.I.E.L.D."
          ],
          [
           "Agents of S.H.I.E.L.D."
          ],
          [
           "Jessica Jones"
          ],
          [
           "Jessica Jones"
          ],
          [
           "Agents of S.H.I.E.L.D."
          ],
          [
           "The Punisher"
          ],
          [
           "The Punisher"
          ],
          [
           "The Punisher"
          ],
          [
           "The Punisher"
          ],
          [
           "The Punisher"
          ],
          [
           "The Punisher"
          ],
          [
           "The Punisher"
          ],
          [
           "The Punisher"
          ],
          [
           "The Punisher"
          ],
          [
           "The Punisher"
          ],
          [
           "The Punisher"
          ],
          [
           "The Punisher"
          ],
          [
           "The Punisher"
          ],
          [
           "Agents of S.H.I.E.L.D."
          ],
          [
           "Agents of S.H.I.E.L.D."
          ],
          [
           "Agents of S.H.I.E.L.D."
          ],
          [
           "Agents of S.H.I.E.L.D."
          ],
          [
           "Agents of S.H.I.E.L.D."
          ],
          [
           "Agents of S.H.I.E.L.D."
          ],
          [
           "Agents of S.H.I.E.L.D."
          ],
          [
           "Agents of S.H.I.E.L.D."
          ],
          [
           "Agents of S.H.I.E.L.D."
          ],
          [
           "Agents of S.H.I.E.L.D."
          ],
          [
           "Agents of S.H.I.E.L.D."
          ],
          [
           "Agents of S.H.I.E.L.D."
          ],
          [
           "Agents of S.H.I.E.L.D."
          ],
          [
           "Agents of S.H.I.E.L.D."
          ],
          [
           "Agents of S.H.I.E.L.D."
          ],
          [
           "Agents of S.H.I.E.L.D."
          ],
          [
           "Agents of S.H.I.E.L.D."
          ],
          [
           "Agents of S.H.I.E.L.D."
          ],
          [
           "Agents of S.H.I.E.L.D."
          ],
          [
           "Agents of S.H.I.E.L.D."
          ],
          [
           "Agents of S.H.I.E.L.D."
          ],
          [
           "Agents of S.H.I.E.L.D."
          ],
          [
           "Agents of S.H.I.E.L.D."
          ],
          [
           "Agents of S.H.I.E.L.D."
          ],
          [
           "Agents of S.H.I.E.L.D."
          ],
          [
           "Agents of S.H.I.E.L.D."
          ],
          [
           "Agents of S.H.I.E.L.D."
          ],
          [
           "Agents of S.H.I.E.L.D."
          ],
          [
           "Agents of S.H.I.E.L.D."
          ],
          [
           "Agents of S.H.I.E.L.D."
          ],
          [
           "Agents of S.H.I.E.L.D."
          ],
          [
           "Agents of S.H.I.E.L.D."
          ],
          [
           "Agents of S.H.I.E.L.D."
          ],
          [
           "Agents of S.H.I.E.L.D."
          ],
          [
           "Agents of S.H.I.E.L.D."
          ],
          [
           "Agents of S.H.I.E.L.D."
          ],
          [
           "Agents of S.H.I.E.L.D."
          ],
          [
           "Agents of S.H.I.E.L.D."
          ],
          [
           "Agents of S.H.I.E.L.D."
          ],
          [
           "Agents of S.H.I.E.L.D."
          ],
          [
           "Agents of S.H.I.E.L.D."
          ],
          [
           "Agents of S.H.I.E.L.D."
          ],
          [
           "Agents of S.H.I.E.L.D."
          ],
          [
           "Agents of S.H.I.E.L.D."
          ],
          [
           "Agents of S.H.I.E.L.D."
          ],
          [
           "Agents of S.H.I.E.L.D."
          ],
          [
           "Agents of S.H.I.E.L.D."
          ],
          [
           "Agents of S.H.I.E.L.D."
          ],
          [
           "Agents of S.H.I.E.L.D."
          ],
          [
           "Agents of S.H.I.E.L.D."
          ],
          [
           "Agents of S.H.I.E.L.D."
          ],
          [
           "Agents of S.H.I.E.L.D."
          ],
          [
           "Agents of S.H.I.E.L.D."
          ],
          [
           "Agents of S.H.I.E.L.D."
          ],
          [
           "Agents of S.H.I.E.L.D."
          ],
          [
           "Agents of S.H.I.E.L.D."
          ],
          [
           "The Falcon and the Winter Soldier"
          ],
          [
           "The Falcon and the Winter Soldier"
          ],
          [
           "The Falcon and the Winter Soldier"
          ],
          [
           "The Falcon and the Winter Soldier"
          ],
          [
           "The Falcon and the Winter Soldier"
          ],
          [
           "The Falcon and the Winter Soldier"
          ],
          [
           "Agents of S.H.I.E.L.D."
          ],
          [
           "Agents of S.H.I.E.L.D."
          ],
          [
           "Agents of S.H.I.E.L.D."
          ],
          [
           "Agents of S.H.I.E.L.D."
          ],
          [
           "Agents of S.H.I.E.L.D."
          ],
          [
           "Agents of S.H.I.E.L.D."
          ],
          [
           "Agents of S.H.I.E.L.D."
          ],
          [
           "Agents of S.H.I.E.L.D."
          ],
          [
           "Agents of S.H.I.E.L.D."
          ],
          [
           "Agents of S.H.I.E.L.D."
          ],
          [
           "Agents of S.H.I.E.L.D."
          ],
          [
           "Agents of S.H.I.E.L.D."
          ],
          [
           "Agents of S.H.I.E.L.D."
          ],
          [
           "WandaVision"
          ],
          [
           "Batman v Superman: Dawn of Justice"
          ],
          [
           "Justice Society: World War II"
          ],
          [
           "Young Justice"
          ],
          [
           "Justice League Unlimited"
          ],
          [
           "Justice League"
          ],
          [
           "Justice League: The Flashpoint Paradox"
          ],
          [
           "Justice League: War"
          ],
          [
           "Justice League vs. Teen Titans"
          ],
          [
           "Justice League: Throne of Atlantis"
          ],
          [
           "DC Super Hero Girls"
          ],
          [
           "Lego Batman: The Movie - DC Super Heroes Unite"
          ],
          [
           "Mortal Kombat vs. DC Universe"
          ],
          [
           "JLA Adventures: Trapped in Time"
          ],
          [
           "Justice League: Gods and Monsters Chronicles"
          ],
          [
           "The Super Powers Team: Galactic Guardians"
          ],
          [
           "LEGO DC Comics Super Heroes: Aquaman - Rage of Atlantis"
          ],
          [
           "SuperFriends: The Legendary Super Powers Show"
          ],
          [
           "The Omen Legacy"
          ],
          [
           "Necessary Evil: Super-Villains of DC Comics"
          ],
          [
           "Dark Justice"
          ],
          [
           "Aquaman: Battle for Atlantis"
          ],
          [
           "Batman Returns Villains: Catwoman"
          ],
          [
           "Batman Heroes: Harvey Dent"
          ],
          [
           "Batman Villains: Bob the Goon"
          ],
          [
           "Smallville: Justice and Doom"
          ],
          [
           "Batman Returns Villains: The Penguin"
          ],
          [
           "Justice League: Alien Invasion"
          ],
          [
           "Batman Returns Heroes: Alfred"
          ],
          [
           "Batman Returns Villains: Max Shreck"
          ],
          [
           "Batman Returns Heroes: Batman"
          ],
          [
           "Batman Heroes: Vicki Vale"
          ],
          [
           "Shadows of the Bat: The Cinematic Saga of the Dark Knight - Reinventing a Hero"
          ],
          [
           "Batman Heroes: Alexander Knox"
          ],
          [
           "Batman Heroes: Commissioner Gordon"
          ],
          [
           "Superman II: Restoring the Vision"
          ],
          [
           "A Sneek Peak at Justice League: Doom"
          ],
          [
           "Aquaman: War of the Water Worlds"
          ],
          [
           "Justice League"
          ],
          [
           "Justice League"
          ],
          [
           "Justice League"
          ],
          [
           "Justice League"
          ],
          [
           "Justice League Unlimited"
          ],
          [
           "Justice League"
          ],
          [
           "Justice League Unlimited"
          ],
          [
           "Justice League Unlimited"
          ],
          [
           "Justice League Unlimited"
          ],
          [
           "Justice League Unlimited"
          ],
          [
           "Justice League"
          ],
          [
           "Justice League"
          ],
          [
           "Justice League Unlimited"
          ],
          [
           "Justice League Unlimited"
          ],
          [
           "Justice League Unlimited"
          ],
          [
           "Justice League Unlimited"
          ],
          [
           "Justice League Unlimited"
          ],
          [
           "Justice League"
          ],
          [
           "Justice League"
          ],
          [
           "Justice League Unlimited"
          ],
          [
           "Justice League"
          ],
          [
           "Justice League"
          ],
          [
           "Justice League"
          ],
          [
           "Justice League"
          ],
          [
           "Justice League Unlimited"
          ],
          [
           "Justice League Unlimited"
          ],
          [
           "Justice League"
          ],
          [
           "Justice League"
          ],
          [
           "Justice League Unlimited"
          ],
          [
           "Justice League"
          ],
          [
           "Justice League"
          ],
          [
           "Justice League Unlimited"
          ],
          [
           "Justice League"
          ],
          [
           "Justice League"
          ],
          [
           "Justice League"
          ],
          [
           "Justice League"
          ],
          [
           "Justice League"
          ],
          [
           "Justice League"
          ],
          [
           "Justice League Unlimited"
          ],
          [
           "Justice League Unlimited"
          ],
          [
           "Justice League"
          ],
          [
           "Justice League"
          ],
          [
           "Justice League Unlimited"
          ],
          [
           "Justice League"
          ],
          [
           "Justice League"
          ],
          [
           "Justice League Unlimited"
          ],
          [
           "Justice League Unlimited"
          ],
          [
           "Justice League"
          ],
          [
           "Justice League"
          ],
          [
           "Justice League"
          ],
          [
           "Justice League"
          ],
          [
           "Justice League"
          ],
          [
           "Justice League Unlimited"
          ],
          [
           "Justice League"
          ],
          [
           "Justice League"
          ],
          [
           "Justice League"
          ],
          [
           "Justice League"
          ],
          [
           "Justice League"
          ],
          [
           "Justice League Unlimited"
          ],
          [
           "Justice League Unlimited"
          ],
          [
           "Justice League"
          ],
          [
           "Justice League"
          ],
          [
           "Justice League Unlimited"
          ],
          [
           "Justice League Unlimited"
          ],
          [
           "Justice League Unlimited"
          ],
          [
           "Justice League"
          ],
          [
           "Justice League"
          ],
          [
           "Justice League Unlimited"
          ],
          [
           "Justice League Unlimited"
          ],
          [
           "Justice League Unlimited"
          ],
          [
           "Justice League"
          ],
          [
           "Justice League"
          ],
          [
           "Justice League"
          ],
          [
           "Justice League"
          ],
          [
           "Justice League"
          ],
          [
           "Justice League Unlimited"
          ],
          [
           "Justice League Unlimited"
          ],
          [
           "Justice League Unlimited"
          ],
          [
           "Justice League"
          ],
          [
           "Justice League"
          ],
          [
           "Justice League Unlimited"
          ],
          [
           "Justice League Unlimited"
          ],
          [
           "Justice League"
          ],
          [
           "Justice League"
          ],
          [
           "Justice League"
          ],
          [
           "Justice League"
          ],
          [
           "Justice League Unlimited"
          ],
          [
           "Justice League Unlimited"
          ],
          [
           "Justice League Unlimited"
          ],
          [
           "Justice League Unlimited"
          ],
          [
           "Justice League Unlimited"
          ],
          [
           "Heroes"
          ],
          [
           "Heroes"
          ],
          [
           "Young Justice"
          ],
          [
           "Young Justice"
          ],
          [
           "Young Justice"
          ],
          [
           "Young Justice"
          ],
          [
           "Young Justice"
          ],
          [
           "Young Justice"
          ],
          [
           "Young Justice"
          ],
          [
           "Young Justice"
          ],
          [
           "Young Justice"
          ],
          [
           "Young Justice"
          ],
          [
           "Young Justice"
          ],
          [
           "Young Justice"
          ],
          [
           "Young Justice"
          ],
          [
           "Young Justice"
          ],
          [
           "Young Justice"
          ],
          [
           "Young Justice"
          ],
          [
           "Young Justice"
          ],
          [
           "Young Justice"
          ],
          [
           "Young Justice"
          ],
          [
           "Young Justice"
          ],
          [
           "Young Justice"
          ],
          [
           "Young Justice"
          ],
          [
           "Young Justice"
          ],
          [
           "Young Justice"
          ],
          [
           "Young Justice"
          ],
          [
           "Young Justice"
          ],
          [
           "Young Justice"
          ],
          [
           "Young Justice"
          ],
          [
           "Young Justice"
          ],
          [
           "Young Justice"
          ],
          [
           "Young Justice"
          ],
          [
           "Young Justice"
          ],
          [
           "Young Justice"
          ],
          [
           "Young Justice"
          ],
          [
           "Young Justice"
          ],
          [
           "Young Justice"
          ],
          [
           "Young Justice"
          ],
          [
           "Young Justice"
          ],
          [
           "Young Justice"
          ],
          [
           "Young Justice"
          ],
          [
           "Young Justice"
          ],
          [
           "Young Justice"
          ],
          [
           "Young Justice"
          ],
          [
           "Young Justice"
          ],
          [
           "Young Justice"
          ],
          [
           "Young Justice"
          ],
          [
           "Baggage Battles"
          ],
          [
           "Storage Wars"
          ],
          [
           "Legends of the Superheroes"
          ],
          [
           "Legends of the Superheroes"
          ],
          [
           "Storage Wars"
          ],
          [
           "Justice League: Gods and Monsters Chronicles"
          ],
          [
           "DC Super Hero Girls"
          ],
          [
           "DC Super Hero Girls"
          ],
          [
           "DC Super Hero Girls"
          ],
          [
           "DC Super Hero Girls"
          ],
          [
           "DC Super Hero Girls"
          ],
          [
           "DC Super Hero Girls"
          ],
          [
           "DC Super Hero Girls"
          ],
          [
           "DC Super Hero Girls"
          ],
          [
           "DC Super Hero Girls"
          ],
          [
           "DC Super Hero Girls"
          ],
          [
           "DC Super Hero Girls"
          ],
          [
           "DC Super Hero Girls"
          ],
          [
           "DC Super Hero Girls"
          ],
          [
           "Powerless"
          ],
          [
           "Young Justice"
          ],
          [
           "Powerless"
          ],
          [
           "Powerless"
          ],
          [
           "Powerless"
          ],
          [
           "DC Super Hero Girls"
          ],
          [
           "Young Justice"
          ],
          [
           "Young Justice"
          ],
          [
           "Young Justice"
          ],
          [
           "Young Justice"
          ],
          [
           "Young Justice"
          ],
          [
           "Young Justice"
          ],
          [
           "Young Justice"
          ],
          [
           "Young Justice"
          ],
          [
           "Young Justice"
          ],
          [
           "Young Justice"
          ],
          [
           "Young Justice"
          ],
          [
           "Young Justice"
          ],
          [
           "Young Justice"
          ],
          [
           "Young Justice"
          ],
          [
           "Young Justice"
          ],
          [
           "Young Justice"
          ],
          [
           "Young Justice"
          ],
          [
           "Young Justice"
          ],
          [
           "Young Justice"
          ],
          [
           "Young Justice"
          ],
          [
           "Young Justice"
          ],
          [
           "Young Justice"
          ],
          [
           "Young Justice"
          ],
          [
           "Young Justice"
          ],
          [
           "Young Justice"
          ],
          [
           "DC Super Hero Girls"
          ]
         ],
         "hovertemplate": "dc/marvel=Marvel<br>Runtime (Minutes)=%{x}<br>IMDb Score=%{y}<br>Movie=%{customdata[0]}<extra></extra>",
         "legendgroup": "Marvel",
         "marker": {
          "color": "#636efa",
          "symbol": "circle"
         },
         "mode": "markers",
         "name": "Marvel",
         "showlegend": true,
         "type": "scattergl",
         "x": [
          "50",
          "350",
          "181",
          "129",
          "130",
          "149",
          "134",
          "123",
          "133",
          "141",
          "124",
          "115",
          "126",
          "147",
          "143",
          "115",
          "117",
          "136",
          "130",
          "112",
          "124",
          "139",
          "118",
          "112",
          "92",
          "103",
          "60",
          "0",
          "22",
          "4",
          "82",
          "23",
          "0",
          "72",
          "25",
          "83",
          "25",
          "0",
          "77",
          "0",
          "71",
          "71",
          "30",
          "12",
          "43",
          "100",
          "79",
          "0",
          "0",
          "0",
          "42",
          "43",
          "43",
          "42",
          "43",
          "43",
          "42",
          "42",
          "43",
          "43",
          "43",
          "42",
          "42",
          "43",
          "42",
          "43",
          "43",
          "42",
          "43",
          "43",
          "43",
          "42",
          "43",
          "42",
          "43",
          "42",
          "43",
          "42",
          "43",
          "42",
          "42",
          "43",
          "42",
          "43",
          "43",
          "43",
          "42",
          "43",
          "43",
          "43",
          "43",
          "43",
          "42",
          "43",
          "43",
          "43",
          "43",
          "43",
          "43",
          "43",
          "43",
          "43",
          "43",
          "43",
          "42",
          "43",
          "43",
          "43",
          "43",
          "43",
          "43",
          "43",
          "42",
          "43",
          "43",
          "22",
          "22",
          "22",
          "43",
          "22",
          "37",
          "33",
          "35",
          "42",
          "38",
          "38",
          "47",
          "50",
          "52",
          "55",
          "59",
          "57",
          "53",
          "52",
          "54",
          "52",
          "49",
          "66",
          "48",
          "52",
          "63",
          "46",
          "44",
          "43",
          "42",
          "43",
          "43",
          "42",
          "43",
          "43",
          "43",
          "42",
          "43",
          "43",
          "42",
          "42",
          "43",
          "43",
          "43",
          "42",
          "41",
          "43",
          "43",
          "43",
          "54",
          "56",
          "43",
          "51",
          "57",
          "58",
          "49",
          "55",
          "55",
          "49",
          "53",
          "54",
          "49",
          "52",
          "51",
          "55",
          "43",
          "42",
          "43",
          "42",
          "41",
          "43",
          "42",
          "43",
          "42",
          "42",
          "42",
          "43",
          "42",
          "43",
          "42",
          "43",
          "43",
          "43",
          "41",
          "43",
          "43",
          "42",
          "43",
          "42",
          "43",
          "42",
          "42",
          "40",
          "42",
          "41",
          "42",
          "42",
          "43",
          "42",
          "42",
          "43",
          "42",
          "42",
          "41",
          "42",
          "42",
          "43",
          "43",
          "42",
          "43",
          "43",
          "41",
          "42",
          "42",
          "42",
          "42",
          "42",
          "42",
          "42",
          "41",
          "43",
          "47",
          "47",
          "51",
          "53",
          "57",
          "49",
          "43",
          "42",
          "42",
          "43",
          "42",
          "43",
          "43",
          "42",
          "43",
          "41",
          "43",
          "43",
          "43",
          "30",
          "152",
          "84",
          "23",
          "23",
          "22",
          "75",
          "79",
          "78",
          "72",
          "3",
          "71",
          "0",
          "52",
          "6",
          "30",
          "77",
          "30",
          "100",
          "99",
          "11",
          "0",
          "5",
          "2",
          "2",
          "0",
          "4",
          "12",
          "4",
          "2",
          "3",
          "2",
          "28",
          "2",
          "2",
          "13",
          "10",
          "0",
          "22",
          "24",
          "22",
          "22",
          "24",
          "24",
          "23",
          "24",
          "24",
          "23",
          "30",
          "22",
          "24",
          "24",
          "30",
          "23",
          "21",
          "22",
          "22",
          "23",
          "23",
          "24",
          "23",
          "24",
          "24",
          "24",
          "22",
          "23",
          "24",
          "22",
          "22",
          "24",
          "22",
          "22",
          "24",
          "23",
          "22",
          "22",
          "24",
          "24",
          "23",
          "22",
          "23",
          "22",
          "22",
          "23",
          "25",
          "21",
          "23",
          "22",
          "23",
          "22",
          "24",
          "23",
          "24",
          "24",
          "22",
          "23",
          "24",
          "23",
          "22",
          "22",
          "24",
          "23",
          "23",
          "22",
          "22",
          "24",
          "23",
          "24",
          "22",
          "23",
          "23",
          "30",
          "30",
          "23",
          "23",
          "23",
          "23",
          "24",
          "24",
          "24",
          "22",
          "22",
          "30",
          "30",
          "23",
          "24",
          "23",
          "24",
          "23",
          "42",
          "41",
          "22",
          "22",
          "22",
          "22",
          "22",
          "22",
          "22",
          "22",
          "22",
          "22",
          "22",
          "22",
          "22",
          "22",
          "22",
          "22",
          "22",
          "22",
          "22",
          "22",
          "22",
          "22",
          "22",
          "22",
          "22",
          "22",
          "20",
          "22",
          "22",
          "22",
          "22",
          "22",
          "22",
          "22",
          "22",
          "22",
          "22",
          "22",
          "22",
          "22",
          "22",
          "22",
          "22",
          "22",
          "22",
          "20",
          "21",
          "22",
          "0",
          "0",
          "22",
          "6",
          "0",
          "0",
          "0",
          "0",
          "0",
          "0",
          "0",
          "0",
          "0",
          "0",
          "0",
          "0",
          "0",
          "22",
          "24",
          "21",
          "21",
          "22",
          "0",
          "23",
          "22",
          "21",
          "22",
          "23",
          "24",
          "21",
          "21",
          "21",
          "21",
          "22",
          "22",
          "0",
          "22",
          "23",
          "22",
          "23",
          "22",
          "24",
          "23",
          "22",
          "24",
          "22",
          "23",
          "26",
          "0"
         ],
         "xaxis": "x",
         "y": [
          7.5,
          8.1,
          8.4,
          7.5,
          7.9,
          8.4,
          7.3,
          6.9,
          7.4,
          7.3,
          6.9,
          7,
          7.9,
          7.8,
          8,
          7.5,
          7.3,
          7.7,
          7.1,
          6.9,
          7,
          6.2,
          7,
          6.7,
          5.6,
          5.9,
          5.9,
          6.9,
          6.5,
          8.1,
          7,
          6.4,
          6.6,
          6.7,
          6.4,
          5.9,
          6.5,
          6.9,
          6.3,
          6.2,
          5.5,
          4.7,
          7.3,
          6.8,
          7.4,
          7.7,
          7,
          7.4,
          6.2,
          6,
          7.1,
          5.6,
          5.4,
          6.8,
          6.1,
          6.4,
          6.5,
          6.2,
          5.9,
          6.1,
          5.4,
          6.3,
          6,
          5.9,
          6.5,
          6.5,
          6.1,
          6.3,
          5.7,
          6.1,
          5.7,
          6.4,
          6.4,
          6.3,
          6.5,
          6.1,
          6.4,
          4,
          6.7,
          6.4,
          6.5,
          5.7,
          6.7,
          6.5,
          5.6,
          6.3,
          7.1,
          7.4,
          7.6,
          6.8,
          6,
          6,
          6.2,
          6,
          6,
          6.1,
          6,
          5.6,
          6.7,
          6.2,
          5.5,
          5.9,
          6.1,
          5.2,
          6.3,
          6.1,
          6.2,
          5.5,
          6.1,
          4.9,
          6,
          5,
          6.8,
          6.1,
          6.9,
          7.5,
          7.5,
          6.9,
          5.6,
          7.7,
          7.8,
          8.2,
          8.9,
          9.1,
          8.9,
          8.5,
          9,
          8.4,
          8,
          7.7,
          8.2,
          8.3,
          8.4,
          7.9,
          8,
          8.4,
          8,
          7.8,
          7.9,
          8.3,
          8.1,
          7.8,
          8.6,
          8.7,
          8.1,
          8.3,
          9.3,
          8.4,
          8.5,
          9,
          9,
          9.1,
          8.1,
          8.1,
          8.8,
          7.7,
          8.7,
          8.2,
          9,
          8.3,
          8.2,
          8.6,
          8.6,
          9.1,
          7.6,
          7.5,
          8.4,
          8.6,
          8.3,
          8.5,
          8.4,
          8.7,
          8.3,
          8.7,
          8.8,
          9,
          9.2,
          9.3,
          9.5,
          9.2,
          8.1,
          8.3,
          8.5,
          8.3,
          8.9,
          8.9,
          8.7,
          8.4,
          8.2,
          8.5,
          8.2,
          8.1,
          8.3,
          9.5,
          9.2,
          8.9,
          9.1,
          8.7,
          9.1,
          9.2,
          9.2,
          9,
          8.8,
          8.3,
          8.4,
          9.2,
          9,
          8.4,
          8.4,
          8.4,
          8.7,
          8.6,
          9.2,
          8.2,
          9.1,
          8.6,
          8.4,
          8.2,
          8.4,
          8.7,
          8.4,
          8.6,
          9.3,
          8.1,
          8.1,
          8.5,
          7.9,
          8.1,
          9,
          8,
          8.5,
          8.6,
          8.6,
          8.2,
          8.5,
          8.7,
          7.8,
          7.9,
          8,
          8.8,
          8,
          7.9,
          8.4,
          8.2,
          8.6,
          8.8,
          8.5,
          8.5,
          8,
          8,
          9.6,
          8.3,
          8.4,
          9.1,
          9.5,
          7.5,
          6.4,
          6.4,
          8.6,
          8.7,
          8.5,
          8.1,
          7.2,
          7,
          6.7,
          6,
          6.5,
          6.8,
          5.8,
          7.7,
          7.6,
          5.7,
          7.4,
          6.7,
          6.8,
          5.9,
          3.5,
          6.6,
          6.1,
          7.3,
          6.5,
          6.2,
          8.1,
          6.8,
          6.2,
          6.5,
          7,
          6.6,
          6.2,
          6,
          7.9,
          6,
          7.8,
          8.8,
          8.9,
          7.6,
          7.7,
          7.1,
          8,
          7.6,
          8,
          9.3,
          8.4,
          7.4,
          7.7,
          9.2,
          7.8,
          8.6,
          8.9,
          8.6,
          7.4,
          7.4,
          6.6,
          7.3,
          7.4,
          8.8,
          9,
          7.4,
          7.9,
          7.3,
          7.5,
          7.6,
          8.4,
          8.6,
          8,
          8.5,
          8.7,
          7.4,
          7.7,
          7.4,
          7.4,
          8.7,
          8.5,
          8.2,
          8.5,
          9,
          7.5,
          7.7,
          7.9,
          9,
          8,
          7.9,
          8.1,
          8.3,
          8.2,
          7.6,
          8.6,
          8.8,
          9.2,
          8.1,
          8.4,
          8.4,
          7.7,
          7.5,
          7.6,
          8,
          8.3,
          8.6,
          7.6,
          7.9,
          8.6,
          8.1,
          8.5,
          8.4,
          8.2,
          8.4,
          7.8,
          8.1,
          7.5,
          7.8,
          7.4,
          8.1,
          8.4,
          7.8,
          8.2,
          7.3,
          7.4,
          8.7,
          8.9,
          7.9,
          7.8,
          8.7,
          9.3,
          7.9,
          7,
          6.9,
          8.5,
          8.6,
          8.3,
          8.4,
          7.9,
          8.6,
          8.4,
          8.2,
          8.7,
          8.6,
          9,
          8.7,
          8.4,
          8.8,
          8.8,
          9.3,
          8.2,
          8.3,
          8.8,
          9.5,
          9.3,
          8.7,
          8.6,
          9.1,
          8.5,
          9.2,
          9.3,
          8.7,
          8.2,
          8.8,
          8.4,
          9.3,
          8.6,
          9,
          9.1,
          9.1,
          8.5,
          8.6,
          8.8,
          8.5,
          9.2,
          9.2,
          9,
          9.6,
          9,
          9.4,
          7.4,
          6.9,
          6.1,
          5.7,
          6.8,
          7.8,
          6.9,
          6.8,
          6.5,
          6.7,
          6.2,
          6.6,
          6.8,
          6.8,
          6.4,
          6.5,
          6.3,
          6.9,
          6.9,
          7,
          8.8,
          8,
          7.8,
          7.8,
          6.6,
          8.7,
          8.9,
          8.9,
          8.5,
          8.8,
          9.1,
          8.8,
          8.8,
          8.8,
          8.8,
          8.7,
          9.1,
          8.4,
          8.3,
          8.4,
          8.1,
          8.2,
          8,
          8,
          8,
          9,
          8.9,
          8.8,
          9,
          8.8,
          7.5
         ],
         "yaxis": "y"
        },
        {
         "customdata": [
          [
           "Marvel Studios: Legends"
          ],
          [
           "Marvel Studios: Legends"
          ],
          [
           "Marvel Studios: Legends"
          ],
          [
           "Marvel Studios: Legends"
          ],
          [
           "Marvel Studios: Legends"
          ],
          [
           "Marvel Studios: Legends"
          ],
          [
           "Marvel Studios: Legends"
          ],
          [
           "Wonder Woman 1984"
          ],
          [
           "Joker"
          ],
          [
           "Arrow"
          ],
          [
           "The Dark Knight"
          ],
          [
           "Watchmen"
          ],
          [
           "Gotham"
          ],
          [
           "Suicide Squad"
          ],
          [
           "The Dark Knight Rises"
          ],
          [
           "Aquaman"
          ],
          [
           "Watchmen"
          ],
          [
           "Man of Steel"
          ],
          [
           "Shazam!"
          ],
          [
           "Batman Begins"
          ],
          [
           "Batman"
          ],
          [
           "Batman: The Animated Series"
          ],
          [
           "Batman & Robin"
          ],
          [
           "Constantine"
          ],
          [
           "Batman Forever"
          ],
          [
           "Superman"
          ],
          [
           "Green Lantern"
          ],
          [
           "Batman Returns"
          ],
          [
           "Supergirl"
          ],
          [
           "Superman Returns"
          ],
          [
           "Teen Titans"
          ],
          [
           "Superman III"
          ],
          [
           "Constantine"
          ],
          [
           "Superman II"
          ],
          [
           "Catwoman"
          ],
          [
           "Batman Beyond"
          ],
          [
           "Adventures of Superman"
          ],
          [
           "Batman: Soul of the Dragon"
          ],
          [
           "The New Batman Adventures"
          ],
          [
           "Superman: The Animated Series"
          ],
          [
           "The Batman"
          ],
          [
           "Swamp Thing"
          ],
          [
           "Batman Ninja"
          ],
          [
           "Batman: Gotham Knight"
          ],
          [
           "Batman: Bad Blood"
          ],
          [
           "Batman: Arkham Asylum"
          ],
          [
           "Wonder Woman"
          ],
          [
           "Constantine: City of Demons"
          ],
          [
           "Batman Beyond: Return of the Joker"
          ],
          [
           "Batman vs. Robin"
          ],
          [
           "Superman: Doomsday"
          ],
          [
           "Superman/Batman: Public Enemies"
          ],
          [
           "Batman Begins"
          ],
          [
           "Batman & Mr. Freeze: SubZero"
          ],
          [
           "The Batman vs. Dracula"
          ],
          [
           "Batman: The Telltale Series"
          ],
          [
           "Green Lantern: First Flight"
          ],
          [
           "Teen Titans: Trouble in Tokyo"
          ],
          [
           "Batman Beyond: The Movie"
          ],
          [
           "Gotham Girls"
          ],
          [
           "Lego Batman: The Videogame"
          ],
          [
           "Lobo"
          ],
          [
           "Superman"
          ],
          [
           "Superman Returns"
          ],
          [
           "Swamp Thing"
          ],
          [
           "Green Arrow"
          ],
          [
           "The Fire Rises: The Creation and Impact of the Dark Knight Trilogy"
          ],
          [
           "The World's Greatest SuperFriends"
          ],
          [
           "Superman 50th Anniversary"
          ],
          [
           "Teen Titans"
          ],
          [
           "You Will Believe: The Cinematic Saga of Superman"
          ],
          [
           "The Science of Superman"
          ],
          [
           "Batman"
          ],
          [
           "First Flight: The Fleischer Superman Series"
          ],
          [
           "DC Nation's Farm League"
          ],
          [
           "Supergirl: The Making of the Movie"
          ],
          [
           "The Making of 'Superman III'"
          ],
          [
           "Shadows of the Bat: The Cinematic Saga of the Dark Knight - Dark Side of the Knight"
          ],
          [
           "Taking Flight: The Development of 'Superman'"
          ],
          [
           "Legends of the Dark Knight: The History of Batman"
          ],
          [
           "Making 'Superman': Filming the Legend"
          ],
          [
           "Batman Begins: Path to Discovery"
          ],
          [
           "Batman: The Journey Begins"
          ],
          [
           "The Mythology of Superman"
          ],
          [
           "The Worst Batman Fanfilm Ever... Period"
          ],
          [
           "Shadows of the Bat: The Cinematic Saga of the Dark Knight - The Legend Reborn"
          ],
          [
           "Shadows of the Bat: The Cinematic Saga of the Dark Knight - The Gathering Storm"
          ],
          [
           "The Making of 'Superman: The Movie'"
          ],
          [
           "Saving Gotham City"
          ],
          [
           "Batman: The Tumbler"
          ],
          [
           "Beyond Batman: Bats, Mattes & Dark Nights - The Visual FX of Batman Returns"
          ],
          [
           "Beyond Batman: Sleek, Sexy and Sinister - The Costumes of Batman Returns"
          ],
          [
           "Wonder Woman: The Ultimate Feminist Icon"
          ],
          [
           "The Complete Robin Storyboard Sequence"
          ],
          [
           "Gotham City Rises"
          ],
          [
           "Shadows of the Bat: The Cinematic Saga of the Dark Knight - The Road to Gotham City"
          ],
          [
           "Beyond Batman: Inside the Elfman Studio - The Music of Batman Returns"
          ],
          [
           "Beyond Batman: Making Up the Penguin"
          ],
          [
           "The Making of 'Superman II'"
          ],
          [
           "Beyond Batman: Assembling the Arctic Army"
          ],
          [
           "Revolutionizing a Classic: From Comic Book to Television - The Evolution of Wonder Woman from Page to Screen"
          ],
          [
           "Superman"
          ],
          [
           "Batman: Night's End"
          ],
          [
           "Guarding the Balance: Batman and the JLA"
          ],
          [
           "Beyond Batman: Gotham City Revisited - The Production Design of Batman Returns"
          ],
          [
           "Shadows of the Bat: The Cinematic Saga of the Dark Knight - Batman Unbound"
          ],
          [
           "The Death and Return of Superman"
          ],
          [
           "Wonder Woman: A Subversive Dream"
          ],
          [
           "Superman: The Mysterious Mr. Mist"
          ],
          [
           "Batman: Partners in Peril"
          ],
          [
           "Batman Beyond"
          ],
          [
           "Batman Beyond"
          ],
          [
           "Batman Beyond"
          ],
          [
           "Batman Beyond"
          ],
          [
           "Batman Beyond"
          ],
          [
           "Batman Beyond"
          ],
          [
           "Batman Beyond"
          ],
          [
           "Batman Beyond"
          ],
          [
           "Batman Beyond"
          ],
          [
           "Batman Beyond"
          ],
          [
           "Batman Beyond"
          ],
          [
           "Batman Beyond"
          ],
          [
           "Batman Beyond"
          ],
          [
           "Batman Beyond"
          ],
          [
           "Batman Beyond"
          ],
          [
           "Batman Beyond"
          ],
          [
           "Batman Beyond"
          ],
          [
           "Batman Beyond"
          ],
          [
           "Batman Beyond"
          ],
          [
           "Batman Beyond"
          ],
          [
           "Batman Beyond"
          ],
          [
           "Batman Beyond"
          ],
          [
           "Batman Beyond"
          ],
          [
           "Batman Beyond"
          ],
          [
           "Batman Beyond"
          ],
          [
           "Batman Beyond"
          ],
          [
           "Batman Beyond"
          ],
          [
           "Batman Beyond"
          ],
          [
           "Batman Beyond"
          ],
          [
           "Batman Beyond"
          ],
          [
           "Batman Beyond"
          ],
          [
           "Batman Beyond"
          ],
          [
           "Batman Beyond"
          ],
          [
           "Batman Beyond"
          ],
          [
           "Batman Beyond"
          ],
          [
           "Batman Beyond"
          ],
          [
           "Batman Beyond"
          ],
          [
           "Batman Beyond"
          ],
          [
           "Batman Beyond"
          ],
          [
           "Batman Beyond"
          ],
          [
           "Batman Beyond"
          ],
          [
           "Batman Beyond"
          ],
          [
           "Batman Beyond"
          ],
          [
           "Batman Beyond"
          ],
          [
           "Batman Beyond"
          ],
          [
           "Batman Beyond"
          ],
          [
           "Batman Beyond"
          ],
          [
           "Batman Beyond"
          ],
          [
           "Batman Beyond"
          ],
          [
           "Batman Beyond"
          ],
          [
           "Batman Beyond"
          ],
          [
           "Batman Beyond"
          ],
          [
           "Batman: The Animated Series"
          ],
          [
           "Batman: The Animated Series"
          ],
          [
           "Batman: The Animated Series"
          ],
          [
           "Batman: The Animated Series"
          ],
          [
           "Batman: The Animated Series"
          ],
          [
           "Batman: The Animated Series"
          ],
          [
           "Batman: The Animated Series"
          ],
          [
           "Batman: The Animated Series"
          ],
          [
           "Batman: The Animated Series"
          ],
          [
           "Batman: The Animated Series"
          ],
          [
           "Batman: The Animated Series"
          ],
          [
           "Batman: The Animated Series"
          ],
          [
           "Batman: The Animated Series"
          ],
          [
           "Batman: The Animated Series"
          ],
          [
           "Batman: The Animated Series"
          ],
          [
           "Batman: The Animated Series"
          ],
          [
           "Batman: The Animated Series"
          ],
          [
           "Batman: The Animated Series"
          ],
          [
           "Batman: The Animated Series"
          ],
          [
           "Batman: The Animated Series"
          ],
          [
           "Batman: The Animated Series"
          ],
          [
           "Batman: The Animated Series"
          ],
          [
           "Batman: The Animated Series"
          ],
          [
           "Batman: The Animated Series"
          ],
          [
           "Batman: The Animated Series"
          ],
          [
           "Batman: The Animated Series"
          ],
          [
           "Batman: The Animated Series"
          ],
          [
           "Batman: The Animated Series"
          ],
          [
           "Batman: The Animated Series"
          ],
          [
           "Batman: The Animated Series"
          ],
          [
           "Batman: The Animated Series"
          ],
          [
           "Batman: The Animated Series"
          ],
          [
           "Batman: The Animated Series"
          ],
          [
           "Batman: The Animated Series"
          ],
          [
           "Batman: The Animated Series"
          ],
          [
           "Batman: The Animated Series"
          ],
          [
           "Batman: The Animated Series"
          ],
          [
           "Batman: The Animated Series"
          ],
          [
           "Batman: The Animated Series"
          ],
          [
           "Batman: The Animated Series"
          ],
          [
           "Batman: The Animated Series"
          ],
          [
           "Batman: The Animated Series"
          ],
          [
           "Batman: The Animated Series"
          ],
          [
           "Batman: The Animated Series"
          ],
          [
           "Batman: The Animated Series"
          ],
          [
           "Batman: The Animated Series"
          ],
          [
           "Batman: The Animated Series"
          ],
          [
           "Batman: The Animated Series"
          ],
          [
           "Batman: The Animated Series"
          ],
          [
           "Batman: The Animated Series"
          ],
          [
           "Batman: The Animated Series"
          ],
          [
           "Batman: The Animated Series"
          ],
          [
           "Batman: The Animated Series"
          ],
          [
           "Batman: The Animated Series"
          ],
          [
           "Batman: The Animated Series"
          ],
          [
           "Batman: The Animated Series"
          ],
          [
           "Batman: The Animated Series"
          ],
          [
           "Batman: The Animated Series"
          ],
          [
           "Batman: The Animated Series"
          ],
          [
           "Batman: The Animated Series"
          ],
          [
           "Batman: The Animated Series"
          ],
          [
           "Batman: The Animated Series"
          ],
          [
           "Batman: The Animated Series"
          ],
          [
           "Batman: The Animated Series"
          ],
          [
           "Batman: The Animated Series"
          ],
          [
           "Batman: The Animated Series"
          ],
          [
           "Batman: The Animated Series"
          ],
          [
           "Batman: The Animated Series"
          ],
          [
           "Batman: The Animated Series"
          ],
          [
           "Batman: The Animated Series"
          ],
          [
           "Batman: The Animated Series"
          ],
          [
           "Batman: The Animated Series"
          ],
          [
           "Batman: The Animated Series"
          ],
          [
           "Batman: The Animated Series"
          ],
          [
           "Batman: The Animated Series"
          ],
          [
           "Batman: The Animated Series"
          ],
          [
           "Batman: The Animated Series"
          ],
          [
           "Batman: The Animated Series"
          ],
          [
           "Batman: The Animated Series"
          ],
          [
           "Batman: The Animated Series"
          ],
          [
           "Batman: The Animated Series"
          ],
          [
           "Batman: The Animated Series"
          ],
          [
           "Batman: The Animated Series"
          ],
          [
           "Batman: The Animated Series"
          ],
          [
           "Batman: The Animated Series"
          ],
          [
           "The Batman"
          ],
          [
           "The Batman"
          ],
          [
           "The Batman"
          ],
          [
           "The Batman"
          ],
          [
           "The Batman"
          ],
          [
           "The Batman"
          ],
          [
           "The Batman"
          ],
          [
           "The Batman"
          ],
          [
           "The Batman"
          ],
          [
           "The Batman"
          ],
          [
           "The Batman"
          ],
          [
           "The Batman"
          ],
          [
           "The Batman"
          ],
          [
           "The Batman"
          ],
          [
           "The Batman"
          ],
          [
           "The Batman"
          ],
          [
           "The Batman"
          ],
          [
           "The Batman"
          ],
          [
           "The Batman"
          ],
          [
           "The Batman"
          ],
          [
           "The Batman"
          ],
          [
           "The Batman"
          ],
          [
           "The Batman"
          ],
          [
           "The Batman"
          ],
          [
           "The Batman"
          ],
          [
           "The Batman"
          ],
          [
           "The Batman"
          ],
          [
           "The Batman"
          ],
          [
           "The Batman"
          ],
          [
           "The Batman"
          ],
          [
           "The Batman"
          ],
          [
           "The Batman"
          ],
          [
           "The Batman"
          ],
          [
           "The Batman"
          ],
          [
           "The New Batman Adventures"
          ],
          [
           "The New Batman Adventures"
          ],
          [
           "The New Batman Adventures"
          ],
          [
           "The New Batman Adventures"
          ],
          [
           "The New Batman Adventures"
          ],
          [
           "The New Batman Adventures"
          ],
          [
           "The New Batman Adventures"
          ],
          [
           "The New Batman Adventures"
          ],
          [
           "The New Batman Adventures"
          ],
          [
           "The New Batman Adventures"
          ],
          [
           "The New Batman Adventures"
          ],
          [
           "The New Batman Adventures"
          ],
          [
           "The New Batman Adventures"
          ],
          [
           "The New Batman Adventures"
          ],
          [
           "The New Batman Adventures"
          ],
          [
           "The New Batman Adventures"
          ],
          [
           "The New Batman Adventures"
          ],
          [
           "The New Batman Adventures"
          ],
          [
           "The New Batman Adventures"
          ],
          [
           "The New Batman Adventures"
          ],
          [
           "The New Batman Adventures"
          ],
          [
           "The New Batman Adventures"
          ],
          [
           "The New Batman Adventures"
          ],
          [
           "The New Batman Adventures"
          ],
          [
           "Superman: The Animated Series"
          ],
          [
           "Superman: The Animated Series"
          ],
          [
           "Superman: The Animated Series"
          ],
          [
           "Teen Titans"
          ],
          [
           "Teen Titans"
          ],
          [
           "Teen Titans"
          ],
          [
           "Teen Titans"
          ],
          [
           "Teen Titans"
          ],
          [
           "Teen Titans"
          ],
          [
           "Teen Titans"
          ],
          [
           "Teen Titans"
          ],
          [
           "Teen Titans"
          ],
          [
           "Teen Titans"
          ],
          [
           "Teen Titans"
          ],
          [
           "The Batman"
          ],
          [
           "The Batman"
          ],
          [
           "The Batman"
          ],
          [
           "The Batman"
          ],
          [
           "The Batman"
          ],
          [
           "The Batman"
          ],
          [
           "The Batman"
          ],
          [
           "The Batman"
          ],
          [
           "The Batman"
          ],
          [
           "The Batman"
          ],
          [
           "The Batman"
          ],
          [
           "The Batman"
          ],
          [
           "The Batman"
          ],
          [
           "The Batman"
          ],
          [
           "The Batman"
          ],
          [
           "The Batman"
          ],
          [
           "The Batman"
          ],
          [
           "Gotham Girls"
          ],
          [
           "Gotham Girls"
          ],
          [
           "Gotham Girls"
          ],
          [
           "Gotham Girls"
          ],
          [
           "Batman: Black and White"
          ],
          [
           "Batman: Black and White"
          ],
          [
           "Batman: Black and White"
          ],
          [
           "Batman: Black and White"
          ],
          [
           "Batman: Black and White"
          ],
          [
           "Batman: Black and White"
          ],
          [
           "Batman: Black and White"
          ],
          [
           "Batman: Black and White"
          ],
          [
           "Batman: Black and White"
          ],
          [
           "Batman: Black and White"
          ],
          [
           "Batman: Black and White"
          ],
          [
           "Batman: Black and White"
          ],
          [
           "Batman: Black and White"
          ],
          [
           "Batman: Black and White"
          ],
          [
           "Batman: Black and White"
          ],
          [
           "Batman: Black and White"
          ],
          [
           "Batman: Black and White"
          ],
          [
           "Batman: Black and White"
          ],
          [
           "Batman: Black and White"
          ],
          [
           "Batman: Black and White"
          ],
          [
           "Gotham Girls"
          ],
          [
           "Gotham Girls"
          ],
          [
           "Gotham Girls"
          ],
          [
           "Gotham Girls"
          ],
          [
           "Gotham Girls"
          ],
          [
           "Gotham Girls"
          ],
          [
           "Gotham Girls"
          ],
          [
           "Gotham Girls"
          ],
          [
           "Gotham Girls"
          ],
          [
           "Gotham Girls"
          ],
          [
           "Gotham Girls"
          ],
          [
           "Gotham Girls"
          ],
          [
           "Gotham Girls"
          ],
          [
           "Gotham Girls"
          ],
          [
           "Gotham Girls"
          ],
          [
           "Gotham Girls"
          ],
          [
           "Gotham Girls"
          ],
          [
           "Gotham Girls"
          ],
          [
           "Gotham Girls"
          ],
          [
           "Gotham Girls"
          ],
          [
           "Gotham Girls"
          ],
          [
           "Gotham Girls"
          ],
          [
           "Gotham Girls"
          ],
          [
           "Gotham Girls"
          ],
          [
           "Gotham Girls"
          ],
          [
           "Gotham Girls"
          ],
          [
           "Gotham Girls"
          ],
          [
           "Arrow"
          ],
          [
           "Arrow"
          ],
          [
           "Arrow"
          ],
          [
           "Arrow"
          ],
          [
           "Arrow"
          ],
          [
           "Arrow"
          ],
          [
           "Arrow"
          ],
          [
           "Gotham"
          ],
          [
           "Beware the Batman"
          ],
          [
           "Constantine"
          ],
          [
           "The Flash"
          ],
          [
           "The Flash"
          ],
          [
           "Constantine"
          ],
          [
           "Gotham"
          ],
          [
           "Constantine"
          ],
          [
           "Gotham"
          ],
          [
           "Gotham"
          ],
          [
           "Gotham"
          ],
          [
           "Constantine"
          ],
          [
           "Constantine"
          ],
          [
           "Constantine"
          ],
          [
           "Constantine"
          ],
          [
           "Gotham"
          ],
          [
           "Gotham"
          ],
          [
           "Gotham"
          ],
          [
           "Constantine"
          ],
          [
           "Gotham"
          ],
          [
           "Constantine"
          ],
          [
           "Gotham"
          ],
          [
           "Gotham"
          ],
          [
           "Gotham"
          ],
          [
           "Gotham"
          ],
          [
           "Gotham"
          ],
          [
           "Gotham"
          ],
          [
           "Gotham"
          ],
          [
           "Gotham"
          ],
          [
           "Gotham"
          ],
          [
           "Gotham"
          ],
          [
           "Gotham"
          ],
          [
           "Gotham"
          ],
          [
           "The Flash"
          ],
          [
           "Gotham"
          ],
          [
           "The Flash"
          ],
          [
           "Constantine"
          ],
          [
           "Constantine"
          ],
          [
           "Constantine"
          ],
          [
           "Constantine"
          ],
          [
           "Arrow"
          ],
          [
           "The Flash"
          ],
          [
           "Gotham"
          ],
          [
           "Gotham"
          ],
          [
           "Gotham"
          ],
          [
           "Gotham"
          ],
          [
           "Gotham"
          ],
          [
           "Gotham"
          ],
          [
           "Gotham"
          ],
          [
           "Gotham"
          ],
          [
           "Gotham"
          ],
          [
           "Gotham"
          ],
          [
           "Gotham"
          ],
          [
           "Gotham"
          ],
          [
           "Gotham"
          ],
          [
           "Gotham"
          ],
          [
           "Gotham"
          ],
          [
           "Gotham"
          ],
          [
           "Gotham"
          ],
          [
           "Gotham"
          ],
          [
           "Gotham"
          ],
          [
           "Gotham"
          ],
          [
           "Gotham"
          ],
          [
           "Gotham"
          ],
          [
           "Supergirl"
          ],
          [
           "Supergirl"
          ],
          [
           "Supergirl"
          ],
          [
           "Supergirl"
          ],
          [
           "Lucifer"
          ],
          [
           "Supergirl"
          ],
          [
           "Lucifer"
          ],
          [
           "Lucifer"
          ],
          [
           "Lucifer"
          ],
          [
           "Lucifer"
          ],
          [
           "Lucifer"
          ],
          [
           "Lucifer"
          ],
          [
           "Lucifer"
          ],
          [
           "Lucifer"
          ],
          [
           "Lucifer"
          ],
          [
           "Lucifer"
          ],
          [
           "Lucifer"
          ],
          [
           "Lucifer"
          ],
          [
           "Supergirl"
          ],
          [
           "Supergirl"
          ],
          [
           "Supergirl"
          ],
          [
           "Supergirl"
          ],
          [
           "Supergirl"
          ],
          [
           "Supergirl"
          ],
          [
           "Supergirl"
          ],
          [
           "Supergirl"
          ],
          [
           "Supergirl"
          ],
          [
           "Supergirl"
          ],
          [
           "Supergirl"
          ],
          [
           "Supergirl"
          ],
          [
           "Supergirl"
          ],
          [
           "Supergirl"
          ],
          [
           "Supergirl"
          ],
          [
           "Gotham"
          ],
          [
           "Gotham"
          ],
          [
           "Lucifer"
          ],
          [
           "Gotham"
          ],
          [
           "Gotham"
          ],
          [
           "Gotham"
          ],
          [
           "Gotham"
          ],
          [
           "Gotham"
          ],
          [
           "Gotham"
          ],
          [
           "Gotham"
          ],
          [
           "Gotham"
          ],
          [
           "Gotham"
          ],
          [
           "Gotham"
          ],
          [
           "Gotham"
          ],
          [
           "Gotham"
          ],
          [
           "Gotham"
          ],
          [
           "Gotham"
          ],
          [
           "Gotham"
          ],
          [
           "Gotham"
          ],
          [
           "Gotham"
          ],
          [
           "Gotham"
          ],
          [
           "Gotham"
          ],
          [
           "Gotham"
          ],
          [
           "Lucifer"
          ],
          [
           "Lucifer"
          ],
          [
           "Lucifer"
          ],
          [
           "Lucifer"
          ],
          [
           "Lucifer"
          ],
          [
           "Lucifer"
          ],
          [
           "Lucifer"
          ],
          [
           "Lucifer"
          ],
          [
           "Lucifer"
          ],
          [
           "Lucifer"
          ],
          [
           "Lucifer"
          ],
          [
           "Lucifer"
          ],
          [
           "Supergirl"
          ],
          [
           "Supergirl"
          ],
          [
           "Supergirl"
          ],
          [
           "Supergirl"
          ],
          [
           "Supergirl"
          ],
          [
           "Supergirl"
          ],
          [
           "Supergirl"
          ],
          [
           "Supergirl"
          ],
          [
           "Supergirl"
          ],
          [
           "Supergirl"
          ],
          [
           "Supergirl"
          ],
          [
           "Supergirl"
          ],
          [
           "Supergirl"
          ],
          [
           "Supergirl"
          ],
          [
           "Supergirl"
          ],
          [
           "Supergirl"
          ],
          [
           "Supergirl"
          ],
          [
           "Supergirl"
          ],
          [
           "Supergirl"
          ],
          [
           "Supergirl"
          ],
          [
           "Supergirl"
          ],
          [
           "Supergirl"
          ],
          [
           "Lobo"
          ],
          [
           "Lobo"
          ],
          [
           "Supergirl"
          ],
          [
           "Lucifer"
          ],
          [
           "Lucifer"
          ],
          [
           "Lucifer"
          ],
          [
           "Lucifer"
          ],
          [
           "Lucifer"
          ],
          [
           "Lucifer"
          ],
          [
           "The Flash"
          ],
          [
           "Gotham"
          ],
          [
           "Gotham"
          ],
          [
           "Supergirl"
          ],
          [
           "Supergirl"
          ],
          [
           "Supergirl"
          ],
          [
           "Supergirl"
          ],
          [
           "Gotham"
          ],
          [
           "Gotham"
          ],
          [
           "Gotham"
          ],
          [
           "Supergirl"
          ],
          [
           "Gotham"
          ],
          [
           "Gotham"
          ],
          [
           "Gotham"
          ],
          [
           "Supergirl"
          ],
          [
           "Gotham"
          ],
          [
           "Gotham"
          ],
          [
           "Supergirl"
          ],
          [
           "Watchmen"
          ],
          [
           "Gotham"
          ],
          [
           "Arrow"
          ],
          [
           "Arrow"
          ],
          [
           "Supergirl"
          ],
          [
           "Supergirl"
          ],
          [
           "Gotham"
          ],
          [
           "Supergirl"
          ],
          [
           "Supergirl"
          ],
          [
           "Supergirl"
          ],
          [
           "Supergirl"
          ],
          [
           "Supergirl"
          ],
          [
           "Gotham"
          ],
          [
           "Gotham"
          ],
          [
           "Gotham"
          ],
          [
           "Gotham"
          ],
          [
           "Supergirl"
          ],
          [
           "Supergirl"
          ],
          [
           "Supergirl"
          ],
          [
           "Supergirl"
          ],
          [
           "Supergirl"
          ],
          [
           "Supergirl"
          ],
          [
           "Supergirl"
          ],
          [
           "Supergirl"
          ],
          [
           "Gotham"
          ],
          [
           "Constantine: City of Demons"
          ],
          [
           "Constantine: City of Demons"
          ],
          [
           "Constantine: City of Demons"
          ],
          [
           "Constantine: City of Demons"
          ],
          [
           "Constantine: City of Demons"
          ],
          [
           "Gotham"
          ],
          [
           "Gotham"
          ],
          [
           "Gotham"
          ],
          [
           "Gotham"
          ],
          [
           "Gotham"
          ],
          [
           "Supergirl"
          ],
          [
           "The Flash"
          ],
          [
           "The Flash"
          ],
          [
           "The Flash"
          ],
          [
           "The Flash"
          ],
          [
           "The Flash"
          ],
          [
           "The Flash"
          ],
          [
           "The Flash"
          ],
          [
           "The Flash"
          ],
          [
           "The Flash"
          ],
          [
           "The Flash"
          ],
          [
           "DC's Legends of Tomorrow"
          ],
          [
           "DC's Legends of Tomorrow"
          ],
          [
           "DC's Legends of Tomorrow"
          ],
          [
           "DC's Legends of Tomorrow"
          ],
          [
           "DC's Legends of Tomorrow"
          ],
          [
           "DC's Legends of Tomorrow"
          ],
          [
           "DC's Legends of Tomorrow"
          ],
          [
           "DC's Legends of Tomorrow"
          ],
          [
           "DC's Legends of Tomorrow"
          ],
          [
           "Gotham"
          ],
          [
           "Gotham"
          ],
          [
           "Gotham"
          ],
          [
           "Gotham"
          ],
          [
           "Gotham"
          ],
          [
           "Gotham"
          ],
          [
           "Gotham"
          ],
          [
           "Gotham"
          ],
          [
           "Gotham"
          ],
          [
           "Gotham"
          ],
          [
           "Gotham"
          ],
          [
           "Gotham"
          ],
          [
           "Lucifer"
          ],
          [
           "Supergirl"
          ],
          [
           "Supergirl"
          ],
          [
           "Supergirl"
          ],
          [
           "Watchmen"
          ],
          [
           "Watchmen"
          ],
          [
           "Watchmen"
          ],
          [
           "Supergirl"
          ],
          [
           "Supergirl"
          ],
          [
           "Supergirl"
          ],
          [
           "Supergirl"
          ],
          [
           "Watchmen"
          ],
          [
           "Watchmen"
          ],
          [
           "Watchmen"
          ],
          [
           "Watchmen"
          ],
          [
           "Supergirl"
          ],
          [
           "Watchmen"
          ],
          [
           "Supergirl"
          ],
          [
           "Black Lightning"
          ],
          [
           "Black Lightning"
          ],
          [
           "Black Lightning"
          ],
          [
           "Supergirl"
          ],
          [
           "Supergirl"
          ],
          [
           "Supergirl"
          ],
          [
           "Supergirl"
          ],
          [
           "Supergirl"
          ],
          [
           "Supergirl"
          ],
          [
           "Arrow"
          ],
          [
           "Supergirl"
          ],
          [
           "Black Lightning"
          ],
          [
           "DC's Legends of Tomorrow"
          ],
          [
           "Supergirl"
          ],
          [
           "Supergirl"
          ],
          [
           "Supergirl"
          ],
          [
           "Supergirl"
          ]
         ],
         "hovertemplate": "dc/marvel=DC<br>Runtime (Minutes)=%{x}<br>IMDb Score=%{y}<br>Movie=%{customdata[0]}<extra></extra>",
         "legendgroup": "DC",
         "marker": {
          "color": "#EF553B",
          "symbol": "circle"
         },
         "mode": "markers",
         "name": "DC",
         "showlegend": true,
         "type": "scattergl",
         "x": [
          "7",
          "7",
          "7",
          "7",
          "8",
          "5",
          "5",
          "151",
          "122",
          "42",
          "152",
          "162",
          "42",
          "123",
          "164",
          "143",
          "527",
          "143",
          "132",
          "140",
          "126",
          "23",
          "125",
          "121",
          "121",
          "143",
          "114",
          "126",
          "124",
          "154",
          "23",
          "125",
          "43",
          "127",
          "104",
          "23",
          "30",
          "83",
          "30",
          "30",
          "30",
          "91",
          "85",
          "75",
          "72",
          "0",
          "74",
          "6",
          "76",
          "80",
          "75",
          "67",
          "0",
          "70",
          "83",
          "0",
          "77",
          "75",
          "132",
          "0",
          "0",
          "2",
          "30",
          "0",
          "30",
          "1",
          "77",
          "30",
          "49",
          "0",
          "89",
          "51",
          "0",
          "13",
          "1",
          "60",
          "48",
          "30",
          "30",
          "41",
          "31",
          "14",
          "14",
          "20",
          "3",
          "31",
          "23",
          "52",
          "13",
          "14",
          "12",
          "13",
          "14",
          "4",
          "13",
          "18",
          "11",
          "8",
          "52",
          "10",
          "0",
          "0",
          "15",
          "19",
          "11",
          "27",
          "0",
          "25",
          "0",
          "0",
          "22",
          "22",
          "22",
          "22",
          "22",
          "22",
          "22",
          "22",
          "22",
          "22",
          "22",
          "22",
          "22",
          "22",
          "22",
          "22",
          "22",
          "22",
          "22",
          "22",
          "22",
          "22",
          "22",
          "22",
          "22",
          "22",
          "22",
          "22",
          "22",
          "22",
          "22",
          "22",
          "22",
          "22",
          "22",
          "22",
          "22",
          "22",
          "22",
          "22",
          "22",
          "22",
          "22",
          "22",
          "22",
          "22",
          "22",
          "22",
          "22",
          "22",
          "22",
          "22",
          "21",
          "22",
          "22",
          "22",
          "22",
          "22",
          "22",
          "22",
          "22",
          "22",
          "22",
          "22",
          "22",
          "22",
          "22",
          "22",
          "22",
          "22",
          "22",
          "22",
          "22",
          "22",
          "22",
          "22",
          "22",
          "22",
          "22",
          "22",
          "22",
          "22",
          "22",
          "22",
          "22",
          "22",
          "22",
          "22",
          "22",
          "22",
          "22",
          "22",
          "22",
          "22",
          "22",
          "22",
          "22",
          "22",
          "22",
          "22",
          "22",
          "22",
          "22",
          "22",
          "22",
          "22",
          "22",
          "22",
          "22",
          "22",
          "22",
          "22",
          "22",
          "22",
          "22",
          "22",
          "22",
          "22",
          "22",
          "22",
          "22",
          "22",
          "22",
          "22",
          "22",
          "22",
          "22",
          "22",
          "22",
          "22",
          "22",
          "22",
          "22",
          "22",
          "22",
          "22",
          "22",
          "22",
          "22",
          "22",
          "21",
          "20",
          "21",
          "22",
          "20",
          "20",
          "20",
          "21",
          "20",
          "21",
          "20",
          "21",
          "20",
          "20",
          "20",
          "20",
          "22",
          "22",
          "21",
          "21",
          "21",
          "19",
          "21",
          "21",
          "22",
          "20",
          "22",
          "20",
          "20",
          "21",
          "21",
          "21",
          "21",
          "22",
          "22",
          "22",
          "22",
          "21",
          "21",
          "22",
          "22",
          "22",
          "21",
          "20",
          "21",
          "22",
          "22",
          "22",
          "22",
          "22",
          "22",
          "22",
          "22",
          "21",
          "20",
          "30",
          "30",
          "30",
          "24",
          "24",
          "24",
          "23",
          "24",
          "24",
          "23",
          "24",
          "24",
          "24",
          "24",
          "22",
          "21",
          "20",
          "22",
          "22",
          "30",
          "23",
          "23",
          "22",
          "23",
          "23",
          "23",
          "23",
          "21",
          "21",
          "30",
          "30",
          "0",
          "0",
          "0",
          "0",
          "3",
          "5",
          "4",
          "4",
          "3",
          "2",
          "4",
          "0",
          "4",
          "6",
          "4",
          "5",
          "5",
          "3",
          "5",
          "10",
          "5",
          "2",
          "4",
          "4",
          "0",
          "0",
          "0",
          "0",
          "0",
          "0",
          "0",
          "0",
          "2",
          "2",
          "0",
          "0",
          "0",
          "0",
          "0",
          "0",
          "0",
          "0",
          "0",
          "0",
          "0",
          "0",
          "0",
          "0",
          "0",
          "0",
          "0",
          "45",
          "45",
          "45",
          "45",
          "45",
          "45",
          "45",
          "50",
          "20",
          "43",
          "42",
          "42",
          "43",
          "43",
          "43",
          "44",
          "45",
          "41",
          "42",
          "43",
          "43",
          "43",
          "44",
          "42",
          "42",
          "43",
          "45",
          "43",
          "43",
          "42",
          "42",
          "45",
          "45",
          "42",
          "44",
          "42",
          "43",
          "40",
          "44",
          "44",
          "42",
          "45",
          "44",
          "43",
          "43",
          "42",
          "44",
          "42",
          "43",
          "45",
          "45",
          "45",
          "45",
          "43",
          "44",
          "44",
          "44",
          "44",
          "44",
          "43",
          "44",
          "43",
          "44",
          "44",
          "44",
          "44",
          "42",
          "43",
          "43",
          "42",
          "44",
          "45",
          "43",
          "43",
          "43",
          "44",
          "43",
          "42",
          "43",
          "44",
          "43",
          "43",
          "43",
          "42",
          "43",
          "44",
          "44",
          "44",
          "43",
          "43",
          "43",
          "43",
          "43",
          "43",
          "43",
          "43",
          "43",
          "43",
          "44",
          "44",
          "44",
          "43",
          "42",
          "41",
          "44",
          "42",
          "44",
          "43",
          "44",
          "44",
          "43",
          "42",
          "44",
          "43",
          "43",
          "43",
          "44",
          "42",
          "42",
          "43",
          "43",
          "42",
          "43",
          "43",
          "43",
          "43",
          "42",
          "43",
          "43",
          "42",
          "44",
          "43",
          "43",
          "43",
          "43",
          "44",
          "43",
          "43",
          "43",
          "42",
          "42",
          "42",
          "42",
          "42",
          "42",
          "42",
          "42",
          "42",
          "42",
          "42",
          "41",
          "42",
          "42",
          "42",
          "42",
          "42",
          "41",
          "41",
          "42",
          "42",
          "42",
          "2",
          "2",
          "42",
          "43",
          "43",
          "43",
          "43",
          "43",
          "43",
          "42",
          "42",
          "43",
          "42",
          "42",
          "42",
          "42",
          "43",
          "43",
          "43",
          "42",
          "43",
          "43",
          "43",
          "42",
          "43",
          "41",
          "42",
          "61",
          "43",
          "41",
          "42",
          "42",
          "42",
          "43",
          "42",
          "42",
          "42",
          "42",
          "42",
          "43",
          "43",
          "43",
          "43",
          "42",
          "42",
          "42",
          "42",
          "41",
          "42",
          "42",
          "42",
          "43",
          "6",
          "6",
          "6",
          "6",
          "6",
          "43",
          "43",
          "43",
          "43",
          "43",
          "42",
          "42",
          "42",
          "42",
          "42",
          "42",
          "42",
          "42",
          "42",
          "42",
          "42",
          "42",
          "42",
          "42",
          "42",
          "42",
          "42",
          "42",
          "42",
          "42",
          "44",
          "44",
          "44",
          "44",
          "44",
          "44",
          "44",
          "44",
          "44",
          "43",
          "44",
          "44",
          "48",
          "40",
          "42",
          "42",
          "55",
          "53",
          "63",
          "42",
          "42",
          "42",
          "42",
          "52",
          "59",
          "58",
          "61",
          "42",
          "67",
          "42",
          "43",
          "41",
          "42",
          "42",
          "42",
          "42",
          "42",
          "42",
          "42",
          "42",
          "42",
          "42",
          "42",
          "42",
          "42",
          "42",
          "42"
         ],
         "xaxis": "x",
         "y": [
          6.5,
          7.7,
          7.6,
          7.5,
          7.7,
          7.5,
          7.4,
          5.4,
          8.4,
          7.5,
          9,
          7.6,
          7.8,
          5.9,
          8.4,
          6.9,
          8.2,
          7,
          7,
          8.2,
          7.5,
          9,
          3.8,
          7,
          5.4,
          7.3,
          5.5,
          7,
          4.4,
          6,
          7.9,
          5,
          7.5,
          6.8,
          3.4,
          8.1,
          7.7,
          6.1,
          8.5,
          8.1,
          7.3,
          5.4,
          5.6,
          6.7,
          6.8,
          9.2,
          7.3,
          7.6,
          7.8,
          7.1,
          7,
          7.2,
          8.2,
          7.2,
          6.6,
          8.1,
          7.1,
          7.1,
          7.8,
          7.4,
          7.9,
          6.8,
          7.1,
          5.5,
          6.3,
          7.7,
          8.1,
          7.5,
          5.7,
          7.2,
          7.9,
          7,
          7.3,
          7,
          6.3,
          5.5,
          6.1,
          7.3,
          7.3,
          7.9,
          7.5,
          7.2,
          7.7,
          7.3,
          7.3,
          7.6,
          7.4,
          7.3,
          7.1,
          7.4,
          7.3,
          6.9,
          7.7,
          7,
          7.3,
          7.5,
          6.8,
          6.8,
          7,
          6.9,
          7.8,
          6.3,
          7.4,
          6.4,
          6.8,
          5.9,
          7.3,
          7.1,
          4.6,
          6.6,
          8.2,
          8.3,
          8.2,
          7.4,
          8.3,
          8.1,
          7.6,
          7.8,
          7.9,
          7.9,
          7.9,
          7.9,
          8,
          8.1,
          8.3,
          8.1,
          7.4,
          7.4,
          8,
          8,
          8.2,
          7.2,
          7.4,
          6.5,
          8,
          8.5,
          7.6,
          7.5,
          8.4,
          7.6,
          7.8,
          7.2,
          8.5,
          8.4,
          7.8,
          8.2,
          8.6,
          7.9,
          8,
          8.4,
          7.3,
          8.6,
          8.7,
          7.7,
          8,
          7.9,
          7.9,
          7.6,
          8.2,
          7.5,
          7.8,
          7.8,
          8.3,
          9.3,
          7.8,
          7.7,
          8,
          8.3,
          7.9,
          7.8,
          9,
          7.9,
          7.7,
          7.5,
          8,
          8.1,
          8.1,
          8.3,
          8.4,
          7.5,
          7.9,
          8.5,
          8.7,
          7.3,
          8.7,
          8.7,
          8.6,
          9.1,
          8.1,
          8.1,
          8.3,
          8.4,
          8.6,
          6.8,
          8.4,
          7.8,
          8.6,
          7.7,
          8.2,
          7.7,
          7.1,
          8.3,
          7.8,
          8.1,
          7.8,
          7.8,
          7.7,
          7.8,
          9,
          8.1,
          6.9,
          8.6,
          8.2,
          8.8,
          8.6,
          8.7,
          7.9,
          8.4,
          8.4,
          7.7,
          8.1,
          7.6,
          7.8,
          7.9,
          7.8,
          7.9,
          8.5,
          8.5,
          7.5,
          8.4,
          7.9,
          8.7,
          7.4,
          8.8,
          7.7,
          8.3,
          7.1,
          7,
          7.5,
          7.7,
          9.1,
          9.2,
          9.1,
          7.2,
          7.8,
          8,
          8.1,
          7.6,
          7.8,
          7.7,
          7.5,
          7.3,
          7.1,
          8.2,
          7.3,
          7.3,
          7.2,
          7.7,
          7.9,
          7.9,
          8.4,
          7.1,
          6.9,
          7.5,
          7.7,
          7.9,
          8.2,
          7.2,
          7.5,
          7.5,
          7,
          7.2,
          7.2,
          7.7,
          7.5,
          8,
          7.4,
          7.2,
          7.9,
          7.3,
          7.5,
          6.9,
          8,
          7.6,
          7.5,
          5.8,
          7,
          8.2,
          7.8,
          8.5,
          7.7,
          8.2,
          8.7,
          8.5,
          7,
          9.4,
          7.4,
          8.3,
          8.9,
          9.3,
          7.9,
          6.9,
          6.9,
          7.1,
          7.6,
          9.1,
          7.5,
          7.6,
          7.6,
          7.6,
          8.4,
          8.4,
          7.4,
          8.7,
          7.8,
          8.1,
          9.4,
          8.3,
          8.7,
          7.4,
          8,
          7.6,
          8.7,
          7.9,
          8.5,
          8,
          8.5,
          7.8,
          8.1,
          8.1,
          8.1,
          9,
          8.1,
          7.2,
          8.2,
          8.4,
          7.2,
          7.2,
          6.5,
          6.7,
          7,
          7.5,
          7.8,
          7.1,
          7.3,
          7,
          8,
          6.5,
          7,
          8.4,
          7.7,
          8,
          7,
          7.1,
          7.3,
          8.4,
          8,
          7.2,
          8,
          7.8,
          7,
          7,
          7,
          6.9,
          6.7,
          6.8,
          6.9,
          6.9,
          7.1,
          6.9,
          7.1,
          7.6,
          6.8,
          7.5,
          7.4,
          7,
          6.7,
          7,
          7.3,
          7.1,
          6.5,
          6.5,
          7.4,
          7.3,
          7.1,
          7.2,
          7.3,
          8.2,
          8.4,
          8.3,
          8.6,
          8.5,
          7.9,
          8.2,
          8,
          8.1,
          7.9,
          8.3,
          8.1,
          7.6,
          8.1,
          8.2,
          7.8,
          7.8,
          8.3,
          8.2,
          8.2,
          8.5,
          7.8,
          8,
          9.1,
          8,
          8.6,
          7.7,
          8.6,
          8.4,
          7.8,
          8.4,
          7.9,
          8.1,
          7.9,
          8.5,
          8,
          8.1,
          8.1,
          8.5,
          8.6,
          9.1,
          9,
          9.6,
          8.1,
          8.2,
          8.3,
          8.2,
          8.3,
          8.3,
          8.4,
          9,
          9.1,
          8.2,
          8.1,
          8.4,
          9,
          8.5,
          9,
          8.5,
          9.1,
          8.2,
          8.2,
          8.3,
          8.6,
          8.4,
          9.1,
          8.3,
          8.6,
          8.7,
          8.2,
          8.2,
          7.1,
          7.2,
          7.9,
          7.2,
          8.8,
          7.4,
          8.5,
          8.1,
          8.2,
          8.7,
          8.2,
          8.3,
          9.1,
          8.8,
          8.4,
          9.1,
          8.7,
          9.2,
          7.7,
          7.6,
          7.9,
          7.3,
          7.6,
          8,
          7.7,
          7.9,
          7.4,
          7.7,
          8.6,
          8.1,
          8.7,
          7.7,
          7.8,
          7.9,
          9.1,
          8.5,
          7.9,
          8,
          8,
          8.3,
          8.1,
          7.9,
          8,
          8.1,
          8.1,
          8.6,
          8,
          8.8,
          9.1,
          8.2,
          8.1,
          8,
          8.3,
          8.2,
          8.5,
          8.6,
          8.5,
          8.2,
          8.6,
          8.9,
          9.2,
          8.9,
          8.7,
          8.8,
          9.1,
          8.8,
          9.1,
          9.5,
          8.3,
          8.1,
          7.7,
          7.8,
          7.7,
          7.6,
          7.7,
          7.7,
          8,
          7.6,
          7.2,
          7.4,
          7.8,
          7.3,
          7.2,
          7.9,
          7.2,
          7.4,
          7.4,
          7.6,
          7.2,
          7.6,
          7.2,
          7.1,
          7.6,
          8.6,
          8.2,
          8.6,
          8.1,
          8.3,
          8.9,
          7.8,
          8.5,
          8.2,
          7.3,
          7.2,
          7.4,
          8.8,
          8.2,
          8,
          8.3,
          7.4,
          8.2,
          8.2,
          8.3,
          8.2,
          8.5,
          8.9,
          7.6,
          8,
          8.6,
          8.3,
          9,
          8.5,
          7.5,
          8,
          7.7,
          7.5,
          7.2,
          7.3,
          7,
          8.3,
          8.3,
          8.8,
          8.5,
          7.4,
          7.5,
          7.4,
          6.8,
          7.2,
          6.2,
          7.2,
          7.5,
          8.6,
          7.7,
          7.9,
          7.8,
          8.2,
          8,
          8.9,
          8.7,
          8.1,
          9.2,
          9,
          7,
          8.1,
          7.8,
          7.7,
          9.1,
          9.1,
          7.6,
          7.2,
          7.5,
          7.9,
          8,
          8,
          7.9,
          7.9,
          8.1,
          7.7,
          8.9,
          7.9,
          8.6,
          8.2,
          8.5,
          8.1,
          8.3,
          8.3,
          8.2,
          8.2,
          8.8,
          7.9,
          7.7,
          8.3,
          8.5,
          8.6,
          9.2,
          7.3,
          7.2,
          6.7,
          7.9,
          8.5,
          9.5,
          8.3,
          6.4,
          6.9,
          7.1,
          8,
          9,
          9,
          9.2,
          7.4,
          8.8,
          6.9,
          6.4,
          6.5,
          7,
          8.1,
          7.3,
          8.6,
          7,
          7.3,
          7.2,
          8.7,
          7.5,
          6.9,
          8.5,
          8.3,
          8.1,
          7.4,
          7.5
         ],
         "yaxis": "y"
        }
       ],
       "layout": {
        "legend": {
         "title": {
          "text": "dc/marvel"
         },
         "tracegroupgap": 0
        },
        "template": {
         "data": {
          "bar": [
           {
            "error_x": {
             "color": "#2a3f5f"
            },
            "error_y": {
             "color": "#2a3f5f"
            },
            "marker": {
             "line": {
              "color": "#E5ECF6",
              "width": 0.5
             },
             "pattern": {
              "fillmode": "overlay",
              "size": 10,
              "solidity": 0.2
             }
            },
            "type": "bar"
           }
          ],
          "barpolar": [
           {
            "marker": {
             "line": {
              "color": "#E5ECF6",
              "width": 0.5
             },
             "pattern": {
              "fillmode": "overlay",
              "size": 10,
              "solidity": 0.2
             }
            },
            "type": "barpolar"
           }
          ],
          "carpet": [
           {
            "aaxis": {
             "endlinecolor": "#2a3f5f",
             "gridcolor": "white",
             "linecolor": "white",
             "minorgridcolor": "white",
             "startlinecolor": "#2a3f5f"
            },
            "baxis": {
             "endlinecolor": "#2a3f5f",
             "gridcolor": "white",
             "linecolor": "white",
             "minorgridcolor": "white",
             "startlinecolor": "#2a3f5f"
            },
            "type": "carpet"
           }
          ],
          "choropleth": [
           {
            "colorbar": {
             "outlinewidth": 0,
             "ticks": ""
            },
            "type": "choropleth"
           }
          ],
          "contour": [
           {
            "colorbar": {
             "outlinewidth": 0,
             "ticks": ""
            },
            "colorscale": [
             [
              0,
              "#0d0887"
             ],
             [
              0.1111111111111111,
              "#46039f"
             ],
             [
              0.2222222222222222,
              "#7201a8"
             ],
             [
              0.3333333333333333,
              "#9c179e"
             ],
             [
              0.4444444444444444,
              "#bd3786"
             ],
             [
              0.5555555555555556,
              "#d8576b"
             ],
             [
              0.6666666666666666,
              "#ed7953"
             ],
             [
              0.7777777777777778,
              "#fb9f3a"
             ],
             [
              0.8888888888888888,
              "#fdca26"
             ],
             [
              1,
              "#f0f921"
             ]
            ],
            "type": "contour"
           }
          ],
          "contourcarpet": [
           {
            "colorbar": {
             "outlinewidth": 0,
             "ticks": ""
            },
            "type": "contourcarpet"
           }
          ],
          "heatmap": [
           {
            "colorbar": {
             "outlinewidth": 0,
             "ticks": ""
            },
            "colorscale": [
             [
              0,
              "#0d0887"
             ],
             [
              0.1111111111111111,
              "#46039f"
             ],
             [
              0.2222222222222222,
              "#7201a8"
             ],
             [
              0.3333333333333333,
              "#9c179e"
             ],
             [
              0.4444444444444444,
              "#bd3786"
             ],
             [
              0.5555555555555556,
              "#d8576b"
             ],
             [
              0.6666666666666666,
              "#ed7953"
             ],
             [
              0.7777777777777778,
              "#fb9f3a"
             ],
             [
              0.8888888888888888,
              "#fdca26"
             ],
             [
              1,
              "#f0f921"
             ]
            ],
            "type": "heatmap"
           }
          ],
          "heatmapgl": [
           {
            "colorbar": {
             "outlinewidth": 0,
             "ticks": ""
            },
            "colorscale": [
             [
              0,
              "#0d0887"
             ],
             [
              0.1111111111111111,
              "#46039f"
             ],
             [
              0.2222222222222222,
              "#7201a8"
             ],
             [
              0.3333333333333333,
              "#9c179e"
             ],
             [
              0.4444444444444444,
              "#bd3786"
             ],
             [
              0.5555555555555556,
              "#d8576b"
             ],
             [
              0.6666666666666666,
              "#ed7953"
             ],
             [
              0.7777777777777778,
              "#fb9f3a"
             ],
             [
              0.8888888888888888,
              "#fdca26"
             ],
             [
              1,
              "#f0f921"
             ]
            ],
            "type": "heatmapgl"
           }
          ],
          "histogram": [
           {
            "marker": {
             "pattern": {
              "fillmode": "overlay",
              "size": 10,
              "solidity": 0.2
             }
            },
            "type": "histogram"
           }
          ],
          "histogram2d": [
           {
            "colorbar": {
             "outlinewidth": 0,
             "ticks": ""
            },
            "colorscale": [
             [
              0,
              "#0d0887"
             ],
             [
              0.1111111111111111,
              "#46039f"
             ],
             [
              0.2222222222222222,
              "#7201a8"
             ],
             [
              0.3333333333333333,
              "#9c179e"
             ],
             [
              0.4444444444444444,
              "#bd3786"
             ],
             [
              0.5555555555555556,
              "#d8576b"
             ],
             [
              0.6666666666666666,
              "#ed7953"
             ],
             [
              0.7777777777777778,
              "#fb9f3a"
             ],
             [
              0.8888888888888888,
              "#fdca26"
             ],
             [
              1,
              "#f0f921"
             ]
            ],
            "type": "histogram2d"
           }
          ],
          "histogram2dcontour": [
           {
            "colorbar": {
             "outlinewidth": 0,
             "ticks": ""
            },
            "colorscale": [
             [
              0,
              "#0d0887"
             ],
             [
              0.1111111111111111,
              "#46039f"
             ],
             [
              0.2222222222222222,
              "#7201a8"
             ],
             [
              0.3333333333333333,
              "#9c179e"
             ],
             [
              0.4444444444444444,
              "#bd3786"
             ],
             [
              0.5555555555555556,
              "#d8576b"
             ],
             [
              0.6666666666666666,
              "#ed7953"
             ],
             [
              0.7777777777777778,
              "#fb9f3a"
             ],
             [
              0.8888888888888888,
              "#fdca26"
             ],
             [
              1,
              "#f0f921"
             ]
            ],
            "type": "histogram2dcontour"
           }
          ],
          "mesh3d": [
           {
            "colorbar": {
             "outlinewidth": 0,
             "ticks": ""
            },
            "type": "mesh3d"
           }
          ],
          "parcoords": [
           {
            "line": {
             "colorbar": {
              "outlinewidth": 0,
              "ticks": ""
             }
            },
            "type": "parcoords"
           }
          ],
          "pie": [
           {
            "automargin": true,
            "type": "pie"
           }
          ],
          "scatter": [
           {
            "fillpattern": {
             "fillmode": "overlay",
             "size": 10,
             "solidity": 0.2
            },
            "type": "scatter"
           }
          ],
          "scatter3d": [
           {
            "line": {
             "colorbar": {
              "outlinewidth": 0,
              "ticks": ""
             }
            },
            "marker": {
             "colorbar": {
              "outlinewidth": 0,
              "ticks": ""
             }
            },
            "type": "scatter3d"
           }
          ],
          "scattercarpet": [
           {
            "marker": {
             "colorbar": {
              "outlinewidth": 0,
              "ticks": ""
             }
            },
            "type": "scattercarpet"
           }
          ],
          "scattergeo": [
           {
            "marker": {
             "colorbar": {
              "outlinewidth": 0,
              "ticks": ""
             }
            },
            "type": "scattergeo"
           }
          ],
          "scattergl": [
           {
            "marker": {
             "colorbar": {
              "outlinewidth": 0,
              "ticks": ""
             }
            },
            "type": "scattergl"
           }
          ],
          "scattermapbox": [
           {
            "marker": {
             "colorbar": {
              "outlinewidth": 0,
              "ticks": ""
             }
            },
            "type": "scattermapbox"
           }
          ],
          "scatterpolar": [
           {
            "marker": {
             "colorbar": {
              "outlinewidth": 0,
              "ticks": ""
             }
            },
            "type": "scatterpolar"
           }
          ],
          "scatterpolargl": [
           {
            "marker": {
             "colorbar": {
              "outlinewidth": 0,
              "ticks": ""
             }
            },
            "type": "scatterpolargl"
           }
          ],
          "scatterternary": [
           {
            "marker": {
             "colorbar": {
              "outlinewidth": 0,
              "ticks": ""
             }
            },
            "type": "scatterternary"
           }
          ],
          "surface": [
           {
            "colorbar": {
             "outlinewidth": 0,
             "ticks": ""
            },
            "colorscale": [
             [
              0,
              "#0d0887"
             ],
             [
              0.1111111111111111,
              "#46039f"
             ],
             [
              0.2222222222222222,
              "#7201a8"
             ],
             [
              0.3333333333333333,
              "#9c179e"
             ],
             [
              0.4444444444444444,
              "#bd3786"
             ],
             [
              0.5555555555555556,
              "#d8576b"
             ],
             [
              0.6666666666666666,
              "#ed7953"
             ],
             [
              0.7777777777777778,
              "#fb9f3a"
             ],
             [
              0.8888888888888888,
              "#fdca26"
             ],
             [
              1,
              "#f0f921"
             ]
            ],
            "type": "surface"
           }
          ],
          "table": [
           {
            "cells": {
             "fill": {
              "color": "#EBF0F8"
             },
             "line": {
              "color": "white"
             }
            },
            "header": {
             "fill": {
              "color": "#C8D4E3"
             },
             "line": {
              "color": "white"
             }
            },
            "type": "table"
           }
          ]
         },
         "layout": {
          "annotationdefaults": {
           "arrowcolor": "#2a3f5f",
           "arrowhead": 0,
           "arrowwidth": 1
          },
          "autotypenumbers": "strict",
          "coloraxis": {
           "colorbar": {
            "outlinewidth": 0,
            "ticks": ""
           }
          },
          "colorscale": {
           "diverging": [
            [
             0,
             "#8e0152"
            ],
            [
             0.1,
             "#c51b7d"
            ],
            [
             0.2,
             "#de77ae"
            ],
            [
             0.3,
             "#f1b6da"
            ],
            [
             0.4,
             "#fde0ef"
            ],
            [
             0.5,
             "#f7f7f7"
            ],
            [
             0.6,
             "#e6f5d0"
            ],
            [
             0.7,
             "#b8e186"
            ],
            [
             0.8,
             "#7fbc41"
            ],
            [
             0.9,
             "#4d9221"
            ],
            [
             1,
             "#276419"
            ]
           ],
           "sequential": [
            [
             0,
             "#0d0887"
            ],
            [
             0.1111111111111111,
             "#46039f"
            ],
            [
             0.2222222222222222,
             "#7201a8"
            ],
            [
             0.3333333333333333,
             "#9c179e"
            ],
            [
             0.4444444444444444,
             "#bd3786"
            ],
            [
             0.5555555555555556,
             "#d8576b"
            ],
            [
             0.6666666666666666,
             "#ed7953"
            ],
            [
             0.7777777777777778,
             "#fb9f3a"
            ],
            [
             0.8888888888888888,
             "#fdca26"
            ],
            [
             1,
             "#f0f921"
            ]
           ],
           "sequentialminus": [
            [
             0,
             "#0d0887"
            ],
            [
             0.1111111111111111,
             "#46039f"
            ],
            [
             0.2222222222222222,
             "#7201a8"
            ],
            [
             0.3333333333333333,
             "#9c179e"
            ],
            [
             0.4444444444444444,
             "#bd3786"
            ],
            [
             0.5555555555555556,
             "#d8576b"
            ],
            [
             0.6666666666666666,
             "#ed7953"
            ],
            [
             0.7777777777777778,
             "#fb9f3a"
            ],
            [
             0.8888888888888888,
             "#fdca26"
            ],
            [
             1,
             "#f0f921"
            ]
           ]
          },
          "colorway": [
           "#636efa",
           "#EF553B",
           "#00cc96",
           "#ab63fa",
           "#FFA15A",
           "#19d3f3",
           "#FF6692",
           "#B6E880",
           "#FF97FF",
           "#FECB52"
          ],
          "font": {
           "color": "#2a3f5f"
          },
          "geo": {
           "bgcolor": "white",
           "lakecolor": "white",
           "landcolor": "#E5ECF6",
           "showlakes": true,
           "showland": true,
           "subunitcolor": "white"
          },
          "hoverlabel": {
           "align": "left"
          },
          "hovermode": "closest",
          "mapbox": {
           "style": "light"
          },
          "paper_bgcolor": "white",
          "plot_bgcolor": "#E5ECF6",
          "polar": {
           "angularaxis": {
            "gridcolor": "white",
            "linecolor": "white",
            "ticks": ""
           },
           "bgcolor": "#E5ECF6",
           "radialaxis": {
            "gridcolor": "white",
            "linecolor": "white",
            "ticks": ""
           }
          },
          "scene": {
           "xaxis": {
            "backgroundcolor": "#E5ECF6",
            "gridcolor": "white",
            "gridwidth": 2,
            "linecolor": "white",
            "showbackground": true,
            "ticks": "",
            "zerolinecolor": "white"
           },
           "yaxis": {
            "backgroundcolor": "#E5ECF6",
            "gridcolor": "white",
            "gridwidth": 2,
            "linecolor": "white",
            "showbackground": true,
            "ticks": "",
            "zerolinecolor": "white"
           },
           "zaxis": {
            "backgroundcolor": "#E5ECF6",
            "gridcolor": "white",
            "gridwidth": 2,
            "linecolor": "white",
            "showbackground": true,
            "ticks": "",
            "zerolinecolor": "white"
           }
          },
          "shapedefaults": {
           "line": {
            "color": "#2a3f5f"
           }
          },
          "ternary": {
           "aaxis": {
            "gridcolor": "white",
            "linecolor": "white",
            "ticks": ""
           },
           "baxis": {
            "gridcolor": "white",
            "linecolor": "white",
            "ticks": ""
           },
           "bgcolor": "#E5ECF6",
           "caxis": {
            "gridcolor": "white",
            "linecolor": "white",
            "ticks": ""
           }
          },
          "title": {
           "x": 0.05
          },
          "xaxis": {
           "automargin": true,
           "gridcolor": "white",
           "linecolor": "white",
           "ticks": "",
           "title": {
            "standoff": 15
           },
           "zerolinecolor": "white",
           "zerolinewidth": 2
          },
          "yaxis": {
           "automargin": true,
           "gridcolor": "white",
           "linecolor": "white",
           "ticks": "",
           "title": {
            "standoff": 15
           },
           "zerolinecolor": "white",
           "zerolinewidth": 2
          }
         }
        },
        "title": {
         "text": "Runtime vs. IMDb Score"
        },
        "xaxis": {
         "anchor": "y",
         "domain": [
          0,
          1
         ],
         "title": {
          "text": "Runtime (Minutes)"
         }
        },
        "yaxis": {
         "anchor": "x",
         "domain": [
          0,
          1
         ],
         "title": {
          "text": "IMDb Score"
         }
        }
       }
      }
     },
     "metadata": {},
     "output_type": "display_data"
    }
   ],
   "source": [
    "# Create a scatter plot for Runtime vs. IMDb Score\n",
    "fig = px.scatter(\n",
    "    df,\n",
    "    x='RunTime(Min)',  # Runtime in minutes\n",
    "    y='IMDB_Score',    # IMDb Score\n",
    "    color='dc/marvel', # Color points by DC or Marvel\n",
    "    title='Runtime vs. IMDb Score',\n",
    "    labels={'RunTime(Min)': 'Runtime (Minutes)', 'IMDB_Score': 'IMDb Score'},\n",
    "    hover_data=['Movie'],  # Show the movie title on hover\n",
    ")\n",
    "\n",
    "\n",
    "fig.show()\n"
   ]
  },
  {
   "cell_type": "markdown",
   "metadata": {},
   "source": [
    "## Distribution of IMDb Scores"
   ]
  },
  {
   "cell_type": "code",
   "execution_count": 38,
   "metadata": {},
   "outputs": [
    {
     "data": {
      "application/vnd.plotly.v1+json": {
       "config": {
        "plotlyServerURL": "https://plot.ly"
       },
       "data": [
        {
         "hovertemplate": "<b>%{hovertext}</b><br><br>dc/marvel=Marvel<br>StartYear=%{x}<br>IMDB_Score=%{y}<br>RunTime(Min)=%{marker.size}<extra></extra>",
         "hovertext": [
          "The Falcon and the Winter Soldier",
          "WandaVision",
          "Avengers: Endgame",
          "Spider-Man: Far from Home",
          "Thor: Ragnarok",
          "Avengers: Infinity War",
          "Black Panther",
          "Captain Marvel",
          "Spider-Man: Homecoming",
          "Avengers: Age of Ultron",
          "Captain America: The First Avenger",
          "Thor",
          "Iron Man",
          "Captain America: Civil War",
          "The Avengers",
          "Doctor Strange",
          "Ant-Man",
          "Captain America: The Winter Soldier",
          "Iron Man 3",
          "Thor: The Dark World",
          "Iron Man 2",
          "Spider-Man 3",
          "Ant-Man and the Wasp",
          "The Incredible Hulk",
          "Fantastic 4: Rise of the Silver Surfer",
          "Punisher: War Zone",
          "Mutant X",
          "X-Men",
          "Iron Man: Armored Adventures",
          "Team Thor",
          "Hulk Vs.",
          "Wolverine",
          "Avengers: Damage Control",
          "Ultimate Avengers: The Movie",
          "The Invincible Iron Man",
          "Blade",
          "Thor: Tales of Asgard",
          "Iron Man and Captain America: Heroes United",
          "Iron Man & Hulk: Heroes United",
          "Lego Marvel Avengers: Climate Conundrum",
          "Marvel Studios: Expanding the Universe",
          "Marvel Studios: Assembling a Universe",
          "Spider-Man Venom Saga",
          "Spider-Man: The Ultimate Villain Showdown",
          "Avengers S.T.A.T.I.O.N.",
          "Iron Man 3: The Prologue",
          "Captain America: Civil War Save a Hero Campaign",
          "X-Men: Evolution",
          "Jessica Jones",
          "Luke Cage",
          "Agents of S.H.I.E.L.D.",
          "The Punisher",
          "Batman v Superman: Dawn of Justice",
          "Justice Society: World War II",
          "Young Justice",
          "Justice League Unlimited",
          "Justice League",
          "Justice League: The Flashpoint Paradox",
          "Justice League: War",
          "Justice League vs. Teen Titans",
          "Justice League: Throne of Atlantis",
          "DC Super Hero Girls",
          "Lego Batman: The Movie - DC Super Heroes Unite",
          "Mortal Kombat vs. DC Universe",
          "JLA Adventures: Trapped in Time",
          "Justice League: Gods and Monsters Chronicles",
          "The Super Powers Team: Galactic Guardians",
          "LEGO DC Comics Super Heroes: Aquaman - Rage of Atlantis",
          "SuperFriends: The Legendary Super Powers Show",
          "The Omen Legacy",
          "Necessary Evil: Super-Villains of DC Comics",
          "Dark Justice",
          "Aquaman: Battle for Atlantis",
          "Batman Returns Villains: Catwoman",
          "Batman Heroes: Harvey Dent",
          "Batman Villains: Bob the Goon",
          "Smallville: Justice and Doom",
          "Batman Returns Villains: The Penguin",
          "Justice League: Alien Invasion",
          "Batman Returns Heroes: Alfred",
          "Batman Returns Villains: Max Shreck",
          "Batman Returns Heroes: Batman",
          "Batman Heroes: Vicki Vale",
          "Shadows of the Bat: The Cinematic Saga of the Dark Knight - Reinventing a Hero",
          "Batman Heroes: Alexander Knox",
          "Batman Heroes: Commissioner Gordon",
          "Superman II: Restoring the Vision",
          "A Sneek Peak at Justice League: Doom",
          "Aquaman: War of the Water Worlds",
          "Heroes",
          "Baggage Battles",
          "Storage Wars",
          "Legends of the Superheroes",
          "Powerless"
         ],
         "legendgroup": "Marvel",
         "marker": {
          "color": "#636efa",
          "size": [
           50,
           350,
           181,
           129,
           130,
           149,
           134,
           123,
           133,
           141,
           124,
           115,
           126,
           147,
           143,
           115,
           117,
           136,
           130,
           112,
           124,
           139,
           118,
           112,
           92,
           103,
           60,
           0,
           22,
           4,
           82,
           23,
           0,
           72,
           83,
           25,
           77,
           71,
           71,
           30,
           12,
           43,
           100,
           79,
           0,
           0,
           0,
           22,
           52,
           55,
           44,
           51,
           152,
           84,
           23,
           23,
           22,
           75,
           79,
           78,
           72,
           3,
           71,
           0,
           52,
           6,
           30,
           77,
           30,
           100,
           99,
           11,
           0,
           5,
           2,
           2,
           0,
           4,
           12,
           4,
           2,
           3,
           2,
           28,
           2,
           2,
           13,
           10,
           0,
           42,
           21,
           22,
           0,
           22
          ],
          "sizemode": "area",
          "sizeref": 0.21875,
          "symbol": "circle"
         },
         "mode": "markers",
         "name": "Marvel",
         "orientation": "v",
         "showlegend": true,
         "type": "scatter",
         "x": [
          null,
          null,
          null,
          null,
          null,
          null,
          null,
          null,
          null,
          null,
          null,
          null,
          null,
          null,
          null,
          null,
          null,
          null,
          null,
          null,
          null,
          null,
          null,
          null,
          null,
          null,
          "2001",
          null,
          "2008",
          "2016",
          "2009",
          "2011",
          "2019",
          "2006",
          "2007",
          null,
          "2011",
          "2014",
          "2013",
          "2020",
          null,
          "2014",
          null,
          "2002",
          "2014",
          null,
          "2016",
          "2000",
          "2015",
          "2016",
          "2013",
          "2017",
          null,
          null,
          "2010",
          "2004",
          "2001",
          "2013",
          "2014",
          "2016",
          "2015",
          "2015",
          "2013",
          "2008",
          "2014",
          "2015",
          "1985",
          "2018",
          null,
          "2001",
          null,
          null,
          "2003",
          "2005",
          "2005",
          "2005",
          "2007",
          "2005",
          null,
          "2005",
          "2005",
          "2005",
          "2005",
          "2005",
          "2005",
          "2005",
          "2006",
          "2011",
          "1996",
          "2006",
          "2012",
          "2010",
          null,
          null
         ],
         "xaxis": "x",
         "y": [
          7.5,
          8.1,
          8.4,
          7.5,
          7.9,
          8.4,
          7.3,
          6.9,
          7.4,
          7.3,
          6.9,
          7,
          7.9,
          7.8,
          8,
          7.5,
          7.3,
          7.7,
          7.1,
          6.9,
          7,
          6.2,
          7,
          6.7,
          5.6,
          5.9,
          5.9,
          6.9,
          6.5,
          8.1,
          7,
          6.4,
          6.6,
          6.7,
          5.9,
          6.5,
          6.3,
          5.5,
          4.7,
          7.3,
          6.8,
          7.4,
          7.7,
          7,
          7.4,
          6.2,
          6,
          7.5,
          8,
          7.7,
          8.6,
          8.6,
          6.4,
          6.4,
          8.6,
          8.7,
          8.5,
          8.1,
          7.2,
          7,
          6.7,
          6,
          6.5,
          6.8,
          5.8,
          7.7,
          7.6,
          5.7,
          7.4,
          6.7,
          6.8,
          5.9,
          3.5,
          6.6,
          6.1,
          7.3,
          6.5,
          6.2,
          8.1,
          6.8,
          6.2,
          6.5,
          7,
          6.6,
          6.2,
          6,
          7.9,
          6,
          7.8,
          7,
          7.4,
          6.9,
          6.1,
          7
         ],
         "yaxis": "y"
        },
        {
         "hovertemplate": "<b>%{hovertext}</b><br><br>dc/marvel=DC<br>StartYear=%{x}<br>IMDB_Score=%{y}<br>RunTime(Min)=%{marker.size}<extra></extra>",
         "hovertext": [
          "Marvel Studios: Legends",
          "Wonder Woman 1984",
          "Joker",
          "Arrow",
          "The Dark Knight",
          "Watchmen",
          "Gotham",
          "Suicide Squad",
          "The Dark Knight Rises",
          "Aquaman",
          "Man of Steel",
          "Shazam!",
          "Batman Begins",
          "Batman",
          "Batman: The Animated Series",
          "Batman & Robin",
          "Constantine",
          "Batman Forever",
          "Superman",
          "Green Lantern",
          "Batman Returns",
          "Supergirl",
          "Superman Returns",
          "Teen Titans",
          "Superman III",
          "Superman II",
          "Catwoman",
          "Batman Beyond",
          "Adventures of Superman",
          "Batman: Soul of the Dragon",
          "The New Batman Adventures",
          "Superman: The Animated Series",
          "The Batman",
          "Swamp Thing",
          "Batman Ninja",
          "Batman: Gotham Knight",
          "Batman: Bad Blood",
          "Batman: Arkham Asylum",
          "Wonder Woman",
          "Constantine: City of Demons",
          "Batman Beyond: Return of the Joker",
          "Batman vs. Robin",
          "Superman: Doomsday",
          "Superman/Batman: Public Enemies",
          "Batman & Mr. Freeze: SubZero",
          "The Batman vs. Dracula",
          "Batman: The Telltale Series",
          "Green Lantern: First Flight",
          "Teen Titans: Trouble in Tokyo",
          "Batman Beyond: The Movie",
          "Gotham Girls",
          "Lego Batman: The Videogame",
          "Lobo",
          "Green Arrow",
          "The Fire Rises: The Creation and Impact of the Dark Knight Trilogy",
          "The World's Greatest SuperFriends",
          "Superman 50th Anniversary",
          "You Will Believe: The Cinematic Saga of Superman",
          "The Science of Superman",
          "First Flight: The Fleischer Superman Series",
          "DC Nation's Farm League",
          "Supergirl: The Making of the Movie",
          "The Making of 'Superman III'",
          "Shadows of the Bat: The Cinematic Saga of the Dark Knight - Dark Side of the Knight",
          "Taking Flight: The Development of 'Superman'",
          "Legends of the Dark Knight: The History of Batman",
          "Making 'Superman': Filming the Legend",
          "Batman Begins: Path to Discovery",
          "Batman: The Journey Begins",
          "The Mythology of Superman",
          "The Worst Batman Fanfilm Ever... Period",
          "Shadows of the Bat: The Cinematic Saga of the Dark Knight - The Legend Reborn",
          "Shadows of the Bat: The Cinematic Saga of the Dark Knight - The Gathering Storm",
          "The Making of 'Superman: The Movie'",
          "Saving Gotham City",
          "Batman: The Tumbler",
          "Beyond Batman: Bats, Mattes & Dark Nights - The Visual FX of Batman Returns",
          "Beyond Batman: Sleek, Sexy and Sinister - The Costumes of Batman Returns",
          "Wonder Woman: The Ultimate Feminist Icon",
          "The Complete Robin Storyboard Sequence",
          "Gotham City Rises",
          "Shadows of the Bat: The Cinematic Saga of the Dark Knight - The Road to Gotham City",
          "Beyond Batman: Inside the Elfman Studio - The Music of Batman Returns",
          "Beyond Batman: Making Up the Penguin",
          "The Making of 'Superman II'",
          "Beyond Batman: Assembling the Arctic Army",
          "Revolutionizing a Classic: From Comic Book to Television - The Evolution of Wonder Woman from Page to Screen",
          "Batman: Night's End",
          "Guarding the Balance: Batman and the JLA",
          "Beyond Batman: Gotham City Revisited - The Production Design of Batman Returns",
          "Shadows of the Bat: The Cinematic Saga of the Dark Knight - Batman Unbound",
          "The Death and Return of Superman",
          "Wonder Woman: A Subversive Dream",
          "Superman: The Mysterious Mr. Mist",
          "Batman: Partners in Peril",
          "Batman: Black and White",
          "Beware the Batman",
          "The Flash",
          "Lucifer",
          "DC's Legends of Tomorrow",
          "Black Lightning"
         ],
         "legendgroup": "DC",
         "marker": {
          "color": "#EF553B",
          "size": [
           7,
           151,
           122,
           42,
           152,
           162,
           42,
           123,
           164,
           143,
           143,
           132,
           140,
           126,
           23,
           125,
           121,
           121,
           143,
           114,
           126,
           124,
           154,
           23,
           125,
           127,
           104,
           23,
           30,
           83,
           30,
           30,
           30,
           91,
           85,
           75,
           72,
           0,
           74,
           6,
           76,
           80,
           75,
           67,
           70,
           83,
           0,
           77,
           75,
           132,
           0,
           0,
           2,
           1,
           77,
           30,
           49,
           89,
           51,
           13,
           1,
           60,
           48,
           30,
           30,
           41,
           31,
           14,
           14,
           20,
           3,
           31,
           23,
           52,
           13,
           14,
           12,
           13,
           14,
           4,
           13,
           18,
           11,
           8,
           52,
           10,
           0,
           15,
           19,
           11,
           27,
           0,
           25,
           0,
           0,
           3,
           20,
           42,
           44,
           42,
           43
          ],
          "sizemode": "area",
          "sizeref": 0.21875,
          "symbol": "circle"
         },
         "mode": "markers",
         "name": "DC",
         "orientation": "v",
         "showlegend": true,
         "type": "scatter",
         "x": [
          "2021",
          null,
          null,
          "2012",
          null,
          null,
          "2014",
          null,
          null,
          null,
          null,
          null,
          null,
          null,
          "1992",
          null,
          null,
          null,
          null,
          null,
          null,
          null,
          null,
          "2003",
          null,
          null,
          null,
          "1999",
          "1952",
          null,
          "1997",
          "1996",
          "2004",
          null,
          null,
          "2008",
          "2016",
          "2009",
          "2009",
          "2018",
          "2000",
          "2015",
          "2007",
          "2009",
          "1998",
          "2005",
          "2016",
          "2009",
          "2006",
          "1999",
          "2000",
          "2008",
          null,
          null,
          "2013",
          "1979",
          "1988",
          "2006",
          "2006",
          "2006",
          "2012",
          "1984",
          "1985",
          "2005",
          "2001",
          "2005",
          "2001",
          "2005",
          "2005",
          "2006",
          null,
          "2005",
          "2005",
          "1980",
          "2005",
          "2005",
          "2005",
          "2005",
          "2005",
          "2005",
          "2005",
          "2005",
          "2005",
          "2005",
          "1982",
          "2005",
          "2005",
          null,
          "2012",
          "2005",
          "2005",
          "1994",
          "2009",
          "1996",
          "1996",
          "2008",
          "2013",
          "2014",
          "2016",
          "2016",
          "2017"
         ],
         "xaxis": "x",
         "y": [
          6.5,
          5.4,
          8.4,
          7.5,
          9,
          7.6,
          7.8,
          5.9,
          8.4,
          6.9,
          7,
          7,
          8.2,
          7.5,
          9,
          3.8,
          7,
          5.4,
          7.3,
          5.5,
          7,
          4.4,
          6,
          7.9,
          5,
          6.8,
          3.4,
          8.1,
          7.7,
          6.1,
          8.5,
          8.1,
          7.3,
          5.4,
          5.6,
          6.7,
          6.8,
          9.2,
          7.3,
          7.6,
          7.8,
          7.1,
          7,
          7.2,
          7.2,
          6.6,
          8.1,
          7.1,
          7.1,
          7.8,
          7.4,
          7.9,
          6.8,
          7.7,
          8.1,
          7.5,
          5.7,
          7.9,
          7,
          7,
          6.3,
          5.5,
          6.1,
          7.3,
          7.3,
          7.9,
          7.5,
          7.2,
          7.7,
          7.3,
          7.3,
          7.6,
          7.4,
          7.3,
          7.1,
          7.4,
          7.3,
          6.9,
          7.7,
          7,
          7.3,
          7.5,
          6.8,
          6.8,
          7,
          6.9,
          7.8,
          7.4,
          6.4,
          6.8,
          5.9,
          7.3,
          7.1,
          4.6,
          6.6,
          7,
          8.1,
          8.3,
          8.8,
          8,
          6.4
         ],
         "yaxis": "y"
        }
       ],
       "layout": {
        "legend": {
         "itemsizing": "constant",
         "title": {
          "text": "dc/marvel"
         },
         "tracegroupgap": 0
        },
        "template": {
         "data": {
          "bar": [
           {
            "error_x": {
             "color": "#2a3f5f"
            },
            "error_y": {
             "color": "#2a3f5f"
            },
            "marker": {
             "line": {
              "color": "#E5ECF6",
              "width": 0.5
             },
             "pattern": {
              "fillmode": "overlay",
              "size": 10,
              "solidity": 0.2
             }
            },
            "type": "bar"
           }
          ],
          "barpolar": [
           {
            "marker": {
             "line": {
              "color": "#E5ECF6",
              "width": 0.5
             },
             "pattern": {
              "fillmode": "overlay",
              "size": 10,
              "solidity": 0.2
             }
            },
            "type": "barpolar"
           }
          ],
          "carpet": [
           {
            "aaxis": {
             "endlinecolor": "#2a3f5f",
             "gridcolor": "white",
             "linecolor": "white",
             "minorgridcolor": "white",
             "startlinecolor": "#2a3f5f"
            },
            "baxis": {
             "endlinecolor": "#2a3f5f",
             "gridcolor": "white",
             "linecolor": "white",
             "minorgridcolor": "white",
             "startlinecolor": "#2a3f5f"
            },
            "type": "carpet"
           }
          ],
          "choropleth": [
           {
            "colorbar": {
             "outlinewidth": 0,
             "ticks": ""
            },
            "type": "choropleth"
           }
          ],
          "contour": [
           {
            "colorbar": {
             "outlinewidth": 0,
             "ticks": ""
            },
            "colorscale": [
             [
              0,
              "#0d0887"
             ],
             [
              0.1111111111111111,
              "#46039f"
             ],
             [
              0.2222222222222222,
              "#7201a8"
             ],
             [
              0.3333333333333333,
              "#9c179e"
             ],
             [
              0.4444444444444444,
              "#bd3786"
             ],
             [
              0.5555555555555556,
              "#d8576b"
             ],
             [
              0.6666666666666666,
              "#ed7953"
             ],
             [
              0.7777777777777778,
              "#fb9f3a"
             ],
             [
              0.8888888888888888,
              "#fdca26"
             ],
             [
              1,
              "#f0f921"
             ]
            ],
            "type": "contour"
           }
          ],
          "contourcarpet": [
           {
            "colorbar": {
             "outlinewidth": 0,
             "ticks": ""
            },
            "type": "contourcarpet"
           }
          ],
          "heatmap": [
           {
            "colorbar": {
             "outlinewidth": 0,
             "ticks": ""
            },
            "colorscale": [
             [
              0,
              "#0d0887"
             ],
             [
              0.1111111111111111,
              "#46039f"
             ],
             [
              0.2222222222222222,
              "#7201a8"
             ],
             [
              0.3333333333333333,
              "#9c179e"
             ],
             [
              0.4444444444444444,
              "#bd3786"
             ],
             [
              0.5555555555555556,
              "#d8576b"
             ],
             [
              0.6666666666666666,
              "#ed7953"
             ],
             [
              0.7777777777777778,
              "#fb9f3a"
             ],
             [
              0.8888888888888888,
              "#fdca26"
             ],
             [
              1,
              "#f0f921"
             ]
            ],
            "type": "heatmap"
           }
          ],
          "heatmapgl": [
           {
            "colorbar": {
             "outlinewidth": 0,
             "ticks": ""
            },
            "colorscale": [
             [
              0,
              "#0d0887"
             ],
             [
              0.1111111111111111,
              "#46039f"
             ],
             [
              0.2222222222222222,
              "#7201a8"
             ],
             [
              0.3333333333333333,
              "#9c179e"
             ],
             [
              0.4444444444444444,
              "#bd3786"
             ],
             [
              0.5555555555555556,
              "#d8576b"
             ],
             [
              0.6666666666666666,
              "#ed7953"
             ],
             [
              0.7777777777777778,
              "#fb9f3a"
             ],
             [
              0.8888888888888888,
              "#fdca26"
             ],
             [
              1,
              "#f0f921"
             ]
            ],
            "type": "heatmapgl"
           }
          ],
          "histogram": [
           {
            "marker": {
             "pattern": {
              "fillmode": "overlay",
              "size": 10,
              "solidity": 0.2
             }
            },
            "type": "histogram"
           }
          ],
          "histogram2d": [
           {
            "colorbar": {
             "outlinewidth": 0,
             "ticks": ""
            },
            "colorscale": [
             [
              0,
              "#0d0887"
             ],
             [
              0.1111111111111111,
              "#46039f"
             ],
             [
              0.2222222222222222,
              "#7201a8"
             ],
             [
              0.3333333333333333,
              "#9c179e"
             ],
             [
              0.4444444444444444,
              "#bd3786"
             ],
             [
              0.5555555555555556,
              "#d8576b"
             ],
             [
              0.6666666666666666,
              "#ed7953"
             ],
             [
              0.7777777777777778,
              "#fb9f3a"
             ],
             [
              0.8888888888888888,
              "#fdca26"
             ],
             [
              1,
              "#f0f921"
             ]
            ],
            "type": "histogram2d"
           }
          ],
          "histogram2dcontour": [
           {
            "colorbar": {
             "outlinewidth": 0,
             "ticks": ""
            },
            "colorscale": [
             [
              0,
              "#0d0887"
             ],
             [
              0.1111111111111111,
              "#46039f"
             ],
             [
              0.2222222222222222,
              "#7201a8"
             ],
             [
              0.3333333333333333,
              "#9c179e"
             ],
             [
              0.4444444444444444,
              "#bd3786"
             ],
             [
              0.5555555555555556,
              "#d8576b"
             ],
             [
              0.6666666666666666,
              "#ed7953"
             ],
             [
              0.7777777777777778,
              "#fb9f3a"
             ],
             [
              0.8888888888888888,
              "#fdca26"
             ],
             [
              1,
              "#f0f921"
             ]
            ],
            "type": "histogram2dcontour"
           }
          ],
          "mesh3d": [
           {
            "colorbar": {
             "outlinewidth": 0,
             "ticks": ""
            },
            "type": "mesh3d"
           }
          ],
          "parcoords": [
           {
            "line": {
             "colorbar": {
              "outlinewidth": 0,
              "ticks": ""
             }
            },
            "type": "parcoords"
           }
          ],
          "pie": [
           {
            "automargin": true,
            "type": "pie"
           }
          ],
          "scatter": [
           {
            "fillpattern": {
             "fillmode": "overlay",
             "size": 10,
             "solidity": 0.2
            },
            "type": "scatter"
           }
          ],
          "scatter3d": [
           {
            "line": {
             "colorbar": {
              "outlinewidth": 0,
              "ticks": ""
             }
            },
            "marker": {
             "colorbar": {
              "outlinewidth": 0,
              "ticks": ""
             }
            },
            "type": "scatter3d"
           }
          ],
          "scattercarpet": [
           {
            "marker": {
             "colorbar": {
              "outlinewidth": 0,
              "ticks": ""
             }
            },
            "type": "scattercarpet"
           }
          ],
          "scattergeo": [
           {
            "marker": {
             "colorbar": {
              "outlinewidth": 0,
              "ticks": ""
             }
            },
            "type": "scattergeo"
           }
          ],
          "scattergl": [
           {
            "marker": {
             "colorbar": {
              "outlinewidth": 0,
              "ticks": ""
             }
            },
            "type": "scattergl"
           }
          ],
          "scattermapbox": [
           {
            "marker": {
             "colorbar": {
              "outlinewidth": 0,
              "ticks": ""
             }
            },
            "type": "scattermapbox"
           }
          ],
          "scatterpolar": [
           {
            "marker": {
             "colorbar": {
              "outlinewidth": 0,
              "ticks": ""
             }
            },
            "type": "scatterpolar"
           }
          ],
          "scatterpolargl": [
           {
            "marker": {
             "colorbar": {
              "outlinewidth": 0,
              "ticks": ""
             }
            },
            "type": "scatterpolargl"
           }
          ],
          "scatterternary": [
           {
            "marker": {
             "colorbar": {
              "outlinewidth": 0,
              "ticks": ""
             }
            },
            "type": "scatterternary"
           }
          ],
          "surface": [
           {
            "colorbar": {
             "outlinewidth": 0,
             "ticks": ""
            },
            "colorscale": [
             [
              0,
              "#0d0887"
             ],
             [
              0.1111111111111111,
              "#46039f"
             ],
             [
              0.2222222222222222,
              "#7201a8"
             ],
             [
              0.3333333333333333,
              "#9c179e"
             ],
             [
              0.4444444444444444,
              "#bd3786"
             ],
             [
              0.5555555555555556,
              "#d8576b"
             ],
             [
              0.6666666666666666,
              "#ed7953"
             ],
             [
              0.7777777777777778,
              "#fb9f3a"
             ],
             [
              0.8888888888888888,
              "#fdca26"
             ],
             [
              1,
              "#f0f921"
             ]
            ],
            "type": "surface"
           }
          ],
          "table": [
           {
            "cells": {
             "fill": {
              "color": "#EBF0F8"
             },
             "line": {
              "color": "white"
             }
            },
            "header": {
             "fill": {
              "color": "#C8D4E3"
             },
             "line": {
              "color": "white"
             }
            },
            "type": "table"
           }
          ]
         },
         "layout": {
          "annotationdefaults": {
           "arrowcolor": "#2a3f5f",
           "arrowhead": 0,
           "arrowwidth": 1
          },
          "autotypenumbers": "strict",
          "coloraxis": {
           "colorbar": {
            "outlinewidth": 0,
            "ticks": ""
           }
          },
          "colorscale": {
           "diverging": [
            [
             0,
             "#8e0152"
            ],
            [
             0.1,
             "#c51b7d"
            ],
            [
             0.2,
             "#de77ae"
            ],
            [
             0.3,
             "#f1b6da"
            ],
            [
             0.4,
             "#fde0ef"
            ],
            [
             0.5,
             "#f7f7f7"
            ],
            [
             0.6,
             "#e6f5d0"
            ],
            [
             0.7,
             "#b8e186"
            ],
            [
             0.8,
             "#7fbc41"
            ],
            [
             0.9,
             "#4d9221"
            ],
            [
             1,
             "#276419"
            ]
           ],
           "sequential": [
            [
             0,
             "#0d0887"
            ],
            [
             0.1111111111111111,
             "#46039f"
            ],
            [
             0.2222222222222222,
             "#7201a8"
            ],
            [
             0.3333333333333333,
             "#9c179e"
            ],
            [
             0.4444444444444444,
             "#bd3786"
            ],
            [
             0.5555555555555556,
             "#d8576b"
            ],
            [
             0.6666666666666666,
             "#ed7953"
            ],
            [
             0.7777777777777778,
             "#fb9f3a"
            ],
            [
             0.8888888888888888,
             "#fdca26"
            ],
            [
             1,
             "#f0f921"
            ]
           ],
           "sequentialminus": [
            [
             0,
             "#0d0887"
            ],
            [
             0.1111111111111111,
             "#46039f"
            ],
            [
             0.2222222222222222,
             "#7201a8"
            ],
            [
             0.3333333333333333,
             "#9c179e"
            ],
            [
             0.4444444444444444,
             "#bd3786"
            ],
            [
             0.5555555555555556,
             "#d8576b"
            ],
            [
             0.6666666666666666,
             "#ed7953"
            ],
            [
             0.7777777777777778,
             "#fb9f3a"
            ],
            [
             0.8888888888888888,
             "#fdca26"
            ],
            [
             1,
             "#f0f921"
            ]
           ]
          },
          "colorway": [
           "#636efa",
           "#EF553B",
           "#00cc96",
           "#ab63fa",
           "#FFA15A",
           "#19d3f3",
           "#FF6692",
           "#B6E880",
           "#FF97FF",
           "#FECB52"
          ],
          "font": {
           "color": "#2a3f5f"
          },
          "geo": {
           "bgcolor": "white",
           "lakecolor": "white",
           "landcolor": "#E5ECF6",
           "showlakes": true,
           "showland": true,
           "subunitcolor": "white"
          },
          "hoverlabel": {
           "align": "left"
          },
          "hovermode": "closest",
          "mapbox": {
           "style": "light"
          },
          "paper_bgcolor": "white",
          "plot_bgcolor": "#E5ECF6",
          "polar": {
           "angularaxis": {
            "gridcolor": "white",
            "linecolor": "white",
            "ticks": ""
           },
           "bgcolor": "#E5ECF6",
           "radialaxis": {
            "gridcolor": "white",
            "linecolor": "white",
            "ticks": ""
           }
          },
          "scene": {
           "xaxis": {
            "backgroundcolor": "#E5ECF6",
            "gridcolor": "white",
            "gridwidth": 2,
            "linecolor": "white",
            "showbackground": true,
            "ticks": "",
            "zerolinecolor": "white"
           },
           "yaxis": {
            "backgroundcolor": "#E5ECF6",
            "gridcolor": "white",
            "gridwidth": 2,
            "linecolor": "white",
            "showbackground": true,
            "ticks": "",
            "zerolinecolor": "white"
           },
           "zaxis": {
            "backgroundcolor": "#E5ECF6",
            "gridcolor": "white",
            "gridwidth": 2,
            "linecolor": "white",
            "showbackground": true,
            "ticks": "",
            "zerolinecolor": "white"
           }
          },
          "shapedefaults": {
           "line": {
            "color": "#2a3f5f"
           }
          },
          "ternary": {
           "aaxis": {
            "gridcolor": "white",
            "linecolor": "white",
            "ticks": ""
           },
           "baxis": {
            "gridcolor": "white",
            "linecolor": "white",
            "ticks": ""
           },
           "bgcolor": "#E5ECF6",
           "caxis": {
            "gridcolor": "white",
            "linecolor": "white",
            "ticks": ""
           }
          },
          "title": {
           "x": 0.05
          },
          "xaxis": {
           "automargin": true,
           "gridcolor": "white",
           "linecolor": "white",
           "ticks": "",
           "title": {
            "standoff": 15
           },
           "zerolinecolor": "white",
           "zerolinewidth": 2
          },
          "yaxis": {
           "automargin": true,
           "gridcolor": "white",
           "linecolor": "white",
           "ticks": "",
           "title": {
            "standoff": 15
           },
           "zerolinecolor": "white",
           "zerolinewidth": 2
          }
         }
        },
        "title": {
         "text": "Duration and IMDb Rating for Marvel and DC Films"
        },
        "xaxis": {
         "anchor": "y",
         "domain": [
          0,
          1
         ],
         "title": {
          "text": "StartYear"
         }
        },
        "yaxis": {
         "anchor": "x",
         "domain": [
          0,
          1
         ],
         "title": {
          "text": "IMDB_Score"
         }
        }
       }
      }
     },
     "metadata": {},
     "output_type": "display_data"
    },
    {
     "data": {
      "text/plain": [
       "<Figure size 1200x700 with 0 Axes>"
      ]
     },
     "metadata": {},
     "output_type": "display_data"
    }
   ],
   "source": [
    "df_unique['IMDB_Score'] = pd.to_numeric(df_unique['IMDB_Score'], errors='coerce')\n",
    "df_unique['RunTime(Min)'] = pd.to_numeric(df_unique['RunTime(Min)'], errors='coerce')\n",
    "\n",
    "# Drop rows with NaN values in 'IMDB_Score' or 'RunTime(Min)'\n",
    "df_unique_cleaned = df_unique.dropna(subset=['IMDB_Score', 'RunTime(Min)'])\n",
    "\n",
    "# size\n",
    "plt.figure(figsize=(12, 7))\n",
    "# Create the scatter plot\n",
    "fig = px.scatter(\n",
    "    df_unique_cleaned,\n",
    "    x='StartYear',\n",
    "    y='IMDB_Score',\n",
    "    size='RunTime(Min)', \n",
    "    size_max=40,\n",
    "    color='dc/marvel',\n",
    "    hover_name='Movie',\n",
    "    title='Duration and IMDb Rating for Marvel and DC Films'\n",
    ")\n",
    "\n",
    "# Show the plot\n",
    "fig.show()"
   ]
  },
  {
   "cell_type": "markdown",
   "metadata": {},
   "source": [
    "## Inspiration 🧑‍💻 [Link](https://www.kaggle.com/code/timurkhabirovich/marvel-vs-dc-networked)"
   ]
  }
 ],
 "metadata": {
  "kernelspec": {
   "display_name": "Python 3",
   "language": "python",
   "name": "python3"
  },
  "language_info": {
   "codemirror_mode": {
    "name": "ipython",
    "version": 3
   },
   "file_extension": ".py",
   "mimetype": "text/x-python",
   "name": "python",
   "nbconvert_exporter": "python",
   "pygments_lexer": "ipython3",
   "version": "3.12.3"
  }
 },
 "nbformat": 4,
 "nbformat_minor": 2
}
